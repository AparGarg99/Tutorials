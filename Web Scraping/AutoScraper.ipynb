{
 "cells": [
  {
   "cell_type": "markdown",
   "metadata": {},
   "source": [
    "![autoscrape](https://user-images.githubusercontent.com/54896849/115991908-6fb41280-a5e8-11eb-8f21-3e8d013d0e40.jpeg)"
   ]
  },
  {
   "cell_type": "markdown",
   "metadata": {},
   "source": [
    "```\n",
    "AutoScraper is an automatic web scraping library to make scraping easy.\n",
    "In this tutorial, I'll show how to use AutoScraper to scrape Amazon.in and Flipkart.com```"
   ]
  },
  {
   "cell_type": "markdown",
   "metadata": {},
   "source": [
    "# Import Libraries"
   ]
  },
  {
   "cell_type": "code",
   "execution_count": 1,
   "metadata": {},
   "outputs": [],
   "source": [
    "from autoscraper import AutoScraper\n",
    "import pandas as pd"
   ]
  },
  {
   "cell_type": "markdown",
   "metadata": {},
   "source": [
    "# Train - Build Scraper using Incremental Learning"
   ]
  },
  {
   "cell_type": "code",
   "execution_count": 2,
   "metadata": {},
   "outputs": [],
   "source": [
    "# Suppose we want to make a price scraper to work with multiple websites. \n",
    "# I fed some sample data to the scraper for training. \n",
    "\n",
    "data = [\n",
    "    # Amazon\n",
    "   ('https://www.amazon.in/s?bbn=1389401031&rh=n%3A1389401031%2Cp_89%3ARedmi&dc&qid=1619345402&rnid=3837712031&ref=lp_1389401031_nr_p_89_0',\n",
    "    ['Redmi Note 10 (Shadow Black, 4GB RAM, 64GB Storage)','₹11,999']\n",
    "   ),\n",
    "    \n",
    "    ('https://www.amazon.in/s?i=computers&bbn=1375424031&rh=n%3A976392031%2Cn%3A1375424031%2Cp_89%3AMI%7CSamsung&dc&qid=1619345741&rnid=3837712031&ref=sr_nr_p_89_6',\n",
    "     ['Mi Notebook 14 Intel core i3-10110U 10th Gen FHD Ultra Thin and Light Laptop (8GB/256GB SSD/Windows 10, Home/Intel UHD Graphics/Silver/1.5Kg), XMA1901-FI','₹37,999']\n",
    "    ),\n",
    "    \n",
    "    # Flipkart\n",
    "    ('https://www.flipkart.com/mobiles/mi~brand/pr?sid=tyy,4io&otracker=nmenu_sub_Electronics_0_Mi',\n",
    "    ['Redmi 9 Prime (Mint Green, 64 GB)','₹9,999']\n",
    "    ),\n",
    "    \n",
    "    ('https://www.flipkart.com/televisions/pr?sid=ckf%2Cczl&p%5B%5D=facets.brand%255B%255D%3DRealme&otracker=nmenu_sub_TVs%20%26%20Appliances_0_realme',\n",
    "    ['realme 80 cm (32 inch) HD Ready LED Smart Android TV','₹14,999']\n",
    "    )\n",
    "   \n",
    "]\n",
    "\n",
    "scraper = AutoScraper()\n",
    "for url, wanted_list in data:\n",
    "    scraper.build(url=url, wanted_list=wanted_list, update=True)"
   ]
  },
  {
   "cell_type": "markdown",
   "metadata": {},
   "source": [
    "# Test Scraper"
   ]
  },
  {
   "cell_type": "code",
   "execution_count": 3,
   "metadata": {
    "scrolled": false
   },
   "outputs": [
    {
     "name": "stdout",
     "output_type": "stream",
     "text": [
      "Amazon test\n",
      "********************\n",
      "Enter link : https://www.amazon.in/s?i=computers&bbn=1375424031&rh=n%3A976392031%2Cn%3A1375424031%2Cp_89%3AHP&dc&qid=1619345854&rnid=3837712031&ref=sr_nr_p_89_7\n",
      "{'rule_kfnn': ['HP 15 Entry Level 15.6-inch HD Laptop (AMD 3020e/4GB/1TB HDD/Windows 10 Home/Jet Black/1.74 Kg), 15s-gy0003AU', 'HP 14 (2021) Thin & Light 11th Gen Core i3 Laptop, 8 GB RAM, 256GB SSD, 14-inch FHD Screen, Windows 10, MS Office, Alexa Built-in (14s-dy2500TU)', 'HP 15 (2021) Thin & Light Ryzen 3-3250 Laptop, 8 GB RAM, 1TB HDD + 256GB SSD, 15-inch FHD Screen, Windows 10, MS Office (15s-gr0012AU)', 'HP 15 (2021) Thin & Light 11th Gen Core i3 Laptop, 8 GB RAM, 1TB HDD, 15.6-inch FHD Screen, Windows 10, MS Office (15s-dy3001TU)', 'HP 15 (2021) Thin & Light Ryzen 3-3250 Laptop, 8 GB RAM, 1TB HDD, 15-inch FHD Screen, Windows 10, MS Office (15s-gr0011AU)', 'HP 15 (2021) Thin & Light 11th Gen Core i5 Laptop, 8 GB RAM, 512GB SSD, 15.6-inch FHD Screen, Windows 10, MS Office, Built-in Alexa Built-in (15s-fq2535TU)', 'HP Chromebook 14a-na0003TU 14-inch Thin & Light Touchscreen Laptop (Intel N4020/4GB/64GB SSD + 256GB Expandable/Chrome OS/1.46 kgs Light), Mineral Silver', 'HP Pavilion x360 (2021) 14\" FHD Touchscreen Laptop, 11th Gen Core i5, 8 GB RAM, 512GB SSD, 2-in-1 Convertible, Windows 10, MS Office, Finger Print Reader (14-dw1038TU)', 'HP Pavilion Gaming 9th Gen Intel Core i5 Processor 15.6-inch Laptop (Core i5-9300H/8GB/512GB SSD/Windows 10 Home/4GB NVIDIA GeForce GTX 1650 Graphics/Shadow Black), 15-dk0268tx', 'HP 14 Laptop (Ryzen 5 3500U/8GB/1TB HDD + 256GB SSD/Win 10/Microsoft Office 2019/Radeon Vega 8 Graphics), DK0093AU', 'HP Pavilion Gaming Laptop, Ryzen 5-4600H, 15.6-inch 144 Hz FHD Screen, 8 GB RAM, 4 GB NVIDIA 1650ti Graphics, 512 GB SSD, Windows 10 with Advanced Thermal Management, 15-ec1051AX', 'HP 14s core i5 10th Gen 14 inch FHD Laptop (8 GB/256 GB SSD/1TB HDD/Windows 10/MS Office 2019/Natural Silver /1.43kg) 14s-cr2000tu', 'HP 15 11th Gen Intel Core i3 Processor 15.6-inch FHD Laptop (8GB/512GB SSD/Win 10/MS Offce/Integrated Graphics/Natural Silver/1.69 Kg), 15s-fr2006TU', 'HP 15 Intel Pentium Gold 6405U Processor Entry Level Laptop (4GB/1TB/Win 10/Jet Black/1.74kg), 15s-du1052tu, 39.6 cm (15.6-inch)', 'HP 15 Ryzen 5 Processor 15.6-inch(39.6 cm) FHD Laptop (8GB/512GB SSD/Windows 10/Vega 8 Graphics/MS Office/Natural Silver/1.69Kg), 15s-eq0500AU', 'HP Pavilion (2021) Thin & Light 11th Gen Core i5 Laptop, 16 GB RAM, 512GB SSD, Iris Xe Graphics, 14-inch FHD Screen, Windows 10, MS Office, Backlit Keyboard (14-dv0054TU)', 'HP 15 Thin & Light Ryzen 3-3250 Laptop, 4 GB RAM, 1TB HDD, 15-inch FHD Screen, Windows 10, MS Office (15s-gr0006au)', 'HP Pavilion x360 Touchscreen 2-in-1 FHD Laptop (10th Gen Core i3-10110U/8GB/512GB SSD/Win 10/MS Office/Mineral Silver/1.58 kg), 14-dh1178tu, 35.6 cm (14-inch)', 'HP Pavilion x360 Touchscreen 2-in-1 FHD 14-inch Laptop 14-inch Laptop (10th Gen Core i5-10210U/8GB/512GB SSD/Win 10/MS Office/Mineral Silver/1.58 kg), 14-dh1179tu', 'HP 245 G7 AMD Ryzen 5 - 3500U 14 inch Laptop (8GB RAM/1TB HDD/Windows 10 /Radeon Vega 8 Graphics/NO ODD) 2D5X7PA (1.52kg,Dark ash Silver)', 'HP Envy x360 Convertible Touchscreen 13.3-inch FHD Laptop (3rd Gen Ryzen 5 4500U/8GB/512GB SSD/Win 10 Home/Night Fall Black/1.32kg), 13-ay0045AU', 'HP 15 Thin & Light 15.6-inch FHD Laptop (11th Gen Intel Core i5-1135G7, 8GB DDR4, 256GB SSD + 1TB HDD, Win 10 Home, MS Office, 2GB MX350 Graphics, FPR, Natural Silver, 1.76 Kg), 15s-du3047TX', 'HP Pavilion Gaming 10th Gen Intel Core i7 Processor 15.6-inch FHD Gaming Laptop (16GB/512GB SSD + 32GB Intel Optane/Windows 10/NVIDIA 1650 4GB/Shadow Black), 15-dk1151TX', 'HP Pavilion x360 (2021) 14\" FHD Touchscreen Laptop, 11th Gen Core i3, 8 GB RAM, 512GB SSD, 2-in-1 Convertible, Windows 10, MS Office, Finger Print Reader (14-dw1037TU)'], 'rule_ello': ['HP 15 Entry Level 15.6-inch HD Laptop (AMD 3020e/4GB/1TB HDD/Windows 10 Home/Jet Black/1.74 Kg), 15s-gy0003AU', 'HP 14 (2021) Thin & Light 11th Gen Core i3 Laptop, 8 GB RAM, 256GB SSD, 14-inch FHD Screen, Windows 10, MS Office, Alexa B...', 'HP 15 (2021) Thin & Light Ryzen 3-3250 Laptop, 8 GB RAM, 1TB HDD + 256GB SSD, 15-inch FHD Screen, Windows 10, MS Office (1...', 'HP 15 (2021) Thin & Light 11th Gen Core i3 Laptop, 8 GB RAM, 1TB HDD, 15.6-inch FHD Screen, Windows 10, MS Office (15s-dy3...', 'HP 15 (2021) Thin & Light Ryzen 3-3250 Laptop, 8 GB RAM, 1TB HDD, 15-inch FHD Screen, Windows 10, MS Office (15s-gr0011AU)', 'HP 15 (2021) Thin & Light 11th Gen Core i5 Laptop, 8 GB RAM, 512GB SSD, 15.6-inch FHD Screen, Windows 10, MS Office, Built...', 'HP Chromebook 14a-na0003TU 14-inch Thin & Light Touchscreen Laptop (Intel N4020/4GB/64GB SSD + 256GB Expandable/Chrome OS/...', 'HP Pavilion x360 (2021) 14', 'HP Pavilion Gaming 9th Gen Intel Core i5 Processor 15.6-inch Laptop (Core i5-9300H/8GB/512GB SSD/Windows 10 Home/4GB NVIDI...', 'HP 14 Laptop (Ryzen 5 3500U/8GB/1TB HDD + 256GB SSD/Win 10/Microsoft Office 2019/Radeon Vega 8 Graphics), DK0093AU', 'HP Pavilion Gaming Laptop, Ryzen 5-4600H, 15.6-inch 144 Hz FHD Screen, 8 GB RAM, 4 GB NVIDIA 1650ti Graphics, 512 GB SSD, ...', 'HP 14s core i5 10th Gen 14 inch FHD Laptop (8 GB/256 GB SSD/1TB HDD/Windows 10/MS Office 2019/Natural Silver /1.43kg) 14s-...', 'HP 15 11th Gen Intel Core i3 Processor 15.6-inch FHD Laptop (8GB/512GB SSD/Win 10/MS Offce/Integrated Graphics/Natural Sil...', 'HP 15 Intel Pentium Gold 6405U Processor Entry Level Laptop (4GB/1TB/Win 10/Jet Black/1.74kg), 15s-du1052tu, 39.6 cm (15.6...', 'HP 15 Ryzen 5 Processor 15.6-inch(39.6 cm) FHD Laptop (8GB/512GB SSD/Windows 10/Vega 8 Graphics/MS Office/Natural Silver/1...', 'HP Pavilion (2021) Thin & Light 11th Gen Core i5 Laptop, 16 GB RAM, 512GB SSD, Iris Xe Graphics, 14-inch FHD Screen, Windo...', 'HP 15 Thin & Light Ryzen 3-3250 Laptop, 4 GB RAM, 1TB HDD, 15-inch FHD Screen, Windows 10, MS Office (15s-gr0006au)', 'HP Pavilion x360 Touchscreen 2-in-1 FHD Laptop (10th Gen Core i3-10110U/8GB/512GB SSD/Win 10/MS Office/Mineral Silver/1.58...', 'HP Pavilion x360 Touchscreen 2-in-1 FHD 14-inch Laptop 14-inch Laptop (10th Gen Core i5-10210U/8GB/512GB SSD/Win 10/MS Off...', 'HP 245 G7 AMD Ryzen 5 - 3500U 14 inch Laptop (8GB RAM/1TB HDD/Windows 10 /Radeon Vega 8 Graphics/NO ODD) 2D5X7PA (1.52kg,D...', 'HP Envy x360 Convertible Touchscreen 13.3-inch FHD Laptop (3rd Gen Ryzen 5 4500U/8GB/512GB SSD/Win 10 Home/Night Fall Blac...', 'HP 15 Thin & Light 15.6-inch FHD Laptop (11th Gen Intel Core i5-1135G7, 8GB DDR4, 256GB SSD + 1TB HDD, Win 10 Home, MS Off...', 'HP Pavilion Gaming 10th Gen Intel Core i7 Processor 15.6-inch FHD Gaming Laptop (16GB/512GB SSD + 32GB Intel Optane/Window...', 'HP Pavilion x360 (2021) 14'], 'rule_n0sq': ['₹23,990', '₹27,784.50', '₹37,990', '₹43,596', '₹40,999', '₹44,466', '₹38,490', '₹45,999', '₹34,156', '₹59,999', '₹57,905', '₹66,568', '₹24,990', '₹31,496', '₹63,352', '₹76,379', '₹71,425', '₹76,529', '₹48,990', '₹53,230', '₹67,990', '₹81,868', '₹57,998', '₹67,932', '₹47,990', '₹48,559', '₹26,599', '₹29,632.50', '₹46,494', '₹55,999', '₹72,000', '₹76,379', '₹31,999', '₹33,260', '₹49,990', '₹63,179', '₹61,490', '₹74,875', '₹38,778', '₹47,600', '₹71,490', '₹91,583.50', '₹61,679', '₹76,044', '₹79,999', '₹1,03,279.50', '₹52,552', '₹65,853'], 'rule_ho3p': ['₹23,990', '₹27,784.50', '₹37,990', '₹43,596', '₹40,999', '₹44,466', '₹38,490', '₹45,999', '₹34,156', '₹59,999', '₹57,905', '₹66,568', '₹24,990', '₹31,496', '₹63,352', '₹76,379', '₹71,425', '₹76,529', '₹48,990', '₹53,230', '₹67,990', '₹81,868', '₹57,998', '₹67,932', '₹47,990', '₹48,559', '₹26,599', '₹29,632.50', '₹46,494', '₹55,999', '₹72,000', '₹76,379', '₹31,999', '₹33,260', '₹49,990', '₹63,179', '₹61,490', '₹74,875', '₹38,778', '₹47,600', '₹71,490', '₹91,583.50', '₹61,679', '₹76,044', '₹79,999', '₹1,03,279.50', '₹52,552', '₹65,853'], 'rule_arbd': ['₹23,990', '₹27,784.50', '₹37,990', '₹43,596', '₹40,999', '₹44,466', '₹38,490', '₹45,999', '₹34,156', '₹59,999', '₹57,905', '₹66,568', '₹24,990', '₹31,496', '₹63,352', '₹76,379', '₹71,425', '₹76,529', '₹48,990', '₹53,230', '₹67,990', '₹81,868', '₹57,998', '₹67,932', '₹47,990', '₹48,559', '₹26,599', '₹29,632.50', '₹46,494', '₹55,999', '₹72,000', '₹76,379', '₹31,999', '₹33,260', '₹49,990', '₹63,179', '₹61,490', '₹74,875', '₹38,778', '₹47,600', '₹71,490', '₹91,583.50', '₹61,679', '₹76,044', '₹79,999', '₹1,03,279.50', '₹52,552', '₹65,853'], 'rule_7gq0': ['₹23,990', '₹27,784.50', '₹37,990', '₹43,596', '₹40,999', '₹44,466', '₹38,490', '₹45,999', '₹34,156', '₹59,999', '₹57,905', '₹66,568', '₹24,990', '₹31,496', '₹63,352', '₹76,379', '₹71,425', '₹76,529', '₹48,990', '₹53,230', '₹67,990', '₹81,868', '₹57,998', '₹67,932', '₹47,990', '₹48,559', '₹26,599', '₹29,632.50', '₹46,494', '₹55,999', '₹72,000', '₹76,379', '₹31,999', '₹33,260', '₹49,990', '₹63,179', '₹61,490', '₹74,875', '₹38,778', '₹47,600', '₹71,490', '₹91,583.50', '₹61,679', '₹76,044', '₹79,999', '₹1,03,279.50', '₹52,552', '₹65,853'], 'rule_2wo4': ['₹23,990', '₹27,784.50', '₹37,990', '₹43,596', '₹40,999', '₹44,466', '₹38,490', '₹45,999', '₹34,156', '₹59,999', '₹57,905', '₹66,568', '₹24,990', '₹31,496', '₹63,352', '₹76,379', '₹71,425', '₹76,529', '₹48,990', '₹53,230', '₹67,990', '₹81,868', '₹57,998', '₹67,932', '₹47,990', '₹48,559', '₹26,599', '₹29,632.50', '₹46,494', '₹55,999', '₹72,000', '₹76,379', '₹31,999', '₹33,260', '₹49,990', '₹63,179', '₹61,490', '₹74,875', '₹38,778', '₹47,600', '₹71,490', '₹91,583.50', '₹61,679', '₹76,044', '₹79,999', '₹1,03,279.50', '₹52,552', '₹65,853'], 'rule_wkfj': ['₹23,990', '₹27,784.50', '₹37,990', '₹43,596', '₹40,999', '₹44,466', '₹38,490', '₹45,999', '₹34,156', '₹59,999', '₹57,905', '₹66,568', '₹24,990', '₹31,496', '₹63,352', '₹76,379', '₹71,425', '₹76,529', '₹48,990', '₹53,230', '₹67,990', '₹81,868', '₹57,998', '₹67,932', '₹47,990', '₹48,559', '₹26,599', '₹29,632.50', '₹46,494', '₹55,999', '₹72,000', '₹76,379', '₹31,999', '₹33,260', '₹49,990', '₹63,179', '₹61,490', '₹74,875', '₹38,778', '₹47,600', '₹71,490', '₹91,583.50', '₹61,679', '₹76,044', '₹79,999', '₹1,03,279.50', '₹52,552', '₹65,853'], 'rule_y85c': ['₹23,990', '₹27,784.50', '₹37,990', '₹43,596', '₹40,999', '₹44,466', '₹38,490', '₹45,999', '₹34,156', '₹59,999', '₹57,905', '₹66,568', '₹24,990', '₹31,496', '₹63,352', '₹76,379', '₹71,425', '₹76,529', '₹48,990', '₹53,230', '₹67,990', '₹81,868', '₹57,998', '₹67,932', '₹47,990', '₹48,559', '₹26,599', '₹29,632.50', '₹46,494', '₹55,999', '₹72,000', '₹76,379', '₹31,999', '₹33,260', '₹49,990', '₹63,179', '₹61,490', '₹74,875', '₹38,778', '₹47,600', '₹71,490', '₹91,583.50', '₹61,679', '₹76,044', '₹79,999', '₹1,03,279.50', '₹52,552', '₹65,853'], 'rule_049g': ['₹23,990', '₹27,784.50', '₹37,990', '₹43,596', '₹40,999', '₹44,466', '₹38,490', '₹45,999', '₹34,156', '₹59,999', '₹57,905', '₹66,568', '₹24,990', '₹31,496', '₹63,352', '₹76,379', '₹71,425', '₹76,529', '₹48,990', '₹53,230', '₹67,990', '₹81,868', '₹57,998', '₹67,932', '₹47,990', '₹48,559', '₹26,599', '₹29,632.50', '₹46,494', '₹55,999', '₹72,000', '₹76,379', '₹31,999', '₹33,260', '₹49,990', '₹63,179', '₹61,490', '₹74,875', '₹38,778', '₹47,600', '₹71,490', '₹91,583.50', '₹61,679', '₹76,044', '₹79,999', '₹1,03,279.50', '₹52,552', '₹65,853'], 'rule_sgu9': [], 'rule_pvyz': [], 'rule_zi2p': [], 'rule_13jo': [], 'rule_efsl': [], 'rule_wqt0': []}\n",
      "####################################################################################################\n",
      "Flipkart test\n",
      "********************\n"
     ]
    },
    {
     "name": "stdout",
     "output_type": "stream",
     "text": [
      "Enter link : https://www.flipkart.com/televisions/pr?sid=ckf%2Cczl&p%5B%5D=facets.availability%255B%255D%3DExclude%2BOut%2Bof%2BStock&otracker=categorytree&p%5B%5D=facets.serviceability%5B%5D%3Dtrue&p%5B%5D=facets.brand%255B%255D%3DThomson&otracker=nmenu_sub_TVs%20%26%20Appliances_0_Thomson\n",
      "{'rule_kfnn': [], 'rule_ello': [], 'rule_n0sq': [], 'rule_ho3p': [], 'rule_arbd': [], 'rule_7gq0': [], 'rule_2wo4': [], 'rule_wkfj': [], 'rule_y85c': [], 'rule_049g': [], 'rule_sgu9': ['Thomson R9 60 cm (24 inch) HD Ready LED TV', 'Thomson 9A Series 80 cm (32 inch) HD Ready LED Smart Android TV', 'Thomson 9A Series 106 cm (42 inch) Full HD LED Smart Android TV', 'Thomson R9 80 cm (32 inch) HD Ready LED TV', 'Thomson 9A Series 80 cm (32 inch) HD Ready LED Smart Android TV with Bezel Less Display', 'Thomson OATHPRO Series 139 cm (55 inch) Ultra HD (4K) LED Smart Android TV with Dolby Digital Plus', 'Thomson 9A Series 108 cm (43 inch) Full HD LED Smart Android TV with Bezel Less Display', 'Thomson OATHPRO Series 108 cm (43 inch) Ultra HD (4K) LED Smart Android TV with Dolby Digital Plus', 'Thomson OATHPRO Series 164 cm (65 inch) Ultra HD (4K) LED Smart Android TV with Dolby Digital Plus', 'Thomson 9R Series 139 cm (55 inch) Ultra HD (4K) LED Smart Android TV', 'Thomson OATHPRO Series 126 cm (50 inch) Ultra HD (4K) LED Smart Android TV with Dolby Vision and Dolby...', 'Thomson 9A Series 102 cm (40 inch) Full HD LED Smart Android TV', 'Thomson 9R Series 108 cm (43 inch) Ultra HD (4K) LED Smart Android TV', 'Thomson 9A Series 108 cm (43 inch) Full HD LED Smart Android TV', 'Thomson 9R Series 126 cm (50 inch) Ultra HD (4K) LED Smart Android TV', 'Thomson OATHPRO Series 189 cm (75 inch) Ultra HD (4K) LED Smart Android TV with Dolby Vision and Dolby...', 'Thomson 140 cm (55 inch) Ultra HD (4K) LED Smart TV', 'Thomson B9 Series 80 cm (32 inch) HD Ready LED Smart TV'], 'rule_pvyz': ['Thomson R9 60 cm (24 inch) HD Ready LED TV', 'Thomson 9A Series 80 cm (32 inch) HD Ready LED Smart Android TV', 'Thomson 9A Series 106 cm (42 inch) Full HD LED Smart Android TV', 'Thomson R9 80 cm (32 inch) HD Ready LED TV', 'Thomson 9A Series 80 cm (32 inch) HD Ready LED Smart Android TV with Bezel Less Display', 'Thomson OATHPRO Series 139 cm (55 inch) Ultra HD (4K) LED Smart Android TV with Dolby Digital Plus', 'Thomson 9A Series 108 cm (43 inch) Full HD LED Smart Android TV with Bezel Less Display', 'Thomson OATHPRO Series 108 cm (43 inch) Ultra HD (4K) LED Smart Android TV with Dolby Digital Plus', 'Thomson OATHPRO Series 164 cm (65 inch) Ultra HD (4K) LED Smart Android TV with Dolby Digital Plus', 'Thomson 9R Series 139 cm (55 inch) Ultra HD (4K) LED Smart Android TV', 'Thomson OATHPRO Series 126 cm (50 inch) Ultra HD (4K) LED Smart Android TV with Dolby Vision and Dolby...', 'Thomson 9A Series 102 cm (40 inch) Full HD LED Smart Android TV', 'Thomson 9R Series 108 cm (43 inch) Ultra HD (4K) LED Smart Android TV', 'Thomson 9A Series 108 cm (43 inch) Full HD LED Smart Android TV', 'Thomson 9R Series 126 cm (50 inch) Ultra HD (4K) LED Smart Android TV', 'Thomson OATHPRO Series 189 cm (75 inch) Ultra HD (4K) LED Smart Android TV with Dolby Vision and Dolby...', 'Thomson 140 cm (55 inch) Ultra HD (4K) LED Smart TV', 'Thomson B9 Series 80 cm (32 inch) HD Ready LED Smart TV'], 'rule_zi2p': ['₹9,499', '₹13,999', '₹20,999', '₹11,999', '₹14,490', '₹38,999', '₹22,999', '₹29,999', '₹54,999', '₹36,999', '₹33,999', '₹19,999', '₹25,999', '₹22,999', '₹31,999', '₹1,09,999', '₹29,999', '₹16,999'], 'rule_13jo': ['₹9,499', '₹13,999', '₹20,999', '₹11,999', '₹14,490', '₹38,999', '₹22,999', '₹29,999', '₹54,999', '₹36,999', '₹33,999', '₹19,999', '₹25,999', '₹22,999', '₹31,999', '₹1,09,999', '₹29,999', '₹16,999'], 'rule_efsl': ['₹9,499', '₹13,999', '₹20,999', '₹11,999', '₹14,490', '₹38,999', '₹22,999', '₹29,999', '₹54,999', '₹36,999', '₹33,999', '₹19,999', '₹25,999', '₹22,999', '₹31,999', '₹1,09,999', '₹29,999', '₹16,999'], 'rule_wqt0': ['₹9,499', '₹13,999', '₹20,999', '₹11,999', '₹14,490', '₹38,999', '₹22,999', '₹29,999', '₹54,999', '₹36,999', '₹33,999', '₹19,999', '₹25,999', '₹22,999', '₹31,999', '₹1,09,999', '₹29,999', '₹16,999']}\n",
      "####################################################################################################\n"
     ]
    }
   ],
   "source": [
    "for website in ['Amazon test','Flipkart test']:\n",
    "    print(website)\n",
    "    print('*'*20)\n",
    "    url=input('Enter link : ')\n",
    "    results=scraper.get_result_similar(url,grouped=True)\n",
    "    print(results)\n",
    "    print('#'*100)"
   ]
  },
  {
   "cell_type": "code",
   "execution_count": 6,
   "metadata": {},
   "outputs": [],
   "source": [
    "# We can see above that some rules are not relevant for our task.\n",
    "# Select relevant rules only.\n",
    "\n",
    "scraper.keep_rules(['rule_ello','rule_n0sq','rule_pvyz','rule_zi2p'])"
   ]
  },
  {
   "cell_type": "code",
   "execution_count": 7,
   "metadata": {},
   "outputs": [
    {
     "data": {
      "text/html": [
       "<div>\n",
       "<style scoped>\n",
       "    .dataframe tbody tr th:only-of-type {\n",
       "        vertical-align: middle;\n",
       "    }\n",
       "\n",
       "    .dataframe tbody tr th {\n",
       "        vertical-align: top;\n",
       "    }\n",
       "\n",
       "    .dataframe thead th {\n",
       "        text-align: right;\n",
       "    }\n",
       "</style>\n",
       "<table border=\"1\" class=\"dataframe\">\n",
       "  <thead>\n",
       "    <tr style=\"text-align: right;\">\n",
       "      <th></th>\n",
       "      <th>Product</th>\n",
       "      <th>Price</th>\n",
       "    </tr>\n",
       "  </thead>\n",
       "  <tbody>\n",
       "    <tr>\n",
       "      <th>0</th>\n",
       "      <td>Thomson R9 60 cm (24 inch) HD Ready LED TV</td>\n",
       "      <td>₹9,499</td>\n",
       "    </tr>\n",
       "    <tr>\n",
       "      <th>1</th>\n",
       "      <td>Thomson 9A Series 80 cm (32 inch) HD Ready LED...</td>\n",
       "      <td>₹13,999</td>\n",
       "    </tr>\n",
       "    <tr>\n",
       "      <th>2</th>\n",
       "      <td>Thomson 9A Series 106 cm (42 inch) Full HD LED...</td>\n",
       "      <td>₹20,999</td>\n",
       "    </tr>\n",
       "    <tr>\n",
       "      <th>3</th>\n",
       "      <td>Thomson R9 80 cm (32 inch) HD Ready LED TV</td>\n",
       "      <td>₹11,999</td>\n",
       "    </tr>\n",
       "    <tr>\n",
       "      <th>4</th>\n",
       "      <td>Thomson 9A Series 80 cm (32 inch) HD Ready LED...</td>\n",
       "      <td>₹14,490</td>\n",
       "    </tr>\n",
       "  </tbody>\n",
       "</table>\n",
       "</div>"
      ],
      "text/plain": [
       "                                             Product    Price\n",
       "0         Thomson R9 60 cm (24 inch) HD Ready LED TV   ₹9,499\n",
       "1  Thomson 9A Series 80 cm (32 inch) HD Ready LED...  ₹13,999\n",
       "2  Thomson 9A Series 106 cm (42 inch) Full HD LED...  ₹20,999\n",
       "3         Thomson R9 80 cm (32 inch) HD Ready LED TV  ₹11,999\n",
       "4  Thomson 9A Series 80 cm (32 inch) HD Ready LED...  ₹14,490"
      ]
     },
     "execution_count": 7,
     "metadata": {},
     "output_type": "execute_result"
    }
   ],
   "source": [
    "# Testing the scraper again after keeping selected rules\n",
    "\n",
    "results=scraper.get_result_similar(url,grouped=True)\n",
    "\n",
    "d={}\n",
    "for i,j in results.items():\n",
    "    if(j!=[]):\n",
    "        d[i]=j\n",
    "        \n",
    "        \n",
    "df=pd.DataFrame(d)\n",
    "df.columns=['Product','Price']\n",
    "df.head()"
   ]
  },
  {
   "cell_type": "markdown",
   "metadata": {},
   "source": [
    "# Save Scraper"
   ]
  },
  {
   "cell_type": "code",
   "execution_count": 8,
   "metadata": {},
   "outputs": [],
   "source": [
    "scraper.save('ecommerce-scrape')"
   ]
  },
  {
   "cell_type": "code",
   "execution_count": null,
   "metadata": {},
   "outputs": [],
   "source": [
    "# scraper.load('ecommerce-scrape')"
   ]
  },
  {
   "cell_type": "markdown",
   "metadata": {},
   "source": [
    "# References"
   ]
  },
  {
   "cell_type": "markdown",
   "metadata": {},
   "source": [
    "* https://pypi.org/project/autoscraper/\n",
    "* https://github.com/krishnaik06/Autoscrapper"
   ]
  }
 ],
 "metadata": {
  "kernelspec": {
   "display_name": "Python 3",
   "language": "python",
   "name": "python3"
  },
  "language_info": {
   "codemirror_mode": {
    "name": "ipython",
    "version": 3
   },
   "file_extension": ".py",
   "mimetype": "text/x-python",
   "name": "python",
   "nbconvert_exporter": "python",
   "pygments_lexer": "ipython3",
   "version": "3.7.4"
  }
 },
 "nbformat": 4,
 "nbformat_minor": 2
}
