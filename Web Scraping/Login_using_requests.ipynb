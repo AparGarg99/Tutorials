{
 "cells": [
  {
   "cell_type": "markdown",
   "id": "0c7645fd",
   "metadata": {},
   "source": [
    "# Steps"
   ]
  },
  {
   "cell_type": "markdown",
   "id": "7efec804",
   "metadata": {},
   "source": [
    "1. Go to login page\n",
    "\n",
    "2. Right click on page -> Inspect -> Network\n",
    "(Make sure \"Preserve Log\" option is tick marked)\n",
    "\n",
    "3. Enter your credentials and click sign in\n",
    "\n",
    "4. You will see an auth request which logs us in the website. \n",
    "\n",
    "5. Under Headers tab, you will be able to see:\n",
    "    - Request URL (the url of server being hit to login) \n",
    "    - Request Method (tells if request is POST or GET). NOTE: Should be POST.\n",
    "    - content-type (tells us what format of data we are sending to the server). NOTE: \"application/json\" means we are sending data in json format. \"text\" means we are sending data in text format.\n",
    "    \n",
    "6. Copy the Request URL and user-agent\n",
    "    \n",
    "7. Under Headers tab (at the bottom) or Payload tab, you will be able to see Post Body which tells us what data is being sent to the server. Data such as our \"username\" and \"credential\" that the request uses to log in.\n",
    "\n",
    "8. We somehow want all the content in this Post Body and send it to the server directly using code. For static content, we can set manually, but for dynamic elements, we can use bs4 to get the element."
   ]
  },
  {
   "cell_type": "markdown",
   "id": "9b0a50cc",
   "metadata": {},
   "source": [
    "# [HackerRank](https://www.hackerrank.com/)"
   ]
  },
  {
   "cell_type": "code",
   "execution_count": 1,
   "id": "bba5b253",
   "metadata": {
    "scrolled": false
   },
   "outputs": [
    {
     "name": "stdout",
     "output_type": "stream",
     "text": [
      "b'{\"status\":true,\"messages\":[\"Authentication Successful\"],\"errors\":[],\"account_created\":false,\"contest_signup\":false,\"hrx_user\":false,\"hacker_exists\":true,\"contest_started\":true,\"additional_details\":false,\"domain_restriction\":false,\"has_codesprint_reg_page\":false,\"ask_jobs_profile\":false,\"contest_slug\":\"master\",\"csrf_token\":\"6MTB0CN6Isl6yAQ9sqW3He0i3PNQ8oCcv8y9g6Ehdb6r/WsCla9cBU7WjkPAdo70SxaFisAosjUp57DQkjkCCQ==\"}'\n"
     ]
    }
   ],
   "source": [
    "import requests\n",
    "\n",
    "REQUEST_URL = 'https://www.hackerrank.com/auth/login' # Step 6\n",
    "USER_AGENT = 'Mozilla/5.0 (Windows NT 10.0; Win64; x64) AppleWebKit/537.36 (KHTML, like Gecko) Chrome/106.0.0.0 Safari/537.36' # Step 6\n",
    "\n",
    "headers = {'user-agent': USER_AGENT}\n",
    "\n",
    "# Step 7 & 8\n",
    "form = {\n",
    "    'login': '<username>', # static element\n",
    "   'password': '<password>', # static element\n",
    "}\n",
    "\n",
    "with requests.Session() as s:\n",
    "    url = REQUEST_URL\n",
    "    r = s.post(url, data=form, headers=headers)\n",
    "    print(r.content)"
   ]
  },
  {
   "cell_type": "markdown",
   "id": "d151c27c",
   "metadata": {},
   "source": [
    "# [CodeChef](https://www.codechef.com/)"
   ]
  },
  {
   "cell_type": "code",
   "execution_count": 2,
   "id": "a7910f9a",
   "metadata": {
    "scrolled": false
   },
   "outputs": [
    {
     "name": "stdout",
     "output_type": "stream",
     "text": [
      "b'{\"status\":\"success\",\"success\":\"Redirecting...\",\"redirect\":\"\\\\/users\\\\/ag1281\"}'\n"
     ]
    }
   ],
   "source": [
    "import requests\n",
    "import re\n",
    "from bs4 import BeautifulSoup\n",
    "\n",
    "REQUEST_URL = 'https://www.codechef.com/api/codechef/login' # Step 6\n",
    "USER_AGENT = 'Mozilla/5.0 (Windows NT 10.0; Win64; x64) AppleWebKit/537.36 (KHTML, like Gecko) Chrome/106.0.0.0 Safari/537.36' # Step 6\n",
    "\n",
    "headers = {'user-agent': USER_AGENT}\n",
    "\n",
    "# Step 7 & 8\n",
    "form = {\n",
    "    'name': '<username>', # static element \n",
    "    'pass': '<password>', # static element\n",
    "    'form_build_id': '', # dynamic element\n",
    "    'form_id':'ajax_login_form' # static element\n",
    "}\n",
    "\n",
    "with requests.Session() as s:\n",
    "    url = REQUEST_URL\n",
    "    \n",
    "    r = s.get(url, headers=headers)\n",
    "    soup = BeautifulSoup(r.content, 'html5lib')\n",
    "    form['form_build_id'] = soup.find('input',{'name': re.compile(\"form_build_id\")})['value'][2:-2]\n",
    "    \n",
    "    r = s.post(url, data=form, headers=headers)\n",
    "    print(r.content)\n",
    "    \n",
    "#     r = s.get('https://www.codechef.com')\n",
    "#     print(r.content)"
   ]
  },
  {
   "cell_type": "markdown",
   "id": "d9e04cb8",
   "metadata": {},
   "source": [
    "# References\n",
    "* https://www.youtube.com/watch?v=fmf_y8zpOgA\n",
    "* https://www.youtube.com/watch?v=cV21EOf5bbA"
   ]
  }
 ],
 "metadata": {
  "kernelspec": {
   "display_name": "Python 3 (ipykernel)",
   "language": "python",
   "name": "python3"
  },
  "language_info": {
   "codemirror_mode": {
    "name": "ipython",
    "version": 3
   },
   "file_extension": ".py",
   "mimetype": "text/x-python",
   "name": "python",
   "nbconvert_exporter": "python",
   "pygments_lexer": "ipython3",
   "version": "3.9.7"
  }
 },
 "nbformat": 4,
 "nbformat_minor": 5
}
