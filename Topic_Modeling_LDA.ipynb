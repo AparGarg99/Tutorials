{
 "cells": [
  {
   "cell_type": "markdown",
   "metadata": {
    "id": "ue9vMS3vDZkl"
   },
   "source": [
    "# Import Libraries"
   ]
  },
  {
   "cell_type": "code",
   "execution_count": 1,
   "metadata": {
    "colab": {
     "base_uri": "https://localhost:8080/"
    },
    "id": "5BsYj7qWb6T0",
    "outputId": "cfc95435-58ec-4128-ac71-55b6db8166db"
   },
   "outputs": [
    {
     "name": "stdout",
     "output_type": "stream",
     "text": [
      "Collecting texthero\n",
      "  Downloading https://files.pythonhosted.org/packages/1f/5a/a9d33b799fe53011de79d140ad6d86c440a2da1ae8a7b24e851ee2f8bde8/texthero-1.0.9-py3-none-any.whl\n",
      "Requirement already satisfied: plotly>=4.2.0 in /usr/local/lib/python3.7/dist-packages (from texthero) (4.4.1)\n",
      "Requirement already satisfied: matplotlib>=3.1.0 in /usr/local/lib/python3.7/dist-packages (from texthero) (3.2.2)\n",
      "Requirement already satisfied: wordcloud>=1.5.0 in /usr/local/lib/python3.7/dist-packages (from texthero) (1.5.0)\n",
      "Requirement already satisfied: numpy>=1.17 in /usr/local/lib/python3.7/dist-packages (from texthero) (1.19.5)\n",
      "Requirement already satisfied: pandas>=1.0.2 in /usr/local/lib/python3.7/dist-packages (from texthero) (1.1.5)\n",
      "Collecting unidecode>=1.1.1\n",
      "\u001b[?25l  Downloading https://files.pythonhosted.org/packages/9e/25/723487ca2a52ebcee88a34d7d1f5a4b80b793f179ee0f62d5371938dfa01/Unidecode-1.2.0-py2.py3-none-any.whl (241kB)\n",
      "\u001b[K     |████████████████████████████████| 245kB 6.3MB/s \n",
      "\u001b[?25hRequirement already satisfied: tqdm>=4.3 in /usr/local/lib/python3.7/dist-packages (from texthero) (4.41.1)\n",
      "Requirement already satisfied: gensim>=3.6.0 in /usr/local/lib/python3.7/dist-packages (from texthero) (3.6.0)\n",
      "Requirement already satisfied: scikit-learn>=0.22 in /usr/local/lib/python3.7/dist-packages (from texthero) (0.22.2.post1)\n",
      "Collecting nltk>=3.3\n",
      "\u001b[?25l  Downloading https://files.pythonhosted.org/packages/5e/37/9532ddd4b1bbb619333d5708aaad9bf1742f051a664c3c6fa6632a105fd8/nltk-3.6.2-py3-none-any.whl (1.5MB)\n",
      "\u001b[K     |████████████████████████████████| 1.5MB 19.0MB/s \n",
      "\u001b[?25hRequirement already satisfied: spacy>=2.2.2 in /usr/local/lib/python3.7/dist-packages (from texthero) (2.2.4)\n",
      "Requirement already satisfied: six in /usr/local/lib/python3.7/dist-packages (from plotly>=4.2.0->texthero) (1.15.0)\n",
      "Requirement already satisfied: retrying>=1.3.3 in /usr/local/lib/python3.7/dist-packages (from plotly>=4.2.0->texthero) (1.3.3)\n",
      "Requirement already satisfied: cycler>=0.10 in /usr/local/lib/python3.7/dist-packages (from matplotlib>=3.1.0->texthero) (0.10.0)\n",
      "Requirement already satisfied: pyparsing!=2.0.4,!=2.1.2,!=2.1.6,>=2.0.1 in /usr/local/lib/python3.7/dist-packages (from matplotlib>=3.1.0->texthero) (2.4.7)\n",
      "Requirement already satisfied: python-dateutil>=2.1 in /usr/local/lib/python3.7/dist-packages (from matplotlib>=3.1.0->texthero) (2.8.1)\n",
      "Requirement already satisfied: kiwisolver>=1.0.1 in /usr/local/lib/python3.7/dist-packages (from matplotlib>=3.1.0->texthero) (1.3.1)\n",
      "Requirement already satisfied: pillow in /usr/local/lib/python3.7/dist-packages (from wordcloud>=1.5.0->texthero) (7.1.2)\n",
      "Requirement already satisfied: pytz>=2017.2 in /usr/local/lib/python3.7/dist-packages (from pandas>=1.0.2->texthero) (2018.9)\n",
      "Requirement already satisfied: scipy>=0.18.1 in /usr/local/lib/python3.7/dist-packages (from gensim>=3.6.0->texthero) (1.4.1)\n",
      "Requirement already satisfied: smart-open>=1.2.1 in /usr/local/lib/python3.7/dist-packages (from gensim>=3.6.0->texthero) (5.1.0)\n",
      "Requirement already satisfied: joblib>=0.11 in /usr/local/lib/python3.7/dist-packages (from scikit-learn>=0.22->texthero) (1.0.1)\n",
      "Requirement already satisfied: regex in /usr/local/lib/python3.7/dist-packages (from nltk>=3.3->texthero) (2019.12.20)\n",
      "Requirement already satisfied: click in /usr/local/lib/python3.7/dist-packages (from nltk>=3.3->texthero) (7.1.2)\n",
      "Requirement already satisfied: murmurhash<1.1.0,>=0.28.0 in /usr/local/lib/python3.7/dist-packages (from spacy>=2.2.2->texthero) (1.0.5)\n",
      "Requirement already satisfied: preshed<3.1.0,>=3.0.2 in /usr/local/lib/python3.7/dist-packages (from spacy>=2.2.2->texthero) (3.0.5)\n",
      "Requirement already satisfied: cymem<2.1.0,>=2.0.2 in /usr/local/lib/python3.7/dist-packages (from spacy>=2.2.2->texthero) (2.0.5)\n",
      "Requirement already satisfied: wasabi<1.1.0,>=0.4.0 in /usr/local/lib/python3.7/dist-packages (from spacy>=2.2.2->texthero) (0.8.2)\n",
      "Requirement already satisfied: thinc==7.4.0 in /usr/local/lib/python3.7/dist-packages (from spacy>=2.2.2->texthero) (7.4.0)\n",
      "Requirement already satisfied: catalogue<1.1.0,>=0.0.7 in /usr/local/lib/python3.7/dist-packages (from spacy>=2.2.2->texthero) (1.0.0)\n",
      "Requirement already satisfied: blis<0.5.0,>=0.4.0 in /usr/local/lib/python3.7/dist-packages (from spacy>=2.2.2->texthero) (0.4.1)\n",
      "Requirement already satisfied: srsly<1.1.0,>=1.0.2 in /usr/local/lib/python3.7/dist-packages (from spacy>=2.2.2->texthero) (1.0.5)\n",
      "Requirement already satisfied: requests<3.0.0,>=2.13.0 in /usr/local/lib/python3.7/dist-packages (from spacy>=2.2.2->texthero) (2.23.0)\n",
      "Requirement already satisfied: plac<1.2.0,>=0.9.6 in /usr/local/lib/python3.7/dist-packages (from spacy>=2.2.2->texthero) (1.1.3)\n",
      "Requirement already satisfied: setuptools in /usr/local/lib/python3.7/dist-packages (from spacy>=2.2.2->texthero) (57.0.0)\n",
      "Requirement already satisfied: importlib-metadata>=0.20; python_version < \"3.8\" in /usr/local/lib/python3.7/dist-packages (from catalogue<1.1.0,>=0.0.7->spacy>=2.2.2->texthero) (4.5.0)\n",
      "Requirement already satisfied: idna<3,>=2.5 in /usr/local/lib/python3.7/dist-packages (from requests<3.0.0,>=2.13.0->spacy>=2.2.2->texthero) (2.10)\n",
      "Requirement already satisfied: chardet<4,>=3.0.2 in /usr/local/lib/python3.7/dist-packages (from requests<3.0.0,>=2.13.0->spacy>=2.2.2->texthero) (3.0.4)\n",
      "Requirement already satisfied: urllib3!=1.25.0,!=1.25.1,<1.26,>=1.21.1 in /usr/local/lib/python3.7/dist-packages (from requests<3.0.0,>=2.13.0->spacy>=2.2.2->texthero) (1.24.3)\n",
      "Requirement already satisfied: certifi>=2017.4.17 in /usr/local/lib/python3.7/dist-packages (from requests<3.0.0,>=2.13.0->spacy>=2.2.2->texthero) (2021.5.30)\n",
      "Requirement already satisfied: zipp>=0.5 in /usr/local/lib/python3.7/dist-packages (from importlib-metadata>=0.20; python_version < \"3.8\"->catalogue<1.1.0,>=0.0.7->spacy>=2.2.2->texthero) (3.4.1)\n",
      "Requirement already satisfied: typing-extensions>=3.6.4; python_version < \"3.8\" in /usr/local/lib/python3.7/dist-packages (from importlib-metadata>=0.20; python_version < \"3.8\"->catalogue<1.1.0,>=0.0.7->spacy>=2.2.2->texthero) (3.7.4.3)\n",
      "Installing collected packages: unidecode, nltk, texthero\n",
      "  Found existing installation: nltk 3.2.5\n",
      "    Uninstalling nltk-3.2.5:\n",
      "      Successfully uninstalled nltk-3.2.5\n",
      "Successfully installed nltk-3.6.2 texthero-1.0.9 unidecode-1.2.0\n"
     ]
    }
   ],
   "source": [
    "!pip install texthero"
   ]
  },
  {
   "cell_type": "code",
   "execution_count": 2,
   "metadata": {
    "colab": {
     "base_uri": "https://localhost:8080/"
    },
    "id": "3Tib-VoNf3SU",
    "outputId": "74e45856-b550-497f-d9c7-5fd4242dd43a"
   },
   "outputs": [
    {
     "name": "stderr",
     "output_type": "stream",
     "text": [
      "[nltk_data] Downloading package stopwords to /root/nltk_data...\n",
      "[nltk_data]   Unzipping corpora/stopwords.zip.\n"
     ]
    }
   ],
   "source": [
    "import pandas as pd\n",
    "from sklearn.feature_extraction.text import TfidfVectorizer, CountVectorizer\n",
    "from sklearn import decomposition\n",
    "import matplotlib.pyplot as plt\n",
    "import numpy as np\n",
    "import re\n",
    "import nltk\n",
    "from nltk.stem import WordNetLemmatizer\n",
    "from sklearn.model_selection import train_test_split\n",
    "import texthero as hero"
   ]
  },
  {
   "cell_type": "code",
   "execution_count": 3,
   "metadata": {
    "colab": {
     "base_uri": "https://localhost:8080/"
    },
    "id": "WShP9UhDdqqz",
    "outputId": "91878613-e2b2-423e-aa70-ace5b83a49e5"
   },
   "outputs": [
    {
     "name": "stderr",
     "output_type": "stream",
     "text": [
      "[nltk_data] Downloading package punkt to /root/nltk_data...\n",
      "[nltk_data]   Unzipping tokenizers/punkt.zip.\n"
     ]
    },
    {
     "data": {
      "text/plain": [
       "True"
      ]
     },
     "execution_count": 3,
     "metadata": {
      "tags": []
     },
     "output_type": "execute_result"
    }
   ],
   "source": [
    "nltk.download('punkt')"
   ]
  },
  {
   "cell_type": "code",
   "execution_count": 4,
   "metadata": {
    "colab": {
     "base_uri": "https://localhost:8080/"
    },
    "id": "QrnIWzLdjL8k",
    "outputId": "e3925804-71f4-4656-aa2b-6fbe2afa5d73"
   },
   "outputs": [
    {
     "name": "stderr",
     "output_type": "stream",
     "text": [
      "[nltk_data] Downloading package wordnet to /root/nltk_data...\n",
      "[nltk_data]   Unzipping corpora/wordnet.zip.\n"
     ]
    },
    {
     "data": {
      "text/plain": [
       "True"
      ]
     },
     "execution_count": 4,
     "metadata": {
      "tags": []
     },
     "output_type": "execute_result"
    }
   ],
   "source": [
    "nltk.download('wordnet')"
   ]
  },
  {
   "cell_type": "code",
   "execution_count": 5,
   "metadata": {
    "colab": {
     "base_uri": "https://localhost:8080/"
    },
    "id": "JldpNXMDD2gF",
    "outputId": "0706c78c-55a4-40bd-a9fc-ea0e0f5a6318"
   },
   "outputs": [
    {
     "name": "stderr",
     "output_type": "stream",
     "text": [
      "/usr/local/lib/python3.7/dist-packages/ipykernel_launcher.py:1: FutureWarning:\n",
      "\n",
      "Passing a negative integer is deprecated in version 1.0 and will not be supported in future version. Instead, use None to not limit the column width.\n",
      "\n"
     ]
    }
   ],
   "source": [
    "pd.set_option('display.max_colwidth', -1)"
   ]
  },
  {
   "cell_type": "markdown",
   "metadata": {
    "id": "B3OFaI_KDdcM"
   },
   "source": [
    "# Read Dataset"
   ]
  },
  {
   "cell_type": "code",
   "execution_count": 6,
   "metadata": {
    "colab": {
     "base_uri": "https://localhost:8080/"
    },
    "id": "tJLUmACgf8oQ",
    "outputId": "4beaf2b7-9baf-4d34-d496-155690a82956"
   },
   "outputs": [
    {
     "data": {
      "text/plain": [
       "Index(['Date received', 'Product', 'Sub-product', 'Issue', 'Sub-issue',\n",
       "       'Consumer complaint narrative', 'Company public response', 'Company',\n",
       "       'State', 'ZIP code', 'Tags', 'Consumer consent provided?',\n",
       "       'Submitted via', 'Date sent to company', 'Company response to consumer',\n",
       "       'Timely response?', 'Consumer disputed?', 'Complaint ID'],\n",
       "      dtype='object')"
      ]
     },
     "execution_count": 6,
     "metadata": {
      "tags": []
     },
     "output_type": "execute_result"
    }
   ],
   "source": [
    "df=pd.read_csv('https://github.com/srivatsan88/YouTubeLI/blob/master/dataset/consumer_compliants.zip?raw=true', compression='zip', sep=',', quotechar='\"')\n",
    "df.columns"
   ]
  },
  {
   "cell_type": "code",
   "execution_count": 7,
   "metadata": {
    "colab": {
     "base_uri": "https://localhost:8080/"
    },
    "id": "Iu0aXVAqg73M",
    "outputId": "9301e039-b7ef-4c2d-917c-79c7b067b309"
   },
   "outputs": [
    {
     "data": {
      "text/plain": [
       "Debt collection                21772\n",
       "Credit card or prepaid card    13193\n",
       "Mortgage                       9799 \n",
       "Checking or savings account    7003 \n",
       "Student loan                   2950 \n",
       "Vehicle loan or lease          2736 \n",
       "Name: Product, dtype: int64"
      ]
     },
     "execution_count": 7,
     "metadata": {
      "tags": []
     },
     "output_type": "execute_result"
    }
   ],
   "source": [
    "# products against which complaints have been filed\n",
    "df['Product'].value_counts()"
   ]
  },
  {
   "cell_type": "code",
   "execution_count": 8,
   "metadata": {
    "colab": {
     "base_uri": "https://localhost:8080/"
    },
    "id": "ZIOA2D7qhPIM",
    "outputId": "645736d7-bf05-425a-a21c-0833ac9e217d"
   },
   "outputs": [
    {
     "data": {
      "text/plain": [
       "CITIBANK, N.A.                           3226\n",
       "CAPITAL ONE FINANCIAL CORPORATION        2711\n",
       "BANK OF AMERICA, NATIONAL ASSOCIATION    2580\n",
       "JPMORGAN CHASE & CO.                     2409\n",
       "WELLS FARGO & COMPANY                    2001\n",
       "                                         ... \n",
       "Rapid Auto Loans LLC                     1   \n",
       "Kashia Services                          1   \n",
       "Hodosh, Lyon & Hammer, PC                1   \n",
       "BERKSHIRE HILLS BANCORP, INC             1   \n",
       "National Credit Processing Inc.          1   \n",
       "Name: Company, Length: 2197, dtype: int64"
      ]
     },
     "execution_count": 8,
     "metadata": {
      "tags": []
     },
     "output_type": "execute_result"
    }
   ],
   "source": [
    "# companies against which complaints have been filed\n",
    "df['Company'].value_counts()"
   ]
  },
  {
   "cell_type": "code",
   "execution_count": 9,
   "metadata": {
    "id": "RyAy7ALMkDK-"
   },
   "outputs": [],
   "source": [
    "df=df[['Consumer complaint narrative','Product','Company']].rename(columns={'Consumer complaint narrative':'complaints'})"
   ]
  },
  {
   "cell_type": "markdown",
   "metadata": {},
   "source": [
    "# Pre-processing"
   ]
  },
  {
   "cell_type": "code",
   "execution_count": 10,
   "metadata": {
    "id": "U5jXVq7RbCEk"
   },
   "outputs": [],
   "source": [
    "df['clean_complaints'] = hero.clean(df['complaints'])"
   ]
  },
  {
   "cell_type": "code",
   "execution_count": 11,
   "metadata": {
    "colab": {
     "base_uri": "https://localhost:8080/",
     "height": 1000
    },
    "id": "A0eQih1thWOJ",
    "outputId": "847933a6-8c58-40a2-b53c-d0e7251ed23f",
    "scrolled": true
   },
   "outputs": [
    {
     "data": {
      "text/html": [
       "<div>\n",
       "<style scoped>\n",
       "    .dataframe tbody tr th:only-of-type {\n",
       "        vertical-align: middle;\n",
       "    }\n",
       "\n",
       "    .dataframe tbody tr th {\n",
       "        vertical-align: top;\n",
       "    }\n",
       "\n",
       "    .dataframe thead th {\n",
       "        text-align: right;\n",
       "    }\n",
       "</style>\n",
       "<table border=\"1\" class=\"dataframe\">\n",
       "  <thead>\n",
       "    <tr style=\"text-align: right;\">\n",
       "      <th></th>\n",
       "      <th>complaints</th>\n",
       "      <th>Product</th>\n",
       "      <th>Company</th>\n",
       "      <th>clean_complaints</th>\n",
       "    </tr>\n",
       "  </thead>\n",
       "  <tbody>\n",
       "    <tr>\n",
       "      <th>0</th>\n",
       "      <td>This auto loan was opened on XX/XX/2020 in XXXX, NC with BB &amp; T in my name. I have NEVER been to North Carolina and I have NEVER been a resident. I have filed a dispute twice through my credit bureaus but both times BB &amp; T has claimed that this is an accurate loan. Which I wasn't aware of until today. I have tried to contact BB &amp; T multiple times but I have never gotten through to a live person. I do n't drive and I have never owned a car before. I didn't have any knowledge of this account until I checked XXXXXXXX XXXX  and noticed it. I've tried twice to dispute it. Additionally I never received any bills or information about this account. This is my last resort in trying to remove this fraudulent loan off of my account.</td>\n",
       "      <td>Vehicle loan or lease</td>\n",
       "      <td>TRUIST FINANCIAL CORPORATION</td>\n",
       "      <td>auto loan opened xx xx xxxx nc bb name never north carolina never resident filed dispute twice credit bureaus times bb claimed accurate loan aware today tried contact bb multiple times never gotten live person n drive never owned car knowledge account checked xxxxxxxx xxxx noticed tried twice dispute additionally never received bills information account last resort trying remove fraudulent loan account</td>\n",
       "    </tr>\n",
       "    <tr>\n",
       "      <th>1</th>\n",
       "      <td>In XXXX of 2019 I noticed a debt for {$620.00} on my credit which i believed was mine I thought speedy cash had bought one of my old debts and sold it to XXXX XXXX XXXX XXXX. I contacted XXXX XXXX XXXX XXXX and after several attempts of giving my full name, nothing came up in their system. I gave my social and the rep said the account popped up but DID NOT tell me that the account was under someone elses name and continued to let me make a payment. The payment was for {$120.00}. Confirmation number-XXXX. After realizing it was not my account, I called back to get my money back and inform them of the mistake. I was told i needed to mail them an FTC report and dispute letter to get my money back. I completed all of this and when i called again they said they transferred the account back to speedy cash for fraud review and I would need to contact them. After contacting them i was again told that i can not get my money back. The issue im having is this representative at XXXX XXXX played blind to obvious fraud and let an innocent person make a payment on someone elses debt and i want my money back.</td>\n",
       "      <td>Debt collection</td>\n",
       "      <td>CURO Intermediate Holdings</td>\n",
       "      <td>xxxx noticed debt credit believed mine thought speedy cash bought one old debts sold xxxx xxxx xxxx xxxx contacted xxxx xxxx xxxx xxxx several attempts giving full name nothing came system gave social rep said account popped tell account someone elses name continued let make payment payment confirmation number xxxx realizing account called back get money back inform mistake told needed mail ftc report dispute letter get money back completed called said transferred account back speedy cash fraud review would need contact contacting told get money back issue im representative xxxx xxxx played blind obvious fraud let innocent person make payment someone elses debt want money back</td>\n",
       "    </tr>\n",
       "    <tr>\n",
       "      <th>2</th>\n",
       "      <td>As stated from Capital One, XXXX XX/XX/XXXX and XXXX 2018, My wife and I went to several car dealerships to request for a car loan to get a used car. However, according to their credit requirements unfortunately my credit score was insufficient for the car loan approval at that time. It seemed as though they pulled my credit report multiple times.</td>\n",
       "      <td>Vehicle loan or lease</td>\n",
       "      <td>CAPITAL ONE FINANCIAL CORPORATION</td>\n",
       "      <td>stated capital one xxxx xx xx xxxx xxxx wife went several car dealerships request car loan get used car however according credit requirements unfortunately credit score insufficient car loan approval time seemed though pulled credit report multiple times</td>\n",
       "    </tr>\n",
       "    <tr>\n",
       "      <th>3</th>\n",
       "      <td>Please see CFPB case XXXX. \\n\\nCapital One, in the letter they provided ( and attached to that case as their response ) said this : \" The funds were reversed and sent back to XXXX XXXX XXXX  on XX/XX/XXXX ''. \\n\\nXXXX XXXX XXXX  ( now XXXX XXXX  ) has not received these funds. Staff at XXXX XXXX  - and also staff at the account-holder 's business - have looked for return of my money ( {$650.00} ) and find nothing. \\n\\nCapital One needs to document - actually prove - they returned the funds, as stated in their letter. Capital One must provide electronic information, if the return was made that way, or document the paper check they sent back to XXXX XXXX. \\n\\nI've left 3 messages about this problem for the person who signed the letter ( XXXX ) from Capital One. I have received no call-backs. \\n\\nSummary : Capital One said they returned my money on XX/XX/XXXX : they did not. If they continue claim they did, then they need to prove that.</td>\n",
       "      <td>Checking or savings account</td>\n",
       "      <td>CAPITAL ONE FINANCIAL CORPORATION</td>\n",
       "      <td>please see cfpb case xxxx capital one letter provided attached case response said funds reversed sent back xxxx xxxx xxxx xx xx xxxx xxxx xxxx xxxx xxxx xxxx received funds staff xxxx xxxx also staff account holder business looked return money find nothing capital one needs document actually prove returned funds stated letter capital one must provide electronic information return made way document paper check sent back xxxx xxxx left messages problem person signed letter xxxx capital one received call backs summary capital one said returned money xx xx xxxx continue claim need prove</td>\n",
       "    </tr>\n",
       "    <tr>\n",
       "      <th>4</th>\n",
       "      <td>This debt was incurred due to medical malpractice ( XXXX XXXX XXXX, XXXX, TX ). I asked the doctor to turn over my claim to his malpractice insurance company. This has cost me thousands of dollars to XXXX XXXX XXXX. I am still trying to collect damages from this doctor. He never responded and turned over me to collections Merchants and Professional Collection Bureau , Inc. I sent them a letter describing exactly this issue and instead of not contacting me and verifying my debt they start reporting this debt to the credit reporting agencies. They never verified the debt, like I asked and they never stopped it from being reported when I specifically told them not to, due to the circumstances above.</td>\n",
       "      <td>Debt collection</td>\n",
       "      <td>Merchants and Professional Bureau, Inc.</td>\n",
       "      <td>debt incurred due medical malpractice xxxx xxxx xxxx xxxx tx asked doctor turn claim malpractice insurance company cost thousands dollars xxxx xxxx xxxx still trying collect damages doctor never responded turned collections merchants professional collection bureau inc sent letter describing exactly issue instead contacting verifying debt start reporting debt credit reporting agencies never verified debt like asked never stopped reported specifically told due circumstances</td>\n",
       "    </tr>\n",
       "    <tr>\n",
       "      <th>5</th>\n",
       "      <td>Good Morning We just did a streamline with XXXX XXXX with Guaranteed rates and the one reason why we did a refi was we didn't like XXXX XXXX and when I contacted XXXX she said they don't deal with XXXX XXXX and my loan would never get transferred to there bank. Now we justgot a letter in the mail last week and guess what we have XXXX XXXX. Also I couldof got a streamline loan with XXXX at that time at a lower rate and less money down and XXXX also knew this too. So this company took advantage of us and made us spend more money to to wind up with the same Lender we had to begin with and don't want!! Is there anything I can do to sue this company? \\nXXXX XXXX XXXX XXXX</td>\n",
       "      <td>Mortgage</td>\n",
       "      <td>GUARANTEED RATE INC.</td>\n",
       "      <td>good morning streamline xxxx xxxx guaranteed rates one reason refi like xxxx xxxx contacted xxxx said deal xxxx xxxx loan would never get transferred bank justgot letter mail last week guess xxxx xxxx also couldof got streamline loan xxxx time lower rate less money xxxx also knew company took advantage us made us spend money wind lender begin want anything sue company xxxx xxxx xxxx xxxx</td>\n",
       "    </tr>\n",
       "    <tr>\n",
       "      <th>6</th>\n",
       "      <td>I have false, negative claims on my credit report do to identity theft back in XX/XX/XXXX. These false claims are preventing me from purchasing a house at good rates for my family and I. There is a claim by XXXX XXXX XXXX  stating I had an account with them in XX/XX/XXXX. I have never done any business with XXXX XXXX XXXX  what so ever in my life. XXXX XXXX XXXX  states I then charged a XXXX to that account and never paid the balance of {$300.00} USD. At the time of the identity theft I was banking with XXXX XXXX XXXX XXXX and was notified by them about the matter. XXXX XXXX XXXX XXXX informed me to sign a Police Affidavit stating that it was a case of identity theft. I then signed a police affidavit and submitted it back to XXXX XXXX XXXX XXXX. I thought everything was done with the issue being as though the money was never charged to my account with XXXX XXXX XXXX XXXX. XXXX XXXX Bank then started making harassing calls to me as well as sending threatening letter saying \" if I don't pay the balance they were gon na send it to a debt collection agency. I tried explaining the facts of the matter to XXXX XXXX XXXX. Trying to tell them that I never had any business dealing with them and that was a case of Identity theft. They wouldn't listen. In XX/XX/XXXX, I was in the process of purchasing my first home. My credit was checked and a debt of {$380.00} USD showed on my report. The debt was being enforced by Midland Funding and was a result of XXXX XXXX XXXX  transferring the debt to them. I reached out to XXXX XXXX XXXX  to inform them I never opened an account with them once again and they just wouldn't listen to me. XXXX XXXX XXXX  would just keep hanging the phone up on me. I contacted Midland Funding to inform them of the Identity theft that occurred with XXXX XXXX XXXX  pertaining to the exact same debt they were attempting to recover. They were not listening and continue to send letters to me to retrieve the amount. I have tried disputing the debt with the credit bureau and nothing has happened. I hired an attorney to clean up this matter for me and ended up paying them more than the amount the debt is, still nothing has happened. I refuse to pay for goods never rendered to me. I refuse to be another American being rail road by XXXX XXXX XXXX.</td>\n",
       "      <td>Debt collection</td>\n",
       "      <td>ENCORE CAPITAL GROUP INC.</td>\n",
       "      <td>false negative claims credit report identity theft back xx xx xxxx false claims preventing purchasing house good rates family claim xxxx xxxx xxxx stating account xx xx xxxx never done business xxxx xxxx xxxx ever life xxxx xxxx xxxx states charged xxxx account never paid balance usd time identity theft banking xxxx xxxx xxxx xxxx notified matter xxxx xxxx xxxx xxxx informed sign police affidavit stating case identity theft signed police affidavit submitted back xxxx xxxx xxxx xxxx thought everything done issue though money never charged account xxxx xxxx xxxx xxxx xxxx xxxx bank started making harassing calls well sending threatening letter saying pay balance gon na send debt collection agency tried explaining facts matter xxxx xxxx xxxx trying tell never business dealing case identity theft listen xx xx xxxx process purchasing first home credit checked debt usd showed report debt enforced midland funding result xxxx xxxx xxxx transferring debt reached xxxx xxxx xxxx inform never opened account listen xxxx xxxx xxxx would keep hanging phone contacted midland funding inform identity theft occurred xxxx xxxx xxxx pertaining exact debt attempting recover listening continue send letters retrieve amount tried disputing debt credit bureau nothing happened hired attorney clean matter ended paying amount debt still nothing happened refuse pay goods never rendered refuse another american rail road xxxx xxxx xxxx</td>\n",
       "    </tr>\n",
       "    <tr>\n",
       "      <th>7</th>\n",
       "      <td>I have been in the middle of a refinance for about 6 months. So I would not have opened any new credit. I received an email stating that there is a late payment on my credit for a PPC account. I never opened up this account and now there is no one to speak to at paypal regarding this!!! Again, I am in the middle of a refinance on my house and my credit score just dropped only who knows how much because of a missed payment on an account that I didn't open up and there is not one single person to speak with about it. Oh goodness I am over the moon with frustration right now. The reporting agency can report a derogatory status on my account but not answer phone calls! Is that even legal? Shame on you Paypal! I sincerely hope there is something you will do to fix this. I have not been late on a payment in years ... ugh It is item number 17 on my credit report at the top of page 10/33.</td>\n",
       "      <td>Credit card or prepaid card</td>\n",
       "      <td>SYNCHRONY FINANCIAL</td>\n",
       "      <td>middle refinance months would opened new credit received email stating late payment credit ppc account never opened account one speak paypal regarding middle refinance house credit score dropped knows much missed payment account open one single person speak oh goodness moon frustration right reporting agency report derogatory status account answer phone calls even legal shame paypal sincerely hope something fix late payment years ugh item number credit report top page</td>\n",
       "    </tr>\n",
       "    <tr>\n",
       "      <th>8</th>\n",
       "      <td>On XX/XX/XXXX, I received a letter dated XX/XX/XXXX from a debt collection company called Transworld Systems Inc. The letter itself states I have thirty days to dispute or pay a debt of {$170.00}, failure to communicate with them in thirty days results in admittance of debt, and that this debt was obtained from a creditor named XXXX XXXX XXXX XXXX. XXXX XXXX XXXX XXXX states they formally held this debt from a company called XXXX XXXX XXXX. As for my actions, I notified a credit bureau to place a temporary fraud alert to protect my identity, and I notified this Transworld Systems Inc that I am disputing the debt. I lived in XXXX and utilized XXXX XXXX XXXX as my power company from XX/XX/XXXX-XX/XX/XXXX. I never had a delinquent account with them and I paid off my final bill in XX/XX/XXXX ( I moved from XXXX, XXXX  to XXXX  at the end of XX/XX/XXXX ). This is the first time in almost thirteen years I've been notified of any type of debt, and I believe that one or  more of the above companies is incorrect and possibly \" scamming '' me.</td>\n",
       "      <td>Debt collection</td>\n",
       "      <td>TRANSWORLD SYSTEMS INC</td>\n",
       "      <td>xx xx xxxx received letter dated xx xx xxxx debt collection company called transworld systems inc letter states thirty days dispute pay debt failure communicate thirty days results admittance debt debt obtained creditor named xxxx xxxx xxxx xxxx xxxx xxxx xxxx xxxx states formally held debt company called xxxx xxxx xxxx actions notified credit bureau place temporary fraud alert protect identity notified transworld systems inc disputing debt lived xxxx utilized xxxx xxxx xxxx power company xx xx xxxx xx xx xxxx never delinquent account paid final bill xx xx xxxx moved xxxx xxxx xxxx end xx xx xxxx first time almost thirteen years notified type debt believe one companies incorrect possibly scamming</td>\n",
       "    </tr>\n",
       "    <tr>\n",
       "      <th>9</th>\n",
       "      <td>This morning, I received an email from Citi telling me they had closed my credit card account. No prior warning - no prior communication of any kind. \\nI have had the card for 10 yrs with a spotless record of paying for charges in a timely fashion. \\nI called Citi and informed them of what had happened and asked for an explanation. A customer service employee told me a letter had just been sent explaining the situation but he couldn't give any more information because of my privacy rights. I asked to speak to a supervisor. \\nA supervisor pulled up the letter sent to me and told me my account had been closed for \" non-usage '' and explained I had not used the card in at least 2 yrs. I countered that was probably true, I had several cards and I used each of them according to the scenario and I was sure, if he cared to look back, that there had been other 2 yr periods over the past 10 yrs when I had not used my Citi Card. I asked if I had ever signed any agreement or had been informed by Citi of their \" use it or lose it '' policy. The supervisor told me no, they simply had the right to close my account at any time for any reason. \\nAs you know, this affects my credit rating negatively and I informed the supervisor of the same. I think it patently unfair that my credit rating will go down - which could affect future credit requests on my part - simply because Citi precipitously cancelled my account. Further, I find it patently unfair that Citi cancelled my account, although I have never missed or been late on a payment to them, without some sort of warning. \\nI will never use Citi again - for anything - but I find their policy as practiced on me to be anti-consumer and one they should be forced to change or at the least modify.</td>\n",
       "      <td>Credit card or prepaid card</td>\n",
       "      <td>CITIBANK, N.A.</td>\n",
       "      <td>morning received email citi telling closed credit card account prior warning prior communication kind card yrs spotless record paying charges timely fashion called citi informed happened asked explanation customer service employee told letter sent explaining situation give information privacy rights asked speak supervisor supervisor pulled letter sent told account closed non usage explained used card least yrs countered probably true several cards used according scenario sure cared look back yr periods past yrs used citi card asked ever signed agreement informed citi use lose policy supervisor told simply right close account time reason know affects credit rating negatively informed supervisor think patently unfair credit rating go could affect future credit requests part simply citi precipitously cancelled account find patently unfair citi cancelled account although never missed late payment without sort warning never use citi anything find policy practiced anti consumer one forced change least modify</td>\n",
       "    </tr>\n",
       "  </tbody>\n",
       "</table>\n",
       "</div>"
      ],
      "text/plain": [
       "                                                                                                                                                                                                                                                                                                                                                                                                                                                                                                                                                                                                                                                                                                                                                                                                                                                                                                                                                                                                                                                                                                                                                                                                                                                                                                                                                                                                                                                                                                                                                                                                                                                                                                                                                                                                                                                                                                                                                                                                                                                                                                                                                                                                                                                                                                                                                                       complaints  ...                                                                                                                                                                                                                                                                                                                                                                                                                                                                                                                                                                                                                                                                                                                                                                                                                                                                                                                                                                                                                                                                                                                                                                                                                                                                                                                                                                                                                                                                     clean_complaints\n",
       "0  This auto loan was opened on XX/XX/2020 in XXXX, NC with BB & T in my name. I have NEVER been to North Carolina and I have NEVER been a resident. I have filed a dispute twice through my credit bureaus but both times BB & T has claimed that this is an accurate loan. Which I wasn't aware of until today. I have tried to contact BB & T multiple times but I have never gotten through to a live person. I do n't drive and I have never owned a car before. I didn't have any knowledge of this account until I checked XXXXXXXX XXXX  and noticed it. I've tried twice to dispute it. Additionally I never received any bills or information about this account. This is my last resort in trying to remove this fraudulent loan off of my account.                                                                                                                                                                                                                                                                                                                                                                                                                                                                                                                                                                                                                                                                                                                                                                                                                                                                                                                                                                                                                                                                                                                                                                                                                                                                                                                                                                                                                                                                                                                                                                                                                     ...  auto loan opened xx xx xxxx nc bb name never north carolina never resident filed dispute twice credit bureaus times bb claimed accurate loan aware today tried contact bb multiple times never gotten live person n drive never owned car knowledge account checked xxxxxxxx xxxx noticed tried twice dispute additionally never received bills information account last resort trying remove fraudulent loan account                                                                                                                                                                                                                                                                                                                                                                                                                                                                                                                                                                                                                                                                                                                                                                                                                                                                                                                                                                                                                                                              \n",
       "1  In XXXX of 2019 I noticed a debt for {$620.00} on my credit which i believed was mine I thought speedy cash had bought one of my old debts and sold it to XXXX XXXX XXXX XXXX. I contacted XXXX XXXX XXXX XXXX and after several attempts of giving my full name, nothing came up in their system. I gave my social and the rep said the account popped up but DID NOT tell me that the account was under someone elses name and continued to let me make a payment. The payment was for {$120.00}. Confirmation number-XXXX. After realizing it was not my account, I called back to get my money back and inform them of the mistake. I was told i needed to mail them an FTC report and dispute letter to get my money back. I completed all of this and when i called again they said they transferred the account back to speedy cash for fraud review and I would need to contact them. After contacting them i was again told that i can not get my money back. The issue im having is this representative at XXXX XXXX played blind to obvious fraud and let an innocent person make a payment on someone elses debt and i want my money back.                                                                                                                                                                                                                                                                                                                                                                                                                                                                                                                                                                                                                                                                                                                                                                                                                                                                                                                                                                                                                                                                                                                                                                                                                          ...  xxxx noticed debt credit believed mine thought speedy cash bought one old debts sold xxxx xxxx xxxx xxxx contacted xxxx xxxx xxxx xxxx several attempts giving full name nothing came system gave social rep said account popped tell account someone elses name continued let make payment payment confirmation number xxxx realizing account called back get money back inform mistake told needed mail ftc report dispute letter get money back completed called said transferred account back speedy cash fraud review would need contact contacting told get money back issue im representative xxxx xxxx played blind obvious fraud let innocent person make payment someone elses debt want money back                                                                                                                                                                                                                                                                                                                                                                                                                                                                                                                                                                                                                                                                                                                                                                      \n",
       "2  As stated from Capital One, XXXX XX/XX/XXXX and XXXX 2018, My wife and I went to several car dealerships to request for a car loan to get a used car. However, according to their credit requirements unfortunately my credit score was insufficient for the car loan approval at that time. It seemed as though they pulled my credit report multiple times.                                                                                                                                                                                                                                                                                                                                                                                                                                                                                                                                                                                                                                                                                                                                                                                                                                                                                                                                                                                                                                                                                                                                                                                                                                                                                                                                                                                                                                                                                                                                                                                                                                                                                                                                                                                                                                                                                                                                                                                                                   ...  stated capital one xxxx xx xx xxxx xxxx wife went several car dealerships request car loan get used car however according credit requirements unfortunately credit score insufficient car loan approval time seemed though pulled credit report multiple times                                                                                                                                                                                                                                                                                                                                                                                                                                                                                                                                                                                                                                                                                                                                                                                                                                                                                                                                                                                                                                                                                                                                                                                                                     \n",
       "3  Please see CFPB case XXXX. \\n\\nCapital One, in the letter they provided ( and attached to that case as their response ) said this : \" The funds were reversed and sent back to XXXX XXXX XXXX  on XX/XX/XXXX ''. \\n\\nXXXX XXXX XXXX  ( now XXXX XXXX  ) has not received these funds. Staff at XXXX XXXX  - and also staff at the account-holder 's business - have looked for return of my money ( {$650.00} ) and find nothing. \\n\\nCapital One needs to document - actually prove - they returned the funds, as stated in their letter. Capital One must provide electronic information, if the return was made that way, or document the paper check they sent back to XXXX XXXX. \\n\\nI've left 3 messages about this problem for the person who signed the letter ( XXXX ) from Capital One. I have received no call-backs. \\n\\nSummary : Capital One said they returned my money on XX/XX/XXXX : they did not. If they continue claim they did, then they need to prove that.                                                                                                                                                                                                                                                                                                                                                                                                                                                                                                                                                                                                                                                                                                                                                                                                                                                                                                                                                                                                                                                                                                                                                                                                                                                                                                                                                                                             ...  please see cfpb case xxxx capital one letter provided attached case response said funds reversed sent back xxxx xxxx xxxx xx xx xxxx xxxx xxxx xxxx xxxx xxxx received funds staff xxxx xxxx also staff account holder business looked return money find nothing capital one needs document actually prove returned funds stated letter capital one must provide electronic information return made way document paper check sent back xxxx xxxx left messages problem person signed letter xxxx capital one received call backs summary capital one said returned money xx xx xxxx continue claim need prove                                                                                                                                                                                                                                                                                                                                                                                                                                                                                                                                                                                                                                                                                                                                                                                                                                                                      \n",
       "4  This debt was incurred due to medical malpractice ( XXXX XXXX XXXX, XXXX, TX ). I asked the doctor to turn over my claim to his malpractice insurance company. This has cost me thousands of dollars to XXXX XXXX XXXX. I am still trying to collect damages from this doctor. He never responded and turned over me to collections Merchants and Professional Collection Bureau , Inc. I sent them a letter describing exactly this issue and instead of not contacting me and verifying my debt they start reporting this debt to the credit reporting agencies. They never verified the debt, like I asked and they never stopped it from being reported when I specifically told them not to, due to the circumstances above.                                                                                                                                                                                                                                                                                                                                                                                                                                                                                                                                                                                                                                                                                                                                                                                                                                                                                                                                                                                                                                                                                                                                                                                                                                                                                                                                                                                                                                                                                                                                                                                                                                               ...  debt incurred due medical malpractice xxxx xxxx xxxx xxxx tx asked doctor turn claim malpractice insurance company cost thousands dollars xxxx xxxx xxxx still trying collect damages doctor never responded turned collections merchants professional collection bureau inc sent letter describing exactly issue instead contacting verifying debt start reporting debt credit reporting agencies never verified debt like asked never stopped reported specifically told due circumstances                                                                                                                                                                                                                                                                                                                                                                                                                                                                                                                                                                                                                                                                                                                                                                                                                                                                                                                                                                                       \n",
       "5  Good Morning We just did a streamline with XXXX XXXX with Guaranteed rates and the one reason why we did a refi was we didn't like XXXX XXXX and when I contacted XXXX she said they don't deal with XXXX XXXX and my loan would never get transferred to there bank. Now we justgot a letter in the mail last week and guess what we have XXXX XXXX. Also I couldof got a streamline loan with XXXX at that time at a lower rate and less money down and XXXX also knew this too. So this company took advantage of us and made us spend more money to to wind up with the same Lender we had to begin with and don't want!! Is there anything I can do to sue this company? \\nXXXX XXXX XXXX XXXX                                                                                                                                                                                                                                                                                                                                                                                                                                                                                                                                                                                                                                                                                                                                                                                                                                                                                                                                                                                                                                                                                                                                                                                                                                                                                                                                                                                                                                                                                                                                                                                                                                                                             ...  good morning streamline xxxx xxxx guaranteed rates one reason refi like xxxx xxxx contacted xxxx said deal xxxx xxxx loan would never get transferred bank justgot letter mail last week guess xxxx xxxx also couldof got streamline loan xxxx time lower rate less money xxxx also knew company took advantage us made us spend money wind lender begin want anything sue company xxxx xxxx xxxx xxxx                                                                                                                                                                                                                                                                                                                                                                                                                                                                                                                                                                                                                                                                                                                                                                                                                                                                                                                                                                                                                                                                             \n",
       "6  I have false, negative claims on my credit report do to identity theft back in XX/XX/XXXX. These false claims are preventing me from purchasing a house at good rates for my family and I. There is a claim by XXXX XXXX XXXX  stating I had an account with them in XX/XX/XXXX. I have never done any business with XXXX XXXX XXXX  what so ever in my life. XXXX XXXX XXXX  states I then charged a XXXX to that account and never paid the balance of {$300.00} USD. At the time of the identity theft I was banking with XXXX XXXX XXXX XXXX and was notified by them about the matter. XXXX XXXX XXXX XXXX informed me to sign a Police Affidavit stating that it was a case of identity theft. I then signed a police affidavit and submitted it back to XXXX XXXX XXXX XXXX. I thought everything was done with the issue being as though the money was never charged to my account with XXXX XXXX XXXX XXXX. XXXX XXXX Bank then started making harassing calls to me as well as sending threatening letter saying \" if I don't pay the balance they were gon na send it to a debt collection agency. I tried explaining the facts of the matter to XXXX XXXX XXXX. Trying to tell them that I never had any business dealing with them and that was a case of Identity theft. They wouldn't listen. In XX/XX/XXXX, I was in the process of purchasing my first home. My credit was checked and a debt of {$380.00} USD showed on my report. The debt was being enforced by Midland Funding and was a result of XXXX XXXX XXXX  transferring the debt to them. I reached out to XXXX XXXX XXXX  to inform them I never opened an account with them once again and they just wouldn't listen to me. XXXX XXXX XXXX  would just keep hanging the phone up on me. I contacted Midland Funding to inform them of the Identity theft that occurred with XXXX XXXX XXXX  pertaining to the exact same debt they were attempting to recover. They were not listening and continue to send letters to me to retrieve the amount. I have tried disputing the debt with the credit bureau and nothing has happened. I hired an attorney to clean up this matter for me and ended up paying them more than the amount the debt is, still nothing has happened. I refuse to pay for goods never rendered to me. I refuse to be another American being rail road by XXXX XXXX XXXX.  ...  false negative claims credit report identity theft back xx xx xxxx false claims preventing purchasing house good rates family claim xxxx xxxx xxxx stating account xx xx xxxx never done business xxxx xxxx xxxx ever life xxxx xxxx xxxx states charged xxxx account never paid balance usd time identity theft banking xxxx xxxx xxxx xxxx notified matter xxxx xxxx xxxx xxxx informed sign police affidavit stating case identity theft signed police affidavit submitted back xxxx xxxx xxxx xxxx thought everything done issue though money never charged account xxxx xxxx xxxx xxxx xxxx xxxx bank started making harassing calls well sending threatening letter saying pay balance gon na send debt collection agency tried explaining facts matter xxxx xxxx xxxx trying tell never business dealing case identity theft listen xx xx xxxx process purchasing first home credit checked debt usd showed report debt enforced midland funding result xxxx xxxx xxxx transferring debt reached xxxx xxxx xxxx inform never opened account listen xxxx xxxx xxxx would keep hanging phone contacted midland funding inform identity theft occurred xxxx xxxx xxxx pertaining exact debt attempting recover listening continue send letters retrieve amount tried disputing debt credit bureau nothing happened hired attorney clean matter ended paying amount debt still nothing happened refuse pay goods never rendered refuse another american rail road xxxx xxxx xxxx\n",
       "7  I have been in the middle of a refinance for about 6 months. So I would not have opened any new credit. I received an email stating that there is a late payment on my credit for a PPC account. I never opened up this account and now there is no one to speak to at paypal regarding this!!! Again, I am in the middle of a refinance on my house and my credit score just dropped only who knows how much because of a missed payment on an account that I didn't open up and there is not one single person to speak with about it. Oh goodness I am over the moon with frustration right now. The reporting agency can report a derogatory status on my account but not answer phone calls! Is that even legal? Shame on you Paypal! I sincerely hope there is something you will do to fix this. I have not been late on a payment in years ... ugh It is item number 17 on my credit report at the top of page 10/33.                                                                                                                                                                                                                                                                                                                                                                                                                                                                                                                                                                                                                                                                                                                                                                                                                                                                                                                                                                                                                                                                                                                                                                                                                                                                                                                                                                                                                                                   ...  middle refinance months would opened new credit received email stating late payment credit ppc account never opened account one speak paypal regarding middle refinance house credit score dropped knows much missed payment account open one single person speak oh goodness moon frustration right reporting agency report derogatory status account answer phone calls even legal shame paypal sincerely hope something fix late payment years ugh item number credit report top page                                                                                                                                                                                                                                                                                                                                                                                                                                                                                                                                                                                                                                                                                                                                                                                                                                                                                                                                                                                           \n",
       "8  On XX/XX/XXXX, I received a letter dated XX/XX/XXXX from a debt collection company called Transworld Systems Inc. The letter itself states I have thirty days to dispute or pay a debt of {$170.00}, failure to communicate with them in thirty days results in admittance of debt, and that this debt was obtained from a creditor named XXXX XXXX XXXX XXXX. XXXX XXXX XXXX XXXX states they formally held this debt from a company called XXXX XXXX XXXX. As for my actions, I notified a credit bureau to place a temporary fraud alert to protect my identity, and I notified this Transworld Systems Inc that I am disputing the debt. I lived in XXXX and utilized XXXX XXXX XXXX as my power company from XX/XX/XXXX-XX/XX/XXXX. I never had a delinquent account with them and I paid off my final bill in XX/XX/XXXX ( I moved from XXXX, XXXX  to XXXX  at the end of XX/XX/XXXX ). This is the first time in almost thirteen years I've been notified of any type of debt, and I believe that one or  more of the above companies is incorrect and possibly \" scamming '' me.                                                                                                                                                                                                                                                                                                                                                                                                                                                                                                                                                                                                                                                                                                                                                                                                                                                                                                                                                                                                                                                                                                                                                                                                                                                                                       ...  xx xx xxxx received letter dated xx xx xxxx debt collection company called transworld systems inc letter states thirty days dispute pay debt failure communicate thirty days results admittance debt debt obtained creditor named xxxx xxxx xxxx xxxx xxxx xxxx xxxx xxxx states formally held debt company called xxxx xxxx xxxx actions notified credit bureau place temporary fraud alert protect identity notified transworld systems inc disputing debt lived xxxx utilized xxxx xxxx xxxx power company xx xx xxxx xx xx xxxx never delinquent account paid final bill xx xx xxxx moved xxxx xxxx xxxx end xx xx xxxx first time almost thirteen years notified type debt believe one companies incorrect possibly scamming                                                                                                                                                                                                                                                                                                                                                                                                                                                                                                                                                                                                                                                                                                                                                  \n",
       "9  This morning, I received an email from Citi telling me they had closed my credit card account. No prior warning - no prior communication of any kind. \\nI have had the card for 10 yrs with a spotless record of paying for charges in a timely fashion. \\nI called Citi and informed them of what had happened and asked for an explanation. A customer service employee told me a letter had just been sent explaining the situation but he couldn't give any more information because of my privacy rights. I asked to speak to a supervisor. \\nA supervisor pulled up the letter sent to me and told me my account had been closed for \" non-usage '' and explained I had not used the card in at least 2 yrs. I countered that was probably true, I had several cards and I used each of them according to the scenario and I was sure, if he cared to look back, that there had been other 2 yr periods over the past 10 yrs when I had not used my Citi Card. I asked if I had ever signed any agreement or had been informed by Citi of their \" use it or lose it '' policy. The supervisor told me no, they simply had the right to close my account at any time for any reason. \\nAs you know, this affects my credit rating negatively and I informed the supervisor of the same. I think it patently unfair that my credit rating will go down - which could affect future credit requests on my part - simply because Citi precipitously cancelled my account. Further, I find it patently unfair that Citi cancelled my account, although I have never missed or been late on a payment to them, without some sort of warning. \\nI will never use Citi again - for anything - but I find their policy as practiced on me to be anti-consumer and one they should be forced to change or at the least modify.                                                                                                                                                                                                                                                                                                                                                                                                                                                                                                                                                      ...  morning received email citi telling closed credit card account prior warning prior communication kind card yrs spotless record paying charges timely fashion called citi informed happened asked explanation customer service employee told letter sent explaining situation give information privacy rights asked speak supervisor supervisor pulled letter sent told account closed non usage explained used card least yrs countered probably true several cards used according scenario sure cared look back yr periods past yrs used citi card asked ever signed agreement informed citi use lose policy supervisor told simply right close account time reason know affects credit rating negatively informed supervisor think patently unfair credit rating go could affect future credit requests part simply citi precipitously cancelled account find patently unfair citi cancelled account although never missed late payment without sort warning never use citi anything find policy practiced anti consumer one forced change least modify                                                                                                                                                                                                                                                                                                                                                                                                                          \n",
       "\n",
       "[10 rows x 4 columns]"
      ]
     },
     "execution_count": 11,
     "metadata": {
      "tags": []
     },
     "output_type": "execute_result"
    }
   ],
   "source": [
    "df.head(10)"
   ]
  },
  {
   "cell_type": "markdown",
   "metadata": {
    "id": "LdskPAvwERHu"
   },
   "source": [
    "# Train-test split"
   ]
  },
  {
   "cell_type": "code",
   "execution_count": 12,
   "metadata": {
    "id": "SC6IhFa35ea5"
   },
   "outputs": [],
   "source": [
    "X_train, X_hold = train_test_split(df, test_size=0.3, random_state=111)"
   ]
  },
  {
   "cell_type": "code",
   "execution_count": 13,
   "metadata": {
    "colab": {
     "base_uri": "https://localhost:8080/"
    },
    "id": "b4IuhHvB8CKf",
    "outputId": "5de80681-c583-4df5-d16a-39f9160748a5"
   },
   "outputs": [
    {
     "data": {
      "text/plain": [
       "Debt collection                15281\n",
       "Credit card or prepaid card    9263 \n",
       "Mortgage                       6815 \n",
       "Checking or savings account    4864 \n",
       "Student loan                   2078 \n",
       "Vehicle loan or lease          1916 \n",
       "Name: Product, dtype: int64"
      ]
     },
     "execution_count": 13,
     "metadata": {
      "tags": []
     },
     "output_type": "execute_result"
    }
   ],
   "source": [
    "X_train['Product'].value_counts()"
   ]
  },
  {
   "cell_type": "markdown",
   "metadata": {
    "id": "3fla3uNsEXTs"
   },
   "source": [
    "# Feature Extraction"
   ]
  },
  {
   "cell_type": "code",
   "execution_count": 14,
   "metadata": {
    "id": "c33HdaMZkPlJ"
   },
   "outputs": [],
   "source": [
    "lemmatizer = WordNetLemmatizer()\n",
    "\n",
    "def tokenize(text):\n",
    "   tokens = [word for word in nltk.word_tokenize(text) if (len(word) > 3 and 'xx' not in word)] \n",
    "   tokens = [lemmatizer.lemmatize(item) for item in tokens]\n",
    "   return tokens"
   ]
  },
  {
   "cell_type": "code",
   "execution_count": 15,
   "metadata": {
    "colab": {
     "base_uri": "https://localhost:8080/"
    },
    "id": "HgZ6lFDEBz8k",
    "outputId": "d4de5224-eca0-47fb-cd34-09730bb96a61"
   },
   "outputs": [
    {
     "name": "stderr",
     "output_type": "stream",
     "text": [
      "/usr/local/lib/python3.7/dist-packages/sklearn/feature_extraction/text.py:385: UserWarning:\n",
      "\n",
      "Your stop_words may be inconsistent with your preprocessing. Tokenizing the stop words generated tokens ['le'] not in stop_words.\n",
      "\n"
     ]
    }
   ],
   "source": [
    "# TfidfVectorizer will act as CountVectorizer when use_idf=False, norm=None\n",
    "# Include a word only if it is present in minimum 50 documents \n",
    "# Include a word only if it is present in maximum 75% of the documents. If a word is present in >75% of documents, we are considering it as a common word. \n",
    "vectorizer_tf = TfidfVectorizer(tokenizer = tokenize, \n",
    "                                stop_words = None , \n",
    "                                max_df = 0.75, \n",
    "                                min_df = 50, \n",
    "                                max_features = 10000, \n",
    "                                use_idf = False, \n",
    "                                norm = None)\n",
    "\n",
    "tf_vectors = vectorizer_tf.fit_transform(X_train['clean_complaints']) "
   ]
  },
  {
   "cell_type": "code",
   "execution_count": 16,
   "metadata": {
    "colab": {
     "base_uri": "https://localhost:8080/"
    },
    "id": "NwxB1PqJPEJV",
    "outputId": "9899d411-7567-4e66-82aa-f8c2abd83e40"
   },
   "outputs": [
    {
     "data": {
      "text/plain": [
       "array([[0., 0., 0., ..., 0., 0., 0.],\n",
       "       [0., 0., 0., ..., 0., 0., 0.],\n",
       "       [0., 0., 0., ..., 0., 0., 0.],\n",
       "       ...,\n",
       "       [0., 0., 0., ..., 0., 0., 0.],\n",
       "       [0., 0., 0., ..., 0., 0., 0.],\n",
       "       [0., 0., 0., ..., 0., 0., 0.]])"
      ]
     },
     "execution_count": 16,
     "metadata": {
      "tags": []
     },
     "output_type": "execute_result"
    }
   ],
   "source": [
    "tf_vectors.A"
   ]
  },
  {
   "cell_type": "markdown",
   "metadata": {
    "id": "C2_qMM-PU4n7"
   },
   "source": [
    "# Training"
   ]
  },
  {
   "cell_type": "code",
   "execution_count": 17,
   "metadata": {
    "id": "Xg9vop9MBz5A"
   },
   "outputs": [],
   "source": [
    "# Here we will use Latent Dirichlet Allocation (LDA)\n",
    "# We can also use other techniques like Non Negative Matrix Factorization (NMF) - decomposition.NMF\n",
    "lda = decomposition.LatentDirichletAllocation(n_components=6, max_iter=10, learning_method='online', learning_offset=50, n_jobs=-1, random_state=111)"
   ]
  },
  {
   "cell_type": "code",
   "execution_count": 18,
   "metadata": {
    "colab": {
     "base_uri": "https://localhost:8080/"
    },
    "id": "oZffP-JIY_27",
    "outputId": "a4d1e696-2409-4b2c-e1d8-43eefb8d7277"
   },
   "outputs": [
    {
     "data": {
      "text/plain": [
       "array([[5.23391868e-03, 1.74945305e-01, 5.24257954e-03, 5.23284325e-03,\n",
       "        8.04115083e-01, 5.23027049e-03],\n",
       "       [6.29333467e-01, 1.42136098e-02, 1.03206633e-01, 6.59693485e-04,\n",
       "        2.40722080e-01, 1.18645167e-02],\n",
       "       [1.19791030e-02, 9.40213989e-01, 1.19792084e-02, 1.19157189e-02,\n",
       "        1.19545036e-02, 1.19574767e-02],\n",
       "       ...,\n",
       "       [8.48875244e-01, 3.01510909e-03, 3.00637765e-03, 2.99042545e-03,\n",
       "        1.39092805e-01, 3.02003870e-03],\n",
       "       [6.30461250e-01, 1.69234808e-01, 1.67807457e-02, 1.67042877e-02,\n",
       "        1.67196763e-02, 1.50099232e-01],\n",
       "       [1.40555204e-03, 1.41590572e-03, 4.87089496e-01, 5.07261659e-01,\n",
       "        1.41121341e-03, 1.41617315e-03]])"
      ]
     },
     "execution_count": 18,
     "metadata": {
      "tags": []
     },
     "output_type": "execute_result"
    }
   ],
   "source": [
    "# We factorize/decompose a matrix X into two matrices W and H so that X = WH\n",
    "\n",
    "# W matrix tells which topic is most prominent in each document\n",
    "# We can see that document 1 is classified as Topic 5 because of highest probability of 0.8.\n",
    "W1 = lda.fit_transform(tf_vectors) \n",
    "W1"
   ]
  },
  {
   "cell_type": "code",
   "execution_count": 19,
   "metadata": {
    "id": "Cb_rKBAqIdPv"
   },
   "outputs": [],
   "source": [
    "# H matrix tells which word is most prominent in each topic\n",
    "H1 = lda.components_\n",
    "H1"
   ]
  },
  {
   "cell_type": "code",
   "execution_count": 20,
   "metadata": {
    "id": "M5fq2S23BzxE"
   },
   "outputs": [],
   "source": [
    "# Select only Top 15 words in each topic,\n",
    "# so that we can know what the customer is talking about in each topic\n",
    "num_words = 15\n",
    "\n",
    "vocab = np.array(vectorizer_tf.get_feature_names())\n",
    "\n",
    "top_words = lambda t: [vocab[i] for i in np.argsort(t)[:-num_words-1:-1]]\n",
    "topic_words = ([top_words(t) for t in H1])\n",
    "topics = [' '.join(t) for t in topic_words]"
   ]
  },
  {
   "cell_type": "code",
   "execution_count": 21,
   "metadata": {
    "colab": {
     "base_uri": "https://localhost:8080/"
    },
    "id": "Mc9ZQd7es12p",
    "outputId": "1e862131-0679-4759-912a-6b526a60a83c"
   },
   "outputs": [
    {
     "data": {
      "text/plain": [
       "['account card bank credit charge told money check time called chase customer transaction balance closed',\n",
       " 'debt credit account report collection company information reporting agency bureau letter creditor theft identity sent',\n",
       " 'payment loan mortgage month told time paid company called late said insurance received account year',\n",
       " 'loan mortgage state court property document attorney agreement contract sale modification consumer foreclosure complaint usaa',\n",
       " 'received number letter information phone email sent called address asked contact account time told service',\n",
       " 'loan credit payment fargo score year application rate student income time program forbearance navient day']"
      ]
     },
     "execution_count": 21,
     "metadata": {
      "tags": []
     },
     "output_type": "execute_result"
    }
   ],
   "source": [
    "# Let's see what the topics are talking about\n",
    "topics"
   ]
  },
  {
   "cell_type": "code",
   "execution_count": 22,
   "metadata": {
    "id": "ksR6IYpZGw1B"
   },
   "outputs": [],
   "source": [
    "colnames = [\"Topic\" + str(i) for i in range(lda.n_components)]\n",
    "docnames = [\"Doc\" + str(i) for i in range(len(X_train.complaints))]\n",
    "df_doc_topic = pd.DataFrame(np.round(W1, 2), columns=colnames, index=docnames)\n",
    "significant_topic = np.argmax(df_doc_topic.values, axis=1)\n",
    "df_doc_topic['dominant_topic'] = significant_topic"
   ]
  },
  {
   "cell_type": "code",
   "execution_count": 23,
   "metadata": {
    "colab": {
     "base_uri": "https://localhost:8080/",
     "height": 417
    },
    "id": "jx2p6-NwVeJY",
    "outputId": "450b2428-71cf-4adc-b125-3f2af4037dff"
   },
   "outputs": [
    {
     "data": {
      "text/html": [
       "<div>\n",
       "<style scoped>\n",
       "    .dataframe tbody tr th:only-of-type {\n",
       "        vertical-align: middle;\n",
       "    }\n",
       "\n",
       "    .dataframe tbody tr th {\n",
       "        vertical-align: top;\n",
       "    }\n",
       "\n",
       "    .dataframe thead th {\n",
       "        text-align: right;\n",
       "    }\n",
       "</style>\n",
       "<table border=\"1\" class=\"dataframe\">\n",
       "  <thead>\n",
       "    <tr style=\"text-align: right;\">\n",
       "      <th></th>\n",
       "      <th>Topic0</th>\n",
       "      <th>Topic1</th>\n",
       "      <th>Topic2</th>\n",
       "      <th>Topic3</th>\n",
       "      <th>Topic4</th>\n",
       "      <th>Topic5</th>\n",
       "      <th>dominant_topic</th>\n",
       "    </tr>\n",
       "  </thead>\n",
       "  <tbody>\n",
       "    <tr>\n",
       "      <th>Doc0</th>\n",
       "      <td>0.01</td>\n",
       "      <td>0.17</td>\n",
       "      <td>0.01</td>\n",
       "      <td>0.01</td>\n",
       "      <td>0.80</td>\n",
       "      <td>0.01</td>\n",
       "      <td>4</td>\n",
       "    </tr>\n",
       "    <tr>\n",
       "      <th>Doc1</th>\n",
       "      <td>0.63</td>\n",
       "      <td>0.01</td>\n",
       "      <td>0.10</td>\n",
       "      <td>0.00</td>\n",
       "      <td>0.24</td>\n",
       "      <td>0.01</td>\n",
       "      <td>0</td>\n",
       "    </tr>\n",
       "    <tr>\n",
       "      <th>Doc2</th>\n",
       "      <td>0.01</td>\n",
       "      <td>0.94</td>\n",
       "      <td>0.01</td>\n",
       "      <td>0.01</td>\n",
       "      <td>0.01</td>\n",
       "      <td>0.01</td>\n",
       "      <td>1</td>\n",
       "    </tr>\n",
       "    <tr>\n",
       "      <th>Doc3</th>\n",
       "      <td>0.61</td>\n",
       "      <td>0.00</td>\n",
       "      <td>0.00</td>\n",
       "      <td>0.00</td>\n",
       "      <td>0.11</td>\n",
       "      <td>0.26</td>\n",
       "      <td>0</td>\n",
       "    </tr>\n",
       "    <tr>\n",
       "      <th>Doc4</th>\n",
       "      <td>0.91</td>\n",
       "      <td>0.01</td>\n",
       "      <td>0.01</td>\n",
       "      <td>0.06</td>\n",
       "      <td>0.01</td>\n",
       "      <td>0.01</td>\n",
       "      <td>0</td>\n",
       "    </tr>\n",
       "    <tr>\n",
       "      <th>...</th>\n",
       "      <td>...</td>\n",
       "      <td>...</td>\n",
       "      <td>...</td>\n",
       "      <td>...</td>\n",
       "      <td>...</td>\n",
       "      <td>...</td>\n",
       "      <td>...</td>\n",
       "    </tr>\n",
       "    <tr>\n",
       "      <th>Doc40212</th>\n",
       "      <td>0.88</td>\n",
       "      <td>0.00</td>\n",
       "      <td>0.00</td>\n",
       "      <td>0.00</td>\n",
       "      <td>0.11</td>\n",
       "      <td>0.00</td>\n",
       "      <td>0</td>\n",
       "    </tr>\n",
       "    <tr>\n",
       "      <th>Doc40213</th>\n",
       "      <td>0.53</td>\n",
       "      <td>0.22</td>\n",
       "      <td>0.18</td>\n",
       "      <td>0.00</td>\n",
       "      <td>0.06</td>\n",
       "      <td>0.00</td>\n",
       "      <td>0</td>\n",
       "    </tr>\n",
       "    <tr>\n",
       "      <th>Doc40214</th>\n",
       "      <td>0.85</td>\n",
       "      <td>0.00</td>\n",
       "      <td>0.00</td>\n",
       "      <td>0.00</td>\n",
       "      <td>0.14</td>\n",
       "      <td>0.00</td>\n",
       "      <td>0</td>\n",
       "    </tr>\n",
       "    <tr>\n",
       "      <th>Doc40215</th>\n",
       "      <td>0.63</td>\n",
       "      <td>0.17</td>\n",
       "      <td>0.02</td>\n",
       "      <td>0.02</td>\n",
       "      <td>0.02</td>\n",
       "      <td>0.15</td>\n",
       "      <td>0</td>\n",
       "    </tr>\n",
       "    <tr>\n",
       "      <th>Doc40216</th>\n",
       "      <td>0.00</td>\n",
       "      <td>0.00</td>\n",
       "      <td>0.49</td>\n",
       "      <td>0.51</td>\n",
       "      <td>0.00</td>\n",
       "      <td>0.00</td>\n",
       "      <td>3</td>\n",
       "    </tr>\n",
       "  </tbody>\n",
       "</table>\n",
       "<p>40217 rows × 7 columns</p>\n",
       "</div>"
      ],
      "text/plain": [
       "          Topic0  Topic1  Topic2  Topic3  Topic4  Topic5  dominant_topic\n",
       "Doc0      0.01    0.17    0.01    0.01    0.80    0.01    4             \n",
       "Doc1      0.63    0.01    0.10    0.00    0.24    0.01    0             \n",
       "Doc2      0.01    0.94    0.01    0.01    0.01    0.01    1             \n",
       "Doc3      0.61    0.00    0.00    0.00    0.11    0.26    0             \n",
       "Doc4      0.91    0.01    0.01    0.06    0.01    0.01    0             \n",
       "...        ...     ...     ...     ...     ...     ...   ..             \n",
       "Doc40212  0.88    0.00    0.00    0.00    0.11    0.00    0             \n",
       "Doc40213  0.53    0.22    0.18    0.00    0.06    0.00    0             \n",
       "Doc40214  0.85    0.00    0.00    0.00    0.14    0.00    0             \n",
       "Doc40215  0.63    0.17    0.02    0.02    0.02    0.15    0             \n",
       "Doc40216  0.00    0.00    0.49    0.51    0.00    0.00    3             \n",
       "\n",
       "[40217 rows x 7 columns]"
      ]
     },
     "execution_count": 23,
     "metadata": {
      "tags": []
     },
     "output_type": "execute_result"
    }
   ],
   "source": [
    "df_doc_topic"
   ]
  },
  {
   "cell_type": "code",
   "execution_count": 24,
   "metadata": {
    "colab": {
     "base_uri": "https://localhost:8080/",
     "height": 1000
    },
    "id": "sdHfi1-uWRpQ",
    "outputId": "9f2ac312-efb9-4bd0-f9d7-7c8a894df049"
   },
   "outputs": [
    {
     "data": {
      "text/html": [
       "<div>\n",
       "<style scoped>\n",
       "    .dataframe tbody tr th:only-of-type {\n",
       "        vertical-align: middle;\n",
       "    }\n",
       "\n",
       "    .dataframe tbody tr th {\n",
       "        vertical-align: top;\n",
       "    }\n",
       "\n",
       "    .dataframe thead th {\n",
       "        text-align: right;\n",
       "    }\n",
       "</style>\n",
       "<table border=\"1\" class=\"dataframe\">\n",
       "  <thead>\n",
       "    <tr style=\"text-align: right;\">\n",
       "      <th></th>\n",
       "      <th>complaints</th>\n",
       "      <th>Product</th>\n",
       "      <th>Company</th>\n",
       "      <th>clean_complaints</th>\n",
       "    </tr>\n",
       "  </thead>\n",
       "  <tbody>\n",
       "    <tr>\n",
       "      <th>30936</th>\n",
       "      <td>Throughout XX/XX/2019, I have received multiple calls from this company. I have also asked them to not call me or anyone associated with me. They have called my mother in law way too many times asking for my partner. They have called my partner multiple times asking for me. I'm not sure what kind of operation is being ran there, but it needs to stop. I'm giving notice to cease all contact with me or anyone else except the creditor about this claimed debt. Only contact me in writing, not by phone. Thank you.</td>\n",
       "      <td>Debt collection</td>\n",
       "      <td>TRANSWORLD SYSTEMS INC</td>\n",
       "      <td>throughout xx xx received multiple calls company also asked call anyone associated called mother law way many times asking partner called partner multiple times asking sure kind operation ran needs stop giving notice cease contact anyone else except creditor claimed debt contact writing phone thank</td>\n",
       "    </tr>\n",
       "    <tr>\n",
       "      <th>34878</th>\n",
       "      <td>I have called several times, even spoken to a manager to try to clear this matter up and am not able to resolve it. \\n\\nCiti is claiming there is fraudulent activity on my account, at which they are requesting that I call in to resolve it. I have spoken to about five or six of their representatives, trying to resolve it. They are determining that it is inconclusive, and they are unable to move any further by phone. \\n\\nAt this particular time, they have \" frozen '' my spending. There is a statement on my page that will not print out that tells me charges to my account may be limited. When I try to print it, it does not show on that page because of the formatting that they have used on their web site. \\n\\nI have not received any correspondence from them in over a month. I am writing to them today to request that they close my account and apply the balance toward what I owe, because I am not able to use the account. \\n\\nFor some reason, I made a payment on the XXXX of XXXX and that payment has been cancelled. \\n\\nEvery time I have tried to contact Citi, they give some reason or another as to why we can not resolve the matter. I have asked them what do I need to do to resolve it, but they are unable to provide a resolution. \\n\\nThe problem is that I have changed my phone number. My address is still the same, but I have been staying with my sister temporarily off-and-on since her mild XXXX in XXXX. I refuse to change my address to hers, even though I have noticed that my creditors have done so against my will. I told them to keep it as my temporary address, before advising others not to change it at all. I am back and forth between her house and my mailing address listed on this account. \\n\\nMy problem is with their fraud department. They are unable to give me a solid reason why my account is tagged for fraud. They have failed to send me notification stating steps to verify my information, and to notify me of any results from an \" investigation '' that they are having or holding on my account. I have been unable to use my account since XXXX. \\n\\nThe last time I called before my account was \" flagged '', I was trying to make a payment by phone. My phone number had changed, and I verified my information. Something XXXX me off and I hung up the phone ( I believe they asked me to enter my full credit card number ), which is usually unusual when you verify the information. When I called back, they did the same thing - at which I explained that I was driving. Almost every time I called, I was driving. I was not about to risk getting into a wreck to get a credit card out, but was willing to verify all of my other information. \\n\\nSame scenario, repeatedly. I was trying to make a payment, and when I decided not to on that phone call and hung up, it was only then that I mysteriously received information saying my account had been flagged. Prior to this, the only charges that had been made on the account were to make my XXXX XXXX payments, so there are no indications of fraud on this account. \\n\\nNow that my account has been flagged, I would like my money back. This is a secured card, where I invested my money with Citi and they have locked me from using the card. I have made 2 payments since then, and now, like once before, for some reason, one of my payments didn't go through. \\n\\nNot only that, my account disappeared from their system for a little over 48 hours that I had used prior on the account. They could not process a payment on this account, so I had to use my debit card tied to this account. I have no idea why they could not use this account. However, it appears that the same thing has been going on, because a recent payment that I made has been cancelled. I am not sure why this time, but they have accessed a late fee on my account. \\n\\nAt this point, I am tired of Citi. I had a good relationship with them when I was in college, and they were called Citibank or Citigroup before they branched off into Citi. \\n\\nMy secured account is set to mature in XXXX ; however, I just want my money back. I want them to take the money that I owe them and pay off my account, and say that it is paid, and closed at customer request. This is too much headache to go through for a secured credit card. \\n\\nIf they have rules surrounding verification of my account, and new phone numbers, they should have just tried to issue a refund of my monies ... and let my account go ... \\n\\nI will pay the balance of {$7.00}, once they issue a credit to my card. But I am done with Citi ... I will never bank with them by myriad of choice again.</td>\n",
       "      <td>Credit card or prepaid card</td>\n",
       "      <td>CITIBANK, N.A.</td>\n",
       "      <td>called several times even spoken manager try clear matter able resolve citi claiming fraudulent activity account requesting call resolve spoken five six representatives trying resolve determining inconclusive unable move phone particular time frozen spending statement page print tells charges account may limited try print show page formatting used web site received correspondence month writing today request close account apply balance toward owe able use account reason made payment xxxx xxxx payment cancelled every time tried contact citi give reason another resolve matter asked need resolve unable provide resolution problem changed phone number address still staying sister temporarily since mild xxxx xxxx refuse change address even though noticed creditors done told keep temporary address advising others change back forth house mailing address listed account problem fraud department unable give solid reason account tagged fraud failed send notification stating steps verify information notify results investigation holding account unable use account since xxxx last time called account flagged trying make payment phone phone number changed verified information something xxxx hung phone believe asked enter full credit card number usually unusual verify information called back thing explained driving almost every time called driving risk getting wreck get credit card willing verify information scenario repeatedly trying make payment decided phone call hung mysteriously received information saying account flagged prior charges made account make xxxx xxxx payments indications fraud account account flagged would like money back secured card invested money citi locked using card made payments since like reason one payments go account disappeared system little hours used prior account could process payment account use debit card tied account idea could use account however appears thing going recent payment made cancelled sure time accessed late fee account point tired citi good relationship college called citibank citigroup branched citi secured account set mature xxxx however want money back want take money owe pay account say paid closed customer request much headache go secured credit card rules surrounding verification account new phone numbers tried issue refund monies let account go pay balance issue credit card done citi never bank myriad choice</td>\n",
       "    </tr>\n",
       "    <tr>\n",
       "      <th>2078</th>\n",
       "      <td>I have disputed this account and have reached out to the company/creditors MANY times but failed. This account is being reported inaccurately and incorrectly on my credit report.</td>\n",
       "      <td>Debt collection</td>\n",
       "      <td>Resurgent Capital Services L.P.</td>\n",
       "      <td>disputed account reached company creditors many times failed account reported inaccurately incorrectly credit report</td>\n",
       "    </tr>\n",
       "    <tr>\n",
       "      <th>35922</th>\n",
       "      <td>I have called Synchrony Bank/ Care Credit repeatedly 3 days in a row while I hold on the line for 3 hours and no success. I get online where they direct us to for live chat which responds to \" online chat not available. Please try again later '' They claim they have heavy amount of calls as recorded while holding for hours. I do not believe they answer calls or concerned with customers. In the midst of this national pandemic coronavirus that is causing financial hardships, they are not helping customers.. We as citizens are reaching out for help to no avail to this bank.</td>\n",
       "      <td>Credit card or prepaid card</td>\n",
       "      <td>SYNCHRONY FINANCIAL</td>\n",
       "      <td>called synchrony bank care credit repeatedly days row hold line hours success get online direct us live chat responds online chat available please try later claim heavy amount calls recorded holding hours believe answer calls concerned customers midst national pandemic coronavirus causing financial hardships helping customers citizens reaching help avail bank</td>\n",
       "    </tr>\n",
       "    <tr>\n",
       "      <th>15465</th>\n",
       "      <td>PNC recently changed their policy to not allow it's users to link their accounts or debit cards to third parties, thus denying access to my money that they are holding. This is illegal and needs to stop. I was told by my investment company PNC no longer allows me to link my account with them so I can not automatically deposit funds.</td>\n",
       "      <td>Checking or savings account</td>\n",
       "      <td>PNC Bank N.A.</td>\n",
       "      <td>pnc recently changed policy allow users link accounts debit cards third parties thus denying access money holding illegal needs stop told investment company pnc longer allows link account automatically deposit funds</td>\n",
       "    </tr>\n",
       "  </tbody>\n",
       "</table>\n",
       "</div>"
      ],
      "text/plain": [
       "                                                                                                                                                                                                                                                                                                                                                                                                                                                                                                                                                                                                                                                                                                                                                                                                                                                                                                                                                                                                                                                                                                                                                                                                                                                                                                                                                                                                                                                                                                                                                                                                                                                                                                                                                                                                                                                                                                                                                                                                                                                                                                                                                                                                                                                                                                                                                                                                                                                                                                                                                                                                                                                                                                                                                                                                                                                                                                                                                                                                                                                                                                                                                                                                                                                                                                                                                                                                                                                                                                                                                                                                                                                                                                                                                                                                                                                                                                                                                                                                                                                                                                                                                                                                                                                                                                                                                                                                                                                                                                                                                                                                                                                                                                                                                                          complaints  ...                                                                                                                                                                                                                                                                                                                                                                                                                                                                                                                                                                                                                                                                                                                                                                                                                                                                                                                                                                                                                                                                                                                                                                                                                                                                                                                                                                                                                                                                                                                                                                                                                                                                                                                                                                                                                                                                                                                                                                                                                                                                                                                                                                                                                                                                                                                                                                                                                                                                   clean_complaints\n",
       "30936  Throughout XX/XX/2019, I have received multiple calls from this company. I have also asked them to not call me or anyone associated with me. They have called my mother in law way too many times asking for my partner. They have called my partner multiple times asking for me. I'm not sure what kind of operation is being ran there, but it needs to stop. I'm giving notice to cease all contact with me or anyone else except the creditor about this claimed debt. Only contact me in writing, not by phone. Thank you.                                                                                                                                                                                                                                                                                                                                                                                                                                                                                                                                                                                                                                                                                                                                                                                                                                                                                                                                                                                                                                                                                                                                                                                                                                                                                                                                                                                                                                                                                                                                                                                                                                                                                                                                                                                                                                                                                                                                                                                                                                                                                                                                                                                                                                                                                                                                                                                                                                                                                                                                                                                                                                                                                                                                                                                                                                                                                                                                                                                                                                                                                                                                                                                                                                                                                                                                                                                                                                                                                                                                                                                                                                                                                                                                                                                                                                                                                                                                                                                                                                                                                                                                                                                                                                               ...  throughout xx xx received multiple calls company also asked call anyone associated called mother law way many times asking partner called partner multiple times asking sure kind operation ran needs stop giving notice cease contact anyone else except creditor claimed debt contact writing phone thank                                                                                                                                                                                                                                                                                                                                                                                                                                                                                                                                                                                                                                                                                                                                                                                                                                                                                                                                                                                                                                                                                                                                                                                                                                                                                                                                                                                                                                                                                                                                                                                                                                                                                                                                                                                                                                                                                                                                                                                                                                                                                                                                                                      \n",
       "34878  I have called several times, even spoken to a manager to try to clear this matter up and am not able to resolve it. \\n\\nCiti is claiming there is fraudulent activity on my account, at which they are requesting that I call in to resolve it. I have spoken to about five or six of their representatives, trying to resolve it. They are determining that it is inconclusive, and they are unable to move any further by phone. \\n\\nAt this particular time, they have \" frozen '' my spending. There is a statement on my page that will not print out that tells me charges to my account may be limited. When I try to print it, it does not show on that page because of the formatting that they have used on their web site. \\n\\nI have not received any correspondence from them in over a month. I am writing to them today to request that they close my account and apply the balance toward what I owe, because I am not able to use the account. \\n\\nFor some reason, I made a payment on the XXXX of XXXX and that payment has been cancelled. \\n\\nEvery time I have tried to contact Citi, they give some reason or another as to why we can not resolve the matter. I have asked them what do I need to do to resolve it, but they are unable to provide a resolution. \\n\\nThe problem is that I have changed my phone number. My address is still the same, but I have been staying with my sister temporarily off-and-on since her mild XXXX in XXXX. I refuse to change my address to hers, even though I have noticed that my creditors have done so against my will. I told them to keep it as my temporary address, before advising others not to change it at all. I am back and forth between her house and my mailing address listed on this account. \\n\\nMy problem is with their fraud department. They are unable to give me a solid reason why my account is tagged for fraud. They have failed to send me notification stating steps to verify my information, and to notify me of any results from an \" investigation '' that they are having or holding on my account. I have been unable to use my account since XXXX. \\n\\nThe last time I called before my account was \" flagged '', I was trying to make a payment by phone. My phone number had changed, and I verified my information. Something XXXX me off and I hung up the phone ( I believe they asked me to enter my full credit card number ), which is usually unusual when you verify the information. When I called back, they did the same thing - at which I explained that I was driving. Almost every time I called, I was driving. I was not about to risk getting into a wreck to get a credit card out, but was willing to verify all of my other information. \\n\\nSame scenario, repeatedly. I was trying to make a payment, and when I decided not to on that phone call and hung up, it was only then that I mysteriously received information saying my account had been flagged. Prior to this, the only charges that had been made on the account were to make my XXXX XXXX payments, so there are no indications of fraud on this account. \\n\\nNow that my account has been flagged, I would like my money back. This is a secured card, where I invested my money with Citi and they have locked me from using the card. I have made 2 payments since then, and now, like once before, for some reason, one of my payments didn't go through. \\n\\nNot only that, my account disappeared from their system for a little over 48 hours that I had used prior on the account. They could not process a payment on this account, so I had to use my debit card tied to this account. I have no idea why they could not use this account. However, it appears that the same thing has been going on, because a recent payment that I made has been cancelled. I am not sure why this time, but they have accessed a late fee on my account. \\n\\nAt this point, I am tired of Citi. I had a good relationship with them when I was in college, and they were called Citibank or Citigroup before they branched off into Citi. \\n\\nMy secured account is set to mature in XXXX ; however, I just want my money back. I want them to take the money that I owe them and pay off my account, and say that it is paid, and closed at customer request. This is too much headache to go through for a secured credit card. \\n\\nIf they have rules surrounding verification of my account, and new phone numbers, they should have just tried to issue a refund of my monies ... and let my account go ... \\n\\nI will pay the balance of {$7.00}, once they issue a credit to my card. But I am done with Citi ... I will never bank with them by myriad of choice again.  ...  called several times even spoken manager try clear matter able resolve citi claiming fraudulent activity account requesting call resolve spoken five six representatives trying resolve determining inconclusive unable move phone particular time frozen spending statement page print tells charges account may limited try print show page formatting used web site received correspondence month writing today request close account apply balance toward owe able use account reason made payment xxxx xxxx payment cancelled every time tried contact citi give reason another resolve matter asked need resolve unable provide resolution problem changed phone number address still staying sister temporarily since mild xxxx xxxx refuse change address even though noticed creditors done told keep temporary address advising others change back forth house mailing address listed account problem fraud department unable give solid reason account tagged fraud failed send notification stating steps verify information notify results investigation holding account unable use account since xxxx last time called account flagged trying make payment phone phone number changed verified information something xxxx hung phone believe asked enter full credit card number usually unusual verify information called back thing explained driving almost every time called driving risk getting wreck get credit card willing verify information scenario repeatedly trying make payment decided phone call hung mysteriously received information saying account flagged prior charges made account make xxxx xxxx payments indications fraud account account flagged would like money back secured card invested money citi locked using card made payments since like reason one payments go account disappeared system little hours used prior account could process payment account use debit card tied account idea could use account however appears thing going recent payment made cancelled sure time accessed late fee account point tired citi good relationship college called citibank citigroup branched citi secured account set mature xxxx however want money back want take money owe pay account say paid closed customer request much headache go secured credit card rules surrounding verification account new phone numbers tried issue refund monies let account go pay balance issue credit card done citi never bank myriad choice\n",
       "2078   I have disputed this account and have reached out to the company/creditors MANY times but failed. This account is being reported inaccurately and incorrectly on my credit report.                                                                                                                                                                                                                                                                                                                                                                                                                                                                                                                                                                                                                                                                                                                                                                                                                                                                                                                                                                                                                                                                                                                                                                                                                                                                                                                                                                                                                                                                                                                                                                                                                                                                                                                                                                                                                                                                                                                                                                                                                                                                                                                                                                                                                                                                                                                                                                                                                                                                                                                                                                                                                                                                                                                                                                                                                                                                                                                                                                                                                                                                                                                                                                                                                                                                                                                                                                                                                                                                                                                                                                                                                                                                                                                                                                                                                                                                                                                                                                                                                                                                                                                                                                                                                                                                                                                                                                                                                                                                                                                                                                                             ...  disputed account reached company creditors many times failed account reported inaccurately incorrectly credit report                                                                                                                                                                                                                                                                                                                                                                                                                                                                                                                                                                                                                                                                                                                                                                                                                                                                                                                                                                                                                                                                                                                                                                                                                                                                                                                                                                                                                                                                                                                                                                                                                                                                                                                                                                                                                                                                                                                                                                                                                                                                                                                                                                                                                                                                                                                                                             \n",
       "35922  I have called Synchrony Bank/ Care Credit repeatedly 3 days in a row while I hold on the line for 3 hours and no success. I get online where they direct us to for live chat which responds to \" online chat not available. Please try again later '' They claim they have heavy amount of calls as recorded while holding for hours. I do not believe they answer calls or concerned with customers. In the midst of this national pandemic coronavirus that is causing financial hardships, they are not helping customers.. We as citizens are reaching out for help to no avail to this bank.                                                                                                                                                                                                                                                                                                                                                                                                                                                                                                                                                                                                                                                                                                                                                                                                                                                                                                                                                                                                                                                                                                                                                                                                                                                                                                                                                                                                                                                                                                                                                                                                                                                                                                                                                                                                                                                                                                                                                                                                                                                                                                                                                                                                                                                                                                                                                                                                                                                                                                                                                                                                                                                                                                                                                                                                                                                                                                                                                                                                                                                                                                                                                                                                                                                                                                                                                                                                                                                                                                                                                                                                                                                                                                                                                                                                                                                                                                                                                                                                                                                                                                                                                                              ...  called synchrony bank care credit repeatedly days row hold line hours success get online direct us live chat responds online chat available please try later claim heavy amount calls recorded holding hours believe answer calls concerned customers midst national pandemic coronavirus causing financial hardships helping customers citizens reaching help avail bank                                                                                                                                                                                                                                                                                                                                                                                                                                                                                                                                                                                                                                                                                                                                                                                                                                                                                                                                                                                                                                                                                                                                                                                                                                                                                                                                                                                                                                                                                                                                                                                                                                                                                                                                                                                                                                                                                                                                                                                                                                                                                                        \n",
       "15465  PNC recently changed their policy to not allow it's users to link their accounts or debit cards to third parties, thus denying access to my money that they are holding. This is illegal and needs to stop. I was told by my investment company PNC no longer allows me to link my account with them so I can not automatically deposit funds.                                                                                                                                                                                                                                                                                                                                                                                                                                                                                                                                                                                                                                                                                                                                                                                                                                                                                                                                                                                                                                                                                                                                                                                                                                                                                                                                                                                                                                                                                                                                                                                                                                                                                                                                                                                                                                                                                                                                                                                                                                                                                                                                                                                                                                                                                                                                                                                                                                                                                                                                                                                                                                                                                                                                                                                                                                                                                                                                                                                                                                                                                                                                                                                                                                                                                                                                                                                                                                                                                                                                                                                                                                                                                                                                                                                                                                                                                                                                                                                                                                                                                                                                                                                                                                                                                                                                                                                                                                 ...  pnc recently changed policy allow users link accounts debit cards third parties thus denying access money holding illegal needs stop told investment company pnc longer allows link account automatically deposit funds                                                                                                                                                                                                                                                                                                                                                                                                                                                                                                                                                                                                                                                                                                                                                                                                                                                                                                                                                                                                                                                                                                                                                                                                                                                                                                                                                                                                                                                                                                                                                                                                                                                                                                                                                                                                                                                                                                                                                                                                                                                                                                                                                                                                                                                          \n",
       "\n",
       "[5 rows x 4 columns]"
      ]
     },
     "execution_count": 24,
     "metadata": {
      "tags": []
     },
     "output_type": "execute_result"
    }
   ],
   "source": [
    "X_train.head()"
   ]
  },
  {
   "cell_type": "markdown",
   "metadata": {
    "id": "IWZ9nEg1U0D7"
   },
   "source": [
    "# Testing"
   ]
  },
  {
   "cell_type": "code",
   "execution_count": 32,
   "metadata": {
    "id": "NewYZ8r8W-GG"
   },
   "outputs": [],
   "source": [
    "WHold = lda.transform(vectorizer_tf.transform(X_hold['clean_complaints']))"
   ]
  },
  {
   "cell_type": "code",
   "execution_count": 33,
   "metadata": {
    "id": "GNtw0H1Sb2Ka"
   },
   "outputs": [],
   "source": [
    "colnames = [\"Topic\" + str(i) for i in range(lda.n_components)]\n",
    "docnames = [\"Doc\" + str(i) for i in range(len(X_hold.complaints))]\n",
    "df_doc_topic = pd.DataFrame(np.round(WHold, 2), columns=colnames, index=docnames)\n",
    "significant_topic = np.argmax(df_doc_topic.values, axis=1)\n",
    "df_doc_topic['dominant_topic'] = significant_topic"
   ]
  },
  {
   "cell_type": "code",
   "execution_count": 34,
   "metadata": {
    "colab": {
     "base_uri": "https://localhost:8080/",
     "height": 417
    },
    "id": "tvWaPeLLcKds",
    "outputId": "c79cab45-ab3c-4c92-d9d8-4252fcf0def8"
   },
   "outputs": [
    {
     "data": {
      "text/html": [
       "<div>\n",
       "<style scoped>\n",
       "    .dataframe tbody tr th:only-of-type {\n",
       "        vertical-align: middle;\n",
       "    }\n",
       "\n",
       "    .dataframe tbody tr th {\n",
       "        vertical-align: top;\n",
       "    }\n",
       "\n",
       "    .dataframe thead th {\n",
       "        text-align: right;\n",
       "    }\n",
       "</style>\n",
       "<table border=\"1\" class=\"dataframe\">\n",
       "  <thead>\n",
       "    <tr style=\"text-align: right;\">\n",
       "      <th></th>\n",
       "      <th>Topic0</th>\n",
       "      <th>Topic1</th>\n",
       "      <th>Topic2</th>\n",
       "      <th>Topic3</th>\n",
       "      <th>Topic4</th>\n",
       "      <th>Topic5</th>\n",
       "      <th>dominant_topic</th>\n",
       "    </tr>\n",
       "  </thead>\n",
       "  <tbody>\n",
       "    <tr>\n",
       "      <th>Doc0</th>\n",
       "      <td>0.98</td>\n",
       "      <td>0.00</td>\n",
       "      <td>0.02</td>\n",
       "      <td>0.00</td>\n",
       "      <td>0.00</td>\n",
       "      <td>0.00</td>\n",
       "      <td>0</td>\n",
       "    </tr>\n",
       "    <tr>\n",
       "      <th>Doc1</th>\n",
       "      <td>0.00</td>\n",
       "      <td>0.00</td>\n",
       "      <td>0.46</td>\n",
       "      <td>0.12</td>\n",
       "      <td>0.41</td>\n",
       "      <td>0.00</td>\n",
       "      <td>2</td>\n",
       "    </tr>\n",
       "    <tr>\n",
       "      <th>Doc2</th>\n",
       "      <td>0.78</td>\n",
       "      <td>0.01</td>\n",
       "      <td>0.19</td>\n",
       "      <td>0.01</td>\n",
       "      <td>0.01</td>\n",
       "      <td>0.01</td>\n",
       "      <td>0</td>\n",
       "    </tr>\n",
       "    <tr>\n",
       "      <th>Doc3</th>\n",
       "      <td>0.00</td>\n",
       "      <td>0.00</td>\n",
       "      <td>0.36</td>\n",
       "      <td>0.00</td>\n",
       "      <td>0.14</td>\n",
       "      <td>0.50</td>\n",
       "      <td>5</td>\n",
       "    </tr>\n",
       "    <tr>\n",
       "      <th>Doc4</th>\n",
       "      <td>0.44</td>\n",
       "      <td>0.00</td>\n",
       "      <td>0.35</td>\n",
       "      <td>0.00</td>\n",
       "      <td>0.00</td>\n",
       "      <td>0.20</td>\n",
       "      <td>0</td>\n",
       "    </tr>\n",
       "    <tr>\n",
       "      <th>...</th>\n",
       "      <td>...</td>\n",
       "      <td>...</td>\n",
       "      <td>...</td>\n",
       "      <td>...</td>\n",
       "      <td>...</td>\n",
       "      <td>...</td>\n",
       "      <td>...</td>\n",
       "    </tr>\n",
       "    <tr>\n",
       "      <th>Doc17231</th>\n",
       "      <td>0.00</td>\n",
       "      <td>0.00</td>\n",
       "      <td>0.28</td>\n",
       "      <td>0.00</td>\n",
       "      <td>0.51</td>\n",
       "      <td>0.20</td>\n",
       "      <td>4</td>\n",
       "    </tr>\n",
       "    <tr>\n",
       "      <th>Doc17232</th>\n",
       "      <td>0.70</td>\n",
       "      <td>0.00</td>\n",
       "      <td>0.00</td>\n",
       "      <td>0.05</td>\n",
       "      <td>0.24</td>\n",
       "      <td>0.00</td>\n",
       "      <td>0</td>\n",
       "    </tr>\n",
       "    <tr>\n",
       "      <th>Doc17233</th>\n",
       "      <td>0.33</td>\n",
       "      <td>0.00</td>\n",
       "      <td>0.51</td>\n",
       "      <td>0.04</td>\n",
       "      <td>0.00</td>\n",
       "      <td>0.13</td>\n",
       "      <td>2</td>\n",
       "    </tr>\n",
       "    <tr>\n",
       "      <th>Doc17234</th>\n",
       "      <td>0.42</td>\n",
       "      <td>0.08</td>\n",
       "      <td>0.12</td>\n",
       "      <td>0.00</td>\n",
       "      <td>0.38</td>\n",
       "      <td>0.00</td>\n",
       "      <td>0</td>\n",
       "    </tr>\n",
       "    <tr>\n",
       "      <th>Doc17235</th>\n",
       "      <td>0.00</td>\n",
       "      <td>0.38</td>\n",
       "      <td>0.15</td>\n",
       "      <td>0.00</td>\n",
       "      <td>0.46</td>\n",
       "      <td>0.00</td>\n",
       "      <td>4</td>\n",
       "    </tr>\n",
       "  </tbody>\n",
       "</table>\n",
       "<p>17236 rows × 7 columns</p>\n",
       "</div>"
      ],
      "text/plain": [
       "          Topic0  Topic1  Topic2  Topic3  Topic4  Topic5  dominant_topic\n",
       "Doc0      0.98    0.00    0.02    0.00    0.00    0.00    0             \n",
       "Doc1      0.00    0.00    0.46    0.12    0.41    0.00    2             \n",
       "Doc2      0.78    0.01    0.19    0.01    0.01    0.01    0             \n",
       "Doc3      0.00    0.00    0.36    0.00    0.14    0.50    5             \n",
       "Doc4      0.44    0.00    0.35    0.00    0.00    0.20    0             \n",
       "...        ...     ...     ...     ...     ...     ...   ..             \n",
       "Doc17231  0.00    0.00    0.28    0.00    0.51    0.20    4             \n",
       "Doc17232  0.70    0.00    0.00    0.05    0.24    0.00    0             \n",
       "Doc17233  0.33    0.00    0.51    0.04    0.00    0.13    2             \n",
       "Doc17234  0.42    0.08    0.12    0.00    0.38    0.00    0             \n",
       "Doc17235  0.00    0.38    0.15    0.00    0.46    0.00    4             \n",
       "\n",
       "[17236 rows x 7 columns]"
      ]
     },
     "execution_count": 34,
     "metadata": {
      "tags": []
     },
     "output_type": "execute_result"
    }
   ],
   "source": [
    "df_doc_topic"
   ]
  },
  {
   "cell_type": "code",
   "execution_count": 35,
   "metadata": {
    "colab": {
     "base_uri": "https://localhost:8080/",
     "height": 1000
    },
    "id": "yoEBjMqxcMk2",
    "outputId": "0f9c3072-7419-4103-ecbf-2e81cffa8107"
   },
   "outputs": [
    {
     "data": {
      "text/html": [
       "<div>\n",
       "<style scoped>\n",
       "    .dataframe tbody tr th:only-of-type {\n",
       "        vertical-align: middle;\n",
       "    }\n",
       "\n",
       "    .dataframe tbody tr th {\n",
       "        vertical-align: top;\n",
       "    }\n",
       "\n",
       "    .dataframe thead th {\n",
       "        text-align: right;\n",
       "    }\n",
       "</style>\n",
       "<table border=\"1\" class=\"dataframe\">\n",
       "  <thead>\n",
       "    <tr style=\"text-align: right;\">\n",
       "      <th></th>\n",
       "      <th>complaints</th>\n",
       "      <th>Product</th>\n",
       "      <th>Company</th>\n",
       "      <th>clean_complaints</th>\n",
       "    </tr>\n",
       "  </thead>\n",
       "  <tbody>\n",
       "    <tr>\n",
       "      <th>30060</th>\n",
       "      <td>I have a business checking account at BB &amp; T. On XX/XX/2019, I attempted to deposit a check into my account and I received a message stating that I was over my monthly mobile deposit limit. I was confused because it was the first of the month and I had not deposited any checks since the previous month. I called BB &amp; T and they said that I couldnt deposit checks into business accounts via the mobile app even though I had done that before. \\n\\nI was instructed to open a personal account, into which I could deposit checks via the mobile app. I was told that if I opened the account online I would have immediate access, that I could link my personal and business accounts, and immediately be able to transfer money between them. \\n\\nOn XX/XX/XXXX, I opened my personal account online. Though I successfully opened online, I did not have online access as I had been promised. Because I was traveling in an area where there were no BB &amp; T branches, I could not go into a branch until XX/XX/2019. In the intervening time, my business account became overdrawn. I had the money in my personal account to bring it back into the black, but BB &amp; T could not make the transfer until I went into a branch. During this time, I incurred an astonishing {$320.00} in overdraft fees in my business account because I had no way of transferring money between the two accounts. \\n\\nWhen I went into the branch, I met with XXXX XXXX in XXXX XXXX County, Florida. She investigated the accounts and told me she would link them and that I would have online access in XXXX hours. The online access still never material, I was not able to transfer money and I received an additional {$36.00} overdraft fee. This brought the total to {$360.00} in overdraft fees. \\n\\nI had only opened the second account on BB &amp; Ts advice ; I could have had my customer send a bank wire directly into business account in the first week of XXXX to keep the account positive. My TOTAL deposits between the two accounts was always positive. \\n\\nI requested a refund and was told they would not refund any of the fees.</td>\n",
       "      <td>Checking or savings account</td>\n",
       "      <td>BB&amp;T CORPORATION</td>\n",
       "      <td>business checking account bb xx xx attempted deposit check account received message stating monthly mobile deposit limit confused first month deposited checks since previous month called bb said couldnt deposit checks business accounts via mobile app even though done instructed open personal account could deposit checks via mobile app told opened account online would immediate access could link personal business accounts immediately able transfer money xx xx xxxx opened personal account online though successfully opened online online access promised traveling area bb branches could go branch xx xx intervening time business account became overdrawn money personal account bring back black bb could make transfer went branch time incurred astonishing overdraft fees business account way transferring money two accounts went branch met xxxx xxxx xxxx xxxx county florida investigated accounts told would link would online access xxxx hours online access still never material able transfer money received additional overdraft fee brought total overdraft fees opened second account bb ts advice could customer send bank wire directly business account first week xxxx keep account positive total deposits two accounts always positive requested refund told would refund fees</td>\n",
       "    </tr>\n",
       "    <tr>\n",
       "      <th>53473</th>\n",
       "      <td>To who it may concern, My concern is regarding Shellpoint Mortgage Servicing Company. This company has received my monthly mortgage payments and have failed to account it as payments received. My bank has sent me proof the account was cleared and paid. This company is trying to foreclosed on my house and has sent me a letter indicating they sent my file to their Loss Mitigation dept. The person who they assigned it to is XXXX XXXX XXXX x XXXX. Their corporate number is XXXX. \\n\\nI have can send proof of my claim from above should you need it. Please assist.</td>\n",
       "      <td>Mortgage</td>\n",
       "      <td>Shellpoint Partners, LLC</td>\n",
       "      <td>may concern concern regarding shellpoint mortgage servicing company company received monthly mortgage payments failed account payments received bank sent proof account cleared paid company trying foreclosed house sent letter indicating sent file loss mitigation dept person assigned xxxx xxxx xxxx x xxxx corporate number xxxx send proof claim need please assist</td>\n",
       "    </tr>\n",
       "    <tr>\n",
       "      <th>35879</th>\n",
       "      <td>I contacted XXXX about fraudulent charges that were made on my account and the customer service representative told me that they wouldnt be able to issue anew card or remove my fraudulent charges since the account was closed due to non-payment. I was unaware of this these charging that were made.. To my knowledge I didnt owe a payment because the account wasnt being used.</td>\n",
       "      <td>Credit card or prepaid card</td>\n",
       "      <td>EQUIFAX, INC.</td>\n",
       "      <td>contacted xxxx fraudulent charges made account customer service representative told wouldnt able issue anew card remove fraudulent charges since account closed due non payment unaware charging made knowledge didnt owe payment account wasnt used</td>\n",
       "    </tr>\n",
       "    <tr>\n",
       "      <th>20993</th>\n",
       "      <td>I first applied for the Fedloan Serving program in XXXX in hopes of getting loan forgiveness since I've been paying on my student loans since late XXXX or early XXXX and I have been a public servant since XXXX, XXXX. I have never missed a payment to any of the various loan companies that owned my loans. The Fedloan Program turned me down in XXXX, saying my loans, which were originally Federal Stafford Loans, did not qualify me for the Program. In XXXX, XXXX, I was solicited by XXXX XXXX   and told I could get into this program to reduce my loan payments. I was charged {$690.00} by XXXX XXXX to get me into the Fedloan Serving program. My loan payments went down to $ XXXX/month for the first year. In XXXX, XXXX, Fedloan Servicing informed me via email that I needed to recertify my \" income-driven repayment plan. Their customer service helped me submit the form XXXX XXXX ) via the internet and it involved the IRS. For reasons I don't understand, Fedloan is now increasing my monthly payments to {$380.00}, effective XX/XX/XXXX. This is a 60 % increase. On XX/XX/XXXX, I called Fedloan regarding this issue. The customer service person suggested I ask for a recalculation and provide pay-stubs rather than IRS information. On the same call, I was transferred to a second agent who listened to my concern and suggested I get out of the Fedloan Program since I really didn't qualify for it anyway and I could save money by going to a regular payment plan with a different servicer such as XXXX which had serviced my loan previously. I feel like I've been miss-lead by the Fedloan Serving Program and by Mr. XXXX XXXX, the case manager at XXXX XXXX ( http : //www.nexum-servicing.com ). After receiving my {$690.00}, I was never able to talk to XXXX on the phone again. He had convinced me I could save money with Fedloan and he told me my payments would go down to {$0.00} when I retire from State Service in XXXX. He told me I would receive loan forgiveness once my payments went to {$0.00}. I have concluded his advise was incorrect and or miss-leading. I regret having my loan transferred to the Fedloan Program because its representatives have indicated I will not receive loan forgiveness for my 20 years of public service. I am very concerned about the cost of my student loan debt, especially since I intend to retire from State service in XXXX. I am also concerned about how I will be able to afford these student loan payments once I am receiving a pension. I am also very disappointed that I haven't been able to \" qualify '' for loan forgiveness based on my long years of public service. I think this whole Fedloan Program is complete scam and I have been duped.</td>\n",
       "      <td>Student loan</td>\n",
       "      <td>AES/PHEAA</td>\n",
       "      <td>first applied fedloan serving program xxxx hopes getting loan forgiveness since paying student loans since late xxxx early xxxx public servant since xxxx xxxx never missed payment various loan companies owned loans fedloan program turned xxxx saying loans originally federal stafford loans qualify program xxxx xxxx solicited xxxx xxxx told could get program reduce loan payments charged xxxx xxxx get fedloan serving program loan payments went xxxx month first year xxxx xxxx fedloan servicing informed via email needed recertify income driven repayment plan customer service helped submit form xxxx xxxx via internet involved irs reasons understand fedloan increasing monthly payments effective xx xx xxxx increase xx xx xxxx called fedloan regarding issue customer service person suggested ask recalculation provide pay stubs rather irs information call transferred second agent listened concern suggested get fedloan program since really qualify anyway could save money going regular payment plan different servicer xxxx serviced loan previously feel like miss lead fedloan serving program mr xxxx xxxx case manager xxxx xxxx http www nexum servicing com receiving never able talk xxxx phone convinced could save money fedloan told payments would go retire state service xxxx told would receive loan forgiveness payments went concluded advise incorrect miss leading regret loan transferred fedloan program representatives indicated receive loan forgiveness years public service concerned cost student loan debt especially since intend retire state service xxxx also concerned able afford student loan payments receiving pension also disappointed able qualify loan forgiveness based long years public service think whole fedloan program complete scam duped</td>\n",
       "    </tr>\n",
       "    <tr>\n",
       "      <th>53</th>\n",
       "      <td>On several occasions ( XXXX ) I have tried to reach someone in costumer service today XX/XX/2020 I tried again to get through and was on hold for over 20 minutes and hung up. \\n\\n3 Years ago I have made no more than {$600.00} in purchases, and while making payments on my account with a {$9000.00} limit the interest charges are deducted from the credit limit and the interest was based on the balance each month. this left my interest and charge fess higher than my monthly payment which amounted to around {$240.00} each month. \\n\\nIn all of this time the interest was so big that it completely eat up the limit balance on the card, which left in me in a vicious cycle of never paying down the money owed. with in 2 years I was able to get the balance down {$2000.00} and I asked Walmart Capital One to reduce the balance down. Now it is back up to the high bank fees and interest charges that have again gone beyond what I can afford monthly the {$240.00}. This is a unfair and infantile game that is forced on me as an consumer.</td>\n",
       "      <td>Credit card or prepaid card</td>\n",
       "      <td>CAPITAL ONE FINANCIAL CORPORATION</td>\n",
       "      <td>several occasions xxxx tried reach someone costumer service today xx xx tried get hold minutes hung years ago made purchases making payments account limit interest charges deducted credit limit interest based balance month left interest charge fess higher monthly payment amounted around month time interest big completely eat limit balance card left vicious cycle never paying money owed years able get balance asked walmart capital one reduce balance back high bank fees interest charges gone beyond afford monthly unfair infantile game forced consumer</td>\n",
       "    </tr>\n",
       "  </tbody>\n",
       "</table>\n",
       "</div>"
      ],
      "text/plain": [
       "                                                                                                                                                                                                                                                                                                                                                                                                                                                                                                                                                                                                                                                                                                                                                                                                                                                                                                                                                                                                                                                                                                                                                                                                                                                                                                                                                                                                                                                                                                                                                                                                                                                                                                                                                                                                                                                                                                                                                                                                                                                                                                                                                                                                                                                                                                                                                                                                                                                                                                                                                                                                                                                                                                                                                                                      complaints  ...                                                                                                                                                                                                                                                                                                                                                                                                                                                                                                                                                                                                                                                                                                                                                                                                                                                                                                                                                                                                                                                                                                                                                                                                                                                                                                                                                                                                                                                                                                                                                                                                                                                                                                                                                                                                                 clean_complaints\n",
       "30060  I have a business checking account at BB & T. On XX/XX/2019, I attempted to deposit a check into my account and I received a message stating that I was over my monthly mobile deposit limit. I was confused because it was the first of the month and I had not deposited any checks since the previous month. I called BB & T and they said that I couldnt deposit checks into business accounts via the mobile app even though I had done that before. \\n\\nI was instructed to open a personal account, into which I could deposit checks via the mobile app. I was told that if I opened the account online I would have immediate access, that I could link my personal and business accounts, and immediately be able to transfer money between them. \\n\\nOn XX/XX/XXXX, I opened my personal account online. Though I successfully opened online, I did not have online access as I had been promised. Because I was traveling in an area where there were no BB & T branches, I could not go into a branch until XX/XX/2019. In the intervening time, my business account became overdrawn. I had the money in my personal account to bring it back into the black, but BB & T could not make the transfer until I went into a branch. During this time, I incurred an astonishing {$320.00} in overdraft fees in my business account because I had no way of transferring money between the two accounts. \\n\\nWhen I went into the branch, I met with XXXX XXXX in XXXX XXXX County, Florida. She investigated the accounts and told me she would link them and that I would have online access in XXXX hours. The online access still never material, I was not able to transfer money and I received an additional {$36.00} overdraft fee. This brought the total to {$360.00} in overdraft fees. \\n\\nI had only opened the second account on BB & Ts advice ; I could have had my customer send a bank wire directly into business account in the first week of XXXX to keep the account positive. My TOTAL deposits between the two accounts was always positive. \\n\\nI requested a refund and was told they would not refund any of the fees.                                                                                                                                                                                                                                                                                                                                                                                                                                                                                                                                                                                                                                ...  business checking account bb xx xx attempted deposit check account received message stating monthly mobile deposit limit confused first month deposited checks since previous month called bb said couldnt deposit checks business accounts via mobile app even though done instructed open personal account could deposit checks via mobile app told opened account online would immediate access could link personal business accounts immediately able transfer money xx xx xxxx opened personal account online though successfully opened online online access promised traveling area bb branches could go branch xx xx intervening time business account became overdrawn money personal account bring back black bb could make transfer went branch time incurred astonishing overdraft fees business account way transferring money two accounts went branch met xxxx xxxx xxxx xxxx county florida investigated accounts told would link would online access xxxx hours online access still never material able transfer money received additional overdraft fee brought total overdraft fees opened second account bb ts advice could customer send bank wire directly business account first week xxxx keep account positive total deposits two accounts always positive requested refund told would refund fees                                                                                                                                                                                                                                                                                                                                                                                                                                                                                                    \n",
       "53473  To who it may concern, My concern is regarding Shellpoint Mortgage Servicing Company. This company has received my monthly mortgage payments and have failed to account it as payments received. My bank has sent me proof the account was cleared and paid. This company is trying to foreclosed on my house and has sent me a letter indicating they sent my file to their Loss Mitigation dept. The person who they assigned it to is XXXX XXXX XXXX x XXXX. Their corporate number is XXXX. \\n\\nI have can send proof of my claim from above should you need it. Please assist.                                                                                                                                                                                                                                                                                                                                                                                                                                                                                                                                                                                                                                                                                                                                                                                                                                                                                                                                                                                                                                                                                                                                                                                                                                                                                                                                                                                                                                                                                                                                                                                                                                                                                                                                                                                                                                                                                                                                                                                                                                                                                                                                                                                                        ...  may concern concern regarding shellpoint mortgage servicing company company received monthly mortgage payments failed account payments received bank sent proof account cleared paid company trying foreclosed house sent letter indicating sent file loss mitigation dept person assigned xxxx xxxx xxxx x xxxx corporate number xxxx send proof claim need please assist                                                                                                                                                                                                                                                                                                                                                                                                                                                                                                                                                                                                                                                                                                                                                                                                                                                                                                                                                                                                                                                                                                                                                                                                                                                                                                                                                                                                                                                     \n",
       "35879  I contacted XXXX about fraudulent charges that were made on my account and the customer service representative told me that they wouldnt be able to issue anew card or remove my fraudulent charges since the account was closed due to non-payment. I was unaware of this these charging that were made.. To my knowledge I didnt owe a payment because the account wasnt being used.                                                                                                                                                                                                                                                                                                                                                                                                                                                                                                                                                                                                                                                                                                                                                                                                                                                                                                                                                                                                                                                                                                                                                                                                                                                                                                                                                                                                                                                                                                                                                                                                                                                                                                                                                                                                                                                                                                                                                                                                                                                                                                                                                                                                                                                                                                                                                                                                     ...  contacted xxxx fraudulent charges made account customer service representative told wouldnt able issue anew card remove fraudulent charges since account closed due non payment unaware charging made knowledge didnt owe payment account wasnt used                                                                                                                                                                                                                                                                                                                                                                                                                                                                                                                                                                                                                                                                                                                                                                                                                                                                                                                                                                                                                                                                                                                                                                                                                                                                                                                                                                                                                                                                                                                                                                           \n",
       "20993  I first applied for the Fedloan Serving program in XXXX in hopes of getting loan forgiveness since I've been paying on my student loans since late XXXX or early XXXX and I have been a public servant since XXXX, XXXX. I have never missed a payment to any of the various loan companies that owned my loans. The Fedloan Program turned me down in XXXX, saying my loans, which were originally Federal Stafford Loans, did not qualify me for the Program. In XXXX, XXXX, I was solicited by XXXX XXXX   and told I could get into this program to reduce my loan payments. I was charged {$690.00} by XXXX XXXX to get me into the Fedloan Serving program. My loan payments went down to $ XXXX/month for the first year. In XXXX, XXXX, Fedloan Servicing informed me via email that I needed to recertify my \" income-driven repayment plan. Their customer service helped me submit the form XXXX XXXX ) via the internet and it involved the IRS. For reasons I don't understand, Fedloan is now increasing my monthly payments to {$380.00}, effective XX/XX/XXXX. This is a 60 % increase. On XX/XX/XXXX, I called Fedloan regarding this issue. The customer service person suggested I ask for a recalculation and provide pay-stubs rather than IRS information. On the same call, I was transferred to a second agent who listened to my concern and suggested I get out of the Fedloan Program since I really didn't qualify for it anyway and I could save money by going to a regular payment plan with a different servicer such as XXXX which had serviced my loan previously. I feel like I've been miss-lead by the Fedloan Serving Program and by Mr. XXXX XXXX, the case manager at XXXX XXXX ( http : //www.nexum-servicing.com ). After receiving my {$690.00}, I was never able to talk to XXXX on the phone again. He had convinced me I could save money with Fedloan and he told me my payments would go down to {$0.00} when I retire from State Service in XXXX. He told me I would receive loan forgiveness once my payments went to {$0.00}. I have concluded his advise was incorrect and or miss-leading. I regret having my loan transferred to the Fedloan Program because its representatives have indicated I will not receive loan forgiveness for my 20 years of public service. I am very concerned about the cost of my student loan debt, especially since I intend to retire from State service in XXXX. I am also concerned about how I will be able to afford these student loan payments once I am receiving a pension. I am also very disappointed that I haven't been able to \" qualify '' for loan forgiveness based on my long years of public service. I think this whole Fedloan Program is complete scam and I have been duped.  ...  first applied fedloan serving program xxxx hopes getting loan forgiveness since paying student loans since late xxxx early xxxx public servant since xxxx xxxx never missed payment various loan companies owned loans fedloan program turned xxxx saying loans originally federal stafford loans qualify program xxxx xxxx solicited xxxx xxxx told could get program reduce loan payments charged xxxx xxxx get fedloan serving program loan payments went xxxx month first year xxxx xxxx fedloan servicing informed via email needed recertify income driven repayment plan customer service helped submit form xxxx xxxx via internet involved irs reasons understand fedloan increasing monthly payments effective xx xx xxxx increase xx xx xxxx called fedloan regarding issue customer service person suggested ask recalculation provide pay stubs rather irs information call transferred second agent listened concern suggested get fedloan program since really qualify anyway could save money going regular payment plan different servicer xxxx serviced loan previously feel like miss lead fedloan serving program mr xxxx xxxx case manager xxxx xxxx http www nexum servicing com receiving never able talk xxxx phone convinced could save money fedloan told payments would go retire state service xxxx told would receive loan forgiveness payments went concluded advise incorrect miss leading regret loan transferred fedloan program representatives indicated receive loan forgiveness years public service concerned cost student loan debt especially since intend retire state service xxxx also concerned able afford student loan payments receiving pension also disappointed able qualify loan forgiveness based long years public service think whole fedloan program complete scam duped\n",
       "53     On several occasions ( XXXX ) I have tried to reach someone in costumer service today XX/XX/2020 I tried again to get through and was on hold for over 20 minutes and hung up. \\n\\n3 Years ago I have made no more than {$600.00} in purchases, and while making payments on my account with a {$9000.00} limit the interest charges are deducted from the credit limit and the interest was based on the balance each month. this left my interest and charge fess higher than my monthly payment which amounted to around {$240.00} each month. \\n\\nIn all of this time the interest was so big that it completely eat up the limit balance on the card, which left in me in a vicious cycle of never paying down the money owed. with in 2 years I was able to get the balance down {$2000.00} and I asked Walmart Capital One to reduce the balance down. Now it is back up to the high bank fees and interest charges that have again gone beyond what I can afford monthly the {$240.00}. This is a unfair and infantile game that is forced on me as an consumer.                                                                                                                                                                                                                                                                                                                                                                                                                                                                                                                                                                                                                                                                                                                                                                                                                                                                                                                                                                                                                                                                                                                                                                                                                                                                                                                                                                                                                                                                                                                                                                                                                                                                                                                   ...  several occasions xxxx tried reach someone costumer service today xx xx tried get hold minutes hung years ago made purchases making payments account limit interest charges deducted credit limit interest based balance month left interest charge fess higher monthly payment amounted around month time interest big completely eat limit balance card left vicious cycle never paying money owed years able get balance asked walmart capital one reduce balance back high bank fees interest charges gone beyond afford monthly unfair infantile game forced consumer                                                                                                                                                                                                                                                                                                                                                                                                                                                                                                                                                                                                                                                                                                                                                                                                                                                                                                                                                                                                                                                                                                                                                                                                                                                     \n",
       "\n",
       "[5 rows x 4 columns]"
      ]
     },
     "execution_count": 35,
     "metadata": {
      "tags": []
     },
     "output_type": "execute_result"
    }
   ],
   "source": [
    "X_hold.head()"
   ]
  },
  {
   "cell_type": "code",
   "execution_count": 28,
   "metadata": {
    "id": "JExLyKUycPdR"
   },
   "outputs": [],
   "source": []
  }
 ],
 "metadata": {
  "colab": {
   "collapsed_sections": [],
   "name": "Copy of Topic Modeling using LDA - scikit learn.ipynb",
   "provenance": []
  },
  "kernelspec": {
   "display_name": "Python 3",
   "language": "python",
   "name": "python3"
  },
  "language_info": {
   "codemirror_mode": {
    "name": "ipython",
    "version": 3
   },
   "file_extension": ".py",
   "mimetype": "text/x-python",
   "name": "python",
   "nbconvert_exporter": "python",
   "pygments_lexer": "ipython3",
   "version": "3.8.8"
  }
 },
 "nbformat": 4,
 "nbformat_minor": 1
}
