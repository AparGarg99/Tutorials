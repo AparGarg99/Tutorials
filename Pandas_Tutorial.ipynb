{
 "cells": [
  {
   "cell_type": "markdown",
   "metadata": {},
   "source": [
    "![maxresdefault](https://user-images.githubusercontent.com/54896849/65680586-df60c500-e074-11e9-80f8-92b3a68d596e.jpg)\n"
   ]
  },
  {
   "cell_type": "markdown",
   "metadata": {},
   "source": [
    "![1 - Copy](https://user-images.githubusercontent.com/54896849/65710094-e9ec8000-e0af-11e9-86ec-ce14baae3798.PNG)"
   ]
  },
  {
   "cell_type": "markdown",
   "metadata": {},
   "source": [
    "![2 - Copy](https://user-images.githubusercontent.com/54896849/65710175-16a09780-e0b0-11e9-82ac-958326bd8d7f.PNG)"
   ]
  },
  {
   "cell_type": "markdown",
   "metadata": {},
   "source": [
    "# Importing Libraries &#x1F43C;"
   ]
  },
  {
   "cell_type": "code",
   "execution_count": 1,
   "metadata": {},
   "outputs": [],
   "source": [
    "import numpy as np\n",
    "import pandas as pd"
   ]
  },
  {
   "cell_type": "markdown",
   "metadata": {},
   "source": [
    "---\n",
    "---"
   ]
  },
  {
   "cell_type": "markdown",
   "metadata": {},
   "source": [
    "# **Pandas Series**\n",
    "- Pandas Series is a one-dimensional labeled array capable of holding data of any type (integer, string, float, python objects, etc.)\n",
    "\n",
    "\n",
    "- Constructor--->pandas.Series( data, index, dtype, copy)"
   ]
  },
  {
   "cell_type": "markdown",
   "metadata": {},
   "source": [
    "### Creating a series using numpy array"
   ]
  },
  {
   "cell_type": "code",
   "execution_count": 2,
   "metadata": {},
   "outputs": [
    {
     "name": "stdout",
     "output_type": "stream",
     "text": [
      "0    a\n",
      "1    p\n",
      "2    a\n",
      "3    r\n",
      "dtype: object\n"
     ]
    }
   ],
   "source": [
    "data = np.array(['a','p','a','r'])\n",
    "ser = pd.Series(data)\n",
    "print(ser)"
   ]
  },
  {
   "cell_type": "code",
   "execution_count": 3,
   "metadata": {},
   "outputs": [
    {
     "name": "stdout",
     "output_type": "stream",
     "text": [
      "0    296\n",
      "1    223\n",
      "2     42\n",
      "3    449\n",
      "4     75\n",
      "5    987\n",
      "6    706\n",
      "7    228\n",
      "8     91\n",
      "9    462\n",
      "dtype: int32\n"
     ]
    }
   ],
   "source": [
    "series=pd.Series(np.random.randint(20,1000,10))\n",
    "print(series)"
   ]
  },
  {
   "cell_type": "markdown",
   "metadata": {},
   "source": [
    "### Creating a series using Lists and Tuples"
   ]
  },
  {
   "cell_type": "code",
   "execution_count": 4,
   "metadata": {},
   "outputs": [
    {
     "name": "stdout",
     "output_type": "stream",
     "text": [
      "0    a\n",
      "1    p\n",
      "2    a\n",
      "3    r\n",
      "dtype: object\n"
     ]
    }
   ],
   "source": [
    "l = ['a','p','a','r']\n",
    "  \n",
    "# create series from a list\n",
    "ser = pd.Series(l)\n",
    "print(ser)"
   ]
  },
  {
   "cell_type": "code",
   "execution_count": 5,
   "metadata": {},
   "outputs": [
    {
     "name": "stdout",
     "output_type": "stream",
     "text": [
      "30    0\n",
      "31    1\n",
      "32    2\n",
      "33    3\n",
      "34    4\n",
      "35    5\n",
      "36    6\n",
      "37    7\n",
      "38    8\n",
      "39    9\n",
      "dtype: int64\n"
     ]
    }
   ],
   "source": [
    "series2=pd.Series(tuple(range(10)),index=list(range(30,40)))\n",
    "print(series2)"
   ]
  },
  {
   "cell_type": "code",
   "execution_count": 6,
   "metadata": {},
   "outputs": [
    {
     "name": "stdout",
     "output_type": "stream",
     "text": [
      "A    0\n",
      "B    1\n",
      "C    2\n",
      "D    3\n",
      "E    4\n",
      "F    5\n",
      "G    6\n",
      "H    7\n",
      "I    8\n",
      "J    9\n",
      "dtype: int64\n"
     ]
    }
   ],
   "source": [
    "series3=pd.Series(tuple(range(10)),index=list('ABCDEFGHIJ'))\n",
    "print(series3)"
   ]
  },
  {
   "cell_type": "markdown",
   "metadata": {},
   "source": [
    "### Accessing elements of Series"
   ]
  },
  {
   "cell_type": "code",
   "execution_count": 7,
   "metadata": {},
   "outputs": [
    {
     "name": "stdout",
     "output_type": "stream",
     "text": [
      "A    0\n",
      "B    1\n",
      "C    2\n",
      "D    3\n",
      "E    4\n",
      "dtype: int64\n"
     ]
    }
   ],
   "source": [
    "#retrieve the first five elements\n",
    "print(series3[:5])"
   ]
  },
  {
   "cell_type": "code",
   "execution_count": 8,
   "metadata": {},
   "outputs": [
    {
     "name": "stdout",
     "output_type": "stream",
     "text": [
      "5\n"
     ]
    }
   ],
   "source": [
    "# accessing element using index element\n",
    "print(series3[5])"
   ]
  },
  {
   "cell_type": "code",
   "execution_count": 9,
   "metadata": {},
   "outputs": [
    {
     "data": {
      "text/plain": [
       "2    a\n",
       "3    r\n",
       "dtype: object"
      ]
     },
     "execution_count": 9,
     "metadata": {},
     "output_type": "execute_result"
    }
   ],
   "source": [
    "#access the element of series using .loc[] function.\n",
    "ser.loc[2:3] #.loc[start row no.,end row no.]"
   ]
  },
  {
   "cell_type": "code",
   "execution_count": 10,
   "metadata": {},
   "outputs": [
    {
     "data": {
      "text/plain": [
       "2    a\n",
       "dtype: object"
      ]
     },
     "execution_count": 10,
     "metadata": {},
     "output_type": "execute_result"
    }
   ],
   "source": [
    "#access the element of Series using .iloc[] function.\n",
    "#This function allows us to retrieve data by position.\n",
    "#The df.iloc indexer is very similar to df.loc but only uses integer locations to make its selections.\n",
    "ser.iloc[2:3] #iloc[row,col]"
   ]
  },
  {
   "cell_type": "markdown",
   "metadata": {},
   "source": [
    "---\n",
    "---"
   ]
  },
  {
   "cell_type": "markdown",
   "metadata": {},
   "source": [
    "# Pandas DataFrame\n",
    "\n",
    "- A Data frame is a two-dimensional data structure, i.e., data is aligned in a tabular fashion in rows and columns.\n",
    "\n",
    "- A Data frame is a two-dimensional data structure, i.e., data is aligned in a tabular fashion in rows and columns.\n",
    "\n",
    "- Constructor--->pandas.DataFrame( data, index, columns, dtype, copy)"
   ]
  },
  {
   "cell_type": "markdown",
   "metadata": {},
   "source": [
    "### Creating a DataFrame using Lists"
   ]
  },
  {
   "cell_type": "code",
   "execution_count": 11,
   "metadata": {},
   "outputs": [
    {
     "name": "stdout",
     "output_type": "stream",
     "text": [
      "   A\n",
      "a  0\n",
      "b  1\n",
      "c  2\n",
      "d  3\n",
      "e  4\n"
     ]
    }
   ],
   "source": [
    "df=pd.DataFrame(list(range(5)),index=['a','b','c','d','e'],columns=tuple('A'))\n",
    "print(df)"
   ]
  },
  {
   "cell_type": "markdown",
   "metadata": {},
   "source": [
    "### Creating a DataFrame using Dictionary"
   ]
  },
  {
   "cell_type": "code",
   "execution_count": 12,
   "metadata": {},
   "outputs": [
    {
     "name": "stdout",
     "output_type": "stream",
     "text": [
      "{'one': [1, 2, 3, 4, 5], 'two': [7, 8, 9, 10, 11], 'three': [13, 14, 15, 16, 17]}\n"
     ]
    }
   ],
   "source": [
    "dict={'one':list(range(1,6)),'two':list(range(7,12)),'three':list(range(13,18))}\n",
    "print(dict)"
   ]
  },
  {
   "cell_type": "code",
   "execution_count": 13,
   "metadata": {},
   "outputs": [
    {
     "name": "stdout",
     "output_type": "stream",
     "text": [
      "   one  two  three\n",
      "0    1    7     13\n",
      "1    2    8     14\n",
      "2    3    9     15\n",
      "3    4   10     16\n",
      "4    5   11     17\n"
     ]
    }
   ],
   "source": [
    "df2=pd.DataFrame(dict)\n",
    "print(df2)"
   ]
  },
  {
   "cell_type": "code",
   "execution_count": 14,
   "metadata": {},
   "outputs": [
    {
     "name": "stdout",
     "output_type": "stream",
     "text": [
      "   one  two  three\n",
      "a    1    7     13\n",
      "b    2    8     14\n",
      "c    3    9     15\n",
      "d    4   10     16\n",
      "e    5   11     17\n"
     ]
    }
   ],
   "source": [
    "df2=pd.DataFrame(dict,index=list('abcde'))\n",
    "print(df2)"
   ]
  },
  {
   "cell_type": "code",
   "execution_count": 15,
   "metadata": {},
   "outputs": [
    {
     "name": "stdout",
     "output_type": "stream",
     "text": [
      "   one  abx  zsd\n",
      "0    1  NaN  NaN\n",
      "1    2  NaN  NaN\n",
      "2    3  NaN  NaN\n",
      "3    4  NaN  NaN\n",
      "4    5  NaN  NaN\n"
     ]
    }
   ],
   "source": [
    "#changing the column names,changes the values to NaN\n",
    "df2=pd.DataFrame(dict,columns=['one','abx','zsd'])\n",
    "print(df2)"
   ]
  },
  {
   "cell_type": "markdown",
   "metadata": {},
   "source": [
    "### Creating a DataFrame using numpy array"
   ]
  },
  {
   "cell_type": "code",
   "execution_count": 16,
   "metadata": {},
   "outputs": [
    {
     "name": "stdout",
     "output_type": "stream",
     "text": [
      "   col1  col2  col3\n",
      "0   190   263    57\n",
      "1   706   810    95\n",
      "2    32   264    71\n",
      "3   708    97   807\n",
      "4   860   543   371\n"
     ]
    }
   ],
   "source": [
    "df3=pd.DataFrame(np.random.randint(2,1000,15).reshape(5,3),columns=['col1','col2','col3'])\n",
    "print(df3)"
   ]
  },
  {
   "cell_type": "markdown",
   "metadata": {},
   "source": [
    "### Creating a Pandas dataframe using list of tuples"
   ]
  },
  {
   "cell_type": "code",
   "execution_count": 17,
   "metadata": {},
   "outputs": [
    {
     "name": "stdout",
     "output_type": "stream",
     "text": [
      "     Name  Age  Score\n",
      "0   Peter   18      7\n",
      "1    Riff   15      6\n",
      "2    John   17      8\n",
      "3  Michel   18      7\n",
      "4   Sheli   17      5\n"
     ]
    }
   ],
   "source": [
    "data = [('Peter', 18, 7), ('Riff', 15, 6), ('John', 17, 8), ('Michel', 18, 7), ('Sheli', 17, 5) ]    \n",
    "df = pd.DataFrame(data, columns =['Name', 'Age', 'Score'])  \n",
    "print(df)  "
   ]
  },
  {
   "cell_type": "markdown",
   "metadata": {},
   "source": [
    "### Accessing elements of DataFrame"
   ]
  },
  {
   "cell_type": "code",
   "execution_count": 18,
   "metadata": {},
   "outputs": [
    {
     "name": "stdout",
     "output_type": "stream",
     "text": [
      "0    190\n",
      "1    706\n",
      "2     32\n",
      "3    708\n",
      "4    860\n",
      "Name: col1, dtype: int32\n",
      "0    190\n",
      "1    706\n",
      "2     32\n",
      "3    708\n",
      "4    860\n",
      "Name: col1, dtype: int32\n"
     ]
    }
   ],
   "source": [
    "#print all values in a column\n",
    "print(df3['col1'])\n",
    "#OR\n",
    "print(df3.col1)"
   ]
  },
  {
   "cell_type": "code",
   "execution_count": 19,
   "metadata": {},
   "outputs": [
    {
     "name": "stdout",
     "output_type": "stream",
     "text": [
      "col1    706\n",
      "col2    810\n",
      "col3     95\n",
      "Name: 1, dtype: int32\n"
     ]
    }
   ],
   "source": [
    "#print all values in a row\n",
    "print(df3.loc[1])"
   ]
  },
  {
   "cell_type": "code",
   "execution_count": 20,
   "metadata": {},
   "outputs": [
    {
     "name": "stdout",
     "output_type": "stream",
     "text": [
      "col2    97\n",
      "Name: 3, dtype: int32\n"
     ]
    }
   ],
   "source": [
    "#print the value in a particular row and column\n",
    "print(df3.loc[3,['col2']])"
   ]
  },
  {
   "cell_type": "code",
   "execution_count": 21,
   "metadata": {},
   "outputs": [
    {
     "name": "stdout",
     "output_type": "stream",
     "text": [
      "    col1   col2   col3\n",
      "0    NaN    NaN    NaN\n",
      "1  706.0  810.0    NaN\n",
      "2    NaN    NaN    NaN\n",
      "3  708.0    NaN  807.0\n",
      "4  860.0  543.0  371.0\n"
     ]
    }
   ],
   "source": [
    "#print all values which are greater than 300\n",
    "print(df3[df3>300])"
   ]
  },
  {
   "cell_type": "code",
   "execution_count": 22,
   "metadata": {},
   "outputs": [
    {
     "name": "stdout",
     "output_type": "stream",
     "text": [
      "    col1   col2   col3\n",
      "4  860.0  543.0  371.0\n"
     ]
    }
   ],
   "source": [
    "#print all rows which do not have any value less than 300(no NaN values)\n",
    "print(df3[df3>300].dropna())"
   ]
  },
  {
   "cell_type": "code",
   "execution_count": 23,
   "metadata": {},
   "outputs": [
    {
     "name": "stdout",
     "output_type": "stream",
     "text": [
      "1    810.0\n",
      "4    543.0\n",
      "Name: col2, dtype: float64\n"
     ]
    }
   ],
   "source": [
    "#print all rows of column 2 which do not have any value less than 300(no NaN values)\n",
    "print(df3[df3>300].col2.dropna())"
   ]
  }
 ],
 "metadata": {
  "kernelspec": {
   "display_name": "Python 3",
   "language": "python",
   "name": "python3"
  },
  "language_info": {
   "codemirror_mode": {
    "name": "ipython",
    "version": 3
   },
   "file_extension": ".py",
   "mimetype": "text/x-python",
   "name": "python",
   "nbconvert_exporter": "python",
   "pygments_lexer": "ipython3",
   "version": "3.7.1"
  }
 },
 "nbformat": 4,
 "nbformat_minor": 2
}
