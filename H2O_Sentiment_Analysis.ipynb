{
 "cells": [
  {
   "cell_type": "markdown",
   "metadata": {
    "id": "IhW34sSR718R"
   },
   "source": [
    "H20 is a library which provides several widely-accepted ML algorithms. \n",
    "```\n",
    "You just apply these ML algorithms on-by-one manually\n",
    "OR\n",
    "Apply all of them together using AutoML (automatic training and tuning)\n",
    "```"
   ]
  },
  {
   "cell_type": "markdown",
   "metadata": {
    "id": "hLvO2KUQmgG7"
   },
   "source": [
    "# Import Libraries"
   ]
  },
  {
   "cell_type": "code",
   "execution_count": 1,
   "metadata": {
    "colab": {
     "base_uri": "https://localhost:8080/"
    },
    "id": "KqTyL2VUqv-M",
    "outputId": "5d6b321f-e794-4794-83fa-4a1fd35940c2"
   },
   "outputs": [
    {
     "name": "stdout",
     "output_type": "stream",
     "text": [
      "Reading package lists... Done\n",
      "Building dependency tree       \n",
      "Reading state information... Done\n",
      "default-jre is already the newest version (2:1.11-68ubuntu1~18.04.1).\n",
      "default-jre set to manually installed.\n",
      "The following package was automatically installed and is no longer required:\n",
      "  libnvidia-common-460\n",
      "Use 'apt autoremove' to remove it.\n",
      "0 upgraded, 0 newly installed, 0 to remove and 34 not upgraded.\n",
      "openjdk version \"11.0.10\" 2021-01-19\n",
      "OpenJDK Runtime Environment (build 11.0.10+9-Ubuntu-0ubuntu1.18.04)\n",
      "OpenJDK 64-Bit Server VM (build 11.0.10+9-Ubuntu-0ubuntu1.18.04, mixed mode, sharing)\n"
     ]
    }
   ],
   "source": [
    "!apt-get install default-jre\n",
    "!java -version"
   ]
  },
  {
   "cell_type": "code",
   "execution_count": 2,
   "metadata": {
    "colab": {
     "base_uri": "https://localhost:8080/"
    },
    "id": "KcdldMCPq1eC",
    "outputId": "a0251475-65fb-442e-ad18-9a155ac2756a"
   },
   "outputs": [
    {
     "name": "stdout",
     "output_type": "stream",
     "text": [
      "Collecting h2o==3.30.0.1\n",
      "\u001b[?25l  Downloading https://files.pythonhosted.org/packages/96/b2/b6f5e8c7fd1efe0f6d2640b34164b10b0e28231b89cc06542a6b3a3903a0/h2o-3.30.0.1.tar.gz (129.5MB)\n",
      "\u001b[K     |████████████████████████████████| 129.5MB 61kB/s \n",
      "\u001b[?25hRequirement already satisfied: requests in /usr/local/lib/python3.7/dist-packages (from h2o==3.30.0.1) (2.23.0)\n",
      "Requirement already satisfied: tabulate in /usr/local/lib/python3.7/dist-packages (from h2o==3.30.0.1) (0.8.9)\n",
      "Requirement already satisfied: future in /usr/local/lib/python3.7/dist-packages (from h2o==3.30.0.1) (0.16.0)\n",
      "Collecting colorama>=0.3.8\n",
      "  Downloading https://files.pythonhosted.org/packages/44/98/5b86278fbbf250d239ae0ecb724f8572af1c91f4a11edf4d36a206189440/colorama-0.4.4-py2.py3-none-any.whl\n",
      "Requirement already satisfied: idna<3,>=2.5 in /usr/local/lib/python3.7/dist-packages (from requests->h2o==3.30.0.1) (2.10)\n",
      "Requirement already satisfied: chardet<4,>=3.0.2 in /usr/local/lib/python3.7/dist-packages (from requests->h2o==3.30.0.1) (3.0.4)\n",
      "Requirement already satisfied: certifi>=2017.4.17 in /usr/local/lib/python3.7/dist-packages (from requests->h2o==3.30.0.1) (2020.12.5)\n",
      "Requirement already satisfied: urllib3!=1.25.0,!=1.25.1,<1.26,>=1.21.1 in /usr/local/lib/python3.7/dist-packages (from requests->h2o==3.30.0.1) (1.24.3)\n",
      "Building wheels for collected packages: h2o\n",
      "  Building wheel for h2o (setup.py) ... \u001b[?25l\u001b[?25hdone\n",
      "  Created wheel for h2o: filename=h2o-3.30.0.1-py2.py3-none-any.whl size=129557718 sha256=445974b1b996098a390a81d31d5bc76eb64d5697ce24fa71c2e22d53c3650df7\n",
      "  Stored in directory: /root/.cache/pip/wheels/db/42/63/d118d7218432054da842f5d10bd4f99e978bde0931164e6c7a\n",
      "Successfully built h2o\n",
      "Installing collected packages: colorama, h2o\n",
      "Successfully installed colorama-0.4.4 h2o-3.30.0.1\n"
     ]
    }
   ],
   "source": [
    "!pip install h2o==3.30.0.1"
   ]
  },
  {
   "cell_type": "code",
   "execution_count": 3,
   "metadata": {
    "id": "fUbFvR7LDB3U"
   },
   "outputs": [],
   "source": [
    "import tensorflow_datasets as tfds\n",
    "import h2o\n",
    "import numpy as np\n",
    "import nltk\n",
    "from nltk.corpus import stopwords\n",
    "from h2o.estimators.word2vec import H2OWord2vecEstimator\n",
    "from h2o.estimators import H2OGradientBoostingEstimator, H2OXGBoostEstimator\n",
    "from h2o.automl import H2OAutoML"
   ]
  },
  {
   "cell_type": "code",
   "execution_count": 4,
   "metadata": {
    "colab": {
     "base_uri": "https://localhost:8080/",
     "height": 526
    },
    "id": "sLHRRkcdrAnX",
    "outputId": "cd425bdb-e6e8-43d9-d943-1a42f5e6d036"
   },
   "outputs": [
    {
     "name": "stdout",
     "output_type": "stream",
     "text": [
      "Checking whether there is an H2O instance running at http://localhost:54321 ..... not found.\n",
      "Attempting to start a local H2O server...\n",
      "  Java Version: openjdk version \"11.0.10\" 2021-01-19; OpenJDK Runtime Environment (build 11.0.10+9-Ubuntu-0ubuntu1.18.04); OpenJDK 64-Bit Server VM (build 11.0.10+9-Ubuntu-0ubuntu1.18.04, mixed mode, sharing)\n",
      "  Starting server from /usr/local/lib/python3.7/dist-packages/h2o/backend/bin/h2o.jar\n",
      "  Ice root: /tmp/tmpnu4f15xp\n",
      "  JVM stdout: /tmp/tmpnu4f15xp/h2o_unknownUser_started_from_python.out\n",
      "  JVM stderr: /tmp/tmpnu4f15xp/h2o_unknownUser_started_from_python.err\n",
      "  Server is running at http://127.0.0.1:54321\n",
      "Connecting to H2O server at http://127.0.0.1:54321 ... successful.\n",
      "Warning: Your H2O cluster version is too old (1 year, 1 month and 1 day)! Please download and install the latest version from http://h2o.ai/download/\n"
     ]
    },
    {
     "data": {
      "text/html": [
       "<div style=\"overflow:auto\"><table style=\"width:50%\"><tr><td>H2O_cluster_uptime:</td>\n",
       "<td>02 secs</td></tr>\n",
       "<tr><td>H2O_cluster_timezone:</td>\n",
       "<td>Etc/UTC</td></tr>\n",
       "<tr><td>H2O_data_parsing_timezone:</td>\n",
       "<td>UTC</td></tr>\n",
       "<tr><td>H2O_cluster_version:</td>\n",
       "<td>3.30.0.1</td></tr>\n",
       "<tr><td>H2O_cluster_version_age:</td>\n",
       "<td>1 year, 1 month and 1 day !!!</td></tr>\n",
       "<tr><td>H2O_cluster_name:</td>\n",
       "<td>H2O_from_python_unknownUser_sh9ykk</td></tr>\n",
       "<tr><td>H2O_cluster_total_nodes:</td>\n",
       "<td>1</td></tr>\n",
       "<tr><td>H2O_cluster_free_memory:</td>\n",
       "<td>3.180 Gb</td></tr>\n",
       "<tr><td>H2O_cluster_total_cores:</td>\n",
       "<td>2</td></tr>\n",
       "<tr><td>H2O_cluster_allowed_cores:</td>\n",
       "<td>2</td></tr>\n",
       "<tr><td>H2O_cluster_status:</td>\n",
       "<td>accepting new members, healthy</td></tr>\n",
       "<tr><td>H2O_connection_url:</td>\n",
       "<td>http://127.0.0.1:54321</td></tr>\n",
       "<tr><td>H2O_connection_proxy:</td>\n",
       "<td>{\"http\": null, \"https\": null}</td></tr>\n",
       "<tr><td>H2O_internal_security:</td>\n",
       "<td>False</td></tr>\n",
       "<tr><td>H2O_API_Extensions:</td>\n",
       "<td>Amazon S3, XGBoost, Algos, AutoML, Core V3, TargetEncoder, Core V4</td></tr>\n",
       "<tr><td>Python_version:</td>\n",
       "<td>3.7.10 final</td></tr></table></div>"
      ],
      "text/plain": [
       "--------------------------  ------------------------------------------------------------------\n",
       "H2O_cluster_uptime:         02 secs\n",
       "H2O_cluster_timezone:       Etc/UTC\n",
       "H2O_data_parsing_timezone:  UTC\n",
       "H2O_cluster_version:        3.30.0.1\n",
       "H2O_cluster_version_age:    1 year, 1 month and 1 day !!!\n",
       "H2O_cluster_name:           H2O_from_python_unknownUser_sh9ykk\n",
       "H2O_cluster_total_nodes:    1\n",
       "H2O_cluster_free_memory:    3.180 Gb\n",
       "H2O_cluster_total_cores:    2\n",
       "H2O_cluster_allowed_cores:  2\n",
       "H2O_cluster_status:         accepting new members, healthy\n",
       "H2O_connection_url:         http://127.0.0.1:54321\n",
       "H2O_connection_proxy:       {\"http\": null, \"https\": null}\n",
       "H2O_internal_security:      False\n",
       "H2O_API_Extensions:         Amazon S3, XGBoost, Algos, AutoML, Core V3, TargetEncoder, Core V4\n",
       "Python_version:             3.7.10 final\n",
       "--------------------------  ------------------------------------------------------------------"
      ]
     },
     "metadata": {
      "tags": []
     },
     "output_type": "display_data"
    }
   ],
   "source": [
    "h2o.init()"
   ]
  },
  {
   "cell_type": "markdown",
   "metadata": {
    "id": "Pk4i6fu9j4lm"
   },
   "source": [
    "# Dataset Preparation"
   ]
  },
  {
   "cell_type": "code",
   "execution_count": 5,
   "metadata": {
    "colab": {
     "base_uri": "https://localhost:8080/",
     "height": 316,
     "referenced_widgets": [
      "7f66d95498a14f2182ef725ca588dc50",
      "0dbedf6850ff4cb1813711b5e7bf7342",
      "91a05ea172664939a2b5fcb08bf5e8bb",
      "cd1c3d7f9dc042d9ad024166c9f4d3da",
      "ac26b0014c944d1ca33745004691db5c",
      "6211585499434123b8acb49d04e4bb2d",
      "e3d2db9e54a84d28b2e46597bac0c658",
      "e3a490fe63254b52a7a6b43c924f7bf6",
      "0b816610f66644de940110cdc275c12d",
      "bd409435aefa462ab910e3a3e18ce14e",
      "40dfa37f782d4cbabc30bb0021cda820",
      "a4ccf1a585fc4e5fb811d3ffb693424e",
      "fd3d01687be14b8e9a25346091cf7c65",
      "3b24f124b887449a9a9ea72d6080ad43",
      "8327363c67cb47658333189850372cb4",
      "155311c14d394215989fe4bc33b4ea7a",
      "ab16e4a80603451fad435d24c94164fa",
      "44b1fb7033c14968aed14973884c9b1b",
      "bfda460a242a4be58e928ea6c0b0ae47",
      "ca0c464043214d2da7b19d4c1bf99ee4",
      "dda28ac4b57e4b19830ac347670650c2",
      "7a8b8287e32144bebb7486348864a925",
      "03e9b7a011da4129945c4520c3bbd649",
      "27742f763415480a8ee7c644a42d3977",
      "51bcff4164504f0c9b23bcad112de7b2",
      "cb8e26f3d71c42cca22ce2dfa692d999",
      "b262bed6e56f4c669e0c4cdd490940be",
      "20a287151eef40ed9f956ab869d5cb91",
      "de90615665c9489dac872444387dc6c8",
      "fe613d6fc90248a186d15443b6a0bc71",
      "3cba4a9f5bcd40e198c2dea0b006261c",
      "f598530645b44b98bb7906c3598b30f8",
      "bffb58446fdd47cfa7c46d15264a731a",
      "18e4ec584e384c6b85a9ba9dd353f1fb",
      "7112b105d506427cb8e30512f9428a2b",
      "a92442d5b3504c918ee628c96862c06b",
      "13707fc6662445cfab55ab69640f22ba",
      "2b843e80fb8940e296e2d94f4179c682",
      "3ad5b94d8d3c40f4ab3348e0389de0b9",
      "4e74aa21d37747c4ae8ad35def238b9f"
     ]
    },
    "id": "QDH43tw-DN4y",
    "outputId": "25b4e267-d3b1-4bb4-e836-277f2bd48a29"
   },
   "outputs": [
    {
     "name": "stdout",
     "output_type": "stream",
     "text": [
      "Downloading and preparing dataset amazon_us_reviews/Personal_Care_Appliances_v1_00/0.1.0 (download: 16.82 MiB, generated: Unknown size, total: 16.82 MiB) to /root/tensorflow_datasets/amazon_us_reviews/Personal_Care_Appliances_v1_00/0.1.0...\n"
     ]
    },
    {
     "data": {
      "application/vnd.jupyter.widget-view+json": {
       "model_id": "7f66d95498a14f2182ef725ca588dc50",
       "version_major": 2,
       "version_minor": 0
      },
      "text/plain": [
       "HBox(children=(FloatProgress(value=1.0, bar_style='info', description='Dl Completed...', max=1.0, style=Progre…"
      ]
     },
     "metadata": {
      "tags": []
     },
     "output_type": "display_data"
    },
    {
     "data": {
      "application/vnd.jupyter.widget-view+json": {
       "model_id": "0b816610f66644de940110cdc275c12d",
       "version_major": 2,
       "version_minor": 0
      },
      "text/plain": [
       "HBox(children=(FloatProgress(value=1.0, bar_style='info', description='Dl Size...', max=1.0, style=ProgressSty…"
      ]
     },
     "metadata": {
      "tags": []
     },
     "output_type": "display_data"
    },
    {
     "data": {
      "application/vnd.jupyter.widget-view+json": {
       "model_id": "ab16e4a80603451fad435d24c94164fa",
       "version_major": 2,
       "version_minor": 0
      },
      "text/plain": [
       "HBox(children=(FloatProgress(value=1.0, bar_style='info', description='Extraction completed...', max=1.0, styl…"
      ]
     },
     "metadata": {
      "tags": []
     },
     "output_type": "display_data"
    },
    {
     "name": "stdout",
     "output_type": "stream",
     "text": [
      "\n",
      "\n",
      "\n",
      "\n",
      "\n",
      "\n"
     ]
    },
    {
     "data": {
      "application/vnd.jupyter.widget-view+json": {
       "model_id": "51bcff4164504f0c9b23bcad112de7b2",
       "version_major": 2,
       "version_minor": 0
      },
      "text/plain": [
       "HBox(children=(FloatProgress(value=1.0, bar_style='info', max=1.0), HTML(value='')))"
      ]
     },
     "metadata": {
      "tags": []
     },
     "output_type": "display_data"
    },
    {
     "name": "stdout",
     "output_type": "stream",
     "text": [
      "\r",
      "Shuffling and writing examples to /root/tensorflow_datasets/amazon_us_reviews/Personal_Care_Appliances_v1_00/0.1.0.incomplete7N3WX2/amazon_us_reviews-train.tfrecord\n"
     ]
    },
    {
     "data": {
      "application/vnd.jupyter.widget-view+json": {
       "model_id": "bffb58446fdd47cfa7c46d15264a731a",
       "version_major": 2,
       "version_minor": 0
      },
      "text/plain": [
       "HBox(children=(FloatProgress(value=0.0, max=85981.0), HTML(value='')))"
      ]
     },
     "metadata": {
      "tags": []
     },
     "output_type": "display_data"
    },
    {
     "name": "stdout",
     "output_type": "stream",
     "text": [
      "Dataset amazon_us_reviews downloaded and prepared to /root/tensorflow_datasets/amazon_us_reviews/Personal_Care_Appliances_v1_00/0.1.0. Subsequent calls will reuse this data.\n"
     ]
    }
   ],
   "source": [
    "# load dataset\n",
    "dataset, info = tfds.load('amazon_us_reviews/Personal_Care_Appliances_v1_00', with_info=True, batch_size=-1)\n",
    "train_dataset = dataset['train']"
   ]
  },
  {
   "cell_type": "code",
   "execution_count": 6,
   "metadata": {
    "colab": {
     "base_uri": "https://localhost:8080/"
    },
    "id": "u1diITDtD9xD",
    "outputId": "0bf5a567-91fe-417c-9bd0-0f1e29ef0f8e"
   },
   "outputs": [
    {
     "data": {
      "text/plain": [
       "tfds.core.DatasetInfo(\n",
       "    name='amazon_us_reviews',\n",
       "    version=0.1.0,\n",
       "    description='Amazon Customer Reviews (a.k.a. Product Reviews) is one of Amazons iconic products. In a period of over two decades since the first review in 1995, millions of Amazon customers have contributed over a hundred million reviews to express opinions and describe their experiences regarding products on the Amazon.com website. This makes Amazon Customer Reviews a rich source of information for academic researchers in the fields of Natural Language Processing (NLP), Information Retrieval (IR), and Machine Learning (ML), amongst others. Accordingly, we are releasing this data to further research in multiple disciplines related to understanding customer product experiences. Specifically, this dataset was constructed to represent a sample of customer evaluations and opinions, variation in the perception of a product across geographical regions, and promotional intent or bias in reviews.\n",
       "\n",
       "Over 130+ million customer reviews are available to researchers as part of this release. The data is available in TSV files in the amazon-reviews-pds S3 bucket in AWS US East Region. Each line in the data files corresponds to an individual review (tab delimited, with no quote and escape characters).\n",
       "\n",
       "Each Dataset contains the following columns : \n",
       "  marketplace       - 2 letter country code of the marketplace where the review was written.\n",
       "  customer_id       - Random identifier that can be used to aggregate reviews written by a single author.\n",
       "  review_id         - The unique ID of the review.\n",
       "  product_id        - The unique Product ID the review pertains to. In the multilingual dataset the reviews\n",
       "                      for the same product in different countries can be grouped by the same product_id.\n",
       "  product_parent    - Random identifier that can be used to aggregate reviews for the same product.\n",
       "  product_title     - Title of the product.\n",
       "  product_category  - Broad product category that can be used to group reviews \n",
       "                      (also used to group the dataset into coherent parts).\n",
       "  star_rating       - The 1-5 star rating of the review.\n",
       "  helpful_votes     - Number of helpful votes.\n",
       "  total_votes       - Number of total votes the review received.\n",
       "  vine              - Review was written as part of the Vine program.\n",
       "  verified_purchase - The review is on a verified purchase.\n",
       "  review_headline   - The title of the review.\n",
       "  review_body       - The review text.\n",
       "  review_date       - The date the review was written.',\n",
       "    homepage='https://s3.amazonaws.com/amazon-reviews-pds/readme.html',\n",
       "    features=FeaturesDict({\n",
       "        'data': FeaturesDict({\n",
       "            'customer_id': tf.string,\n",
       "            'helpful_votes': tf.int32,\n",
       "            'marketplace': tf.string,\n",
       "            'product_category': tf.string,\n",
       "            'product_id': tf.string,\n",
       "            'product_parent': tf.string,\n",
       "            'product_title': tf.string,\n",
       "            'review_body': tf.string,\n",
       "            'review_date': tf.string,\n",
       "            'review_headline': tf.string,\n",
       "            'review_id': tf.string,\n",
       "            'star_rating': tf.int32,\n",
       "            'total_votes': tf.int32,\n",
       "            'verified_purchase': ClassLabel(shape=(), dtype=tf.int64, num_classes=2),\n",
       "            'vine': ClassLabel(shape=(), dtype=tf.int64, num_classes=2),\n",
       "        }),\n",
       "    }),\n",
       "    total_num_examples=85981,\n",
       "    splits={\n",
       "        'train': 85981,\n",
       "    },\n",
       "    supervised_keys=None,\n",
       "    citation=\"\"\"\"\"\",\n",
       "    redistribution_info=,\n",
       ")"
      ]
     },
     "execution_count": 6,
     "metadata": {
      "tags": []
     },
     "output_type": "execute_result"
    }
   ],
   "source": [
    "info"
   ]
  },
  {
   "cell_type": "code",
   "execution_count": 7,
   "metadata": {
    "colab": {
     "base_uri": "https://localhost:8080/",
     "height": 726
    },
    "id": "FeuwcjT2oLWd",
    "outputId": "9f4e6d62-adff-45b5-a029-4aa75e1037e8"
   },
   "outputs": [
    {
     "name": "stdout",
     "output_type": "stream",
     "text": [
      "Parse progress: |█████████████████████████████████████████████████████████| 100%\n"
     ]
    },
    {
     "data": {
      "text/html": [
       "<table>\n",
       "<thead>\n",
       "<tr><th style=\"text-align: right;\">  votes</th><th>headline                                                                 </th><th>reviews                                                                                                                                                                                                                                                                                                                                                                                                                                                                                                                                                                                                                                                                                                                                                                                                                                                                                                                                                                                                                                                                                                                           </th><th style=\"text-align: right;\">  rating</th></tr>\n",
       "</thead>\n",
       "<tbody>\n",
       "<tr><td style=\"text-align: right;\">      0</td><td>b&#x27;These glasses are an excellent value. The fit is good and they are ...&#x27;</td><td>b&quot;These glasses are an excellent value.  The fit is good and they are very comfortable.  Because of my legal blindness, there aren&#x27;t a lot of options to try to see better, but I believe these help with my other visual aids, and because they are reasonably priced I can have more than one pair available.&quot;                                                                                                                                                                                                                                                                                                                                                                                                                                                                                                                                                                                                                                                                                                                                                                                                                  </td><td style=\"text-align: right;\">       4</td></tr>\n",
       "<tr><td style=\"text-align: right;\">      3</td><td>b&#x27;A fantastic way to cheaply try straight razor shaving.&#x27;                </td><td>b&quot;Always wanted to try straight razor shaving (as a DE safety razor user), and this was a cheap way for me to determine I was not into it.&lt;br /&gt;&lt;br /&gt;Because the blades are disposable and always sharp, I could put a new one in and reasonably rely upon that fact that cuts were probably due to my technique and not the blade.&lt;br /&gt;&lt;br /&gt;It&#x27;s very hard to do straight razor shaving on yourself because the ANGLE is difficult to control without switching hands. Being very right-handed, I really couldn&#x27;t do that. I bet I could shave someone else&#x27;s face with it though.&lt;br /&gt;&lt;br /&gt;An immediate upside? Using a DE safety razor (slant edged even) seems SUPER safe now! I&#x27;m increased my speed with the DE due to that confidence, and I&#x27;d been using it for years now.&quot;                                                                                                                                                                                                                                                                                                                                          </td><td style=\"text-align: right;\">       5</td></tr>\n",
       "<tr><td style=\"text-align: right;\">      0</td><td>b&#x27;Great for travel&#x27;                                                      </td><td>b&#x27;I usually either throw my toothbrush in a plastic bag with spare head so this product is very convenient for keeping all the parts apart, dry and undamaged, and i now keep it in my travel bag all the time ready to go.&#x27;                                                                                                                                                                                                                                                                                                                                                                                                                                                                                                                                                                                                                                                                                                                                                                                                                                                                                                      </td><td style=\"text-align: right;\">       4</td></tr>\n",
       "<tr><td style=\"text-align: right;\">      0</td><td>b&#x27;Five Stars&#x27;                                                            </td><td>b&#x27;Top quality.&#x27;                                                                                                                                                                                                                                                                                                                                                                                                                                                                                                                                                                                                                                                                                                                                                                                                                                                                                                                                                                                                                                                                                                                   </td><td style=\"text-align: right;\">       5</td></tr>\n",
       "<tr><td style=\"text-align: right;\">      1</td><td>b&#x27;*Product sent not as shown&#x27;                                            </td><td>b&#x27;Today I received  1 Fl. Oz, Natures Balance AlkaMAX alkaline booster liquid unflavored (formally TriMedica) a glass brown bottle with eye dropper.&lt;br /&gt;Supplement Facts; Serving Size: 10 Drops (Approx. 0.5 mL). Servings per Container: Approx. 60&lt;br /&gt;Amount Per Serving % Daily Value&lt;br /&gt;Magnesium (as Magnesium Chloride) 40 mg 10%&lt;br /&gt;Chloride (as Magnesium Chloride) 64 mg 2%&lt;br /&gt;Other Ingredients: Deionized water and trace mineral complex.&lt;br /&gt;Directions: Add 10 drops to 8 oz. of water or other beverage daily as needed or as directed by your health care practitioner. Store in a cool, dry place.&lt;br /&gt;&lt;br /&gt;I have not used product as of yet with changed ingredients of original/as shown in AlkaMax alkaline support white squeeze bottle.&lt;br /&gt;but had to rate to post...heck this new may be better for all I know.&#x27;                                                                                                                                                                                                                                                                          </td><td style=\"text-align: right;\">       3</td></tr>\n",
       "<tr><td style=\"text-align: right;\">      6</td><td>b&#x27;Seems to work well!&#x27;                                                   </td><td>b&#x27;I recently picked this unit up at Bed and Bath where it was $99.00. With a 20% coupon the price was $80 (so comparison shop!) It\\&#x27;s easy to use and seems to work well. I agree with other reviewers about the noise level (loud like a tea kettle boiling), but I use this unit in the living room area so sleeping is not an issue. Having the 2 separate water reservoirs to fill is much easier, weight-wise, as I previously had another humidifier which had one large water reservoir and it was very heavy when full. The unit comes apart quite easily for cleaning and since frequent cleaning is recommended (I usually do it 1x per week, not daily) this is a definite plus. Additionally, one only needs to use vinegar to clean the inside reservoir, which is a lot cheaper than having to buy some kind of \\\\\\\\&quot;special\\\\\\\\&quot; cleaning solution. My one complaint is that it doesn\\&#x27;t, but should, have an automatic shut off when both tanks are empty.I have to remember to turn the unit off when I leave the house. My previous humidifiers all had this auto turn off; seems like every humidifier should.&#x27;</td><td style=\"text-align: right;\">       4</td></tr>\n",
       "<tr><td style=\"text-align: right;\">      8</td><td>b&#x27;deep heat?????&#x27;                                                        </td><td>b&#x27;Not sure what previous reviewer was talking about. The product uses ULTRASOUND waves for pain relief NOT heat.  After repeated use, the pain in my knee and shoulder was feeling great. I think you should re-read the description and reconsider your opinion. Great product sold by a great company.&#x27;                                                                                                                                                                                                                                                                                                                                                                                                                                                                                                                                                                                                                                                                                                                                                                                                                         </td><td style=\"text-align: right;\">       5</td></tr>\n",
       "<tr><td style=\"text-align: right;\">      2</td><td>b&#x27;Thermometer for a toddler&#x27;                                             </td><td>b&quot;The shippers were great....willing to consider speedier shipping options, but in the end the standard shipping arrived quickly enough. The thermometer is fun and easy to use, but with an inquisitive toddler, it would be nice to have the plastic cap attached to the body so that it doesn&#x27;t disappear.  Would buy it again from these sellers.&quot;                                                                                                                                                                                                                                                                                                                                                                                                                                                                                                                                                                                                                                                                                                                                                                            </td><td style=\"text-align: right;\">       4</td></tr>\n",
       "<tr><td style=\"text-align: right;\">      2</td><td>b&#x27;Wow!&#x27;                                                                  </td><td>b&quot;Man, for all you who know what I&#x27;m talking about, this is the best thing I&#x27;ve ever had on my back.  I suffer from back pain constantly and find myself waking up in the middle of the night pushing parts of my back and neck on the edges of walls on the corners of doors and sometimes lying down on tennis or racket balls to get pressure on those dang trigger points.  I opted for the body sticks package not knowing what they would do and it was a good thing.  They are like have racket balls on the ends of sticks to beat your muscle spasms and to lie down on them rolling around on your back. It is worth the money.  They use a device similar to this in physical therapy so if you get your doctor to write you a script for it, insurance may very well pay for it like mine did.  Even so, paid or not, buy this sucker.  Buy two, I thought, just in case it breaks and they for some reason stop manufacturing this thing.  Good stuff.&quot;                                                                                                                                                              </td><td style=\"text-align: right;\">       5</td></tr>\n",
       "<tr><td style=\"text-align: right;\">      1</td><td>b&#x27;Great cane for people with hand and wrist issues&#x27;                      </td><td>b&quot;I purchased this cane to assist me when I have to walk long distances.  I have rheumatoid arthritis that has particularly affected my low back and hips, and it sometimes makes walking difficult.  The problem with using a cane when you have RA is that RA doesn&#x27;t just affect your lower extremities.  My hands, wrists, and shoulders are also affected.  When I tried a normal cane, it was agonizingly painful for my hand and wrist in particular.  That made it not worth using, even though it did help my hip and back.  A friend with similar issues recommended this one, and the difference was amazing.  It is still a bit hard on my hand after awhile, but not to the point that would make it not worth using.  There really is no perfect solution for this circumstance short of a wheelchair, and I&#x27;m nowhere near ready for that yet!  The forearm rest makes it bearable to use this cane, and it does really help me to walk longer distances when I need to!  It is a great product, and I&#x27;m happy that I purchased it!&quot;                                                                               </td><td style=\"text-align: right;\">       4</td></tr>\n",
       "</tbody>\n",
       "</table>"
      ]
     },
     "metadata": {
      "tags": []
     },
     "output_type": "display_data"
    },
    {
     "data": {
      "text/plain": []
     },
     "execution_count": 7,
     "metadata": {
      "tags": []
     },
     "output_type": "execute_result"
    }
   ],
   "source": [
    "# convert data type\n",
    "dataset=tfds.as_numpy(train_dataset)\n",
    "\n",
    "# feature selection\n",
    "helpful_votes=dataset['data']['helpful_votes']\n",
    "review_headline=dataset['data']['review_headline']\n",
    "review_body=dataset['data']['review_body']\n",
    "rating=dataset['data']['star_rating']\n",
    "\n",
    "# convert to H20 dataframe\n",
    "h2o_df=h2o.H2OFrame(np.hstack((helpful_votes[:,None],review_headline[:,None],review_body[:,None],rating[:,None])),\n",
    "                    column_names=['votes','headline','reviews','rating'],\n",
    "                    column_types=['numeric','string','string','numeric'])\n",
    "\n",
    "h2o_df.head()"
   ]
  },
  {
   "cell_type": "code",
   "execution_count": 8,
   "metadata": {
    "id": "ydJ-TzNZvaHR"
   },
   "outputs": [],
   "source": [
    "# create target column i.e. positve/negative sentiment\n",
    "h2o_df[\"target\"] = (h2o_df[\"rating\"] >= 4).ifelse(\"1\", \"0\")"
   ]
  },
  {
   "cell_type": "code",
   "execution_count": 9,
   "metadata": {
    "colab": {
     "base_uri": "https://localhost:8080/"
    },
    "id": "SbU4KHtEyJdM",
    "outputId": "70754c15-8cc5-49d5-b10c-70693aae087f"
   },
   "outputs": [
    {
     "data": {
      "text/plain": [
       "85981"
      ]
     },
     "execution_count": 9,
     "metadata": {
      "tags": []
     },
     "output_type": "execute_result"
    }
   ],
   "source": [
    "h2o_df.shape[0]"
   ]
  },
  {
   "cell_type": "code",
   "execution_count": 10,
   "metadata": {
    "colab": {
     "base_uri": "https://localhost:8080/",
     "height": 78
    },
    "id": "f1p0u2X8yJaX",
    "outputId": "6ea539d7-9fea-4e96-c717-c6ecf0ba5448"
   },
   "outputs": [
    {
     "data": {
      "text/html": [
       "<table>\n",
       "<thead>\n",
       "<tr><th style=\"text-align: right;\">  target</th><th style=\"text-align: right;\">  Count</th></tr>\n",
       "</thead>\n",
       "<tbody>\n",
       "<tr><td style=\"text-align: right;\">       0</td><td style=\"text-align: right;\">  23427</td></tr>\n",
       "<tr><td style=\"text-align: right;\">       1</td><td style=\"text-align: right;\">  62554</td></tr>\n",
       "</tbody>\n",
       "</table>"
      ]
     },
     "metadata": {
      "tags": []
     },
     "output_type": "display_data"
    },
    {
     "data": {
      "text/plain": []
     },
     "execution_count": 10,
     "metadata": {
      "tags": []
     },
     "output_type": "execute_result"
    }
   ],
   "source": [
    "h2o_df[\"target\"].table()"
   ]
  },
  {
   "cell_type": "markdown",
   "metadata": {
    "id": "XSFstZvgk8nM"
   },
   "source": [
    "# Create Embedding"
   ]
  },
  {
   "cell_type": "code",
   "execution_count": 11,
   "metadata": {
    "colab": {
     "base_uri": "https://localhost:8080/"
    },
    "id": "eqGNG1soyJVD",
    "outputId": "2d91ca64-f79d-41d4-e82d-df4aa0830156"
   },
   "outputs": [
    {
     "name": "stdout",
     "output_type": "stream",
     "text": [
      "[nltk_data] Downloading package stopwords to /root/nltk_data...\n",
      "[nltk_data]   Unzipping corpora/stopwords.zip.\n"
     ]
    }
   ],
   "source": [
    "# get stopwords list\n",
    "nltk.download('stopwords')\n",
    "stop_words = set(stopwords.words('english'))"
   ]
  },
  {
   "cell_type": "code",
   "execution_count": 12,
   "metadata": {
    "id": "r4F49W-pyJI7"
   },
   "outputs": [],
   "source": [
    "# create vocabulary of words\n",
    "def tokenize(line):\n",
    "  tokenized = line.tokenize(\"\\\\W+\")\n",
    "  tokenized = tokenized.tolower()\n",
    "  tokenized = tokenized[(tokenized.nchar() >= 2) | (tokenized.isna()),:]\n",
    "  tokenized_filter = tokenized[(tokenized.isna()) | (~ tokenized.isin(stop_words)),:]\n",
    "  return tokenized_filter"
   ]
  },
  {
   "cell_type": "code",
   "execution_count": 13,
   "metadata": {
    "colab": {
     "base_uri": "https://localhost:8080/",
     "height": 238
    },
    "id": "ZzZdLLdiG9j6",
    "outputId": "7b3d18ea-ddb9-46f7-9573-aed4f0155f21"
   },
   "outputs": [
    {
     "data": {
      "text/html": [
       "<table>\n",
       "<thead>\n",
       "<tr><th>C1         </th></tr>\n",
       "</thead>\n",
       "<tbody>\n",
       "<tr><td>glasses    </td></tr>\n",
       "<tr><td>excellent  </td></tr>\n",
       "<tr><td>value      </td></tr>\n",
       "<tr><td>fit        </td></tr>\n",
       "<tr><td>good       </td></tr>\n",
       "<tr><td>comfortable</td></tr>\n",
       "<tr><td>legal      </td></tr>\n",
       "<tr><td>blindness  </td></tr>\n",
       "<tr><td>lot        </td></tr>\n",
       "<tr><td>options    </td></tr>\n",
       "</tbody>\n",
       "</table>"
      ]
     },
     "metadata": {
      "tags": []
     },
     "output_type": "display_data"
    },
    {
     "data": {
      "text/plain": []
     },
     "execution_count": 13,
     "metadata": {
      "tags": []
     },
     "output_type": "execute_result"
    }
   ],
   "source": [
    "words_reviews = tokenize(h2o_df[\"reviews\"])\n",
    "words_reviews.head()"
   ]
  },
  {
   "cell_type": "code",
   "execution_count": 14,
   "metadata": {
    "colab": {
     "base_uri": "https://localhost:8080/"
    },
    "id": "sDYWnPvglsF_",
    "outputId": "edffe61e-9d09-433f-aa21-8c772372fdd1"
   },
   "outputs": [
    {
     "data": {
      "text/plain": [
       "(2797601, 1)"
      ]
     },
     "execution_count": 14,
     "metadata": {
      "tags": []
     },
     "output_type": "execute_result"
    }
   ],
   "source": [
    "# number of words in vocabulary\n",
    "words_reviews.shape"
   ]
  },
  {
   "cell_type": "code",
   "execution_count": 15,
   "metadata": {
    "colab": {
     "base_uri": "https://localhost:8080/"
    },
    "id": "g5K-IodmG4_T",
    "outputId": "2503bca6-ac8c-4d71-be91-ab220a9872fe"
   },
   "outputs": [
    {
     "name": "stdout",
     "output_type": "stream",
     "text": [
      "word2vec Model Build progress: |██████████████████████████████████████████| 100%\n"
     ]
    }
   ],
   "source": [
    "# train custom Word2Vec model on vocabulary\n",
    "vec_model = H2OWord2vecEstimator(vec_size = 100, model_id = \"w2v_amazon.model\")\n",
    "vec_model.train(training_frame=words_reviews)"
   ]
  },
  {
   "cell_type": "code",
   "execution_count": 16,
   "metadata": {
    "colab": {
     "base_uri": "https://localhost:8080/",
     "height": 35
    },
    "id": "sG2A-UfXbfzD",
    "outputId": "2dcbaef9-202f-4875-ce63-8eb82ee7bd95"
   },
   "outputs": [
    {
     "data": {
      "application/vnd.google.colaboratory.intrinsic+json": {
       "type": "string"
      },
      "text/plain": [
       "'/content/w2v_amazon.model'"
      ]
     },
     "execution_count": 16,
     "metadata": {
      "tags": []
     },
     "output_type": "execute_result"
    }
   ],
   "source": [
    "# save Word2Vec model\n",
    "h2o.save_model(vec_model,path='./')"
   ]
  },
  {
   "cell_type": "code",
   "execution_count": 17,
   "metadata": {
    "id": "AAgPN7hdZ3ME"
   },
   "outputs": [],
   "source": [
    "# load Word2Vec model\n",
    "vec_model=h2o.load_model(\"w2v_amazon.model\")"
   ]
  },
  {
   "cell_type": "code",
   "execution_count": 18,
   "metadata": {
    "colab": {
     "base_uri": "https://localhost:8080/"
    },
    "id": "sgZyEeLvG47p",
    "outputId": "185ea100-81b8-4eb0-9de1-fa8431c474e6"
   },
   "outputs": [
    {
     "data": {
      "text/plain": [
       "OrderedDict([('ammonia', 0.723060131072998),\n",
       "             ('scents', 0.6903863549232483),\n",
       "             ('fragrances', 0.689606785774231),\n",
       "             ('woodsy', 0.6860190033912659),\n",
       "             ('patchouli', 0.6735718846321106)])"
      ]
     },
     "execution_count": 18,
     "metadata": {
      "tags": []
     },
     "output_type": "execute_result"
    }
   ],
   "source": [
    "vec_model.find_synonyms(\"perfumes\", count = 5)"
   ]
  },
  {
   "cell_type": "code",
   "execution_count": 19,
   "metadata": {
    "colab": {
     "base_uri": "https://localhost:8080/"
    },
    "id": "3plvsgBfG44v",
    "outputId": "66ac42cf-b2b5-41bd-85ae-d586da3b5630"
   },
   "outputs": [
    {
     "data": {
      "text/plain": [
       "OrderedDict([('mouthwash', 0.7682000994682312),\n",
       "             ('listerine', 0.7465474605560303),\n",
       "             ('plax', 0.7129014730453491),\n",
       "             ('mentadent', 0.6942228078842163),\n",
       "             ('whitening', 0.6664965748786926)])"
      ]
     },
     "execution_count": 19,
     "metadata": {
      "tags": []
     },
     "output_type": "execute_result"
    }
   ],
   "source": [
    "vec_model.find_synonyms(\"toothpaste\", count = 5)"
   ]
  },
  {
   "cell_type": "code",
   "execution_count": 20,
   "metadata": {
    "colab": {
     "base_uri": "https://localhost:8080/"
    },
    "id": "PX2yFFJ1xzxo",
    "outputId": "cc415d2f-a5a7-42f4-8f51-3bba1c80d766"
   },
   "outputs": [
    {
     "data": {
      "text/plain": [
       "OrderedDict([('sunglasses', 0.8890933990478516),\n",
       "             ('readers', 0.8565132021903992),\n",
       "             ('bifocal', 0.7992944121360779),\n",
       "             ('bifocals', 0.7960280179977417),\n",
       "             ('lenses', 0.7633945941925049)])"
      ]
     },
     "execution_count": 20,
     "metadata": {
      "tags": []
     },
     "output_type": "execute_result"
    }
   ],
   "source": [
    "vec_model.find_synonyms(\"glasses\", count = 5)"
   ]
  },
  {
   "cell_type": "markdown",
   "metadata": {
    "id": "VNjnS1ZXuDjS"
   },
   "source": [
    "## Encoding reviews column"
   ]
  },
  {
   "cell_type": "code",
   "execution_count": 21,
   "metadata": {
    "id": "GYgnJp7BG40n"
   },
   "outputs": [],
   "source": [
    "# each word in a review will be a vector. Taking average to represent word vector into a single number\n",
    "review_vecs = vec_model.transform(words_reviews, aggregate_method = \"AVERAGE\")"
   ]
  },
  {
   "cell_type": "code",
   "execution_count": 22,
   "metadata": {
    "colab": {
     "base_uri": "https://localhost:8080/"
    },
    "id": "t3mnSozFcM5e",
    "outputId": "670f0c7d-8842-4443-f4c0-05d98768ab74"
   },
   "outputs": [
    {
     "data": {
      "text/plain": [
       "(85981, 100)"
      ]
     },
     "execution_count": 22,
     "metadata": {
      "tags": []
     },
     "output_type": "execute_result"
    }
   ],
   "source": [
    "review_vecs.shape"
   ]
  },
  {
   "cell_type": "code",
   "execution_count": 23,
   "metadata": {
    "colab": {
     "base_uri": "https://localhost:8080/",
     "height": 258
    },
    "id": "Ma2yfQe6OGFJ",
    "outputId": "1c15e2a2-729c-4a2a-d1a0-63771bb35f76"
   },
   "outputs": [
    {
     "data": {
      "text/html": [
       "<table>\n",
       "<thead>\n",
       "<tr><th style=\"text-align: right;\">        C1</th><th style=\"text-align: right;\">         C2</th><th style=\"text-align: right;\">        C3</th><th style=\"text-align: right;\">         C4</th><th style=\"text-align: right;\">         C5</th><th style=\"text-align: right;\">        C6</th><th style=\"text-align: right;\">         C7</th><th style=\"text-align: right;\">         C8</th><th style=\"text-align: right;\">        C9</th><th style=\"text-align: right;\">       C10</th><th style=\"text-align: right;\">        C11</th><th style=\"text-align: right;\">        C12</th><th style=\"text-align: right;\">       C13</th><th style=\"text-align: right;\">       C14</th><th style=\"text-align: right;\">        C15</th><th style=\"text-align: right;\">      C16</th><th style=\"text-align: right;\">       C17</th><th style=\"text-align: right;\">        C18</th><th style=\"text-align: right;\">        C19</th><th style=\"text-align: right;\">       C20</th><th style=\"text-align: right;\">       C21</th><th style=\"text-align: right;\">       C22</th><th style=\"text-align: right;\">       C23</th><th style=\"text-align: right;\">       C24</th><th style=\"text-align: right;\">        C25</th><th style=\"text-align: right;\">       C26</th><th style=\"text-align: right;\">        C27</th><th style=\"text-align: right;\">       C28</th><th style=\"text-align: right;\">       C29</th><th style=\"text-align: right;\">        C30</th><th style=\"text-align: right;\">        C31</th><th style=\"text-align: right;\">       C32</th><th style=\"text-align: right;\">       C33</th><th style=\"text-align: right;\">      C34</th><th style=\"text-align: right;\">         C35</th><th style=\"text-align: right;\">        C36</th><th style=\"text-align: right;\">        C37</th><th style=\"text-align: right;\">       C38</th><th style=\"text-align: right;\">        C39</th><th style=\"text-align: right;\">        C40</th><th style=\"text-align: right;\">       C41</th><th style=\"text-align: right;\">      C42</th><th style=\"text-align: right;\">        C43</th><th style=\"text-align: right;\">         C44</th><th style=\"text-align: right;\">        C45</th><th style=\"text-align: right;\">        C46</th><th style=\"text-align: right;\">        C47</th><th style=\"text-align: right;\">        C48</th><th style=\"text-align: right;\">        C49</th><th style=\"text-align: right;\">        C50</th><th style=\"text-align: right;\">        C51</th><th style=\"text-align: right;\">        C52</th><th style=\"text-align: right;\">        C53</th><th style=\"text-align: right;\">      C54</th><th style=\"text-align: right;\">       C55</th><th style=\"text-align: right;\">       C56</th><th style=\"text-align: right;\">       C57</th><th style=\"text-align: right;\">        C58</th><th style=\"text-align: right;\">       C59</th><th style=\"text-align: right;\">       C60</th><th style=\"text-align: right;\">       C61</th><th style=\"text-align: right;\">       C62</th><th style=\"text-align: right;\">        C63</th><th style=\"text-align: right;\">         C64</th><th style=\"text-align: right;\">       C65</th><th style=\"text-align: right;\">      C66</th><th style=\"text-align: right;\">         C67</th><th style=\"text-align: right;\">       C68</th><th style=\"text-align: right;\">         C69</th><th style=\"text-align: right;\">         C70</th><th style=\"text-align: right;\">       C71</th><th style=\"text-align: right;\">       C72</th><th style=\"text-align: right;\">        C73</th><th style=\"text-align: right;\">        C74</th><th style=\"text-align: right;\">       C75</th><th style=\"text-align: right;\">       C76</th><th style=\"text-align: right;\">        C77</th><th style=\"text-align: right;\">       C78</th><th style=\"text-align: right;\">       C79</th><th style=\"text-align: right;\">       C80</th><th style=\"text-align: right;\">         C81</th><th style=\"text-align: right;\">        C82</th><th style=\"text-align: right;\">         C83</th><th style=\"text-align: right;\">       C84</th><th style=\"text-align: right;\">        C85</th><th style=\"text-align: right;\">      C86</th><th style=\"text-align: right;\">       C87</th><th style=\"text-align: right;\">         C88</th><th style=\"text-align: right;\">        C89</th><th style=\"text-align: right;\">      C90</th><th style=\"text-align: right;\">       C91</th><th style=\"text-align: right;\">        C92</th><th style=\"text-align: right;\">       C93</th><th style=\"text-align: right;\">      C94</th><th style=\"text-align: right;\">       C95</th><th style=\"text-align: right;\">         C96</th><th style=\"text-align: right;\">       C97</th><th style=\"text-align: right;\">       C98</th><th style=\"text-align: right;\">      C99</th><th style=\"text-align: right;\">       C100</th></tr>\n",
       "</thead>\n",
       "<tbody>\n",
       "<tr><td style=\"text-align: right;\">-0.0265158</td><td style=\"text-align: right;\"> 0.00846706</td><td style=\"text-align: right;\">-0.0677885</td><td style=\"text-align: right;\"> 0.00157286</td><td style=\"text-align: right;\">-0.0784229 </td><td style=\"text-align: right;\">-0.115624 </td><td style=\"text-align: right;\"> 0.131307  </td><td style=\"text-align: right;\">-0.058656  </td><td style=\"text-align: right;\"> 0.019045 </td><td style=\"text-align: right;\">-0.0537761</td><td style=\"text-align: right;\"> 0.0353032 </td><td style=\"text-align: right;\"> 0.0136873 </td><td style=\"text-align: right;\">-0.105772 </td><td style=\"text-align: right;\">-0.167647 </td><td style=\"text-align: right;\"> 0.117731  </td><td style=\"text-align: right;\">0.0954198</td><td style=\"text-align: right;\"> 0.0239348</td><td style=\"text-align: right;\">-0.0374227 </td><td style=\"text-align: right;\"> 0.00910207</td><td style=\"text-align: right;\">-0.114942 </td><td style=\"text-align: right;\">-0.0133321</td><td style=\"text-align: right;\"> 0.0129724</td><td style=\"text-align: right;\"> 0.121902 </td><td style=\"text-align: right;\">-0.0916293</td><td style=\"text-align: right;\"> 0.083634  </td><td style=\"text-align: right;\"> 0.0123147</td><td style=\"text-align: right;\"> 0.00942393</td><td style=\"text-align: right;\">-0.140428 </td><td style=\"text-align: right;\"> 0.0795778</td><td style=\"text-align: right;\">-0.00959621</td><td style=\"text-align: right;\">-0.0157434 </td><td style=\"text-align: right;\"> 0.092049 </td><td style=\"text-align: right;\">-0.194742 </td><td style=\"text-align: right;\">0.216453 </td><td style=\"text-align: right;\"> 0.197362   </td><td style=\"text-align: right;\">-0.00567849</td><td style=\"text-align: right;\">-0.0170888 </td><td style=\"text-align: right;\">-0.0385417</td><td style=\"text-align: right;\"> 0.109031  </td><td style=\"text-align: right;\"> 0.00616149</td><td style=\"text-align: right;\">-0.112305 </td><td style=\"text-align: right;\">0.0970061</td><td style=\"text-align: right;\"> 0.0638733 </td><td style=\"text-align: right;\"> 0.0902449  </td><td style=\"text-align: right;\">-0.113253  </td><td style=\"text-align: right;\"> 0.0356395 </td><td style=\"text-align: right;\"> 0.104361  </td><td style=\"text-align: right;\"> 0.0372569 </td><td style=\"text-align: right;\"> 0.100342  </td><td style=\"text-align: right;\">-0.147591  </td><td style=\"text-align: right;\"> 0.0726858 </td><td style=\"text-align: right;\"> 0.0925785 </td><td style=\"text-align: right;\">-0.0125803 </td><td style=\"text-align: right;\">-0.108212</td><td style=\"text-align: right;\">-0.186987 </td><td style=\"text-align: right;\"> 0.0723858</td><td style=\"text-align: right;\">-0.0823776</td><td style=\"text-align: right;\"> 0.0441701 </td><td style=\"text-align: right;\"> 0.0234298</td><td style=\"text-align: right;\">-0.13628  </td><td style=\"text-align: right;\">-0.0733405</td><td style=\"text-align: right;\">-0.0574271</td><td style=\"text-align: right;\">-0.0474474 </td><td style=\"text-align: right;\">-0.0708062  </td><td style=\"text-align: right;\">-0.164857 </td><td style=\"text-align: right;\">0.130706 </td><td style=\"text-align: right;\">-0.00413092 </td><td style=\"text-align: right;\"> 0.165871 </td><td style=\"text-align: right;\">-0.0129691  </td><td style=\"text-align: right;\"> 0.0237078  </td><td style=\"text-align: right;\">-0.137629 </td><td style=\"text-align: right;\">-0.108805 </td><td style=\"text-align: right;\">-0.0498097 </td><td style=\"text-align: right;\"> 0.0571478 </td><td style=\"text-align: right;\">-0.0202209</td><td style=\"text-align: right;\"> 0.0145333</td><td style=\"text-align: right;\"> 0.140926  </td><td style=\"text-align: right;\"> 0.073214 </td><td style=\"text-align: right;\">-0.0591473</td><td style=\"text-align: right;\">-0.0312751</td><td style=\"text-align: right;\"> 0.0218589  </td><td style=\"text-align: right;\"> 0.116023  </td><td style=\"text-align: right;\">-0.000897464</td><td style=\"text-align: right;\">0.0479409 </td><td style=\"text-align: right;\"> 0.0197064 </td><td style=\"text-align: right;\">0.146161 </td><td style=\"text-align: right;\"> 0.0344984</td><td style=\"text-align: right;\">-0.0274335  </td><td style=\"text-align: right;\">-0.106031  </td><td style=\"text-align: right;\">0.13243  </td><td style=\"text-align: right;\">-0.0935054</td><td style=\"text-align: right;\">-0.0175163 </td><td style=\"text-align: right;\"> 0.0256912</td><td style=\"text-align: right;\">0.301083 </td><td style=\"text-align: right;\">-0.0211171</td><td style=\"text-align: right;\">-0.0257336  </td><td style=\"text-align: right;\">-0.0796642</td><td style=\"text-align: right;\"> 0.0648388</td><td style=\"text-align: right;\">0.152353 </td><td style=\"text-align: right;\">-0.0967089 </td></tr>\n",
       "<tr><td style=\"text-align: right;\">-0.143887 </td><td style=\"text-align: right;\"> 0.0752728 </td><td style=\"text-align: right;\">-0.178384 </td><td style=\"text-align: right;\">-0.00255792</td><td style=\"text-align: right;\">-0.1308    </td><td style=\"text-align: right;\">-0.166493 </td><td style=\"text-align: right;\"> 0.00410762</td><td style=\"text-align: right;\"> 0.0163495 </td><td style=\"text-align: right;\">-0.0361456</td><td style=\"text-align: right;\">-0.13404  </td><td style=\"text-align: right;\"> 0.0209879 </td><td style=\"text-align: right;\"> 0.0742599 </td><td style=\"text-align: right;\">-0.0385924</td><td style=\"text-align: right;\">-0.0766676</td><td style=\"text-align: right;\"> 0.108127  </td><td style=\"text-align: right;\">0.0852595</td><td style=\"text-align: right;\"> 0.0645098</td><td style=\"text-align: right;\"> 0.0677516 </td><td style=\"text-align: right;\">-0.00520697</td><td style=\"text-align: right;\">-0.0845894</td><td style=\"text-align: right;\">-0.0860906</td><td style=\"text-align: right;\">-0.0617078</td><td style=\"text-align: right;\"> 0.161949 </td><td style=\"text-align: right;\"> 0.029627 </td><td style=\"text-align: right;\"> 0.0158739 </td><td style=\"text-align: right;\">-0.0553207</td><td style=\"text-align: right;\">-0.0383032 </td><td style=\"text-align: right;\">-0.0846288</td><td style=\"text-align: right;\">-0.0929761</td><td style=\"text-align: right;\"> 0.00932849</td><td style=\"text-align: right;\"> 0.0782185 </td><td style=\"text-align: right;\"> 0.143427 </td><td style=\"text-align: right;\">-0.10003  </td><td style=\"text-align: right;\">0.176959 </td><td style=\"text-align: right;\">-0.0150704  </td><td style=\"text-align: right;\">-0.0618093 </td><td style=\"text-align: right;\">-0.0631106 </td><td style=\"text-align: right;\">-0.0274439</td><td style=\"text-align: right;\"> 0.0503663 </td><td style=\"text-align: right;\">-0.0368725 </td><td style=\"text-align: right;\">-0.091001 </td><td style=\"text-align: right;\">0.0914831</td><td style=\"text-align: right;\"> 0.0599819 </td><td style=\"text-align: right;\"> 0.202679   </td><td style=\"text-align: right;\">-0.148527  </td><td style=\"text-align: right;\">-0.0212726 </td><td style=\"text-align: right;\"> 0.155257  </td><td style=\"text-align: right;\">-0.162437  </td><td style=\"text-align: right;\"> 0.0184877 </td><td style=\"text-align: right;\"> 0.00111493</td><td style=\"text-align: right;\"> 0.00908388</td><td style=\"text-align: right;\">-0.0221295 </td><td style=\"text-align: right;\">-0.0706724 </td><td style=\"text-align: right;\">-0.154601</td><td style=\"text-align: right;\">-0.240962 </td><td style=\"text-align: right;\"> 0.156604 </td><td style=\"text-align: right;\">-0.16454  </td><td style=\"text-align: right;\">-0.0528386 </td><td style=\"text-align: right;\"> 0.0530334</td><td style=\"text-align: right;\">-0.0272193</td><td style=\"text-align: right;\">-0.0488722</td><td style=\"text-align: right;\">-0.0320923</td><td style=\"text-align: right;\"> 0.00665769</td><td style=\"text-align: right;\">-0.0539634  </td><td style=\"text-align: right;\">-0.233307 </td><td style=\"text-align: right;\">0.104441 </td><td style=\"text-align: right;\"> 0.122175   </td><td style=\"text-align: right;\">-0.179391 </td><td style=\"text-align: right;\"> 0.152885   </td><td style=\"text-align: right;\"> 0.0480347  </td><td style=\"text-align: right;\">-0.146763 </td><td style=\"text-align: right;\">-0.0911945</td><td style=\"text-align: right;\">-0.0218745 </td><td style=\"text-align: right;\"> 0.10622   </td><td style=\"text-align: right;\">-0.0977931</td><td style=\"text-align: right;\">-0.0159594</td><td style=\"text-align: right;\"> 0.0180585 </td><td style=\"text-align: right;\"> 0.0334744</td><td style=\"text-align: right;\">-0.0171813</td><td style=\"text-align: right;\"> 0.04237  </td><td style=\"text-align: right;\">-0.0463785  </td><td style=\"text-align: right;\"> 0.0439137 </td><td style=\"text-align: right;\"> 0.0793674  </td><td style=\"text-align: right;\">0.00168553</td><td style=\"text-align: right;\"> 0.00495927</td><td style=\"text-align: right;\">0.132116 </td><td style=\"text-align: right;\"> 0.107955 </td><td style=\"text-align: right;\"> 0.0433892  </td><td style=\"text-align: right;\">-0.0520139 </td><td style=\"text-align: right;\">0.128678 </td><td style=\"text-align: right;\">-0.094155 </td><td style=\"text-align: right;\"> 0.0496515 </td><td style=\"text-align: right;\">-0.0319888</td><td style=\"text-align: right;\">0.0286952</td><td style=\"text-align: right;\"> 0.0851588</td><td style=\"text-align: right;\"> 0.00935992 </td><td style=\"text-align: right;\"> 0.089041 </td><td style=\"text-align: right;\"> 0.0390608</td><td style=\"text-align: right;\">0.0788208</td><td style=\"text-align: right;\"> 0.0775035 </td></tr>\n",
       "<tr><td style=\"text-align: right;\">-0.0814555</td><td style=\"text-align: right;\"> 0.109719  </td><td style=\"text-align: right;\">-0.0997436</td><td style=\"text-align: right;\"> 0.0217566 </td><td style=\"text-align: right;\"> 0.00618983</td><td style=\"text-align: right;\">-0.111374 </td><td style=\"text-align: right;\">-0.0562552 </td><td style=\"text-align: right;\">-0.071185  </td><td style=\"text-align: right;\"> 0.0153393</td><td style=\"text-align: right;\">-0.115434 </td><td style=\"text-align: right;\"> 0.00443097</td><td style=\"text-align: right;\">-0.0407051 </td><td style=\"text-align: right;\"> 0.0151455</td><td style=\"text-align: right;\"> 0.0578689</td><td style=\"text-align: right;\"> 0.00890956</td><td style=\"text-align: right;\">0.0898568</td><td style=\"text-align: right;\">-0.0827037</td><td style=\"text-align: right;\"> 0.096559  </td><td style=\"text-align: right;\">-0.0699545 </td><td style=\"text-align: right;\">-0.133411 </td><td style=\"text-align: right;\">-0.0765743</td><td style=\"text-align: right;\"> 0.0092805</td><td style=\"text-align: right;\">-0.0112058</td><td style=\"text-align: right;\">-0.0112007</td><td style=\"text-align: right;\">-0.118456  </td><td style=\"text-align: right;\">-0.0818482</td><td style=\"text-align: right;\">-0.0590365 </td><td style=\"text-align: right;\">-0.0184821</td><td style=\"text-align: right;\"> 0.119947 </td><td style=\"text-align: right;\">-0.080832  </td><td style=\"text-align: right;\"> 0.123124  </td><td style=\"text-align: right;\"> 0.128326 </td><td style=\"text-align: right;\">-0.136715 </td><td style=\"text-align: right;\">0.132217 </td><td style=\"text-align: right;\"> 0.0745301  </td><td style=\"text-align: right;\">-0.125391  </td><td style=\"text-align: right;\">-0.0144561 </td><td style=\"text-align: right;\">-0.126425 </td><td style=\"text-align: right;\"> 0.00742155</td><td style=\"text-align: right;\">-0.0690679 </td><td style=\"text-align: right;\">-0.137375 </td><td style=\"text-align: right;\">0.0625792</td><td style=\"text-align: right;\">-0.0439401 </td><td style=\"text-align: right;\"> 0.00725451 </td><td style=\"text-align: right;\">-0.0935383 </td><td style=\"text-align: right;\"> 0.022636  </td><td style=\"text-align: right;\">-0.0513686 </td><td style=\"text-align: right;\">-0.0925364 </td><td style=\"text-align: right;\"> 0.00320178</td><td style=\"text-align: right;\">-0.159929  </td><td style=\"text-align: right;\"> 0.0681785 </td><td style=\"text-align: right;\"> 0.0162959 </td><td style=\"text-align: right;\">-0.0432497 </td><td style=\"text-align: right;\">-0.110389</td><td style=\"text-align: right;\">-0.291177 </td><td style=\"text-align: right;\"> 0.0395018</td><td style=\"text-align: right;\">-0.13669  </td><td style=\"text-align: right;\">-0.0400935 </td><td style=\"text-align: right;\"> 0.126235 </td><td style=\"text-align: right;\">-0.135206 </td><td style=\"text-align: right;\">-0.114021 </td><td style=\"text-align: right;\"> 0.0413672</td><td style=\"text-align: right;\"> 0.0886675 </td><td style=\"text-align: right;\"> 0.0211876  </td><td style=\"text-align: right;\">-0.0833824</td><td style=\"text-align: right;\">0.0962097</td><td style=\"text-align: right;\"> 0.0653689  </td><td style=\"text-align: right;\"> 0.0911056</td><td style=\"text-align: right;\"> 0.174757   </td><td style=\"text-align: right;\">-0.149664   </td><td style=\"text-align: right;\">-0.061351 </td><td style=\"text-align: right;\">-0.179341 </td><td style=\"text-align: right;\"> 0.109927  </td><td style=\"text-align: right;\">-0.0992136 </td><td style=\"text-align: right;\">-0.0926854</td><td style=\"text-align: right;\">-0.0314911</td><td style=\"text-align: right;\"> 0.076807  </td><td style=\"text-align: right;\"> 0.106181 </td><td style=\"text-align: right;\">-0.0865238</td><td style=\"text-align: right;\"> 0.0130528</td><td style=\"text-align: right;\"> 0.0353318  </td><td style=\"text-align: right;\">-0.0579353 </td><td style=\"text-align: right;\"> 0.215777   </td><td style=\"text-align: right;\">0.0456079 </td><td style=\"text-align: right;\">-0.027935  </td><td style=\"text-align: right;\">0.0923824</td><td style=\"text-align: right;\"> 0.0185122</td><td style=\"text-align: right;\"> 0.0902309  </td><td style=\"text-align: right;\">-0.0612624 </td><td style=\"text-align: right;\">0.213042 </td><td style=\"text-align: right;\">-0.100164 </td><td style=\"text-align: right;\"> 0.0326374 </td><td style=\"text-align: right;\">-0.136082 </td><td style=\"text-align: right;\">0.0971097</td><td style=\"text-align: right;\"> 0.0217736</td><td style=\"text-align: right;\"> 0.0244189  </td><td style=\"text-align: right;\"> 0.116064 </td><td style=\"text-align: right;\">-0.138991 </td><td style=\"text-align: right;\">0.221246 </td><td style=\"text-align: right;\">-0.148914  </td></tr>\n",
       "<tr><td style=\"text-align: right;\">-0.43071  </td><td style=\"text-align: right;\"> 0.0320869 </td><td style=\"text-align: right;\">-0.246383 </td><td style=\"text-align: right;\"> 0.100373  </td><td style=\"text-align: right;\"> 0.0737617 </td><td style=\"text-align: right;\">-0.15184  </td><td style=\"text-align: right;\"> 0.0755503 </td><td style=\"text-align: right;\">-0.100016  </td><td style=\"text-align: right;\">-0.118576 </td><td style=\"text-align: right;\">-0.149765 </td><td style=\"text-align: right;\">-0.138126  </td><td style=\"text-align: right;\"> 0.125884  </td><td style=\"text-align: right;\">-0.270653 </td><td style=\"text-align: right;\">-0.0286884</td><td style=\"text-align: right;\"> 0.0689137 </td><td style=\"text-align: right;\">0.0586507</td><td style=\"text-align: right;\"> 0.168721 </td><td style=\"text-align: right;\">-0.0490321 </td><td style=\"text-align: right;\"> 0.0342237 </td><td style=\"text-align: right;\">-0.203035 </td><td style=\"text-align: right;\">-0.0921816</td><td style=\"text-align: right;\">-0.0151835</td><td style=\"text-align: right;\">-0.0149713</td><td style=\"text-align: right;\"> 0.0881934</td><td style=\"text-align: right;\">-0.0809637 </td><td style=\"text-align: right;\"> 0.0828448</td><td style=\"text-align: right;\"> 0.00307478</td><td style=\"text-align: right;\">-0.0691212</td><td style=\"text-align: right;\"> 0.1156   </td><td style=\"text-align: right;\"> 0.0274345 </td><td style=\"text-align: right;\">-0.256058  </td><td style=\"text-align: right;\"> 0.155557 </td><td style=\"text-align: right;\">-0.100448 </td><td style=\"text-align: right;\">0.0825548</td><td style=\"text-align: right;\">-0.0530945  </td><td style=\"text-align: right;\"> 0.120816  </td><td style=\"text-align: right;\">-0.049228  </td><td style=\"text-align: right;\">-0.0736261</td><td style=\"text-align: right;\">-0.0814654 </td><td style=\"text-align: right;\">-0.162881  </td><td style=\"text-align: right;\">-0.285042 </td><td style=\"text-align: right;\">0.0370019</td><td style=\"text-align: right;\">-0.0370902 </td><td style=\"text-align: right;\">-0.195473   </td><td style=\"text-align: right;\">-0.23894   </td><td style=\"text-align: right;\">-0.224648  </td><td style=\"text-align: right;\">-0.0200312 </td><td style=\"text-align: right;\"> 0.00154558</td><td style=\"text-align: right;\">-0.249722  </td><td style=\"text-align: right;\"> 0.0751177 </td><td style=\"text-align: right;\"> 0.111291  </td><td style=\"text-align: right;\"> 0.0751228 </td><td style=\"text-align: right;\"> 0.0102926 </td><td style=\"text-align: right;\">-0.137692</td><td style=\"text-align: right;\">-0.390352 </td><td style=\"text-align: right;\"> 0.0733682</td><td style=\"text-align: right;\">-0.0753878</td><td style=\"text-align: right;\">-0.0563526 </td><td style=\"text-align: right;\"> 0.0476216</td><td style=\"text-align: right;\">-0.196897 </td><td style=\"text-align: right;\">-0.147772 </td><td style=\"text-align: right;\"> 0.0232854</td><td style=\"text-align: right;\">-0.0108994 </td><td style=\"text-align: right;\"> 0.034806   </td><td style=\"text-align: right;\">-0.10431  </td><td style=\"text-align: right;\">0.0450877</td><td style=\"text-align: right;\"> 0.0971652  </td><td style=\"text-align: right;\"> 0.0365088</td><td style=\"text-align: right;\">-0.038841   </td><td style=\"text-align: right;\"> 0.152817   </td><td style=\"text-align: right;\">-0.247393 </td><td style=\"text-align: right;\">-0.150975 </td><td style=\"text-align: right;\">-0.0997102 </td><td style=\"text-align: right;\"> 0.101487  </td><td style=\"text-align: right;\">-0.200771 </td><td style=\"text-align: right;\">-0.249722 </td><td style=\"text-align: right;\"> 0.233842  </td><td style=\"text-align: right;\">-0.0807534</td><td style=\"text-align: right;\"> 0.0374197</td><td style=\"text-align: right;\"> 0.0795642</td><td style=\"text-align: right;\"> 0.169359   </td><td style=\"text-align: right;\"> 0.189629  </td><td style=\"text-align: right;\"> 0.0890196  </td><td style=\"text-align: right;\">0.0578327 </td><td style=\"text-align: right;\">-0.258146  </td><td style=\"text-align: right;\">0.0796249</td><td style=\"text-align: right;\">-0.0274551</td><td style=\"text-align: right;\"> 0.049158   </td><td style=\"text-align: right;\">-0.00437221</td><td style=\"text-align: right;\">0.0523584</td><td style=\"text-align: right;\">-0.16539  </td><td style=\"text-align: right;\"> 0.00884054</td><td style=\"text-align: right;\">-0.0364372</td><td style=\"text-align: right;\">0.400577 </td><td style=\"text-align: right;\">-0.160818 </td><td style=\"text-align: right;\"> 0.0274518  </td><td style=\"text-align: right;\"> 0.0307371</td><td style=\"text-align: right;\">-0.088982 </td><td style=\"text-align: right;\">0.222005 </td><td style=\"text-align: right;\"> 0.0091396 </td></tr>\n",
       "<tr><td style=\"text-align: right;\"> 0.107594 </td><td style=\"text-align: right;\">-0.0542861 </td><td style=\"text-align: right;\"> 0.0657339</td><td style=\"text-align: right;\"> 0.0558242 </td><td style=\"text-align: right;\"> 0.0773334 </td><td style=\"text-align: right;\">-0.182782 </td><td style=\"text-align: right;\">-0.0799179 </td><td style=\"text-align: right;\">-0.0312537 </td><td style=\"text-align: right;\"> 0.0602203</td><td style=\"text-align: right;\">-0.0281742</td><td style=\"text-align: right;\"> 0.0137562 </td><td style=\"text-align: right;\"> 0.0466299 </td><td style=\"text-align: right;\">-0.214473 </td><td style=\"text-align: right;\">-0.182257 </td><td style=\"text-align: right;\"> 0.0931948 </td><td style=\"text-align: right;\">0.109408 </td><td style=\"text-align: right;\">-0.0144246</td><td style=\"text-align: right;\"> 0.0952312 </td><td style=\"text-align: right;\"> 0.0140348 </td><td style=\"text-align: right;\"> 0.138151 </td><td style=\"text-align: right;\">-0.0769714</td><td style=\"text-align: right;\">-0.121075 </td><td style=\"text-align: right;\"> 0.0162708</td><td style=\"text-align: right;\">-0.0163196</td><td style=\"text-align: right;\">-0.0145056 </td><td style=\"text-align: right;\"> 0.0151176</td><td style=\"text-align: right;\">-0.116928  </td><td style=\"text-align: right;\">-0.136421 </td><td style=\"text-align: right;\"> 0.0153349</td><td style=\"text-align: right;\">-0.0344637 </td><td style=\"text-align: right;\"> 0.119374  </td><td style=\"text-align: right;\"> 0.190134 </td><td style=\"text-align: right;\">-0.137433 </td><td style=\"text-align: right;\">0.222745 </td><td style=\"text-align: right;\">-0.0706094  </td><td style=\"text-align: right;\"> 0.0186377 </td><td style=\"text-align: right;\">-0.0786541 </td><td style=\"text-align: right;\"> 0.0419911</td><td style=\"text-align: right;\">-0.0926246 </td><td style=\"text-align: right;\">-0.0338494 </td><td style=\"text-align: right;\">-0.105269 </td><td style=\"text-align: right;\">0.132495 </td><td style=\"text-align: right;\"> 0.0116232 </td><td style=\"text-align: right;\"> 0.123617   </td><td style=\"text-align: right;\">-0.0466955 </td><td style=\"text-align: right;\">-0.0279109 </td><td style=\"text-align: right;\">-0.0986183 </td><td style=\"text-align: right;\"> 0.137664  </td><td style=\"text-align: right;\">-0.0584146 </td><td style=\"text-align: right;\">-0.0833346 </td><td style=\"text-align: right;\">-0.016927  </td><td style=\"text-align: right;\"> 0.136075  </td><td style=\"text-align: right;\"> 0.00545161</td><td style=\"text-align: right;\">-0.113456</td><td style=\"text-align: right;\">-0.0623491</td><td style=\"text-align: right;\"> 0.107664 </td><td style=\"text-align: right;\">-0.158821 </td><td style=\"text-align: right;\">-0.0889831 </td><td style=\"text-align: right;\">-0.061624 </td><td style=\"text-align: right;\">-0.0338793</td><td style=\"text-align: right;\">-0.0596485</td><td style=\"text-align: right;\"> 0.062304 </td><td style=\"text-align: right;\"> 0.119985  </td><td style=\"text-align: right;\">-0.104448   </td><td style=\"text-align: right;\">-0.155001 </td><td style=\"text-align: right;\">0.0280122</td><td style=\"text-align: right;\"> 0.0854082  </td><td style=\"text-align: right;\"> 0.144515 </td><td style=\"text-align: right;\"> 0.0448937  </td><td style=\"text-align: right;\">-0.0718867  </td><td style=\"text-align: right;\">-0.174633 </td><td style=\"text-align: right;\">-0.0501601</td><td style=\"text-align: right;\"> 0.121321  </td><td style=\"text-align: right;\"> 0.0168242 </td><td style=\"text-align: right;\"> 0.0474992</td><td style=\"text-align: right;\">-0.0573688</td><td style=\"text-align: right;\">-0.0199147 </td><td style=\"text-align: right;\">-0.0561931</td><td style=\"text-align: right;\"> 0.144239 </td><td style=\"text-align: right;\">-0.137258 </td><td style=\"text-align: right;\"> 0.19305    </td><td style=\"text-align: right;\">-0.0291974 </td><td style=\"text-align: right;\"> 0.0623348  </td><td style=\"text-align: right;\">0.0866124 </td><td style=\"text-align: right;\">-0.167652  </td><td style=\"text-align: right;\">0.108491 </td><td style=\"text-align: right;\">-0.0168105</td><td style=\"text-align: right;\"> 0.17075    </td><td style=\"text-align: right;\">-0.106873  </td><td style=\"text-align: right;\">0.146774 </td><td style=\"text-align: right;\">-0.136313 </td><td style=\"text-align: right;\"> 0.236298  </td><td style=\"text-align: right;\">-0.0248364</td><td style=\"text-align: right;\">0.120726 </td><td style=\"text-align: right;\"> 0.118972 </td><td style=\"text-align: right;\"> 0.0916865  </td><td style=\"text-align: right;\">-0.102243 </td><td style=\"text-align: right;\"> 0.152247 </td><td style=\"text-align: right;\">0.202205 </td><td style=\"text-align: right;\">-0.150487  </td></tr>\n",
       "<tr><td style=\"text-align: right;\">-0.0719447</td><td style=\"text-align: right;\">-0.0238501 </td><td style=\"text-align: right;\">-0.0380077</td><td style=\"text-align: right;\"> 0.0933734 </td><td style=\"text-align: right;\">-0.0146452 </td><td style=\"text-align: right;\">-0.0771955</td><td style=\"text-align: right;\">-0.0496569 </td><td style=\"text-align: right;\">-0.0330044 </td><td style=\"text-align: right;\">-0.0269691</td><td style=\"text-align: right;\">-0.121508 </td><td style=\"text-align: right;\"> 0.0287021 </td><td style=\"text-align: right;\"> 0.0148383 </td><td style=\"text-align: right;\">-0.0875985</td><td style=\"text-align: right;\">-0.0221949</td><td style=\"text-align: right;\">-0.131694  </td><td style=\"text-align: right;\">0.040044 </td><td style=\"text-align: right;\">-0.045827 </td><td style=\"text-align: right;\">-0.00740981</td><td style=\"text-align: right;\"> 0.0304647 </td><td style=\"text-align: right;\">-0.0249344</td><td style=\"text-align: right;\">-0.0325848</td><td style=\"text-align: right;\">-0.0362923</td><td style=\"text-align: right;\"> 0.0891731</td><td style=\"text-align: right;\"> 0.0459195</td><td style=\"text-align: right;\">-0.0176004 </td><td style=\"text-align: right;\"> 0.033269 </td><td style=\"text-align: right;\"> 0.0309249 </td><td style=\"text-align: right;\">-0.137308 </td><td style=\"text-align: right;\"> 0.0800187</td><td style=\"text-align: right;\">-0.109777  </td><td style=\"text-align: right;\"> 0.141166  </td><td style=\"text-align: right;\"> 0.115512 </td><td style=\"text-align: right;\">-0.135466 </td><td style=\"text-align: right;\">0.0551437</td><td style=\"text-align: right;\">-0.000346474</td><td style=\"text-align: right;\">-0.0736919 </td><td style=\"text-align: right;\">-0.00700312</td><td style=\"text-align: right;\">-0.113728 </td><td style=\"text-align: right;\">-0.0465402 </td><td style=\"text-align: right;\">-0.0259376 </td><td style=\"text-align: right;\">-0.0944964</td><td style=\"text-align: right;\">0.0458331</td><td style=\"text-align: right;\"> 0.0191915 </td><td style=\"text-align: right;\"> 0.146883   </td><td style=\"text-align: right;\">-0.113219  </td><td style=\"text-align: right;\">-0.0149307 </td><td style=\"text-align: right;\">-0.00358157</td><td style=\"text-align: right;\"> 0.0132889 </td><td style=\"text-align: right;\"> 0.0461841 </td><td style=\"text-align: right;\">-0.0128247 </td><td style=\"text-align: right;\"> 0.0131383 </td><td style=\"text-align: right;\"> 0.0887004 </td><td style=\"text-align: right;\"> 0.01712   </td><td style=\"text-align: right;\">-0.191947</td><td style=\"text-align: right;\">-0.209608 </td><td style=\"text-align: right;\"> 0.0863585</td><td style=\"text-align: right;\">-0.147359 </td><td style=\"text-align: right;\">-0.129312  </td><td style=\"text-align: right;\"> 0.0921081</td><td style=\"text-align: right;\">-0.0983215</td><td style=\"text-align: right;\">-0.12935  </td><td style=\"text-align: right;\"> 0.0272712</td><td style=\"text-align: right;\"> 0.0992853 </td><td style=\"text-align: right;\">-0.11832    </td><td style=\"text-align: right;\">-0.0882486</td><td style=\"text-align: right;\">0.0716463</td><td style=\"text-align: right;\"> 0.0986057  </td><td style=\"text-align: right;\"> 0.0272016</td><td style=\"text-align: right;\">-0.0166304  </td><td style=\"text-align: right;\">-0.0370945  </td><td style=\"text-align: right;\">-0.0666118</td><td style=\"text-align: right;\">-0.146459 </td><td style=\"text-align: right;\"> 0.110026  </td><td style=\"text-align: right;\">-0.0337079 </td><td style=\"text-align: right;\">-0.0201738</td><td style=\"text-align: right;\">-0.0598903</td><td style=\"text-align: right;\"> 0.0495027 </td><td style=\"text-align: right;\"> 0.0928057</td><td style=\"text-align: right;\"> 0.0594006</td><td style=\"text-align: right;\">-0.0957   </td><td style=\"text-align: right;\"> 0.0386521  </td><td style=\"text-align: right;\">-0.0327376 </td><td style=\"text-align: right;\"> 0.0991438  </td><td style=\"text-align: right;\">0.07704   </td><td style=\"text-align: right;\">-0.0535942 </td><td style=\"text-align: right;\">0.0795093</td><td style=\"text-align: right;\"> 0.0467617</td><td style=\"text-align: right;\"> 0.0325122  </td><td style=\"text-align: right;\">-0.0947081 </td><td style=\"text-align: right;\">0.191058 </td><td style=\"text-align: right;\">-0.186453 </td><td style=\"text-align: right;\"> 0.0843287 </td><td style=\"text-align: right;\">-0.0830333</td><td style=\"text-align: right;\">0.135731 </td><td style=\"text-align: right;\">-0.0206599</td><td style=\"text-align: right;\"> 0.0171102  </td><td style=\"text-align: right;\">-0.0522444</td><td style=\"text-align: right;\"> 0.0905691</td><td style=\"text-align: right;\">0.116091 </td><td style=\"text-align: right;\">-0.128025  </td></tr>\n",
       "<tr><td style=\"text-align: right;\"> 0.0596531</td><td style=\"text-align: right;\">-0.0419954 </td><td style=\"text-align: right;\">-0.0477876</td><td style=\"text-align: right;\"> 0.078333  </td><td style=\"text-align: right;\">-0.0646979 </td><td style=\"text-align: right;\">-0.117982 </td><td style=\"text-align: right;\">-0.0315611 </td><td style=\"text-align: right;\"> 0.0407612 </td><td style=\"text-align: right;\">-0.0655136</td><td style=\"text-align: right;\">-0.214375 </td><td style=\"text-align: right;\">-0.0952063 </td><td style=\"text-align: right;\"> 0.00125851</td><td style=\"text-align: right;\"> 0.0588683</td><td style=\"text-align: right;\">-0.100002 </td><td style=\"text-align: right;\">-0.0528697 </td><td style=\"text-align: right;\">0.0624603</td><td style=\"text-align: right;\"> 0.0209044</td><td style=\"text-align: right;\">-0.0414574 </td><td style=\"text-align: right;\"> 0.00691534</td><td style=\"text-align: right;\">-0.0680537</td><td style=\"text-align: right;\">-0.0302955</td><td style=\"text-align: right;\"> 0.0214356</td><td style=\"text-align: right;\"> 0.165658 </td><td style=\"text-align: right;\">-0.0248314</td><td style=\"text-align: right;\">-0.00978482</td><td style=\"text-align: right;\"> 0.044426 </td><td style=\"text-align: right;\"> 0.0817043 </td><td style=\"text-align: right;\">-0.0904346</td><td style=\"text-align: right;\">-0.0576349</td><td style=\"text-align: right;\">-0.0687751 </td><td style=\"text-align: right;\">-0.0134108 </td><td style=\"text-align: right;\">-0.0271967</td><td style=\"text-align: right;\">-0.0868806</td><td style=\"text-align: right;\">0.211364 </td><td style=\"text-align: right;\">-0.00313236 </td><td style=\"text-align: right;\">-0.124024  </td><td style=\"text-align: right;\">-0.100857  </td><td style=\"text-align: right;\">-0.033799 </td><td style=\"text-align: right;\"> 0.0971964 </td><td style=\"text-align: right;\">-0.00500249</td><td style=\"text-align: right;\">-0.061692 </td><td style=\"text-align: right;\">0.094991 </td><td style=\"text-align: right;\"> 0.0766026 </td><td style=\"text-align: right;\"> 0.0170089  </td><td style=\"text-align: right;\">-0.0486894 </td><td style=\"text-align: right;\"> 0.0677717 </td><td style=\"text-align: right;\"> 0.0245104 </td><td style=\"text-align: right;\">-0.0190765 </td><td style=\"text-align: right;\"> 0.0648674 </td><td style=\"text-align: right;\">-0.0590421 </td><td style=\"text-align: right;\"> 0.0754555 </td><td style=\"text-align: right;\"> 0.129619  </td><td style=\"text-align: right;\">-0.0536503 </td><td style=\"text-align: right;\">-0.155294</td><td style=\"text-align: right;\">-0.194148 </td><td style=\"text-align: right;\"> 0.020282 </td><td style=\"text-align: right;\">-0.0963259</td><td style=\"text-align: right;\"> 0.00198911</td><td style=\"text-align: right;\"> 0.120533 </td><td style=\"text-align: right;\">-0.0808382</td><td style=\"text-align: right;\">-0.0805056</td><td style=\"text-align: right;\"> 0.0894669</td><td style=\"text-align: right;\"> 0.00234861</td><td style=\"text-align: right;\"> 0.000162146</td><td style=\"text-align: right;\">-0.106132 </td><td style=\"text-align: right;\">0.0127983</td><td style=\"text-align: right;\"> 0.0653171  </td><td style=\"text-align: right;\"> 0.0323496</td><td style=\"text-align: right;\">-0.0873737  </td><td style=\"text-align: right;\">-0.0204656  </td><td style=\"text-align: right;\">-0.0420945</td><td style=\"text-align: right;\">-0.158803 </td><td style=\"text-align: right;\"> 0.0503563 </td><td style=\"text-align: right;\">-0.0374175 </td><td style=\"text-align: right;\"> 0.0564776</td><td style=\"text-align: right;\"> 0.0752379</td><td style=\"text-align: right;\">-0.00275517</td><td style=\"text-align: right;\">-0.0465272</td><td style=\"text-align: right;\"> 0.0205176</td><td style=\"text-align: right;\">-0.071428 </td><td style=\"text-align: right;\">-0.0168174  </td><td style=\"text-align: right;\"> 0.0782087 </td><td style=\"text-align: right;\"> 0.114241   </td><td style=\"text-align: right;\">0.142534  </td><td style=\"text-align: right;\"> 0.0033191 </td><td style=\"text-align: right;\">0.21948  </td><td style=\"text-align: right;\"> 0.11184  </td><td style=\"text-align: right;\"> 0.0195872  </td><td style=\"text-align: right;\">-0.118062  </td><td style=\"text-align: right;\">0.0938123</td><td style=\"text-align: right;\">-0.0414725</td><td style=\"text-align: right;\"> 0.089483  </td><td style=\"text-align: right;\">-0.086481 </td><td style=\"text-align: right;\">0.175082 </td><td style=\"text-align: right;\"> 0.0381836</td><td style=\"text-align: right;\"> 0.0410999  </td><td style=\"text-align: right;\">-0.0344207</td><td style=\"text-align: right;\"> 0.237885 </td><td style=\"text-align: right;\">0.136541 </td><td style=\"text-align: right;\"> 0.0922479 </td></tr>\n",
       "<tr><td style=\"text-align: right;\">-0.0395427</td><td style=\"text-align: right;\"> 0.0854009 </td><td style=\"text-align: right;\">-0.163174 </td><td style=\"text-align: right;\">-0.0302738 </td><td style=\"text-align: right;\">-0.0249641 </td><td style=\"text-align: right;\">-0.162013 </td><td style=\"text-align: right;\"> 0.0289336 </td><td style=\"text-align: right;\">-0.0629836 </td><td style=\"text-align: right;\">-0.0371278</td><td style=\"text-align: right;\">-0.067021 </td><td style=\"text-align: right;\">-0.0901992 </td><td style=\"text-align: right;\"> 0.121833  </td><td style=\"text-align: right;\">-0.120219 </td><td style=\"text-align: right;\">-0.0126443</td><td style=\"text-align: right;\">-0.0202654 </td><td style=\"text-align: right;\">0.0609035</td><td style=\"text-align: right;\">-0.0335062</td><td style=\"text-align: right;\"> 0.0177285 </td><td style=\"text-align: right;\">-0.00250663</td><td style=\"text-align: right;\">-0.158214 </td><td style=\"text-align: right;\">-0.0512354</td><td style=\"text-align: right;\">-0.0330506</td><td style=\"text-align: right;\"> 0.187948 </td><td style=\"text-align: right;\">-0.0480808</td><td style=\"text-align: right;\">-0.0490283 </td><td style=\"text-align: right;\">-0.0273438</td><td style=\"text-align: right;\">-0.0218126 </td><td style=\"text-align: right;\">-0.106412 </td><td style=\"text-align: right;\"> 0.0569211</td><td style=\"text-align: right;\">-0.0714003 </td><td style=\"text-align: right;\">-0.00768048</td><td style=\"text-align: right;\"> 0.0315881</td><td style=\"text-align: right;\">-0.159567 </td><td style=\"text-align: right;\">0.180402 </td><td style=\"text-align: right;\"> 0.0413337  </td><td style=\"text-align: right;\">-0.015467  </td><td style=\"text-align: right;\">-0.0381633 </td><td style=\"text-align: right;\">-0.0704217</td><td style=\"text-align: right;\"> 0.0355887 </td><td style=\"text-align: right;\"> 0.0220684 </td><td style=\"text-align: right;\">-0.0797875</td><td style=\"text-align: right;\">0.0566161</td><td style=\"text-align: right;\">-0.00469171</td><td style=\"text-align: right;\"> 0.000296174</td><td style=\"text-align: right;\">-0.0803446 </td><td style=\"text-align: right;\"> 0.00470138</td><td style=\"text-align: right;\"> 0.00283119</td><td style=\"text-align: right;\">-0.0729428 </td><td style=\"text-align: right;\"> 0.0278768 </td><td style=\"text-align: right;\">-0.109569  </td><td style=\"text-align: right;\"> 0.0382472 </td><td style=\"text-align: right;\"> 0.0183464 </td><td style=\"text-align: right;\">-0.0357484 </td><td style=\"text-align: right;\">-0.218793</td><td style=\"text-align: right;\">-0.151744 </td><td style=\"text-align: right;\">-0.0291872</td><td style=\"text-align: right;\">-0.0926156</td><td style=\"text-align: right;\">-0.0439705 </td><td style=\"text-align: right;\"> 0.0756086</td><td style=\"text-align: right;\">-0.106097 </td><td style=\"text-align: right;\">-0.0652546</td><td style=\"text-align: right;\"> 0.0403363</td><td style=\"text-align: right;\"> 0.0109799 </td><td style=\"text-align: right;\">-0.063172   </td><td style=\"text-align: right;\">-0.128821 </td><td style=\"text-align: right;\">0.0365061</td><td style=\"text-align: right;\">-0.000975232</td><td style=\"text-align: right;\"> 0.114265 </td><td style=\"text-align: right;\"> 0.113453   </td><td style=\"text-align: right;\">-0.0694499  </td><td style=\"text-align: right;\">-0.0804892</td><td style=\"text-align: right;\">-0.0582099</td><td style=\"text-align: right;\"> 0.0339185 </td><td style=\"text-align: right;\"> 0.00394646</td><td style=\"text-align: right;\">-0.093514 </td><td style=\"text-align: right;\">-0.0669285</td><td style=\"text-align: right;\">-0.0166564 </td><td style=\"text-align: right;\"> 0.0565005</td><td style=\"text-align: right;\">-0.0108518</td><td style=\"text-align: right;\">-0.153326 </td><td style=\"text-align: right;\">-0.000305176</td><td style=\"text-align: right;\">-0.00505727</td><td style=\"text-align: right;\"> 0.101739   </td><td style=\"text-align: right;\">0.132333  </td><td style=\"text-align: right;\">-0.0306315 </td><td style=\"text-align: right;\">0.177883 </td><td style=\"text-align: right;\">-0.0186483</td><td style=\"text-align: right;\"> 0.0318638  </td><td style=\"text-align: right;\">-0.0479408 </td><td style=\"text-align: right;\">0.109167 </td><td style=\"text-align: right;\">-0.0918084</td><td style=\"text-align: right;\"> 0.0822282 </td><td style=\"text-align: right;\">-0.0915737</td><td style=\"text-align: right;\">0.246416 </td><td style=\"text-align: right;\">-0.0390152</td><td style=\"text-align: right;\"> 0.0229864  </td><td style=\"text-align: right;\"> 0.100982 </td><td style=\"text-align: right;\"> 0.0630606</td><td style=\"text-align: right;\">0.163188 </td><td style=\"text-align: right;\">-0.00296201</td></tr>\n",
       "<tr><td style=\"text-align: right;\">-0.037916 </td><td style=\"text-align: right;\"> 0.0214979 </td><td style=\"text-align: right;\">-0.124128 </td><td style=\"text-align: right;\"> 0.0690652 </td><td style=\"text-align: right;\">-0.0759734 </td><td style=\"text-align: right;\">-0.15268  </td><td style=\"text-align: right;\">-0.0163966 </td><td style=\"text-align: right;\"> 0.00695865</td><td style=\"text-align: right;\">-0.0569604</td><td style=\"text-align: right;\">-0.174764 </td><td style=\"text-align: right;\">-0.0436671 </td><td style=\"text-align: right;\">-0.0324061 </td><td style=\"text-align: right;\">-0.0145147</td><td style=\"text-align: right;\">-0.0540645</td><td style=\"text-align: right;\">-0.085641  </td><td style=\"text-align: right;\">0.0676146</td><td style=\"text-align: right;\"> 0.0130515</td><td style=\"text-align: right;\">-0.0122115 </td><td style=\"text-align: right;\"> 0.0161233 </td><td style=\"text-align: right;\">-0.0467124</td><td style=\"text-align: right;\">-0.0158843</td><td style=\"text-align: right;\"> 0.074129 </td><td style=\"text-align: right;\"> 0.170296 </td><td style=\"text-align: right;\"> 0.0020846</td><td style=\"text-align: right;\"> 0.0321545 </td><td style=\"text-align: right;\">-0.0738235</td><td style=\"text-align: right;\"> 0.00776755</td><td style=\"text-align: right;\">-0.142229 </td><td style=\"text-align: right;\">-0.0986116</td><td style=\"text-align: right;\">-0.0248656 </td><td style=\"text-align: right;\">-0.00766126</td><td style=\"text-align: right;\"> 0.0499273</td><td style=\"text-align: right;\">-0.075778 </td><td style=\"text-align: right;\">0.179697 </td><td style=\"text-align: right;\">-0.0455685  </td><td style=\"text-align: right;\">-0.167104  </td><td style=\"text-align: right;\">-0.0891902 </td><td style=\"text-align: right;\"> 0.0369717</td><td style=\"text-align: right;\"> 0.076252  </td><td style=\"text-align: right;\">-0.0438492 </td><td style=\"text-align: right;\">-0.187917 </td><td style=\"text-align: right;\">0.0212556</td><td style=\"text-align: right;\">-0.0232795 </td><td style=\"text-align: right;\"> 0.0281009  </td><td style=\"text-align: right;\">-0.00174868</td><td style=\"text-align: right;\">-0.0452205 </td><td style=\"text-align: right;\">-0.0641779 </td><td style=\"text-align: right;\"> 0.0114718 </td><td style=\"text-align: right;\"> 0.0514948 </td><td style=\"text-align: right;\">-0.16136   </td><td style=\"text-align: right;\"> 0.133726  </td><td style=\"text-align: right;\"> 0.00531872</td><td style=\"text-align: right;\">-0.00929172</td><td style=\"text-align: right;\">-0.181443</td><td style=\"text-align: right;\">-0.139233 </td><td style=\"text-align: right;\"> 0.0415418</td><td style=\"text-align: right;\">-0.174946 </td><td style=\"text-align: right;\">-0.0583827 </td><td style=\"text-align: right;\"> 0.0737426</td><td style=\"text-align: right;\">-0.0666781</td><td style=\"text-align: right;\">-0.0923705</td><td style=\"text-align: right;\"> 0.161706 </td><td style=\"text-align: right;\"> 0.0260864 </td><td style=\"text-align: right;\"> 0.0624162  </td><td style=\"text-align: right;\">-0.075437 </td><td style=\"text-align: right;\">0.103257 </td><td style=\"text-align: right;\"> 0.00581284 </td><td style=\"text-align: right;\"> 0.0484108</td><td style=\"text-align: right;\"> 0.0643202  </td><td style=\"text-align: right;\"> 0.0286829  </td><td style=\"text-align: right;\">-0.0741649</td><td style=\"text-align: right;\">-0.108414 </td><td style=\"text-align: right;\">-0.00158213</td><td style=\"text-align: right;\">-0.0183379 </td><td style=\"text-align: right;\">-0.0950352</td><td style=\"text-align: right;\">-0.0518143</td><td style=\"text-align: right;\"> 0.0367848 </td><td style=\"text-align: right;\"> 0.0789488</td><td style=\"text-align: right;\"> 0.0206073</td><td style=\"text-align: right;\">-0.0820526</td><td style=\"text-align: right;\">-0.0578044  </td><td style=\"text-align: right;\"> 0.0510649 </td><td style=\"text-align: right;\"> 0.118743   </td><td style=\"text-align: right;\">0.0951017 </td><td style=\"text-align: right;\">-0.0353942 </td><td style=\"text-align: right;\">0.132023 </td><td style=\"text-align: right;\"> 0.117573 </td><td style=\"text-align: right;\"> 0.000985903</td><td style=\"text-align: right;\"> 0.0386132 </td><td style=\"text-align: right;\">0.12507  </td><td style=\"text-align: right;\">-0.0642208</td><td style=\"text-align: right;\"> 0.0114052 </td><td style=\"text-align: right;\">-0.0926365</td><td style=\"text-align: right;\">0.13612  </td><td style=\"text-align: right;\"> 0.0461547</td><td style=\"text-align: right;\"> 0.000922395</td><td style=\"text-align: right;\"> 0.0144551</td><td style=\"text-align: right;\"> 0.124662 </td><td style=\"text-align: right;\">0.108019 </td><td style=\"text-align: right;\">-0.0046391 </td></tr>\n",
       "<tr><td style=\"text-align: right;\"> 0.0220035</td><td style=\"text-align: right;\"> 0.081404  </td><td style=\"text-align: right;\">-0.079267 </td><td style=\"text-align: right;\"> 0.0219407 </td><td style=\"text-align: right;\">-0.025492  </td><td style=\"text-align: right;\">-0.0975316</td><td style=\"text-align: right;\">-0.0178761 </td><td style=\"text-align: right;\"> 0.0144382 </td><td style=\"text-align: right;\">-0.0283193</td><td style=\"text-align: right;\">-0.0931295</td><td style=\"text-align: right;\">-0.0592626 </td><td style=\"text-align: right;\">-0.0277392 </td><td style=\"text-align: right;\">-0.0319251</td><td style=\"text-align: right;\"> 0.00217  </td><td style=\"text-align: right;\">-0.0739927 </td><td style=\"text-align: right;\">0.0819621</td><td style=\"text-align: right;\">-0.029829 </td><td style=\"text-align: right;\"> 0.0522308 </td><td style=\"text-align: right;\"> 0.0127141 </td><td style=\"text-align: right;\">-0.0549184</td><td style=\"text-align: right;\">-0.0318132</td><td style=\"text-align: right;\"> 0.0627933</td><td style=\"text-align: right;\"> 0.181229 </td><td style=\"text-align: right;\"> 0.105113 </td><td style=\"text-align: right;\"> 0.0752722 </td><td style=\"text-align: right;\"> 0.018502 </td><td style=\"text-align: right;\">-0.0288073 </td><td style=\"text-align: right;\">-0.13152  </td><td style=\"text-align: right;\">-0.076907 </td><td style=\"text-align: right;\">-0.0881685 </td><td style=\"text-align: right;\">-0.0238328 </td><td style=\"text-align: right;\"> 0.0316028</td><td style=\"text-align: right;\">-0.125999 </td><td style=\"text-align: right;\">0.182872 </td><td style=\"text-align: right;\"> 0.0490327  </td><td style=\"text-align: right;\">-0.143908  </td><td style=\"text-align: right;\">-0.158448  </td><td style=\"text-align: right;\">-0.0354359</td><td style=\"text-align: right;\"> 0.0370506 </td><td style=\"text-align: right;\">-0.101813  </td><td style=\"text-align: right;\">-0.0512988</td><td style=\"text-align: right;\">0.0433499</td><td style=\"text-align: right;\"> 0.0515117 </td><td style=\"text-align: right;\"> 0.12069    </td><td style=\"text-align: right;\">-0.0517066 </td><td style=\"text-align: right;\"> 0.103164  </td><td style=\"text-align: right;\">-0.0117928 </td><td style=\"text-align: right;\">-0.0571627 </td><td style=\"text-align: right;\"> 0.0188811 </td><td style=\"text-align: right;\">-0.178122  </td><td style=\"text-align: right;\"> 0.200238  </td><td style=\"text-align: right;\">-0.00839951</td><td style=\"text-align: right;\"> 0.051885  </td><td style=\"text-align: right;\">-0.202514</td><td style=\"text-align: right;\">-0.159625 </td><td style=\"text-align: right;\"> 0.0732988</td><td style=\"text-align: right;\">-0.0909803</td><td style=\"text-align: right;\">-0.0294968 </td><td style=\"text-align: right;\"> 0.0145177</td><td style=\"text-align: right;\">-0.0819582</td><td style=\"text-align: right;\">-0.12845  </td><td style=\"text-align: right;\"> 0.0995233</td><td style=\"text-align: right;\">-0.026225  </td><td style=\"text-align: right;\">-0.0391691  </td><td style=\"text-align: right;\">-0.119638 </td><td style=\"text-align: right;\">0.0507   </td><td style=\"text-align: right;\"> 0.0759667  </td><td style=\"text-align: right;\"> 0.0413031</td><td style=\"text-align: right;\"> 0.000573785</td><td style=\"text-align: right;\"> 0.000951833</td><td style=\"text-align: right;\">-0.128061 </td><td style=\"text-align: right;\">-0.14429  </td><td style=\"text-align: right;\">-0.00594559</td><td style=\"text-align: right;\"> 0.00865991</td><td style=\"text-align: right;\"> 0.0815068</td><td style=\"text-align: right;\"> 0.117631 </td><td style=\"text-align: right;\"> 0.0459007 </td><td style=\"text-align: right;\"> 0.122535 </td><td style=\"text-align: right;\"> 0.0462896</td><td style=\"text-align: right;\">-0.0477461</td><td style=\"text-align: right;\">-0.0882147  </td><td style=\"text-align: right;\"> 0.139242  </td><td style=\"text-align: right;\"> 0.0884492  </td><td style=\"text-align: right;\">0.0688287 </td><td style=\"text-align: right;\">-0.0203805 </td><td style=\"text-align: right;\">0.103363 </td><td style=\"text-align: right;\"> 0.175032 </td><td style=\"text-align: right;\"> 0.0276607  </td><td style=\"text-align: right;\"> 0.0328222 </td><td style=\"text-align: right;\">0.0885741</td><td style=\"text-align: right;\"> 0.0162013</td><td style=\"text-align: right;\"> 0.0291394 </td><td style=\"text-align: right;\">-0.0314306</td><td style=\"text-align: right;\">0.171267 </td><td style=\"text-align: right;\"> 0.0297252</td><td style=\"text-align: right;\"> 0.00798304 </td><td style=\"text-align: right;\">-0.02482  </td><td style=\"text-align: right;\"> 0.15293  </td><td style=\"text-align: right;\">0.0818877</td><td style=\"text-align: right;\"> 0.0673538 </td></tr>\n",
       "</tbody>\n",
       "</table>"
      ]
     },
     "metadata": {
      "tags": []
     },
     "output_type": "display_data"
    },
    {
     "data": {
      "text/plain": []
     },
     "execution_count": 23,
     "metadata": {
      "tags": []
     },
     "output_type": "execute_result"
    }
   ],
   "source": [
    "review_vecs.head()"
   ]
  },
  {
   "cell_type": "markdown",
   "metadata": {
    "id": "fFBjTtdMuM6S"
   },
   "source": [
    "## Encoding headlines column"
   ]
  },
  {
   "cell_type": "code",
   "execution_count": 30,
   "metadata": {
    "colab": {
     "base_uri": "https://localhost:8080/",
     "height": 222
    },
    "id": "46l3zcU-ujBH",
    "outputId": "18f71cac-5827-435f-9894-bb0281bd1436"
   },
   "outputs": [
    {
     "data": {
      "text/html": [
       "<table>\n",
       "<thead>\n",
       "<tr><th>C1       </th></tr>\n",
       "</thead>\n",
       "<tbody>\n",
       "<tr><td>glasses  </td></tr>\n",
       "<tr><td>excellent</td></tr>\n",
       "<tr><td>value    </td></tr>\n",
       "<tr><td>fit      </td></tr>\n",
       "<tr><td>good     </td></tr>\n",
       "<tr><td>         </td></tr>\n",
       "<tr><td>fantastic</td></tr>\n",
       "<tr><td>way      </td></tr>\n",
       "<tr><td>cheaply  </td></tr>\n",
       "<tr><td>try      </td></tr>\n",
       "</tbody>\n",
       "</table>"
      ]
     },
     "metadata": {
      "tags": []
     },
     "output_type": "display_data"
    },
    {
     "data": {
      "text/plain": []
     },
     "execution_count": 30,
     "metadata": {
      "tags": []
     },
     "output_type": "execute_result"
    }
   ],
   "source": [
    "words_headline = tokenize(h2o_df[\"headline\"])\n",
    "words_headline.head()"
   ]
  },
  {
   "cell_type": "code",
   "execution_count": 31,
   "metadata": {
    "id": "W4QITqpZptTE"
   },
   "outputs": [],
   "source": [
    "headline_vecs = vec_model.transform(words_headline, aggregate_method = \"AVERAGE\")\n",
    "headline_vecs.names = [\"headline_\" + s for s in headline_vecs.names]"
   ]
  },
  {
   "cell_type": "code",
   "execution_count": 32,
   "metadata": {
    "colab": {
     "base_uri": "https://localhost:8080/",
     "height": 258
    },
    "id": "3Qf0qPDWrX1k",
    "outputId": "9ed42f5c-9944-4439-a9a8-84e3e0104c6e"
   },
   "outputs": [
    {
     "data": {
      "text/html": [
       "<table>\n",
       "<thead>\n",
       "<tr><th style=\"text-align: right;\">  headline_C1</th><th style=\"text-align: right;\">  headline_C2</th><th style=\"text-align: right;\">  headline_C3</th><th style=\"text-align: right;\">  headline_C4</th><th style=\"text-align: right;\">  headline_C5</th><th style=\"text-align: right;\">  headline_C6</th><th style=\"text-align: right;\">  headline_C7</th><th style=\"text-align: right;\">  headline_C8</th><th style=\"text-align: right;\">  headline_C9</th><th style=\"text-align: right;\">  headline_C10</th><th style=\"text-align: right;\">  headline_C11</th><th style=\"text-align: right;\">  headline_C12</th><th style=\"text-align: right;\">  headline_C13</th><th style=\"text-align: right;\">  headline_C14</th><th style=\"text-align: right;\">  headline_C15</th><th style=\"text-align: right;\">  headline_C16</th><th style=\"text-align: right;\">  headline_C17</th><th style=\"text-align: right;\">  headline_C18</th><th style=\"text-align: right;\">  headline_C19</th><th style=\"text-align: right;\">  headline_C20</th><th style=\"text-align: right;\">  headline_C21</th><th style=\"text-align: right;\">  headline_C22</th><th style=\"text-align: right;\">  headline_C23</th><th style=\"text-align: right;\">  headline_C24</th><th style=\"text-align: right;\">  headline_C25</th><th style=\"text-align: right;\">  headline_C26</th><th style=\"text-align: right;\">  headline_C27</th><th style=\"text-align: right;\">  headline_C28</th><th style=\"text-align: right;\">  headline_C29</th><th style=\"text-align: right;\">  headline_C30</th><th style=\"text-align: right;\">  headline_C31</th><th style=\"text-align: right;\">  headline_C32</th><th style=\"text-align: right;\">  headline_C33</th><th style=\"text-align: right;\">  headline_C34</th><th style=\"text-align: right;\">  headline_C35</th><th style=\"text-align: right;\">  headline_C36</th><th style=\"text-align: right;\">  headline_C37</th><th style=\"text-align: right;\">  headline_C38</th><th style=\"text-align: right;\">  headline_C39</th><th style=\"text-align: right;\">  headline_C40</th><th style=\"text-align: right;\">  headline_C41</th><th style=\"text-align: right;\">  headline_C42</th><th style=\"text-align: right;\">  headline_C43</th><th style=\"text-align: right;\">  headline_C44</th><th style=\"text-align: right;\">  headline_C45</th><th style=\"text-align: right;\">  headline_C46</th><th style=\"text-align: right;\">  headline_C47</th><th style=\"text-align: right;\">  headline_C48</th><th style=\"text-align: right;\">  headline_C49</th><th style=\"text-align: right;\">  headline_C50</th><th style=\"text-align: right;\">  headline_C51</th><th style=\"text-align: right;\">  headline_C52</th><th style=\"text-align: right;\">  headline_C53</th><th style=\"text-align: right;\">  headline_C54</th><th style=\"text-align: right;\">  headline_C55</th><th style=\"text-align: right;\">  headline_C56</th><th style=\"text-align: right;\">  headline_C57</th><th style=\"text-align: right;\">  headline_C58</th><th style=\"text-align: right;\">  headline_C59</th><th style=\"text-align: right;\">  headline_C60</th><th style=\"text-align: right;\">  headline_C61</th><th style=\"text-align: right;\">  headline_C62</th><th style=\"text-align: right;\">  headline_C63</th><th style=\"text-align: right;\">  headline_C64</th><th style=\"text-align: right;\">  headline_C65</th><th style=\"text-align: right;\">  headline_C66</th><th style=\"text-align: right;\">  headline_C67</th><th style=\"text-align: right;\">  headline_C68</th><th style=\"text-align: right;\">  headline_C69</th><th style=\"text-align: right;\">  headline_C70</th><th style=\"text-align: right;\">  headline_C71</th><th style=\"text-align: right;\">  headline_C72</th><th style=\"text-align: right;\">  headline_C73</th><th style=\"text-align: right;\">  headline_C74</th><th style=\"text-align: right;\">  headline_C75</th><th style=\"text-align: right;\">  headline_C76</th><th style=\"text-align: right;\">  headline_C77</th><th style=\"text-align: right;\">  headline_C78</th><th style=\"text-align: right;\">  headline_C79</th><th style=\"text-align: right;\">  headline_C80</th><th style=\"text-align: right;\">  headline_C81</th><th style=\"text-align: right;\">  headline_C82</th><th style=\"text-align: right;\">  headline_C83</th><th style=\"text-align: right;\">  headline_C84</th><th style=\"text-align: right;\">  headline_C85</th><th style=\"text-align: right;\">  headline_C86</th><th style=\"text-align: right;\">  headline_C87</th><th style=\"text-align: right;\">  headline_C88</th><th style=\"text-align: right;\">  headline_C89</th><th style=\"text-align: right;\">  headline_C90</th><th style=\"text-align: right;\">  headline_C91</th><th style=\"text-align: right;\">  headline_C92</th><th style=\"text-align: right;\">  headline_C93</th><th style=\"text-align: right;\">  headline_C94</th><th style=\"text-align: right;\">  headline_C95</th><th style=\"text-align: right;\">  headline_C96</th><th style=\"text-align: right;\">  headline_C97</th><th style=\"text-align: right;\">  headline_C98</th><th style=\"text-align: right;\">  headline_C99</th><th style=\"text-align: right;\">  headline_C100</th></tr>\n",
       "</thead>\n",
       "<tbody>\n",
       "<tr><td style=\"text-align: right;\">   -0.10486  </td><td style=\"text-align: right;\">   -0.0366021</td><td style=\"text-align: right;\">   -0.182671 </td><td style=\"text-align: right;\">   -0.0551052</td><td style=\"text-align: right;\">  0.0309777  </td><td style=\"text-align: right;\">   -0.074208 </td><td style=\"text-align: right;\">    0.064836 </td><td style=\"text-align: right;\">   -0.126599 </td><td style=\"text-align: right;\">   0.118061  </td><td style=\"text-align: right;\">   -0.00787711</td><td style=\"text-align: right;\">   -0.0106327 </td><td style=\"text-align: right;\">    -0.006366 </td><td style=\"text-align: right;\">   -0.113632  </td><td style=\"text-align: right;\">   -0.0507428 </td><td style=\"text-align: right;\">     0.180565 </td><td style=\"text-align: right;\">   0.0663592  </td><td style=\"text-align: right;\">    0.0696852 </td><td style=\"text-align: right;\">    -0.103212 </td><td style=\"text-align: right;\">    0.0758589 </td><td style=\"text-align: right;\">   -0.089338  </td><td style=\"text-align: right;\">   -0.0555714 </td><td style=\"text-align: right;\">    -0.0587463</td><td style=\"text-align: right;\">     0.0498629</td><td style=\"text-align: right;\">    -0.093549 </td><td style=\"text-align: right;\">   -0.00593101</td><td style=\"text-align: right;\">   -0.0727356 </td><td style=\"text-align: right;\">    0.0249764 </td><td style=\"text-align: right;\">    -0.0665972</td><td style=\"text-align: right;\">    0.117195  </td><td style=\"text-align: right;\">     0.0717827</td><td style=\"text-align: right;\">    -0.214346 </td><td style=\"text-align: right;\">   -0.0427169 </td><td style=\"text-align: right;\">   -0.302323  </td><td style=\"text-align: right;\">     0.241955 </td><td style=\"text-align: right;\">    0.326869  </td><td style=\"text-align: right;\">    0.0588107 </td><td style=\"text-align: right;\">    -0.0930812</td><td style=\"text-align: right;\">   -0.0349185 </td><td style=\"text-align: right;\">    0.202214  </td><td style=\"text-align: right;\">   -0.024843  </td><td style=\"text-align: right;\">    -0.238471 </td><td style=\"text-align: right;\">     0.297576 </td><td style=\"text-align: right;\">     0.132219 </td><td style=\"text-align: right;\">     0.0944114</td><td style=\"text-align: right;\">   -0.106836  </td><td style=\"text-align: right;\">    0.066753  </td><td style=\"text-align: right;\">     0.22904  </td><td style=\"text-align: right;\">    0.0832762 </td><td style=\"text-align: right;\">   -0.0609006 </td><td style=\"text-align: right;\">    -0.107193 </td><td style=\"text-align: right;\">    -0.0234722</td><td style=\"text-align: right;\">     0.0320637</td><td style=\"text-align: right;\">    0.141019  </td><td style=\"text-align: right;\">    -0.123674 </td><td style=\"text-align: right;\">  -0.272176   </td><td style=\"text-align: right;\">    0.0836864 </td><td style=\"text-align: right;\">   -0.00816742</td><td style=\"text-align: right;\">    0.168135  </td><td style=\"text-align: right;\">    -0.0709344</td><td style=\"text-align: right;\">    -0.111417 </td><td style=\"text-align: right;\">    -0.0448954</td><td style=\"text-align: right;\">  -0.0878562  </td><td style=\"text-align: right;\">    -0.0755416</td><td style=\"text-align: right;\">    -0.0239027</td><td style=\"text-align: right;\">    -0.0954765</td><td style=\"text-align: right;\">     0.14639  </td><td style=\"text-align: right;\">   -0.0845597 </td><td style=\"text-align: right;\">    0.130594  </td><td style=\"text-align: right;\">    0.0572654 </td><td style=\"text-align: right;\">  -0.000133711</td><td style=\"text-align: right;\">    -0.271389 </td><td style=\"text-align: right;\">    -0.0947943</td><td style=\"text-align: right;\">     0.0011871</td><td style=\"text-align: right;\">     0.216599 </td><td style=\"text-align: right;\">    0.0172382 </td><td style=\"text-align: right;\">    -0.0139302</td><td style=\"text-align: right;\">     0.283011 </td><td style=\"text-align: right;\">    0.143264  </td><td style=\"text-align: right;\">  -0.0961294  </td><td style=\"text-align: right;\">     0.0524175</td><td style=\"text-align: right;\">     0.0529289</td><td style=\"text-align: right;\">    0.191386  </td><td style=\"text-align: right;\">     0.089479 </td><td style=\"text-align: right;\">     0.100593 </td><td style=\"text-align: right;\">   -0.0905801 </td><td style=\"text-align: right;\">     0.174367 </td><td style=\"text-align: right;\">   -0.108838  </td><td style=\"text-align: right;\">     0.0769211</td><td style=\"text-align: right;\">    -0.113298 </td><td style=\"text-align: right;\">     0.144787 </td><td style=\"text-align: right;\">    -0.122234 </td><td style=\"text-align: right;\">    0.032562  </td><td style=\"text-align: right;\">    0.0203958 </td><td style=\"text-align: right;\">    0.383749  </td><td style=\"text-align: right;\">    -0.10955  </td><td style=\"text-align: right;\">   -0.139312  </td><td style=\"text-align: right;\">    -0.0247012</td><td style=\"text-align: right;\">   -0.0662397 </td><td style=\"text-align: right;\">      0.25383 </td><td style=\"text-align: right;\">     -0.104829 </td></tr>\n",
       "<tr><td style=\"text-align: right;\">   -0.307131 </td><td style=\"text-align: right;\">    0.114119 </td><td style=\"text-align: right;\">   -0.187872 </td><td style=\"text-align: right;\">    0.0299613</td><td style=\"text-align: right;\"> -0.0967896  </td><td style=\"text-align: right;\">   -0.198133 </td><td style=\"text-align: right;\">   -0.036858 </td><td style=\"text-align: right;\">   -0.0668242</td><td style=\"text-align: right;\">  -0.117396  </td><td style=\"text-align: right;\">   -0.181247  </td><td style=\"text-align: right;\">   -0.0581149 </td><td style=\"text-align: right;\">     0.060046 </td><td style=\"text-align: right;\">   -0.0754061 </td><td style=\"text-align: right;\">    0.00592007</td><td style=\"text-align: right;\">     0.108297 </td><td style=\"text-align: right;\">   0.0547632  </td><td style=\"text-align: right;\">   -0.00980652</td><td style=\"text-align: right;\">     0.157772 </td><td style=\"text-align: right;\">    0.00529649</td><td style=\"text-align: right;\">   -0.137906  </td><td style=\"text-align: right;\">   -0.0820101 </td><td style=\"text-align: right;\">    -0.0659404</td><td style=\"text-align: right;\">     0.0691496</td><td style=\"text-align: right;\">     0.073366 </td><td style=\"text-align: right;\">    0.0415153 </td><td style=\"text-align: right;\">   -0.0903191 </td><td style=\"text-align: right;\">   -0.104619  </td><td style=\"text-align: right;\">    -0.0450646</td><td style=\"text-align: right;\">   -0.0891748 </td><td style=\"text-align: right;\">     0.229495 </td><td style=\"text-align: right;\">     0.0441771</td><td style=\"text-align: right;\">    0.177234  </td><td style=\"text-align: right;\">   -0.0609987 </td><td style=\"text-align: right;\">     0.199827 </td><td style=\"text-align: right;\">   -0.00730839</td><td style=\"text-align: right;\">    0.075932  </td><td style=\"text-align: right;\">    -0.109413 </td><td style=\"text-align: right;\">   -0.0417721 </td><td style=\"text-align: right;\">    0.254834  </td><td style=\"text-align: right;\">    0.00593126</td><td style=\"text-align: right;\">    -0.122021 </td><td style=\"text-align: right;\">     0.135885 </td><td style=\"text-align: right;\">     0.0822398</td><td style=\"text-align: right;\">     0.144841 </td><td style=\"text-align: right;\">   -0.184602  </td><td style=\"text-align: right;\">   -0.0103084 </td><td style=\"text-align: right;\">     0.0560157</td><td style=\"text-align: right;\">   -0.189966  </td><td style=\"text-align: right;\">    0.0908776 </td><td style=\"text-align: right;\">     0.0138987</td><td style=\"text-align: right;\">    -0.0178185</td><td style=\"text-align: right;\">    -0.0541294</td><td style=\"text-align: right;\">   -0.181244  </td><td style=\"text-align: right;\">     0.026068 </td><td style=\"text-align: right;\">  -0.273573   </td><td style=\"text-align: right;\">    0.109368  </td><td style=\"text-align: right;\">   -0.223743  </td><td style=\"text-align: right;\">    0.00425679</td><td style=\"text-align: right;\">     0.171635 </td><td style=\"text-align: right;\">    -0.0124499</td><td style=\"text-align: right;\">    -0.0277209</td><td style=\"text-align: right;\">  -0.0908977  </td><td style=\"text-align: right;\">    -0.0599534</td><td style=\"text-align: right;\">    -0.031497 </td><td style=\"text-align: right;\">    -0.315982 </td><td style=\"text-align: right;\">     0.126419 </td><td style=\"text-align: right;\">    0.15433   </td><td style=\"text-align: right;\">   -0.211585  </td><td style=\"text-align: right;\">    0.160271  </td><td style=\"text-align: right;\">   0.0297227  </td><td style=\"text-align: right;\">    -0.126582 </td><td style=\"text-align: right;\">    -0.118926 </td><td style=\"text-align: right;\">    -0.0464177</td><td style=\"text-align: right;\">     0.172145 </td><td style=\"text-align: right;\">   -0.19945   </td><td style=\"text-align: right;\">    -0.0445176</td><td style=\"text-align: right;\">     0.0190269</td><td style=\"text-align: right;\">   -0.00323698</td><td style=\"text-align: right;\">   0.0488663  </td><td style=\"text-align: right;\">     0.0410335</td><td style=\"text-align: right;\">    -0.0199735</td><td style=\"text-align: right;\">    0.00557282</td><td style=\"text-align: right;\">     0.0668327</td><td style=\"text-align: right;\">     0.0770781</td><td style=\"text-align: right;\">    0.0271647 </td><td style=\"text-align: right;\">     0.160536 </td><td style=\"text-align: right;\">    0.143219  </td><td style=\"text-align: right;\">     0.0371284</td><td style=\"text-align: right;\">    -0.0567791</td><td style=\"text-align: right;\">     0.195826 </td><td style=\"text-align: right;\">    -0.140593 </td><td style=\"text-align: right;\">    0.00669495</td><td style=\"text-align: right;\">   -0.0153834 </td><td style=\"text-align: right;\">    0.00179488</td><td style=\"text-align: right;\">     0.162732 </td><td style=\"text-align: right;\">   -0.00131916</td><td style=\"text-align: right;\">     0.0755271</td><td style=\"text-align: right;\">   -0.00391899</td><td style=\"text-align: right;\">      0.199065</td><td style=\"text-align: right;\">      0.0429839</td></tr>\n",
       "<tr><td style=\"text-align: right;\">   -0.0145326</td><td style=\"text-align: right;\">    0.0600344</td><td style=\"text-align: right;\">   -0.0958429</td><td style=\"text-align: right;\">   -0.0194712</td><td style=\"text-align: right;\">  0.0428932  </td><td style=\"text-align: right;\">    0.0527665</td><td style=\"text-align: right;\">   -0.33461  </td><td style=\"text-align: right;\">    0.12402  </td><td style=\"text-align: right;\">  -0.0202817 </td><td style=\"text-align: right;\">   -0.066409  </td><td style=\"text-align: right;\">   -0.0587168 </td><td style=\"text-align: right;\">     0.0100621</td><td style=\"text-align: right;\">    0.0502183 </td><td style=\"text-align: right;\">    0.0693961 </td><td style=\"text-align: right;\">    -0.160821 </td><td style=\"text-align: right;\">   0.133282   </td><td style=\"text-align: right;\">    0.102901  </td><td style=\"text-align: right;\">     0.0196771</td><td style=\"text-align: right;\">    0.0112274 </td><td style=\"text-align: right;\">    0.0516341 </td><td style=\"text-align: right;\">    0.0308349 </td><td style=\"text-align: right;\">    -0.13859  </td><td style=\"text-align: right;\">     0.0176157</td><td style=\"text-align: right;\">    -0.0579218</td><td style=\"text-align: right;\">    0.00997999</td><td style=\"text-align: right;\">   -0.0669169 </td><td style=\"text-align: right;\">    0.0352298 </td><td style=\"text-align: right;\">     0.0467774</td><td style=\"text-align: right;\">    0.114706  </td><td style=\"text-align: right;\">     0.0643001</td><td style=\"text-align: right;\">     0.150118 </td><td style=\"text-align: right;\">   -0.0715684 </td><td style=\"text-align: right;\">   -0.270884  </td><td style=\"text-align: right;\">     0.0777339</td><td style=\"text-align: right;\">    0.256743  </td><td style=\"text-align: right;\">   -0.0565501 </td><td style=\"text-align: right;\">    -0.228802 </td><td style=\"text-align: right;\">   -0.262201  </td><td style=\"text-align: right;\">    0.145064  </td><td style=\"text-align: right;\">    0.0288885 </td><td style=\"text-align: right;\">     0.018359 </td><td style=\"text-align: right;\">     0.0791711</td><td style=\"text-align: right;\">    -0.18536  </td><td style=\"text-align: right;\">    -0.0778402</td><td style=\"text-align: right;\">   -0.151036  </td><td style=\"text-align: right;\">    0.0441386 </td><td style=\"text-align: right;\">     0.211405 </td><td style=\"text-align: right;\">    0.0113725 </td><td style=\"text-align: right;\">    0.10551   </td><td style=\"text-align: right;\">    -0.244878 </td><td style=\"text-align: right;\">     0.218431 </td><td style=\"text-align: right;\">     0.043537 </td><td style=\"text-align: right;\">   -0.13657   </td><td style=\"text-align: right;\">     0.0990022</td><td style=\"text-align: right;\">  -0.397336   </td><td style=\"text-align: right;\">   -0.00142047</td><td style=\"text-align: right;\">   -0.265122  </td><td style=\"text-align: right;\">   -0.0902404 </td><td style=\"text-align: right;\">     0.198827 </td><td style=\"text-align: right;\">    -0.0992202</td><td style=\"text-align: right;\">     0.0789594</td><td style=\"text-align: right;\">  -0.0997074  </td><td style=\"text-align: right;\">     0.0186618</td><td style=\"text-align: right;\">    -0.0926279</td><td style=\"text-align: right;\">    -0.105828 </td><td style=\"text-align: right;\">     0.0667893</td><td style=\"text-align: right;\">    0.024169  </td><td style=\"text-align: right;\">    0.215792  </td><td style=\"text-align: right;\">    0.284407  </td><td style=\"text-align: right;\">  -0.0961206  </td><td style=\"text-align: right;\">    -0.190987 </td><td style=\"text-align: right;\">    -0.415357 </td><td style=\"text-align: right;\">     0.29535  </td><td style=\"text-align: right;\">    -0.161646 </td><td style=\"text-align: right;\">    0.125321  </td><td style=\"text-align: right;\">     0.0212339</td><td style=\"text-align: right;\">     0.0505659</td><td style=\"text-align: right;\">    0.178931  </td><td style=\"text-align: right;\">  -0.195921   </td><td style=\"text-align: right;\">     0.0529507</td><td style=\"text-align: right;\">     0.101236 </td><td style=\"text-align: right;\">    0.13544   </td><td style=\"text-align: right;\">     0.155254 </td><td style=\"text-align: right;\">    -0.0479994</td><td style=\"text-align: right;\">   -0.152033  </td><td style=\"text-align: right;\">     0.0181976</td><td style=\"text-align: right;\">   -0.119373  </td><td style=\"text-align: right;\">     0.0287392</td><td style=\"text-align: right;\">    -0.261361 </td><td style=\"text-align: right;\">     0.17782  </td><td style=\"text-align: right;\">    -0.0597068</td><td style=\"text-align: right;\">    0.150101  </td><td style=\"text-align: right;\">   -0.26322   </td><td style=\"text-align: right;\">    0.347875  </td><td style=\"text-align: right;\">    -0.127854 </td><td style=\"text-align: right;\">   -0.0611607 </td><td style=\"text-align: right;\">     0.104246 </td><td style=\"text-align: right;\">   -0.105514  </td><td style=\"text-align: right;\">      0.22255 </td><td style=\"text-align: right;\">     -0.176547 </td></tr>\n",
       "<tr><td style=\"text-align: right;\">    0.0647884</td><td style=\"text-align: right;\">    0.517785 </td><td style=\"text-align: right;\">    0.0226496</td><td style=\"text-align: right;\">   -0.200364 </td><td style=\"text-align: right;\"> -0.145606   </td><td style=\"text-align: right;\">   -0.523801 </td><td style=\"text-align: right;\">    0.159819 </td><td style=\"text-align: right;\">   -0.0943059</td><td style=\"text-align: right;\">   0.121065  </td><td style=\"text-align: right;\">   -0.367856  </td><td style=\"text-align: right;\">   -0.194237  </td><td style=\"text-align: right;\">    -0.0400283</td><td style=\"text-align: right;\">   -0.330994  </td><td style=\"text-align: right;\">    0.0828733 </td><td style=\"text-align: right;\">    -0.022405 </td><td style=\"text-align: right;\">  -0.222935   </td><td style=\"text-align: right;\">    0.0572315 </td><td style=\"text-align: right;\">    -0.241597 </td><td style=\"text-align: right;\">    0.0387014 </td><td style=\"text-align: right;\">   -0.132103  </td><td style=\"text-align: right;\">    0.00706456</td><td style=\"text-align: right;\">     0.279389 </td><td style=\"text-align: right;\">    -0.461843 </td><td style=\"text-align: right;\">    -0.339037 </td><td style=\"text-align: right;\">   -0.00420567</td><td style=\"text-align: right;\">   -0.149908  </td><td style=\"text-align: right;\">   -0.353864  </td><td style=\"text-align: right;\">     0.214923 </td><td style=\"text-align: right;\">   -0.334012  </td><td style=\"text-align: right;\">    -0.0483085</td><td style=\"text-align: right;\">     0.133557 </td><td style=\"text-align: right;\">    0.0667325 </td><td style=\"text-align: right;\">    0.00318431</td><td style=\"text-align: right;\">     0.298519 </td><td style=\"text-align: right;\">    0.351913  </td><td style=\"text-align: right;\">   -0.0535165 </td><td style=\"text-align: right;\">    -0.102444 </td><td style=\"text-align: right;\">    0.270581  </td><td style=\"text-align: right;\">    0.0671993 </td><td style=\"text-align: right;\">    0.0437277 </td><td style=\"text-align: right;\">     0.264883 </td><td style=\"text-align: right;\">     0.0741061</td><td style=\"text-align: right;\">     0.300261 </td><td style=\"text-align: right;\">     0.0494937</td><td style=\"text-align: right;\">    0.111217  </td><td style=\"text-align: right;\">   -0.434794  </td><td style=\"text-align: right;\">     0.202193 </td><td style=\"text-align: right;\">   -0.245916  </td><td style=\"text-align: right;\">   -0.199845  </td><td style=\"text-align: right;\">     0.0270354</td><td style=\"text-align: right;\">    -0.234791 </td><td style=\"text-align: right;\">     0.090702 </td><td style=\"text-align: right;\">   -0.131871  </td><td style=\"text-align: right;\">    -0.422124 </td><td style=\"text-align: right;\">   0.0480889  </td><td style=\"text-align: right;\">    0.237264  </td><td style=\"text-align: right;\">   -0.483885  </td><td style=\"text-align: right;\">   -0.0636237 </td><td style=\"text-align: right;\">     0.0783355</td><td style=\"text-align: right;\">    -0.221356 </td><td style=\"text-align: right;\">    -0.176495 </td><td style=\"text-align: right;\">  -0.0657732  </td><td style=\"text-align: right;\">     0.0929802</td><td style=\"text-align: right;\">    -0.0574005</td><td style=\"text-align: right;\">     0.341234 </td><td style=\"text-align: right;\">     0.247926 </td><td style=\"text-align: right;\">    0.268917  </td><td style=\"text-align: right;\">    0.172554  </td><td style=\"text-align: right;\">   -0.274667  </td><td style=\"text-align: right;\">  -0.12514    </td><td style=\"text-align: right;\">    -0.210756 </td><td style=\"text-align: right;\">    -0.17153  </td><td style=\"text-align: right;\">     0.508827 </td><td style=\"text-align: right;\">     0.231665 </td><td style=\"text-align: right;\">    0.185345  </td><td style=\"text-align: right;\">     0.251676 </td><td style=\"text-align: right;\">     0.136857 </td><td style=\"text-align: right;\">   -0.597011  </td><td style=\"text-align: right;\">   0.108926   </td><td style=\"text-align: right;\">    -0.162906 </td><td style=\"text-align: right;\">     0.257949 </td><td style=\"text-align: right;\">   -0.133375  </td><td style=\"text-align: right;\">     0.066787 </td><td style=\"text-align: right;\">     0.355348 </td><td style=\"text-align: right;\">   -0.106327  </td><td style=\"text-align: right;\">     0.386642 </td><td style=\"text-align: right;\">   -0.00225758</td><td style=\"text-align: right;\">    -0.155752 </td><td style=\"text-align: right;\">    -0.0339208</td><td style=\"text-align: right;\">     0.239469 </td><td style=\"text-align: right;\">    -0.21873  </td><td style=\"text-align: right;\">   -0.114524  </td><td style=\"text-align: right;\">    0.06142   </td><td style=\"text-align: right;\">    0.111762  </td><td style=\"text-align: right;\">     0.0348239</td><td style=\"text-align: right;\">   -0.118994  </td><td style=\"text-align: right;\">     0.23168  </td><td style=\"text-align: right;\">    0.444301  </td><td style=\"text-align: right;\">      0.351881</td><td style=\"text-align: right;\">     -0.0286581</td></tr>\n",
       "<tr><td style=\"text-align: right;\">    0.0117276</td><td style=\"text-align: right;\">   -0.0963375</td><td style=\"text-align: right;\">    0.122688 </td><td style=\"text-align: right;\">   -0.0125369</td><td style=\"text-align: right;\">  0.151571   </td><td style=\"text-align: right;\">   -0.125345 </td><td style=\"text-align: right;\">    0.203396 </td><td style=\"text-align: right;\">   -0.0666894</td><td style=\"text-align: right;\">  -0.00332748</td><td style=\"text-align: right;\">   -0.268337  </td><td style=\"text-align: right;\">    0.0200126 </td><td style=\"text-align: right;\">     0.22885  </td><td style=\"text-align: right;\">   -0.190426  </td><td style=\"text-align: right;\">   -0.00282534</td><td style=\"text-align: right;\">     0.124817 </td><td style=\"text-align: right;\">   0.0389944  </td><td style=\"text-align: right;\">   -0.112641  </td><td style=\"text-align: right;\">    -0.0333911</td><td style=\"text-align: right;\">    0.0352666 </td><td style=\"text-align: right;\">   -0.252826  </td><td style=\"text-align: right;\">   -0.362626  </td><td style=\"text-align: right;\">    -0.0268089</td><td style=\"text-align: right;\">     0.19962  </td><td style=\"text-align: right;\">    -0.186894 </td><td style=\"text-align: right;\">   -0.115408  </td><td style=\"text-align: right;\">    0.190095  </td><td style=\"text-align: right;\">   -0.00852163</td><td style=\"text-align: right;\">    -0.0475557</td><td style=\"text-align: right;\">    0.00376314</td><td style=\"text-align: right;\">     0.150241 </td><td style=\"text-align: right;\">     0.0163204</td><td style=\"text-align: right;\">   -0.172052  </td><td style=\"text-align: right;\">   -0.284238  </td><td style=\"text-align: right;\">     0.142051 </td><td style=\"text-align: right;\">    0.0761215 </td><td style=\"text-align: right;\">   -0.305478  </td><td style=\"text-align: right;\">    -0.0302098</td><td style=\"text-align: right;\">    0.175854  </td><td style=\"text-align: right;\">    0.160459  </td><td style=\"text-align: right;\">   -0.0296224 </td><td style=\"text-align: right;\">     0.0147046</td><td style=\"text-align: right;\">     0.115184 </td><td style=\"text-align: right;\">     0.174114 </td><td style=\"text-align: right;\">    -0.197625 </td><td style=\"text-align: right;\">    0.118882  </td><td style=\"text-align: right;\">   -0.0286448 </td><td style=\"text-align: right;\">    -0.12455  </td><td style=\"text-align: right;\">   -0.0498793 </td><td style=\"text-align: right;\">    0.0183063 </td><td style=\"text-align: right;\">    -0.0588001</td><td style=\"text-align: right;\">    -0.11385  </td><td style=\"text-align: right;\">     0.148302 </td><td style=\"text-align: right;\">   -0.0100938 </td><td style=\"text-align: right;\">    -0.0283465</td><td style=\"text-align: right;\">  -0.106922   </td><td style=\"text-align: right;\">   -0.138917  </td><td style=\"text-align: right;\">   -0.0590183 </td><td style=\"text-align: right;\">   -0.0708617 </td><td style=\"text-align: right;\">    -0.0744561</td><td style=\"text-align: right;\">    -0.232299 </td><td style=\"text-align: right;\">    -0.120835 </td><td style=\"text-align: right;\">   0.212477   </td><td style=\"text-align: right;\">     0.0402207</td><td style=\"text-align: right;\">     0.0594295</td><td style=\"text-align: right;\">    -0.200462 </td><td style=\"text-align: right;\">     0.126279 </td><td style=\"text-align: right;\">   -0.0361003 </td><td style=\"text-align: right;\">    0.0856893 </td><td style=\"text-align: right;\">    0.090083  </td><td style=\"text-align: right;\">  -0.206723   </td><td style=\"text-align: right;\">     0.0999599</td><td style=\"text-align: right;\">    -0.164835 </td><td style=\"text-align: right;\">    -0.148485 </td><td style=\"text-align: right;\">     0.152084 </td><td style=\"text-align: right;\">    0.0737199 </td><td style=\"text-align: right;\">     0.119966 </td><td style=\"text-align: right;\">    -0.0576685</td><td style=\"text-align: right;\">   -0.0171897 </td><td style=\"text-align: right;\">  -0.0901178  </td><td style=\"text-align: right;\">    -0.117948 </td><td style=\"text-align: right;\">     0.0367651</td><td style=\"text-align: right;\">   -0.150615  </td><td style=\"text-align: right;\">     0.219824 </td><td style=\"text-align: right;\">     0.193161 </td><td style=\"text-align: right;\">   -0.177614  </td><td style=\"text-align: right;\">     0.257255 </td><td style=\"text-align: right;\">   -0.0412802 </td><td style=\"text-align: right;\">    -0.0112202</td><td style=\"text-align: right;\">    -0.151084 </td><td style=\"text-align: right;\">     0.0990259</td><td style=\"text-align: right;\">    -0.0664696</td><td style=\"text-align: right;\">   -0.00598279</td><td style=\"text-align: right;\">   -0.0442894 </td><td style=\"text-align: right;\">    0.312946  </td><td style=\"text-align: right;\">     0.0133268</td><td style=\"text-align: right;\">   -0.120836  </td><td style=\"text-align: right;\">    -0.242472 </td><td style=\"text-align: right;\">    0.337089  </td><td style=\"text-align: right;\">      0.166206</td><td style=\"text-align: right;\">      0.275721 </td></tr>\n",
       "<tr><td style=\"text-align: right;\">   -0.0950138</td><td style=\"text-align: right;\">   -0.207876 </td><td style=\"text-align: right;\">   -0.150414 </td><td style=\"text-align: right;\">    0.176657 </td><td style=\"text-align: right;\">  0.118247   </td><td style=\"text-align: right;\">   -0.213438 </td><td style=\"text-align: right;\">   -0.205364 </td><td style=\"text-align: right;\">    0.0365096</td><td style=\"text-align: right;\">   0.0749508 </td><td style=\"text-align: right;\">   -0.192896  </td><td style=\"text-align: right;\">   -0.0759714 </td><td style=\"text-align: right;\">    -0.0154154</td><td style=\"text-align: right;\">   -0.00814202</td><td style=\"text-align: right;\">   -0.0353394 </td><td style=\"text-align: right;\">     0.0533075</td><td style=\"text-align: right;\">   0.0869041  </td><td style=\"text-align: right;\">   -0.118942  </td><td style=\"text-align: right;\">    -0.249954 </td><td style=\"text-align: right;\">   -0.107775  </td><td style=\"text-align: right;\">   -0.00647881</td><td style=\"text-align: right;\">   -0.0150195 </td><td style=\"text-align: right;\">     0.0208629</td><td style=\"text-align: right;\">     0.12295  </td><td style=\"text-align: right;\">     0.0586244</td><td style=\"text-align: right;\">   -0.0319407 </td><td style=\"text-align: right;\">    0.0594198 </td><td style=\"text-align: right;\">    0.101722  </td><td style=\"text-align: right;\">    -0.0800455</td><td style=\"text-align: right;\">   -0.00955589</td><td style=\"text-align: right;\">     0.0561102</td><td style=\"text-align: right;\">    -0.0299538</td><td style=\"text-align: right;\">    0.00322925</td><td style=\"text-align: right;\">   -0.0425795 </td><td style=\"text-align: right;\">     0.229397 </td><td style=\"text-align: right;\">    0.149924  </td><td style=\"text-align: right;\">   -0.0260566 </td><td style=\"text-align: right;\">    -0.0571321</td><td style=\"text-align: right;\">   -0.0465489 </td><td style=\"text-align: right;\">    0.0306804 </td><td style=\"text-align: right;\">    0.0817649 </td><td style=\"text-align: right;\">    -0.13677  </td><td style=\"text-align: right;\">     0.0412976</td><td style=\"text-align: right;\">     0.086914 </td><td style=\"text-align: right;\">     0.0942708</td><td style=\"text-align: right;\">   -0.00663426</td><td style=\"text-align: right;\">   -0.0554548 </td><td style=\"text-align: right;\">    -0.0441566</td><td style=\"text-align: right;\">   -0.00371772</td><td style=\"text-align: right;\">    0.055585  </td><td style=\"text-align: right;\">    -0.0710425</td><td style=\"text-align: right;\">     0.132664 </td><td style=\"text-align: right;\">     0.0207551</td><td style=\"text-align: right;\">   -0.00199262</td><td style=\"text-align: right;\">    -0.0330418</td><td style=\"text-align: right;\">  -0.21336    </td><td style=\"text-align: right;\">    0.0930247 </td><td style=\"text-align: right;\">   -0.0240327 </td><td style=\"text-align: right;\">   -0.088195  </td><td style=\"text-align: right;\">     0.192195 </td><td style=\"text-align: right;\">     0.0131164</td><td style=\"text-align: right;\">     0.0210822</td><td style=\"text-align: right;\">  -0.0109269  </td><td style=\"text-align: right;\">     0.12886  </td><td style=\"text-align: right;\">    -0.047281 </td><td style=\"text-align: right;\">    -0.244949 </td><td style=\"text-align: right;\">     0.141149 </td><td style=\"text-align: right;\">    0.0647899 </td><td style=\"text-align: right;\">    0.0606358 </td><td style=\"text-align: right;\">    0.00761557</td><td style=\"text-align: right;\">  -0.0466587  </td><td style=\"text-align: right;\">    -0.14128  </td><td style=\"text-align: right;\">    -0.125674 </td><td style=\"text-align: right;\">     0.0213733</td><td style=\"text-align: right;\">     0.146242 </td><td style=\"text-align: right;\">   -0.0294143 </td><td style=\"text-align: right;\">     0.0126234</td><td style=\"text-align: right;\">     0.0585397</td><td style=\"text-align: right;\">    0.270154  </td><td style=\"text-align: right;\">   0.000894109</td><td style=\"text-align: right;\">    -0.0423237</td><td style=\"text-align: right;\">     0.032668 </td><td style=\"text-align: right;\">    0.0558958 </td><td style=\"text-align: right;\">     0.0360356</td><td style=\"text-align: right;\">     0.135681 </td><td style=\"text-align: right;\">   -0.00494634</td><td style=\"text-align: right;\">     0.222946 </td><td style=\"text-align: right;\">    0.0276642 </td><td style=\"text-align: right;\">    -0.0802093</td><td style=\"text-align: right;\">    -0.0549681</td><td style=\"text-align: right;\">     0.21499  </td><td style=\"text-align: right;\">     0.0303669</td><td style=\"text-align: right;\">   -0.0290906 </td><td style=\"text-align: right;\">    0.112957  </td><td style=\"text-align: right;\">    0.329649  </td><td style=\"text-align: right;\">    -0.0751356</td><td style=\"text-align: right;\">   -0.161583  </td><td style=\"text-align: right;\">    -0.0436267</td><td style=\"text-align: right;\">   -0.0119965 </td><td style=\"text-align: right;\">      0.142328</td><td style=\"text-align: right;\">     -0.109908 </td></tr>\n",
       "<tr><td style=\"text-align: right;\">    0.254948 </td><td style=\"text-align: right;\">    0.206421 </td><td style=\"text-align: right;\">   -0.0746402</td><td style=\"text-align: right;\">    0.212027 </td><td style=\"text-align: right;\">  0.0554183  </td><td style=\"text-align: right;\">    0.0638259</td><td style=\"text-align: right;\">   -0.147568 </td><td style=\"text-align: right;\">    0.0744022</td><td style=\"text-align: right;\">  -0.528492  </td><td style=\"text-align: right;\">   -0.104732  </td><td style=\"text-align: right;\">   -0.0757214 </td><td style=\"text-align: right;\">    -0.011003 </td><td style=\"text-align: right;\">    0.24522   </td><td style=\"text-align: right;\">    0.0659033 </td><td style=\"text-align: right;\">    -0.13496  </td><td style=\"text-align: right;\">   0.0518678  </td><td style=\"text-align: right;\">    0.0701568 </td><td style=\"text-align: right;\">    -0.272219 </td><td style=\"text-align: right;\">    0.0313648 </td><td style=\"text-align: right;\">    0.0867575 </td><td style=\"text-align: right;\">   -0.088467  </td><td style=\"text-align: right;\">     0.41691  </td><td style=\"text-align: right;\">     0.205097 </td><td style=\"text-align: right;\">    -0.146455 </td><td style=\"text-align: right;\">    0.245022  </td><td style=\"text-align: right;\">    0.014096  </td><td style=\"text-align: right;\">    0.373151  </td><td style=\"text-align: right;\">     0.0677451</td><td style=\"text-align: right;\">    0.00811394</td><td style=\"text-align: right;\">    -0.209606 </td><td style=\"text-align: right;\">     0.219773 </td><td style=\"text-align: right;\">    0.0525436 </td><td style=\"text-align: right;\">   -0.0102134 </td><td style=\"text-align: right;\">     0.45363  </td><td style=\"text-align: right;\">   -0.454696  </td><td style=\"text-align: right;\">    0.00104544</td><td style=\"text-align: right;\">     0.143745 </td><td style=\"text-align: right;\">    0.00338841</td><td style=\"text-align: right;\">    0.0459491 </td><td style=\"text-align: right;\">   -0.0803073 </td><td style=\"text-align: right;\">    -0.269679 </td><td style=\"text-align: right;\">    -0.16521  </td><td style=\"text-align: right;\">     0.140108 </td><td style=\"text-align: right;\">     0.106025 </td><td style=\"text-align: right;\">   -0.0660945 </td><td style=\"text-align: right;\">   -0.0568384 </td><td style=\"text-align: right;\">    -0.117447 </td><td style=\"text-align: right;\">    0.185701  </td><td style=\"text-align: right;\">   -0.0387218 </td><td style=\"text-align: right;\">    -0.0302712</td><td style=\"text-align: right;\">     0.0420748</td><td style=\"text-align: right;\">     0.0748925</td><td style=\"text-align: right;\">    0.0772234 </td><td style=\"text-align: right;\">    -0.21503  </td><td style=\"text-align: right;\">  -0.294423   </td><td style=\"text-align: right;\">    0.359136  </td><td style=\"text-align: right;\">   -0.0476529 </td><td style=\"text-align: right;\">    0.310868  </td><td style=\"text-align: right;\">    -0.0399436</td><td style=\"text-align: right;\">     0.0959172</td><td style=\"text-align: right;\">    -0.124224 </td><td style=\"text-align: right;\">   0.170203   </td><td style=\"text-align: right;\">    -0.163184 </td><td style=\"text-align: right;\">     0.100685 </td><td style=\"text-align: right;\">     0.213339 </td><td style=\"text-align: right;\">    -0.254071 </td><td style=\"text-align: right;\">    0.0775927 </td><td style=\"text-align: right;\">   -0.0799435 </td><td style=\"text-align: right;\">    0.365949  </td><td style=\"text-align: right;\">   0.031181   </td><td style=\"text-align: right;\">     0.0121439</td><td style=\"text-align: right;\">    -0.027623 </td><td style=\"text-align: right;\">     0.353828 </td><td style=\"text-align: right;\">    -0.0741775</td><td style=\"text-align: right;\">    0.00591136</td><td style=\"text-align: right;\">    -0.168469 </td><td style=\"text-align: right;\">     0.254221 </td><td style=\"text-align: right;\">    0.144651  </td><td style=\"text-align: right;\">   0.0815757  </td><td style=\"text-align: right;\">    -0.239193 </td><td style=\"text-align: right;\">     0.0286213</td><td style=\"text-align: right;\">    0.289329  </td><td style=\"text-align: right;\">     0.273224 </td><td style=\"text-align: right;\">     0.0998801</td><td style=\"text-align: right;\">   -0.0919172 </td><td style=\"text-align: right;\">     0.337287 </td><td style=\"text-align: right;\">    0.161539  </td><td style=\"text-align: right;\">     0.196167 </td><td style=\"text-align: right;\">    -0.103879 </td><td style=\"text-align: right;\">     0.0842379</td><td style=\"text-align: right;\">    -0.154706 </td><td style=\"text-align: right;\">   -0.064803  </td><td style=\"text-align: right;\">   -0.029867  </td><td style=\"text-align: right;\">    0.460998  </td><td style=\"text-align: right;\">     0.209811 </td><td style=\"text-align: right;\">   -0.00582464</td><td style=\"text-align: right;\">     0.082565 </td><td style=\"text-align: right;\">    0.395222  </td><td style=\"text-align: right;\">      0.151915</td><td style=\"text-align: right;\">     -0.219365 </td></tr>\n",
       "<tr><td style=\"text-align: right;\">   -0.0155395</td><td style=\"text-align: right;\">    0.21402  </td><td style=\"text-align: right;\">   -0.703571 </td><td style=\"text-align: right;\">   -0.152874 </td><td style=\"text-align: right;\">  0.0509702  </td><td style=\"text-align: right;\">   -0.11776  </td><td style=\"text-align: right;\">   -0.387614 </td><td style=\"text-align: right;\">   -0.0170684</td><td style=\"text-align: right;\">   0.0859882 </td><td style=\"text-align: right;\">    0.226887  </td><td style=\"text-align: right;\">    0.00712689</td><td style=\"text-align: right;\">     0.504826 </td><td style=\"text-align: right;\">   -0.188622  </td><td style=\"text-align: right;\">   -0.132281  </td><td style=\"text-align: right;\">    -0.113786 </td><td style=\"text-align: right;\">   0.227511   </td><td style=\"text-align: right;\">   -0.173294  </td><td style=\"text-align: right;\">     0.298553 </td><td style=\"text-align: right;\">   -0.00837759</td><td style=\"text-align: right;\">   -0.0301152 </td><td style=\"text-align: right;\">    0.227107  </td><td style=\"text-align: right;\">     0.252778 </td><td style=\"text-align: right;\">     0.451149 </td><td style=\"text-align: right;\">    -0.444903 </td><td style=\"text-align: right;\">    0.227457  </td><td style=\"text-align: right;\">   -0.29523   </td><td style=\"text-align: right;\">   -0.198566  </td><td style=\"text-align: right;\">    -0.184587 </td><td style=\"text-align: right;\">    0.391353  </td><td style=\"text-align: right;\">    -0.288989 </td><td style=\"text-align: right;\">     0.104338 </td><td style=\"text-align: right;\">    0.177525  </td><td style=\"text-align: right;\">   -0.339419  </td><td style=\"text-align: right;\">     0.161765 </td><td style=\"text-align: right;\">    0.170485  </td><td style=\"text-align: right;\">   -0.124424  </td><td style=\"text-align: right;\">     0.278755 </td><td style=\"text-align: right;\">    0.0554267 </td><td style=\"text-align: right;\">    0.112643  </td><td style=\"text-align: right;\">    0.0157538 </td><td style=\"text-align: right;\">     0.139269 </td><td style=\"text-align: right;\">     0.0449749</td><td style=\"text-align: right;\">     0.199374 </td><td style=\"text-align: right;\">     0.14941  </td><td style=\"text-align: right;\">   -0.230769  </td><td style=\"text-align: right;\">    0.104391  </td><td style=\"text-align: right;\">    -0.173059 </td><td style=\"text-align: right;\">    0.0364316 </td><td style=\"text-align: right;\">   -0.153662  </td><td style=\"text-align: right;\">     0.240511 </td><td style=\"text-align: right;\">     0.125772 </td><td style=\"text-align: right;\">    -0.378641 </td><td style=\"text-align: right;\">   -0.156784  </td><td style=\"text-align: right;\">    -0.288735 </td><td style=\"text-align: right;\">   0.0282072  </td><td style=\"text-align: right;\">   -0.189781  </td><td style=\"text-align: right;\">   -0.092044  </td><td style=\"text-align: right;\">    0.20649   </td><td style=\"text-align: right;\">     0.299739 </td><td style=\"text-align: right;\">     0.170576 </td><td style=\"text-align: right;\">    -0.152586 </td><td style=\"text-align: right;\">   0.0546519  </td><td style=\"text-align: right;\">    -0.131811 </td><td style=\"text-align: right;\">    -0.174243 </td><td style=\"text-align: right;\">    -0.0906346</td><td style=\"text-align: right;\">    -0.0942571</td><td style=\"text-align: right;\">   -0.614881  </td><td style=\"text-align: right;\">    0.00203408</td><td style=\"text-align: right;\">   -0.0976398 </td><td style=\"text-align: right;\">  -0.416571   </td><td style=\"text-align: right;\">    -0.324433 </td><td style=\"text-align: right;\">     0.0654449</td><td style=\"text-align: right;\">     0.15716  </td><td style=\"text-align: right;\">    -0.282295 </td><td style=\"text-align: right;\">   -0.219521  </td><td style=\"text-align: right;\">     0.0881077</td><td style=\"text-align: right;\">    -0.57598  </td><td style=\"text-align: right;\">    0.150448  </td><td style=\"text-align: right;\">  -0.318213   </td><td style=\"text-align: right;\">    -0.820892 </td><td style=\"text-align: right;\">     0.112966 </td><td style=\"text-align: right;\">    0.154469  </td><td style=\"text-align: right;\">     0.313445 </td><td style=\"text-align: right;\">    -0.127603 </td><td style=\"text-align: right;\">    0.343593  </td><td style=\"text-align: right;\">     0.0271707</td><td style=\"text-align: right;\">    0.247     </td><td style=\"text-align: right;\">    -0.439552 </td><td style=\"text-align: right;\">    -0.546827 </td><td style=\"text-align: right;\">     0.214948 </td><td style=\"text-align: right;\">    -0.419993 </td><td style=\"text-align: right;\">    0.274735  </td><td style=\"text-align: right;\">   -0.197816  </td><td style=\"text-align: right;\">   -0.140587  </td><td style=\"text-align: right;\">    -0.405205 </td><td style=\"text-align: right;\">   -0.184411  </td><td style=\"text-align: right;\">     0.22416  </td><td style=\"text-align: right;\">    0.00148898</td><td style=\"text-align: right;\">      0.270134</td><td style=\"text-align: right;\">      0.263835 </td></tr>\n",
       "<tr><td style=\"text-align: right;\">    0.258302 </td><td style=\"text-align: right;\">   -0.375894 </td><td style=\"text-align: right;\">   -0.337827 </td><td style=\"text-align: right;\">   -0.238204 </td><td style=\"text-align: right;\"> -0.000767762</td><td style=\"text-align: right;\">   -0.102227 </td><td style=\"text-align: right;\">    0.15425  </td><td style=\"text-align: right;\">    0.0466108</td><td style=\"text-align: right;\">  -0.299506  </td><td style=\"text-align: right;\">   -0.116599  </td><td style=\"text-align: right;\">    0.0484182 </td><td style=\"text-align: right;\">     0.160407 </td><td style=\"text-align: right;\">   -0.180202  </td><td style=\"text-align: right;\">   -0.202983  </td><td style=\"text-align: right;\">    -0.0251952</td><td style=\"text-align: right;\">   0.000410831</td><td style=\"text-align: right;\">   -0.0489561 </td><td style=\"text-align: right;\">    -0.0225075</td><td style=\"text-align: right;\">   -0.0946553 </td><td style=\"text-align: right;\">   -0.379151  </td><td style=\"text-align: right;\">   -0.0939312 </td><td style=\"text-align: right;\">     0.173386 </td><td style=\"text-align: right;\">     0.0815802</td><td style=\"text-align: right;\">    -0.115476 </td><td style=\"text-align: right;\">    0.232055  </td><td style=\"text-align: right;\">   -0.312474  </td><td style=\"text-align: right;\">    0.280334  </td><td style=\"text-align: right;\">    -0.0586995</td><td style=\"text-align: right;\">   -0.00556936</td><td style=\"text-align: right;\">     0.217698 </td><td style=\"text-align: right;\">     0.225308 </td><td style=\"text-align: right;\">    0.33398   </td><td style=\"text-align: right;\">   -0.0762859 </td><td style=\"text-align: right;\">     0.416712 </td><td style=\"text-align: right;\">   -0.160659  </td><td style=\"text-align: right;\">    0.120423  </td><td style=\"text-align: right;\">    -0.346695 </td><td style=\"text-align: right;\">   -0.151047  </td><td style=\"text-align: right;\">    0.457361  </td><td style=\"text-align: right;\">   -0.114179  </td><td style=\"text-align: right;\">    -0.0640218</td><td style=\"text-align: right;\">     0.186044 </td><td style=\"text-align: right;\">    -0.0345209</td><td style=\"text-align: right;\">     0.026531 </td><td style=\"text-align: right;\">   -0.0683753 </td><td style=\"text-align: right;\">    0.157177  </td><td style=\"text-align: right;\">    -0.223388 </td><td style=\"text-align: right;\">   -0.340393  </td><td style=\"text-align: right;\">    0.191574  </td><td style=\"text-align: right;\">     0.131293 </td><td style=\"text-align: right;\">     0.234096 </td><td style=\"text-align: right;\">    -0.024049 </td><td style=\"text-align: right;\">   -0.138639  </td><td style=\"text-align: right;\">    -0.0319165</td><td style=\"text-align: right;\">   8.47637e-05</td><td style=\"text-align: right;\">    0.109461  </td><td style=\"text-align: right;\">   -0.104559  </td><td style=\"text-align: right;\">   -0.380387  </td><td style=\"text-align: right;\">     0.14174  </td><td style=\"text-align: right;\">    -0.194166 </td><td style=\"text-align: right;\">    -0.0475332</td><td style=\"text-align: right;\">  -0.000614356</td><td style=\"text-align: right;\">    -0.0172954</td><td style=\"text-align: right;\">    -0.0278942</td><td style=\"text-align: right;\">     0.142293 </td><td style=\"text-align: right;\">    -0.0573664</td><td style=\"text-align: right;\">    0.00998181</td><td style=\"text-align: right;\">   -0.0472762 </td><td style=\"text-align: right;\">   -0.0556871 </td><td style=\"text-align: right;\">   0.220153   </td><td style=\"text-align: right;\">    -0.0752445</td><td style=\"text-align: right;\">     0.0873446</td><td style=\"text-align: right;\">    -0.0225865</td><td style=\"text-align: right;\">     0.0322248</td><td style=\"text-align: right;\">    0.171268  </td><td style=\"text-align: right;\">    -0.449956 </td><td style=\"text-align: right;\">    -0.285288 </td><td style=\"text-align: right;\">    0.00674742</td><td style=\"text-align: right;\">   0.16866    </td><td style=\"text-align: right;\">     0.0162671</td><td style=\"text-align: right;\">    -0.143615 </td><td style=\"text-align: right;\">    0.157254  </td><td style=\"text-align: right;\">     0.142361 </td><td style=\"text-align: right;\">    -0.0779463</td><td style=\"text-align: right;\">   -0.0501551 </td><td style=\"text-align: right;\">    -0.0133446</td><td style=\"text-align: right;\">   -0.0655865 </td><td style=\"text-align: right;\">     0.189538 </td><td style=\"text-align: right;\">     0.118929 </td><td style=\"text-align: right;\">     0.132505 </td><td style=\"text-align: right;\">    -0.0507346</td><td style=\"text-align: right;\">    0.186489  </td><td style=\"text-align: right;\">   -0.00438191</td><td style=\"text-align: right;\">    0.186818  </td><td style=\"text-align: right;\">     0.381764 </td><td style=\"text-align: right;\">   -0.107001  </td><td style=\"text-align: right;\">     0.014164 </td><td style=\"text-align: right;\">    0.223343  </td><td style=\"text-align: right;\">      0.255906</td><td style=\"text-align: right;\">      0.266645 </td></tr>\n",
       "<tr><td style=\"text-align: right;\">    0.0539165</td><td style=\"text-align: right;\">    0.0301795</td><td style=\"text-align: right;\">   -0.213504 </td><td style=\"text-align: right;\">   -0.10176  </td><td style=\"text-align: right;\"> -0.112015   </td><td style=\"text-align: right;\">    0.110718 </td><td style=\"text-align: right;\">   -0.0575489</td><td style=\"text-align: right;\">    0.0464222</td><td style=\"text-align: right;\">  -0.0726926 </td><td style=\"text-align: right;\">   -0.0425859 </td><td style=\"text-align: right;\">   -0.228671  </td><td style=\"text-align: right;\">     0.0642011</td><td style=\"text-align: right;\">    0.0605889 </td><td style=\"text-align: right;\">   -0.0105959 </td><td style=\"text-align: right;\">    -0.0992346</td><td style=\"text-align: right;\">   0.0587861  </td><td style=\"text-align: right;\">    0.012861  </td><td style=\"text-align: right;\">     0.0347453</td><td style=\"text-align: right;\">    0.0477137 </td><td style=\"text-align: right;\">   -0.0314219 </td><td style=\"text-align: right;\">    0.0899922 </td><td style=\"text-align: right;\">     0.0237275</td><td style=\"text-align: right;\">     0.112652 </td><td style=\"text-align: right;\">     0.116913 </td><td style=\"text-align: right;\">    0.0301608 </td><td style=\"text-align: right;\">   -0.00696871</td><td style=\"text-align: right;\">   -0.116101  </td><td style=\"text-align: right;\">    -0.188487 </td><td style=\"text-align: right;\">   -0.08393   </td><td style=\"text-align: right;\">    -0.124786 </td><td style=\"text-align: right;\">    -0.117383 </td><td style=\"text-align: right;\">   -0.0273048 </td><td style=\"text-align: right;\">   -0.269377  </td><td style=\"text-align: right;\">     0.188991 </td><td style=\"text-align: right;\">    0.108355  </td><td style=\"text-align: right;\">   -0.166478  </td><td style=\"text-align: right;\">    -0.185033 </td><td style=\"text-align: right;\">    0.0801604 </td><td style=\"text-align: right;\">    0.00742468</td><td style=\"text-align: right;\">   -0.107274  </td><td style=\"text-align: right;\">    -0.0739386</td><td style=\"text-align: right;\">     0.100863 </td><td style=\"text-align: right;\">     0.124432 </td><td style=\"text-align: right;\">     0.0678235</td><td style=\"text-align: right;\">    0.0192138 </td><td style=\"text-align: right;\">   -0.00656794</td><td style=\"text-align: right;\">    -0.0684503</td><td style=\"text-align: right;\">   -0.111012  </td><td style=\"text-align: right;\">   -0.00858732</td><td style=\"text-align: right;\">    -0.168132 </td><td style=\"text-align: right;\">     0.120759 </td><td style=\"text-align: right;\">     0.143206 </td><td style=\"text-align: right;\">    0.144253  </td><td style=\"text-align: right;\">    -0.0962318</td><td style=\"text-align: right;\">  -0.215558   </td><td style=\"text-align: right;\">    0.00241003</td><td style=\"text-align: right;\">   -0.146995  </td><td style=\"text-align: right;\">    0.0241122 </td><td style=\"text-align: right;\">     0.0520759</td><td style=\"text-align: right;\">    -0.142075 </td><td style=\"text-align: right;\">    -0.229696 </td><td style=\"text-align: right;\">   0.155644   </td><td style=\"text-align: right;\">    -0.0179869</td><td style=\"text-align: right;\">    -0.0879807</td><td style=\"text-align: right;\">    -0.196272 </td><td style=\"text-align: right;\">     0.0366897</td><td style=\"text-align: right;\">    0.13334   </td><td style=\"text-align: right;\">    0.109834  </td><td style=\"text-align: right;\">    0.0203525 </td><td style=\"text-align: right;\">   0.0197341  </td><td style=\"text-align: right;\">    -0.167401 </td><td style=\"text-align: right;\">    -0.126626 </td><td style=\"text-align: right;\">    -0.107585 </td><td style=\"text-align: right;\">     0.0393751</td><td style=\"text-align: right;\">    0.197776  </td><td style=\"text-align: right;\">     0.185521 </td><td style=\"text-align: right;\">    -0.0697486</td><td style=\"text-align: right;\">    0.227879  </td><td style=\"text-align: right;\">   0.0225463  </td><td style=\"text-align: right;\">    -0.115824 </td><td style=\"text-align: right;\">    -0.122374 </td><td style=\"text-align: right;\">    0.209089  </td><td style=\"text-align: right;\">     0.134469 </td><td style=\"text-align: right;\">     0.0157913</td><td style=\"text-align: right;\">   -0.00892841</td><td style=\"text-align: right;\">     0.147336 </td><td style=\"text-align: right;\">    0.188825  </td><td style=\"text-align: right;\">    -0.0251768</td><td style=\"text-align: right;\">     0.0364017</td><td style=\"text-align: right;\">     0.10253  </td><td style=\"text-align: right;\">     0.0294215</td><td style=\"text-align: right;\">    0.00991399</td><td style=\"text-align: right;\">   -0.0132681 </td><td style=\"text-align: right;\">    0.187427  </td><td style=\"text-align: right;\">     0.0280232</td><td style=\"text-align: right;\">   -0.0587173 </td><td style=\"text-align: right;\">     0.090838 </td><td style=\"text-align: right;\">    0.0651814 </td><td style=\"text-align: right;\">      0.069269</td><td style=\"text-align: right;\">      0.0817951</td></tr>\n",
       "</tbody>\n",
       "</table>"
      ]
     },
     "metadata": {
      "tags": []
     },
     "output_type": "display_data"
    },
    {
     "data": {
      "text/plain": []
     },
     "execution_count": 32,
     "metadata": {
      "tags": []
     },
     "output_type": "execute_result"
    }
   ],
   "source": [
    "headline_vecs.head()"
   ]
  },
  {
   "cell_type": "markdown",
   "metadata": {
    "id": "e9LryBOJ_iWb"
   },
   "source": [
    "# Combine all features"
   ]
  },
  {
   "cell_type": "code",
   "execution_count": 33,
   "metadata": {
    "id": "CEYL3LzTqeWm"
   },
   "outputs": [],
   "source": [
    "h2o_df_ext = h2o_df_ext.cbind(review_vecs)\n",
    "h2o_df_ext = h2o_df_ext.cbind(headline_vecs)"
   ]
  },
  {
   "cell_type": "code",
   "execution_count": 35,
   "metadata": {
    "colab": {
     "base_uri": "https://localhost:8080/"
    },
    "id": "4vqgZp7hvKpQ",
    "outputId": "1ae6ed72-f073-472e-a5fb-da0d15dced18"
   },
   "outputs": [
    {
     "name": "stdout",
     "output_type": "stream",
     "text": [
      "['votes', 'headline', 'reviews', 'rating', 'target', 'C1', 'C2', 'C3', 'C4', 'C5', 'C6', 'C7', 'C8', 'C9', 'C10', 'C11', 'C12', 'C13', 'C14', 'C15', 'C16', 'C17', 'C18', 'C19', 'C20', 'C21', 'C22', 'C23', 'C24', 'C25', 'C26', 'C27', 'C28', 'C29', 'C30', 'C31', 'C32', 'C33', 'C34', 'C35', 'C36', 'C37', 'C38', 'C39', 'C40', 'C41', 'C42', 'C43', 'C44', 'C45', 'C46', 'C47', 'C48', 'C49', 'C50', 'C51', 'C52', 'C53', 'C54', 'C55', 'C56', 'C57', 'C58', 'C59', 'C60', 'C61', 'C62', 'C63', 'C64', 'C65', 'C66', 'C67', 'C68', 'C69', 'C70', 'C71', 'C72', 'C73', 'C74', 'C75', 'C76', 'C77', 'C78', 'C79', 'C80', 'C81', 'C82', 'C83', 'C84', 'C85', 'C86', 'C87', 'C88', 'C89', 'C90', 'C91', 'C92', 'C93', 'C94', 'C95', 'C96', 'C97', 'C98', 'C99', 'C100', 'headline_C1', 'headline_C2', 'headline_C3', 'headline_C4', 'headline_C5', 'headline_C6', 'headline_C7', 'headline_C8', 'headline_C9', 'headline_C10', 'headline_C11', 'headline_C12', 'headline_C13', 'headline_C14', 'headline_C15', 'headline_C16', 'headline_C17', 'headline_C18', 'headline_C19', 'headline_C20', 'headline_C21', 'headline_C22', 'headline_C23', 'headline_C24', 'headline_C25', 'headline_C26', 'headline_C27', 'headline_C28', 'headline_C29', 'headline_C30', 'headline_C31', 'headline_C32', 'headline_C33', 'headline_C34', 'headline_C35', 'headline_C36', 'headline_C37', 'headline_C38', 'headline_C39', 'headline_C40', 'headline_C41', 'headline_C42', 'headline_C43', 'headline_C44', 'headline_C45', 'headline_C46', 'headline_C47', 'headline_C48', 'headline_C49', 'headline_C50', 'headline_C51', 'headline_C52', 'headline_C53', 'headline_C54', 'headline_C55', 'headline_C56', 'headline_C57', 'headline_C58', 'headline_C59', 'headline_C60', 'headline_C61', 'headline_C62', 'headline_C63', 'headline_C64', 'headline_C65', 'headline_C66', 'headline_C67', 'headline_C68', 'headline_C69', 'headline_C70', 'headline_C71', 'headline_C72', 'headline_C73', 'headline_C74', 'headline_C75', 'headline_C76', 'headline_C77', 'headline_C78', 'headline_C79', 'headline_C80', 'headline_C81', 'headline_C82', 'headline_C83', 'headline_C84', 'headline_C85', 'headline_C86', 'headline_C87', 'headline_C88', 'headline_C89', 'headline_C90', 'headline_C91', 'headline_C92', 'headline_C93', 'headline_C94', 'headline_C95', 'headline_C96', 'headline_C97', 'headline_C98', 'headline_C99', 'headline_C100']\n"
     ]
    }
   ],
   "source": [
    "print(h2o_df_ext.columns)"
   ]
  },
  {
   "cell_type": "markdown",
   "metadata": {
    "id": "6mHPACeRvX4r"
   },
   "source": [
    "# Train-test split"
   ]
  },
  {
   "cell_type": "code",
   "execution_count": 36,
   "metadata": {
    "id": "YZGTQwgbvs03"
   },
   "outputs": [],
   "source": [
    "train,test,valid = h2o_df_ext.split_frame(ratios=[.7, .15])"
   ]
  },
  {
   "cell_type": "markdown",
   "metadata": {
    "id": "vyjlLXF9xN6T"
   },
   "source": [
    "# Training"
   ]
  },
  {
   "cell_type": "code",
   "execution_count": 40,
   "metadata": {
    "id": "l5AnEe6Av2ej"
   },
   "outputs": [],
   "source": [
    "# define model\n",
    "aml = H2OAutoML(max_models = 10, seed = 10, exclude_algos = [\"StackedEnsemble\", \"DeepLearning\"], verbosity=\"info\", nfolds=0)"
   ]
  },
  {
   "cell_type": "code",
   "execution_count": 42,
   "metadata": {
    "colab": {
     "base_uri": "https://localhost:8080/"
    },
    "id": "Xc7DlqYgv2bC",
    "outputId": "7abaf19a-de94-4d52-f49b-47611dddde1e"
   },
   "outputs": [
    {
     "name": "stdout",
     "output_type": "stream",
     "text": [
      "AutoML progress: |\n",
      "09:02:50.760: Project: AutoML_20210505_90250756\n",
      "09:02:50.761: Cross-validation disabled by user: no fold column nor nfolds > 1.\n",
      "09:02:50.761: Setting stopping tolerance adaptively based on the training frame: 0.00407512037956055\n",
      "09:02:50.761: Build control seed: 10\n",
      "09:02:50.761: Since cross-validation is disabled, and no leaderboard frame was provided, automatically split the training data into training and leaderboard frames in the ratio 90/10\n",
      "09:02:52.47: training frame: Frame key: automl_training_py_392_sid_992d    cols: 205    rows: 54248  chunks: 8    size: 107830741  checksum: 8590410091307650819\n",
      "09:02:52.48: validation frame: Frame key: py_394_sid_992d    cols: 205    rows: 12780  chunks: 8    size: 25459844  checksum: -3783638782046754971\n",
      "09:02:52.95: leaderboard frame: Frame key: automl_leaderboard_py_392_sid_992d    cols: 205    rows: 5969  chunks: 8    size: 11982795  checksum: -3734943162808242225\n",
      "09:02:52.95: blending frame: NULL\n",
      "09:02:52.95: response column: target\n",
      "09:02:52.95: fold column: null\n",
      "09:02:52.95: weights column: null\n",
      "09:02:52.117: Loading execution steps: [{XGBoost : defaults}, {GLM : defaults}, {DRF : [def_1]}, {GBM : defaults}, {DeepLearning : defaults}, {DRF : [XRT]}, {XGBoost : grids}, {GBM : grids}, {DeepLearning : grids}, {GBM : [lr_annealing]}, {XGBoost : [lr_search]}, {StackedEnsemble : defaults}]\n",
      "09:02:52.128: Disabling Algo: DeepLearning as requested by the user.\n",
      "09:02:52.128: Disabling Algo: StackedEnsemble as requested by the user.\n",
      "09:02:52.131: AutoML job created: 2021.05.05 09:02:50.756\n",
      "09:02:52.132: AutoML build started: 2021.05.05 09:02:52.131\n",
      "09:02:52.135: AutoML: starting XGBoost_1_AutoML_20210505_090250 model training\n",
      "\n",
      "██\n",
      "09:03:08.582: New leader: XGBoost_1_AutoML_20210505_090250, auc: 0.9244125914596337\n",
      "09:03:08.583: AutoML: starting XGBoost_2_AutoML_20210505_090250 model training\n",
      "\n",
      "███████████████\n",
      "09:04:58.706: New leader: XGBoost_2_AutoML_20210505_090250, auc: 0.9249404737298996\n",
      "09:04:58.707: AutoML: starting XGBoost_3_AutoML_20210505_090250 model training\n",
      "\n",
      "██\n",
      "09:05:11.798: New leader: XGBoost_3_AutoML_20210505_090250, auc: 0.9319088366196795\n",
      "09:05:11.801: AutoML: starting GLM_1_AutoML_20210505_090250 model training\n",
      "\n",
      "███\n",
      "09:06:18.860: AutoML: starting DRF_1_AutoML_20210505_090250 model training\n",
      "\n",
      "█████████\n",
      "09:07:09.91: AutoML: starting GBM_1_AutoML_20210505_090250 model training\n",
      "09:08:35.403: New leader: GBM_1_AutoML_20210505_090250, auc: 0.9372017141361112\n",
      "09:08:35.403: AutoML: starting GBM_2_AutoML_20210505_090250 model training\n",
      "\n",
      "███████\n",
      "09:10:06.725: New leader: GBM_2_AutoML_20210505_090250, auc: 0.9374101249776088\n",
      "09:10:06.726: AutoML: starting GBM_3_AutoML_20210505_090250 model training\n",
      "\n",
      "████\n",
      "09:11:33.72: AutoML: starting GBM_4_AutoML_20210505_090250 model training\n",
      "\n",
      "████\n",
      "09:12:53.276: AutoML: starting GBM_5_AutoML_20210505_090250 model training\n",
      "\n",
      "██████████| 100%\n",
      "\n",
      "09:14:55.532: New leader: GBM_5_AutoML_20210505_090250, auc: 0.9391157179667369\n",
      "09:14:55.533: Skipping StackedEnsemble 'best' due to the exclude_algos option.\n",
      "09:14:55.534: Skipping StackedEnsemble 'all' due to the exclude_algos option.\n",
      "09:14:55.534: Actual modeling steps: [{XGBoost : [def_1 (10), def_2 (10), def_3 (10)]}, {GLM : [def_1 (10)]}, {DRF : [def_1 (10)]}, {GBM : [def_1 (10), def_2 (10), def_3 (10), def_4 (10), def_5 (10)]}]\n",
      "09:14:55.534: AutoML build stopped: 2021.05.05 09:14:55.534\n",
      "09:14:55.534: AutoML build done: built 10 models\n",
      "09:14:55.534: AutoML duration: 12 min  3.403 sec\n",
      "\n"
     ]
    }
   ],
   "source": [
    "# train model\n",
    "# independent features - 1 for votes column, 100 for review column, 100 for headline column = 201 columns\n",
    "# dependent feature - target\n",
    "aml.train(x = ['votes'] + h2o_df_ext.columns[5:], \n",
    "          y = \"target\", \n",
    "          training_frame = train, \n",
    "          validation_frame = valid)"
   ]
  },
  {
   "cell_type": "code",
   "execution_count": 43,
   "metadata": {
    "colab": {
     "base_uri": "https://localhost:8080/",
     "height": 238
    },
    "id": "9v13-GUrv2Ey",
    "outputId": "0f517ed1-1b38-4906-fef6-e3492d7a6914"
   },
   "outputs": [
    {
     "data": {
      "text/html": [
       "<table>\n",
       "<thead>\n",
       "<tr><th>model_id                        </th><th style=\"text-align: right;\">     auc</th><th style=\"text-align: right;\">  logloss</th><th style=\"text-align: right;\">   aucpr</th><th style=\"text-align: right;\">  mean_per_class_error</th><th style=\"text-align: right;\">    rmse</th><th style=\"text-align: right;\">      mse</th></tr>\n",
       "</thead>\n",
       "<tbody>\n",
       "<tr><td>GBM_5_AutoML_20210505_090250    </td><td style=\"text-align: right;\">0.939116</td><td style=\"text-align: right;\"> 0.277741</td><td style=\"text-align: right;\">0.972751</td><td style=\"text-align: right;\">              0.177032</td><td style=\"text-align: right;\">0.291778</td><td style=\"text-align: right;\">0.0851345</td></tr>\n",
       "<tr><td>GBM_2_AutoML_20210505_090250    </td><td style=\"text-align: right;\">0.93741 </td><td style=\"text-align: right;\"> 0.279876</td><td style=\"text-align: right;\">0.972237</td><td style=\"text-align: right;\">              0.158739</td><td style=\"text-align: right;\">0.294205</td><td style=\"text-align: right;\">0.0865565</td></tr>\n",
       "<tr><td>GBM_1_AutoML_20210505_090250    </td><td style=\"text-align: right;\">0.937202</td><td style=\"text-align: right;\"> 0.282376</td><td style=\"text-align: right;\">0.972496</td><td style=\"text-align: right;\">              0.167162</td><td style=\"text-align: right;\">0.296243</td><td style=\"text-align: right;\">0.0877599</td></tr>\n",
       "<tr><td>GBM_3_AutoML_20210505_090250    </td><td style=\"text-align: right;\">0.936421</td><td style=\"text-align: right;\"> 0.283474</td><td style=\"text-align: right;\">0.971696</td><td style=\"text-align: right;\">              0.1673  </td><td style=\"text-align: right;\">0.295651</td><td style=\"text-align: right;\">0.0874095</td></tr>\n",
       "<tr><td>GBM_4_AutoML_20210505_090250    </td><td style=\"text-align: right;\">0.933923</td><td style=\"text-align: right;\"> 0.292406</td><td style=\"text-align: right;\">0.970981</td><td style=\"text-align: right;\">              0.174002</td><td style=\"text-align: right;\">0.300909</td><td style=\"text-align: right;\">0.0905461</td></tr>\n",
       "<tr><td>XGBoost_3_AutoML_20210505_090250</td><td style=\"text-align: right;\">0.931909</td><td style=\"text-align: right;\"> 0.291421</td><td style=\"text-align: right;\">0.969712</td><td style=\"text-align: right;\">              0.186899</td><td style=\"text-align: right;\">0.300773</td><td style=\"text-align: right;\">0.0904642</td></tr>\n",
       "<tr><td>XGBoost_2_AutoML_20210505_090250</td><td style=\"text-align: right;\">0.92494 </td><td style=\"text-align: right;\"> 0.316138</td><td style=\"text-align: right;\">0.9659  </td><td style=\"text-align: right;\">              0.184812</td><td style=\"text-align: right;\">0.309711</td><td style=\"text-align: right;\">0.0959207</td></tr>\n",
       "<tr><td>XGBoost_1_AutoML_20210505_090250</td><td style=\"text-align: right;\">0.924413</td><td style=\"text-align: right;\"> 0.315965</td><td style=\"text-align: right;\">0.965854</td><td style=\"text-align: right;\">              0.182925</td><td style=\"text-align: right;\">0.310246</td><td style=\"text-align: right;\">0.0962524</td></tr>\n",
       "<tr><td>GLM_1_AutoML_20210505_090250    </td><td style=\"text-align: right;\">0.916006</td><td style=\"text-align: right;\"> 0.321333</td><td style=\"text-align: right;\">0.960134</td><td style=\"text-align: right;\">              0.194515</td><td style=\"text-align: right;\">0.313695</td><td style=\"text-align: right;\">0.0984042</td></tr>\n",
       "<tr><td>DRF_1_AutoML_20210505_090250    </td><td style=\"text-align: right;\">0.912581</td><td style=\"text-align: right;\"> 0.354661</td><td style=\"text-align: right;\">0.959955</td><td style=\"text-align: right;\">              0.22722 </td><td style=\"text-align: right;\">0.329862</td><td style=\"text-align: right;\">0.108809 </td></tr>\n",
       "</tbody>\n",
       "</table>"
      ]
     },
     "metadata": {
      "tags": []
     },
     "output_type": "display_data"
    },
    {
     "data": {
      "text/plain": []
     },
     "execution_count": 43,
     "metadata": {
      "tags": []
     },
     "output_type": "execute_result"
    }
   ],
   "source": [
    "# get performance summary of models\n",
    "lb = aml.leaderboard\n",
    "lb.head()"
   ]
  },
  {
   "cell_type": "code",
   "execution_count": 66,
   "metadata": {
    "id": "FxnBz17Y4JXd"
   },
   "outputs": [],
   "source": [
    "# h2o.get_model('GBM_5_AutoML_20210505_090250')"
   ]
  },
  {
   "cell_type": "markdown",
   "metadata": {
    "id": "KDMvcBzXx8Om"
   },
   "source": [
    "# Testing"
   ]
  },
  {
   "cell_type": "code",
   "execution_count": 45,
   "metadata": {
    "colab": {
     "base_uri": "https://localhost:8080/"
    },
    "id": "Dyb6JGpoxIy3",
    "outputId": "25e9930b-5e79-4fb8-bc9f-11aadebc2c04"
   },
   "outputs": [
    {
     "name": "stdout",
     "output_type": "stream",
     "text": [
      "gbm prediction progress: |████████████████████████████████████████████████| 100%\n"
     ]
    }
   ],
   "source": [
    "pred = aml.leader.predict(test)"
   ]
  },
  {
   "cell_type": "code",
   "execution_count": 46,
   "metadata": {
    "colab": {
     "base_uri": "https://localhost:8080/",
     "height": 1000
    },
    "id": "FJbjzbzHxIt_",
    "outputId": "ddf127b2-383d-451e-cde1-716fd7a139a4"
   },
   "outputs": [
    {
     "name": "stdout",
     "output_type": "stream",
     "text": [
      "\n",
      "ModelMetricsBinomial: gbm\n",
      "** Reported on test data. **\n",
      "\n",
      "MSE: 0.08497929918957645\n",
      "RMSE: 0.29151209098350694\n",
      "LogLoss: 0.2748327694644236\n",
      "Mean Per-Class Error: 0.14041054448395274\n",
      "AUC: 0.937434133257425\n",
      "AUCPR: 0.9741709001779464\n",
      "Gini: 0.87486826651485\n",
      "\n",
      "Confusion Matrix (Act/Pred) for max f1 @ threshold = 0.512618878640086: \n"
     ]
    },
    {
     "data": {
      "text/html": [
       "<div>\n",
       "<style scoped>\n",
       "    .dataframe tbody tr th:only-of-type {\n",
       "        vertical-align: middle;\n",
       "    }\n",
       "\n",
       "    .dataframe tbody tr th {\n",
       "        vertical-align: top;\n",
       "    }\n",
       "\n",
       "    .dataframe thead th {\n",
       "        text-align: right;\n",
       "    }\n",
       "</style>\n",
       "<table border=\"1\" class=\"dataframe\">\n",
       "  <thead>\n",
       "    <tr style=\"text-align: right;\">\n",
       "      <th></th>\n",
       "      <th></th>\n",
       "      <th>0</th>\n",
       "      <th>1</th>\n",
       "      <th>Error</th>\n",
       "      <th>Rate</th>\n",
       "    </tr>\n",
       "  </thead>\n",
       "  <tbody>\n",
       "    <tr>\n",
       "      <th>0</th>\n",
       "      <td>0</td>\n",
       "      <td>2469.0</td>\n",
       "      <td>1034.0</td>\n",
       "      <td>0.2952</td>\n",
       "      <td>(1034.0/3503.0)</td>\n",
       "    </tr>\n",
       "    <tr>\n",
       "      <th>1</th>\n",
       "      <td>1</td>\n",
       "      <td>488.0</td>\n",
       "      <td>8993.0</td>\n",
       "      <td>0.0515</td>\n",
       "      <td>(488.0/9481.0)</td>\n",
       "    </tr>\n",
       "    <tr>\n",
       "      <th>2</th>\n",
       "      <td>Total</td>\n",
       "      <td>2957.0</td>\n",
       "      <td>10027.0</td>\n",
       "      <td>0.1172</td>\n",
       "      <td>(1522.0/12984.0)</td>\n",
       "    </tr>\n",
       "  </tbody>\n",
       "</table>\n",
       "</div>"
      ],
      "text/plain": [
       "               0        1   Error               Rate\n",
       "0      0  2469.0   1034.0  0.2952    (1034.0/3503.0)\n",
       "1      1   488.0   8993.0  0.0515     (488.0/9481.0)\n",
       "2  Total  2957.0  10027.0  0.1172   (1522.0/12984.0)"
      ]
     },
     "metadata": {
      "tags": []
     },
     "output_type": "display_data"
    },
    {
     "name": "stdout",
     "output_type": "stream",
     "text": [
      "\n",
      "Maximum Metrics: Maximum metrics at their respective thresholds\n"
     ]
    },
    {
     "data": {
      "text/html": [
       "<div>\n",
       "<style scoped>\n",
       "    .dataframe tbody tr th:only-of-type {\n",
       "        vertical-align: middle;\n",
       "    }\n",
       "\n",
       "    .dataframe tbody tr th {\n",
       "        vertical-align: top;\n",
       "    }\n",
       "\n",
       "    .dataframe thead th {\n",
       "        text-align: right;\n",
       "    }\n",
       "</style>\n",
       "<table border=\"1\" class=\"dataframe\">\n",
       "  <thead>\n",
       "    <tr style=\"text-align: right;\">\n",
       "      <th></th>\n",
       "      <th>metric</th>\n",
       "      <th>threshold</th>\n",
       "      <th>value</th>\n",
       "      <th>idx</th>\n",
       "    </tr>\n",
       "  </thead>\n",
       "  <tbody>\n",
       "    <tr>\n",
       "      <th>0</th>\n",
       "      <td>max f1</td>\n",
       "      <td>0.512619</td>\n",
       "      <td>0.921981</td>\n",
       "      <td>226.0</td>\n",
       "    </tr>\n",
       "    <tr>\n",
       "      <th>1</th>\n",
       "      <td>max f2</td>\n",
       "      <td>0.149666</td>\n",
       "      <td>0.955084</td>\n",
       "      <td>337.0</td>\n",
       "    </tr>\n",
       "    <tr>\n",
       "      <th>2</th>\n",
       "      <td>max f0point5</td>\n",
       "      <td>0.766753</td>\n",
       "      <td>0.924955</td>\n",
       "      <td>142.0</td>\n",
       "    </tr>\n",
       "    <tr>\n",
       "      <th>3</th>\n",
       "      <td>max accuracy</td>\n",
       "      <td>0.562731</td>\n",
       "      <td>0.883395</td>\n",
       "      <td>211.0</td>\n",
       "    </tr>\n",
       "    <tr>\n",
       "      <th>4</th>\n",
       "      <td>max precision</td>\n",
       "      <td>0.998415</td>\n",
       "      <td>0.999133</td>\n",
       "      <td>2.0</td>\n",
       "    </tr>\n",
       "    <tr>\n",
       "      <th>5</th>\n",
       "      <td>max recall</td>\n",
       "      <td>0.002917</td>\n",
       "      <td>1.000000</td>\n",
       "      <td>398.0</td>\n",
       "    </tr>\n",
       "    <tr>\n",
       "      <th>6</th>\n",
       "      <td>max specificity</td>\n",
       "      <td>0.999575</td>\n",
       "      <td>0.999715</td>\n",
       "      <td>0.0</td>\n",
       "    </tr>\n",
       "    <tr>\n",
       "      <th>7</th>\n",
       "      <td>max absolute_mcc</td>\n",
       "      <td>0.595732</td>\n",
       "      <td>0.698216</td>\n",
       "      <td>200.0</td>\n",
       "    </tr>\n",
       "    <tr>\n",
       "      <th>8</th>\n",
       "      <td>max min_per_class_accuracy</td>\n",
       "      <td>0.788527</td>\n",
       "      <td>0.857188</td>\n",
       "      <td>133.0</td>\n",
       "    </tr>\n",
       "    <tr>\n",
       "      <th>9</th>\n",
       "      <td>max mean_per_class_accuracy</td>\n",
       "      <td>0.766753</td>\n",
       "      <td>0.859589</td>\n",
       "      <td>142.0</td>\n",
       "    </tr>\n",
       "    <tr>\n",
       "      <th>10</th>\n",
       "      <td>max tns</td>\n",
       "      <td>0.999575</td>\n",
       "      <td>3502.000000</td>\n",
       "      <td>0.0</td>\n",
       "    </tr>\n",
       "    <tr>\n",
       "      <th>11</th>\n",
       "      <td>max fns</td>\n",
       "      <td>0.999575</td>\n",
       "      <td>8879.000000</td>\n",
       "      <td>0.0</td>\n",
       "    </tr>\n",
       "    <tr>\n",
       "      <th>12</th>\n",
       "      <td>max fps</td>\n",
       "      <td>0.001914</td>\n",
       "      <td>3503.000000</td>\n",
       "      <td>399.0</td>\n",
       "    </tr>\n",
       "    <tr>\n",
       "      <th>13</th>\n",
       "      <td>max tps</td>\n",
       "      <td>0.002917</td>\n",
       "      <td>9481.000000</td>\n",
       "      <td>398.0</td>\n",
       "    </tr>\n",
       "    <tr>\n",
       "      <th>14</th>\n",
       "      <td>max tnr</td>\n",
       "      <td>0.999575</td>\n",
       "      <td>0.999715</td>\n",
       "      <td>0.0</td>\n",
       "    </tr>\n",
       "    <tr>\n",
       "      <th>15</th>\n",
       "      <td>max fnr</td>\n",
       "      <td>0.999575</td>\n",
       "      <td>0.936505</td>\n",
       "      <td>0.0</td>\n",
       "    </tr>\n",
       "    <tr>\n",
       "      <th>16</th>\n",
       "      <td>max fpr</td>\n",
       "      <td>0.001914</td>\n",
       "      <td>1.000000</td>\n",
       "      <td>399.0</td>\n",
       "    </tr>\n",
       "    <tr>\n",
       "      <th>17</th>\n",
       "      <td>max tpr</td>\n",
       "      <td>0.002917</td>\n",
       "      <td>1.000000</td>\n",
       "      <td>398.0</td>\n",
       "    </tr>\n",
       "  </tbody>\n",
       "</table>\n",
       "</div>"
      ],
      "text/plain": [
       "                         metric  threshold        value    idx\n",
       "0                        max f1   0.512619     0.921981  226.0\n",
       "1                        max f2   0.149666     0.955084  337.0\n",
       "2                  max f0point5   0.766753     0.924955  142.0\n",
       "3                  max accuracy   0.562731     0.883395  211.0\n",
       "4                 max precision   0.998415     0.999133    2.0\n",
       "5                    max recall   0.002917     1.000000  398.0\n",
       "6               max specificity   0.999575     0.999715    0.0\n",
       "7              max absolute_mcc   0.595732     0.698216  200.0\n",
       "8    max min_per_class_accuracy   0.788527     0.857188  133.0\n",
       "9   max mean_per_class_accuracy   0.766753     0.859589  142.0\n",
       "10                      max tns   0.999575  3502.000000    0.0\n",
       "11                      max fns   0.999575  8879.000000    0.0\n",
       "12                      max fps   0.001914  3503.000000  399.0\n",
       "13                      max tps   0.002917  9481.000000  398.0\n",
       "14                      max tnr   0.999575     0.999715    0.0\n",
       "15                      max fnr   0.999575     0.936505    0.0\n",
       "16                      max fpr   0.001914     1.000000  399.0\n",
       "17                      max tpr   0.002917     1.000000  398.0"
      ]
     },
     "metadata": {
      "tags": []
     },
     "output_type": "display_data"
    },
    {
     "name": "stdout",
     "output_type": "stream",
     "text": [
      "\n",
      "Gains/Lift Table: Avg response rate: 73.02 %, avg score: 74.45 %\n"
     ]
    },
    {
     "data": {
      "text/html": [
       "<div>\n",
       "<style scoped>\n",
       "    .dataframe tbody tr th:only-of-type {\n",
       "        vertical-align: middle;\n",
       "    }\n",
       "\n",
       "    .dataframe tbody tr th {\n",
       "        vertical-align: top;\n",
       "    }\n",
       "\n",
       "    .dataframe thead th {\n",
       "        text-align: right;\n",
       "    }\n",
       "</style>\n",
       "<table border=\"1\" class=\"dataframe\">\n",
       "  <thead>\n",
       "    <tr style=\"text-align: right;\">\n",
       "      <th></th>\n",
       "      <th></th>\n",
       "      <th>group</th>\n",
       "      <th>cumulative_data_fraction</th>\n",
       "      <th>lower_threshold</th>\n",
       "      <th>lift</th>\n",
       "      <th>cumulative_lift</th>\n",
       "      <th>response_rate</th>\n",
       "      <th>score</th>\n",
       "      <th>cumulative_response_rate</th>\n",
       "      <th>cumulative_score</th>\n",
       "      <th>capture_rate</th>\n",
       "      <th>cumulative_capture_rate</th>\n",
       "      <th>gain</th>\n",
       "      <th>cumulative_gain</th>\n",
       "    </tr>\n",
       "  </thead>\n",
       "  <tbody>\n",
       "    <tr>\n",
       "      <th>0</th>\n",
       "      <td></td>\n",
       "      <td>1</td>\n",
       "      <td>0.010012</td>\n",
       "      <td>0.999742</td>\n",
       "      <td>1.369476</td>\n",
       "      <td>1.369476</td>\n",
       "      <td>1.000000</td>\n",
       "      <td>0.999793</td>\n",
       "      <td>1.000000</td>\n",
       "      <td>0.999793</td>\n",
       "      <td>0.013712</td>\n",
       "      <td>0.013712</td>\n",
       "      <td>36.947579</td>\n",
       "      <td>36.947579</td>\n",
       "    </tr>\n",
       "    <tr>\n",
       "      <th>1</th>\n",
       "      <td></td>\n",
       "      <td>2</td>\n",
       "      <td>0.020025</td>\n",
       "      <td>0.999641</td>\n",
       "      <td>1.369476</td>\n",
       "      <td>1.369476</td>\n",
       "      <td>1.000000</td>\n",
       "      <td>0.999695</td>\n",
       "      <td>1.000000</td>\n",
       "      <td>0.999744</td>\n",
       "      <td>0.013712</td>\n",
       "      <td>0.027423</td>\n",
       "      <td>36.947579</td>\n",
       "      <td>36.947579</td>\n",
       "    </tr>\n",
       "    <tr>\n",
       "      <th>2</th>\n",
       "      <td></td>\n",
       "      <td>3</td>\n",
       "      <td>0.030114</td>\n",
       "      <td>0.999534</td>\n",
       "      <td>1.369476</td>\n",
       "      <td>1.369476</td>\n",
       "      <td>1.000000</td>\n",
       "      <td>0.999589</td>\n",
       "      <td>1.000000</td>\n",
       "      <td>0.999692</td>\n",
       "      <td>0.013817</td>\n",
       "      <td>0.041240</td>\n",
       "      <td>36.947579</td>\n",
       "      <td>36.947579</td>\n",
       "    </tr>\n",
       "    <tr>\n",
       "      <th>3</th>\n",
       "      <td></td>\n",
       "      <td>4</td>\n",
       "      <td>0.040049</td>\n",
       "      <td>0.999370</td>\n",
       "      <td>1.369476</td>\n",
       "      <td>1.369476</td>\n",
       "      <td>1.000000</td>\n",
       "      <td>0.999447</td>\n",
       "      <td>1.000000</td>\n",
       "      <td>0.999631</td>\n",
       "      <td>0.013606</td>\n",
       "      <td>0.054847</td>\n",
       "      <td>36.947579</td>\n",
       "      <td>36.947579</td>\n",
       "    </tr>\n",
       "    <tr>\n",
       "      <th>4</th>\n",
       "      <td></td>\n",
       "      <td>5</td>\n",
       "      <td>0.050062</td>\n",
       "      <td>0.999187</td>\n",
       "      <td>1.369476</td>\n",
       "      <td>1.369476</td>\n",
       "      <td>1.000000</td>\n",
       "      <td>0.999282</td>\n",
       "      <td>1.000000</td>\n",
       "      <td>0.999561</td>\n",
       "      <td>0.013712</td>\n",
       "      <td>0.068558</td>\n",
       "      <td>36.947579</td>\n",
       "      <td>36.947579</td>\n",
       "    </tr>\n",
       "    <tr>\n",
       "      <th>5</th>\n",
       "      <td></td>\n",
       "      <td>6</td>\n",
       "      <td>0.100046</td>\n",
       "      <td>0.997688</td>\n",
       "      <td>1.367366</td>\n",
       "      <td>1.368422</td>\n",
       "      <td>0.998459</td>\n",
       "      <td>0.998525</td>\n",
       "      <td>0.999230</td>\n",
       "      <td>0.999044</td>\n",
       "      <td>0.068347</td>\n",
       "      <td>0.136905</td>\n",
       "      <td>36.736566</td>\n",
       "      <td>36.842154</td>\n",
       "    </tr>\n",
       "    <tr>\n",
       "      <th>6</th>\n",
       "      <td></td>\n",
       "      <td>7</td>\n",
       "      <td>0.150031</td>\n",
       "      <td>0.995337</td>\n",
       "      <td>1.365256</td>\n",
       "      <td>1.367367</td>\n",
       "      <td>0.996918</td>\n",
       "      <td>0.996605</td>\n",
       "      <td>0.998460</td>\n",
       "      <td>0.998231</td>\n",
       "      <td>0.068242</td>\n",
       "      <td>0.205147</td>\n",
       "      <td>36.525553</td>\n",
       "      <td>36.736674</td>\n",
       "    </tr>\n",
       "    <tr>\n",
       "      <th>7</th>\n",
       "      <td></td>\n",
       "      <td>8</td>\n",
       "      <td>0.200015</td>\n",
       "      <td>0.992383</td>\n",
       "      <td>1.358925</td>\n",
       "      <td>1.365257</td>\n",
       "      <td>0.992296</td>\n",
       "      <td>0.993958</td>\n",
       "      <td>0.996920</td>\n",
       "      <td>0.997163</td>\n",
       "      <td>0.067925</td>\n",
       "      <td>0.273072</td>\n",
       "      <td>35.892513</td>\n",
       "      <td>36.525715</td>\n",
       "    </tr>\n",
       "    <tr>\n",
       "      <th>8</th>\n",
       "      <td></td>\n",
       "      <td>9</td>\n",
       "      <td>0.299985</td>\n",
       "      <td>0.983348</td>\n",
       "      <td>1.347319</td>\n",
       "      <td>1.359279</td>\n",
       "      <td>0.983821</td>\n",
       "      <td>0.988301</td>\n",
       "      <td>0.992555</td>\n",
       "      <td>0.994210</td>\n",
       "      <td>0.134690</td>\n",
       "      <td>0.407763</td>\n",
       "      <td>34.731941</td>\n",
       "      <td>35.927944</td>\n",
       "    </tr>\n",
       "    <tr>\n",
       "      <th>9</th>\n",
       "      <td></td>\n",
       "      <td>10</td>\n",
       "      <td>0.400031</td>\n",
       "      <td>0.966889</td>\n",
       "      <td>1.328360</td>\n",
       "      <td>1.351547</td>\n",
       "      <td>0.969977</td>\n",
       "      <td>0.975815</td>\n",
       "      <td>0.986908</td>\n",
       "      <td>0.989609</td>\n",
       "      <td>0.132897</td>\n",
       "      <td>0.540660</td>\n",
       "      <td>32.835989</td>\n",
       "      <td>35.154658</td>\n",
       "    </tr>\n",
       "    <tr>\n",
       "      <th>10</th>\n",
       "      <td></td>\n",
       "      <td>11</td>\n",
       "      <td>0.500000</td>\n",
       "      <td>0.933275</td>\n",
       "      <td>1.290346</td>\n",
       "      <td>1.339310</td>\n",
       "      <td>0.942219</td>\n",
       "      <td>0.952056</td>\n",
       "      <td>0.977973</td>\n",
       "      <td>0.982101</td>\n",
       "      <td>0.128995</td>\n",
       "      <td>0.669655</td>\n",
       "      <td>29.034584</td>\n",
       "      <td>33.931020</td>\n",
       "    </tr>\n",
       "    <tr>\n",
       "      <th>11</th>\n",
       "      <td></td>\n",
       "      <td>12</td>\n",
       "      <td>0.599969</td>\n",
       "      <td>0.865232</td>\n",
       "      <td>1.192225</td>\n",
       "      <td>1.314802</td>\n",
       "      <td>0.870570</td>\n",
       "      <td>0.903408</td>\n",
       "      <td>0.960077</td>\n",
       "      <td>0.968989</td>\n",
       "      <td>0.119186</td>\n",
       "      <td>0.788841</td>\n",
       "      <td>19.222469</td>\n",
       "      <td>31.480224</td>\n",
       "    </tr>\n",
       "    <tr>\n",
       "      <th>12</th>\n",
       "      <td></td>\n",
       "      <td>13</td>\n",
       "      <td>0.700015</td>\n",
       "      <td>0.717794</td>\n",
       "      <td>1.026843</td>\n",
       "      <td>1.273647</td>\n",
       "      <td>0.749808</td>\n",
       "      <td>0.802039</td>\n",
       "      <td>0.930025</td>\n",
       "      <td>0.945128</td>\n",
       "      <td>0.102732</td>\n",
       "      <td>0.891573</td>\n",
       "      <td>2.684328</td>\n",
       "      <td>27.364714</td>\n",
       "    </tr>\n",
       "    <tr>\n",
       "      <th>13</th>\n",
       "      <td></td>\n",
       "      <td>14</td>\n",
       "      <td>0.799985</td>\n",
       "      <td>0.407733</td>\n",
       "      <td>0.716390</td>\n",
       "      <td>1.204010</td>\n",
       "      <td>0.523112</td>\n",
       "      <td>0.578169</td>\n",
       "      <td>0.879176</td>\n",
       "      <td>0.899272</td>\n",
       "      <td>0.071617</td>\n",
       "      <td>0.963190</td>\n",
       "      <td>-28.361012</td>\n",
       "      <td>20.401010</td>\n",
       "    </tr>\n",
       "    <tr>\n",
       "      <th>14</th>\n",
       "      <td></td>\n",
       "      <td>15</td>\n",
       "      <td>0.899954</td>\n",
       "      <td>0.079697</td>\n",
       "      <td>0.334456</td>\n",
       "      <td>1.107418</td>\n",
       "      <td>0.244222</td>\n",
       "      <td>0.226219</td>\n",
       "      <td>0.808644</td>\n",
       "      <td>0.824507</td>\n",
       "      <td>0.033435</td>\n",
       "      <td>0.996625</td>\n",
       "      <td>-66.554405</td>\n",
       "      <td>10.741778</td>\n",
       "    </tr>\n",
       "    <tr>\n",
       "      <th>15</th>\n",
       "      <td></td>\n",
       "      <td>16</td>\n",
       "      <td>1.000000</td>\n",
       "      <td>0.000774</td>\n",
       "      <td>0.033736</td>\n",
       "      <td>1.000000</td>\n",
       "      <td>0.024634</td>\n",
       "      <td>0.024704</td>\n",
       "      <td>0.730206</td>\n",
       "      <td>0.744490</td>\n",
       "      <td>0.003375</td>\n",
       "      <td>1.000000</td>\n",
       "      <td>-96.626388</td>\n",
       "      <td>0.000000</td>\n",
       "    </tr>\n",
       "  </tbody>\n",
       "</table>\n",
       "</div>"
      ],
      "text/plain": [
       "      group  ...       gain  cumulative_gain\n",
       "0         1  ...  36.947579        36.947579\n",
       "1         2  ...  36.947579        36.947579\n",
       "2         3  ...  36.947579        36.947579\n",
       "3         4  ...  36.947579        36.947579\n",
       "4         5  ...  36.947579        36.947579\n",
       "5         6  ...  36.736566        36.842154\n",
       "6         7  ...  36.525553        36.736674\n",
       "7         8  ...  35.892513        36.525715\n",
       "8         9  ...  34.731941        35.927944\n",
       "9        10  ...  32.835989        35.154658\n",
       "10       11  ...  29.034584        33.931020\n",
       "11       12  ...  19.222469        31.480224\n",
       "12       13  ...   2.684328        27.364714\n",
       "13       14  ... -28.361012        20.401010\n",
       "14       15  ... -66.554405        10.741778\n",
       "15       16  ... -96.626388         0.000000\n",
       "\n",
       "[16 rows x 14 columns]"
      ]
     },
     "metadata": {
      "tags": []
     },
     "output_type": "display_data"
    },
    {
     "name": "stdout",
     "output_type": "stream",
     "text": [
      "\n"
     ]
    },
    {
     "data": {
      "text/plain": []
     },
     "execution_count": 46,
     "metadata": {
      "tags": []
     },
     "output_type": "execute_result"
    }
   ],
   "source": [
    "aml.leader.model_performance(test)"
   ]
  },
  {
   "cell_type": "markdown",
   "metadata": {
    "id": "WGp6mkh8zR1z"
   },
   "source": [
    "# Check Feature Importance"
   ]
  },
  {
   "cell_type": "code",
   "execution_count": 53,
   "metadata": {
    "colab": {
     "base_uri": "https://localhost:8080/",
     "height": 612
    },
    "id": "xwyKkCZt1bb1",
    "outputId": "d1334a65-9ebc-415a-93e2-ec2c9facbc1e"
   },
   "outputs": [
    {
     "data": {
      "image/png": "[encoded data removed]",
      "text/plain": [
       "<Figure size 1008x720 with 1 Axes>"
      ]
     },
     "metadata": {
      "needs_background": "light",
      "tags": []
     },
     "output_type": "display_data"
    }
   ],
   "source": [
    "aml.leader.varimp_plot()"
   ]
  },
  {
   "cell_type": "markdown",
   "metadata": {
    "id": "go1fGdXl52Vp"
   },
   "source": [
    "# References"
   ]
  },
  {
   "cell_type": "markdown",
   "metadata": {
    "id": "01qj4q6h56PW"
   },
   "source": [
    "* http://docs.h2o.ai/h2o/latest-stable/h2o-docs/automl.html\n",
    "* https://www.kaggle.com/sudalairajkumar/getting-started-with-h2o\n",
    "* https://github.com/srivatsan88/YouTubeLI/blob/master/H2O_AutoML.ipynb\n",
    "* https://github.com/srivatsan88/YouTubeLI/blob/master/Sentiment_Analysis_Model_using_GBM_H2O.ipynb"
   ]
  }
 ],
 "metadata": {
  "accelerator": "GPU",
  "colab": {
   "name": "Sentiment Analysis Model using GBM/H2O",
   "provenance": []
  },
  "kernelspec": {
   "display_name": "Python 3",
   "language": "python",
   "name": "python3"
  },
  "language_info": {
   "codemirror_mode": {
    "name": "ipython",
    "version": 3
   },
   "file_extension": ".py",
   "mimetype": "text/x-python",
   "name": "python",
   "nbconvert_exporter": "python",
   "pygments_lexer": "ipython3",
   "version": "3.7.4"
  },
  "widgets": {
   "application/vnd.jupyter.widget-state+json": {
    "03e9b7a011da4129945c4520c3bbd649": {
     "model_module": "@jupyter-widgets/controls",
     "model_name": "DescriptionStyleModel",
     "state": {
      "_model_module": "@jupyter-widgets/controls",
      "_model_module_version": "1.5.0",
      "_model_name": "DescriptionStyleModel",
      "_view_count": null,
      "_view_module": "@jupyter-widgets/base",
      "_view_module_version": "1.2.0",
      "_view_name": "StyleView",
      "description_width": ""
     }
    },
    "0b816610f66644de940110cdc275c12d": {
     "model_module": "@jupyter-widgets/controls",
     "model_name": "HBoxModel",
     "state": {
      "_dom_classes": [],
      "_model_module": "@jupyter-widgets/controls",
      "_model_module_version": "1.5.0",
      "_model_name": "HBoxModel",
      "_view_count": null,
      "_view_module": "@jupyter-widgets/controls",
      "_view_module_version": "1.5.0",
      "_view_name": "HBoxView",
      "box_style": "",
      "children": [
       "IPY_MODEL_40dfa37f782d4cbabc30bb0021cda820",
       "IPY_MODEL_a4ccf1a585fc4e5fb811d3ffb693424e"
      ],
      "layout": "IPY_MODEL_bd409435aefa462ab910e3a3e18ce14e"
     }
    },
    "0dbedf6850ff4cb1813711b5e7bf7342": {
     "model_module": "@jupyter-widgets/base",
     "model_name": "LayoutModel",
     "state": {
      "_model_module": "@jupyter-widgets/base",
      "_model_module_version": "1.2.0",
      "_model_name": "LayoutModel",
      "_view_count": null,
      "_view_module": "@jupyter-widgets/base",
      "_view_module_version": "1.2.0",
      "_view_name": "LayoutView",
      "align_content": null,
      "align_items": null,
      "align_self": null,
      "border": null,
      "bottom": null,
      "display": null,
      "flex": null,
      "flex_flow": null,
      "grid_area": null,
      "grid_auto_columns": null,
      "grid_auto_flow": null,
      "grid_auto_rows": null,
      "grid_column": null,
      "grid_gap": null,
      "grid_row": null,
      "grid_template_areas": null,
      "grid_template_columns": null,
      "grid_template_rows": null,
      "height": null,
      "justify_content": null,
      "justify_items": null,
      "left": null,
      "margin": null,
      "max_height": null,
      "max_width": null,
      "min_height": null,
      "min_width": null,
      "object_fit": null,
      "object_position": null,
      "order": null,
      "overflow": null,
      "overflow_x": null,
      "overflow_y": null,
      "padding": null,
      "right": null,
      "top": null,
      "visibility": null,
      "width": null
     }
    },
    "13707fc6662445cfab55ab69640f22ba": {
     "model_module": "@jupyter-widgets/controls",
     "model_name": "ProgressStyleModel",
     "state": {
      "_model_module": "@jupyter-widgets/controls",
      "_model_module_version": "1.5.0",
      "_model_name": "ProgressStyleModel",
      "_view_count": null,
      "_view_module": "@jupyter-widgets/base",
      "_view_module_version": "1.2.0",
      "_view_name": "StyleView",
      "bar_color": null,
      "description_width": "initial"
     }
    },
    "155311c14d394215989fe4bc33b4ea7a": {
     "model_module": "@jupyter-widgets/base",
     "model_name": "LayoutModel",
     "state": {
      "_model_module": "@jupyter-widgets/base",
      "_model_module_version": "1.2.0",
      "_model_name": "LayoutModel",
      "_view_count": null,
      "_view_module": "@jupyter-widgets/base",
      "_view_module_version": "1.2.0",
      "_view_name": "LayoutView",
      "align_content": null,
      "align_items": null,
      "align_self": null,
      "border": null,
      "bottom": null,
      "display": null,
      "flex": null,
      "flex_flow": null,
      "grid_area": null,
      "grid_auto_columns": null,
      "grid_auto_flow": null,
      "grid_auto_rows": null,
      "grid_column": null,
      "grid_gap": null,
      "grid_row": null,
      "grid_template_areas": null,
      "grid_template_columns": null,
      "grid_template_rows": null,
      "height": null,
      "justify_content": null,
      "justify_items": null,
      "left": null,
      "margin": null,
      "max_height": null,
      "max_width": null,
      "min_height": null,
      "min_width": null,
      "object_fit": null,
      "object_position": null,
      "order": null,
      "overflow": null,
      "overflow_x": null,
      "overflow_y": null,
      "padding": null,
      "right": null,
      "top": null,
      "visibility": null,
      "width": null
     }
    },
    "18e4ec584e384c6b85a9ba9dd353f1fb": {
     "model_module": "@jupyter-widgets/base",
     "model_name": "LayoutModel",
     "state": {
      "_model_module": "@jupyter-widgets/base",
      "_model_module_version": "1.2.0",
      "_model_name": "LayoutModel",
      "_view_count": null,
      "_view_module": "@jupyter-widgets/base",
      "_view_module_version": "1.2.0",
      "_view_name": "LayoutView",
      "align_content": null,
      "align_items": null,
      "align_self": null,
      "border": null,
      "bottom": null,
      "display": null,
      "flex": null,
      "flex_flow": null,
      "grid_area": null,
      "grid_auto_columns": null,
      "grid_auto_flow": null,
      "grid_auto_rows": null,
      "grid_column": null,
      "grid_gap": null,
      "grid_row": null,
      "grid_template_areas": null,
      "grid_template_columns": null,
      "grid_template_rows": null,
      "height": null,
      "justify_content": null,
      "justify_items": null,
      "left": null,
      "margin": null,
      "max_height": null,
      "max_width": null,
      "min_height": null,
      "min_width": null,
      "object_fit": null,
      "object_position": null,
      "order": null,
      "overflow": null,
      "overflow_x": null,
      "overflow_y": null,
      "padding": null,
      "right": null,
      "top": null,
      "visibility": null,
      "width": null
     }
    },
    "20a287151eef40ed9f956ab869d5cb91": {
     "model_module": "@jupyter-widgets/controls",
     "model_name": "HTMLModel",
     "state": {
      "_dom_classes": [],
      "_model_module": "@jupyter-widgets/controls",
      "_model_module_version": "1.5.0",
      "_model_name": "HTMLModel",
      "_view_count": null,
      "_view_module": "@jupyter-widgets/controls",
      "_view_module_version": "1.5.0",
      "_view_name": "HTMLView",
      "description": "",
      "description_tooltip": null,
      "layout": "IPY_MODEL_f598530645b44b98bb7906c3598b30f8",
      "placeholder": "​",
      "style": "IPY_MODEL_3cba4a9f5bcd40e198c2dea0b006261c",
      "value": " 85981/0 [01:08&lt;00:00, 1333.26 examples/s]"
     }
    },
    "27742f763415480a8ee7c644a42d3977": {
     "model_module": "@jupyter-widgets/base",
     "model_name": "LayoutModel",
     "state": {
      "_model_module": "@jupyter-widgets/base",
      "_model_module_version": "1.2.0",
      "_model_name": "LayoutModel",
      "_view_count": null,
      "_view_module": "@jupyter-widgets/base",
      "_view_module_version": "1.2.0",
      "_view_name": "LayoutView",
      "align_content": null,
      "align_items": null,
      "align_self": null,
      "border": null,
      "bottom": null,
      "display": null,
      "flex": null,
      "flex_flow": null,
      "grid_area": null,
      "grid_auto_columns": null,
      "grid_auto_flow": null,
      "grid_auto_rows": null,
      "grid_column": null,
      "grid_gap": null,
      "grid_row": null,
      "grid_template_areas": null,
      "grid_template_columns": null,
      "grid_template_rows": null,
      "height": null,
      "justify_content": null,
      "justify_items": null,
      "left": null,
      "margin": null,
      "max_height": null,
      "max_width": null,
      "min_height": null,
      "min_width": null,
      "object_fit": null,
      "object_position": null,
      "order": null,
      "overflow": null,
      "overflow_x": null,
      "overflow_y": null,
      "padding": null,
      "right": null,
      "top": null,
      "visibility": null,
      "width": null
     }
    },
    "2b843e80fb8940e296e2d94f4179c682": {
     "model_module": "@jupyter-widgets/base",
     "model_name": "LayoutModel",
     "state": {
      "_model_module": "@jupyter-widgets/base",
      "_model_module_version": "1.2.0",
      "_model_name": "LayoutModel",
      "_view_count": null,
      "_view_module": "@jupyter-widgets/base",
      "_view_module_version": "1.2.0",
      "_view_name": "LayoutView",
      "align_content": null,
      "align_items": null,
      "align_self": null,
      "border": null,
      "bottom": null,
      "display": null,
      "flex": null,
      "flex_flow": null,
      "grid_area": null,
      "grid_auto_columns": null,
      "grid_auto_flow": null,
      "grid_auto_rows": null,
      "grid_column": null,
      "grid_gap": null,
      "grid_row": null,
      "grid_template_areas": null,
      "grid_template_columns": null,
      "grid_template_rows": null,
      "height": null,
      "justify_content": null,
      "justify_items": null,
      "left": null,
      "margin": null,
      "max_height": null,
      "max_width": null,
      "min_height": null,
      "min_width": null,
      "object_fit": null,
      "object_position": null,
      "order": null,
      "overflow": null,
      "overflow_x": null,
      "overflow_y": null,
      "padding": null,
      "right": null,
      "top": null,
      "visibility": null,
      "width": null
     }
    },
    "3ad5b94d8d3c40f4ab3348e0389de0b9": {
     "model_module": "@jupyter-widgets/controls",
     "model_name": "DescriptionStyleModel",
     "state": {
      "_model_module": "@jupyter-widgets/controls",
      "_model_module_version": "1.5.0",
      "_model_name": "DescriptionStyleModel",
      "_view_count": null,
      "_view_module": "@jupyter-widgets/base",
      "_view_module_version": "1.2.0",
      "_view_name": "StyleView",
      "description_width": ""
     }
    },
    "3b24f124b887449a9a9ea72d6080ad43": {
     "model_module": "@jupyter-widgets/base",
     "model_name": "LayoutModel",
     "state": {
      "_model_module": "@jupyter-widgets/base",
      "_model_module_version": "1.2.0",
      "_model_name": "LayoutModel",
      "_view_count": null,
      "_view_module": "@jupyter-widgets/base",
      "_view_module_version": "1.2.0",
      "_view_name": "LayoutView",
      "align_content": null,
      "align_items": null,
      "align_self": null,
      "border": null,
      "bottom": null,
      "display": null,
      "flex": null,
      "flex_flow": null,
      "grid_area": null,
      "grid_auto_columns": null,
      "grid_auto_flow": null,
      "grid_auto_rows": null,
      "grid_column": null,
      "grid_gap": null,
      "grid_row": null,
      "grid_template_areas": null,
      "grid_template_columns": null,
      "grid_template_rows": null,
      "height": null,
      "justify_content": null,
      "justify_items": null,
      "left": null,
      "margin": null,
      "max_height": null,
      "max_width": null,
      "min_height": null,
      "min_width": null,
      "object_fit": null,
      "object_position": null,
      "order": null,
      "overflow": null,
      "overflow_x": null,
      "overflow_y": null,
      "padding": null,
      "right": null,
      "top": null,
      "visibility": null,
      "width": null
     }
    },
    "3cba4a9f5bcd40e198c2dea0b006261c": {
     "model_module": "@jupyter-widgets/controls",
     "model_name": "DescriptionStyleModel",
     "state": {
      "_model_module": "@jupyter-widgets/controls",
      "_model_module_version": "1.5.0",
      "_model_name": "DescriptionStyleModel",
      "_view_count": null,
      "_view_module": "@jupyter-widgets/base",
      "_view_module_version": "1.2.0",
      "_view_name": "StyleView",
      "description_width": ""
     }
    },
    "40dfa37f782d4cbabc30bb0021cda820": {
     "model_module": "@jupyter-widgets/controls",
     "model_name": "FloatProgressModel",
     "state": {
      "_dom_classes": [],
      "_model_module": "@jupyter-widgets/controls",
      "_model_module_version": "1.5.0",
      "_model_name": "FloatProgressModel",
      "_view_count": null,
      "_view_module": "@jupyter-widgets/controls",
      "_view_module_version": "1.5.0",
      "_view_name": "ProgressView",
      "bar_style": "success",
      "description": "Dl Size...: 100%",
      "description_tooltip": null,
      "layout": "IPY_MODEL_3b24f124b887449a9a9ea72d6080ad43",
      "max": 1,
      "min": 0,
      "orientation": "horizontal",
      "style": "IPY_MODEL_fd3d01687be14b8e9a25346091cf7c65",
      "value": 1
     }
    },
    "44b1fb7033c14968aed14973884c9b1b": {
     "model_module": "@jupyter-widgets/base",
     "model_name": "LayoutModel",
     "state": {
      "_model_module": "@jupyter-widgets/base",
      "_model_module_version": "1.2.0",
      "_model_name": "LayoutModel",
      "_view_count": null,
      "_view_module": "@jupyter-widgets/base",
      "_view_module_version": "1.2.0",
      "_view_name": "LayoutView",
      "align_content": null,
      "align_items": null,
      "align_self": null,
      "border": null,
      "bottom": null,
      "display": null,
      "flex": null,
      "flex_flow": null,
      "grid_area": null,
      "grid_auto_columns": null,
      "grid_auto_flow": null,
      "grid_auto_rows": null,
      "grid_column": null,
      "grid_gap": null,
      "grid_row": null,
      "grid_template_areas": null,
      "grid_template_columns": null,
      "grid_template_rows": null,
      "height": null,
      "justify_content": null,
      "justify_items": null,
      "left": null,
      "margin": null,
      "max_height": null,
      "max_width": null,
      "min_height": null,
      "min_width": null,
      "object_fit": null,
      "object_position": null,
      "order": null,
      "overflow": null,
      "overflow_x": null,
      "overflow_y": null,
      "padding": null,
      "right": null,
      "top": null,
      "visibility": null,
      "width": null
     }
    },
    "4e74aa21d37747c4ae8ad35def238b9f": {
     "model_module": "@jupyter-widgets/base",
     "model_name": "LayoutModel",
     "state": {
      "_model_module": "@jupyter-widgets/base",
      "_model_module_version": "1.2.0",
      "_model_name": "LayoutModel",
      "_view_count": null,
      "_view_module": "@jupyter-widgets/base",
      "_view_module_version": "1.2.0",
      "_view_name": "LayoutView",
      "align_content": null,
      "align_items": null,
      "align_self": null,
      "border": null,
      "bottom": null,
      "display": null,
      "flex": null,
      "flex_flow": null,
      "grid_area": null,
      "grid_auto_columns": null,
      "grid_auto_flow": null,
      "grid_auto_rows": null,
      "grid_column": null,
      "grid_gap": null,
      "grid_row": null,
      "grid_template_areas": null,
      "grid_template_columns": null,
      "grid_template_rows": null,
      "height": null,
      "justify_content": null,
      "justify_items": null,
      "left": null,
      "margin": null,
      "max_height": null,
      "max_width": null,
      "min_height": null,
      "min_width": null,
      "object_fit": null,
      "object_position": null,
      "order": null,
      "overflow": null,
      "overflow_x": null,
      "overflow_y": null,
      "padding": null,
      "right": null,
      "top": null,
      "visibility": null,
      "width": null
     }
    },
    "51bcff4164504f0c9b23bcad112de7b2": {
     "model_module": "@jupyter-widgets/controls",
     "model_name": "HBoxModel",
     "state": {
      "_dom_classes": [],
      "_model_module": "@jupyter-widgets/controls",
      "_model_module_version": "1.5.0",
      "_model_name": "HBoxModel",
      "_view_count": null,
      "_view_module": "@jupyter-widgets/controls",
      "_view_module_version": "1.5.0",
      "_view_name": "HBoxView",
      "box_style": "",
      "children": [
       "IPY_MODEL_b262bed6e56f4c669e0c4cdd490940be",
       "IPY_MODEL_20a287151eef40ed9f956ab869d5cb91"
      ],
      "layout": "IPY_MODEL_cb8e26f3d71c42cca22ce2dfa692d999"
     }
    },
    "6211585499434123b8acb49d04e4bb2d": {
     "model_module": "@jupyter-widgets/base",
     "model_name": "LayoutModel",
     "state": {
      "_model_module": "@jupyter-widgets/base",
      "_model_module_version": "1.2.0",
      "_model_name": "LayoutModel",
      "_view_count": null,
      "_view_module": "@jupyter-widgets/base",
      "_view_module_version": "1.2.0",
      "_view_name": "LayoutView",
      "align_content": null,
      "align_items": null,
      "align_self": null,
      "border": null,
      "bottom": null,
      "display": null,
      "flex": null,
      "flex_flow": null,
      "grid_area": null,
      "grid_auto_columns": null,
      "grid_auto_flow": null,
      "grid_auto_rows": null,
      "grid_column": null,
      "grid_gap": null,
      "grid_row": null,
      "grid_template_areas": null,
      "grid_template_columns": null,
      "grid_template_rows": null,
      "height": null,
      "justify_content": null,
      "justify_items": null,
      "left": null,
      "margin": null,
      "max_height": null,
      "max_width": null,
      "min_height": null,
      "min_width": null,
      "object_fit": null,
      "object_position": null,
      "order": null,
      "overflow": null,
      "overflow_x": null,
      "overflow_y": null,
      "padding": null,
      "right": null,
      "top": null,
      "visibility": null,
      "width": null
     }
    },
    "7112b105d506427cb8e30512f9428a2b": {
     "model_module": "@jupyter-widgets/controls",
     "model_name": "FloatProgressModel",
     "state": {
      "_dom_classes": [],
      "_model_module": "@jupyter-widgets/controls",
      "_model_module_version": "1.5.0",
      "_model_name": "FloatProgressModel",
      "_view_count": null,
      "_view_module": "@jupyter-widgets/controls",
      "_view_module_version": "1.5.0",
      "_view_name": "ProgressView",
      "bar_style": "danger",
      "description": " 74%",
      "description_tooltip": null,
      "layout": "IPY_MODEL_2b843e80fb8940e296e2d94f4179c682",
      "max": 85981,
      "min": 0,
      "orientation": "horizontal",
      "style": "IPY_MODEL_13707fc6662445cfab55ab69640f22ba",
      "value": 63284
     }
    },
    "7a8b8287e32144bebb7486348864a925": {
     "model_module": "@jupyter-widgets/base",
     "model_name": "LayoutModel",
     "state": {
      "_model_module": "@jupyter-widgets/base",
      "_model_module_version": "1.2.0",
      "_model_name": "LayoutModel",
      "_view_count": null,
      "_view_module": "@jupyter-widgets/base",
      "_view_module_version": "1.2.0",
      "_view_name": "LayoutView",
      "align_content": null,
      "align_items": null,
      "align_self": null,
      "border": null,
      "bottom": null,
      "display": null,
      "flex": null,
      "flex_flow": null,
      "grid_area": null,
      "grid_auto_columns": null,
      "grid_auto_flow": null,
      "grid_auto_rows": null,
      "grid_column": null,
      "grid_gap": null,
      "grid_row": null,
      "grid_template_areas": null,
      "grid_template_columns": null,
      "grid_template_rows": null,
      "height": null,
      "justify_content": null,
      "justify_items": null,
      "left": null,
      "margin": null,
      "max_height": null,
      "max_width": null,
      "min_height": null,
      "min_width": null,
      "object_fit": null,
      "object_position": null,
      "order": null,
      "overflow": null,
      "overflow_x": null,
      "overflow_y": null,
      "padding": null,
      "right": null,
      "top": null,
      "visibility": null,
      "width": null
     }
    },
    "7f66d95498a14f2182ef725ca588dc50": {
     "model_module": "@jupyter-widgets/controls",
     "model_name": "HBoxModel",
     "state": {
      "_dom_classes": [],
      "_model_module": "@jupyter-widgets/controls",
      "_model_module_version": "1.5.0",
      "_model_name": "HBoxModel",
      "_view_count": null,
      "_view_module": "@jupyter-widgets/controls",
      "_view_module_version": "1.5.0",
      "_view_name": "HBoxView",
      "box_style": "",
      "children": [
       "IPY_MODEL_91a05ea172664939a2b5fcb08bf5e8bb",
       "IPY_MODEL_cd1c3d7f9dc042d9ad024166c9f4d3da"
      ],
      "layout": "IPY_MODEL_0dbedf6850ff4cb1813711b5e7bf7342"
     }
    },
    "8327363c67cb47658333189850372cb4": {
     "model_module": "@jupyter-widgets/controls",
     "model_name": "DescriptionStyleModel",
     "state": {
      "_model_module": "@jupyter-widgets/controls",
      "_model_module_version": "1.5.0",
      "_model_name": "DescriptionStyleModel",
      "_view_count": null,
      "_view_module": "@jupyter-widgets/base",
      "_view_module_version": "1.2.0",
      "_view_name": "StyleView",
      "description_width": ""
     }
    },
    "91a05ea172664939a2b5fcb08bf5e8bb": {
     "model_module": "@jupyter-widgets/controls",
     "model_name": "FloatProgressModel",
     "state": {
      "_dom_classes": [],
      "_model_module": "@jupyter-widgets/controls",
      "_model_module_version": "1.5.0",
      "_model_name": "FloatProgressModel",
      "_view_count": null,
      "_view_module": "@jupyter-widgets/controls",
      "_view_module_version": "1.5.0",
      "_view_name": "ProgressView",
      "bar_style": "success",
      "description": "Dl Completed...: 100%",
      "description_tooltip": null,
      "layout": "IPY_MODEL_6211585499434123b8acb49d04e4bb2d",
      "max": 1,
      "min": 0,
      "orientation": "horizontal",
      "style": "IPY_MODEL_ac26b0014c944d1ca33745004691db5c",
      "value": 1
     }
    },
    "a4ccf1a585fc4e5fb811d3ffb693424e": {
     "model_module": "@jupyter-widgets/controls",
     "model_name": "HTMLModel",
     "state": {
      "_dom_classes": [],
      "_model_module": "@jupyter-widgets/controls",
      "_model_module_version": "1.5.0",
      "_model_name": "HTMLModel",
      "_view_count": null,
      "_view_module": "@jupyter-widgets/controls",
      "_view_module_version": "1.5.0",
      "_view_name": "HTMLView",
      "description": "",
      "description_tooltip": null,
      "layout": "IPY_MODEL_155311c14d394215989fe4bc33b4ea7a",
      "placeholder": "​",
      "style": "IPY_MODEL_8327363c67cb47658333189850372cb4",
      "value": " 16/16 [00:00&lt;00:00, 16.40 MiB/s]"
     }
    },
    "a92442d5b3504c918ee628c96862c06b": {
     "model_module": "@jupyter-widgets/controls",
     "model_name": "HTMLModel",
     "state": {
      "_dom_classes": [],
      "_model_module": "@jupyter-widgets/controls",
      "_model_module_version": "1.5.0",
      "_model_name": "HTMLModel",
      "_view_count": null,
      "_view_module": "@jupyter-widgets/controls",
      "_view_module_version": "1.5.0",
      "_view_name": "HTMLView",
      "description": "",
      "description_tooltip": null,
      "layout": "IPY_MODEL_4e74aa21d37747c4ae8ad35def238b9f",
      "placeholder": "​",
      "style": "IPY_MODEL_3ad5b94d8d3c40f4ab3348e0389de0b9",
      "value": " 63284/85981 [00:00&lt;21:22, 17.69 examples/s]"
     }
    },
    "ab16e4a80603451fad435d24c94164fa": {
     "model_module": "@jupyter-widgets/controls",
     "model_name": "HBoxModel",
     "state": {
      "_dom_classes": [],
      "_model_module": "@jupyter-widgets/controls",
      "_model_module_version": "1.5.0",
      "_model_name": "HBoxModel",
      "_view_count": null,
      "_view_module": "@jupyter-widgets/controls",
      "_view_module_version": "1.5.0",
      "_view_name": "HBoxView",
      "box_style": "",
      "children": [
       "IPY_MODEL_bfda460a242a4be58e928ea6c0b0ae47",
       "IPY_MODEL_ca0c464043214d2da7b19d4c1bf99ee4"
      ],
      "layout": "IPY_MODEL_44b1fb7033c14968aed14973884c9b1b"
     }
    },
    "ac26b0014c944d1ca33745004691db5c": {
     "model_module": "@jupyter-widgets/controls",
     "model_name": "ProgressStyleModel",
     "state": {
      "_model_module": "@jupyter-widgets/controls",
      "_model_module_version": "1.5.0",
      "_model_name": "ProgressStyleModel",
      "_view_count": null,
      "_view_module": "@jupyter-widgets/base",
      "_view_module_version": "1.2.0",
      "_view_name": "StyleView",
      "bar_color": null,
      "description_width": "initial"
     }
    },
    "b262bed6e56f4c669e0c4cdd490940be": {
     "model_module": "@jupyter-widgets/controls",
     "model_name": "FloatProgressModel",
     "state": {
      "_dom_classes": [],
      "_model_module": "@jupyter-widgets/controls",
      "_model_module_version": "1.5.0",
      "_model_name": "FloatProgressModel",
      "_view_count": null,
      "_view_module": "@jupyter-widgets/controls",
      "_view_module_version": "1.5.0",
      "_view_name": "ProgressView",
      "bar_style": "info",
      "description": "",
      "description_tooltip": null,
      "layout": "IPY_MODEL_fe613d6fc90248a186d15443b6a0bc71",
      "max": 1,
      "min": 0,
      "orientation": "horizontal",
      "style": "IPY_MODEL_de90615665c9489dac872444387dc6c8",
      "value": 1
     }
    },
    "bd409435aefa462ab910e3a3e18ce14e": {
     "model_module": "@jupyter-widgets/base",
     "model_name": "LayoutModel",
     "state": {
      "_model_module": "@jupyter-widgets/base",
      "_model_module_version": "1.2.0",
      "_model_name": "LayoutModel",
      "_view_count": null,
      "_view_module": "@jupyter-widgets/base",
      "_view_module_version": "1.2.0",
      "_view_name": "LayoutView",
      "align_content": null,
      "align_items": null,
      "align_self": null,
      "border": null,
      "bottom": null,
      "display": null,
      "flex": null,
      "flex_flow": null,
      "grid_area": null,
      "grid_auto_columns": null,
      "grid_auto_flow": null,
      "grid_auto_rows": null,
      "grid_column": null,
      "grid_gap": null,
      "grid_row": null,
      "grid_template_areas": null,
      "grid_template_columns": null,
      "grid_template_rows": null,
      "height": null,
      "justify_content": null,
      "justify_items": null,
      "left": null,
      "margin": null,
      "max_height": null,
      "max_width": null,
      "min_height": null,
      "min_width": null,
      "object_fit": null,
      "object_position": null,
      "order": null,
      "overflow": null,
      "overflow_x": null,
      "overflow_y": null,
      "padding": null,
      "right": null,
      "top": null,
      "visibility": null,
      "width": null
     }
    },
    "bfda460a242a4be58e928ea6c0b0ae47": {
     "model_module": "@jupyter-widgets/controls",
     "model_name": "FloatProgressModel",
     "state": {
      "_dom_classes": [],
      "_model_module": "@jupyter-widgets/controls",
      "_model_module_version": "1.5.0",
      "_model_name": "FloatProgressModel",
      "_view_count": null,
      "_view_module": "@jupyter-widgets/controls",
      "_view_module_version": "1.5.0",
      "_view_name": "ProgressView",
      "bar_style": "success",
      "description": "Extraction completed...: 100%",
      "description_tooltip": null,
      "layout": "IPY_MODEL_7a8b8287e32144bebb7486348864a925",
      "max": 1,
      "min": 0,
      "orientation": "horizontal",
      "style": "IPY_MODEL_dda28ac4b57e4b19830ac347670650c2",
      "value": 1
     }
    },
    "bffb58446fdd47cfa7c46d15264a731a": {
     "model_module": "@jupyter-widgets/controls",
     "model_name": "HBoxModel",
     "state": {
      "_dom_classes": [],
      "_model_module": "@jupyter-widgets/controls",
      "_model_module_version": "1.5.0",
      "_model_name": "HBoxModel",
      "_view_count": null,
      "_view_module": "@jupyter-widgets/controls",
      "_view_module_version": "1.5.0",
      "_view_name": "HBoxView",
      "box_style": "",
      "children": [
       "IPY_MODEL_7112b105d506427cb8e30512f9428a2b",
       "IPY_MODEL_a92442d5b3504c918ee628c96862c06b"
      ],
      "layout": "IPY_MODEL_18e4ec584e384c6b85a9ba9dd353f1fb"
     }
    },
    "ca0c464043214d2da7b19d4c1bf99ee4": {
     "model_module": "@jupyter-widgets/controls",
     "model_name": "HTMLModel",
     "state": {
      "_dom_classes": [],
      "_model_module": "@jupyter-widgets/controls",
      "_model_module_version": "1.5.0",
      "_model_name": "HTMLModel",
      "_view_count": null,
      "_view_module": "@jupyter-widgets/controls",
      "_view_module_version": "1.5.0",
      "_view_name": "HTMLView",
      "description": "",
      "description_tooltip": null,
      "layout": "IPY_MODEL_27742f763415480a8ee7c644a42d3977",
      "placeholder": "​",
      "style": "IPY_MODEL_03e9b7a011da4129945c4520c3bbd649",
      "value": " 1/1 [00:00&lt;00:00,  1.09 file/s]"
     }
    },
    "cb8e26f3d71c42cca22ce2dfa692d999": {
     "model_module": "@jupyter-widgets/base",
     "model_name": "LayoutModel",
     "state": {
      "_model_module": "@jupyter-widgets/base",
      "_model_module_version": "1.2.0",
      "_model_name": "LayoutModel",
      "_view_count": null,
      "_view_module": "@jupyter-widgets/base",
      "_view_module_version": "1.2.0",
      "_view_name": "LayoutView",
      "align_content": null,
      "align_items": null,
      "align_self": null,
      "border": null,
      "bottom": null,
      "display": null,
      "flex": null,
      "flex_flow": null,
      "grid_area": null,
      "grid_auto_columns": null,
      "grid_auto_flow": null,
      "grid_auto_rows": null,
      "grid_column": null,
      "grid_gap": null,
      "grid_row": null,
      "grid_template_areas": null,
      "grid_template_columns": null,
      "grid_template_rows": null,
      "height": null,
      "justify_content": null,
      "justify_items": null,
      "left": null,
      "margin": null,
      "max_height": null,
      "max_width": null,
      "min_height": null,
      "min_width": null,
      "object_fit": null,
      "object_position": null,
      "order": null,
      "overflow": null,
      "overflow_x": null,
      "overflow_y": null,
      "padding": null,
      "right": null,
      "top": null,
      "visibility": null,
      "width": null
     }
    },
    "cd1c3d7f9dc042d9ad024166c9f4d3da": {
     "model_module": "@jupyter-widgets/controls",
     "model_name": "HTMLModel",
     "state": {
      "_dom_classes": [],
      "_model_module": "@jupyter-widgets/controls",
      "_model_module_version": "1.5.0",
      "_model_name": "HTMLModel",
      "_view_count": null,
      "_view_module": "@jupyter-widgets/controls",
      "_view_module_version": "1.5.0",
      "_view_name": "HTMLView",
      "description": "",
      "description_tooltip": null,
      "layout": "IPY_MODEL_e3a490fe63254b52a7a6b43c924f7bf6",
      "placeholder": "​",
      "style": "IPY_MODEL_e3d2db9e54a84d28b2e46597bac0c658",
      "value": " 1/1 [00:01&lt;00:00,  1.02s/ url]"
     }
    },
    "dda28ac4b57e4b19830ac347670650c2": {
     "model_module": "@jupyter-widgets/controls",
     "model_name": "ProgressStyleModel",
     "state": {
      "_model_module": "@jupyter-widgets/controls",
      "_model_module_version": "1.5.0",
      "_model_name": "ProgressStyleModel",
      "_view_count": null,
      "_view_module": "@jupyter-widgets/base",
      "_view_module_version": "1.2.0",
      "_view_name": "StyleView",
      "bar_color": null,
      "description_width": "initial"
     }
    },
    "de90615665c9489dac872444387dc6c8": {
     "model_module": "@jupyter-widgets/controls",
     "model_name": "ProgressStyleModel",
     "state": {
      "_model_module": "@jupyter-widgets/controls",
      "_model_module_version": "1.5.0",
      "_model_name": "ProgressStyleModel",
      "_view_count": null,
      "_view_module": "@jupyter-widgets/base",
      "_view_module_version": "1.2.0",
      "_view_name": "StyleView",
      "bar_color": null,
      "description_width": "initial"
     }
    },
    "e3a490fe63254b52a7a6b43c924f7bf6": {
     "model_module": "@jupyter-widgets/base",
     "model_name": "LayoutModel",
     "state": {
      "_model_module": "@jupyter-widgets/base",
      "_model_module_version": "1.2.0",
      "_model_name": "LayoutModel",
      "_view_count": null,
      "_view_module": "@jupyter-widgets/base",
      "_view_module_version": "1.2.0",
      "_view_name": "LayoutView",
      "align_content": null,
      "align_items": null,
      "align_self": null,
      "border": null,
      "bottom": null,
      "display": null,
      "flex": null,
      "flex_flow": null,
      "grid_area": null,
      "grid_auto_columns": null,
      "grid_auto_flow": null,
      "grid_auto_rows": null,
      "grid_column": null,
      "grid_gap": null,
      "grid_row": null,
      "grid_template_areas": null,
      "grid_template_columns": null,
      "grid_template_rows": null,
      "height": null,
      "justify_content": null,
      "justify_items": null,
      "left": null,
      "margin": null,
      "max_height": null,
      "max_width": null,
      "min_height": null,
      "min_width": null,
      "object_fit": null,
      "object_position": null,
      "order": null,
      "overflow": null,
      "overflow_x": null,
      "overflow_y": null,
      "padding": null,
      "right": null,
      "top": null,
      "visibility": null,
      "width": null
     }
    },
    "e3d2db9e54a84d28b2e46597bac0c658": {
     "model_module": "@jupyter-widgets/controls",
     "model_name": "DescriptionStyleModel",
     "state": {
      "_model_module": "@jupyter-widgets/controls",
      "_model_module_version": "1.5.0",
      "_model_name": "DescriptionStyleModel",
      "_view_count": null,
      "_view_module": "@jupyter-widgets/base",
      "_view_module_version": "1.2.0",
      "_view_name": "StyleView",
      "description_width": ""
     }
    },
    "f598530645b44b98bb7906c3598b30f8": {
     "model_module": "@jupyter-widgets/base",
     "model_name": "LayoutModel",
     "state": {
      "_model_module": "@jupyter-widgets/base",
      "_model_module_version": "1.2.0",
      "_model_name": "LayoutModel",
      "_view_count": null,
      "_view_module": "@jupyter-widgets/base",
      "_view_module_version": "1.2.0",
      "_view_name": "LayoutView",
      "align_content": null,
      "align_items": null,
      "align_self": null,
      "border": null,
      "bottom": null,
      "display": null,
      "flex": null,
      "flex_flow": null,
      "grid_area": null,
      "grid_auto_columns": null,
      "grid_auto_flow": null,
      "grid_auto_rows": null,
      "grid_column": null,
      "grid_gap": null,
      "grid_row": null,
      "grid_template_areas": null,
      "grid_template_columns": null,
      "grid_template_rows": null,
      "height": null,
      "justify_content": null,
      "justify_items": null,
      "left": null,
      "margin": null,
      "max_height": null,
      "max_width": null,
      "min_height": null,
      "min_width": null,
      "object_fit": null,
      "object_position": null,
      "order": null,
      "overflow": null,
      "overflow_x": null,
      "overflow_y": null,
      "padding": null,
      "right": null,
      "top": null,
      "visibility": null,
      "width": null
     }
    },
    "fd3d01687be14b8e9a25346091cf7c65": {
     "model_module": "@jupyter-widgets/controls",
     "model_name": "ProgressStyleModel",
     "state": {
      "_model_module": "@jupyter-widgets/controls",
      "_model_module_version": "1.5.0",
      "_model_name": "ProgressStyleModel",
      "_view_count": null,
      "_view_module": "@jupyter-widgets/base",
      "_view_module_version": "1.2.0",
      "_view_name": "StyleView",
      "bar_color": null,
      "description_width": "initial"
     }
    },
    "fe613d6fc90248a186d15443b6a0bc71": {
     "model_module": "@jupyter-widgets/base",
     "model_name": "LayoutModel",
     "state": {
      "_model_module": "@jupyter-widgets/base",
      "_model_module_version": "1.2.0",
      "_model_name": "LayoutModel",
      "_view_count": null,
      "_view_module": "@jupyter-widgets/base",
      "_view_module_version": "1.2.0",
      "_view_name": "LayoutView",
      "align_content": null,
      "align_items": null,
      "align_self": null,
      "border": null,
      "bottom": null,
      "display": null,
      "flex": null,
      "flex_flow": null,
      "grid_area": null,
      "grid_auto_columns": null,
      "grid_auto_flow": null,
      "grid_auto_rows": null,
      "grid_column": null,
      "grid_gap": null,
      "grid_row": null,
      "grid_template_areas": null,
      "grid_template_columns": null,
      "grid_template_rows": null,
      "height": null,
      "justify_content": null,
      "justify_items": null,
      "left": null,
      "margin": null,
      "max_height": null,
      "max_width": null,
      "min_height": null,
      "min_width": null,
      "object_fit": null,
      "object_position": null,
      "order": null,
      "overflow": null,
      "overflow_x": null,
      "overflow_y": null,
      "padding": null,
      "right": null,
      "top": null,
      "visibility": null,
      "width": null
     }
    }
   }
  }
 },
 "nbformat": 4,
 "nbformat_minor": 1
}
