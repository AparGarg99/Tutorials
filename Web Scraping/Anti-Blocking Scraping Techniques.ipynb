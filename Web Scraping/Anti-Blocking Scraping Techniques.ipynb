{
 "cells": [
  {
   "cell_type": "markdown",
   "id": "e4670386",
   "metadata": {},
   "source": [
    "# Import Dependencies"
   ]
  },
  {
   "cell_type": "code",
   "execution_count": null,
   "id": "18517111",
   "metadata": {},
   "outputs": [],
   "source": [
    "from selenium import webdriver\n",
    "from selenium.webdriver.common.proxy import Proxy, ProxyType\n",
    "from webdriver_manager.chrome import ChromeDriverManager\n",
    "import undetected_chromedriver as uc\n",
    "from fake_useragent import UserAgent\n",
    "import time\n",
    "import random"
   ]
  },
  {
   "cell_type": "markdown",
   "id": "ed52992a",
   "metadata": {},
   "source": [
    "# Anti-Blocking Techniques"
   ]
  },
  {
   "cell_type": "markdown",
   "id": "780a9f28",
   "metadata": {},
   "source": [
    "### 1. Random time delay\n",
    "\n",
    "* **Problem:** Most web scraping bots aim to fetch data as quickly as possible, however, this can easily get you exposed as a scraping bot as there’s no way a real human can surf the web so fast. Websites can track your access speed easily and once the system finds you are going through the pages too fast, it will suspect that you are not a human and block you by default.\n",
    "\n",
    "* **Solution:** We can set random time intervals between requests."
   ]
  },
  {
   "cell_type": "code",
   "execution_count": null,
   "id": "7ed9b7db",
   "metadata": {},
   "outputs": [],
   "source": [
    "def random_time_delay():\n",
    "    time.sleep(random.uniform(60,120))"
   ]
  },
  {
   "cell_type": "code",
   "execution_count": null,
   "id": "4028aba5",
   "metadata": {},
   "outputs": [],
   "source": [
    "chrome_options = uc.ChromeOptions()\n",
    "chrome_options.add_argument(\"--window-size=1920,1080\")\n",
    "chrome_options.add_argument(\"--disable-extensions\")\n",
    "chrome_options.add_argument('--disable-notifications')\n",
    "chrome_options.add_argument(\"--mute-audio\")\n",
    "chrome_options.add_argument(\"--start-maximized\")\n",
    "chrome_options.add_argument('--disable-gpu')\n",
    "chrome_options.add_argument('--disable-dev-shm-usage')\n",
    "chrome_options.add_argument('--no-sandbox')\n",
    "chrome_options.add_argument('--ignore-certificate-errors')\n",
    "# chrome_options.add_argument(\"--headless\") # makes code more lightweight, less resource intensive. doesn't show browser\n",
    "\n",
    "driver = uc.Chrome(executable_path=ChromeDriverManager().install(), \n",
    "                    options=chrome_options)\n",
    "\n",
    "for i in range(10):\n",
    "    driver.get('https://www.google.co.in/')\n",
    "    random_time_delay()\n",
    "    \n",
    "driver.quit()"
   ]
  },
  {
   "cell_type": "markdown",
   "id": "55d0e753",
   "metadata": {},
   "source": [
    "### 2. Clear cache & cookies\n",
    "* **Problem:** A cookie is like a small document containing helpful information about you and your preferences. For instance, you are an English native speaker. You open a website and change the prefereed language to English. Cookie will help the website remember your preferred language is English and every time you open the website, it will automatically switch the preferred language to English. If you are scraping a website constantly with the same cookie, it is easy to be detected as a scraping bot activity.\n",
    "* **Solution:** Clear cookies from time to time."
   ]
  },
  {
   "cell_type": "markdown",
   "id": "a420d928",
   "metadata": {},
   "source": [
    "**Difference between Cache and Cookies?**\n",
    "\n",
    "Cache refers to the temporary storage of web content and files on your computer or device. When you visit a website, your browser stores files, images, and other resources in a local cache so that the website can load faster the next time you visit. This can include CSS files, JavaScript, images, and more. The cache is stored locally on your device and can be cleared to free up space and improve performance.\n",
    "\n",
    "Cookies, on the other hand, are small text files that websites store on your device to remember your preferences and settings. Cookies can store information like your login credentials, shopping cart items, and browsing history. Cookies are used to improve the user experience by allowing websites to personalize content and remember your preferences, but they can also be used to track your online activity and target you with ads.\n",
    "\n",
    "In summary, cache is used to store website content and files locally on your device to improve website performance, while cookies are used to store user preferences and settings to improve the user experience."
   ]
  },
  {
   "cell_type": "markdown",
   "id": "d8045b93",
   "metadata": {},
   "source": [
    "**Settings that track user activity**\n",
    "\n",
    "The settings that could potentially be used to track your activity are:\n",
    "\n",
    "* Cookies: Cookies are often used to track user activity on websites.\n",
    "* Images: Some images may contain tracking information, such as pixel tags or web beacons.\n",
    "* JavaScript: JavaScript can be used to track user behavior, such as mouse movements and clicks.\n",
    "* Plugins: Some plugins may be used to track user activity.\n",
    "* Popups: Popups can be used to show ads or collect user data.\n",
    "* Geolocation: Geolocation data can be used to track user location and activity.\n",
    "* Notifications: Notifications can be used to send targeted ads or collect user data.\n",
    "* Auto_select_certificate: This setting is related to SSL certificates and is unlikely to be used for tracking.\n",
    "* Fullscreen: Fullscreen mode can be used to hide user activity from view.\n",
    "* Mouselock: Mouselock can be used to capture mouse movements and clicks.\n",
    "* Mixed_script: Mixed script warnings can be used to track user activity.\n",
    "* Media_stream: Media stream permissions can be used to capture audio and video data.\n",
    "* Media_stream_mic: Media stream permissions can be used to capture audio data.\n",
    "* Media_stream_camera: Media stream permissions can be used to capture video data.\n",
    "* Protocol_handlers: Protocol handlers can be used to track user activity.\n",
    "* Ppapi_broker: This setting is related to Chrome's Pepper plugin API and is unlikely to be used for tracking.\n",
    "* Automatic_downloads: Automatic downloads can be used to download files containing tracking information.\n",
    "* Midi_sysex: Midi Sysex permissions can be used to capture midi data.\n",
    "* Push_messaging: Push messaging can be used to send targeted ads or collect user data.\n",
    "* Ssl_cert_decisions: SSL certificate decisions can be used to track user activity.\n",
    "* Metro_switch_to_desktop: This setting is related to Windows 8 and is unlikely to be used for tracking.\n",
    "* Protected_media_identifier: This setting is related to DRM and is unlikely to be used for tracking.\n",
    "* App_banner: App banners can be used to show ads or collect user data.\n",
    "* Site_engagement: Site engagement data can be used to track user activity.\n",
    "* Durable_storage: Durable storage permissions can be used to store tracking information on a user's device.\n",
    "\n",
    "However, there may be other settings that could potentially be used to track your activity, such as those related to device recognition, font and language preferences, or other advanced browser settings. It's important to keep in mind that no profile configuration can completely eliminate all forms of tracking, but rather can help to minimize them."
   ]
  },
  {
   "cell_type": "code",
   "execution_count": null,
   "id": "850c3534",
   "metadata": {},
   "outputs": [],
   "source": [
    "chrome_options = uc.ChromeOptions()\n",
    "chrome_options.add_argument(\"--window-size=1920,1080\")\n",
    "chrome_options.add_argument(\"--disable-extensions\")\n",
    "chrome_options.add_argument('--disable-notifications')\n",
    "chrome_options.add_argument(\"--mute-audio\")\n",
    "chrome_options.add_argument(\"--start-maximized\")\n",
    "chrome_options.add_argument('--disable-gpu')\n",
    "chrome_options.add_argument('--disable-dev-shm-usage')\n",
    "chrome_options.add_argument('--no-sandbox')\n",
    "chrome_options.add_argument('--ignore-certificate-errors')\n",
    "# chrome_options.add_argument(\"--headless\") # makes code more lightweight, less resource intensive. doesn't show browser\n",
    "\n",
    "######### Method 1 - Using Disable #############\n",
    "# Disable cookies (disables pretty much everything that tracks your activity) (\"2\" = blocked)\n",
    "profile = {'profile.default_content_setting_values': {'cookies': 2, 'images': 2, 'javascript': 2, \n",
    "                                                      'plugins': 2, 'popups': 2, 'geolocation': 2, \n",
    "                                                      'notifications': 2, 'auto_select_certificate': 2,\n",
    "                                                      'fullscreen': 2, 'mouselock': 2, 'mixed_script': 2,\n",
    "                                                      'media_stream': 2, 'media_stream_mic': 2,\n",
    "                                                      'media_stream_camera': 2, 'protocol_handlers': 2,\n",
    "                                                      'ppapi_broker': 2, 'automatic_downloads': 2,\n",
    "                                                      'midi_sysex': 2, 'push_messaging': 2,\n",
    "                                                      'ssl_cert_decisions': 2, 'metro_switch_to_desktop': 2,\n",
    "                                                      'protected_media_identifier': 2, 'app_banner': 2,\n",
    "                                                      'site_engagement': 2, 'durable_storage': 2}}\n",
    "chrome_options.add_experimental_option('prefs', profile)\n",
    "\n",
    "# Disable cache\n",
    "chrome_options.add_argument('--disable-application-cache')\n",
    "chrome_options.add_argument('--disable-cache')\n",
    "chrome_options.add_argument('--disable-offline-load-stale-cache')\n",
    "chrome_options.add_argument('--disk-cache-size=0')\n",
    "chrome_options.add_argument('--media-cache-size=0')\n",
    "\n",
    "driver = uc.Chrome(executable_path=ChromeDriverManager().install(), \n",
    "                    options=chrome_options)\n",
    "\n",
    "for i in range(10):\n",
    "    driver.get('https://www.google.co.in/')\n",
    "\n",
    "driver.quit()\n",
    "\n",
    "\n",
    "######### Method 2 - Using Delete #############\n",
    "driver = uc.Chrome(executable_path=ChromeDriverManager().install(), \n",
    "                    options=chrome_options)\n",
    "\n",
    "for i in range(10):\n",
    "    driver.get('https://www.google.co.in/')\n",
    "\n",
    "    # Delete the cookies\n",
    "    driver.delete_all_cookies()\n",
    "\n",
    "    # Delete the cache\n",
    "    driver.execute_script(\"window.localStorage.clear();\")\n",
    "    driver.execute_script(\"window.sessionStorage.clear();\")\n",
    "\n",
    "    # Refresh the page to apply the changes\n",
    "    driver.refresh()\n",
    "    \n",
    "driver.quit()"
   ]
  },
  {
   "cell_type": "markdown",
   "id": "271a4014",
   "metadata": {},
   "source": [
    "### 3. Proxy server\n",
    "\n",
    "* **Problem:** When a site detects there are a number of requests coming from a single IP address, the IP address can be easily blocked.\n",
    "* **Solution:** To avoid sending all of your requests through the same IP address, you can use proxy servers."
   ]
  },
  {
   "cell_type": "markdown",
   "id": "083ab0c1",
   "metadata": {},
   "source": [
    "**What are proxy servers?**\n",
    "\n",
    "Here's a breakdown of the interaction b/w user, proxy server, and website:\n",
    "\n",
    "1. The user sends an HTTP request to the proxy server.\n",
    "2. The proxy server forwards the request to the website.\n",
    "3. The website responds with an HTTP response.\n",
    "3. The proxy server receives the response and forwards it back to the user.\n",
    "\n",
    "In this way, the proxy server acts as an intermediary between the user and the website, handling requests and responses on behalf of the user."
   ]
  },
  {
   "cell_type": "markdown",
   "id": "50e67731",
   "metadata": {},
   "source": [
    "**Benefits of using proxy servers:**\n",
    "* **Privacy and Security:** Proxy servers can help to protect user privacy and security by hiding their IP address and encrypting their internet traffic. This can prevent unauthorized access to user data and help to keep personal information secure.\n",
    "\n",
    "* **Content Filtering:** Proxy servers can be used to filter content and block access to websites or resources that are deemed inappropriate or dangerous. This is particularly useful in corporate or educational environments where access to certain types of content may be restricted.\n",
    "\n",
    "* **Network Performance:** Proxy servers can help to improve network performance by caching frequently accessed content and reducing bandwidth usage. This can speed up web browsing and reduce data costs for users."
   ]
  },
  {
   "cell_type": "markdown",
   "id": "3d87d6df",
   "metadata": {},
   "source": [
    "**Authentication to access proxy server**\n",
    "- When you connect to a proxy server, the server may require you to provide a username and password to verify your identity and ensure that you are authorized to use the proxy. This is especially important for proxies that are used in corporate or organizational environments, where access to the internet may be restricted or monitored for security reasons.\n",
    "\n",
    "- Without the correct username and password, you may not be able to connect to the proxy server or access the internet through the proxy. In some cases, the proxy server may also limit the features or capabilities that are available to users who are not authenticated, or may impose restrictions on the websites or applications that can be accessed through the proxy.\n",
    "\n",
    "- Therefore, if your proxy server requires authentication, you will need to provide the correct username and password in order to use the proxy and access the internet."
   ]
  },
  {
   "cell_type": "code",
   "execution_count": null,
   "id": "01917e62",
   "metadata": {},
   "outputs": [],
   "source": [
    "chrome_options = uc.ChromeOptions()\n",
    "chrome_options.add_argument(\"--window-size=1920,1080\")\n",
    "chrome_options.add_argument(\"--disable-extensions\")\n",
    "chrome_options.add_argument('--disable-notifications')\n",
    "chrome_options.add_argument(\"--mute-audio\")\n",
    "chrome_options.add_argument(\"--start-maximized\")\n",
    "chrome_options.add_argument('--disable-gpu')\n",
    "chrome_options.add_argument('--disable-dev-shm-usage')\n",
    "chrome_options.add_argument('--no-sandbox')\n",
    "chrome_options.add_argument('--ignore-certificate-errors')\n",
    "\n",
    "PROXY_HOST = 'your_proxy_host'\n",
    "PROXY_PORT = 'your_proxy_port'\n",
    "USERNAME = 'your_username' # if authentication is needed\n",
    "PASSWORD = 'your_password' # if authentication is needed\n",
    "\n",
    "######### Method 1 #############\n",
    "\n",
    "if USERNAME and PASSWORD: # if authentication is needed\n",
    "    chrome_options.add_argument('--proxy-server=http://{}:{}@{}:{}'.format(USERNAME, PASSWORD, PROXY_HOST, PROXY_PORT))\n",
    "\n",
    "else:\n",
    "    chrome_options.add_argument('--proxy-server=http://{}:{}'.format(PROXY_HOST, PROXY_PORT))\n",
    "\n",
    "driver = uc.Chrome(executable_path=ChromeDriverManager().install(), \n",
    "                    options=chrome_options)\n",
    "\n",
    "driver.get('https://www.google.co.in/')\n",
    "\n",
    "driver.quit()\n",
    "\n",
    "######### Method 2 #############\n",
    "# Note that this method is a bit more verbose compared to the previous methods, \n",
    "# but it provides more flexibility and control over the proxy settings.\n",
    "\n",
    "proxy = Proxy({\n",
    "    'proxyType': ProxyType.MANUAL,\n",
    "    'httpProxy': '{}:{}'.format(PROXY_HOST, PROXY_PORT),\n",
    "    'ftpProxy': '{}:{}'.format(PROXY_HOST, PROXY_PORT),\n",
    "    'sslProxy': '{}:{}'.format(PROXY_HOST, PROXY_PORT),\n",
    "    'noProxy': '' # set this to avoid any urls from being proxied\n",
    "})\n",
    "\n",
    "if USERNAME and PASSWORD: # if authentication is needed\n",
    "    proxy.proxy_username = USERNAME\n",
    "    proxy.proxy_password = PASSWORD\n",
    "\n",
    "chrome_options.add_argument('--proxy-server={}'.format(proxy.proxy))\n",
    "\n",
    "driver = uc.Chrome(executable_path=ChromeDriverManager().install(), \n",
    "                    options=chrome_options)\n",
    "\n",
    "driver.get('https://www.google.co.in/')\n",
    "\n",
    "driver.quit()"
   ]
  },
  {
   "cell_type": "markdown",
   "id": "fbb40ac0",
   "metadata": {},
   "source": [
    "### 4. User agent"
   ]
  },
  {
   "cell_type": "markdown",
   "id": "8ac2bf20",
   "metadata": {},
   "source": [
    "* **Problem:** Headers are small pieces of information that go with every HTTP request that hits the servers. One of those pieces of information precisely describes the client making the request, the infamous \"User-Agent\" header. When a software sends a request, it often identifies itself, its application type, operating system, software vendor, or software version, by submitting a characteristic identification string. This string is referred to as a “user agent string”. You can think of it as an ID card containing some basic information. All browsers, as well as some popular crawlers and bots, such as ‘google bot’, have a unique ‘user agent string’ that they identify themselves with. A lot of companies set up their servers in a way that allows them to identify the browser a client is using. If we do not send request with a legitimate user agent, our request may get blocked. \n",
    "* **Solution:** Fortunately, all browsers’ user agent strings are available publicly on the internet. Thus, we can easily pretend to be a browser. For instance, suppose we want to make a GET request to a website, pretending to be a client using Chrome. First, we need to find the User-Agent string of Chrome. A quick Google search should yield us a string like: \"Mozilla/5.0 (Windows NT 10.0; Win64; x64) AppleWebKit/537.36 (KHTML, like Gecko) Chrome/74.0.3729.169 Safari/537.36\"."
   ]
  },
  {
   "cell_type": "code",
   "execution_count": null,
   "id": "89320266",
   "metadata": {},
   "outputs": [],
   "source": [
    "ua = UserAgent()\n",
    "chrome_options = uc.ChromeOptions()\n",
    "chrome_options.add_argument(\"--window-size=1920,1080\")\n",
    "chrome_options.add_argument(\"--disable-extensions\")\n",
    "chrome_options.add_argument('--disable-notifications')\n",
    "chrome_options.add_argument(\"--mute-audio\")\n",
    "chrome_options.add_argument(\"--start-maximized\")\n",
    "chrome_options.add_argument('--disable-gpu')\n",
    "chrome_options.add_argument('--disable-dev-shm-usage')\n",
    "chrome_options.add_argument('--no-sandbox')\n",
    "chrome_options.add_argument('--ignore-certificate-errors')\n",
    "chrome_options.add_argument(f\"user-agent={ua['google chrome']}\")\n",
    "\n",
    "driver = uc.Chrome(executable_path=ChromeDriverManager().install(), \n",
    "                    options=chrome_options)\n",
    "\n",
    "driver.get('https://www.google.co.in/')\n",
    "\n",
    "driver.quit()"
   ]
  },
  {
   "cell_type": "markdown",
   "id": "0b5452ff",
   "metadata": {},
   "source": [
    "# Final function to use"
   ]
  },
  {
   "cell_type": "code",
   "execution_count": null,
   "id": "7e6022bb",
   "metadata": {},
   "outputs": [],
   "source": [
    "def create_driver():\n",
    "    # Create a ChromeOptions object to store the desired browser settings\n",
    "    chrome_options = uc.ChromeOptions()\n",
    "    ua = UserAgent()\n",
    "    \n",
    "    # Disable cookies (disables pretty much everything that tracks your activity) (\"2\" = blocked)\n",
    "    profile = {'profile.default_content_setting_values': {'cookies': 2, 'images': 2, 'javascript': 2, \n",
    "                                                          'plugins': 2, 'popups': 2, 'geolocation': 2, \n",
    "                                                          'notifications': 2, 'auto_select_certificate': 2,\n",
    "                                                          'fullscreen': 2, 'mouselock': 2, 'mixed_script': 2,\n",
    "                                                          'media_stream': 2, 'media_stream_mic': 2,\n",
    "                                                          'media_stream_camera': 2, 'protocol_handlers': 2,\n",
    "                                                          'ppapi_broker': 2, 'automatic_downloads': 2,\n",
    "                                                          'midi_sysex': 2, 'push_messaging': 2,\n",
    "                                                          'ssl_cert_decisions': 2, 'metro_switch_to_desktop': 2,\n",
    "                                                          'protected_media_identifier': 2, 'app_banner': 2,\n",
    "                                                          'site_engagement': 2, 'durable_storage': 2}}\n",
    "    chrome_options.add_experimental_option('prefs', profile)\n",
    "\n",
    "    # Disable cache\n",
    "    chrome_options.add_argument('--disable-application-cache')\n",
    "    chrome_options.add_argument('--disable-cache')\n",
    "    chrome_options.add_argument('--disable-offline-load-stale-cache')\n",
    "    chrome_options.add_argument('--disk-cache-size=0')\n",
    "    chrome_options.add_argument('--media-cache-size=0')\n",
    "    \n",
    "    # Most commonly used options\n",
    "    chrome_options.add_argument(\"--disable-extensions\")  # Disable Chrome extensions\n",
    "    chrome_options.add_argument(\"--disable-notifications\")  # Disable Chrome notifications\n",
    "    chrome_options.add_argument(\"--disable-popup-blocking\")  # Disable Chrome's popup blocker\n",
    "    chrome_options.add_argument(\"--disable-gpu\")  # Disable the use of the GPU in Chrome\n",
    "    chrome_options.add_argument(\"--disable-infobars\")  # Disable the \"Chrome is being controlled by automated test software\" infobar\n",
    "    chrome_options.add_argument(\"--start-maximized\")  # Start Chrome in maximized mode\n",
    "    chrome_options.add_argument(\"--incognito\")  # Start Chrome in incognito mode\n",
    "    chrome_options.add_argument(f\"--user-agent={ua['google chrome']}\")  # Set the user agent string to be used by Chrome\n",
    "    chrome_options.add_argument(\"--disable-web-security\")  # Disable web security in Chrome\n",
    "    chrome_options.add_argument(\"--allow-running-insecure-content\")  # Allow the loading of insecure content\n",
    "    chrome_options.add_argument(\"--disable-geolocation\")  # Disable geolocation in Chrome\n",
    "    chrome_options.add_argument(\"--ignore-certificate-errors\")  # Ignore certificate errors\n",
    "    chrome_options.add_argument(\"--disable-dev-shm-usage\")  # Disable the use of /dev/shm to store temporary data\n",
    "    #chrome_options.add_argument(\"--headless\")  # Run Chrome in headless mode (without a visible browser window)\n",
    "    \n",
    "    # Create the Chrome webdriver using the specified options\n",
    "    driver = uc.Chrome(executable_path=ChromeDriverManager().install(), \n",
    "                    options=chrome_options)\n",
    "    \n",
    "    return driver"
   ]
  },
  {
   "cell_type": "markdown",
   "id": "4acd7059",
   "metadata": {},
   "source": [
    "# References"
   ]
  },
  {
   "cell_type": "markdown",
   "id": "683b2749",
   "metadata": {},
   "source": [
    "* List of Chrome Option switches: https://peter.sh/experiments/chromium-command-line-switches/\n",
    "* No sandbox chrome option switch: https://www.google.com/googlebooks/chrome/med_26.html"
   ]
  }
 ],
 "metadata": {
  "kernelspec": {
   "display_name": "Python 3 (ipykernel)",
   "language": "python",
   "name": "python3"
  },
  "language_info": {
   "codemirror_mode": {
    "name": "ipython",
    "version": 3
   },
   "file_extension": ".py",
   "mimetype": "text/x-python",
   "name": "python",
   "nbconvert_exporter": "python",
   "pygments_lexer": "ipython3",
   "version": "3.7.6"
  }
 },
 "nbformat": 4,
 "nbformat_minor": 5
}
