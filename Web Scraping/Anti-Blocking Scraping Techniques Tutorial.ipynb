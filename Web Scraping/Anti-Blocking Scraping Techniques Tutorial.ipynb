{
 "cells": [
  {
   "cell_type": "markdown",
   "id": "e4670386",
   "metadata": {},
   "source": [
    "# Import Dependencies"
   ]
  },
  {
   "cell_type": "code",
   "execution_count": null,
   "id": "18517111",
   "metadata": {},
   "outputs": [],
   "source": [
    "from selenium import webdriver\n",
    "from selenium.webdriver.common.proxy import Proxy, ProxyType\n",
    "from webdriver_manager.chrome import ChromeDriverManager\n",
    "import undetected_chromedriver as uc\n",
    "from fake_useragent import UserAgent\n",
    "import time\n",
    "import random"
   ]
  },
  {
   "cell_type": "markdown",
   "id": "ed52992a",
   "metadata": {},
   "source": [
    "# Anti-Blocking Techniques"
   ]
  },
  {
   "cell_type": "markdown",
   "id": "780a9f28",
   "metadata": {},
   "source": [
    "### 1. Random time delay\n",
    "\n",
    "* **Problem:** Most web scraping bots aim to fetch data as quickly as possible, however, this can easily get you exposed as a scraping bot as there’s no way a real human can surf the web so fast. Websites can track your access speed easily and once the system finds you are going through the pages too fast, it will suspect that you are not a human and block you by default.\n",
    "\n",
    "* **Solution:** We can set random time intervals between requests."
   ]
  },
  {
   "cell_type": "code",
   "execution_count": null,
   "id": "7ed9b7db",
   "metadata": {},
   "outputs": [],
   "source": [
    "def random_time_delay():\n",
    "    time.sleep(random.uniform(60,120))"
   ]
  },
  {
   "cell_type": "code",
   "execution_count": null,
   "id": "4028aba5",
   "metadata": {},
   "outputs": [],
   "source": [
    "chrome_options = uc.ChromeOptions()\n",
    "chrome_options.add_argument(\"--window-size=1920,1080\")\n",
    "chrome_options.add_argument(\"--disable-extensions\")\n",
    "chrome_options.add_argument('--disable-notifications')\n",
    "chrome_options.add_argument(\"--mute-audio\")\n",
    "chrome_options.add_argument(\"--start-maximized\")\n",
    "chrome_options.add_argument('--disable-gpu')\n",
    "chrome_options.add_argument('--disable-dev-shm-usage')\n",
    "chrome_options.add_argument('--no-sandbox')\n",
    "chrome_options.add_argument('--ignore-certificate-errors')\n",
    "# chrome_options.add_argument(\"--headless\") # makes code more lightweight, less resource intensive. doesn't show browser\n",
    "\n",
    "driver = uc.Chrome(executable_path=ChromeDriverManager().install(), \n",
    "                    options=chrome_options)\n",
    "\n",
    "for i in range(10):\n",
    "    driver.get('https://www.google.co.in/')\n",
    "    random_time_delay()\n",
    "    \n",
    "driver.quit()"
   ]
  },
  {
   "cell_type": "markdown",
   "id": "55d0e753",
   "metadata": {},
   "source": [
    "### 2. Clear cookies\n",
    "* **Problem:** A cookie is like a small document containing helpful information about you and your preferences. For instance, you are an English native speaker. You open a website and change the prefereed language to English. Cookie will help the website remember your preferred language is English and every time you open the website, it will automatically switch the preferred language to English. If you are scraping a website constantly with the same cookie, it is easy to be detected as a scraping bot activity.\n",
    "* **Solution:** Clear cookies from time to time."
   ]
  },
  {
   "cell_type": "code",
   "execution_count": null,
   "id": "850c3534",
   "metadata": {},
   "outputs": [],
   "source": [
    "chrome_options = uc.ChromeOptions()\n",
    "chrome_options.add_argument(\"--window-size=1920,1080\")\n",
    "chrome_options.add_argument(\"--disable-extensions\")\n",
    "chrome_options.add_argument('--disable-notifications')\n",
    "chrome_options.add_argument(\"--mute-audio\")\n",
    "chrome_options.add_argument(\"--start-maximized\")\n",
    "chrome_options.add_argument('--disable-gpu')\n",
    "chrome_options.add_argument('--disable-dev-shm-usage')\n",
    "chrome_options.add_argument('--no-sandbox')\n",
    "chrome_options.add_argument('--ignore-certificate-errors')\n",
    "# chrome_options.add_argument(\"--headless\") # makes code more lightweight, less resource intensive. doesn't show browser\n",
    "\n",
    "driver = uc.Chrome(executable_path=ChromeDriverManager().install(), \n",
    "                    options=chrome_options)\n",
    "\n",
    "for i in range(10):\n",
    "    driver.get('https://www.google.co.in/')\n",
    "    driver.delete_all_cookies()\n",
    "    \n",
    "driver.quit()"
   ]
  },
  {
   "cell_type": "markdown",
   "id": "271a4014",
   "metadata": {},
   "source": [
    "### 3. Proxy server\n",
    "\n",
    "* **Problem:** When a site detects there are a number of requests coming from a single IP address, the IP address can be easily blocked.\n",
    "* **Solution:** To avoid sending all of your requests through the same IP address, you can use proxy servers."
   ]
  },
  {
   "cell_type": "markdown",
   "id": "083ab0c1",
   "metadata": {},
   "source": [
    "**What are proxy servers?**\n",
    "\n",
    "Here's a breakdown of the interaction b/w user, proxy server, and website:\n",
    "\n",
    "1. The user sends an HTTP request to the proxy server.\n",
    "2. The proxy server forwards the request to the website.\n",
    "3. The website responds with an HTTP response.\n",
    "3. The proxy server receives the response and forwards it back to the user.\n",
    "\n",
    "In this way, the proxy server acts as an intermediary between the user and the website, handling requests and responses on behalf of the user."
   ]
  },
  {
   "cell_type": "markdown",
   "id": "50e67731",
   "metadata": {},
   "source": [
    "**Benefits of using proxy servers:**\n",
    "* **Privacy and Security:** Proxy servers can help to protect user privacy and security by hiding their IP address and encrypting their internet traffic. This can prevent unauthorized access to user data and help to keep personal information secure.\n",
    "\n",
    "* **Content Filtering:** Proxy servers can be used to filter content and block access to websites or resources that are deemed inappropriate or dangerous. This is particularly useful in corporate or educational environments where access to certain types of content may be restricted.\n",
    "\n",
    "* **Network Performance:** Proxy servers can help to improve network performance by caching frequently accessed content and reducing bandwidth usage. This can speed up web browsing and reduce data costs for users."
   ]
  },
  {
   "cell_type": "markdown",
   "id": "3d87d6df",
   "metadata": {},
   "source": [
    "**Authentication to access proxy server**\n",
    "- When you connect to a proxy server, the server may require you to provide a username and password to verify your identity and ensure that you are authorized to use the proxy. This is especially important for proxies that are used in corporate or organizational environments, where access to the internet may be restricted or monitored for security reasons.\n",
    "\n",
    "- Without the correct username and password, you may not be able to connect to the proxy server or access the internet through the proxy. In some cases, the proxy server may also limit the features or capabilities that are available to users who are not authenticated, or may impose restrictions on the websites or applications that can be accessed through the proxy.\n",
    "\n",
    "- Therefore, if your proxy server requires authentication, you will need to provide the correct username and password in order to use the proxy and access the internet."
   ]
  },
  {
   "cell_type": "code",
   "execution_count": null,
   "id": "01917e62",
   "metadata": {},
   "outputs": [],
   "source": [
    "chrome_options = uc.ChromeOptions()\n",
    "chrome_options.add_argument(\"--window-size=1920,1080\")\n",
    "chrome_options.add_argument(\"--disable-extensions\")\n",
    "chrome_options.add_argument('--disable-notifications')\n",
    "chrome_options.add_argument(\"--mute-audio\")\n",
    "chrome_options.add_argument(\"--start-maximized\")\n",
    "chrome_options.add_argument('--disable-gpu')\n",
    "chrome_options.add_argument('--disable-dev-shm-usage')\n",
    "chrome_options.add_argument('--no-sandbox')\n",
    "chrome_options.add_argument('--ignore-certificate-errors')\n",
    "\n",
    "PROXY_HOST = 'your_proxy_host'\n",
    "PROXY_PORT = 'your_proxy_port'\n",
    "USERNAME = 'your_username' # if authentication is needed\n",
    "PASSWORD = 'your_password' # if authentication is needed\n",
    "\n",
    "######### Method 1 #############\n",
    "\n",
    "if USERNAME and PASSWORD: # if authentication is needed\n",
    "    chrome_options.add_argument('--proxy-server=http://{}:{}@{}:{}'.format(USERNAME, PASSWORD, PROXY_HOST, PROXY_PORT))\n",
    "\n",
    "else:\n",
    "    chrome_options.add_argument('--proxy-server=http://{}:{}'.format(PROXY_HOST, PROXY_PORT))\n",
    "\n",
    "driver = uc.Chrome(executable_path=ChromeDriverManager().install(), \n",
    "                    options=chrome_options)\n",
    "\n",
    "driver.get('https://www.google.co.in/')\n",
    "\n",
    "driver.quit()\n",
    "\n",
    "######### Method 2 #############\n",
    "# Note that this method is a bit more verbose compared to the previous methods, \n",
    "# but it provides more flexibility and control over the proxy settings.\n",
    "\n",
    "proxy = Proxy({\n",
    "    'proxyType': ProxyType.MANUAL,\n",
    "    'httpProxy': '{}:{}'.format(PROXY_HOST, PROXY_PORT),\n",
    "    'ftpProxy': '{}:{}'.format(PROXY_HOST, PROXY_PORT),\n",
    "    'sslProxy': '{}:{}'.format(PROXY_HOST, PROXY_PORT),\n",
    "    'noProxy': '' # set this to avoid any urls from being proxied\n",
    "})\n",
    "\n",
    "if USERNAME and PASSWORD: # if authentication is needed\n",
    "    proxy.proxy_username = USERNAME\n",
    "    proxy.proxy_password = PASSWORD\n",
    "\n",
    "chrome_options.add_argument('--proxy-server={}'.format(proxy.proxy))\n",
    "\n",
    "driver = uc.Chrome(executable_path=ChromeDriverManager().install(), \n",
    "                    options=chrome_options)\n",
    "\n",
    "driver.get('https://www.google.co.in/')\n",
    "\n",
    "driver.quit()"
   ]
  },
  {
   "cell_type": "markdown",
   "id": "fbb40ac0",
   "metadata": {},
   "source": [
    "### 4. User agent"
   ]
  },
  {
   "cell_type": "markdown",
   "id": "8ac2bf20",
   "metadata": {},
   "source": [
    "* **Problem:** Headers are small pieces of information that go with every HTTP request that hits the servers. One of those pieces of information precisely describes the client making the request, the infamous \"User-Agent\" header. When a software sends a request, it often identifies itself, its application type, operating system, software vendor, or software version, by submitting a characteristic identification string. This string is referred to as a “user agent string”. You can think of it as an ID card containing some basic information. All browsers, as well as some popular crawlers and bots, such as ‘google bot’, have a unique ‘user agent string’ that they identify themselves with. A lot of companies set up their servers in a way that allows them to identify the browser a client is using. If we do not send request with a legitimate user agent, our request may get blocked. \n",
    "* **Solution:** Fortunately, all browsers’ user agent strings are available publicly on the internet. Thus, we can easily pretend to be a browser. For instance, suppose we want to make a GET request to a website, pretending to be a client using Chrome. First, we need to find the User-Agent string of Chrome. A quick Google search should yield us a string like: \"Mozilla/5.0 (Windows NT 10.0; Win64; x64) AppleWebKit/537.36 (KHTML, like Gecko) Chrome/74.0.3729.169 Safari/537.36\"."
   ]
  },
  {
   "cell_type": "code",
   "execution_count": null,
   "id": "89320266",
   "metadata": {},
   "outputs": [],
   "source": [
    "ua = UserAgent()\n",
    "chrome_options = uc.ChromeOptions()\n",
    "chrome_options.add_argument(\"--window-size=1920,1080\")\n",
    "chrome_options.add_argument(\"--disable-extensions\")\n",
    "chrome_options.add_argument('--disable-notifications')\n",
    "chrome_options.add_argument(\"--mute-audio\")\n",
    "chrome_options.add_argument(\"--start-maximized\")\n",
    "chrome_options.add_argument('--disable-gpu')\n",
    "chrome_options.add_argument('--disable-dev-shm-usage')\n",
    "chrome_options.add_argument('--no-sandbox')\n",
    "chrome_options.add_argument('--ignore-certificate-errors')\n",
    "chrome_options.add_argument(f\"user-agent={ua['google chrome']}\")\n",
    "\n",
    "driver = uc.Chrome(executable_path=ChromeDriverManager().install(), \n",
    "                    options=chrome_options)\n",
    "\n",
    "driver.get('https://www.google.co.in/')\n",
    "\n",
    "driver.quit()"
   ]
  },
  {
   "cell_type": "markdown",
   "id": "4acd7059",
   "metadata": {},
   "source": [
    "# References"
   ]
  },
  {
   "cell_type": "markdown",
   "id": "683b2749",
   "metadata": {},
   "source": [
    "* List of Chrome Option switches: https://peter.sh/experiments/chromium-command-line-switches/\n",
    "* No sandbox chrome option switch: https://www.google.com/googlebooks/chrome/med_26.html"
   ]
  }
 ],
 "metadata": {
  "kernelspec": {
   "display_name": "Python 3 (ipykernel)",
   "language": "python",
   "name": "python3"
  },
  "language_info": {
   "codemirror_mode": {
    "name": "ipython",
    "version": 3
   },
   "file_extension": ".py",
   "mimetype": "text/x-python",
   "name": "python",
   "nbconvert_exporter": "python",
   "pygments_lexer": "ipython3",
   "version": "3.7.6"
  }
 },
 "nbformat": 4,
 "nbformat_minor": 5
}
