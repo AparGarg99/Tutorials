{
 "cells": [
  {
   "cell_type": "code",
   "execution_count": null,
   "id": "52f5da4d",
   "metadata": {},
   "outputs": [],
   "source": [
    "from webdriver_manager.chrome import ChromeDriverManager\n",
    "import undetected_chromedriver as uc\n",
    "from fake_useragent import UserAgent\n",
    "import pickle"
   ]
  },
  {
   "cell_type": "code",
   "execution_count": null,
   "id": "07527423",
   "metadata": {},
   "outputs": [],
   "source": [
    "def open_driver():\n",
    "    ua = UserAgent()\n",
    "    chrome_options = uc.ChromeOptions()\n",
    "    chrome_options.add_argument(\"--window-size=1920,1080\")\n",
    "    chrome_options.add_argument(\"--disable-extensions\")\n",
    "    chrome_options.add_argument('--disable-notifications')\n",
    "    chrome_options.add_argument(\"--mute-audio\")\n",
    "    chrome_options.add_argument(\"--start-maximized\")\n",
    "    chrome_options.add_argument('--disable-gpu')\n",
    "    chrome_options.add_argument('--disable-dev-shm-usage')\n",
    "    chrome_options.add_argument('--no-sandbox')\n",
    "    chrome_options.add_argument('--ignore-certificate-errors')\n",
    "    chrome_options.add_argument(f\"user-agent={ua['google chrome']}\")\n",
    "\n",
    "    driver = uc.Chrome(executable_path=ChromeDriverManager().install(), \n",
    "                        options=chrome_options)\n",
    "    \n",
    "    return driver"
   ]
  },
  {
   "cell_type": "markdown",
   "id": "993b054c",
   "metadata": {},
   "source": [
    "# 1st time Gmail visit"
   ]
  },
  {
   "cell_type": "code",
   "execution_count": null,
   "id": "ce56c60a",
   "metadata": {},
   "outputs": [],
   "source": [
    "# Open browser\n",
    "driver = open_driver()"
   ]
  },
  {
   "cell_type": "code",
   "execution_count": null,
   "id": "5492c596",
   "metadata": {},
   "outputs": [],
   "source": [
    "# Go to Login page\n",
    "driver.get('https://accounts.google.com/signin/v2/identifier?continue=https%3A%2F%2Fmail.google.com%2Fmail%2F&service=mail&sacu=1&rip=1&hl=en&flowName=GlifWebSignIn&flowEntry=ServiceLogin')"
   ]
  },
  {
   "cell_type": "code",
   "execution_count": null,
   "id": "6c27e578",
   "metadata": {},
   "outputs": [],
   "source": [
    "# <Login code here>"
   ]
  },
  {
   "cell_type": "code",
   "execution_count": null,
   "id": "4c2deea3",
   "metadata": {},
   "outputs": [],
   "source": [
    "# It will take me to Inbox page - https://mail.google.com/mail/u/0/#inbox"
   ]
  },
  {
   "cell_type": "code",
   "execution_count": null,
   "id": "072dd619",
   "metadata": {},
   "outputs": [],
   "source": [
    "# get cookies\n",
    "cookies = driver.get_cookies()"
   ]
  },
  {
   "cell_type": "code",
   "execution_count": null,
   "id": "f6255342",
   "metadata": {},
   "outputs": [],
   "source": [
    "# save cookies\n",
    "pickle.dump(cookies, open(\"cookies.pkl\", \"wb\"))"
   ]
  },
  {
   "cell_type": "code",
   "execution_count": null,
   "id": "e398154a",
   "metadata": {},
   "outputs": [],
   "source": [
    "# close browser\n",
    "driver.quit()"
   ]
  },
  {
   "cell_type": "markdown",
   "id": "9e97624b",
   "metadata": {},
   "source": [
    "# 2nd time Gmail visit"
   ]
  },
  {
   "cell_type": "code",
   "execution_count": null,
   "id": "5d56b484",
   "metadata": {},
   "outputs": [],
   "source": [
    "# Open browser\n",
    "driver = open_driver()"
   ]
  },
  {
   "cell_type": "code",
   "execution_count": null,
   "id": "641fa1c1",
   "metadata": {},
   "outputs": [],
   "source": [
    "# Go to Login page\n",
    "driver.get('https://accounts.google.com/signin/v2/identifier?continue=https%3A%2F%2Fmail.google.com%2Fmail%2F&service=mail&sacu=1&rip=1&hl=en&flowName=GlifWebSignIn&flowEntry=ServiceLogin')"
   ]
  },
  {
   "cell_type": "code",
   "execution_count": null,
   "id": "e695f58b",
   "metadata": {},
   "outputs": [],
   "source": [
    "# Load cookies\n",
    "cookies = pickle.load(open(\"cookies.pkl\", \"rb\"))"
   ]
  },
  {
   "cell_type": "code",
   "execution_count": null,
   "id": "d52165c3",
   "metadata": {},
   "outputs": [],
   "source": [
    "for cookie in cookies:\n",
    "    # if we go to cookies.pkl file, all domains are .google.com except for some which are mail.google.com and we don't want that.\n",
    "    # We want all domains to be .google.com.\n",
    "    # Otherwise, we get an error that says domain mismatch because \n",
    "    # the domain we want to access which is accounts.google.com doesn't match the domain in the cookie we are trying to add\n",
    "    # So to conclude, each cookie we are trying to add, has to be of the same domain we are currently visiting.\n",
    "    # We cannot add cookies from other pages/domains that we are not visiting right now.\n",
    "    # It is better to make all domains as .google.com instead of accounts.google.com because accounts.google.com is a sub domain of .google.com\n",
    "    cookie['domain'] = \".google.com\"\n",
    "\n",
    "    # add cookie to the browser\n",
    "    try:\n",
    "        driver.add_cookie(cookie)\n",
    "    except:\n",
    "        pass"
   ]
  },
  {
   "cell_type": "code",
   "execution_count": null,
   "id": "95762ac2",
   "metadata": {},
   "outputs": [],
   "source": [
    "# go to Inbox page (It won't ask to login before going to Inbox page since the we have added the login cookies)\n",
    "driver.get('https://mail.google.com/mail/u/0/#inbox')"
   ]
  },
  {
   "cell_type": "code",
   "execution_count": null,
   "id": "5b68ebaf",
   "metadata": {},
   "outputs": [],
   "source": [
    "# close browser\n",
    "driver.quit()"
   ]
  },
  {
   "cell_type": "markdown",
   "id": "f101ea4d",
   "metadata": {},
   "source": [
    "# References\n",
    "* https://www.youtube.com/watch?v=dYAytG965ZE&t=301s\n",
    "* https://medium.com/nerd-for-tech/linked-in-web-scraper-using-selenium-15189959b3ba"
   ]
  }
 ],
 "metadata": {
  "kernelspec": {
   "display_name": "Python 3 (ipykernel)",
   "language": "python",
   "name": "python3"
  },
  "language_info": {
   "codemirror_mode": {
    "name": "ipython",
    "version": 3
   },
   "file_extension": ".py",
   "mimetype": "text/x-python",
   "name": "python",
   "nbconvert_exporter": "python",
   "pygments_lexer": "ipython3",
   "version": "3.7.6"
  }
 },
 "nbformat": 4,
 "nbformat_minor": 5
}
