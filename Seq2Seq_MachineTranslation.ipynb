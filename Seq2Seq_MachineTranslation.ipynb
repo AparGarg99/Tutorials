{
  "nbformat": 4,
  "nbformat_minor": 0,
  "metadata": {
    "accelerator": "GPU",
    "colab": {
      "name": "french_to_english.ipynb",
      "provenance": [],
      "collapsed_sections": []
    },
    "kernelspec": {
      "display_name": "Python 3",
      "language": "python",
      "name": "python3"
    },
    "language_info": {
      "codemirror_mode": {
        "name": "ipython",
        "version": 3
      },
      "file_extension": ".py",
      "mimetype": "text/x-python",
      "name": "python",
      "nbconvert_exporter": "python",
      "pygments_lexer": "ipython3",
      "version": "3.7.4"
    }
  },
  "cells": [
    {
      "cell_type": "markdown",
      "metadata": {
        "id": "AtqJ3_q62d4H"
      },
      "source": [
        "In this tutorial, I'll implement a Seq2Seq (Encoder-Decoder) network for English to French translation."
      ]
    },
    {
      "cell_type": "markdown",
      "metadata": {
        "id": "fCKyNiU1G2-N"
      },
      "source": [
        "# Import Libraries"
      ]
    },
    {
      "cell_type": "code",
      "metadata": {
        "id": "y5zr_X982JO1"
      },
      "source": [
        "from __future__ import print_function\n",
        "from keras.models import Model\n",
        "from keras.layers import Input, LSTM, Dense\n",
        "import numpy as np\n",
        "import warnings\n",
        "warnings.filterwarnings('ignore')"
      ],
      "execution_count": 1,
      "outputs": []
    },
    {
      "cell_type": "markdown",
      "metadata": {
        "id": "2sorTDt2G2-S"
      },
      "source": [
        "# Read Dataset"
      ]
    },
    {
      "cell_type": "code",
      "metadata": {
        "colab": {
          "base_uri": "https://localhost:8080/"
        },
        "id": "Jv5B9GYe1CWB",
        "outputId": "88a77556-760a-4b22-fdb1-1e365289638e"
      },
      "source": [
        "!wget  http://www.manythings.org/anki/fra-eng.zip\n",
        "!unzip -q fra-eng.zip -d /content/french-eng"
      ],
      "execution_count": 2,
      "outputs": [
        {
          "output_type": "stream",
          "text": [
            "--2021-06-03 07:42:06--  http://www.manythings.org/anki/fra-eng.zip\n",
            "Resolving www.manythings.org (www.manythings.org)... 104.21.55.222, 172.67.173.198, 2606:4700:3036::ac43:adc6, ...\n",
            "Connecting to www.manythings.org (www.manythings.org)|104.21.55.222|:80... connected.\n",
            "HTTP request sent, awaiting response... 200 OK\n",
            "Length: 6281268 (6.0M) [application/zip]\n",
            "Saving to: ‘fra-eng.zip’\n",
            "\n",
            "fra-eng.zip         100%[===================>]   5.99M  4.56MB/s    in 1.3s    \n",
            "\n",
            "2021-06-03 07:42:07 (4.56 MB/s) - ‘fra-eng.zip’ saved [6281268/6281268]\n",
            "\n"
          ],
          "name": "stdout"
        }
      ]
    },
    {
      "cell_type": "code",
      "metadata": {
        "colab": {
          "base_uri": "https://localhost:8080/"
        },
        "id": "Z9yxN-joG2-T",
        "outputId": "79622d81-71ea-4e03-e4af-9fad37fc2096"
      },
      "source": [
        "data_path = '/content/french-eng/fra.txt'\n",
        "with open(data_path, 'r', encoding='utf-8') as f:\n",
        "    lines = f.read().split('\\n')\n",
        "lines[:10]"
      ],
      "execution_count": 3,
      "outputs": [
        {
          "output_type": "execute_result",
          "data": {
            "text/plain": [
              "['Go.\\tVa !\\tCC-BY 2.0 (France) Attribution: tatoeba.org #2877272 (CM) & #1158250 (Wittydev)',\n",
              " 'Go.\\tMarche.\\tCC-BY 2.0 (France) Attribution: tatoeba.org #2877272 (CM) & #8090732 (Micsmithel)',\n",
              " 'Go.\\tBouge !\\tCC-BY 2.0 (France) Attribution: tatoeba.org #2877272 (CM) & #9022935 (Micsmithel)',\n",
              " 'Hi.\\tSalut !\\tCC-BY 2.0 (France) Attribution: tatoeba.org #538123 (CM) & #509819 (Aiji)',\n",
              " 'Hi.\\tSalut.\\tCC-BY 2.0 (France) Attribution: tatoeba.org #538123 (CM) & #4320462 (gillux)',\n",
              " 'Run!\\tCours\\u202f!\\tCC-BY 2.0 (France) Attribution: tatoeba.org #906328 (papabear) & #906331 (sacredceltic)',\n",
              " 'Run!\\tCourez\\u202f!\\tCC-BY 2.0 (France) Attribution: tatoeba.org #906328 (papabear) & #906332 (sacredceltic)',\n",
              " 'Run!\\tPrenez vos jambes à vos cous !\\tCC-BY 2.0 (France) Attribution: tatoeba.org #906328 (papabear) & #2077449 (sacredceltic)',\n",
              " 'Run!\\tFile !\\tCC-BY 2.0 (France) Attribution: tatoeba.org #906328 (papabear) & #2077454 (sacredceltic)',\n",
              " 'Run!\\tFilez !\\tCC-BY 2.0 (France) Attribution: tatoeba.org #906328 (papabear) & #2077455 (sacredceltic)']"
            ]
          },
          "metadata": {
            "tags": []
          },
          "execution_count": 3
        }
      ]
    },
    {
      "cell_type": "code",
      "metadata": {
        "colab": {
          "base_uri": "https://localhost:8080/"
        },
        "id": "csYJhWgUu4ny",
        "outputId": "d4deee96-7fcf-4744-8ced-e96df4ab8f39"
      },
      "source": [
        "len(lines)"
      ],
      "execution_count": 4,
      "outputs": [
        {
          "output_type": "execute_result",
          "data": {
            "text/plain": [
              "185584"
            ]
          },
          "metadata": {
            "tags": []
          },
          "execution_count": 4
        }
      ]
    },
    {
      "cell_type": "code",
      "metadata": {
        "id": "cCf_eOOh3CQS"
      },
      "source": [
        "batch_s = 64  # Batch size for training.\n",
        "epochs = 100  # Number of epochs to train for.\n",
        "latent_dim = 256  # Latent dimensionality of the encoding space.\n",
        "number_samples = 10000 # Number of samples to train on."
      ],
      "execution_count": 5,
      "outputs": []
    },
    {
      "cell_type": "code",
      "metadata": {
        "id": "Ti8KRBbQ38Sm"
      },
      "source": [
        "input_texts = []\n",
        "target_texts = []\n",
        "input_characters = set()\n",
        "target_characters = set()\n",
        "\n",
        "for line in lines[: min(number_samples, len(lines) - 1)]:\n",
        "    \n",
        "    input_text, target_text, _ = line.split('\\t')\n",
        "    \n",
        "    # for the targets, we use \"tab\" as the \"start sequence\" character\n",
        "    # and \"\\n\" as \"end sequence\" character.\n",
        "    target_text = '\\t' + target_text + '\\n'\n",
        "    \n",
        "    input_texts.append(input_text)\n",
        "    target_texts.append(target_text)\n",
        "    for char in input_text:\n",
        "        if char not in input_characters:\n",
        "            input_characters.add(char)\n",
        "    for char in target_text:\n",
        "        if char not in target_characters:\n",
        "            target_characters.add(char)"
      ],
      "execution_count": 6,
      "outputs": []
    },
    {
      "cell_type": "code",
      "metadata": {
        "colab": {
          "base_uri": "https://localhost:8080/"
        },
        "id": "ij2a0xklG2-V",
        "outputId": "9b6d7b5a-b937-4086-e663-1b1f58403090"
      },
      "source": [
        "for i,j in zip(input_texts[:10],target_texts[:10]):\n",
        "  print(i+'-->'+j)"
      ],
      "execution_count": 7,
      "outputs": [
        {
          "output_type": "stream",
          "text": [
            "Go.-->\tVa !\n",
            "\n",
            "Go.-->\tMarche.\n",
            "\n",
            "Go.-->\tBouge !\n",
            "\n",
            "Hi.-->\tSalut !\n",
            "\n",
            "Hi.-->\tSalut.\n",
            "\n",
            "Run!-->\tCours !\n",
            "\n",
            "Run!-->\tCourez !\n",
            "\n",
            "Run!-->\tPrenez vos jambes à vos cous !\n",
            "\n",
            "Run!-->\tFile !\n",
            "\n",
            "Run!-->\tFilez !\n",
            "\n"
          ],
          "name": "stdout"
        }
      ]
    },
    {
      "cell_type": "code",
      "metadata": {
        "id": "C1RtFMC9HeyV"
      },
      "source": [
        "input_characters = sorted(list(input_characters))\n",
        "target_characters = sorted(list(target_characters))\n",
        "\n",
        "num_encoder_tokens = len(input_characters)\n",
        "num_decoder_tokens = len(target_characters)\n",
        "\n",
        "max_encoder_seq_length = max([len(txt) for txt in input_texts])\n",
        "max_decoder_seq_length = max([len(txt) for txt in target_texts])"
      ],
      "execution_count": 8,
      "outputs": []
    },
    {
      "cell_type": "code",
      "metadata": {
        "colab": {
          "base_uri": "https://localhost:8080/"
        },
        "id": "Rswa0Dq4IWiZ",
        "outputId": "44c403d0-d080-4fca-fe38-b9f33b5a07e9"
      },
      "source": [
        "print(input_characters)"
      ],
      "execution_count": 9,
      "outputs": [
        {
          "output_type": "stream",
          "text": [
            "[' ', '!', '\"', '$', '%', '&', \"'\", ',', '-', '.', '0', '1', '2', '3', '5', '7', '8', '9', ':', '?', 'A', 'B', 'C', 'D', 'E', 'F', 'G', 'H', 'I', 'J', 'K', 'L', 'M', 'N', 'O', 'P', 'Q', 'R', 'S', 'T', 'U', 'V', 'W', 'Y', 'a', 'b', 'c', 'd', 'e', 'f', 'g', 'h', 'i', 'j', 'k', 'l', 'm', 'n', 'o', 'p', 'q', 'r', 's', 't', 'u', 'v', 'w', 'x', 'y', 'z', 'é']\n"
          ],
          "name": "stdout"
        }
      ]
    },
    {
      "cell_type": "code",
      "metadata": {
        "colab": {
          "base_uri": "https://localhost:8080/"
        },
        "id": "YQ3QjuW5Is5-",
        "outputId": "6c83b93f-99d8-4a4b-e78e-568cf61f13d7"
      },
      "source": [
        "print(target_characters)"
      ],
      "execution_count": 10,
      "outputs": [
        {
          "output_type": "stream",
          "text": [
            "['\\t', '\\n', ' ', '!', '$', '%', '&', \"'\", '(', ')', ',', '-', '.', '0', '1', '2', '3', '5', '8', '9', ':', '?', 'A', 'B', 'C', 'D', 'E', 'F', 'G', 'H', 'I', 'J', 'K', 'L', 'M', 'N', 'O', 'P', 'Q', 'R', 'S', 'T', 'U', 'V', 'Y', 'a', 'b', 'c', 'd', 'e', 'f', 'g', 'h', 'i', 'j', 'k', 'l', 'm', 'n', 'o', 'p', 'q', 'r', 's', 't', 'u', 'v', 'w', 'x', 'y', 'z', '\\xa0', '«', '»', 'À', 'Ç', 'É', 'Ê', 'à', 'â', 'ç', 'è', 'é', 'ê', 'î', 'ï', 'ô', 'ù', 'û', 'œ', '\\u2009', '’', '\\u202f']\n"
          ],
          "name": "stdout"
        }
      ]
    },
    {
      "cell_type": "code",
      "metadata": {
        "colab": {
          "base_uri": "https://localhost:8080/"
        },
        "id": "ACn82S1s4ZU4",
        "outputId": "672e61e9-6f23-4741-e9a3-31cdba958d55"
      },
      "source": [
        "print('Number of samples:', len(input_texts))\n",
        "print('Number of unique input tokens:', num_encoder_tokens)\n",
        "print('Number of unique output tokens:', num_decoder_tokens)\n",
        "print('Max sequence length for inputs:', max_encoder_seq_length)\n",
        "print('Max sequence length for outputs:', max_decoder_seq_length)"
      ],
      "execution_count": 11,
      "outputs": [
        {
          "output_type": "stream",
          "text": [
            "Number of samples: 10000\n",
            "Number of unique input tokens: 71\n",
            "Number of unique output tokens: 93\n",
            "Max sequence length for inputs: 15\n",
            "Max sequence length for outputs: 59\n"
          ],
          "name": "stdout"
        }
      ]
    },
    {
      "cell_type": "markdown",
      "metadata": {
        "id": "obII1IOWJcKs"
      },
      "source": [
        "# Index Characters"
      ]
    },
    {
      "cell_type": "code",
      "metadata": {
        "id": "OxkkntDz4hz-"
      },
      "source": [
        "input_token_index = dict(\n",
        "    [(char, i) for i, char in enumerate(input_characters)])\n",
        "target_token_index = dict(\n",
        "    [(char, i) for i, char in enumerate(target_characters)])"
      ],
      "execution_count": 12,
      "outputs": []
    },
    {
      "cell_type": "code",
      "metadata": {
        "colab": {
          "base_uri": "https://localhost:8080/"
        },
        "id": "f-Xh_6HHJDf0",
        "outputId": "4064bfdb-34fe-4910-c027-f5293d49ac62"
      },
      "source": [
        "print(input_token_index)"
      ],
      "execution_count": 13,
      "outputs": [
        {
          "output_type": "stream",
          "text": [
            "{' ': 0, '!': 1, '\"': 2, '$': 3, '%': 4, '&': 5, \"'\": 6, ',': 7, '-': 8, '.': 9, '0': 10, '1': 11, '2': 12, '3': 13, '5': 14, '7': 15, '8': 16, '9': 17, ':': 18, '?': 19, 'A': 20, 'B': 21, 'C': 22, 'D': 23, 'E': 24, 'F': 25, 'G': 26, 'H': 27, 'I': 28, 'J': 29, 'K': 30, 'L': 31, 'M': 32, 'N': 33, 'O': 34, 'P': 35, 'Q': 36, 'R': 37, 'S': 38, 'T': 39, 'U': 40, 'V': 41, 'W': 42, 'Y': 43, 'a': 44, 'b': 45, 'c': 46, 'd': 47, 'e': 48, 'f': 49, 'g': 50, 'h': 51, 'i': 52, 'j': 53, 'k': 54, 'l': 55, 'm': 56, 'n': 57, 'o': 58, 'p': 59, 'q': 60, 'r': 61, 's': 62, 't': 63, 'u': 64, 'v': 65, 'w': 66, 'x': 67, 'y': 68, 'z': 69, 'é': 70}\n"
          ],
          "name": "stdout"
        }
      ]
    },
    {
      "cell_type": "code",
      "metadata": {
        "colab": {
          "base_uri": "https://localhost:8080/"
        },
        "id": "hjmKW34PJrHi",
        "outputId": "b3ce1b0f-6626-4a7d-cfe5-debf2e8949d3"
      },
      "source": [
        "print(target_token_index)"
      ],
      "execution_count": 14,
      "outputs": [
        {
          "output_type": "stream",
          "text": [
            "{'\\t': 0, '\\n': 1, ' ': 2, '!': 3, '$': 4, '%': 5, '&': 6, \"'\": 7, '(': 8, ')': 9, ',': 10, '-': 11, '.': 12, '0': 13, '1': 14, '2': 15, '3': 16, '5': 17, '8': 18, '9': 19, ':': 20, '?': 21, 'A': 22, 'B': 23, 'C': 24, 'D': 25, 'E': 26, 'F': 27, 'G': 28, 'H': 29, 'I': 30, 'J': 31, 'K': 32, 'L': 33, 'M': 34, 'N': 35, 'O': 36, 'P': 37, 'Q': 38, 'R': 39, 'S': 40, 'T': 41, 'U': 42, 'V': 43, 'Y': 44, 'a': 45, 'b': 46, 'c': 47, 'd': 48, 'e': 49, 'f': 50, 'g': 51, 'h': 52, 'i': 53, 'j': 54, 'k': 55, 'l': 56, 'm': 57, 'n': 58, 'o': 59, 'p': 60, 'q': 61, 'r': 62, 's': 63, 't': 64, 'u': 65, 'v': 66, 'w': 67, 'x': 68, 'y': 69, 'z': 70, '\\xa0': 71, '«': 72, '»': 73, 'À': 74, 'Ç': 75, 'É': 76, 'Ê': 77, 'à': 78, 'â': 79, 'ç': 80, 'è': 81, 'é': 82, 'ê': 83, 'î': 84, 'ï': 85, 'ô': 86, 'ù': 87, 'û': 88, 'œ': 89, '\\u2009': 90, '’': 91, '\\u202f': 92}\n"
          ],
          "name": "stdout"
        }
      ]
    },
    {
      "cell_type": "markdown",
      "metadata": {
        "id": "vJoEsRnkfjef"
      },
      "source": [
        "# Encode Sentences"
      ]
    },
    {
      "cell_type": "code",
      "metadata": {
        "id": "QmL5ERmw4s_h"
      },
      "source": [
        "encoder_input_data = np.zeros(\n",
        "    (len(input_texts), max_encoder_seq_length, num_encoder_tokens),\n",
        "    dtype='float32')\n",
        "decoder_input_data = np.zeros(\n",
        "    (len(input_texts), max_decoder_seq_length, num_decoder_tokens),\n",
        "    dtype='float32')\n",
        "decoder_target_data = np.zeros(\n",
        "    (len(input_texts), max_decoder_seq_length, num_decoder_tokens),\n",
        "    dtype='float32')"
      ],
      "execution_count": 15,
      "outputs": []
    },
    {
      "cell_type": "code",
      "metadata": {
        "colab": {
          "base_uri": "https://localhost:8080/"
        },
        "id": "XLKJC-kOKIbr",
        "outputId": "c9e70d20-b7fe-42ab-adbb-febb95828006"
      },
      "source": [
        "encoder_input_data.shape"
      ],
      "execution_count": 16,
      "outputs": [
        {
          "output_type": "execute_result",
          "data": {
            "text/plain": [
              "(10000, 15, 71)"
            ]
          },
          "metadata": {
            "tags": []
          },
          "execution_count": 16
        }
      ]
    },
    {
      "cell_type": "code",
      "metadata": {
        "id": "w0ocGs2s4xhC"
      },
      "source": [
        "for i, (input_text, target_text) in enumerate(zip(input_texts, target_texts)):\n",
        "\n",
        "    ######################## Encoder #########################\n",
        "    for t, char in enumerate(input_text):\n",
        "        encoder_input_data[i, t, input_token_index[char]] = 1.\n",
        "\n",
        "    encoder_input_data[i, t + 1:, input_token_index[' ']] = 1.\n",
        "\n",
        "    ######################### Decoder #########################\n",
        "    for t, char in enumerate(target_text):\n",
        "        # decoder_target_data is ahead of decoder_input_data by one timestep\n",
        "        decoder_input_data[i, t, target_token_index[char]] = 1.\n",
        "        if t > 0:\n",
        "            # decoder_target_data will be ahead by one timestep\n",
        "            # and will not include the start character.\n",
        "            decoder_target_data[i, t - 1, target_token_index[char]] = 1.\n",
        "            \n",
        "    decoder_input_data[i, t + 1:, target_token_index[' ']] = 1.\n",
        "    decoder_target_data[i, t:, target_token_index[' ']] = 1."
      ],
      "execution_count": 17,
      "outputs": []
    },
    {
      "cell_type": "markdown",
      "metadata": {
        "id": "c1EjK2T10Gid"
      },
      "source": [
        "![seq2seq](https://user-images.githubusercontent.com/54896849/120606570-f3c1ab80-c46c-11eb-9dee-be6675aea96c.JPG)\n"
      ]
    },
    {
      "cell_type": "markdown",
      "metadata": {
        "id": "RSqGwIEvgh3Z"
      },
      "source": [
        "# Training"
      ]
    },
    {
      "cell_type": "code",
      "metadata": {
        "id": "tcrPrcKs5AXs"
      },
      "source": [
        "# Define the model that will turn\n",
        "# `encoder_input_data` & `decoder_input_data` into `decoder_target_data`\n",
        "\n",
        "########################### Encoder #############################\n",
        "# Define an input sequence and process it.\n",
        "encoder_inputs = Input(shape=(None, num_encoder_tokens))\n",
        "encoder = LSTM(latent_dim, return_state=True)\n",
        "encoder_outputs, state_h, state_c = encoder(encoder_inputs)\n",
        "\n",
        "# We discard `encoder_outputs` and only keep the states.\n",
        "encoder_states = [state_h, state_c]\n",
        "\n",
        "########################### Decoder #############################\n",
        "# Set up the decoder, using `encoder_states` as initial state.\n",
        "decoder_inputs = Input(shape=(None, num_decoder_tokens))\n",
        "\n",
        "# We set up our decoder to return full output sequences,\n",
        "# and to return internal states as well. We don't use the\n",
        "# return states in the training model, but we will use them in inference.\n",
        "decoder_lstm = LSTM(latent_dim, return_sequences=True, return_state=True)\n",
        "decoder_outputs, _, _ = decoder_lstm(decoder_inputs,\n",
        "                                     initial_state=encoder_states)\n",
        "decoder_dense = Dense(num_decoder_tokens, activation='softmax')\n",
        "decoder_outputs = decoder_dense(decoder_outputs)\n",
        "\n",
        "\n",
        "############################ Compile #############################\n",
        "model = Model([encoder_inputs, decoder_inputs], decoder_outputs)\n",
        "\n",
        "model.compile(optimizer='rmsprop', loss='categorical_crossentropy',\n",
        "              metrics=['accuracy'])"
      ],
      "execution_count": 18,
      "outputs": []
    },
    {
      "cell_type": "code",
      "metadata": {
        "id": "muNSIcpf5RnA",
        "colab": {
          "base_uri": "https://localhost:8080/"
        },
        "outputId": "8682cd60-df43-4903-afa1-c5682524bf01"
      },
      "source": [
        "model.summary()"
      ],
      "execution_count": 19,
      "outputs": [
        {
          "output_type": "stream",
          "text": [
            "Model: \"model\"\n",
            "__________________________________________________________________________________________________\n",
            "Layer (type)                    Output Shape         Param #     Connected to                     \n",
            "==================================================================================================\n",
            "input_1 (InputLayer)            [(None, None, 71)]   0                                            \n",
            "__________________________________________________________________________________________________\n",
            "input_2 (InputLayer)            [(None, None, 93)]   0                                            \n",
            "__________________________________________________________________________________________________\n",
            "lstm (LSTM)                     [(None, 256), (None, 335872      input_1[0][0]                    \n",
            "__________________________________________________________________________________________________\n",
            "lstm_1 (LSTM)                   [(None, None, 256),  358400      input_2[0][0]                    \n",
            "                                                                 lstm[0][1]                       \n",
            "                                                                 lstm[0][2]                       \n",
            "__________________________________________________________________________________________________\n",
            "dense (Dense)                   (None, None, 93)     23901       lstm_1[0][0]                     \n",
            "==================================================================================================\n",
            "Total params: 718,173\n",
            "Trainable params: 718,173\n",
            "Non-trainable params: 0\n",
            "__________________________________________________________________________________________________\n"
          ],
          "name": "stdout"
        }
      ]
    },
    {
      "cell_type": "code",
      "metadata": {
        "colab": {
          "base_uri": "https://localhost:8080/"
        },
        "id": "-z-Ydznw5YB_",
        "outputId": "8b0bfb0e-2b7f-4fc5-8e22-953b7b4d9575"
      },
      "source": [
        "# Run training\n",
        "model.fit([encoder_input_data, decoder_input_data], decoder_target_data,\n",
        "          batch_size=batch_s,\n",
        "          epochs=epochs,\n",
        "          validation_split=0.2)"
      ],
      "execution_count": 20,
      "outputs": [
        {
          "output_type": "stream",
          "text": [
            "Epoch 1/100\n",
            "125/125 [==============================] - 31s 51ms/step - loss: 1.5090 - accuracy: 0.7033 - val_loss: 1.0677 - val_accuracy: 0.7069\n",
            "Epoch 2/100\n",
            "125/125 [==============================] - 4s 36ms/step - loss: 0.8784 - accuracy: 0.7610 - val_loss: 0.8412 - val_accuracy: 0.7677\n",
            "Epoch 3/100\n",
            "125/125 [==============================] - 4s 35ms/step - loss: 0.7096 - accuracy: 0.8052 - val_loss: 0.7265 - val_accuracy: 0.7966\n",
            "Epoch 4/100\n",
            "125/125 [==============================] - 4s 34ms/step - loss: 0.6028 - accuracy: 0.8270 - val_loss: 0.6474 - val_accuracy: 0.8121\n",
            "Epoch 5/100\n",
            "125/125 [==============================] - 4s 35ms/step - loss: 0.5465 - accuracy: 0.8412 - val_loss: 0.5997 - val_accuracy: 0.8260\n",
            "Epoch 6/100\n",
            "125/125 [==============================] - 4s 34ms/step - loss: 0.5033 - accuracy: 0.8528 - val_loss: 0.5733 - val_accuracy: 0.8325\n",
            "Epoch 7/100\n",
            "125/125 [==============================] - 4s 34ms/step - loss: 0.4754 - accuracy: 0.8598 - val_loss: 0.5464 - val_accuracy: 0.8402\n",
            "Epoch 8/100\n",
            "125/125 [==============================] - 4s 34ms/step - loss: 0.4482 - accuracy: 0.8671 - val_loss: 0.5289 - val_accuracy: 0.8440\n",
            "Epoch 9/100\n",
            "125/125 [==============================] - 4s 35ms/step - loss: 0.4263 - accuracy: 0.8727 - val_loss: 0.5155 - val_accuracy: 0.8471\n",
            "Epoch 10/100\n",
            "125/125 [==============================] - 4s 34ms/step - loss: 0.4067 - accuracy: 0.8784 - val_loss: 0.5041 - val_accuracy: 0.8508\n",
            "Epoch 11/100\n",
            "125/125 [==============================] - 4s 34ms/step - loss: 0.3911 - accuracy: 0.8831 - val_loss: 0.4887 - val_accuracy: 0.8558\n",
            "Epoch 12/100\n",
            "125/125 [==============================] - 4s 34ms/step - loss: 0.3710 - accuracy: 0.8885 - val_loss: 0.4832 - val_accuracy: 0.8584\n",
            "Epoch 13/100\n",
            "125/125 [==============================] - 4s 35ms/step - loss: 0.3603 - accuracy: 0.8920 - val_loss: 0.4727 - val_accuracy: 0.8618\n",
            "Epoch 14/100\n",
            "125/125 [==============================] - 4s 34ms/step - loss: 0.3433 - accuracy: 0.8964 - val_loss: 0.4645 - val_accuracy: 0.8644\n",
            "Epoch 15/100\n",
            "125/125 [==============================] - 4s 34ms/step - loss: 0.3288 - accuracy: 0.9014 - val_loss: 0.4596 - val_accuracy: 0.8679\n",
            "Epoch 16/100\n",
            "125/125 [==============================] - 4s 35ms/step - loss: 0.3164 - accuracy: 0.9050 - val_loss: 0.4566 - val_accuracy: 0.8683\n",
            "Epoch 17/100\n",
            "125/125 [==============================] - 4s 35ms/step - loss: 0.3025 - accuracy: 0.9087 - val_loss: 0.4484 - val_accuracy: 0.8701\n",
            "Epoch 18/100\n",
            "125/125 [==============================] - 4s 35ms/step - loss: 0.2915 - accuracy: 0.9120 - val_loss: 0.4518 - val_accuracy: 0.8695\n",
            "Epoch 19/100\n",
            "125/125 [==============================] - 4s 35ms/step - loss: 0.2828 - accuracy: 0.9150 - val_loss: 0.4510 - val_accuracy: 0.8705\n",
            "Epoch 20/100\n",
            "125/125 [==============================] - 4s 35ms/step - loss: 0.2696 - accuracy: 0.9189 - val_loss: 0.4509 - val_accuracy: 0.8714\n",
            "Epoch 21/100\n",
            "125/125 [==============================] - 4s 34ms/step - loss: 0.2608 - accuracy: 0.9211 - val_loss: 0.4515 - val_accuracy: 0.8719\n",
            "Epoch 22/100\n",
            "125/125 [==============================] - 4s 34ms/step - loss: 0.2486 - accuracy: 0.9249 - val_loss: 0.4508 - val_accuracy: 0.8731\n",
            "Epoch 23/100\n",
            "125/125 [==============================] - 4s 34ms/step - loss: 0.2428 - accuracy: 0.9269 - val_loss: 0.4533 - val_accuracy: 0.8728\n",
            "Epoch 24/100\n",
            "125/125 [==============================] - 4s 34ms/step - loss: 0.2317 - accuracy: 0.9301 - val_loss: 0.4564 - val_accuracy: 0.8734\n",
            "Epoch 25/100\n",
            "125/125 [==============================] - 4s 35ms/step - loss: 0.2241 - accuracy: 0.9324 - val_loss: 0.4530 - val_accuracy: 0.8743\n",
            "Epoch 26/100\n",
            "125/125 [==============================] - 4s 35ms/step - loss: 0.2163 - accuracy: 0.9347 - val_loss: 0.4551 - val_accuracy: 0.8748\n",
            "Epoch 27/100\n",
            "125/125 [==============================] - 4s 35ms/step - loss: 0.2079 - accuracy: 0.9375 - val_loss: 0.4621 - val_accuracy: 0.8743\n",
            "Epoch 28/100\n",
            "125/125 [==============================] - 4s 35ms/step - loss: 0.2020 - accuracy: 0.9391 - val_loss: 0.4668 - val_accuracy: 0.8752\n",
            "Epoch 29/100\n",
            "125/125 [==============================] - 4s 34ms/step - loss: 0.1961 - accuracy: 0.9408 - val_loss: 0.4645 - val_accuracy: 0.8750\n",
            "Epoch 30/100\n",
            "125/125 [==============================] - 4s 35ms/step - loss: 0.1880 - accuracy: 0.9434 - val_loss: 0.4700 - val_accuracy: 0.8744\n",
            "Epoch 31/100\n",
            "125/125 [==============================] - 4s 34ms/step - loss: 0.1830 - accuracy: 0.9447 - val_loss: 0.4751 - val_accuracy: 0.8754\n",
            "Epoch 32/100\n",
            "125/125 [==============================] - 4s 35ms/step - loss: 0.1765 - accuracy: 0.9465 - val_loss: 0.4737 - val_accuracy: 0.8754\n",
            "Epoch 33/100\n",
            "125/125 [==============================] - 4s 34ms/step - loss: 0.1728 - accuracy: 0.9477 - val_loss: 0.4786 - val_accuracy: 0.8757\n",
            "Epoch 34/100\n",
            "125/125 [==============================] - 4s 35ms/step - loss: 0.1646 - accuracy: 0.9501 - val_loss: 0.4825 - val_accuracy: 0.8757\n",
            "Epoch 35/100\n",
            "125/125 [==============================] - 4s 35ms/step - loss: 0.1582 - accuracy: 0.9517 - val_loss: 0.4883 - val_accuracy: 0.8747\n",
            "Epoch 36/100\n",
            "125/125 [==============================] - 4s 35ms/step - loss: 0.1549 - accuracy: 0.9531 - val_loss: 0.4960 - val_accuracy: 0.8746\n",
            "Epoch 37/100\n",
            "125/125 [==============================] - 4s 35ms/step - loss: 0.1511 - accuracy: 0.9537 - val_loss: 0.4952 - val_accuracy: 0.8757\n",
            "Epoch 38/100\n",
            "125/125 [==============================] - 4s 35ms/step - loss: 0.1444 - accuracy: 0.9561 - val_loss: 0.5038 - val_accuracy: 0.8748\n",
            "Epoch 39/100\n",
            "125/125 [==============================] - 4s 35ms/step - loss: 0.1406 - accuracy: 0.9572 - val_loss: 0.5084 - val_accuracy: 0.8743\n",
            "Epoch 40/100\n",
            "125/125 [==============================] - 4s 35ms/step - loss: 0.1364 - accuracy: 0.9584 - val_loss: 0.5101 - val_accuracy: 0.8749\n",
            "Epoch 41/100\n",
            "125/125 [==============================] - 4s 35ms/step - loss: 0.1323 - accuracy: 0.9593 - val_loss: 0.5112 - val_accuracy: 0.8757\n",
            "Epoch 42/100\n",
            "125/125 [==============================] - 5s 37ms/step - loss: 0.1287 - accuracy: 0.9608 - val_loss: 0.5257 - val_accuracy: 0.8728\n",
            "Epoch 43/100\n",
            "125/125 [==============================] - 4s 34ms/step - loss: 0.1246 - accuracy: 0.9615 - val_loss: 0.5265 - val_accuracy: 0.8748\n",
            "Epoch 44/100\n",
            "125/125 [==============================] - 4s 34ms/step - loss: 0.1220 - accuracy: 0.9627 - val_loss: 0.5352 - val_accuracy: 0.8736\n",
            "Epoch 45/100\n",
            "125/125 [==============================] - 4s 35ms/step - loss: 0.1182 - accuracy: 0.9639 - val_loss: 0.5347 - val_accuracy: 0.8742\n",
            "Epoch 46/100\n",
            "125/125 [==============================] - 4s 35ms/step - loss: 0.1156 - accuracy: 0.9643 - val_loss: 0.5399 - val_accuracy: 0.8751\n",
            "Epoch 47/100\n",
            "125/125 [==============================] - 4s 34ms/step - loss: 0.1119 - accuracy: 0.9654 - val_loss: 0.5477 - val_accuracy: 0.8739\n",
            "Epoch 48/100\n",
            "125/125 [==============================] - 4s 35ms/step - loss: 0.1090 - accuracy: 0.9666 - val_loss: 0.5493 - val_accuracy: 0.8737\n",
            "Epoch 49/100\n",
            "125/125 [==============================] - 4s 35ms/step - loss: 0.1059 - accuracy: 0.9673 - val_loss: 0.5543 - val_accuracy: 0.8744\n",
            "Epoch 50/100\n",
            "125/125 [==============================] - 4s 35ms/step - loss: 0.1023 - accuracy: 0.9684 - val_loss: 0.5691 - val_accuracy: 0.8725\n",
            "Epoch 51/100\n",
            "125/125 [==============================] - 4s 35ms/step - loss: 0.1010 - accuracy: 0.9686 - val_loss: 0.5660 - val_accuracy: 0.8733\n",
            "Epoch 52/100\n",
            "125/125 [==============================] - 4s 35ms/step - loss: 0.0980 - accuracy: 0.9696 - val_loss: 0.5705 - val_accuracy: 0.8737\n",
            "Epoch 53/100\n",
            "125/125 [==============================] - 4s 35ms/step - loss: 0.0957 - accuracy: 0.9704 - val_loss: 0.5779 - val_accuracy: 0.8721\n",
            "Epoch 54/100\n",
            "125/125 [==============================] - 4s 35ms/step - loss: 0.0930 - accuracy: 0.9710 - val_loss: 0.5851 - val_accuracy: 0.8730\n",
            "Epoch 55/100\n",
            "125/125 [==============================] - 4s 35ms/step - loss: 0.0912 - accuracy: 0.9718 - val_loss: 0.5881 - val_accuracy: 0.8724\n",
            "Epoch 56/100\n",
            "125/125 [==============================] - 4s 35ms/step - loss: 0.0874 - accuracy: 0.9727 - val_loss: 0.5941 - val_accuracy: 0.8721\n",
            "Epoch 57/100\n",
            "125/125 [==============================] - 4s 34ms/step - loss: 0.0860 - accuracy: 0.9730 - val_loss: 0.5980 - val_accuracy: 0.8730\n",
            "Epoch 58/100\n",
            "125/125 [==============================] - 4s 34ms/step - loss: 0.0841 - accuracy: 0.9736 - val_loss: 0.6038 - val_accuracy: 0.8728\n",
            "Epoch 59/100\n",
            "125/125 [==============================] - 4s 34ms/step - loss: 0.0814 - accuracy: 0.9742 - val_loss: 0.6043 - val_accuracy: 0.8727\n",
            "Epoch 60/100\n",
            "125/125 [==============================] - 4s 35ms/step - loss: 0.0798 - accuracy: 0.9748 - val_loss: 0.6104 - val_accuracy: 0.8718\n",
            "Epoch 61/100\n",
            "125/125 [==============================] - 4s 35ms/step - loss: 0.0784 - accuracy: 0.9752 - val_loss: 0.6166 - val_accuracy: 0.8728\n",
            "Epoch 62/100\n",
            "125/125 [==============================] - 4s 34ms/step - loss: 0.0758 - accuracy: 0.9757 - val_loss: 0.6270 - val_accuracy: 0.8722\n",
            "Epoch 63/100\n",
            "125/125 [==============================] - 4s 35ms/step - loss: 0.0749 - accuracy: 0.9760 - val_loss: 0.6267 - val_accuracy: 0.8727\n",
            "Epoch 64/100\n",
            "125/125 [==============================] - 4s 35ms/step - loss: 0.0724 - accuracy: 0.9768 - val_loss: 0.6300 - val_accuracy: 0.8732\n",
            "Epoch 65/100\n",
            "125/125 [==============================] - 4s 35ms/step - loss: 0.0714 - accuracy: 0.9773 - val_loss: 0.6399 - val_accuracy: 0.8714\n",
            "Epoch 66/100\n",
            "125/125 [==============================] - 4s 35ms/step - loss: 0.0697 - accuracy: 0.9777 - val_loss: 0.6379 - val_accuracy: 0.8722\n",
            "Epoch 67/100\n",
            "125/125 [==============================] - 4s 35ms/step - loss: 0.0696 - accuracy: 0.9775 - val_loss: 0.6417 - val_accuracy: 0.8720\n",
            "Epoch 68/100\n",
            "125/125 [==============================] - 4s 35ms/step - loss: 0.0661 - accuracy: 0.9787 - val_loss: 0.6500 - val_accuracy: 0.8715\n",
            "Epoch 69/100\n",
            "125/125 [==============================] - 4s 35ms/step - loss: 0.0649 - accuracy: 0.9788 - val_loss: 0.6573 - val_accuracy: 0.8713\n",
            "Epoch 70/100\n",
            "125/125 [==============================] - 4s 35ms/step - loss: 0.0647 - accuracy: 0.9790 - val_loss: 0.6592 - val_accuracy: 0.8715\n",
            "Epoch 71/100\n",
            "125/125 [==============================] - 4s 35ms/step - loss: 0.0632 - accuracy: 0.9792 - val_loss: 0.6646 - val_accuracy: 0.8709\n",
            "Epoch 72/100\n",
            "125/125 [==============================] - 4s 35ms/step - loss: 0.0614 - accuracy: 0.9800 - val_loss: 0.6707 - val_accuracy: 0.8719\n",
            "Epoch 73/100\n",
            "125/125 [==============================] - 4s 35ms/step - loss: 0.0604 - accuracy: 0.9801 - val_loss: 0.6772 - val_accuracy: 0.8710\n",
            "Epoch 74/100\n",
            "125/125 [==============================] - 4s 34ms/step - loss: 0.0595 - accuracy: 0.9807 - val_loss: 0.6842 - val_accuracy: 0.8717\n",
            "Epoch 75/100\n",
            "125/125 [==============================] - 4s 35ms/step - loss: 0.0584 - accuracy: 0.9809 - val_loss: 0.6823 - val_accuracy: 0.8708\n",
            "Epoch 76/100\n",
            "125/125 [==============================] - 4s 35ms/step - loss: 0.0570 - accuracy: 0.9813 - val_loss: 0.6907 - val_accuracy: 0.8708\n",
            "Epoch 77/100\n",
            "125/125 [==============================] - 4s 35ms/step - loss: 0.0557 - accuracy: 0.9818 - val_loss: 0.6921 - val_accuracy: 0.8715\n",
            "Epoch 78/100\n",
            "125/125 [==============================] - 4s 35ms/step - loss: 0.0546 - accuracy: 0.9818 - val_loss: 0.6992 - val_accuracy: 0.8698\n",
            "Epoch 79/100\n",
            "125/125 [==============================] - 4s 35ms/step - loss: 0.0540 - accuracy: 0.9819 - val_loss: 0.7068 - val_accuracy: 0.8703\n",
            "Epoch 80/100\n",
            "125/125 [==============================] - 4s 35ms/step - loss: 0.0530 - accuracy: 0.9821 - val_loss: 0.7112 - val_accuracy: 0.8704\n",
            "Epoch 81/100\n",
            "125/125 [==============================] - 4s 35ms/step - loss: 0.0524 - accuracy: 0.9825 - val_loss: 0.7102 - val_accuracy: 0.8708\n",
            "Epoch 82/100\n",
            "125/125 [==============================] - 4s 35ms/step - loss: 0.0512 - accuracy: 0.9827 - val_loss: 0.7107 - val_accuracy: 0.8710\n",
            "Epoch 83/100\n",
            "125/125 [==============================] - 4s 35ms/step - loss: 0.0505 - accuracy: 0.9831 - val_loss: 0.7187 - val_accuracy: 0.8701\n",
            "Epoch 84/100\n",
            "125/125 [==============================] - 4s 35ms/step - loss: 0.0496 - accuracy: 0.9834 - val_loss: 0.7242 - val_accuracy: 0.8710\n",
            "Epoch 85/100\n",
            "125/125 [==============================] - 4s 35ms/step - loss: 0.0482 - accuracy: 0.9836 - val_loss: 0.7280 - val_accuracy: 0.8704\n",
            "Epoch 86/100\n",
            "125/125 [==============================] - 4s 35ms/step - loss: 0.0484 - accuracy: 0.9837 - val_loss: 0.7288 - val_accuracy: 0.8705\n",
            "Epoch 87/100\n",
            "125/125 [==============================] - 4s 35ms/step - loss: 0.0475 - accuracy: 0.9838 - val_loss: 0.7359 - val_accuracy: 0.8703\n",
            "Epoch 88/100\n",
            "125/125 [==============================] - 4s 35ms/step - loss: 0.0466 - accuracy: 0.9838 - val_loss: 0.7358 - val_accuracy: 0.8702\n",
            "Epoch 89/100\n",
            "125/125 [==============================] - 4s 35ms/step - loss: 0.0459 - accuracy: 0.9844 - val_loss: 0.7430 - val_accuracy: 0.8697\n",
            "Epoch 90/100\n",
            "125/125 [==============================] - 4s 35ms/step - loss: 0.0454 - accuracy: 0.9843 - val_loss: 0.7392 - val_accuracy: 0.8703\n",
            "Epoch 91/100\n",
            "125/125 [==============================] - 4s 35ms/step - loss: 0.0446 - accuracy: 0.9847 - val_loss: 0.7505 - val_accuracy: 0.8696\n",
            "Epoch 92/100\n",
            "125/125 [==============================] - 4s 35ms/step - loss: 0.0442 - accuracy: 0.9846 - val_loss: 0.7455 - val_accuracy: 0.8706\n",
            "Epoch 93/100\n",
            "125/125 [==============================] - 4s 35ms/step - loss: 0.0435 - accuracy: 0.9851 - val_loss: 0.7521 - val_accuracy: 0.8700\n",
            "Epoch 94/100\n",
            "125/125 [==============================] - 4s 35ms/step - loss: 0.0428 - accuracy: 0.9852 - val_loss: 0.7568 - val_accuracy: 0.8692\n",
            "Epoch 95/100\n",
            "125/125 [==============================] - 4s 35ms/step - loss: 0.0424 - accuracy: 0.9852 - val_loss: 0.7471 - val_accuracy: 0.8710\n",
            "Epoch 96/100\n",
            "125/125 [==============================] - 4s 35ms/step - loss: 0.0406 - accuracy: 0.9858 - val_loss: 0.7594 - val_accuracy: 0.8698\n",
            "Epoch 97/100\n",
            "125/125 [==============================] - 4s 35ms/step - loss: 0.0414 - accuracy: 0.9857 - val_loss: 0.7627 - val_accuracy: 0.8695\n",
            "Epoch 98/100\n",
            "125/125 [==============================] - 4s 35ms/step - loss: 0.0404 - accuracy: 0.9858 - val_loss: 0.7648 - val_accuracy: 0.8708\n",
            "Epoch 99/100\n",
            "125/125 [==============================] - 4s 35ms/step - loss: 0.0399 - accuracy: 0.9859 - val_loss: 0.7662 - val_accuracy: 0.8699\n",
            "Epoch 100/100\n",
            "125/125 [==============================] - 4s 35ms/step - loss: 0.0400 - accuracy: 0.9858 - val_loss: 0.7670 - val_accuracy: 0.8715\n"
          ],
          "name": "stdout"
        },
        {
          "output_type": "execute_result",
          "data": {
            "text/plain": [
              "<keras.callbacks.History at 0x7f1900171750>"
            ]
          },
          "metadata": {
            "tags": []
          },
          "execution_count": 20
        }
      ]
    },
    {
      "cell_type": "code",
      "metadata": {
        "id": "83vzLowo5cg9"
      },
      "source": [
        "# Save model\n",
        "model.save('seq2seq.h5')"
      ],
      "execution_count": 21,
      "outputs": []
    },
    {
      "cell_type": "markdown",
      "metadata": {
        "id": "wFHZpQfxgwrW"
      },
      "source": [
        "# Inference"
      ]
    },
    {
      "cell_type": "code",
      "metadata": {
        "id": "JJGHwUWw-D5-"
      },
      "source": [
        "# Here's the drill:\n",
        "# 1) encode input and retrieve initial decoder state\n",
        "# 2) run one step of decoder with this initial state and a \"start of sequence\" token as target. Output will be the next target token\n",
        "# 3) Repeat with the current target token and current states\n",
        "\n",
        "# Define sampling models\n",
        "encoder_model = Model(encoder_inputs, encoder_states)\n",
        "\n",
        "decoder_state_input_h = Input(shape=(latent_dim,))\n",
        "decoder_state_input_c = Input(shape=(latent_dim,))\n",
        "decoder_states_inputs = [decoder_state_input_h, decoder_state_input_c]\n",
        "decoder_outputs, state_h, state_c = decoder_lstm(\n",
        "    decoder_inputs, initial_state=decoder_states_inputs)\n",
        "decoder_states = [state_h, state_c]\n",
        "decoder_outputs = decoder_dense(decoder_outputs)\n",
        "decoder_model = Model(\n",
        "    [decoder_inputs] + decoder_states_inputs,\n",
        "    [decoder_outputs] + decoder_states)"
      ],
      "execution_count": 22,
      "outputs": []
    },
    {
      "cell_type": "code",
      "metadata": {
        "id": "ZayLsiX--cV9"
      },
      "source": [
        "# Reverse-lookup token index to decode sequences back to something readable.\n",
        "reverse_input_char_index = dict(\n",
        "    (i, char) for char, i in input_token_index.items())\n",
        "reverse_target_char_index = dict(\n",
        "    (i, char) for char, i in target_token_index.items())"
      ],
      "execution_count": 23,
      "outputs": []
    },
    {
      "cell_type": "code",
      "metadata": {
        "id": "qNdQKcxO-h3O"
      },
      "source": [
        "def decode_sequence(input_seq):\n",
        "    # Encode the input as state vectors.\n",
        "    states_value = encoder_model.predict(input_seq)\n",
        "\n",
        "    # Generate empty target sequence of length 1.\n",
        "    target_seq = np.zeros((1, 1, num_decoder_tokens))\n",
        "    # Populate the first character of target sequence with the start character.\n",
        "    target_seq[0, 0, target_token_index['\\t']] = 1.\n",
        "\n",
        "    # Sampling loop for a batch of sequences\n",
        "    # (to simplify, here we assume a batch of size 1).\n",
        "    stop_condition = False\n",
        "    decoded_sentence = ''\n",
        "    while not stop_condition:\n",
        "        output_tokens, h, c = decoder_model.predict(\n",
        "            [target_seq] + states_value)\n",
        "\n",
        "        # Sample a token\n",
        "        sampled_token_index = np.argmax(output_tokens[0, -1, :])\n",
        "        sampled_char = reverse_target_char_index[sampled_token_index]\n",
        "        decoded_sentence += sampled_char\n",
        "\n",
        "        # Exit condition: either hit max length\n",
        "        # or find stop character.\n",
        "        if (sampled_char == '\\n' or\n",
        "           len(decoded_sentence) > max_decoder_seq_length):\n",
        "            stop_condition = True\n",
        "\n",
        "        # Update the target sequence (of length 1).\n",
        "        target_seq = np.zeros((1, 1, num_decoder_tokens))\n",
        "        target_seq[0, 0, sampled_token_index] = 1.\n",
        "\n",
        "        # Update states\n",
        "        states_value = [h, c]\n",
        "\n",
        "    return decoded_sentence"
      ],
      "execution_count": 24,
      "outputs": []
    },
    {
      "cell_type": "code",
      "metadata": {
        "colab": {
          "base_uri": "https://localhost:8080/"
        },
        "id": "kLwydbxX-vPw",
        "outputId": "ad6d9331-3d67-4e5c-9649-34ce3b0823b7"
      },
      "source": [
        "for seq_index in range(50):\n",
        "    # Take one sequence (I'll take part of the training set for now) for trying out decoding.\n",
        "    # If you want to give any new sentence, you'll first have to encode it.\n",
        "    input_seq = encoder_input_data[seq_index: seq_index + 1]\n",
        "    decoded_sentence = decode_sequence(input_seq)\n",
        "    print('-')\n",
        "    print('Input sentence:', input_texts[seq_index])\n",
        "    print('Decoded sentence:', decoded_sentence)"
      ],
      "execution_count": 25,
      "outputs": [
        {
          "output_type": "stream",
          "text": [
            "-\n",
            "Input sentence: Go.\n",
            "Decoded sentence: Va !\n",
            "\n",
            "-\n",
            "Input sentence: Go.\n",
            "Decoded sentence: Va !\n",
            "\n",
            "-\n",
            "Input sentence: Go.\n",
            "Decoded sentence: Va !\n",
            "\n",
            "-\n",
            "Input sentence: Hi.\n",
            "Decoded sentence: Salut.\n",
            "\n",
            "-\n",
            "Input sentence: Hi.\n",
            "Decoded sentence: Salut.\n",
            "\n",
            "-\n",
            "Input sentence: Run!\n",
            "Decoded sentence: File !\n",
            "\n",
            "-\n",
            "Input sentence: Run!\n",
            "Decoded sentence: File !\n",
            "\n",
            "-\n",
            "Input sentence: Run!\n",
            "Decoded sentence: File !\n",
            "\n",
            "-\n",
            "Input sentence: Run!\n",
            "Decoded sentence: File !\n",
            "\n",
            "-\n",
            "Input sentence: Run!\n",
            "Decoded sentence: File !\n",
            "\n",
            "-\n",
            "Input sentence: Run!\n",
            "Decoded sentence: File !\n",
            "\n",
            "-\n",
            "Input sentence: Run!\n",
            "Decoded sentence: File !\n",
            "\n",
            "-\n",
            "Input sentence: Run!\n",
            "Decoded sentence: File !\n",
            "\n",
            "-\n",
            "Input sentence: Run.\n",
            "Decoded sentence: Filez !\n",
            "\n",
            "-\n",
            "Input sentence: Run.\n",
            "Decoded sentence: Filez !\n",
            "\n",
            "-\n",
            "Input sentence: Run.\n",
            "Decoded sentence: Filez !\n",
            "\n",
            "-\n",
            "Input sentence: Run.\n",
            "Decoded sentence: Filez !\n",
            "\n",
            "-\n",
            "Input sentence: Run.\n",
            "Decoded sentence: Filez !\n",
            "\n",
            "-\n",
            "Input sentence: Run.\n",
            "Decoded sentence: Filez !\n",
            "\n",
            "-\n",
            "Input sentence: Run.\n",
            "Decoded sentence: Filez !\n",
            "\n",
            "-\n",
            "Input sentence: Run.\n",
            "Decoded sentence: Filez !\n",
            "\n",
            "-\n",
            "Input sentence: Who?\n",
            "Decoded sentence: Qui ?\n",
            "\n",
            "-\n",
            "Input sentence: Wow!\n",
            "Decoded sentence: Ça alors !\n",
            "\n",
            "-\n",
            "Input sentence: Fire!\n",
            "Decoded sentence: Au feu !\n",
            "\n",
            "-\n",
            "Input sentence: Help!\n",
            "Decoded sentence: À l'aide !\n",
            "\n",
            "-\n",
            "Input sentence: Jump!\n",
            "Decoded sentence: Saute.\n",
            "\n",
            "-\n",
            "Input sentence: Jump.\n",
            "Decoded sentence: Saute.\n",
            "\n",
            "-\n",
            "Input sentence: Stop!\n",
            "Decoded sentence: Sropf !\n",
            "\n",
            "-\n",
            "Input sentence: Stop!\n",
            "Decoded sentence: Sropf !\n",
            "\n",
            "-\n",
            "Input sentence: Stop!\n",
            "Decoded sentence: Sropf !\n",
            "\n",
            "-\n",
            "Input sentence: Wait!\n",
            "Decoded sentence: Attendez !\n",
            "\n",
            "-\n",
            "Input sentence: Wait!\n",
            "Decoded sentence: Attendez !\n",
            "\n",
            "-\n",
            "Input sentence: Wait!\n",
            "Decoded sentence: Attendez !\n",
            "\n",
            "-\n",
            "Input sentence: Wait.\n",
            "Decoded sentence: Attendez !\n",
            "\n",
            "-\n",
            "Input sentence: Wait.\n",
            "Decoded sentence: Attendez !\n",
            "\n",
            "-\n",
            "Input sentence: Wait.\n",
            "Decoded sentence: Attendez !\n",
            "\n",
            "-\n",
            "Input sentence: Wait.\n",
            "Decoded sentence: Attendez !\n",
            "\n",
            "-\n",
            "Input sentence: Begin.\n",
            "Decoded sentence: Commencez.\n",
            "\n",
            "-\n",
            "Input sentence: Begin.\n",
            "Decoded sentence: Commencez.\n",
            "\n",
            "-\n",
            "Input sentence: Go on.\n",
            "Decoded sentence: Poursuis.\n",
            "\n",
            "-\n",
            "Input sentence: Go on.\n",
            "Decoded sentence: Poursuis.\n",
            "\n",
            "-\n",
            "Input sentence: Go on.\n",
            "Decoded sentence: Poursuis.\n",
            "\n",
            "-\n",
            "Input sentence: Hello!\n",
            "Decoded sentence: Bonjour !\n",
            "\n",
            "-\n",
            "Input sentence: Hello!\n",
            "Decoded sentence: Bonjour !\n",
            "\n",
            "-\n",
            "Input sentence: I see.\n",
            "Decoded sentence: Je comprends.\n",
            "\n",
            "-\n",
            "Input sentence: I see.\n",
            "Decoded sentence: Je comprends.\n",
            "\n",
            "-\n",
            "Input sentence: I try.\n",
            "Decoded sentence: J'essaye.\n",
            "\n",
            "-\n",
            "Input sentence: I won!\n",
            "Decoded sentence: Je l'ai emporté.\n",
            "\n",
            "-\n",
            "Input sentence: I won!\n",
            "Decoded sentence: Je l'ai emporté.\n",
            "\n",
            "-\n",
            "Input sentence: I won.\n",
            "Decoded sentence: J’ai gagné.\n",
            "\n"
          ],
          "name": "stdout"
        }
      ]
    }
  ]
}