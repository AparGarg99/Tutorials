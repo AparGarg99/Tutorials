{
  "nbformat": 4,
  "nbformat_minor": 0,
  "metadata": {
    "colab": {
      "name": "Tensorflow Sentiment Analysis",
      "provenance": []
    },
    "kernelspec": {
      "name": "python3",
      "display_name": "Python 3"
    },
    "accelerator": "GPU",
    "widgets": {
      "application/vnd.jupyter.widget-state+json": {
        "0fb6c5c249e0486b961ad30b9b326abd": {
          "model_module": "@jupyter-widgets/controls",
          "model_name": "HBoxModel",
          "state": {
            "_view_name": "HBoxView",
            "_dom_classes": [],
            "_model_name": "HBoxModel",
            "_view_module": "@jupyter-widgets/controls",
            "_model_module_version": "1.5.0",
            "_view_count": null,
            "_view_module_version": "1.5.0",
            "box_style": "",
            "layout": "IPY_MODEL_e4d10574c0fa4c56b3b57c3da7968832",
            "_model_module": "@jupyter-widgets/controls",
            "children": [
              "IPY_MODEL_d28714657b1d4f44a4dfc0dca60d320e",
              "IPY_MODEL_8223011bb5fe44de93ce5881cab6a681"
            ]
          }
        },
        "e4d10574c0fa4c56b3b57c3da7968832": {
          "model_module": "@jupyter-widgets/base",
          "model_name": "LayoutModel",
          "state": {
            "_view_name": "LayoutView",
            "grid_template_rows": null,
            "right": null,
            "justify_content": null,
            "_view_module": "@jupyter-widgets/base",
            "overflow": null,
            "_model_module_version": "1.2.0",
            "_view_count": null,
            "flex_flow": null,
            "width": null,
            "min_width": null,
            "border": null,
            "align_items": null,
            "bottom": null,
            "_model_module": "@jupyter-widgets/base",
            "top": null,
            "grid_column": null,
            "overflow_y": null,
            "overflow_x": null,
            "grid_auto_flow": null,
            "grid_area": null,
            "grid_template_columns": null,
            "flex": null,
            "_model_name": "LayoutModel",
            "justify_items": null,
            "grid_row": null,
            "max_height": null,
            "align_content": null,
            "visibility": null,
            "align_self": null,
            "height": null,
            "min_height": null,
            "padding": null,
            "grid_auto_rows": null,
            "grid_gap": null,
            "max_width": null,
            "order": null,
            "_view_module_version": "1.2.0",
            "grid_template_areas": null,
            "object_position": null,
            "object_fit": null,
            "grid_auto_columns": null,
            "margin": null,
            "display": null,
            "left": null
          }
        },
        "d28714657b1d4f44a4dfc0dca60d320e": {
          "model_module": "@jupyter-widgets/controls",
          "model_name": "FloatProgressModel",
          "state": {
            "_view_name": "ProgressView",
            "style": "IPY_MODEL_d862994d55f54852afdaac85c1fb0206",
            "_dom_classes": [],
            "description": "Dl Completed...: 100%",
            "_model_name": "FloatProgressModel",
            "bar_style": "success",
            "max": 1,
            "_view_module": "@jupyter-widgets/controls",
            "_model_module_version": "1.5.0",
            "value": 1,
            "_view_count": null,
            "_view_module_version": "1.5.0",
            "orientation": "horizontal",
            "min": 0,
            "description_tooltip": null,
            "_model_module": "@jupyter-widgets/controls",
            "layout": "IPY_MODEL_4e4e0e2352ee4a4d81c72186631603e5"
          }
        },
        "8223011bb5fe44de93ce5881cab6a681": {
          "model_module": "@jupyter-widgets/controls",
          "model_name": "HTMLModel",
          "state": {
            "_view_name": "HTMLView",
            "style": "IPY_MODEL_5a9ba54079354ee081d53b9efed2ebe1",
            "_dom_classes": [],
            "description": "",
            "_model_name": "HTMLModel",
            "placeholder": "​",
            "_view_module": "@jupyter-widgets/controls",
            "_model_module_version": "1.5.0",
            "value": " 1/1 [00:01&lt;00:00,  1.51s/ url]",
            "_view_count": null,
            "_view_module_version": "1.5.0",
            "description_tooltip": null,
            "_model_module": "@jupyter-widgets/controls",
            "layout": "IPY_MODEL_764cbb372a7f4726ace82f00c43a384b"
          }
        },
        "d862994d55f54852afdaac85c1fb0206": {
          "model_module": "@jupyter-widgets/controls",
          "model_name": "ProgressStyleModel",
          "state": {
            "_view_name": "StyleView",
            "_model_name": "ProgressStyleModel",
            "description_width": "initial",
            "_view_module": "@jupyter-widgets/base",
            "_model_module_version": "1.5.0",
            "_view_count": null,
            "_view_module_version": "1.2.0",
            "bar_color": null,
            "_model_module": "@jupyter-widgets/controls"
          }
        },
        "4e4e0e2352ee4a4d81c72186631603e5": {
          "model_module": "@jupyter-widgets/base",
          "model_name": "LayoutModel",
          "state": {
            "_view_name": "LayoutView",
            "grid_template_rows": null,
            "right": null,
            "justify_content": null,
            "_view_module": "@jupyter-widgets/base",
            "overflow": null,
            "_model_module_version": "1.2.0",
            "_view_count": null,
            "flex_flow": null,
            "width": null,
            "min_width": null,
            "border": null,
            "align_items": null,
            "bottom": null,
            "_model_module": "@jupyter-widgets/base",
            "top": null,
            "grid_column": null,
            "overflow_y": null,
            "overflow_x": null,
            "grid_auto_flow": null,
            "grid_area": null,
            "grid_template_columns": null,
            "flex": null,
            "_model_name": "LayoutModel",
            "justify_items": null,
            "grid_row": null,
            "max_height": null,
            "align_content": null,
            "visibility": null,
            "align_self": null,
            "height": null,
            "min_height": null,
            "padding": null,
            "grid_auto_rows": null,
            "grid_gap": null,
            "max_width": null,
            "order": null,
            "_view_module_version": "1.2.0",
            "grid_template_areas": null,
            "object_position": null,
            "object_fit": null,
            "grid_auto_columns": null,
            "margin": null,
            "display": null,
            "left": null
          }
        },
        "5a9ba54079354ee081d53b9efed2ebe1": {
          "model_module": "@jupyter-widgets/controls",
          "model_name": "DescriptionStyleModel",
          "state": {
            "_view_name": "StyleView",
            "_model_name": "DescriptionStyleModel",
            "description_width": "",
            "_view_module": "@jupyter-widgets/base",
            "_model_module_version": "1.5.0",
            "_view_count": null,
            "_view_module_version": "1.2.0",
            "_model_module": "@jupyter-widgets/controls"
          }
        },
        "764cbb372a7f4726ace82f00c43a384b": {
          "model_module": "@jupyter-widgets/base",
          "model_name": "LayoutModel",
          "state": {
            "_view_name": "LayoutView",
            "grid_template_rows": null,
            "right": null,
            "justify_content": null,
            "_view_module": "@jupyter-widgets/base",
            "overflow": null,
            "_model_module_version": "1.2.0",
            "_view_count": null,
            "flex_flow": null,
            "width": null,
            "min_width": null,
            "border": null,
            "align_items": null,
            "bottom": null,
            "_model_module": "@jupyter-widgets/base",
            "top": null,
            "grid_column": null,
            "overflow_y": null,
            "overflow_x": null,
            "grid_auto_flow": null,
            "grid_area": null,
            "grid_template_columns": null,
            "flex": null,
            "_model_name": "LayoutModel",
            "justify_items": null,
            "grid_row": null,
            "max_height": null,
            "align_content": null,
            "visibility": null,
            "align_self": null,
            "height": null,
            "min_height": null,
            "padding": null,
            "grid_auto_rows": null,
            "grid_gap": null,
            "max_width": null,
            "order": null,
            "_view_module_version": "1.2.0",
            "grid_template_areas": null,
            "object_position": null,
            "object_fit": null,
            "grid_auto_columns": null,
            "margin": null,
            "display": null,
            "left": null
          }
        },
        "edfd7f6c2d7f4fe1906e3e39caceb38e": {
          "model_module": "@jupyter-widgets/controls",
          "model_name": "HBoxModel",
          "state": {
            "_view_name": "HBoxView",
            "_dom_classes": [],
            "_model_name": "HBoxModel",
            "_view_module": "@jupyter-widgets/controls",
            "_model_module_version": "1.5.0",
            "_view_count": null,
            "_view_module_version": "1.5.0",
            "box_style": "",
            "layout": "IPY_MODEL_40062fa3de3b4d46b1086112684bd492",
            "_model_module": "@jupyter-widgets/controls",
            "children": [
              "IPY_MODEL_310f5862c6894d3eada511d11188d697",
              "IPY_MODEL_98b7543320264fe6aae10e6e621dd6c2"
            ]
          }
        },
        "40062fa3de3b4d46b1086112684bd492": {
          "model_module": "@jupyter-widgets/base",
          "model_name": "LayoutModel",
          "state": {
            "_view_name": "LayoutView",
            "grid_template_rows": null,
            "right": null,
            "justify_content": null,
            "_view_module": "@jupyter-widgets/base",
            "overflow": null,
            "_model_module_version": "1.2.0",
            "_view_count": null,
            "flex_flow": null,
            "width": null,
            "min_width": null,
            "border": null,
            "align_items": null,
            "bottom": null,
            "_model_module": "@jupyter-widgets/base",
            "top": null,
            "grid_column": null,
            "overflow_y": null,
            "overflow_x": null,
            "grid_auto_flow": null,
            "grid_area": null,
            "grid_template_columns": null,
            "flex": null,
            "_model_name": "LayoutModel",
            "justify_items": null,
            "grid_row": null,
            "max_height": null,
            "align_content": null,
            "visibility": null,
            "align_self": null,
            "height": null,
            "min_height": null,
            "padding": null,
            "grid_auto_rows": null,
            "grid_gap": null,
            "max_width": null,
            "order": null,
            "_view_module_version": "1.2.0",
            "grid_template_areas": null,
            "object_position": null,
            "object_fit": null,
            "grid_auto_columns": null,
            "margin": null,
            "display": null,
            "left": null
          }
        },
        "310f5862c6894d3eada511d11188d697": {
          "model_module": "@jupyter-widgets/controls",
          "model_name": "FloatProgressModel",
          "state": {
            "_view_name": "ProgressView",
            "style": "IPY_MODEL_a95a61871c8149a8b37d7ecbdd5d75af",
            "_dom_classes": [],
            "description": "Dl Size...: 100%",
            "_model_name": "FloatProgressModel",
            "bar_style": "success",
            "max": 1,
            "_view_module": "@jupyter-widgets/controls",
            "_model_module_version": "1.5.0",
            "value": 1,
            "_view_count": null,
            "_view_module_version": "1.5.0",
            "orientation": "horizontal",
            "min": 0,
            "description_tooltip": null,
            "_model_module": "@jupyter-widgets/controls",
            "layout": "IPY_MODEL_b2a2925eb2e04027b57cc6499adc0621"
          }
        },
        "98b7543320264fe6aae10e6e621dd6c2": {
          "model_module": "@jupyter-widgets/controls",
          "model_name": "HTMLModel",
          "state": {
            "_view_name": "HTMLView",
            "style": "IPY_MODEL_d909d4bc1fd449c7aaadad16ca709f2c",
            "_dom_classes": [],
            "description": "",
            "_model_name": "HTMLModel",
            "placeholder": "​",
            "_view_module": "@jupyter-widgets/controls",
            "_model_module_version": "1.5.0",
            "value": " 21/21 [00:01&lt;00:00, 14.37 MiB/s]",
            "_view_count": null,
            "_view_module_version": "1.5.0",
            "description_tooltip": null,
            "_model_module": "@jupyter-widgets/controls",
            "layout": "IPY_MODEL_efe294f7f7ec40e98a1554cce8c66358"
          }
        },
        "a95a61871c8149a8b37d7ecbdd5d75af": {
          "model_module": "@jupyter-widgets/controls",
          "model_name": "ProgressStyleModel",
          "state": {
            "_view_name": "StyleView",
            "_model_name": "ProgressStyleModel",
            "description_width": "initial",
            "_view_module": "@jupyter-widgets/base",
            "_model_module_version": "1.5.0",
            "_view_count": null,
            "_view_module_version": "1.2.0",
            "bar_color": null,
            "_model_module": "@jupyter-widgets/controls"
          }
        },
        "b2a2925eb2e04027b57cc6499adc0621": {
          "model_module": "@jupyter-widgets/base",
          "model_name": "LayoutModel",
          "state": {
            "_view_name": "LayoutView",
            "grid_template_rows": null,
            "right": null,
            "justify_content": null,
            "_view_module": "@jupyter-widgets/base",
            "overflow": null,
            "_model_module_version": "1.2.0",
            "_view_count": null,
            "flex_flow": null,
            "width": null,
            "min_width": null,
            "border": null,
            "align_items": null,
            "bottom": null,
            "_model_module": "@jupyter-widgets/base",
            "top": null,
            "grid_column": null,
            "overflow_y": null,
            "overflow_x": null,
            "grid_auto_flow": null,
            "grid_area": null,
            "grid_template_columns": null,
            "flex": null,
            "_model_name": "LayoutModel",
            "justify_items": null,
            "grid_row": null,
            "max_height": null,
            "align_content": null,
            "visibility": null,
            "align_self": null,
            "height": null,
            "min_height": null,
            "padding": null,
            "grid_auto_rows": null,
            "grid_gap": null,
            "max_width": null,
            "order": null,
            "_view_module_version": "1.2.0",
            "grid_template_areas": null,
            "object_position": null,
            "object_fit": null,
            "grid_auto_columns": null,
            "margin": null,
            "display": null,
            "left": null
          }
        },
        "d909d4bc1fd449c7aaadad16ca709f2c": {
          "model_module": "@jupyter-widgets/controls",
          "model_name": "DescriptionStyleModel",
          "state": {
            "_view_name": "StyleView",
            "_model_name": "DescriptionStyleModel",
            "description_width": "",
            "_view_module": "@jupyter-widgets/base",
            "_model_module_version": "1.5.0",
            "_view_count": null,
            "_view_module_version": "1.2.0",
            "_model_module": "@jupyter-widgets/controls"
          }
        },
        "efe294f7f7ec40e98a1554cce8c66358": {
          "model_module": "@jupyter-widgets/base",
          "model_name": "LayoutModel",
          "state": {
            "_view_name": "LayoutView",
            "grid_template_rows": null,
            "right": null,
            "justify_content": null,
            "_view_module": "@jupyter-widgets/base",
            "overflow": null,
            "_model_module_version": "1.2.0",
            "_view_count": null,
            "flex_flow": null,
            "width": null,
            "min_width": null,
            "border": null,
            "align_items": null,
            "bottom": null,
            "_model_module": "@jupyter-widgets/base",
            "top": null,
            "grid_column": null,
            "overflow_y": null,
            "overflow_x": null,
            "grid_auto_flow": null,
            "grid_area": null,
            "grid_template_columns": null,
            "flex": null,
            "_model_name": "LayoutModel",
            "justify_items": null,
            "grid_row": null,
            "max_height": null,
            "align_content": null,
            "visibility": null,
            "align_self": null,
            "height": null,
            "min_height": null,
            "padding": null,
            "grid_auto_rows": null,
            "grid_gap": null,
            "max_width": null,
            "order": null,
            "_view_module_version": "1.2.0",
            "grid_template_areas": null,
            "object_position": null,
            "object_fit": null,
            "grid_auto_columns": null,
            "margin": null,
            "display": null,
            "left": null
          }
        },
        "abc1f2f5b45f4f5aa12829912c23707a": {
          "model_module": "@jupyter-widgets/controls",
          "model_name": "HBoxModel",
          "state": {
            "_view_name": "HBoxView",
            "_dom_classes": [],
            "_model_name": "HBoxModel",
            "_view_module": "@jupyter-widgets/controls",
            "_model_module_version": "1.5.0",
            "_view_count": null,
            "_view_module_version": "1.5.0",
            "box_style": "",
            "layout": "IPY_MODEL_0e064ba25074419d9fe7b5313b318121",
            "_model_module": "@jupyter-widgets/controls",
            "children": [
              "IPY_MODEL_49d3541420e942d0b0b332b0f7a7cb1c",
              "IPY_MODEL_26c3ce919aa449cd968ac77a60d10c03"
            ]
          }
        },
        "0e064ba25074419d9fe7b5313b318121": {
          "model_module": "@jupyter-widgets/base",
          "model_name": "LayoutModel",
          "state": {
            "_view_name": "LayoutView",
            "grid_template_rows": null,
            "right": null,
            "justify_content": null,
            "_view_module": "@jupyter-widgets/base",
            "overflow": null,
            "_model_module_version": "1.2.0",
            "_view_count": null,
            "flex_flow": null,
            "width": null,
            "min_width": null,
            "border": null,
            "align_items": null,
            "bottom": null,
            "_model_module": "@jupyter-widgets/base",
            "top": null,
            "grid_column": null,
            "overflow_y": null,
            "overflow_x": null,
            "grid_auto_flow": null,
            "grid_area": null,
            "grid_template_columns": null,
            "flex": null,
            "_model_name": "LayoutModel",
            "justify_items": null,
            "grid_row": null,
            "max_height": null,
            "align_content": null,
            "visibility": null,
            "align_self": null,
            "height": null,
            "min_height": null,
            "padding": null,
            "grid_auto_rows": null,
            "grid_gap": null,
            "max_width": null,
            "order": null,
            "_view_module_version": "1.2.0",
            "grid_template_areas": null,
            "object_position": null,
            "object_fit": null,
            "grid_auto_columns": null,
            "margin": null,
            "display": null,
            "left": null
          }
        },
        "49d3541420e942d0b0b332b0f7a7cb1c": {
          "model_module": "@jupyter-widgets/controls",
          "model_name": "FloatProgressModel",
          "state": {
            "_view_name": "ProgressView",
            "style": "IPY_MODEL_e511a194e4024dd89f208c7509a9eb99",
            "_dom_classes": [],
            "description": "Extraction completed...: 100%",
            "_model_name": "FloatProgressModel",
            "bar_style": "success",
            "max": 1,
            "_view_module": "@jupyter-widgets/controls",
            "_model_module_version": "1.5.0",
            "value": 1,
            "_view_count": null,
            "_view_module_version": "1.5.0",
            "orientation": "horizontal",
            "min": 0,
            "description_tooltip": null,
            "_model_module": "@jupyter-widgets/controls",
            "layout": "IPY_MODEL_f8f30b77ed81457b995af2650a832296"
          }
        },
        "26c3ce919aa449cd968ac77a60d10c03": {
          "model_module": "@jupyter-widgets/controls",
          "model_name": "HTMLModel",
          "state": {
            "_view_name": "HTMLView",
            "style": "IPY_MODEL_4262b694026641afb08df0e830560d87",
            "_dom_classes": [],
            "description": "",
            "_model_name": "HTMLModel",
            "placeholder": "​",
            "_view_module": "@jupyter-widgets/controls",
            "_model_module_version": "1.5.0",
            "value": " 1/1 [00:01&lt;00:00,  1.38s/ file]",
            "_view_count": null,
            "_view_module_version": "1.5.0",
            "description_tooltip": null,
            "_model_module": "@jupyter-widgets/controls",
            "layout": "IPY_MODEL_ca15bcf87377474e9daab006da2097db"
          }
        },
        "e511a194e4024dd89f208c7509a9eb99": {
          "model_module": "@jupyter-widgets/controls",
          "model_name": "ProgressStyleModel",
          "state": {
            "_view_name": "StyleView",
            "_model_name": "ProgressStyleModel",
            "description_width": "initial",
            "_view_module": "@jupyter-widgets/base",
            "_model_module_version": "1.5.0",
            "_view_count": null,
            "_view_module_version": "1.2.0",
            "bar_color": null,
            "_model_module": "@jupyter-widgets/controls"
          }
        },
        "f8f30b77ed81457b995af2650a832296": {
          "model_module": "@jupyter-widgets/base",
          "model_name": "LayoutModel",
          "state": {
            "_view_name": "LayoutView",
            "grid_template_rows": null,
            "right": null,
            "justify_content": null,
            "_view_module": "@jupyter-widgets/base",
            "overflow": null,
            "_model_module_version": "1.2.0",
            "_view_count": null,
            "flex_flow": null,
            "width": null,
            "min_width": null,
            "border": null,
            "align_items": null,
            "bottom": null,
            "_model_module": "@jupyter-widgets/base",
            "top": null,
            "grid_column": null,
            "overflow_y": null,
            "overflow_x": null,
            "grid_auto_flow": null,
            "grid_area": null,
            "grid_template_columns": null,
            "flex": null,
            "_model_name": "LayoutModel",
            "justify_items": null,
            "grid_row": null,
            "max_height": null,
            "align_content": null,
            "visibility": null,
            "align_self": null,
            "height": null,
            "min_height": null,
            "padding": null,
            "grid_auto_rows": null,
            "grid_gap": null,
            "max_width": null,
            "order": null,
            "_view_module_version": "1.2.0",
            "grid_template_areas": null,
            "object_position": null,
            "object_fit": null,
            "grid_auto_columns": null,
            "margin": null,
            "display": null,
            "left": null
          }
        },
        "4262b694026641afb08df0e830560d87": {
          "model_module": "@jupyter-widgets/controls",
          "model_name": "DescriptionStyleModel",
          "state": {
            "_view_name": "StyleView",
            "_model_name": "DescriptionStyleModel",
            "description_width": "",
            "_view_module": "@jupyter-widgets/base",
            "_model_module_version": "1.5.0",
            "_view_count": null,
            "_view_module_version": "1.2.0",
            "_model_module": "@jupyter-widgets/controls"
          }
        },
        "ca15bcf87377474e9daab006da2097db": {
          "model_module": "@jupyter-widgets/base",
          "model_name": "LayoutModel",
          "state": {
            "_view_name": "LayoutView",
            "grid_template_rows": null,
            "right": null,
            "justify_content": null,
            "_view_module": "@jupyter-widgets/base",
            "overflow": null,
            "_model_module_version": "1.2.0",
            "_view_count": null,
            "flex_flow": null,
            "width": null,
            "min_width": null,
            "border": null,
            "align_items": null,
            "bottom": null,
            "_model_module": "@jupyter-widgets/base",
            "top": null,
            "grid_column": null,
            "overflow_y": null,
            "overflow_x": null,
            "grid_auto_flow": null,
            "grid_area": null,
            "grid_template_columns": null,
            "flex": null,
            "_model_name": "LayoutModel",
            "justify_items": null,
            "grid_row": null,
            "max_height": null,
            "align_content": null,
            "visibility": null,
            "align_self": null,
            "height": null,
            "min_height": null,
            "padding": null,
            "grid_auto_rows": null,
            "grid_gap": null,
            "max_width": null,
            "order": null,
            "_view_module_version": "1.2.0",
            "grid_template_areas": null,
            "object_position": null,
            "object_fit": null,
            "grid_auto_columns": null,
            "margin": null,
            "display": null,
            "left": null
          }
        },
        "8e60b012498b4e978ae016a4f4f03833": {
          "model_module": "@jupyter-widgets/controls",
          "model_name": "HBoxModel",
          "state": {
            "_view_name": "HBoxView",
            "_dom_classes": [],
            "_model_name": "HBoxModel",
            "_view_module": "@jupyter-widgets/controls",
            "_model_module_version": "1.5.0",
            "_view_count": null,
            "_view_module_version": "1.5.0",
            "box_style": "",
            "layout": "IPY_MODEL_3ff222d72b0f480680bd0b6cf6c6817f",
            "_model_module": "@jupyter-widgets/controls",
            "children": [
              "IPY_MODEL_743097307efc47558dd0fe251f0abcf2",
              "IPY_MODEL_4efdad330a90451b91d97bda33766d5e"
            ]
          }
        },
        "3ff222d72b0f480680bd0b6cf6c6817f": {
          "model_module": "@jupyter-widgets/base",
          "model_name": "LayoutModel",
          "state": {
            "_view_name": "LayoutView",
            "grid_template_rows": null,
            "right": null,
            "justify_content": null,
            "_view_module": "@jupyter-widgets/base",
            "overflow": null,
            "_model_module_version": "1.2.0",
            "_view_count": null,
            "flex_flow": null,
            "width": null,
            "min_width": null,
            "border": null,
            "align_items": null,
            "bottom": null,
            "_model_module": "@jupyter-widgets/base",
            "top": null,
            "grid_column": null,
            "overflow_y": null,
            "overflow_x": null,
            "grid_auto_flow": null,
            "grid_area": null,
            "grid_template_columns": null,
            "flex": null,
            "_model_name": "LayoutModel",
            "justify_items": null,
            "grid_row": null,
            "max_height": null,
            "align_content": null,
            "visibility": null,
            "align_self": null,
            "height": null,
            "min_height": null,
            "padding": null,
            "grid_auto_rows": null,
            "grid_gap": null,
            "max_width": null,
            "order": null,
            "_view_module_version": "1.2.0",
            "grid_template_areas": null,
            "object_position": null,
            "object_fit": null,
            "grid_auto_columns": null,
            "margin": null,
            "display": null,
            "left": null
          }
        },
        "743097307efc47558dd0fe251f0abcf2": {
          "model_module": "@jupyter-widgets/controls",
          "model_name": "FloatProgressModel",
          "state": {
            "_view_name": "ProgressView",
            "style": "IPY_MODEL_8ca693aec7224d92802090a172a9e8f6",
            "_dom_classes": [],
            "description": "",
            "_model_name": "FloatProgressModel",
            "bar_style": "info",
            "max": 1,
            "_view_module": "@jupyter-widgets/controls",
            "_model_module_version": "1.5.0",
            "value": 1,
            "_view_count": null,
            "_view_module_version": "1.5.0",
            "orientation": "horizontal",
            "min": 0,
            "description_tooltip": null,
            "_model_module": "@jupyter-widgets/controls",
            "layout": "IPY_MODEL_61118bb9c22e40ef97ccb4900eec1b09"
          }
        },
        "4efdad330a90451b91d97bda33766d5e": {
          "model_module": "@jupyter-widgets/controls",
          "model_name": "HTMLModel",
          "state": {
            "_view_name": "HTMLView",
            "style": "IPY_MODEL_7fc1b46b19ba4579b4b138117e01f94e",
            "_dom_classes": [],
            "description": "",
            "_model_name": "HTMLModel",
            "placeholder": "​",
            "_view_module": "@jupyter-widgets/controls",
            "_model_module_version": "1.5.0",
            "value": " 104975/0 [02:11&lt;00:00, 893.62 examples/s]",
            "_view_count": null,
            "_view_module_version": "1.5.0",
            "description_tooltip": null,
            "_model_module": "@jupyter-widgets/controls",
            "layout": "IPY_MODEL_088733971bf2460eb521342e77a79f90"
          }
        },
        "8ca693aec7224d92802090a172a9e8f6": {
          "model_module": "@jupyter-widgets/controls",
          "model_name": "ProgressStyleModel",
          "state": {
            "_view_name": "StyleView",
            "_model_name": "ProgressStyleModel",
            "description_width": "initial",
            "_view_module": "@jupyter-widgets/base",
            "_model_module_version": "1.5.0",
            "_view_count": null,
            "_view_module_version": "1.2.0",
            "bar_color": null,
            "_model_module": "@jupyter-widgets/controls"
          }
        },
        "61118bb9c22e40ef97ccb4900eec1b09": {
          "model_module": "@jupyter-widgets/base",
          "model_name": "LayoutModel",
          "state": {
            "_view_name": "LayoutView",
            "grid_template_rows": null,
            "right": null,
            "justify_content": null,
            "_view_module": "@jupyter-widgets/base",
            "overflow": null,
            "_model_module_version": "1.2.0",
            "_view_count": null,
            "flex_flow": null,
            "width": null,
            "min_width": null,
            "border": null,
            "align_items": null,
            "bottom": null,
            "_model_module": "@jupyter-widgets/base",
            "top": null,
            "grid_column": null,
            "overflow_y": null,
            "overflow_x": null,
            "grid_auto_flow": null,
            "grid_area": null,
            "grid_template_columns": null,
            "flex": null,
            "_model_name": "LayoutModel",
            "justify_items": null,
            "grid_row": null,
            "max_height": null,
            "align_content": null,
            "visibility": null,
            "align_self": null,
            "height": null,
            "min_height": null,
            "padding": null,
            "grid_auto_rows": null,
            "grid_gap": null,
            "max_width": null,
            "order": null,
            "_view_module_version": "1.2.0",
            "grid_template_areas": null,
            "object_position": null,
            "object_fit": null,
            "grid_auto_columns": null,
            "margin": null,
            "display": null,
            "left": null
          }
        },
        "7fc1b46b19ba4579b4b138117e01f94e": {
          "model_module": "@jupyter-widgets/controls",
          "model_name": "DescriptionStyleModel",
          "state": {
            "_view_name": "StyleView",
            "_model_name": "DescriptionStyleModel",
            "description_width": "",
            "_view_module": "@jupyter-widgets/base",
            "_model_module_version": "1.5.0",
            "_view_count": null,
            "_view_module_version": "1.2.0",
            "_model_module": "@jupyter-widgets/controls"
          }
        },
        "088733971bf2460eb521342e77a79f90": {
          "model_module": "@jupyter-widgets/base",
          "model_name": "LayoutModel",
          "state": {
            "_view_name": "LayoutView",
            "grid_template_rows": null,
            "right": null,
            "justify_content": null,
            "_view_module": "@jupyter-widgets/base",
            "overflow": null,
            "_model_module_version": "1.2.0",
            "_view_count": null,
            "flex_flow": null,
            "width": null,
            "min_width": null,
            "border": null,
            "align_items": null,
            "bottom": null,
            "_model_module": "@jupyter-widgets/base",
            "top": null,
            "grid_column": null,
            "overflow_y": null,
            "overflow_x": null,
            "grid_auto_flow": null,
            "grid_area": null,
            "grid_template_columns": null,
            "flex": null,
            "_model_name": "LayoutModel",
            "justify_items": null,
            "grid_row": null,
            "max_height": null,
            "align_content": null,
            "visibility": null,
            "align_self": null,
            "height": null,
            "min_height": null,
            "padding": null,
            "grid_auto_rows": null,
            "grid_gap": null,
            "max_width": null,
            "order": null,
            "_view_module_version": "1.2.0",
            "grid_template_areas": null,
            "object_position": null,
            "object_fit": null,
            "grid_auto_columns": null,
            "margin": null,
            "display": null,
            "left": null
          }
        },
        "85914ffefe784e3f9f906c35cdcfbd91": {
          "model_module": "@jupyter-widgets/controls",
          "model_name": "HBoxModel",
          "state": {
            "_view_name": "HBoxView",
            "_dom_classes": [],
            "_model_name": "HBoxModel",
            "_view_module": "@jupyter-widgets/controls",
            "_model_module_version": "1.5.0",
            "_view_count": null,
            "_view_module_version": "1.5.0",
            "box_style": "",
            "layout": "IPY_MODEL_ddf6c8a9efb243cd90beefd39e3321ca",
            "_model_module": "@jupyter-widgets/controls",
            "children": [
              "IPY_MODEL_1c0fd912e8554d0990f800d3095d0d67",
              "IPY_MODEL_294c371103454d03b2e3723b0da7ff51"
            ]
          }
        },
        "ddf6c8a9efb243cd90beefd39e3321ca": {
          "model_module": "@jupyter-widgets/base",
          "model_name": "LayoutModel",
          "state": {
            "_view_name": "LayoutView",
            "grid_template_rows": null,
            "right": null,
            "justify_content": null,
            "_view_module": "@jupyter-widgets/base",
            "overflow": null,
            "_model_module_version": "1.2.0",
            "_view_count": null,
            "flex_flow": null,
            "width": null,
            "min_width": null,
            "border": null,
            "align_items": null,
            "bottom": null,
            "_model_module": "@jupyter-widgets/base",
            "top": null,
            "grid_column": null,
            "overflow_y": null,
            "overflow_x": null,
            "grid_auto_flow": null,
            "grid_area": null,
            "grid_template_columns": null,
            "flex": null,
            "_model_name": "LayoutModel",
            "justify_items": null,
            "grid_row": null,
            "max_height": null,
            "align_content": null,
            "visibility": null,
            "align_self": null,
            "height": null,
            "min_height": null,
            "padding": null,
            "grid_auto_rows": null,
            "grid_gap": null,
            "max_width": null,
            "order": null,
            "_view_module_version": "1.2.0",
            "grid_template_areas": null,
            "object_position": null,
            "object_fit": null,
            "grid_auto_columns": null,
            "margin": null,
            "display": null,
            "left": null
          }
        },
        "1c0fd912e8554d0990f800d3095d0d67": {
          "model_module": "@jupyter-widgets/controls",
          "model_name": "FloatProgressModel",
          "state": {
            "_view_name": "ProgressView",
            "style": "IPY_MODEL_25bc5efb5a9a48f9bd2978bb7b85803d",
            "_dom_classes": [],
            "description": " 83%",
            "_model_name": "FloatProgressModel",
            "bar_style": "danger",
            "max": 104975,
            "_view_module": "@jupyter-widgets/controls",
            "_model_module_version": "1.5.0",
            "value": 87100,
            "_view_count": null,
            "_view_module_version": "1.5.0",
            "orientation": "horizontal",
            "min": 0,
            "description_tooltip": null,
            "_model_module": "@jupyter-widgets/controls",
            "layout": "IPY_MODEL_a37f5593a8e240caa3b3860984be2e77"
          }
        },
        "294c371103454d03b2e3723b0da7ff51": {
          "model_module": "@jupyter-widgets/controls",
          "model_name": "HTMLModel",
          "state": {
            "_view_name": "HTMLView",
            "style": "IPY_MODEL_0307594333124383ad7405da1af01a68",
            "_dom_classes": [],
            "description": "",
            "_model_name": "HTMLModel",
            "placeholder": "​",
            "_view_module": "@jupyter-widgets/controls",
            "_model_module_version": "1.5.0",
            "value": " 87100/104975 [00:00&lt;10:39, 27.94 examples/s]",
            "_view_count": null,
            "_view_module_version": "1.5.0",
            "description_tooltip": null,
            "_model_module": "@jupyter-widgets/controls",
            "layout": "IPY_MODEL_9600849b6aae4b3988e7f2f60d89b45a"
          }
        },
        "25bc5efb5a9a48f9bd2978bb7b85803d": {
          "model_module": "@jupyter-widgets/controls",
          "model_name": "ProgressStyleModel",
          "state": {
            "_view_name": "StyleView",
            "_model_name": "ProgressStyleModel",
            "description_width": "initial",
            "_view_module": "@jupyter-widgets/base",
            "_model_module_version": "1.5.0",
            "_view_count": null,
            "_view_module_version": "1.2.0",
            "bar_color": null,
            "_model_module": "@jupyter-widgets/controls"
          }
        },
        "a37f5593a8e240caa3b3860984be2e77": {
          "model_module": "@jupyter-widgets/base",
          "model_name": "LayoutModel",
          "state": {
            "_view_name": "LayoutView",
            "grid_template_rows": null,
            "right": null,
            "justify_content": null,
            "_view_module": "@jupyter-widgets/base",
            "overflow": null,
            "_model_module_version": "1.2.0",
            "_view_count": null,
            "flex_flow": null,
            "width": null,
            "min_width": null,
            "border": null,
            "align_items": null,
            "bottom": null,
            "_model_module": "@jupyter-widgets/base",
            "top": null,
            "grid_column": null,
            "overflow_y": null,
            "overflow_x": null,
            "grid_auto_flow": null,
            "grid_area": null,
            "grid_template_columns": null,
            "flex": null,
            "_model_name": "LayoutModel",
            "justify_items": null,
            "grid_row": null,
            "max_height": null,
            "align_content": null,
            "visibility": null,
            "align_self": null,
            "height": null,
            "min_height": null,
            "padding": null,
            "grid_auto_rows": null,
            "grid_gap": null,
            "max_width": null,
            "order": null,
            "_view_module_version": "1.2.0",
            "grid_template_areas": null,
            "object_position": null,
            "object_fit": null,
            "grid_auto_columns": null,
            "margin": null,
            "display": null,
            "left": null
          }
        },
        "0307594333124383ad7405da1af01a68": {
          "model_module": "@jupyter-widgets/controls",
          "model_name": "DescriptionStyleModel",
          "state": {
            "_view_name": "StyleView",
            "_model_name": "DescriptionStyleModel",
            "description_width": "",
            "_view_module": "@jupyter-widgets/base",
            "_model_module_version": "1.5.0",
            "_view_count": null,
            "_view_module_version": "1.2.0",
            "_model_module": "@jupyter-widgets/controls"
          }
        },
        "9600849b6aae4b3988e7f2f60d89b45a": {
          "model_module": "@jupyter-widgets/base",
          "model_name": "LayoutModel",
          "state": {
            "_view_name": "LayoutView",
            "grid_template_rows": null,
            "right": null,
            "justify_content": null,
            "_view_module": "@jupyter-widgets/base",
            "overflow": null,
            "_model_module_version": "1.2.0",
            "_view_count": null,
            "flex_flow": null,
            "width": null,
            "min_width": null,
            "border": null,
            "align_items": null,
            "bottom": null,
            "_model_module": "@jupyter-widgets/base",
            "top": null,
            "grid_column": null,
            "overflow_y": null,
            "overflow_x": null,
            "grid_auto_flow": null,
            "grid_area": null,
            "grid_template_columns": null,
            "flex": null,
            "_model_name": "LayoutModel",
            "justify_items": null,
            "grid_row": null,
            "max_height": null,
            "align_content": null,
            "visibility": null,
            "align_self": null,
            "height": null,
            "min_height": null,
            "padding": null,
            "grid_auto_rows": null,
            "grid_gap": null,
            "max_width": null,
            "order": null,
            "_view_module_version": "1.2.0",
            "grid_template_areas": null,
            "object_position": null,
            "object_fit": null,
            "grid_auto_columns": null,
            "margin": null,
            "display": null,
            "left": null
          }
        }
      }
    }
  },
  "cells": [
    {
      "cell_type": "markdown",
      "metadata": {
        "id": "3O5d_pPB4rlC"
      },
      "source": [
        "# Import Libraries"
      ]
    },
    {
      "cell_type": "code",
      "metadata": {
        "id": "fUbFvR7LDB3U"
      },
      "source": [
        "import tensorflow as tf\n",
        "import os\n",
        "import datetime\n",
        "import tensorflow_datasets as tfds\n",
        "import matplotlib.pyplot as plt"
      ],
      "execution_count": 2,
      "outputs": []
    },
    {
      "cell_type": "markdown",
      "metadata": {
        "id": "i_bKxRga4mtI"
      },
      "source": [
        "# Read Dataset"
      ]
    },
    {
      "cell_type": "code",
      "metadata": {
        "id": "QDH43tw-DN4y",
        "colab": {
          "base_uri": "https://localhost:8080/",
          "height": 316,
          "referenced_widgets": [
            "0fb6c5c249e0486b961ad30b9b326abd",
            "e4d10574c0fa4c56b3b57c3da7968832",
            "d28714657b1d4f44a4dfc0dca60d320e",
            "8223011bb5fe44de93ce5881cab6a681",
            "d862994d55f54852afdaac85c1fb0206",
            "4e4e0e2352ee4a4d81c72186631603e5",
            "5a9ba54079354ee081d53b9efed2ebe1",
            "764cbb372a7f4726ace82f00c43a384b",
            "edfd7f6c2d7f4fe1906e3e39caceb38e",
            "40062fa3de3b4d46b1086112684bd492",
            "310f5862c6894d3eada511d11188d697",
            "98b7543320264fe6aae10e6e621dd6c2",
            "a95a61871c8149a8b37d7ecbdd5d75af",
            "b2a2925eb2e04027b57cc6499adc0621",
            "d909d4bc1fd449c7aaadad16ca709f2c",
            "efe294f7f7ec40e98a1554cce8c66358",
            "abc1f2f5b45f4f5aa12829912c23707a",
            "0e064ba25074419d9fe7b5313b318121",
            "49d3541420e942d0b0b332b0f7a7cb1c",
            "26c3ce919aa449cd968ac77a60d10c03",
            "e511a194e4024dd89f208c7509a9eb99",
            "f8f30b77ed81457b995af2650a832296",
            "4262b694026641afb08df0e830560d87",
            "ca15bcf87377474e9daab006da2097db",
            "8e60b012498b4e978ae016a4f4f03833",
            "3ff222d72b0f480680bd0b6cf6c6817f",
            "743097307efc47558dd0fe251f0abcf2",
            "4efdad330a90451b91d97bda33766d5e",
            "8ca693aec7224d92802090a172a9e8f6",
            "61118bb9c22e40ef97ccb4900eec1b09",
            "7fc1b46b19ba4579b4b138117e01f94e",
            "088733971bf2460eb521342e77a79f90",
            "85914ffefe784e3f9f906c35cdcfbd91",
            "ddf6c8a9efb243cd90beefd39e3321ca",
            "1c0fd912e8554d0990f800d3095d0d67",
            "294c371103454d03b2e3723b0da7ff51",
            "25bc5efb5a9a48f9bd2978bb7b85803d",
            "a37f5593a8e240caa3b3860984be2e77",
            "0307594333124383ad7405da1af01a68",
            "9600849b6aae4b3988e7f2f60d89b45a"
          ]
        },
        "outputId": "2f67033f-820f-4a6c-d16e-5c9ffb24cafa"
      },
      "source": [
        "dataset, info = tfds.load('amazon_us_reviews/Mobile_Electronics_v1_00', with_info=True)\n",
        "train_dataset = dataset['train']"
      ],
      "execution_count": 3,
      "outputs": [
        {
          "output_type": "stream",
          "text": [
            "\u001b[1mDownloading and preparing dataset amazon_us_reviews/Mobile_Electronics_v1_00/0.1.0 (download: 21.81 MiB, generated: Unknown size, total: 21.81 MiB) to /root/tensorflow_datasets/amazon_us_reviews/Mobile_Electronics_v1_00/0.1.0...\u001b[0m\n"
          ],
          "name": "stdout"
        },
        {
          "output_type": "display_data",
          "data": {
            "application/vnd.jupyter.widget-view+json": {
              "model_id": "0fb6c5c249e0486b961ad30b9b326abd",
              "version_minor": 0,
              "version_major": 2
            },
            "text/plain": [
              "HBox(children=(FloatProgress(value=1.0, bar_style='info', description='Dl Completed...', max=1.0, style=Progre…"
            ]
          },
          "metadata": {
            "tags": []
          }
        },
        {
          "output_type": "display_data",
          "data": {
            "application/vnd.jupyter.widget-view+json": {
              "model_id": "edfd7f6c2d7f4fe1906e3e39caceb38e",
              "version_minor": 0,
              "version_major": 2
            },
            "text/plain": [
              "HBox(children=(FloatProgress(value=1.0, bar_style='info', description='Dl Size...', max=1.0, style=ProgressSty…"
            ]
          },
          "metadata": {
            "tags": []
          }
        },
        {
          "output_type": "display_data",
          "data": {
            "application/vnd.jupyter.widget-view+json": {
              "model_id": "abc1f2f5b45f4f5aa12829912c23707a",
              "version_minor": 0,
              "version_major": 2
            },
            "text/plain": [
              "HBox(children=(FloatProgress(value=1.0, bar_style='info', description='Extraction completed...', max=1.0, styl…"
            ]
          },
          "metadata": {
            "tags": []
          }
        },
        {
          "output_type": "stream",
          "text": [
            "\n",
            "\n",
            "\n",
            "\n",
            "\n",
            "\n"
          ],
          "name": "stdout"
        },
        {
          "output_type": "display_data",
          "data": {
            "application/vnd.jupyter.widget-view+json": {
              "model_id": "8e60b012498b4e978ae016a4f4f03833",
              "version_minor": 0,
              "version_major": 2
            },
            "text/plain": [
              "HBox(children=(FloatProgress(value=1.0, bar_style='info', max=1.0), HTML(value='')))"
            ]
          },
          "metadata": {
            "tags": []
          }
        },
        {
          "output_type": "stream",
          "text": [
            "\rShuffling and writing examples to /root/tensorflow_datasets/amazon_us_reviews/Mobile_Electronics_v1_00/0.1.0.incompleteFLX51F/amazon_us_reviews-train.tfrecord\n"
          ],
          "name": "stdout"
        },
        {
          "output_type": "display_data",
          "data": {
            "application/vnd.jupyter.widget-view+json": {
              "model_id": "85914ffefe784e3f9f906c35cdcfbd91",
              "version_minor": 0,
              "version_major": 2
            },
            "text/plain": [
              "HBox(children=(FloatProgress(value=0.0, max=104975.0), HTML(value='')))"
            ]
          },
          "metadata": {
            "tags": []
          }
        },
        {
          "output_type": "stream",
          "text": [
            "\u001b[1mDataset amazon_us_reviews downloaded and prepared to /root/tensorflow_datasets/amazon_us_reviews/Mobile_Electronics_v1_00/0.1.0. Subsequent calls will reuse this data.\u001b[0m\n",
            "\r"
          ],
          "name": "stdout"
        }
      ]
    },
    {
      "cell_type": "code",
      "metadata": {
        "id": "u1diITDtD9xD",
        "colab": {
          "base_uri": "https://localhost:8080/"
        },
        "outputId": "4d292e5e-55c1-4de2-b654-23553233b404"
      },
      "source": [
        "info"
      ],
      "execution_count": 4,
      "outputs": [
        {
          "output_type": "execute_result",
          "data": {
            "text/plain": [
              "tfds.core.DatasetInfo(\n",
              "    name='amazon_us_reviews',\n",
              "    version=0.1.0,\n",
              "    description='Amazon Customer Reviews (a.k.a. Product Reviews) is one of Amazons iconic products. In a period of over two decades since the first review in 1995, millions of Amazon customers have contributed over a hundred million reviews to express opinions and describe their experiences regarding products on the Amazon.com website. This makes Amazon Customer Reviews a rich source of information for academic researchers in the fields of Natural Language Processing (NLP), Information Retrieval (IR), and Machine Learning (ML), amongst others. Accordingly, we are releasing this data to further research in multiple disciplines related to understanding customer product experiences. Specifically, this dataset was constructed to represent a sample of customer evaluations and opinions, variation in the perception of a product across geographical regions, and promotional intent or bias in reviews.\n",
              "\n",
              "Over 130+ million customer reviews are available to researchers as part of this release. The data is available in TSV files in the amazon-reviews-pds S3 bucket in AWS US East Region. Each line in the data files corresponds to an individual review (tab delimited, with no quote and escape characters).\n",
              "\n",
              "Each Dataset contains the following columns : \n",
              "  marketplace       - 2 letter country code of the marketplace where the review was written.\n",
              "  customer_id       - Random identifier that can be used to aggregate reviews written by a single author.\n",
              "  review_id         - The unique ID of the review.\n",
              "  product_id        - The unique Product ID the review pertains to. In the multilingual dataset the reviews\n",
              "                      for the same product in different countries can be grouped by the same product_id.\n",
              "  product_parent    - Random identifier that can be used to aggregate reviews for the same product.\n",
              "  product_title     - Title of the product.\n",
              "  product_category  - Broad product category that can be used to group reviews \n",
              "                      (also used to group the dataset into coherent parts).\n",
              "  star_rating       - The 1-5 star rating of the review.\n",
              "  helpful_votes     - Number of helpful votes.\n",
              "  total_votes       - Number of total votes the review received.\n",
              "  vine              - Review was written as part of the Vine program.\n",
              "  verified_purchase - The review is on a verified purchase.\n",
              "  review_headline   - The title of the review.\n",
              "  review_body       - The review text.\n",
              "  review_date       - The date the review was written.',\n",
              "    homepage='https://s3.amazonaws.com/amazon-reviews-pds/readme.html',\n",
              "    features=FeaturesDict({\n",
              "        'data': FeaturesDict({\n",
              "            'customer_id': tf.string,\n",
              "            'helpful_votes': tf.int32,\n",
              "            'marketplace': tf.string,\n",
              "            'product_category': tf.string,\n",
              "            'product_id': tf.string,\n",
              "            'product_parent': tf.string,\n",
              "            'product_title': tf.string,\n",
              "            'review_body': tf.string,\n",
              "            'review_date': tf.string,\n",
              "            'review_headline': tf.string,\n",
              "            'review_id': tf.string,\n",
              "            'star_rating': tf.int32,\n",
              "            'total_votes': tf.int32,\n",
              "            'verified_purchase': ClassLabel(shape=(), dtype=tf.int64, num_classes=2),\n",
              "            'vine': ClassLabel(shape=(), dtype=tf.int64, num_classes=2),\n",
              "        }),\n",
              "    }),\n",
              "    total_num_examples=104975,\n",
              "    splits={\n",
              "        'train': 104975,\n",
              "    },\n",
              "    supervised_keys=None,\n",
              "    citation=\"\"\"\"\"\",\n",
              "    redistribution_info=,\n",
              ")"
            ]
          },
          "metadata": {
            "tags": []
          },
          "execution_count": 4
        }
      ]
    },
    {
      "cell_type": "code",
      "metadata": {
        "id": "ZzZdLLdiG9j6",
        "colab": {
          "base_uri": "https://localhost:8080/"
        },
        "outputId": "39918d64-c996-4c36-a26f-23581febead7"
      },
      "source": [
        "# number of records in the dataset\n",
        "len(list(train_dataset))"
      ],
      "execution_count": 5,
      "outputs": [
        {
          "output_type": "execute_result",
          "data": {
            "text/plain": [
              "104975"
            ]
          },
          "metadata": {
            "tags": []
          },
          "execution_count": 5
        }
      ]
    },
    {
      "cell_type": "code",
      "metadata": {
        "id": "0tTxEMQbDjrv"
      },
      "source": [
        "# how much data to pre fetch in memory(speeds up training)\n",
        "BUFFER_SIZE = 40000\n",
        "\n",
        "# batch size for mini batch SGD\n",
        "BATCH_SIZE = 196"
      ],
      "execution_count": 6,
      "outputs": []
    },
    {
      "cell_type": "code",
      "metadata": {
        "id": "xIFXNHBiDlL0"
      },
      "source": [
        "# shuffle the dataset so that in each buffer of 40K samples, you get both the target values\n",
        "train_dataset = train_dataset.shuffle(BUFFER_SIZE, reshuffle_each_iteration=False)"
      ],
      "execution_count": 7,
      "outputs": []
    },
    {
      "cell_type": "code",
      "metadata": {
        "id": "hr4e5_1SHNPI",
        "colab": {
          "base_uri": "https://localhost:8080/"
        },
        "outputId": "46e7b87c-c116-41a7-f88b-113b807dd602"
      },
      "source": [
        "# print first 2 records of dataset\n",
        "for row in train_dataset.take(2):\n",
        "  print(row)"
      ],
      "execution_count": 8,
      "outputs": [
        {
          "output_type": "stream",
          "text": [
            "{'data': {'customer_id': <tf.Tensor: shape=(), dtype=string, numpy=b'46860133'>, 'helpful_votes': <tf.Tensor: shape=(), dtype=int32, numpy=0>, 'marketplace': <tf.Tensor: shape=(), dtype=string, numpy=b'US'>, 'product_category': <tf.Tensor: shape=(), dtype=string, numpy=b'Mobile_Electronics'>, 'product_id': <tf.Tensor: shape=(), dtype=string, numpy=b'B004BGLWIS'>, 'product_parent': <tf.Tensor: shape=(), dtype=string, numpy=b'618651124'>, 'product_title': <tf.Tensor: shape=(), dtype=string, numpy=b'Smile Case Hello Kitty White Hard Back Cover Case for iPod Touch 4 4G iTouch 4 4G (it4-Hard Back HK White)'>, 'review_body': <tf.Tensor: shape=(), dtype=string, numpy=b'Nice'>, 'review_date': <tf.Tensor: shape=(), dtype=string, numpy=b'2014-07-16'>, 'review_headline': <tf.Tensor: shape=(), dtype=string, numpy=b'Three Stars'>, 'review_id': <tf.Tensor: shape=(), dtype=string, numpy=b'R3AXNL6LBRQ5IG'>, 'star_rating': <tf.Tensor: shape=(), dtype=int32, numpy=3>, 'total_votes': <tf.Tensor: shape=(), dtype=int32, numpy=0>, 'verified_purchase': <tf.Tensor: shape=(), dtype=int64, numpy=1>, 'vine': <tf.Tensor: shape=(), dtype=int64, numpy=1>}}\n",
            "{'data': {'customer_id': <tf.Tensor: shape=(), dtype=string, numpy=b'10204640'>, 'helpful_votes': <tf.Tensor: shape=(), dtype=int32, numpy=0>, 'marketplace': <tf.Tensor: shape=(), dtype=string, numpy=b'US'>, 'product_category': <tf.Tensor: shape=(), dtype=string, numpy=b'Mobile_Electronics'>, 'product_id': <tf.Tensor: shape=(), dtype=string, numpy=b'B005MIZKZK'>, 'product_parent': <tf.Tensor: shape=(), dtype=string, numpy=b'27091991'>, 'product_title': <tf.Tensor: shape=(), dtype=string, numpy=b'Sony PRS-T1 6\" Digital E-Ink Pearl eReader with Wi-Fi (White)'>, 'review_body': <tf.Tensor: shape=(), dtype=string, numpy=b'Pros: Good design, comfortable display, powerful OS, good touch screen.<br />Cons: A bit slow when read bog pdf.<br />Used it for nearly half a year, I really like it. The android OS is powerful so you can use most apps in the market.'>, 'review_date': <tf.Tensor: shape=(), dtype=string, numpy=b'2012-05-02'>, 'review_headline': <tf.Tensor: shape=(), dtype=string, numpy=b'Good reader, comfortable display, powerful OS.'>, 'review_id': <tf.Tensor: shape=(), dtype=string, numpy=b'R2644HU50WRGMZ'>, 'star_rating': <tf.Tensor: shape=(), dtype=int32, numpy=5>, 'total_votes': <tf.Tensor: shape=(), dtype=int32, numpy=0>, 'verified_purchase': <tf.Tensor: shape=(), dtype=int64, numpy=1>, 'vine': <tf.Tensor: shape=(), dtype=int64, numpy=1>}}\n"
          ],
          "name": "stdout"
        }
      ]
    },
    {
      "cell_type": "code",
      "metadata": {
        "id": "uyKHUS9AaJ5j",
        "colab": {
          "base_uri": "https://localhost:8080/"
        },
        "outputId": "4272ce99-2ed0-4fb4-a158-c5d62501a177"
      },
      "source": [
        "for row in train_dataset.take(10):\n",
        "  row = row['data']\n",
        "\n",
        "  print(row.get('review_body').numpy())\n",
        "\n",
        "  print(row.get('star_rating'))\n",
        "  print(tf.where(row.get('star_rating')>3,1,0).numpy()) # if rating>3 then 1(positive), else 0(negative)\n",
        "\n",
        "  print('*'*100)"
      ],
      "execution_count": 10,
      "outputs": [
        {
          "output_type": "stream",
          "text": [
            "b'Nice'\n",
            "tf.Tensor(3, shape=(), dtype=int32)\n",
            "0\n",
            "****************************************************************************************************\n",
            "b'Pros: Good design, comfortable display, powerful OS, good touch screen.<br />Cons: A bit slow when read bog pdf.<br />Used it for nearly half a year, I really like it. The android OS is powerful so you can use most apps in the market.'\n",
            "tf.Tensor(5, shape=(), dtype=int32)\n",
            "1\n",
            "****************************************************************************************************\n",
            "b'I initially rated this five stars upon receiving the item but on my first use I realised it has a short. the cable has to b held at and angle for the phone to charge. very disappointed.'\n",
            "tf.Tensor(2, shape=(), dtype=int32)\n",
            "0\n",
            "****************************************************************************************************\n",
            "b'The charger does work but it takes F O R E V E R to charge. This charger is best for if you wanna charge the phone overnight while you sleep. Otherwise you will be thoroughly disappointed. Plus, my charger is already tearing up. I can already see the wires being exposed. Eventually, I will have to buy another one. :('\n",
            "tf.Tensor(1, shape=(), dtype=int32)\n",
            "0\n",
            "****************************************************************************************************\n",
            "b'This is jus perfect for the Atv. Can be fixed easily to the handle bar fits the GPS Garin sumo 220 properly'\n",
            "tf.Tensor(5, shape=(), dtype=int32)\n",
            "1\n",
            "****************************************************************************************************\n",
            "b'I bought this for my iPod Touch. The mounting kit would not hold up the unit plus the ipod. The FM transmitter is nearly impossible to tune, no preset stations. The remote only works if you with 1 foot of the unit. And the FM transmitter broke only after 1 day.'\n",
            "tf.Tensor(1, shape=(), dtype=int32)\n",
            "0\n",
            "****************************************************************************************************\n",
            "b'works great'\n",
            "tf.Tensor(5, shape=(), dtype=int32)\n",
            "1\n",
            "****************************************************************************************************\n",
            "b\"I need Ouku to contact me cause there passed 3 month since I made installed the headrest and one of them doesnt work. It turn on but I can't watch the movie because the scream is black. I have tried playing with color, contrast but nothing happen. Please ouku contact me fpalaciosj@gmail.com\"\n",
            "tf.Tensor(2, shape=(), dtype=int32)\n",
            "0\n",
            "****************************************************************************************************\n",
            "b\"Its a great case. My cousin loved it for his iPod. It is a little thin so it doesn't offer much protection but still a pretty cool case.\"\n",
            "tf.Tensor(5, shape=(), dtype=int32)\n",
            "1\n",
            "****************************************************************************************************\n",
            "b\"I bought this case because it said it contained memory foam and it seemed durable enough that it would protect my kindle in the event of me dropping it. It does seem durable, the memory foam is a lot thinner than I expected which is a bummer, but the pocket does fit the charger nicely. The problem with this case is that it is very hard to use your kindle while it is inside of it - the straps on the inside cover up a lot of buttons including the on switch and some of the previous page and back buttons. Overall it is a good case for transporting the kindle (say if you are planning on traveling extensivly and need to be assured of your kindle's protection) and if you don't mind taking it out of the case to read it, but I think I would rather have purchased one of the m-edge covers that you can use easily while reading.\"\n",
            "tf.Tensor(4, shape=(), dtype=int32)\n",
            "1\n",
            "****************************************************************************************************\n"
          ],
          "name": "stdout"
        }
      ]
    },
    {
      "cell_type": "markdown",
      "metadata": {
        "id": "iYkPdd2Y8Bw8"
      },
      "source": [
        "# Encoding Reviews"
      ]
    },
    {
      "cell_type": "code",
      "metadata": {
        "id": "i3ySnZHiaS01",
        "colab": {
          "base_uri": "https://localhost:8080/"
        },
        "outputId": "acefad3d-d62d-413a-85fa-46fec0c1837a"
      },
      "source": [
        "# get the vocobulary from dataset\n",
        "# There are 73738 unique words in dataset\n",
        "\n",
        "tokenizer = tfds.deprecated.text.Tokenizer()\n",
        "vocabulary_set = set()\n",
        "\n",
        "for _, row in train_dataset.enumerate():\n",
        "  row = row['data']\n",
        "  review_tokens = tokenizer.tokenize(row.get('review_body').numpy())\n",
        "  vocabulary_set.update(review_tokens)\n",
        "\n",
        "vocab_size = len(vocabulary_set)\n",
        "vocab_size"
      ],
      "execution_count": 12,
      "outputs": [
        {
          "output_type": "execute_result",
          "data": {
            "text/plain": [
              "73738"
            ]
          },
          "metadata": {
            "tags": []
          },
          "execution_count": 12
        }
      ]
    },
    {
      "cell_type": "code",
      "metadata": {
        "id": "gYoPn2MAly6d"
      },
      "source": [
        "# Assign an integer value to all the words in the vocabulary \n",
        "encoder = tfds.deprecated.text.TokenTextEncoder(vocabulary_set, lowercase=True, strip_vocab=True)"
      ],
      "execution_count": 14,
      "outputs": []
    },
    {
      "cell_type": "code",
      "metadata": {
        "id": "PdWrBf4xzdXk",
        "colab": {
          "base_uri": "https://localhost:8080/"
        },
        "outputId": "29d27cda-71a3-46ff-a89d-e3deb07ce07b"
      },
      "source": [
        "for row in train_dataset.take(5):\n",
        "  # print the original review\n",
        "  row = row['data']\n",
        "  print(row.get('review_body').numpy())\n",
        "\n",
        "  # print the encoded review\n",
        "  encoded_example = encoder.encode(row.get('review_body').numpy())\n",
        "  print(encoded_example)\n",
        "\n",
        "  print('*'*100)"
      ],
      "execution_count": 16,
      "outputs": [
        {
          "output_type": "stream",
          "text": [
            "b'Nice'\n",
            "[62939]\n",
            "****************************************************************************************************\n",
            "b'Pros: Good design, comfortable display, powerful OS, good touch screen.<br />Cons: A bit slow when read bog pdf.<br />Used it for nearly half a year, I really like it. The android OS is powerful so you can use most apps in the market.'\n",
            "[70410, 62559, 62498, 49330, 54123, 62918, 59193, 62559, 68074, 53253, 20180, 70039, 44738, 64713, 70603, 73040, 57176, 16219, 64880, 20180, 57971, 67237, 60443, 72517, 66312, 44738, 61215, 40478, 61846, 63906, 67237, 61273, 71680, 59193, 42494, 62918, 72967, 72911, 52298, 15787, 40187, 56001, 54460, 61273, 38417]\n",
            "****************************************************************************************************\n",
            "b'I initially rated this five stars upon receiving the item but on my first use I realised it has a short. the cable has to b held at and angle for the phone to charge. very disappointed.'\n",
            "[40478, 66147, 22463, 70892, 54097, 68552, 71867, 39240, 61273, 71903, 71225, 12732, 73321, 57353, 15787, 40478, 27420, 67237, 64169, 44738, 47391, 61273, 71919, 64169, 63280, 72391, 36414, 23706, 32631, 12483, 60443, 61273, 46328, 63280, 66656, 57568, 36733]\n",
            "****************************************************************************************************\n",
            "b'The charger does work but it takes F O R E V E R to charge. This charger is best for if you wanna charge the phone overnight while you sleep. Otherwise you will be thoroughly disappointed. Plus, my charger is already tearing up. I can already see the wires being exposed. Eventually, I will have to buy another one. :('\n",
            "[61273, 66195, 68968, 28991, 71225, 67237, 70261, 53491, 37502, 29541, 71455, 36885, 71455, 29541, 63280, 66656, 70892, 66195, 42494, 49870, 60443, 73725, 72911, 16602, 66656, 61273, 46328, 66325, 55670, 72911, 23270, 68373, 72911, 72031, 64843, 51724, 36733, 70639, 73321, 66195, 42494, 51449, 1060, 58792, 40478, 52298, 51449, 62594, 61273, 64853, 63647, 73453, 55548, 40478, 72031, 53722, 63280, 68004, 71936, 65132]\n",
            "****************************************************************************************************\n",
            "b'This is jus perfect for the Atv. Can be fixed easily to the handle bar fits the GPS Garin sumo 220 properly'\n",
            "[70892, 42494, 58562, 68715, 60443, 61273, 44532, 52298, 64843, 54715, 31189, 63280, 61273, 63281, 66078, 40569, 61273, 34167, 61389, 54249, 63488, 71365]\n",
            "****************************************************************************************************\n"
          ],
          "name": "stdout"
        }
      ]
    },
    {
      "cell_type": "code",
      "metadata": {
        "id": "RURcWX6Q2YFv",
        "colab": {
          "base_uri": "https://localhost:8080/"
        },
        "outputId": "028d859c-ed5f-4244-c147-582e02dea10a"
      },
      "source": [
        "# mapping - just in a more presentable format\n",
        "for index in encoded_example:\n",
        "  print('{} ----> {}'.format(index, encoder.decode([index])))"
      ],
      "execution_count": 17,
      "outputs": [
        {
          "output_type": "stream",
          "text": [
            "70892 ----> this\n",
            "42494 ----> is\n",
            "58562 ----> jus\n",
            "68715 ----> perfect\n",
            "60443 ----> for\n",
            "61273 ----> the\n",
            "44532 ----> atv\n",
            "52298 ----> can\n",
            "64843 ----> be\n",
            "54715 ----> fixed\n",
            "31189 ----> easily\n",
            "63280 ----> to\n",
            "61273 ----> the\n",
            "63281 ----> handle\n",
            "66078 ----> bar\n",
            "40569 ----> fits\n",
            "61273 ----> the\n",
            "34167 ----> gps\n",
            "61389 ----> garin\n",
            "54249 ----> sumo\n",
            "63488 ----> 220\n",
            "71365 ----> properly\n"
          ],
          "name": "stdout"
        }
      ]
    },
    {
      "cell_type": "code",
      "metadata": {
        "id": "naWRZpLLGKNk"
      },
      "source": [
        "# save the encoded vocabulary\n",
        "encoder.save_to_file(\"/tmp/sa_encoder.vocab\")"
      ],
      "execution_count": 18,
      "outputs": []
    },
    {
      "cell_type": "code",
      "metadata": {
        "id": "YOP1b3AFC182"
      },
      "source": [
        "# Now it's time to encode all the rows\n",
        "\n",
        "def encode(text_tensor, label_tensor):\n",
        "  encoded_text = encoder.encode(text_tensor.numpy())\n",
        "  label = tf.where(label_tensor>3,1,0)\n",
        "  return encoded_text, label\n",
        "\n",
        "def encode_map_fn(tensor):\n",
        "  \n",
        "  text = tensor['data'].get('review_body')\n",
        "  label = tensor['data'].get('star_rating') \n",
        "\n",
        "  encoded_text, label = tf.py_function(encode, \n",
        "                                       inp=[text, label], \n",
        "                                       Tout=(tf.int64, tf.int32))\n",
        "\n",
        "  encoded_text.set_shape([None])\n",
        "  label.set_shape([])\n",
        "\n",
        "  return encoded_text, label"
      ],
      "execution_count": 23,
      "outputs": []
    },
    {
      "cell_type": "code",
      "metadata": {
        "id": "Vd613Wks5KIU"
      },
      "source": [
        "ar_encoded_data = train_dataset.map(encode_map_fn)"
      ],
      "execution_count": 24,
      "outputs": []
    },
    {
      "cell_type": "code",
      "metadata": {
        "id": "RONAsea269dv",
        "colab": {
          "base_uri": "https://localhost:8080/"
        },
        "outputId": "27312ff3-5db3-4e2e-bcbd-f4d2e3d2669b"
      },
      "source": [
        "# print first 2 rows of encoded data\n",
        "for col1, col2 in ar_encoded_data.take(2):\n",
        "  print(col1)\n",
        "  print(col2)\n",
        "  print('*'*100)"
      ],
      "execution_count": 26,
      "outputs": [
        {
          "output_type": "stream",
          "text": [
            "tf.Tensor([62939], shape=(1,), dtype=int64)\n",
            "tf.Tensor(0, shape=(), dtype=int32)\n",
            "****************************************************************************************************\n",
            "tf.Tensor(\n",
            "[70410 62559 62498 49330 54123 62918 59193 62559 68074 53253 20180 70039\n",
            " 44738 64713 70603 73040 57176 16219 64880 20180 57971 67237 60443 72517\n",
            " 66312 44738 61215 40478 61846 63906 67237 61273 71680 59193 42494 62918\n",
            " 72967 72911 52298 15787 40187 56001 54460 61273 38417], shape=(45,), dtype=int64)\n",
            "tf.Tensor(1, shape=(), dtype=int32)\n",
            "****************************************************************************************************\n"
          ],
          "name": "stdout"
        }
      ]
    },
    {
      "cell_type": "markdown",
      "metadata": {
        "id": "xYdfSetuDyCI"
      },
      "source": [
        "# Train-test split"
      ]
    },
    {
      "cell_type": "code",
      "metadata": {
        "id": "8pZ4PzSz90RV"
      },
      "source": [
        "# Keep 14k rows for testing (80K rows for training)\n",
        "TAKE_SIZE=14000\n",
        "\n",
        "# take first 14k rows for testing\n",
        "test_data = ar_encoded_data.take(TAKE_SIZE)\n",
        "# apply variable padding - pad each batch of 128 records to maximum length review in that batch\n",
        "test_data = test_data.padded_batch(BATCH_SIZE)\n",
        "\n",
        "# take next 80k rows for training\n",
        "train_data = ar_encoded_data.skip(TAKE_SIZE).shuffle(BUFFER_SIZE)\n",
        "# apply variable padding - pad each batch of 128 records to maximum length review in that batch\n",
        "train_data = train_data.padded_batch(BATCH_SIZE)"
      ],
      "execution_count": 27,
      "outputs": []
    },
    {
      "cell_type": "code",
      "metadata": {
        "id": "AXTDe5U1yVKg"
      },
      "source": [
        "# 0 will also be in vocabulary because of padding\n",
        "vocab_size += 1"
      ],
      "execution_count": 28,
      "outputs": []
    },
    {
      "cell_type": "code",
      "metadata": {
        "id": "MjPeEW7lEva8",
        "colab": {
          "base_uri": "https://localhost:8080/"
        },
        "outputId": "2995f4d0-f872-47d9-eb4e-fa88b8c68eaf"
      },
      "source": [
        "# printing the 2nd row of 1st batch of test data\n",
        "# Shape is (522,) because 1st batch had a sentence with max lenght of 522 words\n",
        "sample_text, sample_labels = next(iter(test_data))\n",
        "\n",
        "sample_text[1], sample_labels[1]"
      ],
      "execution_count": 30,
      "outputs": [
        {
          "output_type": "execute_result",
          "data": {
            "text/plain": [
              "(<tf.Tensor: shape=(522,), dtype=int64, numpy=\n",
              " array([70410, 62559, 62498, 49330, 54123, 62918, 59193, 62559, 68074,\n",
              "        53253, 20180, 70039, 44738, 64713, 70603, 73040, 57176, 16219,\n",
              "        64880, 20180, 57971, 67237, 60443, 72517, 66312, 44738, 61215,\n",
              "        40478, 61846, 63906, 67237, 61273, 71680, 59193, 42494, 62918,\n",
              "        72967, 72911, 52298, 15787, 40187, 56001, 54460, 61273, 38417,\n",
              "            0,     0,     0,     0,     0,     0,     0,     0,     0,\n",
              "            0,     0,     0,     0,     0,     0,     0,     0,     0,\n",
              "            0,     0,     0,     0,     0,     0,     0,     0,     0,\n",
              "            0,     0,     0,     0,     0,     0,     0,     0,     0,\n",
              "            0,     0,     0,     0,     0,     0,     0,     0,     0,\n",
              "            0,     0,     0,     0,     0,     0,     0,     0,     0,\n",
              "            0,     0,     0,     0,     0,     0,     0,     0,     0,\n",
              "            0,     0,     0,     0,     0,     0,     0,     0,     0,\n",
              "            0,     0,     0,     0,     0,     0,     0,     0,     0,\n",
              "            0,     0,     0,     0,     0,     0,     0,     0,     0,\n",
              "            0,     0,     0,     0,     0,     0,     0,     0,     0,\n",
              "            0,     0,     0,     0,     0,     0,     0,     0,     0,\n",
              "            0,     0,     0,     0,     0,     0,     0,     0,     0,\n",
              "            0,     0,     0,     0,     0,     0,     0,     0,     0,\n",
              "            0,     0,     0,     0,     0,     0,     0,     0,     0,\n",
              "            0,     0,     0,     0,     0,     0,     0,     0,     0,\n",
              "            0,     0,     0,     0,     0,     0,     0,     0,     0,\n",
              "            0,     0,     0,     0,     0,     0,     0,     0,     0,\n",
              "            0,     0,     0,     0,     0,     0,     0,     0,     0,\n",
              "            0,     0,     0,     0,     0,     0,     0,     0,     0,\n",
              "            0,     0,     0,     0,     0,     0,     0,     0,     0,\n",
              "            0,     0,     0,     0,     0,     0,     0,     0,     0,\n",
              "            0,     0,     0,     0,     0,     0,     0,     0,     0,\n",
              "            0,     0,     0,     0,     0,     0,     0,     0,     0,\n",
              "            0,     0,     0,     0,     0,     0,     0,     0,     0,\n",
              "            0,     0,     0,     0,     0,     0,     0,     0,     0,\n",
              "            0,     0,     0,     0,     0,     0,     0,     0,     0,\n",
              "            0,     0,     0,     0,     0,     0,     0,     0,     0,\n",
              "            0,     0,     0,     0,     0,     0,     0,     0,     0,\n",
              "            0,     0,     0,     0,     0,     0,     0,     0,     0,\n",
              "            0,     0,     0,     0,     0,     0,     0,     0,     0,\n",
              "            0,     0,     0,     0,     0,     0,     0,     0,     0,\n",
              "            0,     0,     0,     0,     0,     0,     0,     0,     0,\n",
              "            0,     0,     0,     0,     0,     0,     0,     0,     0,\n",
              "            0,     0,     0,     0,     0,     0,     0,     0,     0,\n",
              "            0,     0,     0,     0,     0,     0,     0,     0,     0,\n",
              "            0,     0,     0,     0,     0,     0,     0,     0,     0,\n",
              "            0,     0,     0,     0,     0,     0,     0,     0,     0,\n",
              "            0,     0,     0,     0,     0,     0,     0,     0,     0,\n",
              "            0,     0,     0,     0,     0,     0,     0,     0,     0,\n",
              "            0,     0,     0,     0,     0,     0,     0,     0,     0,\n",
              "            0,     0,     0,     0,     0,     0,     0,     0,     0,\n",
              "            0,     0,     0,     0,     0,     0,     0,     0,     0,\n",
              "            0,     0,     0,     0,     0,     0,     0,     0,     0,\n",
              "            0,     0,     0,     0,     0,     0,     0,     0,     0,\n",
              "            0,     0,     0,     0,     0,     0,     0,     0,     0,\n",
              "            0,     0,     0,     0,     0,     0,     0,     0,     0,\n",
              "            0,     0,     0,     0,     0,     0,     0,     0,     0,\n",
              "            0,     0,     0,     0,     0,     0,     0,     0,     0,\n",
              "            0,     0,     0,     0,     0,     0,     0,     0,     0,\n",
              "            0,     0,     0,     0,     0,     0,     0,     0,     0,\n",
              "            0,     0,     0,     0,     0,     0,     0,     0,     0,\n",
              "            0,     0,     0,     0,     0,     0,     0,     0,     0])>,\n",
              " <tf.Tensor: shape=(), dtype=int32, numpy=1>)"
            ]
          },
          "metadata": {
            "tags": []
          },
          "execution_count": 30
        }
      ]
    },
    {
      "cell_type": "code",
      "metadata": {
        "id": "57m2OiyyN2AA",
        "colab": {
          "base_uri": "https://localhost:8080/"
        },
        "outputId": "db62b7b4-ad84-4b15-e9a1-fda7c98628e6"
      },
      "source": [
        "# [No. of positive reviews, No. of negative reviews] in first 10 batches of test data\n",
        "for f0,f1 in test_data.take(10):\n",
        "  print(tf.unique_with_counts(f1)[2].numpy())"
      ],
      "execution_count": 33,
      "outputs": [
        {
          "output_type": "stream",
          "text": [
            "[ 74 122]\n",
            "[ 71 125]\n",
            "[150  46]\n",
            "[126  70]\n",
            "[ 54 142]\n",
            "[129  67]\n",
            "[123  73]\n",
            "[127  69]\n",
            "[139  57]\n",
            "[ 61 135]\n"
          ],
          "name": "stdout"
        }
      ]
    },
    {
      "cell_type": "markdown",
      "metadata": {
        "id": "nsdCNnKAH0pE"
      },
      "source": [
        "# Model Development"
      ]
    },
    {
      "cell_type": "code",
      "metadata": {
        "id": "Z5rUcypcIytc"
      },
      "source": [
        "model = tf.keras.Sequential()\n",
        "################################ EMBEDDING LAYER #########################################\n",
        "#input_dim = Size of the vocabulary, \n",
        "# output_dim = Dimension of the dense embedding.\n",
        "model.add(tf.keras.layers.Embedding(vocab_size, 128))\n",
        "\n",
        "################################ LSTM LAYERS #############################################\n",
        "model.add(tf.keras.layers.Bidirectional(tf.keras.layers.LSTM(128, return_sequences=True)))\n",
        "model.add(tf.keras.layers.Bidirectional(tf.keras.layers.LSTM(64)))\n",
        "\n",
        "################################ DENSE AND DROP-OUT LAYERS #################################\n",
        "for units in [64, 32, 16]:\n",
        "  model.add(tf.keras.layers.Dense(units, activation='relu'))\n",
        "  model.add(tf.keras.layers.Dropout(units*0.006))\n",
        "\n",
        "################################ OUTPUT LAYER #############################################\n",
        "model.add(tf.keras.layers.Dense(1))"
      ],
      "execution_count": 34,
      "outputs": []
    },
    {
      "cell_type": "code",
      "metadata": {
        "id": "OpOPcVniJ6Lo"
      },
      "source": [
        "model.compile(optimizer='adam',\n",
        "              loss=tf.keras.losses.BinaryCrossentropy(from_logits=True),\n",
        "              metrics=['accuracy'])"
      ],
      "execution_count": 35,
      "outputs": []
    },
    {
      "cell_type": "code",
      "metadata": {
        "id": "Czu6x1d7KnBs",
        "outputId": "a149aff4-cf45-4edd-83c8-5fd81922d4e5",
        "colab": {
          "base_uri": "https://localhost:8080/"
        }
      },
      "source": [
        "model.summary()"
      ],
      "execution_count": 37,
      "outputs": [
        {
          "output_type": "stream",
          "text": [
            "Model: \"sequential\"\n",
            "_________________________________________________________________\n",
            "Layer (type)                 Output Shape              Param #   \n",
            "=================================================================\n",
            "embedding (Embedding)        (None, None, 128)         9438592   \n",
            "_________________________________________________________________\n",
            "bidirectional (Bidirectional (None, None, 256)         263168    \n",
            "_________________________________________________________________\n",
            "bidirectional_1 (Bidirection (None, 128)               164352    \n",
            "_________________________________________________________________\n",
            "dense (Dense)                (None, 64)                8256      \n",
            "_________________________________________________________________\n",
            "dropout (Dropout)            (None, 64)                0         \n",
            "_________________________________________________________________\n",
            "dense_1 (Dense)              (None, 32)                2080      \n",
            "_________________________________________________________________\n",
            "dropout_1 (Dropout)          (None, 32)                0         \n",
            "_________________________________________________________________\n",
            "dense_2 (Dense)              (None, 16)                528       \n",
            "_________________________________________________________________\n",
            "dropout_2 (Dropout)          (None, 16)                0         \n",
            "_________________________________________________________________\n",
            "dense_3 (Dense)              (None, 1)                 17        \n",
            "=================================================================\n",
            "Total params: 9,876,993\n",
            "Trainable params: 9,876,993\n",
            "Non-trainable params: 0\n",
            "_________________________________________________________________\n"
          ],
          "name": "stdout"
        }
      ]
    },
    {
      "cell_type": "markdown",
      "metadata": {
        "id": "k9WZeE-wOHZb"
      },
      "source": [
        "# Training"
      ]
    },
    {
      "cell_type": "code",
      "metadata": {
        "id": "q9ggc2kmKDWT",
        "colab": {
          "base_uri": "https://localhost:8080/"
        },
        "outputId": "6c851b3c-3303-4a0b-aa31-145a934c46d8"
      },
      "source": [
        "history=model.fit(train_data, epochs=6, validation_data=test_data)"
      ],
      "execution_count": 36,
      "outputs": [
        {
          "output_type": "stream",
          "text": [
            "Epoch 1/6\n",
            "465/465 [==============================] - 349s 563ms/step - loss: 0.4458 - accuracy: 0.7618 - val_loss: 0.3080 - val_accuracy: 0.8545\n",
            "Epoch 2/6\n",
            "465/465 [==============================] - 318s 565ms/step - loss: 0.2614 - accuracy: 0.8962 - val_loss: 0.2749 - val_accuracy: 0.8721\n",
            "Epoch 3/6\n",
            "465/465 [==============================] - 319s 566ms/step - loss: 0.2074 - accuracy: 0.9198 - val_loss: 0.2763 - val_accuracy: 0.8879\n",
            "Epoch 4/6\n",
            "465/465 [==============================] - 321s 569ms/step - loss: 0.1721 - accuracy: 0.9349 - val_loss: 0.2900 - val_accuracy: 0.8766\n",
            "Epoch 5/6\n",
            "465/465 [==============================] - 326s 579ms/step - loss: 0.1488 - accuracy: 0.9444 - val_loss: 0.3383 - val_accuracy: 0.8689\n",
            "Epoch 6/6\n",
            "465/465 [==============================] - 327s 575ms/step - loss: 0.1254 - accuracy: 0.9539 - val_loss: 0.3260 - val_accuracy: 0.8704\n"
          ],
          "name": "stdout"
        }
      ]
    },
    {
      "cell_type": "code",
      "metadata": {
        "id": "02VWrXOnCwlI"
      },
      "source": [
        "# save the model\n",
        "model.save('/tmp/final_sentiment_analysis.hdf5')"
      ],
      "execution_count": 38,
      "outputs": []
    },
    {
      "cell_type": "code",
      "metadata": {
        "id": "SNZ49aApOnFw"
      },
      "source": [
        "def plot_graphs(history, metric):\n",
        "  plt.plot(history.history[metric])\n",
        "  plt.plot(history.history['val_'+metric], '')\n",
        "  plt.xlabel(\"Epochs\")\n",
        "  plt.ylabel(metric)\n",
        "  plt.legend([metric, 'val_'+metric])\n",
        "  plt.show()"
      ],
      "execution_count": 39,
      "outputs": []
    },
    {
      "cell_type": "code",
      "metadata": {
        "id": "8Qi68wduo3bD",
        "colab": {
          "base_uri": "https://localhost:8080/",
          "height": 279
        },
        "outputId": "43f59a89-3b3c-4990-df8c-5430e9021a74"
      },
      "source": [
        "plot_graphs(history, 'accuracy')"
      ],
      "execution_count": 40,
      "outputs": [
        {
          "output_type": "display_data",
          "data": {
            "image/png": "[encoded data removed]",
            "text/plain": [
              "<Figure size 432x288 with 1 Axes>"
            ]
          },
          "metadata": {
            "tags": [],
            "needs_background": "light"
          }
        }
      ]
    },
    {
      "cell_type": "code",
      "metadata": {
        "id": "qCzGm1Bao90j",
        "colab": {
          "base_uri": "https://localhost:8080/",
          "height": 279
        },
        "outputId": "19bdcab9-01bf-45c3-e510-f1622da9a760"
      },
      "source": [
        "plot_graphs(history, 'loss')"
      ],
      "execution_count": 41,
      "outputs": [
        {
          "output_type": "display_data",
          "data": {
            "image/png": "[encoded data removed]",
            "text/plain": [
              "<Figure size 432x288 with 1 Axes>"
            ]
          },
          "metadata": {
            "tags": [],
            "needs_background": "light"
          }
        }
      ]
    },
    {
      "cell_type": "markdown",
      "metadata": {
        "id": "tsVIUp8vOQ2S"
      },
      "source": [
        "# Testing"
      ]
    },
    {
      "cell_type": "code",
      "metadata": {
        "id": "4zcuVcXlKfh5"
      },
      "source": [
        "# eval_loss, eval_acc = model.evaluate(test_data)\n",
        "# print('\\nEval loss: {:.3f}, Eval accuracy: {:.3f}'.format(eval_loss, eval_acc))"
      ],
      "execution_count": null,
      "outputs": []
    },
    {
      "cell_type": "code",
      "metadata": {
        "id": "ATpSMfLmgO_E"
      },
      "source": [
        "# for f0,f1 in test_data.take(1):\n",
        "#   print(f1)\n",
        "#   print(model.predict(f0))"
      ],
      "execution_count": null,
      "outputs": []
    },
    {
      "cell_type": "markdown",
      "metadata": {
        "id": "Y0elv6x7OhE2"
      },
      "source": [
        "# Inference"
      ]
    },
    {
      "cell_type": "code",
      "metadata": {
        "id": "isp05R90DC4G"
      },
      "source": [
        "# loading the model\n",
        "tf.keras.backend.clear_session()\n",
        "sa_load = tf.keras.models.load_model('/tmp/final_sentiment_analysis.hdf5',compile = False)"
      ],
      "execution_count": 44,
      "outputs": []
    },
    {
      "cell_type": "code",
      "metadata": {
        "id": "RxII-t17evJu"
      },
      "source": [
        "def pad_to_size(vec, size):\n",
        "  zeros = [0] * (size - len(vec))\n",
        "  vec.extend(zeros)\n",
        "  return vec"
      ],
      "execution_count": 42,
      "outputs": []
    },
    {
      "cell_type": "code",
      "metadata": {
        "id": "-C9PRE-yXyzX"
      },
      "source": [
        "def predict_fn(pred_text):\n",
        "  encoded_pred_text = encoder.encode(pred_text)\n",
        "  print(encoded_pred_text)\n",
        "  encoded_pred_text = pad_to_size(encoded_pred_text, 32)\n",
        "  print(encoded_pred_text)\n",
        "  encoded_pred_text = tf.cast(encoded_pred_text, tf.float32)\n",
        "  predictions = sa_load.predict(tf.expand_dims(encoded_pred_text, 0))\n",
        "\n",
        "  return (predictions)"
      ],
      "execution_count": 43,
      "outputs": []
    },
    {
      "cell_type": "code",
      "metadata": {
        "id": "WHNkvOmiYnKF",
        "colab": {
          "base_uri": "https://localhost:8080/"
        },
        "outputId": "41747830-74ea-457d-8aa0-fd6753a56ad9"
      },
      "source": [
        "pred_text = ('This watch is pretty bad. Color and dial looks pathetic.')\n",
        "predictions = predict_fn(pred_text)\n",
        "print(predictions)"
      ],
      "execution_count": 45,
      "outputs": [
        {
          "output_type": "stream",
          "text": [
            "[70892, 33482, 42494, 69477, 56847, 58883, 32631, 7439, 66667, 72713]\n",
            "[70892, 33482, 42494, 69477, 56847, 58883, 32631, 7439, 66667, 72713, 0, 0, 0, 0, 0, 0, 0, 0, 0, 0, 0, 0, 0, 0, 0, 0, 0, 0, 0, 0, 0, 0]\n",
            "[[-5.60905]]\n"
          ],
          "name": "stdout"
        }
      ]
    },
    {
      "cell_type": "code",
      "metadata": {
        "id": "-YCnO_394yGh",
        "colab": {
          "base_uri": "https://localhost:8080/"
        },
        "outputId": "c9f0c156-08da-4060-da53-f775f7c95a48"
      },
      "source": [
        "pred_text = ('Color and dial does not look as advertised. Shipping was not any better as well')\n",
        "predictions = predict_fn(pred_text)\n",
        "print(predictions)"
      ],
      "execution_count": 46,
      "outputs": [
        {
          "output_type": "stream",
          "text": [
            "[58883, 32631, 7439, 68968, 66733, 16867, 67868, 60060, 54514, 68661, 66733, 59556, 35628, 67868, 39252]\n",
            "[58883, 32631, 7439, 68968, 66733, 16867, 67868, 60060, 54514, 68661, 66733, 59556, 35628, 67868, 39252, 0, 0, 0, 0, 0, 0, 0, 0, 0, 0, 0, 0, 0, 0, 0, 0, 0]\n",
            "[[-5.259117]]\n"
          ],
          "name": "stdout"
        }
      ]
    },
    {
      "cell_type": "code",
      "metadata": {
        "id": "Dg3-u8fAfFoh",
        "colab": {
          "base_uri": "https://localhost:8080/"
        },
        "outputId": "26987640-8e5d-40e2-e119-6fe4171d48b9"
      },
      "source": [
        "pred_text = ('Amazing product. Fast Delivery. Nice packing')\n",
        "predictions = predict_fn(pred_text)\n",
        "print(predictions)"
      ],
      "execution_count": 47,
      "outputs": [
        {
          "output_type": "stream",
          "text": [
            "[62548, 52145, 52920, 22458, 62939, 54716]\n",
            "[62548, 52145, 52920, 22458, 62939, 54716, 0, 0, 0, 0, 0, 0, 0, 0, 0, 0, 0, 0, 0, 0, 0, 0, 0, 0, 0, 0, 0, 0, 0, 0, 0, 0]\n",
            "[[5.343912]]\n"
          ],
          "name": "stdout"
        }
      ]
    },
    {
      "cell_type": "code",
      "metadata": {
        "id": "NM7UFDyJ4lpz",
        "colab": {
          "base_uri": "https://localhost:8080/"
        },
        "outputId": "900a2fc1-a4e5-4f83-d016-cbb88ce141e0"
      },
      "source": [
        "pred_text = ('Nice product. Packing could have been better')\n",
        "predictions = predict_fn(pred_text)\n",
        "print(predictions)"
      ],
      "execution_count": 48,
      "outputs": [
        {
          "output_type": "stream",
          "text": [
            "[62939, 52145, 54716, 34514, 53722, 65009, 35628]\n",
            "[62939, 52145, 54716, 34514, 53722, 65009, 35628, 0, 0, 0, 0, 0, 0, 0, 0, 0, 0, 0, 0, 0, 0, 0, 0, 0, 0, 0, 0, 0, 0, 0, 0, 0]\n",
            "[[1.5852466]]\n"
          ],
          "name": "stdout"
        }
      ]
    }
  ]
}