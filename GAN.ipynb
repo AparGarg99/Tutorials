{
  "nbformat": 4,
  "nbformat_minor": 0,
  "metadata": {
    "colab": {
      "name": "Create your own gan .ipynb",
      "provenance": []
    },
    "kernelspec": {
      "name": "python3",
      "display_name": "Python 3"
    },
    "language_info": {
      "name": "python"
    },
    "accelerator": "GPU"
  },
  "cells": [
    {
      "cell_type": "markdown",
      "metadata": {
        "id": "fhUAt0IpvmUz"
      },
      "source": [
        "# Import Libraries"
      ]
    },
    {
      "cell_type": "code",
      "metadata": {
        "id": "IHd1YvHlyH9X"
      },
      "source": [
        "import torch\n",
        "from torch import nn\n",
        "import math\n",
        "import matplotlib.pyplot as plt"
      ],
      "execution_count": 1,
      "outputs": []
    },
    {
      "cell_type": "markdown",
      "metadata": {
        "id": "3NnsJCWUvjA0"
      },
      "source": [
        "# Discriminator Data"
      ]
    },
    {
      "cell_type": "code",
      "metadata": {
        "id": "oucfbF3fyOmk"
      },
      "source": [
        "# Define real data to feed to discriminator\n",
        "# In this case, we'll create the data\n",
        "# data is sin wave\n",
        "\n",
        "train_data_length = 1024 # number of rows/samples/points\n",
        "train_data = torch.zeros((train_data_length, 2))\n",
        "train_data[:, 0] = 2 * math.pi * torch.rand(train_data_length)\n",
        "train_data[:, 1] = torch.sin(train_data[:, 0])\n",
        "train_labels = torch.zeros(train_data_length)\n",
        "train_set = [\n",
        "    (train_data[i], train_labels[i]) for i in range(train_data_length)\n",
        "]"
      ],
      "execution_count": 2,
      "outputs": []
    },
    {
      "cell_type": "code",
      "metadata": {
        "colab": {
          "base_uri": "https://localhost:8080/"
        },
        "id": "kk-Lq7vAHeoe",
        "outputId": "3b1978a7-5103-4e89-d6c9-34c1bad86e48"
      },
      "source": [
        "train_data"
      ],
      "execution_count": 3,
      "outputs": [
        {
          "output_type": "execute_result",
          "data": {
            "text/plain": [
              "tensor([[ 2.0995e-01,  2.0841e-01],\n",
              "        [ 2.6439e+00,  4.7744e-01],\n",
              "        [ 5.2292e+00, -8.6940e-01],\n",
              "        ...,\n",
              "        [ 1.6511e+00,  9.9678e-01],\n",
              "        [ 1.8992e+00,  9.4657e-01],\n",
              "        [ 3.0796e-03,  3.0796e-03]])"
            ]
          },
          "metadata": {
            "tags": []
          },
          "execution_count": 3
        }
      ]
    },
    {
      "cell_type": "code",
      "metadata": {
        "colab": {
          "base_uri": "https://localhost:8080/"
        },
        "id": "sHhXtAaGHcBM",
        "outputId": "abd210fa-5a0f-4db1-da0f-fba47cc432c7"
      },
      "source": [
        "train_labels"
      ],
      "execution_count": 4,
      "outputs": [
        {
          "output_type": "execute_result",
          "data": {
            "text/plain": [
              "tensor([0., 0., 0.,  ..., 0., 0., 0.])"
            ]
          },
          "metadata": {
            "tags": []
          },
          "execution_count": 4
        }
      ]
    },
    {
      "cell_type": "code",
      "metadata": {
        "colab": {
          "base_uri": "https://localhost:8080/",
          "height": 282
        },
        "id": "HSycTtIFyROk",
        "outputId": "682986d4-543a-4216-a315-43c231943bd2"
      },
      "source": [
        "plt.plot(train_data[:, 0], train_data[:, 1], \".\")"
      ],
      "execution_count": 5,
      "outputs": [
        {
          "output_type": "execute_result",
          "data": {
            "text/plain": [
              "[<matplotlib.lines.Line2D at 0x7fcb2b9f9e50>]"
            ]
          },
          "metadata": {
            "tags": []
          },
          "execution_count": 5
        },
        {
          "output_type": "display_data",
          "data": {
            "image/png": "[encoded data removed]",
            "text/plain": [
              "<Figure size 432x288 with 1 Axes>"
            ]
          },
          "metadata": {
            "tags": [],
            "needs_background": "light"
          }
        }
      ]
    },
    {
      "cell_type": "code",
      "metadata": {
        "id": "RVaBClmJyTv3",
        "outputId": "536e22a4-a8d4-4f8e-9505-ed82b0af9a4c",
        "colab": {
          "base_uri": "https://localhost:8080/"
        }
      },
      "source": [
        "batch_size = 32\n",
        "train_loader = torch.utils.data.DataLoader(\n",
        "    train_set, batch_size=batch_size, shuffle=True\n",
        ")\n",
        "train_loader"
      ],
      "execution_count": 6,
      "outputs": [
        {
          "output_type": "execute_result",
          "data": {
            "text/plain": [
              "<torch.utils.data.dataloader.DataLoader at 0x7fcb2b9c5510>"
            ]
          },
          "metadata": {
            "tags": []
          },
          "execution_count": 6
        }
      ]
    },
    {
      "cell_type": "markdown",
      "metadata": {
        "id": "nEApbHVYvcgF"
      },
      "source": [
        "# Define Neural Networks"
      ]
    },
    {
      "cell_type": "code",
      "metadata": {
        "id": "0i6cNECFzSYi"
      },
      "source": [
        "# Define Discriminator Neural Network\n",
        "# Discriminator is just a binary classifier that tries to learn which data is real (1) and which is fake (0)\n",
        "# We can use an Advanced CNN network like VGG16 as Discriminator if we want\n",
        "class Discriminator(nn.Module):\n",
        "    def __init__(self):\n",
        "        super().__init__()\n",
        "        self.model = nn.Sequential(\n",
        "            nn.Linear(2, 556), # Input Layer - 2 neurons, Hidden Layer - 556 neurons\n",
        "            nn.ReLU(), # use relu in hidden layer\n",
        "            nn.Dropout(0.3), # add dropout to hidden layer\n",
        "            nn.Linear(556, 128), # Hidden Layer 2 - 556 neurons, Hidden Layer 3 - 128 neurons\n",
        "            nn.Dropout(0.3),\n",
        "            nn.Linear(128, 128),\n",
        "            nn.ReLU(),\n",
        "            nn.Dropout(0.3),\n",
        "            nn.Linear(128, 64),\n",
        "            nn.ReLU(),\n",
        "            nn.Dropout(0.3),\n",
        "            nn.Linear(64, 1), \n",
        "            nn.Sigmoid(), # output layer gives probabolity of real or fake\n",
        "        )\n",
        "\n",
        "    def forward(self, x):\n",
        "        output = self.model(x)\n",
        "        return output\n",
        "\n",
        "discriminator = Discriminator()"
      ],
      "execution_count": 7,
      "outputs": []
    },
    {
      "cell_type": "code",
      "metadata": {
        "id": "vvU0U4yTz7hl"
      },
      "source": [
        "# Define Generator Neural Network\n",
        "# Generator generates data and then checks with Discriminator if it is classified as 0 or 1\n",
        "class Generator(nn.Module):\n",
        "    def __init__(self):\n",
        "        super().__init__()\n",
        "        self.model = nn.Sequential(\n",
        "            nn.Linear(2, 16),\n",
        "            nn.ReLU(),\n",
        "            nn.Linear(16, 32),\n",
        "            nn.ReLU(),\n",
        "            nn.Linear(32, 2), # Generator output must have same dimension as Discriminator input. In this case 2\n",
        "        )\n",
        "\n",
        "    def forward(self, x):\n",
        "        output = self.model(x)\n",
        "        return output\n",
        "\n",
        "generator = Generator()"
      ],
      "execution_count": 8,
      "outputs": []
    },
    {
      "cell_type": "markdown",
      "metadata": {
        "id": "LPdxs5fCsVJV"
      },
      "source": [
        "# Training"
      ]
    },
    {
      "cell_type": "code",
      "metadata": {
        "id": "Oef3DD_J0AaC"
      },
      "source": [
        "lr = 0.001\n",
        "num_epochs = 300\n",
        "loss_function = nn.BCELoss() # Binary Cross Entropy Loss (for two classes - real or fake)"
      ],
      "execution_count": 9,
      "outputs": []
    },
    {
      "cell_type": "code",
      "metadata": {
        "id": "OFlk0qjr0CsZ"
      },
      "source": [
        "optimizer_discriminator = torch.optim.Adam(discriminator.parameters(), lr=lr)\n",
        "optimizer_generator = torch.optim.Adam(generator.parameters(), lr=lr)"
      ],
      "execution_count": 10,
      "outputs": []
    },
    {
      "cell_type": "code",
      "metadata": {
        "colab": {
          "base_uri": "https://localhost:8080/"
        },
        "id": "uRtjSGPJ0FRG",
        "outputId": "9e2869ea-2a6c-4793-9387-279badf37563"
      },
      "source": [
        "for epoch in range(num_epochs):\n",
        "    for n, (real_samples, _) in enumerate(train_loader):\n",
        "        ##################### Data for training the discriminator ###################\n",
        "        # give all data samples in train_loader as label 1 (real)\n",
        "        real_samples_labels = torch.ones((batch_size, 1))\n",
        "\n",
        "        # create random samples and give label 0 (fake)\n",
        "        latent_space_samples = torch.randn((batch_size, 2))\n",
        "        generated_samples = generator(latent_space_samples)\n",
        "        generated_samples_labels = torch.zeros((batch_size, 1))\n",
        "\n",
        "        # concatenate both data to create final data\n",
        "        all_samples = torch.cat((real_samples, generated_samples))\n",
        "        all_samples_labels = torch.cat(\n",
        "            (real_samples_labels, generated_samples_labels)\n",
        "        )\n",
        "\n",
        "        ##################### Training the discriminator #####################\n",
        "        discriminator.zero_grad()\n",
        "        output_discriminator = discriminator(all_samples)\n",
        "        loss_discriminator = loss_function(\n",
        "            output_discriminator, all_samples_labels)\n",
        "        loss_discriminator.backward()\n",
        "        optimizer_discriminator.step()\n",
        "\n",
        "        ##################### Data for training the generator #####################\n",
        "        latent_space_samples = torch.randn((batch_size, 2))\n",
        "\n",
        "        ##################### Training the generator #####################\n",
        "        generator.zero_grad()\n",
        "        generated_samples = generator(latent_space_samples)\n",
        "        output_discriminator_generated = discriminator(generated_samples)\n",
        "        loss_generator = loss_function(\n",
        "            output_discriminator_generated, real_samples_labels\n",
        "        )\n",
        "        loss_generator.backward()\n",
        "        optimizer_generator.step()\n",
        "\n",
        "        ##################### Show loss #####################\n",
        "        if epoch % 10 == 0 and n == batch_size - 1:\n",
        "          print(f\"Epoch: {epoch}\")\n",
        "          print(f\"Loss D.: {loss_discriminator}\")\n",
        "          print(f\"Loss G.: {loss_generator}\")\n",
        "          print('*'*50)"
      ],
      "execution_count": 11,
      "outputs": [
        {
          "output_type": "stream",
          "text": [
            "Epoch: 0\n",
            "Loss D.: 0.2576194405555725\n",
            "Loss G.: 3.0370025634765625\n",
            "**************************************************\n",
            "Epoch: 10\n",
            "Loss D.: 0.5843027830123901\n",
            "Loss G.: 0.8879982829093933\n",
            "**************************************************\n",
            "Epoch: 20\n",
            "Loss D.: 0.5860276818275452\n",
            "Loss G.: 1.383456826210022\n",
            "**************************************************\n",
            "Epoch: 30\n",
            "Loss D.: 0.6625666618347168\n",
            "Loss G.: 0.7551732063293457\n",
            "**************************************************\n",
            "Epoch: 40\n",
            "Loss D.: 0.5603922009468079\n",
            "Loss G.: 1.6609838008880615\n",
            "**************************************************\n",
            "Epoch: 50\n",
            "Loss D.: 0.6098954081535339\n",
            "Loss G.: 0.8504117131233215\n",
            "**************************************************\n",
            "Epoch: 60\n",
            "Loss D.: 0.7456086874008179\n",
            "Loss G.: 0.6710877418518066\n",
            "**************************************************\n",
            "Epoch: 70\n",
            "Loss D.: 0.7257207036018372\n",
            "Loss G.: 0.7126896977424622\n",
            "**************************************************\n",
            "Epoch: 80\n",
            "Loss D.: 0.71027672290802\n",
            "Loss G.: 0.8200652599334717\n",
            "**************************************************\n",
            "Epoch: 90\n",
            "Loss D.: 0.8941309452056885\n",
            "Loss G.: 0.8715376853942871\n",
            "**************************************************\n",
            "Epoch: 100\n",
            "Loss D.: 0.47694411873817444\n",
            "Loss G.: 2.1897237300872803\n",
            "**************************************************\n",
            "Epoch: 110\n",
            "Loss D.: 0.7814574837684631\n",
            "Loss G.: 0.6312015652656555\n",
            "**************************************************\n",
            "Epoch: 120\n",
            "Loss D.: 0.5704476833343506\n",
            "Loss G.: 1.0249567031860352\n",
            "**************************************************\n",
            "Epoch: 130\n",
            "Loss D.: 0.507722020149231\n",
            "Loss G.: 1.745891809463501\n",
            "**************************************************\n",
            "Epoch: 140\n",
            "Loss D.: 0.6935945749282837\n",
            "Loss G.: 0.7321501970291138\n",
            "**************************************************\n",
            "Epoch: 150\n",
            "Loss D.: 0.695602297782898\n",
            "Loss G.: 0.8818906545639038\n",
            "**************************************************\n",
            "Epoch: 160\n",
            "Loss D.: 0.6919676065444946\n",
            "Loss G.: 0.6806430220603943\n",
            "**************************************************\n",
            "Epoch: 170\n",
            "Loss D.: 0.5533553957939148\n",
            "Loss G.: 2.2973554134368896\n",
            "**************************************************\n",
            "Epoch: 180\n",
            "Loss D.: 0.5626776814460754\n",
            "Loss G.: 1.1755356788635254\n",
            "**************************************************\n",
            "Epoch: 190\n",
            "Loss D.: 0.7693452835083008\n",
            "Loss G.: 0.8181284070014954\n",
            "**************************************************\n",
            "Epoch: 200\n",
            "Loss D.: 0.7478846311569214\n",
            "Loss G.: 0.7994341254234314\n",
            "**************************************************\n",
            "Epoch: 210\n",
            "Loss D.: 0.65630042552948\n",
            "Loss G.: 1.0889371633529663\n",
            "**************************************************\n",
            "Epoch: 220\n",
            "Loss D.: 0.6133177280426025\n",
            "Loss G.: 1.90168035030365\n",
            "**************************************************\n",
            "Epoch: 230\n",
            "Loss D.: 0.6053288578987122\n",
            "Loss G.: 0.9776093363761902\n",
            "**************************************************\n",
            "Epoch: 240\n",
            "Loss D.: 0.5021637082099915\n",
            "Loss G.: 1.9354522228240967\n",
            "**************************************************\n",
            "Epoch: 250\n",
            "Loss D.: 0.6362695097923279\n",
            "Loss G.: 0.9399407505989075\n",
            "**************************************************\n",
            "Epoch: 260\n",
            "Loss D.: 0.7645760774612427\n",
            "Loss G.: 0.7527881264686584\n",
            "**************************************************\n",
            "Epoch: 270\n",
            "Loss D.: 0.587612509727478\n",
            "Loss G.: 1.053841233253479\n",
            "**************************************************\n",
            "Epoch: 280\n",
            "Loss D.: 0.6674016118049622\n",
            "Loss G.: 0.8451194763183594\n",
            "**************************************************\n",
            "Epoch: 290\n",
            "Loss D.: 0.5811357498168945\n",
            "Loss G.: 1.1833791732788086\n",
            "**************************************************\n"
          ],
          "name": "stdout"
        }
      ]
    },
    {
      "cell_type": "markdown",
      "metadata": {
        "id": "wsqyKMV3rpCH"
      },
      "source": [
        "# Testing"
      ]
    },
    {
      "cell_type": "code",
      "metadata": {
        "id": "ItF2KbIE0Q4R"
      },
      "source": [
        "# create 500 samples for testing\n",
        "latent_space_samples = torch.randn(500, 2)"
      ],
      "execution_count": 12,
      "outputs": []
    },
    {
      "cell_type": "code",
      "metadata": {
        "colab": {
          "base_uri": "https://localhost:8080/",
          "height": 282
        },
        "id": "kJTLHUuT0W0I",
        "outputId": "8df93013-42f1-4553-80ea-ecaf38412c16"
      },
      "source": [
        "# feed data to generator\n",
        "# we only need generator for inference\n",
        "generated_samples = generator(latent_space_samples)\n",
        "generated_samples = generated_samples.detach()\n",
        "plt.plot(generated_samples[:, 0], generated_samples[:, 1], \".\")"
      ],
      "execution_count": 13,
      "outputs": [
        {
          "output_type": "execute_result",
          "data": {
            "text/plain": [
              "[<matplotlib.lines.Line2D at 0x7fcb23d866d0>]"
            ]
          },
          "metadata": {
            "tags": []
          },
          "execution_count": 13
        },
        {
          "output_type": "display_data",
          "data": {
            "image/png": "[encoded data removed]",
            "text/plain": [
              "<Figure size 432x288 with 1 Axes>"
            ]
          },
          "metadata": {
            "tags": [],
            "needs_background": "light"
          }
        }
      ]
    }
  ]
}