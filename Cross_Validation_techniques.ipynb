{
  "nbformat": 4,
  "nbformat_minor": 5,
  "metadata": {
    "kernelspec": {
      "display_name": "Python 3",
      "language": "python",
      "name": "python3"
    },
    "language_info": {
      "codemirror_mode": {
        "name": "ipython",
        "version": 3
      },
      "file_extension": ".py",
      "mimetype": "text/x-python",
      "name": "python",
      "nbconvert_exporter": "python",
      "pygments_lexer": "ipython3",
      "version": "3.7.10"
    },
    "colab": {
      "name": "All Types Of Cross Validation.ipynb",
      "provenance": [],
      "toc_visible": true
    }
  },
  "cells": [
    {
      "cell_type": "markdown",
      "metadata": {
        "id": "-SKPyBZzbDtF"
      },
      "source": [
        "Cross-Validation is a resampling technique that helps to make our model sure about its efficiency and accuracy on the unseen data.\n",
        "\n",
        "In this tutorial, I'll talk about 3 common Cross-Validation techniques:¶\n",
        "1. Holdout cross-validation (traditional train-test split)\n",
        "2. k-fold cross-validation (variants - LOOCV, LpOCV)\n",
        "3. Stratified k-fold cross-validation\n",
        "\n",
        "There are many hybrid Cross-Validation techniques available as well. Kindly refer to References section."
      ],
      "id": "-SKPyBZzbDtF"
    },
    {
      "cell_type": "markdown",
      "metadata": {
        "id": "aknxLXvYarAs"
      },
      "source": [
        "# Read Dataset"
      ],
      "id": "aknxLXvYarAs"
    },
    {
      "cell_type": "code",
      "metadata": {
        "id": "3845bf69",
        "outputId": "1e9fa630-a77d-4324-df00-1728f5cea908",
        "colab": {
          "base_uri": "https://localhost:8080/",
          "height": 232
        }
      },
      "source": [
        "import pandas as pd\n",
        "import numpy as np\n",
        "from sklearn.tree import DecisionTreeClassifier\n",
        "from sklearn.model_selection import cross_val_score\n",
        "df=pd.read_csv('cancer_dataset.csv')\n",
        "df.head()"
      ],
      "id": "3845bf69",
      "execution_count": 7,
      "outputs": [
        {
          "output_type": "execute_result",
          "data": {
            "text/html": [
              "<div>\n",
              "<style scoped>\n",
              "    .dataframe tbody tr th:only-of-type {\n",
              "        vertical-align: middle;\n",
              "    }\n",
              "\n",
              "    .dataframe tbody tr th {\n",
              "        vertical-align: top;\n",
              "    }\n",
              "\n",
              "    .dataframe thead th {\n",
              "        text-align: right;\n",
              "    }\n",
              "</style>\n",
              "<table border=\"1\" class=\"dataframe\">\n",
              "  <thead>\n",
              "    <tr style=\"text-align: right;\">\n",
              "      <th></th>\n",
              "      <th>id</th>\n",
              "      <th>diagnosis</th>\n",
              "      <th>radius_mean</th>\n",
              "      <th>texture_mean</th>\n",
              "      <th>perimeter_mean</th>\n",
              "      <th>area_mean</th>\n",
              "      <th>smoothness_mean</th>\n",
              "      <th>compactness_mean</th>\n",
              "      <th>concavity_mean</th>\n",
              "      <th>concave points_mean</th>\n",
              "      <th>symmetry_mean</th>\n",
              "      <th>fractal_dimension_mean</th>\n",
              "      <th>radius_se</th>\n",
              "      <th>texture_se</th>\n",
              "      <th>perimeter_se</th>\n",
              "      <th>area_se</th>\n",
              "      <th>smoothness_se</th>\n",
              "      <th>compactness_se</th>\n",
              "      <th>concavity_se</th>\n",
              "      <th>concave points_se</th>\n",
              "      <th>symmetry_se</th>\n",
              "      <th>fractal_dimension_se</th>\n",
              "      <th>radius_worst</th>\n",
              "      <th>texture_worst</th>\n",
              "      <th>perimeter_worst</th>\n",
              "      <th>area_worst</th>\n",
              "      <th>smoothness_worst</th>\n",
              "      <th>compactness_worst</th>\n",
              "      <th>concavity_worst</th>\n",
              "      <th>concave points_worst</th>\n",
              "      <th>symmetry_worst</th>\n",
              "      <th>fractal_dimension_worst</th>\n",
              "      <th>Unnamed: 32</th>\n",
              "    </tr>\n",
              "  </thead>\n",
              "  <tbody>\n",
              "    <tr>\n",
              "      <th>0</th>\n",
              "      <td>842302</td>\n",
              "      <td>M</td>\n",
              "      <td>17.99</td>\n",
              "      <td>10.38</td>\n",
              "      <td>122.80</td>\n",
              "      <td>1001.0</td>\n",
              "      <td>0.11840</td>\n",
              "      <td>0.27760</td>\n",
              "      <td>0.3001</td>\n",
              "      <td>0.14710</td>\n",
              "      <td>0.2419</td>\n",
              "      <td>0.07871</td>\n",
              "      <td>1.0950</td>\n",
              "      <td>0.9053</td>\n",
              "      <td>8.589</td>\n",
              "      <td>153.40</td>\n",
              "      <td>0.006399</td>\n",
              "      <td>0.04904</td>\n",
              "      <td>0.05373</td>\n",
              "      <td>0.01587</td>\n",
              "      <td>0.03003</td>\n",
              "      <td>0.006193</td>\n",
              "      <td>25.38</td>\n",
              "      <td>17.33</td>\n",
              "      <td>184.60</td>\n",
              "      <td>2019.0</td>\n",
              "      <td>0.1622</td>\n",
              "      <td>0.6656</td>\n",
              "      <td>0.7119</td>\n",
              "      <td>0.2654</td>\n",
              "      <td>0.4601</td>\n",
              "      <td>0.11890</td>\n",
              "      <td>NaN</td>\n",
              "    </tr>\n",
              "    <tr>\n",
              "      <th>1</th>\n",
              "      <td>842517</td>\n",
              "      <td>M</td>\n",
              "      <td>20.57</td>\n",
              "      <td>17.77</td>\n",
              "      <td>132.90</td>\n",
              "      <td>1326.0</td>\n",
              "      <td>0.08474</td>\n",
              "      <td>0.07864</td>\n",
              "      <td>0.0869</td>\n",
              "      <td>0.07017</td>\n",
              "      <td>0.1812</td>\n",
              "      <td>0.05667</td>\n",
              "      <td>0.5435</td>\n",
              "      <td>0.7339</td>\n",
              "      <td>3.398</td>\n",
              "      <td>74.08</td>\n",
              "      <td>0.005225</td>\n",
              "      <td>0.01308</td>\n",
              "      <td>0.01860</td>\n",
              "      <td>0.01340</td>\n",
              "      <td>0.01389</td>\n",
              "      <td>0.003532</td>\n",
              "      <td>24.99</td>\n",
              "      <td>23.41</td>\n",
              "      <td>158.80</td>\n",
              "      <td>1956.0</td>\n",
              "      <td>0.1238</td>\n",
              "      <td>0.1866</td>\n",
              "      <td>0.2416</td>\n",
              "      <td>0.1860</td>\n",
              "      <td>0.2750</td>\n",
              "      <td>0.08902</td>\n",
              "      <td>NaN</td>\n",
              "    </tr>\n",
              "    <tr>\n",
              "      <th>2</th>\n",
              "      <td>84300903</td>\n",
              "      <td>M</td>\n",
              "      <td>19.69</td>\n",
              "      <td>21.25</td>\n",
              "      <td>130.00</td>\n",
              "      <td>1203.0</td>\n",
              "      <td>0.10960</td>\n",
              "      <td>0.15990</td>\n",
              "      <td>0.1974</td>\n",
              "      <td>0.12790</td>\n",
              "      <td>0.2069</td>\n",
              "      <td>0.05999</td>\n",
              "      <td>0.7456</td>\n",
              "      <td>0.7869</td>\n",
              "      <td>4.585</td>\n",
              "      <td>94.03</td>\n",
              "      <td>0.006150</td>\n",
              "      <td>0.04006</td>\n",
              "      <td>0.03832</td>\n",
              "      <td>0.02058</td>\n",
              "      <td>0.02250</td>\n",
              "      <td>0.004571</td>\n",
              "      <td>23.57</td>\n",
              "      <td>25.53</td>\n",
              "      <td>152.50</td>\n",
              "      <td>1709.0</td>\n",
              "      <td>0.1444</td>\n",
              "      <td>0.4245</td>\n",
              "      <td>0.4504</td>\n",
              "      <td>0.2430</td>\n",
              "      <td>0.3613</td>\n",
              "      <td>0.08758</td>\n",
              "      <td>NaN</td>\n",
              "    </tr>\n",
              "    <tr>\n",
              "      <th>3</th>\n",
              "      <td>84348301</td>\n",
              "      <td>M</td>\n",
              "      <td>11.42</td>\n",
              "      <td>20.38</td>\n",
              "      <td>77.58</td>\n",
              "      <td>386.1</td>\n",
              "      <td>0.14250</td>\n",
              "      <td>0.28390</td>\n",
              "      <td>0.2414</td>\n",
              "      <td>0.10520</td>\n",
              "      <td>0.2597</td>\n",
              "      <td>0.09744</td>\n",
              "      <td>0.4956</td>\n",
              "      <td>1.1560</td>\n",
              "      <td>3.445</td>\n",
              "      <td>27.23</td>\n",
              "      <td>0.009110</td>\n",
              "      <td>0.07458</td>\n",
              "      <td>0.05661</td>\n",
              "      <td>0.01867</td>\n",
              "      <td>0.05963</td>\n",
              "      <td>0.009208</td>\n",
              "      <td>14.91</td>\n",
              "      <td>26.50</td>\n",
              "      <td>98.87</td>\n",
              "      <td>567.7</td>\n",
              "      <td>0.2098</td>\n",
              "      <td>0.8663</td>\n",
              "      <td>0.6869</td>\n",
              "      <td>0.2575</td>\n",
              "      <td>0.6638</td>\n",
              "      <td>0.17300</td>\n",
              "      <td>NaN</td>\n",
              "    </tr>\n",
              "    <tr>\n",
              "      <th>4</th>\n",
              "      <td>84358402</td>\n",
              "      <td>M</td>\n",
              "      <td>20.29</td>\n",
              "      <td>14.34</td>\n",
              "      <td>135.10</td>\n",
              "      <td>1297.0</td>\n",
              "      <td>0.10030</td>\n",
              "      <td>0.13280</td>\n",
              "      <td>0.1980</td>\n",
              "      <td>0.10430</td>\n",
              "      <td>0.1809</td>\n",
              "      <td>0.05883</td>\n",
              "      <td>0.7572</td>\n",
              "      <td>0.7813</td>\n",
              "      <td>5.438</td>\n",
              "      <td>94.44</td>\n",
              "      <td>0.011490</td>\n",
              "      <td>0.02461</td>\n",
              "      <td>0.05688</td>\n",
              "      <td>0.01885</td>\n",
              "      <td>0.01756</td>\n",
              "      <td>0.005115</td>\n",
              "      <td>22.54</td>\n",
              "      <td>16.67</td>\n",
              "      <td>152.20</td>\n",
              "      <td>1575.0</td>\n",
              "      <td>0.1374</td>\n",
              "      <td>0.2050</td>\n",
              "      <td>0.4000</td>\n",
              "      <td>0.1625</td>\n",
              "      <td>0.2364</td>\n",
              "      <td>0.07678</td>\n",
              "      <td>NaN</td>\n",
              "    </tr>\n",
              "  </tbody>\n",
              "</table>\n",
              "</div>"
            ],
            "text/plain": [
              "         id diagnosis  ...  fractal_dimension_worst  Unnamed: 32\n",
              "0    842302         M  ...                  0.11890          NaN\n",
              "1    842517         M  ...                  0.08902          NaN\n",
              "2  84300903         M  ...                  0.08758          NaN\n",
              "3  84348301         M  ...                  0.17300          NaN\n",
              "4  84358402         M  ...                  0.07678          NaN\n",
              "\n",
              "[5 rows x 33 columns]"
            ]
          },
          "metadata": {
            "tags": []
          },
          "execution_count": 7
        }
      ]
    },
    {
      "cell_type": "code",
      "metadata": {
        "id": "ab19efdb"
      },
      "source": [
        "X=df.iloc[:,2:-1]\n",
        "y=df.iloc[:,1]"
      ],
      "id": "ab19efdb",
      "execution_count": 8,
      "outputs": []
    },
    {
      "cell_type": "code",
      "metadata": {
        "id": "Z3pwEkmULnNC",
        "outputId": "23f11e6d-798d-46cc-def8-7c5037bc20a1",
        "colab": {
          "base_uri": "https://localhost:8080/"
        }
      },
      "source": [
        "df.shape"
      ],
      "id": "Z3pwEkmULnNC",
      "execution_count": 9,
      "outputs": [
        {
          "output_type": "execute_result",
          "data": {
            "text/plain": [
              "(569, 33)"
            ]
          },
          "metadata": {
            "tags": []
          },
          "execution_count": 9
        }
      ]
    },
    {
      "cell_type": "code",
      "metadata": {
        "id": "f6f5ea09",
        "outputId": "86ab24d1-8906-4076-ca81-2a8797a263de",
        "colab": {
          "base_uri": "https://localhost:8080/"
        }
      },
      "source": [
        "y.value_counts()"
      ],
      "id": "f6f5ea09",
      "execution_count": 10,
      "outputs": [
        {
          "output_type": "execute_result",
          "data": {
            "text/plain": [
              "B    357\n",
              "M    212\n",
              "Name: diagnosis, dtype: int64"
            ]
          },
          "metadata": {
            "tags": []
          },
          "execution_count": 10
        }
      ]
    },
    {
      "cell_type": "markdown",
      "metadata": {
        "id": "vLirwdHFazbD"
      },
      "source": [
        "# Cross-Validation"
      ],
      "id": "vLirwdHFazbD"
    },
    {
      "cell_type": "markdown",
      "metadata": {
        "id": "403c6b52"
      },
      "source": [
        "## Holdout cross-validation\n",
        "\n",
        "* Only 1 time evaluation (1 iteration).\n",
        "* The dataset is randomly split into training and validation data (based on split_size and random_state).\n",
        "* Not suitable for an imbalanced dataset."
      ],
      "id": "403c6b52"
    },
    {
      "cell_type": "code",
      "metadata": {
        "id": "6c6313e1",
        "outputId": "eae2b3e2-ab52-4bbb-b795-d0195c68198b",
        "colab": {
          "base_uri": "https://localhost:8080/"
        }
      },
      "source": [
        "from sklearn.model_selection import train_test_split\n",
        "\n",
        "X_train, X_test, y_train, y_test = train_test_split(X, y, test_size=0.30, random_state=4)\n",
        "model = DecisionTreeClassifier()\n",
        "model.fit(X_train, y_train)\n",
        "result = model.score(X_test, y_test)\n",
        "print(result)"
      ],
      "id": "6c6313e1",
      "execution_count": 11,
      "outputs": [
        {
          "output_type": "stream",
          "text": [
            "0.8771929824561403\n"
          ],
          "name": "stdout"
        }
      ]
    },
    {
      "cell_type": "markdown",
      "metadata": {
        "id": "be48e090"
      },
      "source": [
        "## k-fold cross-validation\n",
        "\n",
        "* One of the most widely used technique.\n",
        "* Not suitable for an imbalanced dataset.\n",
        "\n",
        "ALGORITHM: \n",
        "```\n",
        "* No. of total records in dataset = n\n",
        "* No. of evaluations/iterations = k\n",
        "\n",
        "In each iteration\n",
        "  * No. of records in test set = n/k\n",
        "  * No. of records in train set = n-(n/k)\n",
        "\n",
        "* Take average of all test accuracies\n",
        "```\n",
        "\n",
        "EXAMPLE:\n",
        "```\n",
        "Let k = 5 and n = 1000\n",
        "\n",
        "In each of 10 iterations\n",
        "  * No. of records in test set = n/k = 1000/5 = 200\n",
        "  * No. of records in train set = n-(n/k) = 1000-200 = 800\n",
        "\n",
        "Iteration 1 - first 200 test, last 800 train\n",
        "Iteration 2 - 200 train , 200 test, 600 train\n",
        "Iteration 3 - 400 train, 200 test, 400 train\n",
        "Iteration 4 - 600 train, 200 test, 200 train\n",
        "Iteration 5 - first 800 train, last 200 test\n",
        "```\n"
      ],
      "id": "be48e090"
    },
    {
      "cell_type": "code",
      "metadata": {
        "id": "82eecd5a",
        "outputId": "8fc78997-546f-4ab6-c7b1-e28cb558dcbd",
        "colab": {
          "base_uri": "https://localhost:8080/"
        }
      },
      "source": [
        "from sklearn.model_selection import KFold\n",
        "\n",
        "model=DecisionTreeClassifier()\n",
        "kfold_validation=KFold(10)\n",
        "results=cross_val_score(model,X,y,cv=kfold_validation)\n",
        "print(results)\n",
        "print(np.mean(results))"
      ],
      "id": "82eecd5a",
      "execution_count": 12,
      "outputs": [
        {
          "output_type": "stream",
          "text": [
            "[0.94736842 0.9122807  0.89473684 0.94736842 0.92982456 0.98245614\n",
            " 0.9122807  0.94736842 0.9122807  0.92857143]\n",
            "0.9314536340852129\n"
          ],
          "name": "stdout"
        }
      ]
    },
    {
      "cell_type": "markdown",
      "metadata": {
        "id": "fcb97b00"
      },
      "source": [
        "## Leave-one-out cross-validation (LOOCV)\n",
        "\n",
        "* Variant of k-fold cross-validation where k=n/1.\n",
        "* Not recommended to use.\n",
        "* High computation time required.\n",
        "\n",
        "ALGORITHM: \n",
        "```\n",
        "* No. of total records in dataset = n\n",
        "* No. of evaluations/iterations = k = n\n",
        "\n",
        "In each iteration\n",
        "  * No. of records in test set = n/n = 1\n",
        "  * No. of records in train set = n-(n/n) = n-1\n",
        "\n",
        "* Take average of all test accuracies\n",
        "```\n",
        "\n",
        "EXAMPLE:\n",
        "```\n",
        "Let k = n = 1000\n",
        "\n",
        "Iteration 1 - 1 test, 999 train\n",
        "Iteration 2 - 1 train, 1 test, 998 train\n",
        "Iteration 3 - 2 train, 1 test, 997 train\n",
        ".\n",
        ".\n",
        ".\n",
        "Iteration 999 - 998 train, 1 test, 1 train\n",
        "Iteration 1000 - 999 train, 1 test\n",
        "```"
      ],
      "id": "fcb97b00"
    },
    {
      "cell_type": "code",
      "metadata": {
        "id": "33cc252e",
        "outputId": "fca5851d-5384-48d6-c614-79a2f547ff86",
        "colab": {
          "base_uri": "https://localhost:8080/"
        }
      },
      "source": [
        "from sklearn.model_selection import LeaveOneOut\n",
        "\n",
        "model=DecisionTreeClassifier()\n",
        "leave_validation=LeaveOneOut()\n",
        "results=cross_val_score(model,X,y,cv=leave_validation)\n",
        "print(results)\n",
        "print(np.mean(results))"
      ],
      "id": "33cc252e",
      "execution_count": 13,
      "outputs": [
        {
          "output_type": "stream",
          "text": [
            "[1. 1. 1. 1. 1. 0. 1. 1. 1. 1. 1. 1. 1. 0. 1. 1. 1. 1. 1. 1. 1. 1. 1. 1.\n",
            " 1. 1. 1. 1. 1. 1. 1. 1. 1. 1. 1. 1. 1. 1. 1. 0. 0. 1. 1. 1. 0. 1. 1. 1.\n",
            " 1. 1. 1. 1. 1. 1. 1. 1. 1. 1. 1. 1. 1. 1. 1. 1. 1. 1. 1. 1. 0. 1. 1. 1.\n",
            " 1. 0. 1. 1. 1. 1. 1. 1. 1. 0. 1. 1. 1. 1. 0. 1. 1. 1. 1. 0. 1. 1. 1. 1.\n",
            " 1. 1. 1. 1. 1. 1. 1. 1. 1. 1. 1. 1. 1. 1. 1. 1. 1. 1. 1. 1. 1. 1. 1. 1.\n",
            " 1. 1. 1. 1. 1. 1. 0. 1. 1. 1. 1. 1. 1. 1. 1. 0. 1. 1. 1. 1. 1. 1. 1. 1.\n",
            " 1. 1. 1. 1. 1. 1. 1. 1. 1. 1. 1. 1. 1. 0. 1. 1. 1. 0. 1. 1. 1. 1. 1. 1.\n",
            " 1. 1. 1. 1. 1. 1. 1. 1. 1. 1. 1. 1. 1. 1. 1. 1. 1. 1. 1. 1. 1. 1. 1. 0.\n",
            " 1. 1. 1. 1. 1. 0. 1. 1. 1. 1. 1. 1. 1. 1. 1. 1. 1. 1. 1. 1. 1. 1. 1. 0.\n",
            " 1. 1. 1. 1. 1. 1. 1. 1. 1. 1. 1. 1. 1. 1. 1. 0. 1. 1. 1. 1. 1. 1. 1. 1.\n",
            " 1. 0. 1. 1. 1. 1. 1. 0. 1. 1. 1. 1. 1. 1. 1. 0. 1. 1. 1. 1. 1. 1. 1. 1.\n",
            " 1. 1. 1. 1. 1. 1. 1. 1. 1. 1. 1. 1. 1. 1. 1. 1. 1. 1. 1. 1. 1. 1. 1. 1.\n",
            " 1. 1. 1. 0. 1. 1. 1. 1. 1. 0. 1. 1. 1. 1. 1. 1. 1. 1. 1. 1. 1. 1. 1. 1.\n",
            " 1. 1. 1. 1. 1. 1. 1. 1. 1. 1. 1. 1. 1. 1. 1. 1. 1. 1. 0. 1. 1. 1. 1. 1.\n",
            " 1. 1. 1. 1. 0. 1. 1. 1. 1. 1. 1. 1. 1. 1. 1. 1. 1. 1. 1. 1. 1. 1. 1. 1.\n",
            " 1. 1. 1. 0. 1. 1. 1. 1. 1. 1. 1. 1. 1. 1. 1. 0. 0. 1. 1. 0. 1. 1. 1. 1.\n",
            " 1. 0. 1. 1. 1. 1. 1. 1. 1. 1. 1. 1. 0. 1. 1. 1. 1. 1. 1. 1. 1. 1. 0. 1.\n",
            " 1. 1. 0. 1. 1. 1. 0. 1. 1. 1. 1. 1. 1. 1. 1. 1. 1. 1. 1. 1. 1. 1. 1. 1.\n",
            " 1. 1. 1. 1. 1. 1. 1. 1. 0. 1. 1. 1. 1. 1. 1. 1. 1. 1. 1. 1. 1. 1. 1. 1.\n",
            " 1. 1. 1. 1. 1. 1. 1. 1. 1. 1. 1. 1. 1. 0. 1. 0. 0. 1. 1. 1. 1. 0. 1. 1.\n",
            " 1. 1. 1. 1. 0. 1. 1. 1. 1. 1. 1. 1. 1. 1. 1. 1. 1. 1. 1. 1. 1. 1. 1. 1.\n",
            " 1. 1. 1. 1. 1. 1. 1. 1. 1. 1. 1. 1. 1. 1. 1. 1. 1. 1. 1. 1. 1. 1. 1. 1.\n",
            " 0. 1. 1. 1. 1. 1. 1. 1. 1. 1. 1. 1. 1. 1. 1. 1. 1. 1. 1. 1. 1. 1. 1. 1.\n",
            " 1. 1. 1. 1. 1. 1. 1. 1. 0. 1. 1. 1. 1. 1. 1. 1. 1.]\n",
            "0.9261862917398945\n"
          ],
          "name": "stdout"
        }
      ]
    },
    {
      "cell_type": "markdown",
      "metadata": {
        "id": "1Gn9iA8mT4Pf"
      },
      "source": [
        "## Leave p-out cross-validation (LpOCV)\n",
        "\n",
        "* Variant of k-fold cross-validation\n",
        "* Testing on all distinct samples of size p, while the remaining n - p samples form the training set in each iteration.\n",
        "* LpOCV is NOT equivalent to k=n/p which creates non-overlapping test sets.\n",
        "* Not recommended to use.\n",
        "* High computation time required."
      ],
      "id": "1Gn9iA8mT4Pf"
    },
    {
      "cell_type": "code",
      "metadata": {
        "id": "e5NE8sGbUg_F"
      },
      "source": [
        "from sklearn.model_selection import LeavePOut\n",
        "\n",
        "leave_validation=LeavePOut(2)\n",
        "results=cross_val_score(model,X,y,cv=leave_validation)\n",
        "#print(results)\n",
        "#print(np.mean(results))"
      ],
      "id": "e5NE8sGbUg_F",
      "execution_count": 15,
      "outputs": []
    },
    {
      "cell_type": "markdown",
      "metadata": {
        "id": "c54fcbbd"
      },
      "source": [
        "## Stratified k-fold cross-validation\n",
        "\n",
        "* One of the most widely used technique.\n",
        "* Slight change to the K Fold cross validation technique.\n",
        "* Ensures that validation data has an equal number of instances of target class label.\n",
        "* Suitable for an imbalanced dataset."
      ],
      "id": "c54fcbbd"
    },
    {
      "cell_type": "code",
      "metadata": {
        "id": "c-6sdZMRPSb5",
        "outputId": "aca1f02a-d715-47f2-8597-558634da08a6",
        "colab": {
          "base_uri": "https://localhost:8080/"
        }
      },
      "source": [
        "from sklearn.model_selection import StratifiedKFold\n",
        "\n",
        "skfold=StratifiedKFold(n_splits=10)\n",
        "model=DecisionTreeClassifier()\n",
        "results=cross_val_score(model,X,y,cv=skfold)\n",
        "print(results)\n",
        "print(np.mean(results))"
      ],
      "id": "c-6sdZMRPSb5",
      "execution_count": 16,
      "outputs": [
        {
          "output_type": "stream",
          "text": [
            "[0.87719298 0.85964912 0.92982456 0.85964912 0.92982456 0.89473684\n",
            " 0.9122807  0.94736842 0.92982456 0.98214286]\n",
            "0.912249373433584\n"
          ],
          "name": "stdout"
        }
      ]
    },
    {
      "cell_type": "markdown",
      "metadata": {
        "id": "M1gQbksPZdke"
      },
      "source": [
        "# References"
      ],
      "id": "M1gQbksPZdke"
    },
    {
      "cell_type": "markdown",
      "metadata": {
        "id": "TcHxK2C2ZiWT"
      },
      "source": [
        "* https://scikit-learn.org/stable/modules/cross_validation.html#\n",
        "* https://towardsdatascience.com/understanding-8-types-of-cross-validation-80c935a4976d\n",
        "* https://www.upgrad.com/blog/cross-validation-in-machine-learning/"
      ],
      "id": "TcHxK2C2ZiWT"
    }
  ]
}