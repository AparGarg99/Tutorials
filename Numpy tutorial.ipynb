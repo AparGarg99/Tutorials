{
 "cells": [
  {
   "cell_type": "markdown",
   "metadata": {},
   "source": [
    "<img src=https://1.bp.blogspot.com/-CHMzy5L0Qcw/Wpy00BAw-dI/AAAAAAAAG9g/fBinxajEzcshsZPSemZIt37JlqOWdDWbQCLcBGAs/s1600/numpy.jpeg width=300>"
   ]
  },
  {
   "cell_type": "markdown",
   "metadata": {},
   "source": [
    "<img src=https://slideplayer.com/slide/15975727/88/images/3/What+is+NumPy+NumPy+is+the+fundamental+package+needed+for+scientific+computing+with+Python.+It+contains%3A.jpg width=400>"
   ]
  },
  {
   "cell_type": "markdown",
   "metadata": {},
   "source": [
    "# Importing Libraries"
   ]
  },
  {
   "cell_type": "code",
   "execution_count": 1,
   "metadata": {},
   "outputs": [],
   "source": [
    "#importing numpy library\n",
    "import numpy as np"
   ]
  },
  {
   "cell_type": "markdown",
   "metadata": {},
   "source": [
    "---\n",
    "---"
   ]
  },
  {
   "cell_type": "markdown",
   "metadata": {},
   "source": [
    "# Creating numpy array"
   ]
  },
  {
   "cell_type": "code",
   "execution_count": 2,
   "metadata": {},
   "outputs": [
    {
     "name": "stdout",
     "output_type": "stream",
     "text": [
      "[1 2 3 4]\n"
     ]
    }
   ],
   "source": [
    "#How to form a 1D array\n",
    "x=np.array([1,2,3,4])\n",
    "print(x)"
   ]
  },
  {
   "cell_type": "code",
   "execution_count": 3,
   "metadata": {},
   "outputs": [
    {
     "name": "stdout",
     "output_type": "stream",
     "text": [
      "[[1 2 3 4]\n",
      " [5 6 7 8]]\n"
     ]
    }
   ],
   "source": [
    "#How to form a 2D array\n",
    "y=np.array([(1,2,3,4),(5,6,7,8)])\n",
    "print(y)"
   ]
  },
  {
   "cell_type": "markdown",
   "metadata": {},
   "source": [
    "---\n",
    "---"
   ]
  },
  {
   "cell_type": "markdown",
   "metadata": {},
   "source": [
    "# List VS numpy array"
   ]
  },
  {
   "cell_type": "code",
   "execution_count": 14,
   "metadata": {},
   "outputs": [],
   "source": [
    "import time\n",
    "import sys"
   ]
  },
  {
   "cell_type": "code",
   "execution_count": 15,
   "metadata": {},
   "outputs": [
    {
     "name": "stdout",
     "output_type": "stream",
     "text": [
      "Mem occupied by list:  28000\n",
      "Mem occupied by numpy array:  4000\n"
     ]
    }
   ],
   "source": [
    "#Mem occupied by numpy array is way less than Mem occupied by list\n",
    "S=range(1000)\n",
    "print(\"Mem occupied by list: \",sys.getsizeof(5)*len(S))\n",
    "D=np.arange(1000)\n",
    "print(\"Mem occupied by numpy array: \",D.size*D.itemsize)"
   ]
  },
  {
   "cell_type": "code",
   "execution_count": 17,
   "metadata": {},
   "outputs": [
    {
     "name": "stdout",
     "output_type": "stream",
     "text": [
      "time taken by list is: 181.73837661743164\n",
      "time taken by numpy array is: 78.11427116394043\n"
     ]
    }
   ],
   "source": [
    "#numpy array is faster than list\n",
    "\n",
    "SIZE=1000000\n",
    "\n",
    "L1=range(SIZE)\n",
    "L2=range(SIZE)\n",
    "\n",
    "start=time.time()\n",
    "result=[(x,y) for x,y in zip(L1,L2)]\n",
    "\n",
    "print(\"time taken by list is:\",(time.time()-start)*1000)\n",
    "\n",
    "\n",
    "A1=np.arange(SIZE)\n",
    "A2=np.arange(SIZE)\n",
    "\n",
    "start=time.time()\n",
    "result=A1+A2\n",
    "\n",
    "print(\"time taken by numpy array is:\",(time.time()-start)*1000)\n"
   ]
  },
  {
   "cell_type": "markdown",
   "metadata": {},
   "source": [
    "---\n",
    "---"
   ]
  },
  {
   "cell_type": "markdown",
   "metadata": {},
   "source": [
    "# Operations in Numpy"
   ]
  },
  {
   "cell_type": "code",
   "execution_count": 7,
   "metadata": {},
   "outputs": [
    {
     "name": "stdout",
     "output_type": "stream",
     "text": [
      "[[1 2 3 6]\n",
      " [4 5 6 8]]\n",
      "dimension of array is:  2\n",
      "each element takes size of(bytes):  4\n",
      "datatype of array is:  int32\n",
      "number of elements in array:  8\n",
      "shape  of array is:  (2, 4)\n"
     ]
    }
   ],
   "source": [
    "a=np.array([(1,2,3,6),(4,5,6,8)])\n",
    "print(a)\n",
    "print(\"dimension of array is: \",a.ndim)\n",
    "print(\"each element takes size of(bytes): \",a.itemsize)\n",
    "print(\"datatype of array is: \",a.dtype)\n",
    "print(\"number of elements in array: \",a.size)\n",
    "print(\"shape  of array is: \",a.shape)"
   ]
  },
  {
   "cell_type": "code",
   "execution_count": 8,
   "metadata": {},
   "outputs": [
    {
     "name": "stdout",
     "output_type": "stream",
     "text": [
      "[[1 2]\n",
      " [3 6]\n",
      " [4 5]\n",
      " [6 8]]\n"
     ]
    }
   ],
   "source": [
    "#How to reshape a numpy array\n",
    "a=a.reshape(4,2)#This changes the array with shape (2,4) into (4,2)\n",
    "print(a)"
   ]
  },
  {
   "cell_type": "code",
   "execution_count": 9,
   "metadata": {},
   "outputs": [
    {
     "name": "stdout",
     "output_type": "stream",
     "text": [
      "[[11 12 13 14]\n",
      " [15 16 17 18]\n",
      " [19 20 21 22]]\n",
      "--------------------\n",
      "14\n",
      "[14 18 22]\n",
      "[19 20 21 22]\n",
      "[[17 18]\n",
      " [21 22]]\n"
     ]
    }
   ],
   "source": [
    "#How to slice a numpy array\n",
    "x=np.array([(11,12,13,14),(15,16,17,18),(19,20,21,22)])\n",
    "print(x)\n",
    "print('-'*20)\n",
    "\n",
    "#accessing an entry in a numpy array\n",
    "print(x[0,3])#third index of zero row\n",
    "\n",
    "#condition on columns\n",
    "print(x[:,3])#third column from all rows\n",
    "\n",
    "#condition on rows\n",
    "print(x[2 ,:])\n",
    "\n",
    "#condition on both rows and columns\n",
    "print(x[1:,2:])"
   ]
  },
  {
   "cell_type": "code",
   "execution_count": 10,
   "metadata": {},
   "outputs": [
    {
     "name": "stdout",
     "output_type": "stream",
     "text": [
      "[852 761 191 108 778 464 468 522  64 285]\n"
     ]
    }
   ],
   "source": [
    "#Creating a numpy array of random numbers(with range)\n",
    "\n",
    "#creating a random array of 10 numbers between 1 and 1000(1-inclusive 1000-exclusive)\n",
    "a=np.array(np.random.randint(1,1000,10)) #np.random.randint(start,end,count)\n",
    "print(a)"
   ]
  },
  {
   "cell_type": "code",
   "execution_count": 11,
   "metadata": {},
   "outputs": [
    {
     "name": "stdout",
     "output_type": "stream",
     "text": [
      "[[0.8576646  0.42308876 0.74690109 0.19368873 0.86186668]\n",
      " [0.13855663 0.66738604 0.03646788 0.41723626 0.83130786]\n",
      " [0.18464519 0.74554261 0.16070016 0.70718619 0.89936685]\n",
      " [0.35323943 0.42463693 0.44078428 0.0068995  0.34567637]\n",
      " [0.71081967 0.42719409 0.41410521 0.88092116 0.77571273]]\n"
     ]
    }
   ],
   "source": [
    "#Creating a numpy array of random numbers(no range,parameters=shape)\n",
    "a=np.random.rand(5,5)\n",
    "print(a)"
   ]
  },
  {
   "cell_type": "code",
   "execution_count": 12,
   "metadata": {},
   "outputs": [
    {
     "name": "stdout",
     "output_type": "stream",
     "text": [
      "[0.8576646  0.42308876 0.74690109 0.19368873 0.86186668 0.13855663\n",
      " 0.66738604 0.03646788 0.41723626 0.83130786 0.18464519 0.74554261\n",
      " 0.16070016 0.70718619 0.89936685 0.35323943 0.42463693 0.44078428\n",
      " 0.0068995  0.34567637 0.71081967 0.42719409 0.41410521 0.88092116\n",
      " 0.77571273 3.        ]\n"
     ]
    }
   ],
   "source": [
    "#How to append an element to a numpy array\n",
    "a=np.append(a,[3])\n",
    "print(a)"
   ]
  },
  {
   "cell_type": "code",
   "execution_count": 18,
   "metadata": {},
   "outputs": [
    {
     "name": "stdout",
     "output_type": "stream",
     "text": [
      "[0 1 2 3 4 5 6 7 8 9]\n"
     ]
    }
   ],
   "source": [
    "#shortcut to creating a numpy array containing numbers from 1 to 10(1-inclusive 10-exclusive)\n",
    "x=np.array(list(range(10))) #np.array(list(range(n)))\n",
    "print(x)"
   ]
  },
  {
   "cell_type": "code",
   "execution_count": 19,
   "metadata": {},
   "outputs": [
    {
     "name": "stdout",
     "output_type": "stream",
     "text": [
      "[1 3 5 7 9]\n"
     ]
    }
   ],
   "source": [
    "#shortcut to creating a numpy array containing numbers between 1 to 10(1-inclusive 10-exclusive) in gaps of 2\n",
    "# arbitrary start, stop and step \n",
    "x=np.array(np.arange(1,10,2)) #np.arange(start,end,gap)\n",
    "print(x)"
   ]
  },
  {
   "cell_type": "code",
   "execution_count": 20,
   "metadata": {},
   "outputs": [
    {
     "data": {
      "text/plain": [
       "array([[1., 2., 3., 4.],\n",
       "       [5., 6., 7., 8.]])"
      ]
     },
     "execution_count": 20,
     "metadata": {},
     "output_type": "execute_result"
    }
   ],
   "source": [
    "#How to change the datatype of a numpy array\n",
    "#integer array to float in this case\n",
    "#dtype can be =np.float/np.int/np.complex\n",
    "x=np.array([[1,2,3,4],[5,6,7,8]],dtype=np.float)\n",
    "x"
   ]
  },
  {
   "cell_type": "code",
   "execution_count": 21,
   "metadata": {},
   "outputs": [
    {
     "name": "stdout",
     "output_type": "stream",
     "text": [
      "datatype of original array : int32\n",
      "datatype of converted array : complex128\n",
      "[[1.+0.j 2.+0.j 3.+0.j 4.+0.j]\n",
      " [5.+0.j 6.+0.j 7.+0.j 8.+0.j]]\n"
     ]
    }
   ],
   "source": [
    "#Another way to change the datatype of a numpy array -array.astype()\n",
    "#integer32 to complex128 in this case\n",
    "arr =np.array([[1,2,3,4],[5,6,7,8]])\n",
    "print(\"datatype of original array :\",arr.dtype)\n",
    "arr = arr.astype('complex128')\n",
    "print(\"datatype of converted array :\",arr.dtype)\n",
    "print(arr)"
   ]
  },
  {
   "cell_type": "code",
   "execution_count": 22,
   "metadata": {},
   "outputs": [
    {
     "data": {
      "text/plain": [
       "array([[1., 2., 3., 4.],\n",
       "       [5., 6., 7., 8.]])"
      ]
     },
     "execution_count": 22,
     "metadata": {},
     "output_type": "execute_result"
    }
   ],
   "source": [
    "x"
   ]
  },
  {
   "cell_type": "code",
   "execution_count": 23,
   "metadata": {},
   "outputs": [
    {
     "name": "stdout",
     "output_type": "stream",
     "text": [
      "mean of the elements of an array : 4.5\n",
      "median of the elements of an array : 4.5\n",
      "sum of the elements of an array : 36.0\n",
      "minimum of the element of an array :  1.0\n",
      "maximum of the elements of an array : 8.0\n",
      "element-wise square root : [[1.         1.41421356 1.73205081 2.        ]\n",
      " [2.23606798 2.44948974 2.64575131 2.82842712]]\n",
      "standard deviation of an array : 2.29128784747792\n",
      "transpose of an array : [[1. 5.]\n",
      " [2. 6.]\n",
      " [3. 7.]\n",
      " [4. 8.]]\n"
     ]
    }
   ],
   "source": [
    "#There are many mathematical built-in functions in numpy.Some of them are mentioned below:\n",
    "\n",
    "print(\"mean of the elements of an array :\",np.mean(x))\n",
    "print(\"median of the elements of an array :\",np.median(x))\n",
    "print(\"sum of the elements of an array :\",np.sum(x))\n",
    "print(\"minimum of the element of an array : \",np.min(x))\n",
    "print(\"maximum of the elements of an array :\",np.max(x))\n",
    "print(\"element-wise square root :\",np.sqrt(x))\n",
    "print(\"standard deviation of an array :\",np.std(x))\n",
    "print(\"transpose of an array :\" ,x.transpose())"
   ]
  },
  {
   "cell_type": "code",
   "execution_count": 24,
   "metadata": {},
   "outputs": [
    {
     "data": {
      "text/plain": [
       "array([[0, 0, 0, 0, 0],\n",
       "       [1, 1, 1, 1, 1],\n",
       "       [2, 2, 2, 2, 2],\n",
       "       [3, 3, 3, 3, 3],\n",
       "       [4, 4, 4, 4, 4]])"
      ]
     },
     "execution_count": 24,
     "metadata": {},
     "output_type": "execute_result"
    }
   ],
   "source": [
    "#creating a grid of numbers\n",
    "x,y= np.mgrid[0:5, 0:5]\n",
    "x"
   ]
  },
  {
   "cell_type": "code",
   "execution_count": 25,
   "metadata": {},
   "outputs": [
    {
     "name": "stdout",
     "output_type": "stream",
     "text": [
      "[1. 1. 1. 1. 1. 1. 1. 1. 1. 1.]\n",
      "--------------------------------------------------\n",
      "[[1. 1. 1.]\n",
      " [1. 1. 1.]\n",
      " [1. 1. 1.]]\n",
      "--------------------------------------------------\n",
      "[0. 0. 0. 0. 0. 0. 0. 0. 0. 0.]\n",
      "--------------------------------------------------\n",
      "[[0. 0. 0.]\n",
      " [0. 0. 0.]\n",
      " [0. 0. 0.]]\n",
      "--------------------------------------------------\n",
      "[[1. 0.]\n",
      " [0. 1.]]\n",
      "--------------------------------------------------\n",
      "[[1 0 0]\n",
      " [0 2 0]\n",
      " [0 0 3]]\n"
     ]
    }
   ],
   "source": [
    "#creating an array of ones\n",
    "\n",
    "#shape of (1,10)\n",
    "print(np.ones(10))\n",
    "print('-'*50)\n",
    "\n",
    "#shape of (3,3)\n",
    "print(np.ones((3,3)))\n",
    "print('-'*50)\n",
    "\n",
    "#creating an array of zeros\n",
    "\n",
    "#shape of (1,10)\n",
    "print(np.zeros(10))\n",
    "print('-'*50)\n",
    "\n",
    "#shape of (3,3)\n",
    "print(np.zeros((3,3)))\n",
    "print('-'*50)\n",
    "\n",
    "#creating an identity array\n",
    "print(np.eye(2))  \n",
    "print('-'*50)\n",
    "\n",
    "#creating a diagonal array\n",
    "print(np.diag([1,2,3]))"
   ]
  },
  {
   "cell_type": "code",
   "execution_count": 26,
   "metadata": {},
   "outputs": [
    {
     "data": {
      "text/plain": [
       "array([1.        , 1.22222222, 1.44444444, 1.66666667, 1.88888889,\n",
       "       2.11111111, 2.33333333, 2.55555556, 2.77777778, 3.        ])"
      ]
     },
     "execution_count": 26,
     "metadata": {},
     "output_type": "execute_result"
    }
   ],
   "source": [
    "#10 equally spaced values b/w 1 and 3(1 and 3-inclusive)\n",
    "#OR\n",
    "# Creating 10 ticks between 1 and 3\n",
    "np.linspace(1,3,10) #np.linespace(start,end,no. of values)"
   ]
  },
  {
   "cell_type": "code",
   "execution_count": 27,
   "metadata": {},
   "outputs": [
    {
     "name": "stdout",
     "output_type": "stream",
     "text": [
      "[[1 2 3]\n",
      " [4 5 6]]\n",
      "----------\n",
      "[5 7 9]\n",
      "[ 6 15]\n"
     ]
    }
   ],
   "source": [
    "#addition in a numpy array\n",
    "a=np.array([(1,2,3),(4,5,6)])\n",
    "print(a)\n",
    "print('-'*10)\n",
    "print(a.sum(axis=0)) #column-wise addition of elements\n",
    "print(a.sum(axis=1)) #row-wise addition of elements"
   ]
  },
  {
   "cell_type": "code",
   "execution_count": 28,
   "metadata": {},
   "outputs": [
    {
     "name": "stdout",
     "output_type": "stream",
     "text": [
      "[[ 8 10 12]\n",
      " [14 16 18]]\n"
     ]
    }
   ],
   "source": [
    "#addition of two arrays element-wise\n",
    "a=np.array([(1,2,3),(4,5,6)])\n",
    "b=np.array([(7,8,9),(10,11,12)])\n",
    "print(a+b)"
   ]
  },
  {
   "cell_type": "code",
   "execution_count": 29,
   "metadata": {},
   "outputs": [
    {
     "name": "stdout",
     "output_type": "stream",
     "text": [
      "[[-6 -6 -6]\n",
      " [-6 -6 -6]]\n"
     ]
    }
   ],
   "source": [
    "#subtraction of two arrays element-wise\n",
    "print(a-b)"
   ]
  },
  {
   "cell_type": "code",
   "execution_count": 30,
   "metadata": {},
   "outputs": [
    {
     "name": "stdout",
     "output_type": "stream",
     "text": [
      "[[ 7 16 27]\n",
      " [40 55 72]]\n"
     ]
    }
   ],
   "source": [
    "#multiplication of two arrays element-wise\n",
    "print(a*b)"
   ]
  },
  {
   "cell_type": "code",
   "execution_count": 31,
   "metadata": {},
   "outputs": [
    {
     "name": "stdout",
     "output_type": "stream",
     "text": [
      "[[0.14285714 0.25       0.33333333]\n",
      " [0.4        0.45454545 0.5       ]]\n"
     ]
    }
   ],
   "source": [
    "#division of two arrays element-wise\n",
    "print(a/b)"
   ]
  },
  {
   "cell_type": "code",
   "execution_count": 32,
   "metadata": {},
   "outputs": [
    {
     "name": "stdout",
     "output_type": "stream",
     "text": [
      "[[1 2 3]\n",
      " [4 5 6]]\n",
      "----------\n",
      "[[ 7  8  9]\n",
      " [10 11 12]]\n",
      "----------\n",
      "[[ 1  2  3]\n",
      " [ 4  5  6]\n",
      " [ 7  8  9]\n",
      " [10 11 12]]\n"
     ]
    }
   ],
   "source": [
    "#How to append two arrays vertically\n",
    "a=np.array([(1,2,3),(4,5,6)])\n",
    "print(a)\n",
    "print('-'*10)\n",
    "b=np.array([(7,8,9),(10,11,12)])\n",
    "print(b)\n",
    "print('-'*10)\n",
    "\n",
    "print(np.vstack((a,b))) #np.vstack(array1,array2)"
   ]
  },
  {
   "cell_type": "code",
   "execution_count": 33,
   "metadata": {},
   "outputs": [
    {
     "name": "stdout",
     "output_type": "stream",
     "text": [
      "[[ 1  2  3  7  8  9]\n",
      " [ 4  5  6 10 11 12]]\n"
     ]
    }
   ],
   "source": [
    "#How to append two arrays horizontally\n",
    "print(np.hstack((a,b))) #np.hstack(array1,array2)"
   ]
  },
  {
   "cell_type": "markdown",
   "metadata": {},
   "source": [
    "---\n",
    "---"
   ]
  },
  {
   "cell_type": "markdown",
   "metadata": {},
   "source": [
    "# Things to remember"
   ]
  },
  {
   "cell_type": "code",
   "execution_count": 34,
   "metadata": {},
   "outputs": [
    {
     "name": "stdout",
     "output_type": "stream",
     "text": [
      "int32\n",
      "int32\n"
     ]
    }
   ],
   "source": [
    "# arrays keep their type even if elements changed \n",
    "d = np.arange(5) \n",
    "print(d.dtype)\n",
    "d[1] = 9.7\n",
    "print(d.dtype)   "
   ]
  },
  {
   "cell_type": "code",
   "execution_count": 35,
   "metadata": {},
   "outputs": [
    {
     "name": "stdout",
     "output_type": "stream",
     "text": [
      "[0.  3.6 0.8 1.2 1.6]\n",
      "float64\n"
     ]
    }
   ],
   "source": [
    "# operations create a new array, with new type\n",
    "x=d*0.4\n",
    "print(x)\n",
    "print(x.dtype)"
   ]
  },
  {
   "cell_type": "code",
   "execution_count": 36,
   "metadata": {},
   "outputs": [
    {
     "name": "stdout",
     "output_type": "stream",
     "text": [
      "True\n",
      "2297338234480 2297338234480\n",
      "[9 2 3 4]\n",
      "[9 2 3 4]\n",
      "--------------------------------------------------\n",
      "False\n",
      "2297338448352 2297338234240\n",
      "[9 2 3 4]\n",
      "[1 2 3 4]\n"
     ]
    }
   ],
   "source": [
    "#Two ndarrays are mutable and may be views to the same memory\n",
    "\n",
    "#Try avoiding this because if you change x,y will also be changed\n",
    "x = np.array([1,2,3,4])\n",
    "y=x\n",
    "print(x is y)\n",
    "print(id(x), id(y))\n",
    "x[0]=9\n",
    "print(x)\n",
    "print(y)\n",
    "\n",
    "print('-'*50)\n",
    "#This is a good approach-always use this!!\n",
    "x = np.array([1,2,3,4])\n",
    "y = x.copy()\n",
    "print(x is y)\n",
    "print(id(x), id(y))\n",
    "x[0]=9\n",
    "print(x)\n",
    "print(y)"
   ]
  },
  {
   "cell_type": "code",
   "execution_count": 37,
   "metadata": {},
   "outputs": [
    {
     "name": "stdout",
     "output_type": "stream",
     "text": [
      "[105 125 150 175 195]\n"
     ]
    }
   ],
   "source": [
    "# can use integer lists as indices \n",
    "arr = np.arange(100, 200)\n",
    "select = [5, 25, 50, 75, -5]\n",
    "print(arr[select]) "
   ]
  },
  {
   "cell_type": "code",
   "execution_count": 38,
   "metadata": {},
   "outputs": [
    {
     "name": "stdout",
     "output_type": "stream",
     "text": [
      "[False False  True False False  True False False  True False]\n",
      "[12 15 18]\n"
     ]
    }
   ],
   "source": [
    "arr = np.arange(10, 20 )\n",
    "div_by_3 = arr%3 == 0 # comparison produces boolean array\n",
    "print(div_by_3)\n",
    "print(arr[div_by_3]) # can use boolean lists as indices"
   ]
  },
  {
   "cell_type": "code",
   "execution_count": 39,
   "metadata": {},
   "outputs": [
    {
     "name": "stdout",
     "output_type": "stream",
     "text": [
      "False\n",
      "True\n",
      "3\n",
      "(array([2, 5, 8], dtype=int64),)\n"
     ]
    }
   ],
   "source": [
    "print(div_by_3.all())#logical \"and\" operation\n",
    "print(div_by_3.any())#logical \"or\" operation\n",
    "print(div_by_3.sum())#number of true values\n",
    "print(div_by_3.nonzero())#index of true values"
   ]
  },
  {
   "cell_type": "code",
   "execution_count": 40,
   "metadata": {},
   "outputs": [
    {
     "name": "stdout",
     "output_type": "stream",
     "text": [
      "[1.2 1.8 2.3 4.5 5.5 6.7]\n",
      "--------------------------------------------------\n",
      "[1.2 1.8 2.3 4.5 5.5 6.7]\n",
      "[4.5 2.3 6.7 1.2 1.8 5.5]\n"
     ]
    }
   ],
   "source": [
    "# Sorting an array\n",
    "\n",
    "# array.sort() -->acts on array itself\n",
    "arr = np.array([4.5, 2.3, 6.7, 1.2, 1.8, 5.5])\n",
    "arr.sort()\n",
    "print(arr) \n",
    "print('-'*50)\n",
    "\n",
    "# np.sort(array) -->does not act on array itself\n",
    "x = np.array([4.5, 2.3, 6.7, 1.2, 1.8, 5.5])\n",
    "print(np.sort(x))\n",
    "print(x)"
   ]
  }
 ],
 "metadata": {
  "kernelspec": {
   "display_name": "Python 3",
   "language": "python",
   "name": "python3"
  },
  "language_info": {
   "codemirror_mode": {
    "name": "ipython",
    "version": 3
   },
   "file_extension": ".py",
   "mimetype": "text/x-python",
   "name": "python",
   "nbconvert_exporter": "python",
   "pygments_lexer": "ipython3",
   "version": "3.7.1"
  }
 },
 "nbformat": 4,
 "nbformat_minor": 2
}
