{
 "cells": [
  {
   "cell_type": "markdown",
   "id": "4f06b269",
   "metadata": {},
   "source": [
    "# Steps"
   ]
  },
  {
   "cell_type": "markdown",
   "id": "3d6d0e69",
   "metadata": {},
   "source": [
    "1. Create a file called `.env`\n",
    "\n",
    "2. Paste your credentials in it\n",
    "\n",
    "```\n",
    "EMAIL_ADDRESS=xxx@gmail.com\n",
    "PASSWORD=yyy123\n",
    "```\n",
    "\n",
    "3. Go to python file\n",
    "\n",
    "4. Install dotenv\n",
    "\n",
    "```\n",
    "!pip install python-dotenv\n",
    "```\n",
    "\n",
    "5. Set Credentials as Environment Variables\n",
    "    * *Environment Variables are just variables that are saved in your computer and can be called in any file on the computer.*\n",
    "    * *The code below will take variables from `.env` and set them as environment variables.*\n",
    "    \n",
    "```\n",
    "from dotenv import load_dotenv\n",
    "load_dotenv()\n",
    "```\n",
    "\n",
    "6. Load Credentials in python file\n",
    "\n",
    "```\n",
    "import os\n",
    "email = os.getenv(EMAIL_ADDRESS)\n",
    "password = os.getenv(PASSWORD)\n",
    "```\n",
    "\n",
    "7. Create a file called `.gitignore`\n",
    "\n",
    "8. Put `.env` in the `.gitignore` file\n",
    "\n",
    "9. Push to github"
   ]
  },
  {
   "cell_type": "markdown",
   "id": "b1abc5c7",
   "metadata": {},
   "source": [
    "# References"
   ]
  },
  {
   "cell_type": "markdown",
   "id": "fb22e74a",
   "metadata": {},
   "source": [
    "* https://www.youtube.com/watch?v=YdgIWTYQ69A"
   ]
  }
 ],
 "metadata": {
  "kernelspec": {
   "display_name": "Python 3 (ipykernel)",
   "language": "python",
   "name": "python3"
  },
  "language_info": {
   "codemirror_mode": {
    "name": "ipython",
    "version": 3
   },
   "file_extension": ".py",
   "mimetype": "text/x-python",
   "name": "python",
   "nbconvert_exporter": "python",
   "pygments_lexer": "ipython3",
   "version": "3.9.7"
  }
 },
 "nbformat": 4,
 "nbformat_minor": 5
}
