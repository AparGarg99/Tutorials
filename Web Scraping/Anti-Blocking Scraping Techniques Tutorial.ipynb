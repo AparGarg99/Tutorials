{
 "cells": [
  {
   "cell_type": "markdown",
   "id": "e4670386",
   "metadata": {},
   "source": [
    "# Import Dependencies"
   ]
  },
  {
   "cell_type": "code",
   "execution_count": null,
   "id": "18517111",
   "metadata": {},
   "outputs": [],
   "source": [
    "from selenium import webdriver\n",
    "from selenium.webdriver.common.proxy import Proxy, ProxyType\n",
    "from webdriver_manager.chrome import ChromeDriverManager\n",
    "import undetected_chromedriver as uc\n",
    "from fake_useragent import UserAgent\n",
    "import time\n",
    "import random"
   ]
  },
  {
   "cell_type": "markdown",
   "id": "ed52992a",
   "metadata": {},
   "source": [
    "# Anti-Blocking Techniques"
   ]
  },
  {
   "cell_type": "markdown",
   "id": "780a9f28",
   "metadata": {},
   "source": [
    "### 1. Random time delay\n",
    "\n",
    "* Problem: Most web scraping bots aim to fetch data as quickly as possible, however, this can easily get you exposed as a scraping bot as there’s no way a real human can surf the web so fast. Websites can track your access speed easily and once the system finds you are going through the pages too fast, it will suspect that you are not a human and block you by default.\n",
    "\n",
    "* Solution: We can set random time intervals between requests."
   ]
  },
  {
   "cell_type": "code",
   "execution_count": null,
   "id": "7ed9b7db",
   "metadata": {},
   "outputs": [],
   "source": [
    "def random_time_delay():\n",
    "    time.sleep(random.uniform(60,120))"
   ]
  },
  {
   "cell_type": "code",
   "execution_count": null,
   "id": "4028aba5",
   "metadata": {},
   "outputs": [],
   "source": [
    "chrome_options = uc.ChromeOptions()\n",
    "chrome_options.add_argument(\"--window-size=1920,1080\")\n",
    "chrome_options.add_argument(\"--disable-extensions\")\n",
    "chrome_options.add_argument('--disable-notifications')\n",
    "chrome_options.add_argument(\"--mute-audio\")\n",
    "chrome_options.add_argument(\"--start-maximized\")\n",
    "chrome_options.add_argument('--disable-gpu')\n",
    "chrome_options.add_argument('--disable-dev-shm-usage')\n",
    "chrome_options.add_argument('--no-sandbox')\n",
    "chrome_options.add_argument('--ignore-certificate-errors')\n",
    "# chrome_options.add_argument(\"--headless\") # makes code more lightweight, less resource intensive. doesn't show browser\n",
    "\n",
    "driver = uc.Chrome(executable_path=ChromeDriverManager().install(), \n",
    "                    options=chrome_options)\n",
    "\n",
    "for i in range(10):\n",
    "    driver.get('https://www.google.co.in/')\n",
    "    random_time_delay()\n",
    "    \n",
    "driver.quit()"
   ]
  },
  {
   "cell_type": "markdown",
   "id": "55d0e753",
   "metadata": {},
   "source": [
    "### 2. Clear cookies\n",
    "* Problem: A cookie is like a small document containing helpful information about you and your preferences. For instance, you are an English native speaker. You open a website and change the prefereed language to English. Cookie will help the website remember your preferred language is English and every time you open the website, it will automatically switch the preferred language to English. If you are scraping a website constantly with the same cookie, it is easy to be detected as a scraping bot activity.\n",
    "* Solution: Clear cookies from time to time."
   ]
  },
  {
   "cell_type": "code",
   "execution_count": null,
   "id": "850c3534",
   "metadata": {},
   "outputs": [],
   "source": [
    "chrome_options = uc.ChromeOptions()\n",
    "chrome_options.add_argument(\"--window-size=1920,1080\")\n",
    "chrome_options.add_argument(\"--disable-extensions\")\n",
    "chrome_options.add_argument('--disable-notifications')\n",
    "chrome_options.add_argument(\"--mute-audio\")\n",
    "chrome_options.add_argument(\"--start-maximized\")\n",
    "chrome_options.add_argument('--disable-gpu')\n",
    "chrome_options.add_argument('--disable-dev-shm-usage')\n",
    "chrome_options.add_argument('--no-sandbox')\n",
    "chrome_options.add_argument('--ignore-certificate-errors')\n",
    "# chrome_options.add_argument(\"--headless\") # makes code more lightweight, less resource intensive. doesn't show browser\n",
    "\n",
    "driver = uc.Chrome(executable_path=ChromeDriverManager().install(), \n",
    "                    options=chrome_options)\n",
    "\n",
    "for i in range(10):\n",
    "    driver.get('https://www.google.co.in/')\n",
    "    driver.delete_all_cookies()\n",
    "    \n",
    "driver.quit()"
   ]
  },
  {
   "cell_type": "markdown",
   "id": "271a4014",
   "metadata": {},
   "source": [
    "### 3. Proxy server\n",
    "\n",
    "* Problem: When a site detects there are a number of requests coming from a single IP address, the IP address can be easily blocked.\n",
    "* Solution: To avoid sending all of your requests through the same IP address, you can use proxy servers."
   ]
  },
  {
   "cell_type": "code",
   "execution_count": null,
   "id": "01917e62",
   "metadata": {},
   "outputs": [],
   "source": [
    "chrome_options = uc.ChromeOptions()\n",
    "chrome_options.add_argument(\"--window-size=1920,1080\")\n",
    "chrome_options.add_argument(\"--disable-extensions\")\n",
    "chrome_options.add_argument('--disable-notifications')\n",
    "chrome_options.add_argument(\"--mute-audio\")\n",
    "chrome_options.add_argument(\"--start-maximized\")\n",
    "chrome_options.add_argument('--disable-gpu')\n",
    "chrome_options.add_argument('--disable-dev-shm-usage')\n",
    "chrome_options.add_argument('--no-sandbox')\n",
    "chrome_options.add_argument('--ignore-certificate-errors')\n",
    "\n",
    "proxy_ip_port = \"IP:Port:Username:Password\"\n",
    "\n",
    "method1=False\n",
    "method2=True\n",
    "\n",
    "if(method1==True)\n",
    "    \n",
    "    proxy = Proxy()\n",
    "    proxy.proxy_type = ProxyType.MANUAL\n",
    "    proxy.http_proxy = proxy_ip_port\n",
    "    proxy.ssl_proxy = proxy_ip_port\n",
    "\n",
    "    capabilities = webdriver.DesiredCapabilities.CHROME\n",
    "    proxy.add_to_capabilities(capabilities)\n",
    "\n",
    "    driver = uc.Chrome(executable_path=ChromeDriverManager().install(), \n",
    "                       options=chrome_options,\n",
    "                       desired_capabilities=capabilities)\n",
    "    \n",
    "if(method2==True):\n",
    "    chrome_options.add_argument('--proxy-server=%s' % proxy_ip_port)\n",
    "    \n",
    "    driver = uc.Chrome(executable_path=ChromeDriverManager().install(), \n",
    "                       options=chrome_options)\n",
    "\n",
    "driver.get('https://www.google.co.in/')\n",
    "\n",
    "driver.quit()"
   ]
  },
  {
   "cell_type": "markdown",
   "id": "fbb40ac0",
   "metadata": {},
   "source": [
    "### 4. User agent"
   ]
  },
  {
   "cell_type": "markdown",
   "id": "8ac2bf20",
   "metadata": {},
   "source": [
    "* Problem: Headers are small pieces of information that go with every HTTP request that hits the servers. One of those pieces of information precisely describes the client making the request, the infamous \"User-Agent\" header. When a software sends a request, it often identifies itself, its application type, operating system, software vendor, or software version, by submitting a characteristic identification string. This string is referred to as a “user agent string”. You can think of it as an ID card containing some basic information. All browsers, as well as some popular crawlers and bots, such as ‘google bot’, have a unique ‘user agent string’ that they identify themselves with. A lot of companies set up their servers in a way that allows them to identify the browser a client is using. If we do not send request with a legitimate user agent, our request may get blocked. \n",
    "* Solution: Fortunately, all browsers’ user agent strings are available publicly on the internet. Thus, we can easily pretend to be a browser. For instance, suppose we want to make a GET request to a website, pretending to be a client using Chrome. First, we need to find the User-Agent string of Chrome. A quick Google search should yield us a string like: \"Mozilla/5.0 (Windows NT 10.0; Win64; x64) AppleWebKit/537.36 (KHTML, like Gecko) Chrome/74.0.3729.169 Safari/537.36\"."
   ]
  },
  {
   "cell_type": "code",
   "execution_count": null,
   "id": "89320266",
   "metadata": {},
   "outputs": [],
   "source": [
    "ua = UserAgent()\n",
    "chrome_options = uc.ChromeOptions()\n",
    "chrome_options.add_argument(\"--window-size=1920,1080\")\n",
    "chrome_options.add_argument(\"--disable-extensions\")\n",
    "chrome_options.add_argument('--disable-notifications')\n",
    "chrome_options.add_argument(\"--mute-audio\")\n",
    "chrome_options.add_argument(\"--start-maximized\")\n",
    "chrome_options.add_argument('--disable-gpu')\n",
    "chrome_options.add_argument('--disable-dev-shm-usage')\n",
    "chrome_options.add_argument('--no-sandbox')\n",
    "chrome_options.add_argument('--ignore-certificate-errors')\n",
    "chrome_options.add_argument(f\"user-agent={ua['google chrome']}\")\n",
    "\n",
    "driver = uc.Chrome(executable_path=ChromeDriverManager().install(), \n",
    "                    options=chrome_options)\n",
    "\n",
    "driver.get('https://www.google.co.in/')\n",
    "\n",
    "driver.quit()"
   ]
  },
  {
   "cell_type": "markdown",
   "id": "4acd7059",
   "metadata": {},
   "source": [
    "# References"
   ]
  },
  {
   "cell_type": "markdown",
   "id": "683b2749",
   "metadata": {},
   "source": [
    "* List of Chrome Option switches: https://peter.sh/experiments/chromium-command-line-switches/\n",
    "* No sandbox chrome option switch: https://www.google.com/googlebooks/chrome/med_26.html"
   ]
  }
 ],
 "metadata": {
  "kernelspec": {
   "display_name": "Python 3 (ipykernel)",
   "language": "python",
   "name": "python3"
  },
  "language_info": {
   "codemirror_mode": {
    "name": "ipython",
    "version": 3
   },
   "file_extension": ".py",
   "mimetype": "text/x-python",
   "name": "python",
   "nbconvert_exporter": "python",
   "pygments_lexer": "ipython3",
   "version": "3.8.0"
  }
 },
 "nbformat": 4,
 "nbformat_minor": 5
}
