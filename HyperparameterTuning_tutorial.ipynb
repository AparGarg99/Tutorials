{
 "cells": [
  {
   "cell_type": "markdown",
   "metadata": {},
   "source": [
    "![tuning](https://user-images.githubusercontent.com/54896849/116710403-5992c180-a9ef-11eb-969c-c06841f7b09b.PNG)"
   ]
  },
  {
   "cell_type": "markdown",
   "metadata": {},
   "source": [
    "#### Tuning techniques:\n",
    "1. Manual Search\n",
    "2. Random Search\n",
    "3. Grid Search\n",
    "4. Automated Hyperparameter Tuning (Bayesian Optimization, Genetic Algorithms)"
   ]
  },
  {
   "cell_type": "markdown",
   "metadata": {},
   "source": [
    "# Import Libraries"
   ]
  },
  {
   "cell_type": "code",
   "execution_count": 1,
   "metadata": {
    "_cell_guid": "b1076dfc-b9ad-4769-8c92-a6c4dae69d19",
    "_uuid": "8f2839f25d086af736a60e9eeb907d3b93b6e0e5"
   },
   "outputs": [
    {
     "name": "stderr",
     "output_type": "stream",
     "text": [
      "C:\\Users\\Amit\\Anaconda3\\lib\\site-packages\\tpot\\builtins\\__init__.py:36: UserWarning: Warning: optional dependency `torch` is not available. - skipping import of NN models.\n",
      "  warnings.warn(\"Warning: optional dependency `torch` is not available. - skipping import of NN models.\")\n"
     ]
    }
   ],
   "source": [
    "import pandas as pd\n",
    "from sklearn.preprocessing import StandardScaler\n",
    "from sklearn.model_selection import train_test_split\n",
    "from sklearn.ensemble import RandomForestClassifier\n",
    "from tpot import TPOTClassifier\n",
    "from sklearn.model_selection import GridSearchCV\n",
    "from sklearn.model_selection import RandomizedSearchCV\n",
    "from sklearn.metrics import accuracy_score\n",
    "import numpy as np\n",
    "import warnings\n",
    "import matplotlib.pyplot as plt\n",
    "from hyperopt import hp, fmin, tpe, STATUS_OK, Trials\n",
    "from sklearn.metrics import accuracy_score\n",
    "from sklearn.model_selection import cross_val_score\n",
    "warnings.filterwarnings('ignore')"
   ]
  },
  {
   "cell_type": "markdown",
   "metadata": {},
   "source": [
    "# Data Preparation"
   ]
  },
  {
   "cell_type": "code",
   "execution_count": 2,
   "metadata": {
    "_cell_guid": "79c7e3d0-c299-4dcb-8224-4455121ee9b0",
    "_uuid": "d629ff2d2480ee46fbb7e2d37f6b5fab8052498a"
   },
   "outputs": [
    {
     "data": {
      "text/html": [
       "<div>\n",
       "<style scoped>\n",
       "    .dataframe tbody tr th:only-of-type {\n",
       "        vertical-align: middle;\n",
       "    }\n",
       "\n",
       "    .dataframe tbody tr th {\n",
       "        vertical-align: top;\n",
       "    }\n",
       "\n",
       "    .dataframe thead th {\n",
       "        text-align: right;\n",
       "    }\n",
       "</style>\n",
       "<table border=\"1\" class=\"dataframe\">\n",
       "  <thead>\n",
       "    <tr style=\"text-align: right;\">\n",
       "      <th></th>\n",
       "      <th>Time</th>\n",
       "      <th>V1</th>\n",
       "      <th>V2</th>\n",
       "      <th>V3</th>\n",
       "      <th>V4</th>\n",
       "      <th>V5</th>\n",
       "      <th>V6</th>\n",
       "      <th>V7</th>\n",
       "      <th>V8</th>\n",
       "      <th>V9</th>\n",
       "      <th>...</th>\n",
       "      <th>V21</th>\n",
       "      <th>V22</th>\n",
       "      <th>V23</th>\n",
       "      <th>V24</th>\n",
       "      <th>V25</th>\n",
       "      <th>V26</th>\n",
       "      <th>V27</th>\n",
       "      <th>V28</th>\n",
       "      <th>Amount</th>\n",
       "      <th>Class</th>\n",
       "    </tr>\n",
       "  </thead>\n",
       "  <tbody>\n",
       "    <tr>\n",
       "      <th>0</th>\n",
       "      <td>0.0</td>\n",
       "      <td>-1.359807</td>\n",
       "      <td>-0.072781</td>\n",
       "      <td>2.536347</td>\n",
       "      <td>1.378155</td>\n",
       "      <td>-0.338321</td>\n",
       "      <td>0.462388</td>\n",
       "      <td>0.239599</td>\n",
       "      <td>0.098698</td>\n",
       "      <td>0.363787</td>\n",
       "      <td>...</td>\n",
       "      <td>-0.018307</td>\n",
       "      <td>0.277838</td>\n",
       "      <td>-0.110474</td>\n",
       "      <td>0.066928</td>\n",
       "      <td>0.128539</td>\n",
       "      <td>-0.189115</td>\n",
       "      <td>0.133558</td>\n",
       "      <td>-0.021053</td>\n",
       "      <td>149.62</td>\n",
       "      <td>0</td>\n",
       "    </tr>\n",
       "    <tr>\n",
       "      <th>1</th>\n",
       "      <td>0.0</td>\n",
       "      <td>1.191857</td>\n",
       "      <td>0.266151</td>\n",
       "      <td>0.166480</td>\n",
       "      <td>0.448154</td>\n",
       "      <td>0.060018</td>\n",
       "      <td>-0.082361</td>\n",
       "      <td>-0.078803</td>\n",
       "      <td>0.085102</td>\n",
       "      <td>-0.255425</td>\n",
       "      <td>...</td>\n",
       "      <td>-0.225775</td>\n",
       "      <td>-0.638672</td>\n",
       "      <td>0.101288</td>\n",
       "      <td>-0.339846</td>\n",
       "      <td>0.167170</td>\n",
       "      <td>0.125895</td>\n",
       "      <td>-0.008983</td>\n",
       "      <td>0.014724</td>\n",
       "      <td>2.69</td>\n",
       "      <td>0</td>\n",
       "    </tr>\n",
       "    <tr>\n",
       "      <th>2</th>\n",
       "      <td>1.0</td>\n",
       "      <td>-1.358354</td>\n",
       "      <td>-1.340163</td>\n",
       "      <td>1.773209</td>\n",
       "      <td>0.379780</td>\n",
       "      <td>-0.503198</td>\n",
       "      <td>1.800499</td>\n",
       "      <td>0.791461</td>\n",
       "      <td>0.247676</td>\n",
       "      <td>-1.514654</td>\n",
       "      <td>...</td>\n",
       "      <td>0.247998</td>\n",
       "      <td>0.771679</td>\n",
       "      <td>0.909412</td>\n",
       "      <td>-0.689281</td>\n",
       "      <td>-0.327642</td>\n",
       "      <td>-0.139097</td>\n",
       "      <td>-0.055353</td>\n",
       "      <td>-0.059752</td>\n",
       "      <td>378.66</td>\n",
       "      <td>0</td>\n",
       "    </tr>\n",
       "    <tr>\n",
       "      <th>3</th>\n",
       "      <td>1.0</td>\n",
       "      <td>-0.966272</td>\n",
       "      <td>-0.185226</td>\n",
       "      <td>1.792993</td>\n",
       "      <td>-0.863291</td>\n",
       "      <td>-0.010309</td>\n",
       "      <td>1.247203</td>\n",
       "      <td>0.237609</td>\n",
       "      <td>0.377436</td>\n",
       "      <td>-1.387024</td>\n",
       "      <td>...</td>\n",
       "      <td>-0.108300</td>\n",
       "      <td>0.005274</td>\n",
       "      <td>-0.190321</td>\n",
       "      <td>-1.175575</td>\n",
       "      <td>0.647376</td>\n",
       "      <td>-0.221929</td>\n",
       "      <td>0.062723</td>\n",
       "      <td>0.061458</td>\n",
       "      <td>123.50</td>\n",
       "      <td>0</td>\n",
       "    </tr>\n",
       "    <tr>\n",
       "      <th>4</th>\n",
       "      <td>2.0</td>\n",
       "      <td>-1.158233</td>\n",
       "      <td>0.877737</td>\n",
       "      <td>1.548718</td>\n",
       "      <td>0.403034</td>\n",
       "      <td>-0.407193</td>\n",
       "      <td>0.095921</td>\n",
       "      <td>0.592941</td>\n",
       "      <td>-0.270533</td>\n",
       "      <td>0.817739</td>\n",
       "      <td>...</td>\n",
       "      <td>-0.009431</td>\n",
       "      <td>0.798278</td>\n",
       "      <td>-0.137458</td>\n",
       "      <td>0.141267</td>\n",
       "      <td>-0.206010</td>\n",
       "      <td>0.502292</td>\n",
       "      <td>0.219422</td>\n",
       "      <td>0.215153</td>\n",
       "      <td>69.99</td>\n",
       "      <td>0</td>\n",
       "    </tr>\n",
       "  </tbody>\n",
       "</table>\n",
       "<p>5 rows × 31 columns</p>\n",
       "</div>"
      ],
      "text/plain": [
       "   Time        V1        V2        V3        V4        V5        V6        V7  \\\n",
       "0   0.0 -1.359807 -0.072781  2.536347  1.378155 -0.338321  0.462388  0.239599   \n",
       "1   0.0  1.191857  0.266151  0.166480  0.448154  0.060018 -0.082361 -0.078803   \n",
       "2   1.0 -1.358354 -1.340163  1.773209  0.379780 -0.503198  1.800499  0.791461   \n",
       "3   1.0 -0.966272 -0.185226  1.792993 -0.863291 -0.010309  1.247203  0.237609   \n",
       "4   2.0 -1.158233  0.877737  1.548718  0.403034 -0.407193  0.095921  0.592941   \n",
       "\n",
       "         V8        V9  ...       V21       V22       V23       V24       V25  \\\n",
       "0  0.098698  0.363787  ... -0.018307  0.277838 -0.110474  0.066928  0.128539   \n",
       "1  0.085102 -0.255425  ... -0.225775 -0.638672  0.101288 -0.339846  0.167170   \n",
       "2  0.247676 -1.514654  ...  0.247998  0.771679  0.909412 -0.689281 -0.327642   \n",
       "3  0.377436 -1.387024  ... -0.108300  0.005274 -0.190321 -1.175575  0.647376   \n",
       "4 -0.270533  0.817739  ... -0.009431  0.798278 -0.137458  0.141267 -0.206010   \n",
       "\n",
       "        V26       V27       V28  Amount  Class  \n",
       "0 -0.189115  0.133558 -0.021053  149.62      0  \n",
       "1  0.125895 -0.008983  0.014724    2.69      0  \n",
       "2 -0.139097 -0.055353 -0.059752  378.66      0  \n",
       "3 -0.221929  0.062723  0.061458  123.50      0  \n",
       "4  0.502292  0.219422  0.215153   69.99      0  \n",
       "\n",
       "[5 rows x 31 columns]"
      ]
     },
     "execution_count": 2,
     "metadata": {},
     "output_type": "execute_result"
    }
   ],
   "source": [
    "df = pd.read_csv(\"creditcard.csv\")\n",
    "df.head()"
   ]
  },
  {
   "cell_type": "markdown",
   "metadata": {},
   "source": [
    "### Null-value removal"
   ]
  },
  {
   "cell_type": "code",
   "execution_count": 3,
   "metadata": {},
   "outputs": [
    {
     "data": {
      "text/plain": [
       "Time      0.0\n",
       "V1        0.0\n",
       "V2        0.0\n",
       "V3        0.0\n",
       "V4        0.0\n",
       "V5        0.0\n",
       "V6        0.0\n",
       "V7        0.0\n",
       "V8        0.0\n",
       "V9        0.0\n",
       "V10       0.0\n",
       "V11       0.0\n",
       "V12       0.0\n",
       "V13       0.0\n",
       "V14       0.0\n",
       "V15       0.0\n",
       "V16       0.0\n",
       "V17       0.0\n",
       "V18       0.0\n",
       "V19       0.0\n",
       "V20       0.0\n",
       "V21       0.0\n",
       "V22       0.0\n",
       "V23       0.0\n",
       "V24       0.0\n",
       "V25       0.0\n",
       "V26       0.0\n",
       "V27       0.0\n",
       "V28       0.0\n",
       "Amount    0.0\n",
       "Class     0.0\n",
       "dtype: float64"
      ]
     },
     "execution_count": 3,
     "metadata": {},
     "output_type": "execute_result"
    }
   ],
   "source": [
    "df.isnull().sum() * 100 / len(df)"
   ]
  },
  {
   "cell_type": "markdown",
   "metadata": {},
   "source": [
    "### Down-scaling"
   ]
  },
  {
   "cell_type": "code",
   "execution_count": 4,
   "metadata": {},
   "outputs": [
    {
     "data": {
      "text/plain": [
       "0    284315\n",
       "1       492\n",
       "Name: Class, dtype: int64"
      ]
     },
     "execution_count": 4,
     "metadata": {},
     "output_type": "execute_result"
    }
   ],
   "source": [
    "df['Class'].value_counts()"
   ]
  },
  {
   "cell_type": "code",
   "execution_count": 5,
   "metadata": {},
   "outputs": [
    {
     "data": {
      "text/plain": [
       "(984, 31)"
      ]
     },
     "execution_count": 5,
     "metadata": {},
     "output_type": "execute_result"
    }
   ],
   "source": [
    "df2 = df[df.Class == 1][0:492]\n",
    "df3 = df[df.Class == 0][0:492]\n",
    "df = df2.append(df3, ignore_index=True)\n",
    "df.shape"
   ]
  },
  {
   "cell_type": "markdown",
   "metadata": {},
   "source": [
    "### Feature Selection"
   ]
  },
  {
   "cell_type": "code",
   "execution_count": 6,
   "metadata": {},
   "outputs": [
    {
     "data": {
      "text/plain": [
       "<AxesSubplot:>"
      ]
     },
     "execution_count": 6,
     "metadata": {},
     "output_type": "execute_result"
    },
    {
     "data": {
      "image/png": "[encoded data removed]",
      "text/plain": [
       "<Figure size 432x288 with 1 Axes>"
      ]
     },
     "metadata": {
      "needs_background": "light"
     },
     "output_type": "display_data"
    }
   ],
   "source": [
    "# define data\n",
    "X = df.drop(['Class'], axis = 1).values\n",
    "Y = df['Class']\n",
    "X = StandardScaler().fit_transform(X)\n",
    "X_Train, X_Test, Y_Train, Y_Test = train_test_split(X, Y, test_size = 0.30, random_state = 101)\n",
    "\n",
    "# define model\n",
    "model = RandomForestClassifier()\n",
    "\n",
    "# train model\n",
    "model.fit(X_Train,Y_Train)\n",
    "\n",
    "# Feature importance score\n",
    "feat_importances = pd.Series(model.feature_importances_, index=df.drop(df[['Class']], \n",
    "                                                                       axis=1).columns)\n",
    "feat_importances.nlargest(10).plot.bar()"
   ]
  },
  {
   "cell_type": "markdown",
   "metadata": {},
   "source": [
    "### Train-test split"
   ]
  },
  {
   "cell_type": "code",
   "execution_count": 7,
   "metadata": {},
   "outputs": [],
   "source": [
    "X = df[list(feat_importances.nlargest(6).index)[1:]]\n",
    "Y = df['Class']\n",
    "X_Train, X_Test, Y_Train, Y_Test = train_test_split(X, Y, test_size = 0.30, random_state = 101)"
   ]
  },
  {
   "cell_type": "markdown",
   "metadata": {},
   "source": [
    "# Base Model (without Hyperparameter Tuning)"
   ]
  },
  {
   "cell_type": "markdown",
   "metadata": {},
   "source": [
    "In this tutorial, I'll take Random Forest as my base model since it has a lot of hyperparameters.\n",
    "\n",
    "The main parameters used by a Random Forest Classifier are:\n",
    "- criterion = the function used to evaluate the quality of a split.\n",
    "- max_depth = maximum number of levels allowed in each tree.\n",
    "- max_features = maximum number of features considered when splitting a node.\n",
    "- min_samples_leaf = minimum number of samples which can be stored in a tree leaf.\n",
    "- min_samples_split = minimum number of samples necessary in a node to cause node splitting.\n",
    "- n_estimators = number of trees in the ensamble."
   ]
  },
  {
   "cell_type": "code",
   "execution_count": 8,
   "metadata": {},
   "outputs": [
    {
     "data": {
      "text/plain": [
       "RandomForestClassifier(random_state=101)"
      ]
     },
     "execution_count": 8,
     "metadata": {},
     "output_type": "execute_result"
    }
   ],
   "source": [
    "# training\n",
    "model = RandomForestClassifier(random_state= 101)\n",
    "model.fit(X_Train,Y_Train)"
   ]
  },
  {
   "cell_type": "code",
   "execution_count": 9,
   "metadata": {},
   "outputs": [
    {
     "data": {
      "text/plain": [
       "0.9358108108108109"
      ]
     },
     "execution_count": 9,
     "metadata": {},
     "output_type": "execute_result"
    }
   ],
   "source": [
    "# testing\n",
    "predictionforest = model.predict(X_Test)\n",
    "acc1 = accuracy_score(Y_Test,predictionforest)\n",
    "acc1"
   ]
  },
  {
   "cell_type": "markdown",
   "metadata": {},
   "source": [
    "# Models (with Hyperparameter Tuning)"
   ]
  },
  {
   "cell_type": "markdown",
   "metadata": {},
   "source": [
    "## Manual Search"
   ]
  },
  {
   "cell_type": "markdown",
   "metadata": {},
   "source": [
    "When using Manual Search, we choose some model hyperparameters based on our judgment/experience. We then train the model, evaluate its accuracy and start the process again. This loop is repeated until a satisficatory accuracy is achieved."
   ]
  },
  {
   "cell_type": "code",
   "execution_count": 10,
   "metadata": {},
   "outputs": [
    {
     "data": {
      "text/plain": [
       "RandomForestClassifier(max_features='log2', min_samples_leaf=20,\n",
       "                       n_estimators=200, random_state=101)"
      ]
     },
     "execution_count": 10,
     "metadata": {},
     "output_type": "execute_result"
    }
   ],
   "source": [
    "# training\n",
    "model = RandomForestClassifier(n_estimators= 200, max_features = \"log2\", min_samples_leaf = 20, random_state= 101)\n",
    "model.fit(X_Train,Y_Train)"
   ]
  },
  {
   "cell_type": "code",
   "execution_count": 11,
   "metadata": {},
   "outputs": [
    {
     "data": {
      "text/plain": [
       "0.9324324324324325"
      ]
     },
     "execution_count": 11,
     "metadata": {},
     "output_type": "execute_result"
    }
   ],
   "source": [
    "# testing\n",
    "predictionforest = model.predict(X_Test)\n",
    "acc2 = accuracy_score(Y_Test,predictionforest)\n",
    "acc2"
   ]
  },
  {
   "cell_type": "markdown",
   "metadata": {},
   "source": [
    "## Random Search"
   ]
  },
  {
   "cell_type": "markdown",
   "metadata": {},
   "source": [
    "In Random Search, we create a grid of hyperparameters and train/test our model on just some random combination of these hyperparameters."
   ]
  },
  {
   "cell_type": "code",
   "execution_count": 12,
   "metadata": {},
   "outputs": [],
   "source": [
    "# Domain/Search Space\n",
    "random_search = {\n",
    "               'criterion': ['entropy', 'gini'],\n",
    "               'max_depth': list(range(10,2100,100)) + [None],\n",
    "               'max_features': ['auto','sqrt','log2',None],\n",
    "               'min_samples_leaf': [1,2,4,6,8],\n",
    "               'min_samples_split': list(range(2,20,2)),\n",
    "               'n_estimators': list(range(100,2100,100))\n",
    "                }"
   ]
  },
  {
   "cell_type": "code",
   "execution_count": 13,
   "metadata": {},
   "outputs": [
    {
     "data": {
      "text/plain": [
       "{'n_estimators': 1600,\n",
       " 'min_samples_split': 10,\n",
       " 'min_samples_leaf': 6,\n",
       " 'max_features': 'log2',\n",
       " 'max_depth': 1810,\n",
       " 'criterion': 'entropy'}"
      ]
     },
     "execution_count": 13,
     "metadata": {},
     "output_type": "execute_result"
    }
   ],
   "source": [
    "# training\n",
    "clf = RandomForestClassifier()\n",
    "\n",
    "model = RandomizedSearchCV(estimator = clf, param_distributions = random_search, n_iter = 100, \n",
    "                               cv = 4, verbose= 0, random_state= 101, n_jobs = -1)\n",
    "\n",
    "model.fit(X_Train,Y_Train)\n",
    "\n",
    "model.best_params_"
   ]
  },
  {
   "cell_type": "code",
   "execution_count": 14,
   "metadata": {},
   "outputs": [
    {
     "data": {
      "text/plain": [
       "0.9358108108108109"
      ]
     },
     "execution_count": 14,
     "metadata": {},
     "output_type": "execute_result"
    }
   ],
   "source": [
    "# testing\n",
    "predictionforest = model.best_estimator_.predict(X_Test)\n",
    "acc3 = accuracy_score(Y_Test,predictionforest)\n",
    "acc3"
   ]
  },
  {
   "cell_type": "markdown",
   "metadata": {},
   "source": [
    "## Grid Search"
   ]
  },
  {
   "cell_type": "markdown",
   "metadata": {},
   "source": [
    "In Grid Search, we set up a grid of hyperparameters and train/test our model on each of the possible combinations. \n"
   ]
  },
  {
   "cell_type": "markdown",
   "metadata": {},
   "source": [
    "In order to choose the parameters to use in Grid Search, we can try to run first Random Search to get an understanding of which values might perform best on the considered dataset."
   ]
  },
  {
   "cell_type": "code",
   "execution_count": 16,
   "metadata": {},
   "outputs": [],
   "source": [
    "# Domain/Search Space\n",
    "grid_search = {\n",
    "    'criterion': [model.best_params_['criterion']],\n",
    "    'max_depth': [model.best_params_['max_depth']],\n",
    "    'max_features': [model.best_params_['max_features']],\n",
    "    'min_samples_leaf': [model.best_params_['min_samples_leaf'] - 2, \n",
    "                         model.best_params_['min_samples_leaf'], \n",
    "                         model.best_params_['min_samples_leaf'] + 2],\n",
    "    'min_samples_split': [model.best_params_['min_samples_split'] - 3, \n",
    "                          model.best_params_['min_samples_split'], \n",
    "                          model.best_params_['min_samples_split'] + 3],\n",
    "    'n_estimators': [model.best_params_['n_estimators'] - 150, model.best_params_['n_estimators'] - 100, \n",
    "                     model.best_params_['n_estimators'], \n",
    "                     model.best_params_['n_estimators'] + 100, model.best_params_['n_estimators'] + 150]\n",
    "}"
   ]
  },
  {
   "cell_type": "code",
   "execution_count": 17,
   "metadata": {},
   "outputs": [
    {
     "data": {
      "text/plain": [
       "{'criterion': 'entropy',\n",
       " 'max_depth': 1810,\n",
       " 'max_features': 'log2',\n",
       " 'min_samples_leaf': 6,\n",
       " 'min_samples_split': 13,\n",
       " 'n_estimators': 1600}"
      ]
     },
     "execution_count": 17,
     "metadata": {},
     "output_type": "execute_result"
    }
   ],
   "source": [
    "# training\n",
    "clf = RandomForestClassifier()\n",
    "\n",
    "model = GridSearchCV(estimator = clf, param_grid = grid_search, cv = 4, verbose= 0, n_jobs = -1)\n",
    "\n",
    "model.fit(X_Train,Y_Train)\n",
    "\n",
    "model.best_params_"
   ]
  },
  {
   "cell_type": "code",
   "execution_count": 18,
   "metadata": {},
   "outputs": [
    {
     "data": {
      "text/plain": [
       "0.9425675675675675"
      ]
     },
     "execution_count": 18,
     "metadata": {},
     "output_type": "execute_result"
    }
   ],
   "source": [
    "# testing\n",
    "predictionforest = model.best_estimator_.predict(X_Test)\n",
    "acc4 = accuracy_score(Y_Test,predictionforest)\n",
    "acc4"
   ]
  },
  {
   "cell_type": "markdown",
   "metadata": {},
   "source": [
    "* Grid Search is slower compared to Random Search but can be more effective because it can go through the whole search space. \n",
    "* Random Search is faster , but might miss some important points in the search space."
   ]
  },
  {
   "cell_type": "markdown",
   "metadata": {},
   "source": [
    "## Automated Hyperparameter Tuning"
   ]
  },
  {
   "cell_type": "markdown",
   "metadata": {},
   "source": [
    "### Bayesian Optimization"
   ]
  },
  {
   "cell_type": "markdown",
   "metadata": {},
   "source": [
    "* Bayesian optimization uses probability to find the minimum of a function. \n",
    "* The final aim is to find the input value to a function which can gives us the lowest possible output value. "
   ]
  },
  {
   "cell_type": "markdown",
   "metadata": {},
   "source": [
    "* Instead of using random combinations of values for the hyperparameters, it looks at the current results obtained and predict regions of the hyperparameter space that might give better results."
   ]
  },
  {
   "cell_type": "markdown",
   "metadata": {},
   "source": [
    "* Baysian optimization has been proved to be more efficient than random, grid or manual search. \n",
    "* Bayesian Optimization can therefore lead to better performance in the testing phase and reduced optimization time."
   ]
  },
  {
   "cell_type": "markdown",
   "metadata": {},
   "source": [
    "* Hyperopt is a Python library used to optimize Machine Learning models using Bayesian Optimization. \n",
    "* In Hyperopt, Bayesian Optimization can be implemented by giving 3 three main parameters to the function fmin.\n",
    "    1. Objective Function = defines the loss function to minimize.\n",
    "    2. Domain Space = defines the range of input values to test (in Bayesian Optimization this space creates a probability distribution for each of the used Hyperparameters).\n",
    "    3. Optimization Algorithm = defines the search algorithm to use to select the best input values to use in each new iteration. "
   ]
  },
  {
   "cell_type": "code",
   "execution_count": 19,
   "metadata": {},
   "outputs": [],
   "source": [
    "# Objective Function\n",
    "def objective(space):\n",
    "    model = RandomForestClassifier(criterion = space['criterion'], max_depth = space['max_depth'],\n",
    "                                 max_features = space['max_features'],\n",
    "                                 min_samples_leaf = space['min_samples_leaf'],\n",
    "                                 min_samples_split = space['min_samples_split'],\n",
    "                                 n_estimators = space['n_estimators'], \n",
    "                                 )\n",
    "    \n",
    "    accuracy = cross_val_score(model, X_Train, Y_Train, cv = 4).mean()\n",
    "    \n",
    "    return {'loss': -accuracy, 'status': STATUS_OK }"
   ]
  },
  {
   "cell_type": "code",
   "execution_count": 41,
   "metadata": {},
   "outputs": [],
   "source": [
    "# Domain Space\n",
    "space = {'criterion': hp.choice('criterion', ['entropy', 'gini']),\n",
    "        'max_depth': hp.choice('max_depth', list(range(10,2100,100)) + [None]),\n",
    "        'max_features': hp.choice('max_features', ['auto', 'sqrt','log2', None]),\n",
    "        'min_samples_leaf': hp.choice ('min_samples_leaf', [2,4,6,8]),\n",
    "        'min_samples_split' : hp.choice ('min_samples_split', list(range(2,20,2))),\n",
    "        'n_estimators' : hp.choice('n_estimators', list(range(100,2100,100)))\n",
    "    }"
   ]
  },
  {
   "cell_type": "code",
   "execution_count": 42,
   "metadata": {},
   "outputs": [
    {
     "name": "stdout",
     "output_type": "stream",
     "text": [
      "100%|████████████████████████████████████████████████| 100/100 [09:14<00:00,  5.54s/it, best loss: -0.9476744186046512]\n"
     ]
    },
    {
     "data": {
      "text/plain": [
       "{'criterion': 0,\n",
       " 'max_depth': 10,\n",
       " 'max_features': 0,\n",
       " 'min_samples_leaf': 3,\n",
       " 'min_samples_split': 7,\n",
       " 'n_estimators': 11}"
      ]
     },
     "execution_count": 42,
     "metadata": {},
     "output_type": "execute_result"
    }
   ],
   "source": [
    "# Optimization Algorithm = tpe.suggest\n",
    "\n",
    "trials = Trials()\n",
    "best = fmin(fn= objective,\n",
    "            space= space,\n",
    "            algo= tpe.suggest,\n",
    "            max_evals = 100,\n",
    "            trials= trials)\n",
    "best"
   ]
  },
  {
   "cell_type": "code",
   "execution_count": 45,
   "metadata": {},
   "outputs": [
    {
     "name": "stdout",
     "output_type": "stream",
     "text": [
      "entropy auto 1200\n"
     ]
    }
   ],
   "source": [
    "crit = {0: 'entropy', 1: 'gini'}\n",
    "feat = {0: 'auto', 1: 'sqrt', 2: 'log2', 3: None}\n",
    "est = {11: 1200}\n",
    "\n",
    "print(crit[best['criterion']],feat[best['max_features']],est[best['n_estimators']])"
   ]
  },
  {
   "cell_type": "code",
   "execution_count": 46,
   "metadata": {},
   "outputs": [
    {
     "data": {
      "text/plain": [
       "RandomForestClassifier(criterion='entropy', max_depth=10, min_samples_leaf=3,\n",
       "                       min_samples_split=7, n_estimators=1200)"
      ]
     },
     "execution_count": 46,
     "metadata": {},
     "output_type": "execute_result"
    }
   ],
   "source": [
    "# training\n",
    "model = RandomForestClassifier(criterion = crit[best['criterion']], max_depth = best['max_depth'], \n",
    "                                       max_features = feat[best['max_features']], \n",
    "                                       min_samples_leaf = best['min_samples_leaf'], \n",
    "                                       min_samples_split = best['min_samples_split'], \n",
    "                                       n_estimators = est[best['n_estimators']])\n",
    "model.fit(X_Train,Y_Train)"
   ]
  },
  {
   "cell_type": "code",
   "execution_count": 47,
   "metadata": {},
   "outputs": [
    {
     "data": {
      "text/plain": [
       "0.9391891891891891"
      ]
     },
     "execution_count": 47,
     "metadata": {},
     "output_type": "execute_result"
    }
   ],
   "source": [
    "# testing\n",
    "predictionforest = model.predict(X_Test)\n",
    "acc5 = accuracy_score(Y_Test,predictionforest)\n",
    "acc5"
   ]
  },
  {
   "cell_type": "markdown",
   "metadata": {},
   "source": [
    "### Genetic Algorithm"
   ]
  },
  {
   "cell_type": "markdown",
   "metadata": {},
   "source": [
    "* Sub-class of Evolutionary Algorithms. Natural evolution in biological populations.\n",
    "* Child/off-spring inherits the best characteristics of parents.\n",
    "* Genetic Algorithms tries to apply this natural selection mechanisms to Machine Learning contexts."
   ]
  },
  {
   "cell_type": "markdown",
   "metadata": {},
   "source": [
    "#### Steps:\n",
    "1. Create a population of N Machine Learning models with some predifined Hyperparameters. \n",
    "2. Selection- Calculate the accuracy of each model and decide to keep just half of the models (the ones that performs best; highest fitness). \n",
    "3. Reproduction- Generate N offsprings having similar Hyperparameters to the ones of the best models.\n",
    "4. Repeat steps 2 and 3 for a defined number of generations (convergence).\n",
    "\n",
    "In this way, just the best models will survive at the end of the process."
   ]
  },
  {
   "cell_type": "code",
   "execution_count": 48,
   "metadata": {},
   "outputs": [],
   "source": [
    "# Domain/Search Space\n",
    "parameters = {\n",
    "               'criterion': ['entropy', 'gini'],\n",
    "               'max_depth': list(range(10,2100,100)) + [None],\n",
    "               'max_features': ['auto','sqrt','log2',None],\n",
    "               'min_samples_leaf': [1,2,4,6,8],\n",
    "               'min_samples_split': list(range(2,20,2)),\n",
    "               'n_estimators': list(range(100,2100,100))\n",
    "                }"
   ]
  },
  {
   "cell_type": "code",
   "execution_count": 53,
   "metadata": {},
   "outputs": [
    {
     "name": "stderr",
     "output_type": "stream",
     "text": [
      "Version 0.11.6 of tpot is outdated. Version 0.11.7 was released Wednesday January 06, 2021.\n"
     ]
    },
    {
     "data": {
      "application/vnd.jupyter.widget-view+json": {
       "model_id": "",
       "version_major": 2,
       "version_minor": 0
      },
      "text/plain": [
       "Optimization Progress:   0%|          | 0/300 [00:00<?, ?pipeline/s]"
      ]
     },
     "metadata": {},
     "output_type": "display_data"
    },
    {
     "name": "stdout",
     "output_type": "stream",
     "text": [
      "\n",
      "Generation 1 - Current best internal CV score: 0.9491279069767442\n",
      "\n",
      "Generation 2 - Current best internal CV score: 0.9491279069767442\n",
      "\n",
      "Generation 3 - Current best internal CV score: 0.9491279069767442\n",
      "\n",
      "Generation 4 - Current best internal CV score: 0.9491279069767442\n",
      "\n",
      "Generation 5 - Current best internal CV score: 0.9491279069767442\n",
      "\n",
      "Best pipeline: RandomForestClassifier(CombineDFs(input_matrix, input_matrix), criterion=entropy, max_depth=1310, max_features=sqrt, min_samples_leaf=8, min_samples_split=14, n_estimators=400)\n"
     ]
    },
    {
     "data": {
      "text/plain": [
       "TPOTClassifier(config_dict={'sklearn.ensemble.RandomForestClassifier': {'criterion': ['entropy',\n",
       "                                                                                      'gini'],\n",
       "                                                                        'max_depth': [10,\n",
       "                                                                                      110,\n",
       "                                                                                      210,\n",
       "                                                                                      310,\n",
       "                                                                                      410,\n",
       "                                                                                      510,\n",
       "                                                                                      610,\n",
       "                                                                                      710,\n",
       "                                                                                      810,\n",
       "                                                                                      910,\n",
       "                                                                                      1010,\n",
       "                                                                                      1110,\n",
       "                                                                                      1210,\n",
       "                                                                                      1310,\n",
       "                                                                                      1410,\n",
       "                                                                                      1510,\n",
       "                                                                                      1610,\n",
       "                                                                                      1710,\n",
       "                                                                                      1810,\n",
       "                                                                                      1910,\n",
       "                                                                                      2010,\n",
       "                                                                                      None],\n",
       "                                                                        'max_features': ['auto',\n",
       "                                                                                         'sqrt',\n",
       "                                                                                         'log2',\n",
       "                                                                                         None],\n",
       "                                                                        'min_samples_leaf': [1,\n",
       "                                                                                             2,\n",
       "                                                                                             4,\n",
       "                                                                                             6,\n",
       "                                                                                             8],\n",
       "                                                                        'min_samples_split': [2,\n",
       "                                                                                              4,\n",
       "                                                                                              6,\n",
       "                                                                                              8,\n",
       "                                                                                              10,\n",
       "                                                                                              12,\n",
       "                                                                                              14,\n",
       "                                                                                              16,\n",
       "                                                                                              18],\n",
       "                                                                        'n_estimators': [100,\n",
       "                                                                                         200,\n",
       "                                                                                         300,\n",
       "                                                                                         400,\n",
       "                                                                                         500,\n",
       "                                                                                         600,\n",
       "                                                                                         700,\n",
       "                                                                                         800,\n",
       "                                                                                         900,\n",
       "                                                                                         1000,\n",
       "                                                                                         1100,\n",
       "                                                                                         1200,\n",
       "                                                                                         1300,\n",
       "                                                                                         1400,\n",
       "                                                                                         1500,\n",
       "                                                                                         1600,\n",
       "                                                                                         1700,\n",
       "                                                                                         1800,\n",
       "                                                                                         1900,\n",
       "                                                                                         2000]}},\n",
       "               cv=4, early_stop=12, generations=5, population_size=50,\n",
       "               scoring='accuracy', verbosity=2)"
      ]
     },
     "execution_count": 53,
     "metadata": {},
     "output_type": "execute_result"
    }
   ],
   "source": [
    "# training\n",
    "model = TPOTClassifier(generations= 5, \n",
    "                       population_size= 50,\n",
    "                       verbosity= 2, \n",
    "                       early_stop= 12,\n",
    "                       config_dict={'sklearn.ensemble.RandomForestClassifier': parameters}, \n",
    "                       cv = 4, \n",
    "                       scoring = 'accuracy')\n",
    "model.fit(X_Train,Y_Train)"
   ]
  },
  {
   "cell_type": "code",
   "execution_count": 54,
   "metadata": {},
   "outputs": [
    {
     "data": {
      "text/plain": [
       "0.9391891891891891"
      ]
     },
     "execution_count": 54,
     "metadata": {},
     "output_type": "execute_result"
    }
   ],
   "source": [
    "# testing\n",
    "predictionforest = model.predict(X_Test)\n",
    "acc6 = accuracy_score(Y_Test,predictionforest)\n",
    "acc6"
   ]
  },
  {
   "cell_type": "markdown",
   "metadata": {},
   "source": [
    "# Performace Comparison"
   ]
  },
  {
   "cell_type": "code",
   "execution_count": 60,
   "metadata": {},
   "outputs": [
    {
     "name": "stdout",
     "output_type": "stream",
     "text": [
      "Base Model vs Manual Search Accuracy -0.3610%.\n",
      "Base Model vs Random Search Accuracy 0.0000%.\n",
      "Base Model vs Grid Search Accuracy 0.7220%.\n",
      "Base Model vs Hyperopt Accuracy 0.3610%.\n",
      "Base Model vs TPOT Accuracy 0.3610%.\n"
     ]
    }
   ],
   "source": [
    "print('Base Model vs Manual Search Accuracy {:0.4f}%.'.format( 100 * (acc2 - acc1) / acc1))\n",
    "print('Base Model vs Random Search Accuracy {:0.4f}%.'.format( 100 * (acc3 - acc1) / acc1))\n",
    "print('Base Model vs Grid Search Accuracy {:0.4f}%.'.format( 100 * (acc4 - acc1) / acc1))\n",
    "print('Base Model vs Hyperopt Accuracy {:0.4f}%.'.format( 100 * (acc5 - acc1) / acc1))\n",
    "print('Base Model vs TPOT Accuracy {:0.4f}%.'.format( 100 * (acc6 - acc1) / acc1))"
   ]
  }
 ],
 "metadata": {
  "kernelspec": {
   "display_name": "Python 3",
   "language": "python",
   "name": "python3"
  },
  "language_info": {
   "codemirror_mode": {
    "name": "ipython",
    "version": 3
   },
   "file_extension": ".py",
   "mimetype": "text/x-python",
   "name": "python",
   "nbconvert_exporter": "python",
   "pygments_lexer": "ipython3",
   "version": "3.7.4"
  },
  "widgets": {
   "application/vnd.jupyter.widget-state+json": {
    "state": {
     "2a3fdefd1ac64511b458a098c037a845": {
      "buffers": [
       {
        "data": "btu2bdu27T8svuIrvuLtPxZf8RVf8e0/LL7iK77i7T9YfMVXfMXtP1h8xVd8xe0/Qh3UQR3U7T9YfMVXfMXtPxZf8RVf8e0/6qAO6qAO7j8svuIrvuLtPwAAAAAAAO4/AAAAAAAA7j8svuIrvuLtP1h8xVd8xe0/Qh3UQR3U7T+EOqiDOqjtPyy+4iu+4u0/btu2bdu27T/FV3zFV3ztP7D4iq/4iu0/Qh3UQR3U7T8svuIrvuLtPyy+4iu+4u0/xVd8xVd87T/FV3zFV3ztP27btm3btu0/AAAAAAAA7j8svuIrvuLtPxZf8RVf8e0/LL7iK77i7T8WX/EVX/HtP1h8xVd8xe0/btu2bdu27T9CHdRBHdTtP27btm3btu0/Qh3UQR3U7T9u27Zt27btPyy+4iu+4u0/LL7iK77i7T8WX/EVX/HtP0Id1EEd1O0/btu2bdu27T9u27Zt27btP8VXfMVXfO0/WHzFV3zF7T8svuIrvuLtP0Id1EEd1O0/btu2bdu27T9YfMVXfMXtP0Id1EEd1O0/Fl/xFV/x7T8svuIrvuLtPyy+4iu+4u0/27Zt27Zt7T9YfMVXfMXtPwAAAAAAAO4/Qh3UQR3U7T9u27Zt27btPyy+4iu+4u0/LL7iK77i7T9CHdRBHdTtPyy+4iu+4u0/Qh3UQR3U7T9CHdRBHdTtP27btm3btu0/Qh3UQR3U7T9CHdRBHdTtP1h8xVd8xe0/Fl/xFV/x7T8svuIrvuLtP1h8xVd8xe0/Fl/xFV/x7T/FV3zFV3ztP0Id1EEd1O0/Qh3UQR3U7T9CHdRBHdTtP27btm3btu0/LL7iK77i7T9CHdRBHdTtPw==",
        "encoding": "base64",
        "path": [
         "_data",
         0,
         "marker",
         "color",
         "buffer"
        ]
       },
       {
        "data": "AAAAAADgYkAAAAAAAOBiQAAAAAAA4GJAAAAAAADgYkAAAAAAAOBiQAAAAAAA4GJA",
        "encoding": "base64",
        "path": [
         "_data",
         0,
         "x",
         "buffer"
        ]
       },
       {
        "data": "AAAAAAAAGEAAAAAAAAAYQAAAAAAAAChAAAAAAAAAEEAAAAAAAAAoQAAAAAAAACBA",
        "encoding": "base64",
        "path": [
         "_data",
         0,
         "y",
         "buffer"
        ]
       },
       {
        "data": "Qh3UQR3U7T+EOqiDOqjtP7D4iq/4iu0/Qh3UQR3U7T9CHdRBHdTtP0Id1EEd1O0/",
        "encoding": "base64",
        "path": [
         "_data",
         0,
         "z",
         "buffer"
        ]
       },
       {
        "data": "btu2bdu27T8svuIrvuLtPxZf8RVf8e0/LL7iK77i7T9YfMVXfMXtP1h8xVd8xe0/Qh3UQR3U7T9YfMVXfMXtPxZf8RVf8e0/6qAO6qAO7j8svuIrvuLtPwAAAAAAAO4/AAAAAAAA7j8svuIrvuLtP1h8xVd8xe0/Qh3UQR3U7T+EOqiDOqjtPyy+4iu+4u0/btu2bdu27T/FV3zFV3ztP7D4iq/4iu0/Qh3UQR3U7T8svuIrvuLtPyy+4iu+4u0/xVd8xVd87T/FV3zFV3ztP27btm3btu0/AAAAAAAA7j8svuIrvuLtPxZf8RVf8e0/LL7iK77i7T8WX/EVX/HtP1h8xVd8xe0/btu2bdu27T9CHdRBHdTtP27btm3btu0/Qh3UQR3U7T9u27Zt27btPyy+4iu+4u0/LL7iK77i7T8WX/EVX/HtP0Id1EEd1O0/btu2bdu27T9u27Zt27btP8VXfMVXfO0/WHzFV3zF7T8svuIrvuLtP0Id1EEd1O0/btu2bdu27T9YfMVXfMXtP0Id1EEd1O0/Fl/xFV/x7T8svuIrvuLtPyy+4iu+4u0/27Zt27Zt7T9YfMVXfMXtPwAAAAAAAO4/Qh3UQR3U7T9u27Zt27btPyy+4iu+4u0/LL7iK77i7T9CHdRBHdTtPyy+4iu+4u0/Qh3UQR3U7T9CHdRBHdTtP27btm3btu0/Qh3UQR3U7T9CHdRBHdTtP1h8xVd8xe0/Fl/xFV/x7T8svuIrvuLtP1h8xVd8xe0/Fl/xFV/x7T/FV3zFV3ztP0Id1EEd1O0/Qh3UQR3U7T9CHdRBHdTtP27btm3btu0/LL7iK77i7T9CHdRBHdTtPw==",
        "encoding": "base64",
        "path": [
         "_data",
         1,
         "marker",
         "color",
         "buffer"
        ]
       },
       {
        "data": "AAAAAACwcEAAAAAAALBwQAAAAAAAsHBAAAAAAACwcEAAAAAAALBwQAAAAAAAsHBAAAAAAACwcEAAAAAAALBwQAAAAAAAsHBAAAAAAACwcEAAAAAAALBwQAAAAAAAsHBA",
        "encoding": "base64",
        "path": [
         "_data",
         1,
         "x",
         "buffer"
        ]
       },
       {
        "data": "AAAAAAAAEEAAAAAAAAAgQAAAAAAAABhAAAAAAAAAEEAAAAAAAAAgQAAAAAAAABhAAAAAAAAAEEAAAAAAAAAYQAAAAAAAAChAAAAAAAAAGEAAAAAAAAAYQAAAAAAAABBA",
        "encoding": "base64",
        "path": [
         "_data",
         1,
         "y",
         "buffer"
        ]
       },
       {
        "data": "btu2bdu27T8WX/EVX/HtP0Id1EEd1O0/WHzFV3zF7T8svuIrvuLtPyy+4iu+4u0/LL7iK77i7T9u27Zt27btP27btm3btu0/Qh3UQR3U7T9CHdRBHdTtPxZf8RVf8e0/",
        "encoding": "base64",
        "path": [
         "_data",
         1,
         "z",
         "buffer"
        ]
       },
       {
        "data": "btu2bdu27T8svuIrvuLtPxZf8RVf8e0/LL7iK77i7T9YfMVXfMXtP1h8xVd8xe0/Qh3UQR3U7T9YfMVXfMXtPxZf8RVf8e0/6qAO6qAO7j8svuIrvuLtPwAAAAAAAO4/AAAAAAAA7j8svuIrvuLtP1h8xVd8xe0/Qh3UQR3U7T+EOqiDOqjtPyy+4iu+4u0/btu2bdu27T/FV3zFV3ztP7D4iq/4iu0/Qh3UQR3U7T8svuIrvuLtPyy+4iu+4u0/xVd8xVd87T/FV3zFV3ztP27btm3btu0/AAAAAAAA7j8svuIrvuLtPxZf8RVf8e0/LL7iK77i7T8WX/EVX/HtP1h8xVd8xe0/btu2bdu27T9CHdRBHdTtP27btm3btu0/Qh3UQR3U7T9u27Zt27btPyy+4iu+4u0/LL7iK77i7T8WX/EVX/HtP0Id1EEd1O0/btu2bdu27T9u27Zt27btP8VXfMVXfO0/WHzFV3zF7T8svuIrvuLtP0Id1EEd1O0/btu2bdu27T9YfMVXfMXtP0Id1EEd1O0/Fl/xFV/x7T8svuIrvuLtPyy+4iu+4u0/27Zt27Zt7T9YfMVXfMXtPwAAAAAAAO4/Qh3UQR3U7T9u27Zt27btPyy+4iu+4u0/LL7iK77i7T9CHdRBHdTtPyy+4iu+4u0/Qh3UQR3U7T9CHdRBHdTtP27btm3btu0/Qh3UQR3U7T9CHdRBHdTtP1h8xVd8xe0/Fl/xFV/x7T8svuIrvuLtP1h8xVd8xe0/Fl/xFV/x7T/FV3zFV3ztP0Id1EEd1O0/Qh3UQR3U7T9CHdRBHdTtP27btm3btu0/LL7iK77i7T9CHdRBHdTtPw==",
        "encoding": "base64",
        "path": [
         "_data",
         2,
         "marker",
         "color",
         "buffer"
        ]
       },
       {
        "data": "AAAAAAAAeEAAAAAAAAB4QAAAAAAAAHhAAAAAAAAAeEAAAAAAAAB4QAAAAAAAAHhAAAAAAAAAeEAAAAAAAAB4QAAAAAAAAHhA",
        "encoding": "base64",
        "path": [
         "_data",
         2,
         "x",
         "buffer"
        ]
       },
       {
        "data": "AAAAAAAAGEAAAAAAAAAYQAAAAAAAAChAAAAAAAAAKEAAAAAAAAAQQAAAAAAAABhAAAAAAAAAKEAAAAAAAAAgQAAAAAAAABhA",
        "encoding": "base64",
        "path": [
         "_data",
         2,
         "y",
         "buffer"
        ]
       },
       {
        "data": "LL7iK77i7T8svuIrvuLtP27btm3btu0/xVd8xVd87T8WX/EVX/HtP1h8xVd8xe0/27Zt27Zt7T8svuIrvuLtP0Id1EEd1O0/",
        "encoding": "base64",
        "path": [
         "_data",
         2,
         "z",
         "buffer"
        ]
       },
       {
        "data": "btu2bdu27T8svuIrvuLtPxZf8RVf8e0/LL7iK77i7T9YfMVXfMXtP1h8xVd8xe0/Qh3UQR3U7T9YfMVXfMXtPxZf8RVf8e0/6qAO6qAO7j8svuIrvuLtPwAAAAAAAO4/AAAAAAAA7j8svuIrvuLtP1h8xVd8xe0/Qh3UQR3U7T+EOqiDOqjtPyy+4iu+4u0/btu2bdu27T/FV3zFV3ztP7D4iq/4iu0/Qh3UQR3U7T8svuIrvuLtPyy+4iu+4u0/xVd8xVd87T/FV3zFV3ztP27btm3btu0/AAAAAAAA7j8svuIrvuLtPxZf8RVf8e0/LL7iK77i7T8WX/EVX/HtP1h8xVd8xe0/btu2bdu27T9CHdRBHdTtP27btm3btu0/Qh3UQR3U7T9u27Zt27btPyy+4iu+4u0/LL7iK77i7T8WX/EVX/HtP0Id1EEd1O0/btu2bdu27T9u27Zt27btP8VXfMVXfO0/WHzFV3zF7T8svuIrvuLtP0Id1EEd1O0/btu2bdu27T9YfMVXfMXtP0Id1EEd1O0/Fl/xFV/x7T8svuIrvuLtPyy+4iu+4u0/27Zt27Zt7T9YfMVXfMXtPwAAAAAAAO4/Qh3UQR3U7T9u27Zt27btPyy+4iu+4u0/LL7iK77i7T9CHdRBHdTtPyy+4iu+4u0/Qh3UQR3U7T9CHdRBHdTtP27btm3btu0/Qh3UQR3U7T9CHdRBHdTtP1h8xVd8xe0/Fl/xFV/x7T8svuIrvuLtP1h8xVd8xe0/Fl/xFV/x7T/FV3zFV3ztP0Id1EEd1O0/Qh3UQR3U7T9CHdRBHdTtP27btm3btu0/LL7iK77i7T9CHdRBHdTtPw==",
        "encoding": "base64",
        "path": [
         "_data",
         3,
         "marker",
         "color",
         "buffer"
        ]
       },
       {
        "data": "AAAAAABAf0AAAAAAAEB/QAAAAAAAQH9AAAAAAABAf0AAAAAAAEB/QAAAAAAAQH9AAAAAAABAf0AAAAAAAEB/QAAAAAAAQH9AAAAAAABAf0A=",
        "encoding": "base64",
        "path": [
         "_data",
         3,
         "x",
         "buffer"
        ]
       },
       {
        "data": "AAAAAAAAGEAAAAAAAAAQQAAAAAAAABhAAAAAAAAAKEAAAAAAAAAgQAAAAAAAAChAAAAAAAAAIEAAAAAAAAAoQAAAAAAAACBAAAAAAAAAIEA=",
        "encoding": "base64",
        "path": [
         "_data",
         3,
         "y",
         "buffer"
        ]
       },
       {
        "data": "WHzFV3zF7T/qoA7qoA7uPwAAAAAAAO4/xVd8xVd87T9CHdRBHdTtP27btm3btu0/Qh3UQR3U7T9u27Zt27btPxZf8RVf8e0/Qh3UQR3U7T8=",
        "encoding": "base64",
        "path": [
         "_data",
         3,
         "z",
         "buffer"
        ]
       },
       {
        "data": "btu2bdu27T8svuIrvuLtPxZf8RVf8e0/LL7iK77i7T9YfMVXfMXtP1h8xVd8xe0/Qh3UQR3U7T9YfMVXfMXtPxZf8RVf8e0/6qAO6qAO7j8svuIrvuLtPwAAAAAAAO4/AAAAAAAA7j8svuIrvuLtP1h8xVd8xe0/Qh3UQR3U7T+EOqiDOqjtPyy+4iu+4u0/btu2bdu27T/FV3zFV3ztP7D4iq/4iu0/Qh3UQR3U7T8svuIrvuLtPyy+4iu+4u0/xVd8xVd87T/FV3zFV3ztP27btm3btu0/AAAAAAAA7j8svuIrvuLtPxZf8RVf8e0/LL7iK77i7T8WX/EVX/HtP1h8xVd8xe0/btu2bdu27T9CHdRBHdTtP27btm3btu0/Qh3UQR3U7T9u27Zt27btPyy+4iu+4u0/LL7iK77i7T8WX/EVX/HtP0Id1EEd1O0/btu2bdu27T9u27Zt27btP8VXfMVXfO0/WHzFV3zF7T8svuIrvuLtP0Id1EEd1O0/btu2bdu27T9YfMVXfMXtP0Id1EEd1O0/Fl/xFV/x7T8svuIrvuLtPyy+4iu+4u0/27Zt27Zt7T9YfMVXfMXtPwAAAAAAAO4/Qh3UQR3U7T9u27Zt27btPyy+4iu+4u0/LL7iK77i7T9CHdRBHdTtPyy+4iu+4u0/Qh3UQR3U7T9CHdRBHdTtP27btm3btu0/Qh3UQR3U7T9CHdRBHdTtP1h8xVd8xe0/Fl/xFV/x7T8svuIrvuLtP1h8xVd8xe0/Fl/xFV/x7T/FV3zFV3ztP0Id1EEd1O0/Qh3UQR3U7T9CHdRBHdTtP27btm3btu0/LL7iK77i7T9CHdRBHdTtPw==",
        "encoding": "base64",
        "path": [
         "_data",
         4,
         "marker",
         "color",
         "buffer"
        ]
       },
       {
        "data": "AAAAAABIg0AAAAAAAEiDQAAAAAAASINAAAAAAABIg0AAAAAAAEiDQA==",
        "encoding": "base64",
        "path": [
         "_data",
         4,
         "x",
         "buffer"
        ]
       },
       {
        "data": "AAAAAAAAEEAAAAAAAAAYQAAAAAAAACBAAAAAAAAAEEAAAAAAAAAgQA==",
        "encoding": "base64",
        "path": [
         "_data",
         4,
         "y",
         "buffer"
        ]
       },
       {
        "data": "AAAAAAAA7j8svuIrvuLtP1h8xVd8xe0/AAAAAAAA7j9u27Zt27btPw==",
        "encoding": "base64",
        "path": [
         "_data",
         4,
         "z",
         "buffer"
        ]
       },
       {
        "data": "btu2bdu27T8svuIrvuLtPxZf8RVf8e0/LL7iK77i7T9YfMVXfMXtP1h8xVd8xe0/Qh3UQR3U7T9YfMVXfMXtPxZf8RVf8e0/6qAO6qAO7j8svuIrvuLtPwAAAAAAAO4/AAAAAAAA7j8svuIrvuLtP1h8xVd8xe0/Qh3UQR3U7T+EOqiDOqjtPyy+4iu+4u0/btu2bdu27T/FV3zFV3ztP7D4iq/4iu0/Qh3UQR3U7T8svuIrvuLtPyy+4iu+4u0/xVd8xVd87T/FV3zFV3ztP27btm3btu0/AAAAAAAA7j8svuIrvuLtPxZf8RVf8e0/LL7iK77i7T8WX/EVX/HtP1h8xVd8xe0/btu2bdu27T9CHdRBHdTtP27btm3btu0/Qh3UQR3U7T9u27Zt27btPyy+4iu+4u0/LL7iK77i7T8WX/EVX/HtP0Id1EEd1O0/btu2bdu27T9u27Zt27btP8VXfMVXfO0/WHzFV3zF7T8svuIrvuLtP0Id1EEd1O0/btu2bdu27T9YfMVXfMXtP0Id1EEd1O0/Fl/xFV/x7T8svuIrvuLtPyy+4iu+4u0/27Zt27Zt7T9YfMVXfMXtPwAAAAAAAO4/Qh3UQR3U7T9u27Zt27btPyy+4iu+4u0/LL7iK77i7T9CHdRBHdTtPyy+4iu+4u0/Qh3UQR3U7T9CHdRBHdTtP27btm3btu0/Qh3UQR3U7T9CHdRBHdTtP1h8xVd8xe0/Fl/xFV/x7T8svuIrvuLtP1h8xVd8xe0/Fl/xFV/x7T/FV3zFV3ztP0Id1EEd1O0/Qh3UQR3U7T9CHdRBHdTtP27btm3btu0/LL7iK77i7T9CHdRBHdTtPw==",
        "encoding": "base64",
        "path": [
         "_data",
         5,
         "marker",
         "color",
         "buffer"
        ]
       },
       {
        "data": "AAAAAADohkAAAAAAAOiGQAAAAAAA6IZAAAAAAADohkAAAAAAAOiGQAAAAAAA6IZA",
        "encoding": "base64",
        "path": [
         "_data",
         5,
         "x",
         "buffer"
        ]
       },
       {
        "data": "AAAAAAAAIEAAAAAAAAAYQAAAAAAAACBAAAAAAAAAGEAAAAAAAAAYQAAAAAAAACBA",
        "encoding": "base64",
        "path": [
         "_data",
         5,
         "y",
         "buffer"
        ]
       },
       {
        "data": "WHzFV3zF7T8svuIrvuLtP0Id1EEd1O0/LL7iK77i7T8WX/EVX/HtP0Id1EEd1O0/",
        "encoding": "base64",
        "path": [
         "_data",
         5,
         "z",
         "buffer"
        ]
       },
       {
        "data": "btu2bdu27T8svuIrvuLtPxZf8RVf8e0/LL7iK77i7T9YfMVXfMXtP1h8xVd8xe0/Qh3UQR3U7T9YfMVXfMXtPxZf8RVf8e0/6qAO6qAO7j8svuIrvuLtPwAAAAAAAO4/AAAAAAAA7j8svuIrvuLtP1h8xVd8xe0/Qh3UQR3U7T+EOqiDOqjtPyy+4iu+4u0/btu2bdu27T/FV3zFV3ztP7D4iq/4iu0/Qh3UQR3U7T8svuIrvuLtPyy+4iu+4u0/xVd8xVd87T/FV3zFV3ztP27btm3btu0/AAAAAAAA7j8svuIrvuLtPxZf8RVf8e0/LL7iK77i7T8WX/EVX/HtP1h8xVd8xe0/btu2bdu27T9CHdRBHdTtP27btm3btu0/Qh3UQR3U7T9u27Zt27btPyy+4iu+4u0/LL7iK77i7T8WX/EVX/HtP0Id1EEd1O0/btu2bdu27T9u27Zt27btP8VXfMVXfO0/WHzFV3zF7T8svuIrvuLtP0Id1EEd1O0/btu2bdu27T9YfMVXfMXtP0Id1EEd1O0/Fl/xFV/x7T8svuIrvuLtPyy+4iu+4u0/27Zt27Zt7T9YfMVXfMXtPwAAAAAAAO4/Qh3UQR3U7T9u27Zt27btPyy+4iu+4u0/LL7iK77i7T9CHdRBHdTtPyy+4iu+4u0/Qh3UQR3U7T9CHdRBHdTtP27btm3btu0/Qh3UQR3U7T9CHdRBHdTtP1h8xVd8xe0/Fl/xFV/x7T8svuIrvuLtP1h8xVd8xe0/Fl/xFV/x7T/FV3zFV3ztP0Id1EEd1O0/Qh3UQR3U7T9CHdRBHdTtP27btm3btu0/LL7iK77i7T9CHdRBHdTtPw==",
        "encoding": "base64",
        "path": [
         "_data",
         6,
         "marker",
         "color",
         "buffer"
        ]
       },
       {
        "data": "AAAAAACQikAAAAAAAJCKQAAAAAAAkIpAAAAAAACQikAAAAAAAJCKQAAAAAAAkIpAAAAAAACQikAAAAAAAJCKQAAAAAAAkIpA",
        "encoding": "base64",
        "path": [
         "_data",
         6,
         "x",
         "buffer"
        ]
       },
       {
        "data": "AAAAAAAAEEAAAAAAAAAoQAAAAAAAAChAAAAAAAAAKEAAAAAAAAAgQAAAAAAAACBAAAAAAAAAGEAAAAAAAAAoQAAAAAAAAChA",
        "encoding": "base64",
        "path": [
         "_data",
         6,
         "y",
         "buffer"
        ]
       },
       {
        "data": "LL7iK77i7T/FV3zFV3ztP8VXfMVXfO0/WHzFV3zF7T8svuIrvuLtPyy+4iu+4u0/Qh3UQR3U7T9u27Zt27btP0Id1EEd1O0/",
        "encoding": "base64",
        "path": [
         "_data",
         6,
         "z",
         "buffer"
        ]
       },
       {
        "data": "btu2bdu27T8svuIrvuLtPxZf8RVf8e0/LL7iK77i7T9YfMVXfMXtP1h8xVd8xe0/Qh3UQR3U7T9YfMVXfMXtPxZf8RVf8e0/6qAO6qAO7j8svuIrvuLtPwAAAAAAAO4/AAAAAAAA7j8svuIrvuLtP1h8xVd8xe0/Qh3UQR3U7T+EOqiDOqjtPyy+4iu+4u0/btu2bdu27T/FV3zFV3ztP7D4iq/4iu0/Qh3UQR3U7T8svuIrvuLtPyy+4iu+4u0/xVd8xVd87T/FV3zFV3ztP27btm3btu0/AAAAAAAA7j8svuIrvuLtPxZf8RVf8e0/LL7iK77i7T8WX/EVX/HtP1h8xVd8xe0/btu2bdu27T9CHdRBHdTtP27btm3btu0/Qh3UQR3U7T9u27Zt27btPyy+4iu+4u0/LL7iK77i7T8WX/EVX/HtP0Id1EEd1O0/btu2bdu27T9u27Zt27btP8VXfMVXfO0/WHzFV3zF7T8svuIrvuLtP0Id1EEd1O0/btu2bdu27T9YfMVXfMXtP0Id1EEd1O0/Fl/xFV/x7T8svuIrvuLtPyy+4iu+4u0/27Zt27Zt7T9YfMVXfMXtPwAAAAAAAO4/Qh3UQR3U7T9u27Zt27btPyy+4iu+4u0/LL7iK77i7T9CHdRBHdTtPyy+4iu+4u0/Qh3UQR3U7T9CHdRBHdTtP27btm3btu0/Qh3UQR3U7T9CHdRBHdTtP1h8xVd8xe0/Fl/xFV/x7T8svuIrvuLtP1h8xVd8xe0/Fl/xFV/x7T/FV3zFV3ztP0Id1EEd1O0/Qh3UQR3U7T9CHdRBHdTtP27btm3btu0/LL7iK77i7T9CHdRBHdTtPw==",
        "encoding": "base64",
        "path": [
         "_data",
         7,
         "marker",
         "color",
         "buffer"
        ]
       },
       {
        "data": "AAAAAAAwjkAAAAAAADCOQAAAAAAAMI5AAAAAAAAwjkAAAAAAADCOQAAAAAAAMI5AAAAAAAAwjkA=",
        "encoding": "base64",
        "path": [
         "_data",
         7,
         "x",
         "buffer"
        ]
       },
       {
        "data": "AAAAAAAAIEAAAAAAAAAoQAAAAAAAABBAAAAAAAAAKEAAAAAAAAAoQAAAAAAAAChAAAAAAAAAGEA=",
        "encoding": "base64",
        "path": [
         "_data",
         7,
         "y",
         "buffer"
        ]
       },
       {
        "data": "LL7iK77i7T9u27Zt27btPxZf8RVf8e0/btu2bdu27T9CHdRBHdTtP8VXfMVXfO0/LL7iK77i7T8=",
        "encoding": "base64",
        "path": [
         "_data",
         7,
         "z",
         "buffer"
        ]
       },
       {
        "data": "btu2bdu27T8svuIrvuLtPxZf8RVf8e0/LL7iK77i7T9YfMVXfMXtP1h8xVd8xe0/Qh3UQR3U7T9YfMVXfMXtPxZf8RVf8e0/6qAO6qAO7j8svuIrvuLtPwAAAAAAAO4/AAAAAAAA7j8svuIrvuLtP1h8xVd8xe0/Qh3UQR3U7T+EOqiDOqjtPyy+4iu+4u0/btu2bdu27T/FV3zFV3ztP7D4iq/4iu0/Qh3UQR3U7T8svuIrvuLtPyy+4iu+4u0/xVd8xVd87T/FV3zFV3ztP27btm3btu0/AAAAAAAA7j8svuIrvuLtPxZf8RVf8e0/LL7iK77i7T8WX/EVX/HtP1h8xVd8xe0/btu2bdu27T9CHdRBHdTtP27btm3btu0/Qh3UQR3U7T9u27Zt27btPyy+4iu+4u0/LL7iK77i7T8WX/EVX/HtP0Id1EEd1O0/btu2bdu27T9u27Zt27btP8VXfMVXfO0/WHzFV3zF7T8svuIrvuLtP0Id1EEd1O0/btu2bdu27T9YfMVXfMXtP0Id1EEd1O0/Fl/xFV/x7T8svuIrvuLtPyy+4iu+4u0/27Zt27Zt7T9YfMVXfMXtPwAAAAAAAO4/Qh3UQR3U7T9u27Zt27btPyy+4iu+4u0/LL7iK77i7T9CHdRBHdTtPyy+4iu+4u0/Qh3UQR3U7T9CHdRBHdTtP27btm3btu0/Qh3UQR3U7T9CHdRBHdTtP1h8xVd8xe0/Fl/xFV/x7T8svuIrvuLtP1h8xVd8xe0/Fl/xFV/x7T/FV3zFV3ztP0Id1EEd1O0/Qh3UQR3U7T9CHdRBHdTtP27btm3btu0/LL7iK77i7T9CHdRBHdTtPw==",
        "encoding": "base64",
        "path": [
         "_data",
         8,
         "marker",
         "color",
         "buffer"
        ]
       },
       {
        "data": "AAAAAADskEAAAAAAAOyQQAAAAAAA7JBAAAAAAADskEAAAAAAAOyQQAAAAAAA7JBA",
        "encoding": "base64",
        "path": [
         "_data",
         8,
         "x",
         "buffer"
        ]
       },
       {
        "data": "AAAAAAAAIEAAAAAAAAAoQAAAAAAAABhAAAAAAAAAKEAAAAAAAAAoQAAAAAAAACBA",
        "encoding": "base64",
        "path": [
         "_data",
         8,
         "y",
         "buffer"
        ]
       },
       {
        "data": "LL7iK77i7T9u27Zt27btPyy+4iu+4u0/Qh3UQR3U7T9u27Zt27btP1h8xVd8xe0/",
        "encoding": "base64",
        "path": [
         "_data",
         8,
         "z",
         "buffer"
        ]
       },
       {
        "data": "btu2bdu27T8svuIrvuLtPxZf8RVf8e0/LL7iK77i7T9YfMVXfMXtP1h8xVd8xe0/Qh3UQR3U7T9YfMVXfMXtPxZf8RVf8e0/6qAO6qAO7j8svuIrvuLtPwAAAAAAAO4/AAAAAAAA7j8svuIrvuLtP1h8xVd8xe0/Qh3UQR3U7T+EOqiDOqjtPyy+4iu+4u0/btu2bdu27T/FV3zFV3ztP7D4iq/4iu0/Qh3UQR3U7T8svuIrvuLtPyy+4iu+4u0/xVd8xVd87T/FV3zFV3ztP27btm3btu0/AAAAAAAA7j8svuIrvuLtPxZf8RVf8e0/LL7iK77i7T8WX/EVX/HtP1h8xVd8xe0/btu2bdu27T9CHdRBHdTtP27btm3btu0/Qh3UQR3U7T9u27Zt27btPyy+4iu+4u0/LL7iK77i7T8WX/EVX/HtP0Id1EEd1O0/btu2bdu27T9u27Zt27btP8VXfMVXfO0/WHzFV3zF7T8svuIrvuLtP0Id1EEd1O0/btu2bdu27T9YfMVXfMXtP0Id1EEd1O0/Fl/xFV/x7T8svuIrvuLtPyy+4iu+4u0/27Zt27Zt7T9YfMVXfMXtPwAAAAAAAO4/Qh3UQR3U7T9u27Zt27btPyy+4iu+4u0/LL7iK77i7T9CHdRBHdTtPyy+4iu+4u0/Qh3UQR3U7T9CHdRBHdTtP27btm3btu0/Qh3UQR3U7T9CHdRBHdTtP1h8xVd8xe0/Fl/xFV/x7T8svuIrvuLtP1h8xVd8xe0/Fl/xFV/x7T/FV3zFV3ztP0Id1EEd1O0/Qh3UQR3U7T9CHdRBHdTtP27btm3btu0/LL7iK77i7T9CHdRBHdTtPw==",
        "encoding": "base64",
        "path": [
         "_data",
         9,
         "marker",
         "color",
         "buffer"
        ]
       },
       {
        "data": "AAAAAADAkkAAAAAAAMCSQAAAAAAAwJJAAAAAAADAkkAAAAAAAMCSQAAAAAAAwJJAAAAAAADAkkAAAAAAAMCSQAAAAAAAwJJAAAAAAADAkkA=",
        "encoding": "base64",
        "path": [
         "_data",
         9,
         "x",
         "buffer"
        ]
       },
       {
        "data": "AAAAAAAAIEAAAAAAAAAYQAAAAAAAABhAAAAAAAAAEEAAAAAAAAAQQAAAAAAAACBAAAAAAAAAEEAAAAAAAAAYQAAAAAAAABBAAAAAAAAAGEA=",
        "encoding": "base64",
        "path": [
         "_data",
         9,
         "y",
         "buffer"
        ]
       },
       {
        "data": "WHzFV3zF7T8WX/EVX/HtPyy+4iu+4u0/AAAAAAAA7j8WX/EVX/HtP0Id1EEd1O0/WHzFV3zF7T8svuIrvuLtPyy+4iu+4u0/WHzFV3zF7T8=",
        "encoding": "base64",
        "path": [
         "_data",
         9,
         "z",
         "buffer"
        ]
       }
      ],
      "model_module": "plotlywidget",
      "model_module_version": "^1.1.0",
      "model_name": "FigureModel",
      "state": {
       "_config": {
        "plotlyServerURL": "https://plot.ly"
       },
       "_data": [
        {
         "hoverinfo": "text",
         "marker": {
          "color": {
           "buffer": {},
           "dtype": "float64",
           "shape": [
            80
           ]
          },
          "colorscale": [
           [
            0,
            "rgb(0,0,131)"
           ],
           [
            0.2,
            "rgb(0,60,170)"
           ],
           [
            0.4,
            "rgb(5,255,255)"
           ],
           [
            0.6,
            "rgb(255,255,0)"
           ],
           [
            0.8,
            "rgb(250,0,0)"
           ],
           [
            1,
            "rgb(128,0,0)"
           ]
          ],
          "size": 7
         },
         "mode": "markers",
         "showlegend": false,
         "text": [
          "max_features: auto<br>n_estimators: 151.0<br>min_samples_split: 10.0<br>Test score: 0.932<br>Training time: 0.441 s",
          "max_features: sqrt<br>n_estimators: 151.0<br>min_samples_split: 10.0<br>Test score: 0.927<br>Training time: 0.411 s",
          "max_features: auto<br>n_estimators: 151.0<br>min_samples_split: 10.0<br>Test score: 0.923<br>Training time: 0.396 s",
          "max_features: auto<br>n_estimators: 151.0<br>min_samples_split: 7.0<br>Test score: 0.932<br>Training time: 0.41 s",
          "max_features: auto<br>n_estimators: 151.0<br>min_samples_split: 10.0<br>Test score: 0.932<br>Training time: 0.438 s",
          "max_features: log2<br>n_estimators: 151.0<br>min_samples_split: 10.0<br>Test score: 0.932<br>Training time: 0.442 s"
         ],
         "type": "scatter3d",
         "uid": "67866b5c-c717-4d84-9353-f245a7237a6c",
         "x": {
          "buffer": {},
          "dtype": "float64",
          "shape": [
           6
          ]
         },
         "y": {
          "buffer": {},
          "dtype": "float64",
          "shape": [
           6
          ]
         },
         "z": {
          "buffer": {},
          "dtype": "float64",
          "shape": [
           6
          ]
         }
        },
        {
         "hoverinfo": "text",
         "marker": {
          "color": {
           "buffer": {},
           "dtype": "float64",
           "shape": [
            80
           ]
          },
          "colorscale": [
           [
            0,
            "rgb(0,0,131)"
           ],
           [
            0.2,
            "rgb(0,60,170)"
           ],
           [
            0.4,
            "rgb(5,255,255)"
           ],
           [
            0.6,
            "rgb(255,255,0)"
           ],
           [
            0.8,
            "rgb(250,0,0)"
           ],
           [
            1,
            "rgb(128,0,0)"
           ]
          ],
          "size": 7
         },
         "mode": "markers",
         "showlegend": false,
         "text": [
          "max_features: log2<br>n_estimators: 267.0<br>min_samples_split: 14.0<br>Test score: 0.929<br>Training time: 0.708 s",
          "max_features: auto<br>n_estimators: 267.0<br>min_samples_split: 5.0<br>Test score: 0.936<br>Training time: 0.791 s",
          "max_features: log2<br>n_estimators: 267.0<br>min_samples_split: 10.0<br>Test score: 0.932<br>Training time: 0.788 s",
          "max_features: None<br>n_estimators: 267.0<br>min_samples_split: 10.0<br>Test score: 0.93<br>Training time: 0.773 s",
          "max_features: auto<br>n_estimators: 267.0<br>min_samples_split: 14.0<br>Test score: 0.934<br>Training time: 0.712 s",
          "max_features: log2<br>n_estimators: 267.0<br>min_samples_split: 7.0<br>Test score: 0.934<br>Training time: 0.799 s",
          "max_features: None<br>n_estimators: 267.0<br>min_samples_split: 7.0<br>Test score: 0.934<br>Training time: 0.796 s",
          "max_features: sqrt<br>n_estimators: 267.0<br>min_samples_split: 5.0<br>Test score: 0.929<br>Training time: 0.714 s",
          "max_features: None<br>n_estimators: 267.0<br>min_samples_split: 7.0<br>Test score: 0.929<br>Training time: 0.857 s",
          "max_features: sqrt<br>n_estimators: 267.0<br>min_samples_split: 5.0<br>Test score: 0.932<br>Training time: 0.794 s",
          "max_features: auto<br>n_estimators: 267.0<br>min_samples_split: 14.0<br>Test score: 0.932<br>Training time: 0.795 s",
          "max_features: log2<br>n_estimators: 267.0<br>min_samples_split: 7.0<br>Test score: 0.936<br>Training time: 0.806 s"
         ],
         "type": "scatter3d",
         "uid": "39d792b4-95f7-475d-92d4-a69fdbf8dad9",
         "x": {
          "buffer": {},
          "dtype": "float64",
          "shape": [
           12
          ]
         },
         "y": {
          "buffer": {},
          "dtype": "float64",
          "shape": [
           12
          ]
         },
         "z": {
          "buffer": {},
          "dtype": "float64",
          "shape": [
           12
          ]
         }
        },
        {
         "hoverinfo": "text",
         "marker": {
          "color": {
           "buffer": {},
           "dtype": "float64",
           "shape": [
            80
           ]
          },
          "colorscale": [
           [
            0,
            "rgb(0,0,131)"
           ],
           [
            0.2,
            "rgb(0,60,170)"
           ],
           [
            0.4,
            "rgb(5,255,255)"
           ],
           [
            0.6,
            "rgb(255,255,0)"
           ],
           [
            0.8,
            "rgb(250,0,0)"
           ],
           [
            1,
            "rgb(128,0,0)"
           ]
          ],
          "size": 7
         },
         "mode": "markers",
         "showlegend": false,
         "text": [
          "max_features: None<br>n_estimators: 384.0<br>min_samples_split: 14.0<br>Test score: 0.934<br>Training time: 1.285 s",
          "max_features: None<br>n_estimators: 384.0<br>min_samples_split: 14.0<br>Test score: 0.934<br>Training time: 1.301 s",
          "max_features: None<br>n_estimators: 384.0<br>min_samples_split: 10.0<br>Test score: 0.929<br>Training time: 1.251 s",
          "max_features: auto<br>n_estimators: 384.0<br>min_samples_split: 5.0<br>Test score: 0.921<br>Training time: 1.018 s",
          "max_features: sqrt<br>n_estimators: 384.0<br>min_samples_split: 7.0<br>Test score: 0.936<br>Training time: 1.038 s",
          "max_features: auto<br>n_estimators: 384.0<br>min_samples_split: 10.0<br>Test score: 0.93<br>Training time: 1.045 s",
          "max_features: sqrt<br>n_estimators: 384.0<br>min_samples_split: 14.0<br>Test score: 0.92<br>Training time: 1.002 s",
          "max_features: log2<br>n_estimators: 384.0<br>min_samples_split: 5.0<br>Test score: 0.934<br>Training time: 1.111 s",
          "max_features: log2<br>n_estimators: 384.0<br>min_samples_split: 7.0<br>Test score: 0.932<br>Training time: 1.031 s"
         ],
         "type": "scatter3d",
         "uid": "6323f999-3a6c-4c6c-be18-d79681f8f383",
         "x": {
          "buffer": {},
          "dtype": "float64",
          "shape": [
           9
          ]
         },
         "y": {
          "buffer": {},
          "dtype": "float64",
          "shape": [
           9
          ]
         },
         "z": {
          "buffer": {},
          "dtype": "float64",
          "shape": [
           9
          ]
         }
        },
        {
         "hoverinfo": "text",
         "marker": {
          "color": {
           "buffer": {},
           "dtype": "float64",
           "shape": [
            80
           ]
          },
          "colorscale": [
           [
            0,
            "rgb(0,0,131)"
           ],
           [
            0.2,
            "rgb(0,60,170)"
           ],
           [
            0.4,
            "rgb(5,255,255)"
           ],
           [
            0.6,
            "rgb(255,255,0)"
           ],
           [
            0.8,
            "rgb(250,0,0)"
           ],
           [
            1,
            "rgb(128,0,0)"
           ]
          ],
          "size": 7
         },
         "mode": "markers",
         "showlegend": false,
         "text": [
          "max_features: sqrt<br>n_estimators: 500.0<br>min_samples_split: 5.0<br>Test score: 0.93<br>Training time: 1.327 s",
          "max_features: log2<br>n_estimators: 500.0<br>min_samples_split: 7.0<br>Test score: 0.939<br>Training time: 1.502 s",
          "max_features: auto<br>n_estimators: 500.0<br>min_samples_split: 10.0<br>Test score: 0.938<br>Training time: 1.483 s",
          "max_features: auto<br>n_estimators: 500.0<br>min_samples_split: 7.0<br>Test score: 0.921<br>Training time: 1.372 s",
          "max_features: auto<br>n_estimators: 500.0<br>min_samples_split: 7.0<br>Test score: 0.932<br>Training time: 1.499 s",
          "max_features: None<br>n_estimators: 500.0<br>min_samples_split: 14.0<br>Test score: 0.929<br>Training time: 1.602 s",
          "max_features: log2<br>n_estimators: 500.0<br>min_samples_split: 5.0<br>Test score: 0.932<br>Training time: 1.473 s",
          "max_features: None<br>n_estimators: 500.0<br>min_samples_split: 10.0<br>Test score: 0.929<br>Training time: 1.625 s",
          "max_features: sqrt<br>n_estimators: 500.0<br>min_samples_split: 10.0<br>Test score: 0.936<br>Training time: 1.532 s",
          "max_features: sqrt<br>n_estimators: 500.0<br>min_samples_split: 14.0<br>Test score: 0.932<br>Training time: 1.328 s"
         ],
         "type": "scatter3d",
         "uid": "faad13b1-aa1e-482a-923f-c78d820f7c18",
         "x": {
          "buffer": {},
          "dtype": "float64",
          "shape": [
           10
          ]
         },
         "y": {
          "buffer": {},
          "dtype": "float64",
          "shape": [
           10
          ]
         },
         "z": {
          "buffer": {},
          "dtype": "float64",
          "shape": [
           10
          ]
         }
        },
        {
         "hoverinfo": "text",
         "marker": {
          "color": {
           "buffer": {},
           "dtype": "float64",
           "shape": [
            80
           ]
          },
          "colorscale": [
           [
            0,
            "rgb(0,0,131)"
           ],
           [
            0.2,
            "rgb(0,60,170)"
           ],
           [
            0.4,
            "rgb(5,255,255)"
           ],
           [
            0.6,
            "rgb(255,255,0)"
           ],
           [
            0.8,
            "rgb(250,0,0)"
           ],
           [
            1,
            "rgb(128,0,0)"
           ]
          ],
          "size": 7
         },
         "mode": "markers",
         "showlegend": false,
         "text": [
          "max_features: auto<br>n_estimators: 617.0<br>min_samples_split: 5.0<br>Test score: 0.938<br>Training time: 1.862 s",
          "max_features: auto<br>n_estimators: 617.0<br>min_samples_split: 10.0<br>Test score: 0.934<br>Training time: 1.82 s",
          "max_features: None<br>n_estimators: 617.0<br>min_samples_split: 10.0<br>Test score: 0.93<br>Training time: 1.792 s",
          "max_features: None<br>n_estimators: 617.0<br>min_samples_split: 7.0<br>Test score: 0.938<br>Training time: 2.146 s",
          "max_features: None<br>n_estimators: 617.0<br>min_samples_split: 5.0<br>Test score: 0.929<br>Training time: 1.781 s"
         ],
         "type": "scatter3d",
         "uid": "e51d7cbb-2008-422b-a649-ad3d96069b3e",
         "x": {
          "buffer": {},
          "dtype": "float64",
          "shape": [
           5
          ]
         },
         "y": {
          "buffer": {},
          "dtype": "float64",
          "shape": [
           5
          ]
         },
         "z": {
          "buffer": {},
          "dtype": "float64",
          "shape": [
           5
          ]
         }
        },
        {
         "hoverinfo": "text",
         "marker": {
          "color": {
           "buffer": {},
           "dtype": "float64",
           "shape": [
            80
           ]
          },
          "colorscale": [
           [
            0,
            "rgb(0,0,131)"
           ],
           [
            0.2,
            "rgb(0,60,170)"
           ],
           [
            0.4,
            "rgb(5,255,255)"
           ],
           [
            0.6,
            "rgb(255,255,0)"
           ],
           [
            0.8,
            "rgb(250,0,0)"
           ],
           [
            1,
            "rgb(128,0,0)"
           ]
          ],
          "size": 7
         },
         "mode": "markers",
         "showlegend": false,
         "text": [
          "max_features: None<br>n_estimators: 733.0<br>min_samples_split: 7.0<br>Test score: 0.93<br>Training time: 2.464 s",
          "max_features: sqrt<br>n_estimators: 733.0<br>min_samples_split: 7.0<br>Test score: 0.934<br>Training time: 1.977 s",
          "max_features: None<br>n_estimators: 733.0<br>min_samples_split: 14.0<br>Test score: 0.932<br>Training time: 2.468 s",
          "max_features: log2<br>n_estimators: 733.0<br>min_samples_split: 7.0<br>Test score: 0.934<br>Training time: 2.134 s",
          "max_features: sqrt<br>n_estimators: 733.0<br>min_samples_split: 10.0<br>Test score: 0.936<br>Training time: 2.188 s",
          "max_features: None<br>n_estimators: 733.0<br>min_samples_split: 7.0<br>Test score: 0.932<br>Training time: 2.43 s"
         ],
         "type": "scatter3d",
         "uid": "12acb57b-4d85-4c7c-aba1-276f568c577e",
         "x": {
          "buffer": {},
          "dtype": "float64",
          "shape": [
           6
          ]
         },
         "y": {
          "buffer": {},
          "dtype": "float64",
          "shape": [
           6
          ]
         },
         "z": {
          "buffer": {},
          "dtype": "float64",
          "shape": [
           6
          ]
         }
        },
        {
         "hoverinfo": "text",
         "marker": {
          "color": {
           "buffer": {},
           "dtype": "float64",
           "shape": [
            80
           ]
          },
          "colorscale": [
           [
            0,
            "rgb(0,0,131)"
           ],
           [
            0.2,
            "rgb(0,60,170)"
           ],
           [
            0.4,
            "rgb(5,255,255)"
           ],
           [
            0.6,
            "rgb(255,255,0)"
           ],
           [
            0.8,
            "rgb(250,0,0)"
           ],
           [
            1,
            "rgb(128,0,0)"
           ]
          ],
          "size": 7
         },
         "mode": "markers",
         "showlegend": false,
         "text": [
          "max_features: log2<br>n_estimators: 850.0<br>min_samples_split: 5.0<br>Test score: 0.934<br>Training time: 2.288 s",
          "max_features: auto<br>n_estimators: 850.0<br>min_samples_split: 7.0<br>Test score: 0.921<br>Training time: 2.217 s",
          "max_features: auto<br>n_estimators: 850.0<br>min_samples_split: 7.0<br>Test score: 0.921<br>Training time: 2.244 s",
          "max_features: auto<br>n_estimators: 850.0<br>min_samples_split: 14.0<br>Test score: 0.93<br>Training time: 2.436 s",
          "max_features: sqrt<br>n_estimators: 850.0<br>min_samples_split: 10.0<br>Test score: 0.934<br>Training time: 2.567 s",
          "max_features: log2<br>n_estimators: 850.0<br>min_samples_split: 14.0<br>Test score: 0.934<br>Training time: 2.491 s",
          "max_features: None<br>n_estimators: 850.0<br>min_samples_split: 7.0<br>Test score: 0.932<br>Training time: 2.441 s",
          "max_features: None<br>n_estimators: 850.0<br>min_samples_split: 10.0<br>Test score: 0.929<br>Training time: 2.733 s",
          "max_features: sqrt<br>n_estimators: 850.0<br>min_samples_split: 5.0<br>Test score: 0.932<br>Training time: 2.426 s"
         ],
         "type": "scatter3d",
         "uid": "a733b97e-b5fd-45a5-b57f-81bd6e6182a1",
         "x": {
          "buffer": {},
          "dtype": "float64",
          "shape": [
           9
          ]
         },
         "y": {
          "buffer": {},
          "dtype": "float64",
          "shape": [
           9
          ]
         },
         "z": {
          "buffer": {},
          "dtype": "float64",
          "shape": [
           9
          ]
         }
        },
        {
         "hoverinfo": "text",
         "marker": {
          "color": {
           "buffer": {},
           "dtype": "float64",
           "shape": [
            80
           ]
          },
          "colorscale": [
           [
            0,
            "rgb(0,0,131)"
           ],
           [
            0.2,
            "rgb(0,60,170)"
           ],
           [
            0.4,
            "rgb(5,255,255)"
           ],
           [
            0.6,
            "rgb(255,255,0)"
           ],
           [
            0.8,
            "rgb(250,0,0)"
           ],
           [
            1,
            "rgb(128,0,0)"
           ]
          ],
          "size": 7
         },
         "mode": "markers",
         "showlegend": false,
         "text": [
          "max_features: sqrt<br>n_estimators: 966.0<br>min_samples_split: 10.0<br>Test score: 0.934<br>Training time: 2.804 s",
          "max_features: None<br>n_estimators: 966.0<br>min_samples_split: 10.0<br>Test score: 0.929<br>Training time: 3.108 s",
          "max_features: sqrt<br>n_estimators: 966.0<br>min_samples_split: 10.0<br>Test score: 0.936<br>Training time: 2.878 s",
          "max_features: None<br>n_estimators: 966.0<br>min_samples_split: 5.0<br>Test score: 0.929<br>Training time: 3.147 s",
          "max_features: log2<br>n_estimators: 966.0<br>min_samples_split: 5.0<br>Test score: 0.932<br>Training time: 2.854 s",
          "max_features: log2<br>n_estimators: 966.0<br>min_samples_split: 14.0<br>Test score: 0.921<br>Training time: 2.544 s",
          "max_features: None<br>n_estimators: 966.0<br>min_samples_split: 10.0<br>Test score: 0.934<br>Training time: 2.773 s"
         ],
         "type": "scatter3d",
         "uid": "2161a4cc-ecc0-4886-ac26-fe16229b16fe",
         "x": {
          "buffer": {},
          "dtype": "float64",
          "shape": [
           7
          ]
         },
         "y": {
          "buffer": {},
          "dtype": "float64",
          "shape": [
           7
          ]
         },
         "z": {
          "buffer": {},
          "dtype": "float64",
          "shape": [
           7
          ]
         }
        },
        {
         "hoverinfo": "text",
         "marker": {
          "color": {
           "buffer": {},
           "dtype": "float64",
           "shape": [
            80
           ]
          },
          "colorscale": [
           [
            0,
            "rgb(0,0,131)"
           ],
           [
            0.2,
            "rgb(0,60,170)"
           ],
           [
            0.4,
            "rgb(5,255,255)"
           ],
           [
            0.6,
            "rgb(255,255,0)"
           ],
           [
            0.8,
            "rgb(250,0,0)"
           ],
           [
            1,
            "rgb(128,0,0)"
           ]
          ],
          "size": 7
         },
         "mode": "markers",
         "showlegend": false,
         "text": [
          "max_features: log2<br>n_estimators: 1083.0<br>min_samples_split: 7.0<br>Test score: 0.934<br>Training time: 3.185 s",
          "max_features: None<br>n_estimators: 1083.0<br>min_samples_split: 14.0<br>Test score: 0.929<br>Training time: 3.505 s",
          "max_features: None<br>n_estimators: 1083.0<br>min_samples_split: 10.0<br>Test score: 0.934<br>Training time: 3.782 s",
          "max_features: auto<br>n_estimators: 1083.0<br>min_samples_split: 5.0<br>Test score: 0.932<br>Training time: 3.09 s",
          "max_features: None<br>n_estimators: 1083.0<br>min_samples_split: 7.0<br>Test score: 0.929<br>Training time: 3.456 s",
          "max_features: sqrt<br>n_estimators: 1083.0<br>min_samples_split: 5.0<br>Test score: 0.93<br>Training time: 2.886 s"
         ],
         "type": "scatter3d",
         "uid": "9cb6245b-d8ed-4cfb-946b-4e9c108e8f09",
         "x": {
          "buffer": {},
          "dtype": "float64",
          "shape": [
           6
          ]
         },
         "y": {
          "buffer": {},
          "dtype": "float64",
          "shape": [
           6
          ]
         },
         "z": {
          "buffer": {},
          "dtype": "float64",
          "shape": [
           6
          ]
         }
        },
        {
         "hoverinfo": "text",
         "marker": {
          "color": {
           "buffer": {},
           "dtype": "float64",
           "shape": [
            80
           ]
          },
          "colorscale": [
           [
            0,
            "rgb(0,0,131)"
           ],
           [
            0.2,
            "rgb(0,60,170)"
           ],
           [
            0.4,
            "rgb(5,255,255)"
           ],
           [
            0.6,
            "rgb(255,255,0)"
           ],
           [
            0.8,
            "rgb(250,0,0)"
           ],
           [
            1,
            "rgb(128,0,0)"
           ]
          ],
          "size": 7
         },
         "mode": "markers",
         "showlegend": false,
         "text": [
          "max_features: None<br>n_estimators: 1200.0<br>min_samples_split: 14.0<br>Test score: 0.93<br>Training time: 4.027 s",
          "max_features: sqrt<br>n_estimators: 1200.0<br>min_samples_split: 14.0<br>Test score: 0.936<br>Training time: 3.539 s",
          "max_features: auto<br>n_estimators: 1200.0<br>min_samples_split: 5.0<br>Test score: 0.934<br>Training time: 3.666 s",
          "max_features: auto<br>n_estimators: 1200.0<br>min_samples_split: 10.0<br>Test score: 0.938<br>Training time: 3.568 s",
          "max_features: None<br>n_estimators: 1200.0<br>min_samples_split: 5.0<br>Test score: 0.936<br>Training time: 4.213 s",
          "max_features: auto<br>n_estimators: 1200.0<br>min_samples_split: 14.0<br>Test score: 0.932<br>Training time: 3.173 s",
          "max_features: log2<br>n_estimators: 1200.0<br>min_samples_split: 14.0<br>Test score: 0.93<br>Training time: 3.235 s",
          "max_features: log2<br>n_estimators: 1200.0<br>min_samples_split: 14.0<br>Test score: 0.934<br>Training time: 3.534 s",
          "max_features: None<br>n_estimators: 1200.0<br>min_samples_split: 7.0<br>Test score: 0.934<br>Training time: 3.546 s",
          "max_features: auto<br>n_estimators: 1200.0<br>min_samples_split: 14.0<br>Test score: 0.93<br>Training time: 3.24 s"
         ],
         "type": "scatter3d",
         "uid": "7401cf02-8b25-4ecf-9215-da2d04fa6633",
         "x": {
          "buffer": {},
          "dtype": "float64",
          "shape": [
           10
          ]
         },
         "y": {
          "buffer": {},
          "dtype": "float64",
          "shape": [
           10
          ]
         },
         "z": {
          "buffer": {},
          "dtype": "float64",
          "shape": [
           10
          ]
         }
        }
       ],
       "_dom_classes": [],
       "_js2py_layoutDelta": {},
       "_js2py_pointsCallback": {},
       "_js2py_relayout": {},
       "_js2py_restyle": {},
       "_js2py_traceDeltas": {},
       "_js2py_update": {},
       "_last_layout_edit_id": 0,
       "_last_trace_edit_id": 0,
       "_layout": {
        "height": 600,
        "scene": {
         "camera": {
          "center": {
           "x": 0,
           "y": 0,
           "z": 0
          },
          "eye": {
           "x": 2,
           "y": 2,
           "z": 1.25
          },
          "up": {
           "x": 0,
           "y": 0,
           "z": 1
          }
         },
         "xaxis": {
          "title": {
           "text": "n_estimators"
          }
         },
         "yaxis": {
          "title": {
           "text": "min_leaf"
          },
          "type": "log"
         },
         "zaxis": {
          "title": {
           "text": "accuracy"
          },
          "type": "log"
         }
        },
        "sliders": [
         {
          "active": 4,
          "currentvalue": {
           "prefix": "n_estimators: "
          },
          "len": 0.5,
          "pad": {
           "b": 20,
           "t": 10
          },
          "steps": [
           {
            "args": [
             "visible",
             [
              true,
              false,
              false,
              false,
              false,
              false,
              false,
              false,
              false,
              false,
              false,
              false,
              false,
              false,
              false,
              false,
              false,
              false,
              false,
              false
             ]
            ],
            "label": "151.0",
            "method": "restyle"
           },
           {
            "args": [
             "visible",
             [
              false,
              true,
              false,
              false,
              false,
              false,
              false,
              false,
              false,
              false,
              false,
              false,
              false,
              false,
              false,
              false,
              false,
              false,
              false,
              false
             ]
            ],
            "label": "267.0",
            "method": "restyle"
           },
           {
            "args": [
             "visible",
             [
              false,
              false,
              true,
              false,
              false,
              false,
              false,
              false,
              false,
              false,
              false,
              false,
              false,
              false,
              false,
              false,
              false,
              false,
              false,
              false
             ]
            ],
            "label": "384.0",
            "method": "restyle"
           },
           {
            "args": [
             "visible",
             [
              false,
              false,
              false,
              true,
              false,
              false,
              false,
              false,
              false,
              false,
              false,
              false,
              false,
              false,
              false,
              false,
              false,
              false,
              false,
              false
             ]
            ],
            "label": "500.0",
            "method": "restyle"
           },
           {
            "args": [
             "visible",
             [
              false,
              false,
              false,
              false,
              true,
              false,
              false,
              false,
              false,
              false,
              false,
              false,
              false,
              false,
              false,
              false,
              false,
              false,
              false,
              false
             ]
            ],
            "label": "617.0",
            "method": "restyle"
           },
           {
            "args": [
             "visible",
             [
              false,
              false,
              false,
              false,
              false,
              true,
              false,
              false,
              false,
              false,
              false,
              false,
              false,
              false,
              false,
              false,
              false,
              false,
              false,
              false
             ]
            ],
            "label": "733.0",
            "method": "restyle"
           },
           {
            "args": [
             "visible",
             [
              false,
              false,
              false,
              false,
              false,
              false,
              true,
              false,
              false,
              false,
              false,
              false,
              false,
              false,
              false,
              false,
              false,
              false,
              false,
              false
             ]
            ],
            "label": "850.0",
            "method": "restyle"
           },
           {
            "args": [
             "visible",
             [
              false,
              false,
              false,
              false,
              false,
              false,
              false,
              true,
              false,
              false,
              false,
              false,
              false,
              false,
              false,
              false,
              false,
              false,
              false,
              false
             ]
            ],
            "label": "966.0",
            "method": "restyle"
           },
           {
            "args": [
             "visible",
             [
              false,
              false,
              false,
              false,
              false,
              false,
              false,
              false,
              true,
              false,
              false,
              false,
              false,
              false,
              false,
              false,
              false,
              false,
              false,
              false
             ]
            ],
            "label": "1083.0",
            "method": "restyle"
           },
           {
            "args": [
             "visible",
             [
              false,
              false,
              false,
              false,
              false,
              false,
              false,
              false,
              false,
              true,
              false,
              false,
              false,
              false,
              false,
              false,
              false,
              false,
              false,
              false
             ]
            ],
            "label": "1200.0",
            "method": "restyle"
           }
          ],
          "x": 0.5,
          "xanchor": "center"
         }
        ],
        "title": {
         "text": "Cross-Validation Accuracy Varying n_estimators and min_leaf"
        },
        "width": 700
       },
       "_model_module": "plotlywidget",
       "_model_module_version": "^1.1.0",
       "_model_name": "FigureModel",
       "_py2js_addTraces": {},
       "_py2js_animate": {},
       "_py2js_deleteTraces": {},
       "_py2js_moveTraces": {},
       "_py2js_relayout": null,
       "_py2js_removeLayoutProps": {},
       "_py2js_removeTraceProps": {},
       "_py2js_restyle": {},
       "_py2js_update": {},
       "_view_count": 0,
       "_view_module": "plotlywidget",
       "_view_module_version": "^1.1.0",
       "_view_name": "FigureView"
      }
     },
     "36cd42a679a342229c3018ca2b3ecc75": {
      "model_module": "@jupyter-widgets/output",
      "model_module_version": "1.0.0",
      "model_name": "OutputModel",
      "state": {
       "_dom_classes": [],
       "_model_module": "@jupyter-widgets/output",
       "_model_module_version": "1.0.0",
       "_model_name": "OutputModel",
       "_view_count": null,
       "_view_module": "@jupyter-widgets/output",
       "_view_module_version": "1.0.0",
       "_view_name": "OutputView",
       "layout": "IPY_MODEL_db28100bd8fb4215bb89113829876699",
       "msg_id": "",
       "outputs": []
      }
     },
     "4359700384264659ad73db92ab091757": {
      "model_module": "@jupyter-widgets/controls",
      "model_module_version": "1.5.0",
      "model_name": "ProgressStyleModel",
      "state": {
       "_model_module": "@jupyter-widgets/controls",
       "_model_module_version": "1.5.0",
       "_model_name": "ProgressStyleModel",
       "_view_count": null,
       "_view_module": "@jupyter-widgets/base",
       "_view_module_version": "1.2.0",
       "_view_name": "StyleView",
       "bar_color": null,
       "description_width": "initial"
      }
     },
     "49026c7c41fc4e4197c4c549512d1fb3": {
      "model_module": "@jupyter-widgets/base",
      "model_module_version": "1.2.0",
      "model_name": "LayoutModel",
      "state": {
       "_model_module": "@jupyter-widgets/base",
       "_model_module_version": "1.2.0",
       "_model_name": "LayoutModel",
       "_view_count": null,
       "_view_module": "@jupyter-widgets/base",
       "_view_module_version": "1.2.0",
       "_view_name": "LayoutView",
       "align_content": null,
       "align_items": null,
       "align_self": null,
       "border": null,
       "bottom": null,
       "display": null,
       "flex": null,
       "flex_flow": null,
       "grid_area": null,
       "grid_auto_columns": null,
       "grid_auto_flow": null,
       "grid_auto_rows": null,
       "grid_column": null,
       "grid_gap": null,
       "grid_row": null,
       "grid_template_areas": null,
       "grid_template_columns": null,
       "grid_template_rows": null,
       "height": null,
       "justify_content": null,
       "justify_items": null,
       "left": null,
       "margin": null,
       "max_height": null,
       "max_width": null,
       "min_height": null,
       "min_width": null,
       "object_fit": null,
       "object_position": null,
       "order": null,
       "overflow": null,
       "overflow_x": null,
       "overflow_y": null,
       "padding": null,
       "right": null,
       "top": null,
       "visibility": null,
       "width": null
      }
     },
     "4e9db7d701b3493185a5c24f3cf6a574": {
      "model_module": "@jupyter-widgets/controls",
      "model_module_version": "1.5.0",
      "model_name": "HTMLModel",
      "state": {
       "_dom_classes": [],
       "_model_module": "@jupyter-widgets/controls",
       "_model_module_version": "1.5.0",
       "_model_name": "HTMLModel",
       "_view_count": null,
       "_view_module": "@jupyter-widgets/controls",
       "_view_module_version": "1.5.0",
       "_view_name": "HTMLView",
       "description": "",
       "description_tooltip": null,
       "layout": "IPY_MODEL_ac52e5b2f4c741a9918c093ea7ac75dc",
       "placeholder": "​",
       "style": "IPY_MODEL_8569fef814574358b78c943e2e84ebb6",
       "value": "100% 84/84 [10:12&lt;00:00,  5.67s/pipeline]"
      }
     },
     "5809f5689316448ba6fc3107aebbeef0": {
      "model_module": "@jupyter-widgets/controls",
      "model_module_version": "1.5.0",
      "model_name": "IntProgressModel",
      "state": {
       "_dom_classes": [],
       "_model_module": "@jupyter-widgets/controls",
       "_model_module_version": "1.5.0",
       "_model_name": "IntProgressModel",
       "_view_count": null,
       "_view_module": "@jupyter-widgets/controls",
       "_view_module_version": "1.5.0",
       "_view_name": "ProgressView",
       "bar_style": "",
       "description": "Optimization Progress",
       "description_tooltip": null,
       "layout": "IPY_MODEL_e05e9e56bafe477da9bf29f7557d3682",
       "max": 84,
       "min": 0,
       "orientation": "horizontal",
       "style": "IPY_MODEL_4359700384264659ad73db92ab091757",
       "value": 84
      }
     },
     "647f8c7dea0649c9840ee677d8c1892c": {
      "model_module": "@jupyter-widgets/controls",
      "model_module_version": "1.5.0",
      "model_name": "SliderStyleModel",
      "state": {
       "_model_module": "@jupyter-widgets/controls",
       "_model_module_version": "1.5.0",
       "_model_name": "SliderStyleModel",
       "_view_count": null,
       "_view_module": "@jupyter-widgets/base",
       "_view_module_version": "1.2.0",
       "_view_name": "StyleView",
       "description_width": "",
       "handle_color": null
      }
     },
     "65c9385adad947a98e72cbb33f5f3c35": {
      "buffers": [
       {
        "data": "btu2bdu27T8svuIrvuLtPxZf8RVf8e0/LL7iK77i7T9YfMVXfMXtP1h8xVd8xe0/Qh3UQR3U7T9YfMVXfMXtPxZf8RVf8e0/6qAO6qAO7j8svuIrvuLtPwAAAAAAAO4/AAAAAAAA7j8svuIrvuLtP1h8xVd8xe0/Qh3UQR3U7T+EOqiDOqjtPyy+4iu+4u0/btu2bdu27T/FV3zFV3ztP7D4iq/4iu0/Qh3UQR3U7T8svuIrvuLtPyy+4iu+4u0/xVd8xVd87T/FV3zFV3ztP27btm3btu0/AAAAAAAA7j8svuIrvuLtPxZf8RVf8e0/LL7iK77i7T8WX/EVX/HtP1h8xVd8xe0/btu2bdu27T9CHdRBHdTtP27btm3btu0/Qh3UQR3U7T9u27Zt27btPyy+4iu+4u0/LL7iK77i7T8WX/EVX/HtP0Id1EEd1O0/btu2bdu27T9u27Zt27btP8VXfMVXfO0/WHzFV3zF7T8svuIrvuLtP0Id1EEd1O0/btu2bdu27T9YfMVXfMXtP0Id1EEd1O0/Fl/xFV/x7T8svuIrvuLtPyy+4iu+4u0/27Zt27Zt7T9YfMVXfMXtPwAAAAAAAO4/Qh3UQR3U7T9u27Zt27btPyy+4iu+4u0/LL7iK77i7T9CHdRBHdTtPyy+4iu+4u0/Qh3UQR3U7T9CHdRBHdTtP27btm3btu0/Qh3UQR3U7T9CHdRBHdTtP1h8xVd8xe0/Fl/xFV/x7T8svuIrvuLtP1h8xVd8xe0/Fl/xFV/x7T/FV3zFV3ztP0Id1EEd1O0/Qh3UQR3U7T9CHdRBHdTtP27btm3btu0/LL7iK77i7T9CHdRBHdTtPw==",
        "encoding": "base64",
        "path": [
         "_data",
         0,
         "marker",
         "color",
         "buffer"
        ]
       },
       {
        "data": "AAAAAADgYkAAAAAAAOBiQAAAAAAA4GJAAAAAAADgYkAAAAAAAOBiQAAAAAAA4GJA",
        "encoding": "base64",
        "path": [
         "_data",
         0,
         "x",
         "buffer"
        ]
       },
       {
        "data": "AAAAAAAAGEAAAAAAAAAYQAAAAAAAAChAAAAAAAAAEEAAAAAAAAAoQAAAAAAAACBA",
        "encoding": "base64",
        "path": [
         "_data",
         0,
         "y",
         "buffer"
        ]
       },
       {
        "data": "AAAAAAAAJEAAAAAAAAAkQAAAAAAAACRAAAAAAAAAHEAAAAAAAAAkQAAAAAAAACRA",
        "encoding": "base64",
        "path": [
         "_data",
         0,
         "z",
         "buffer"
        ]
       },
       {
        "data": "btu2bdu27T8svuIrvuLtPxZf8RVf8e0/LL7iK77i7T9YfMVXfMXtP1h8xVd8xe0/Qh3UQR3U7T9YfMVXfMXtPxZf8RVf8e0/6qAO6qAO7j8svuIrvuLtPwAAAAAAAO4/AAAAAAAA7j8svuIrvuLtP1h8xVd8xe0/Qh3UQR3U7T+EOqiDOqjtPyy+4iu+4u0/btu2bdu27T/FV3zFV3ztP7D4iq/4iu0/Qh3UQR3U7T8svuIrvuLtPyy+4iu+4u0/xVd8xVd87T/FV3zFV3ztP27btm3btu0/AAAAAAAA7j8svuIrvuLtPxZf8RVf8e0/LL7iK77i7T8WX/EVX/HtP1h8xVd8xe0/btu2bdu27T9CHdRBHdTtP27btm3btu0/Qh3UQR3U7T9u27Zt27btPyy+4iu+4u0/LL7iK77i7T8WX/EVX/HtP0Id1EEd1O0/btu2bdu27T9u27Zt27btP8VXfMVXfO0/WHzFV3zF7T8svuIrvuLtP0Id1EEd1O0/btu2bdu27T9YfMVXfMXtP0Id1EEd1O0/Fl/xFV/x7T8svuIrvuLtPyy+4iu+4u0/27Zt27Zt7T9YfMVXfMXtPwAAAAAAAO4/Qh3UQR3U7T9u27Zt27btPyy+4iu+4u0/LL7iK77i7T9CHdRBHdTtPyy+4iu+4u0/Qh3UQR3U7T9CHdRBHdTtP27btm3btu0/Qh3UQR3U7T9CHdRBHdTtP1h8xVd8xe0/Fl/xFV/x7T8svuIrvuLtP1h8xVd8xe0/Fl/xFV/x7T/FV3zFV3ztP0Id1EEd1O0/Qh3UQR3U7T9CHdRBHdTtP27btm3btu0/LL7iK77i7T9CHdRBHdTtPw==",
        "encoding": "base64",
        "path": [
         "_data",
         1,
         "marker",
         "color",
         "buffer"
        ]
       },
       {
        "data": "AAAAAACwcEAAAAAAALBwQAAAAAAAsHBAAAAAAACwcEAAAAAAALBwQAAAAAAAsHBAAAAAAACwcEAAAAAAALBwQAAAAAAAsHBAAAAAAACwcEAAAAAAALBwQAAAAAAAsHBA",
        "encoding": "base64",
        "path": [
         "_data",
         1,
         "x",
         "buffer"
        ]
       },
       {
        "data": "AAAAAAAAEEAAAAAAAAAgQAAAAAAAABhAAAAAAAAAEEAAAAAAAAAgQAAAAAAAABhAAAAAAAAAEEAAAAAAAAAYQAAAAAAAAChAAAAAAAAAGEAAAAAAAAAYQAAAAAAAABBA",
        "encoding": "base64",
        "path": [
         "_data",
         1,
         "y",
         "buffer"
        ]
       },
       {
        "data": "AAAAAAAALEAAAAAAAAAUQAAAAAAAACRAAAAAAAAAJEAAAAAAAAAsQAAAAAAAABxAAAAAAAAAHEAAAAAAAAAUQAAAAAAAABxAAAAAAAAAFEAAAAAAAAAsQAAAAAAAABxA",
        "encoding": "base64",
        "path": [
         "_data",
         1,
         "z",
         "buffer"
        ]
       },
       {
        "data": "btu2bdu27T8svuIrvuLtPxZf8RVf8e0/LL7iK77i7T9YfMVXfMXtP1h8xVd8xe0/Qh3UQR3U7T9YfMVXfMXtPxZf8RVf8e0/6qAO6qAO7j8svuIrvuLtPwAAAAAAAO4/AAAAAAAA7j8svuIrvuLtP1h8xVd8xe0/Qh3UQR3U7T+EOqiDOqjtPyy+4iu+4u0/btu2bdu27T/FV3zFV3ztP7D4iq/4iu0/Qh3UQR3U7T8svuIrvuLtPyy+4iu+4u0/xVd8xVd87T/FV3zFV3ztP27btm3btu0/AAAAAAAA7j8svuIrvuLtPxZf8RVf8e0/LL7iK77i7T8WX/EVX/HtP1h8xVd8xe0/btu2bdu27T9CHdRBHdTtP27btm3btu0/Qh3UQR3U7T9u27Zt27btPyy+4iu+4u0/LL7iK77i7T8WX/EVX/HtP0Id1EEd1O0/btu2bdu27T9u27Zt27btP8VXfMVXfO0/WHzFV3zF7T8svuIrvuLtP0Id1EEd1O0/btu2bdu27T9YfMVXfMXtP0Id1EEd1O0/Fl/xFV/x7T8svuIrvuLtPyy+4iu+4u0/27Zt27Zt7T9YfMVXfMXtPwAAAAAAAO4/Qh3UQR3U7T9u27Zt27btPyy+4iu+4u0/LL7iK77i7T9CHdRBHdTtPyy+4iu+4u0/Qh3UQR3U7T9CHdRBHdTtP27btm3btu0/Qh3UQR3U7T9CHdRBHdTtP1h8xVd8xe0/Fl/xFV/x7T8svuIrvuLtP1h8xVd8xe0/Fl/xFV/x7T/FV3zFV3ztP0Id1EEd1O0/Qh3UQR3U7T9CHdRBHdTtP27btm3btu0/LL7iK77i7T9CHdRBHdTtPw==",
        "encoding": "base64",
        "path": [
         "_data",
         2,
         "marker",
         "color",
         "buffer"
        ]
       },
       {
        "data": "AAAAAAAAeEAAAAAAAAB4QAAAAAAAAHhAAAAAAAAAeEAAAAAAAAB4QAAAAAAAAHhAAAAAAAAAeEAAAAAAAAB4QAAAAAAAAHhA",
        "encoding": "base64",
        "path": [
         "_data",
         2,
         "x",
         "buffer"
        ]
       },
       {
        "data": "AAAAAAAAGEAAAAAAAAAYQAAAAAAAAChAAAAAAAAAKEAAAAAAAAAQQAAAAAAAABhAAAAAAAAAKEAAAAAAAAAgQAAAAAAAABhA",
        "encoding": "base64",
        "path": [
         "_data",
         2,
         "y",
         "buffer"
        ]
       },
       {
        "data": "AAAAAAAALEAAAAAAAAAsQAAAAAAAACRAAAAAAAAAFEAAAAAAAAAcQAAAAAAAACRAAAAAAAAALEAAAAAAAAAUQAAAAAAAABxA",
        "encoding": "base64",
        "path": [
         "_data",
         2,
         "z",
         "buffer"
        ]
       },
       {
        "data": "btu2bdu27T8svuIrvuLtPxZf8RVf8e0/LL7iK77i7T9YfMVXfMXtP1h8xVd8xe0/Qh3UQR3U7T9YfMVXfMXtPxZf8RVf8e0/6qAO6qAO7j8svuIrvuLtPwAAAAAAAO4/AAAAAAAA7j8svuIrvuLtP1h8xVd8xe0/Qh3UQR3U7T+EOqiDOqjtPyy+4iu+4u0/btu2bdu27T/FV3zFV3ztP7D4iq/4iu0/Qh3UQR3U7T8svuIrvuLtPyy+4iu+4u0/xVd8xVd87T/FV3zFV3ztP27btm3btu0/AAAAAAAA7j8svuIrvuLtPxZf8RVf8e0/LL7iK77i7T8WX/EVX/HtP1h8xVd8xe0/btu2bdu27T9CHdRBHdTtP27btm3btu0/Qh3UQR3U7T9u27Zt27btPyy+4iu+4u0/LL7iK77i7T8WX/EVX/HtP0Id1EEd1O0/btu2bdu27T9u27Zt27btP8VXfMVXfO0/WHzFV3zF7T8svuIrvuLtP0Id1EEd1O0/btu2bdu27T9YfMVXfMXtP0Id1EEd1O0/Fl/xFV/x7T8svuIrvuLtPyy+4iu+4u0/27Zt27Zt7T9YfMVXfMXtPwAAAAAAAO4/Qh3UQR3U7T9u27Zt27btPyy+4iu+4u0/LL7iK77i7T9CHdRBHdTtPyy+4iu+4u0/Qh3UQR3U7T9CHdRBHdTtP27btm3btu0/Qh3UQR3U7T9CHdRBHdTtP1h8xVd8xe0/Fl/xFV/x7T8svuIrvuLtP1h8xVd8xe0/Fl/xFV/x7T/FV3zFV3ztP0Id1EEd1O0/Qh3UQR3U7T9CHdRBHdTtP27btm3btu0/LL7iK77i7T9CHdRBHdTtPw==",
        "encoding": "base64",
        "path": [
         "_data",
         3,
         "marker",
         "color",
         "buffer"
        ]
       },
       {
        "data": "AAAAAABAf0AAAAAAAEB/QAAAAAAAQH9AAAAAAABAf0AAAAAAAEB/QAAAAAAAQH9AAAAAAABAf0AAAAAAAEB/QAAAAAAAQH9AAAAAAABAf0A=",
        "encoding": "base64",
        "path": [
         "_data",
         3,
         "x",
         "buffer"
        ]
       },
       {
        "data": "AAAAAAAAGEAAAAAAAAAQQAAAAAAAABhAAAAAAAAAKEAAAAAAAAAgQAAAAAAAAChAAAAAAAAAIEAAAAAAAAAoQAAAAAAAACBAAAAAAAAAIEA=",
        "encoding": "base64",
        "path": [
         "_data",
         3,
         "y",
         "buffer"
        ]
       },
       {
        "data": "AAAAAAAAFEAAAAAAAAAcQAAAAAAAACRAAAAAAAAAHEAAAAAAAAAcQAAAAAAAACxAAAAAAAAAFEAAAAAAAAAkQAAAAAAAACRAAAAAAAAALEA=",
        "encoding": "base64",
        "path": [
         "_data",
         3,
         "z",
         "buffer"
        ]
       },
       {
        "data": "btu2bdu27T8svuIrvuLtPxZf8RVf8e0/LL7iK77i7T9YfMVXfMXtP1h8xVd8xe0/Qh3UQR3U7T9YfMVXfMXtPxZf8RVf8e0/6qAO6qAO7j8svuIrvuLtPwAAAAAAAO4/AAAAAAAA7j8svuIrvuLtP1h8xVd8xe0/Qh3UQR3U7T+EOqiDOqjtPyy+4iu+4u0/btu2bdu27T/FV3zFV3ztP7D4iq/4iu0/Qh3UQR3U7T8svuIrvuLtPyy+4iu+4u0/xVd8xVd87T/FV3zFV3ztP27btm3btu0/AAAAAAAA7j8svuIrvuLtPxZf8RVf8e0/LL7iK77i7T8WX/EVX/HtP1h8xVd8xe0/btu2bdu27T9CHdRBHdTtP27btm3btu0/Qh3UQR3U7T9u27Zt27btPyy+4iu+4u0/LL7iK77i7T8WX/EVX/HtP0Id1EEd1O0/btu2bdu27T9u27Zt27btP8VXfMVXfO0/WHzFV3zF7T8svuIrvuLtP0Id1EEd1O0/btu2bdu27T9YfMVXfMXtP0Id1EEd1O0/Fl/xFV/x7T8svuIrvuLtPyy+4iu+4u0/27Zt27Zt7T9YfMVXfMXtPwAAAAAAAO4/Qh3UQR3U7T9u27Zt27btPyy+4iu+4u0/LL7iK77i7T9CHdRBHdTtPyy+4iu+4u0/Qh3UQR3U7T9CHdRBHdTtP27btm3btu0/Qh3UQR3U7T9CHdRBHdTtP1h8xVd8xe0/Fl/xFV/x7T8svuIrvuLtP1h8xVd8xe0/Fl/xFV/x7T/FV3zFV3ztP0Id1EEd1O0/Qh3UQR3U7T9CHdRBHdTtP27btm3btu0/LL7iK77i7T9CHdRBHdTtPw==",
        "encoding": "base64",
        "path": [
         "_data",
         4,
         "marker",
         "color",
         "buffer"
        ]
       },
       {
        "data": "AAAAAABIg0AAAAAAAEiDQAAAAAAASINAAAAAAABIg0AAAAAAAEiDQA==",
        "encoding": "base64",
        "path": [
         "_data",
         4,
         "x",
         "buffer"
        ]
       },
       {
        "data": "AAAAAAAAEEAAAAAAAAAYQAAAAAAAACBAAAAAAAAAEEAAAAAAAAAgQA==",
        "encoding": "base64",
        "path": [
         "_data",
         4,
         "y",
         "buffer"
        ]
       },
       {
        "data": "AAAAAAAAFEAAAAAAAAAkQAAAAAAAACRAAAAAAAAAHEAAAAAAAAAUQA==",
        "encoding": "base64",
        "path": [
         "_data",
         4,
         "z",
         "buffer"
        ]
       },
       {
        "data": "btu2bdu27T8svuIrvuLtPxZf8RVf8e0/LL7iK77i7T9YfMVXfMXtP1h8xVd8xe0/Qh3UQR3U7T9YfMVXfMXtPxZf8RVf8e0/6qAO6qAO7j8svuIrvuLtPwAAAAAAAO4/AAAAAAAA7j8svuIrvuLtP1h8xVd8xe0/Qh3UQR3U7T+EOqiDOqjtPyy+4iu+4u0/btu2bdu27T/FV3zFV3ztP7D4iq/4iu0/Qh3UQR3U7T8svuIrvuLtPyy+4iu+4u0/xVd8xVd87T/FV3zFV3ztP27btm3btu0/AAAAAAAA7j8svuIrvuLtPxZf8RVf8e0/LL7iK77i7T8WX/EVX/HtP1h8xVd8xe0/btu2bdu27T9CHdRBHdTtP27btm3btu0/Qh3UQR3U7T9u27Zt27btPyy+4iu+4u0/LL7iK77i7T8WX/EVX/HtP0Id1EEd1O0/btu2bdu27T9u27Zt27btP8VXfMVXfO0/WHzFV3zF7T8svuIrvuLtP0Id1EEd1O0/btu2bdu27T9YfMVXfMXtP0Id1EEd1O0/Fl/xFV/x7T8svuIrvuLtPyy+4iu+4u0/27Zt27Zt7T9YfMVXfMXtPwAAAAAAAO4/Qh3UQR3U7T9u27Zt27btPyy+4iu+4u0/LL7iK77i7T9CHdRBHdTtPyy+4iu+4u0/Qh3UQR3U7T9CHdRBHdTtP27btm3btu0/Qh3UQR3U7T9CHdRBHdTtP1h8xVd8xe0/Fl/xFV/x7T8svuIrvuLtP1h8xVd8xe0/Fl/xFV/x7T/FV3zFV3ztP0Id1EEd1O0/Qh3UQR3U7T9CHdRBHdTtP27btm3btu0/LL7iK77i7T9CHdRBHdTtPw==",
        "encoding": "base64",
        "path": [
         "_data",
         5,
         "marker",
         "color",
         "buffer"
        ]
       },
       {
        "data": "AAAAAADohkAAAAAAAOiGQAAAAAAA6IZAAAAAAADohkAAAAAAAOiGQAAAAAAA6IZA",
        "encoding": "base64",
        "path": [
         "_data",
         5,
         "x",
         "buffer"
        ]
       },
       {
        "data": "AAAAAAAAIEAAAAAAAAAYQAAAAAAAACBAAAAAAAAAGEAAAAAAAAAYQAAAAAAAACBA",
        "encoding": "base64",
        "path": [
         "_data",
         5,
         "y",
         "buffer"
        ]
       },
       {
        "data": "AAAAAAAAHEAAAAAAAAAcQAAAAAAAACxAAAAAAAAAHEAAAAAAAAAkQAAAAAAAABxA",
        "encoding": "base64",
        "path": [
         "_data",
         5,
         "z",
         "buffer"
        ]
       },
       {
        "data": "btu2bdu27T8svuIrvuLtPxZf8RVf8e0/LL7iK77i7T9YfMVXfMXtP1h8xVd8xe0/Qh3UQR3U7T9YfMVXfMXtPxZf8RVf8e0/6qAO6qAO7j8svuIrvuLtPwAAAAAAAO4/AAAAAAAA7j8svuIrvuLtP1h8xVd8xe0/Qh3UQR3U7T+EOqiDOqjtPyy+4iu+4u0/btu2bdu27T/FV3zFV3ztP7D4iq/4iu0/Qh3UQR3U7T8svuIrvuLtPyy+4iu+4u0/xVd8xVd87T/FV3zFV3ztP27btm3btu0/AAAAAAAA7j8svuIrvuLtPxZf8RVf8e0/LL7iK77i7T8WX/EVX/HtP1h8xVd8xe0/btu2bdu27T9CHdRBHdTtP27btm3btu0/Qh3UQR3U7T9u27Zt27btPyy+4iu+4u0/LL7iK77i7T8WX/EVX/HtP0Id1EEd1O0/btu2bdu27T9u27Zt27btP8VXfMVXfO0/WHzFV3zF7T8svuIrvuLtP0Id1EEd1O0/btu2bdu27T9YfMVXfMXtP0Id1EEd1O0/Fl/xFV/x7T8svuIrvuLtPyy+4iu+4u0/27Zt27Zt7T9YfMVXfMXtPwAAAAAAAO4/Qh3UQR3U7T9u27Zt27btPyy+4iu+4u0/LL7iK77i7T9CHdRBHdTtPyy+4iu+4u0/Qh3UQR3U7T9CHdRBHdTtP27btm3btu0/Qh3UQR3U7T9CHdRBHdTtP1h8xVd8xe0/Fl/xFV/x7T8svuIrvuLtP1h8xVd8xe0/Fl/xFV/x7T/FV3zFV3ztP0Id1EEd1O0/Qh3UQR3U7T9CHdRBHdTtP27btm3btu0/LL7iK77i7T9CHdRBHdTtPw==",
        "encoding": "base64",
        "path": [
         "_data",
         6,
         "marker",
         "color",
         "buffer"
        ]
       },
       {
        "data": "AAAAAACQikAAAAAAAJCKQAAAAAAAkIpAAAAAAACQikAAAAAAAJCKQAAAAAAAkIpAAAAAAACQikAAAAAAAJCKQAAAAAAAkIpA",
        "encoding": "base64",
        "path": [
         "_data",
         6,
         "x",
         "buffer"
        ]
       },
       {
        "data": "AAAAAAAAEEAAAAAAAAAoQAAAAAAAAChAAAAAAAAAKEAAAAAAAAAgQAAAAAAAACBAAAAAAAAAGEAAAAAAAAAoQAAAAAAAAChA",
        "encoding": "base64",
        "path": [
         "_data",
         6,
         "y",
         "buffer"
        ]
       },
       {
        "data": "AAAAAAAAFEAAAAAAAAAcQAAAAAAAABxAAAAAAAAALEAAAAAAAAAkQAAAAAAAACxAAAAAAAAAHEAAAAAAAAAkQAAAAAAAABRA",
        "encoding": "base64",
        "path": [
         "_data",
         6,
         "z",
         "buffer"
        ]
       },
       {
        "data": "btu2bdu27T8svuIrvuLtPxZf8RVf8e0/LL7iK77i7T9YfMVXfMXtP1h8xVd8xe0/Qh3UQR3U7T9YfMVXfMXtPxZf8RVf8e0/6qAO6qAO7j8svuIrvuLtPwAAAAAAAO4/AAAAAAAA7j8svuIrvuLtP1h8xVd8xe0/Qh3UQR3U7T+EOqiDOqjtPyy+4iu+4u0/btu2bdu27T/FV3zFV3ztP7D4iq/4iu0/Qh3UQR3U7T8svuIrvuLtPyy+4iu+4u0/xVd8xVd87T/FV3zFV3ztP27btm3btu0/AAAAAAAA7j8svuIrvuLtPxZf8RVf8e0/LL7iK77i7T8WX/EVX/HtP1h8xVd8xe0/btu2bdu27T9CHdRBHdTtP27btm3btu0/Qh3UQR3U7T9u27Zt27btPyy+4iu+4u0/LL7iK77i7T8WX/EVX/HtP0Id1EEd1O0/btu2bdu27T9u27Zt27btP8VXfMVXfO0/WHzFV3zF7T8svuIrvuLtP0Id1EEd1O0/btu2bdu27T9YfMVXfMXtP0Id1EEd1O0/Fl/xFV/x7T8svuIrvuLtPyy+4iu+4u0/27Zt27Zt7T9YfMVXfMXtPwAAAAAAAO4/Qh3UQR3U7T9u27Zt27btPyy+4iu+4u0/LL7iK77i7T9CHdRBHdTtPyy+4iu+4u0/Qh3UQR3U7T9CHdRBHdTtP27btm3btu0/Qh3UQR3U7T9CHdRBHdTtP1h8xVd8xe0/Fl/xFV/x7T8svuIrvuLtP1h8xVd8xe0/Fl/xFV/x7T/FV3zFV3ztP0Id1EEd1O0/Qh3UQR3U7T9CHdRBHdTtP27btm3btu0/LL7iK77i7T9CHdRBHdTtPw==",
        "encoding": "base64",
        "path": [
         "_data",
         7,
         "marker",
         "color",
         "buffer"
        ]
       },
       {
        "data": "AAAAAAAwjkAAAAAAADCOQAAAAAAAMI5AAAAAAAAwjkAAAAAAADCOQAAAAAAAMI5AAAAAAAAwjkA=",
        "encoding": "base64",
        "path": [
         "_data",
         7,
         "x",
         "buffer"
        ]
       },
       {
        "data": "AAAAAAAAIEAAAAAAAAAoQAAAAAAAABBAAAAAAAAAKEAAAAAAAAAoQAAAAAAAAChAAAAAAAAAGEA=",
        "encoding": "base64",
        "path": [
         "_data",
         7,
         "y",
         "buffer"
        ]
       },
       {
        "data": "AAAAAAAAJEAAAAAAAAAkQAAAAAAAACRAAAAAAAAAFEAAAAAAAAAUQAAAAAAAACxAAAAAAAAAJEA=",
        "encoding": "base64",
        "path": [
         "_data",
         7,
         "z",
         "buffer"
        ]
       },
       {
        "data": "btu2bdu27T8svuIrvuLtPxZf8RVf8e0/LL7iK77i7T9YfMVXfMXtP1h8xVd8xe0/Qh3UQR3U7T9YfMVXfMXtPxZf8RVf8e0/6qAO6qAO7j8svuIrvuLtPwAAAAAAAO4/AAAAAAAA7j8svuIrvuLtP1h8xVd8xe0/Qh3UQR3U7T+EOqiDOqjtPyy+4iu+4u0/btu2bdu27T/FV3zFV3ztP7D4iq/4iu0/Qh3UQR3U7T8svuIrvuLtPyy+4iu+4u0/xVd8xVd87T/FV3zFV3ztP27btm3btu0/AAAAAAAA7j8svuIrvuLtPxZf8RVf8e0/LL7iK77i7T8WX/EVX/HtP1h8xVd8xe0/btu2bdu27T9CHdRBHdTtP27btm3btu0/Qh3UQR3U7T9u27Zt27btPyy+4iu+4u0/LL7iK77i7T8WX/EVX/HtP0Id1EEd1O0/btu2bdu27T9u27Zt27btP8VXfMVXfO0/WHzFV3zF7T8svuIrvuLtP0Id1EEd1O0/btu2bdu27T9YfMVXfMXtP0Id1EEd1O0/Fl/xFV/x7T8svuIrvuLtPyy+4iu+4u0/27Zt27Zt7T9YfMVXfMXtPwAAAAAAAO4/Qh3UQR3U7T9u27Zt27btPyy+4iu+4u0/LL7iK77i7T9CHdRBHdTtPyy+4iu+4u0/Qh3UQR3U7T9CHdRBHdTtP27btm3btu0/Qh3UQR3U7T9CHdRBHdTtP1h8xVd8xe0/Fl/xFV/x7T8svuIrvuLtP1h8xVd8xe0/Fl/xFV/x7T/FV3zFV3ztP0Id1EEd1O0/Qh3UQR3U7T9CHdRBHdTtP27btm3btu0/LL7iK77i7T9CHdRBHdTtPw==",
        "encoding": "base64",
        "path": [
         "_data",
         8,
         "marker",
         "color",
         "buffer"
        ]
       },
       {
        "data": "AAAAAADskEAAAAAAAOyQQAAAAAAA7JBAAAAAAADskEAAAAAAAOyQQAAAAAAA7JBA",
        "encoding": "base64",
        "path": [
         "_data",
         8,
         "x",
         "buffer"
        ]
       },
       {
        "data": "AAAAAAAAIEAAAAAAAAAoQAAAAAAAABhAAAAAAAAAKEAAAAAAAAAoQAAAAAAAACBA",
        "encoding": "base64",
        "path": [
         "_data",
         8,
         "y",
         "buffer"
        ]
       },
       {
        "data": "AAAAAAAAHEAAAAAAAAAsQAAAAAAAACRAAAAAAAAAFEAAAAAAAAAcQAAAAAAAABRA",
        "encoding": "base64",
        "path": [
         "_data",
         8,
         "z",
         "buffer"
        ]
       },
       {
        "data": "btu2bdu27T8svuIrvuLtPxZf8RVf8e0/LL7iK77i7T9YfMVXfMXtP1h8xVd8xe0/Qh3UQR3U7T9YfMVXfMXtPxZf8RVf8e0/6qAO6qAO7j8svuIrvuLtPwAAAAAAAO4/AAAAAAAA7j8svuIrvuLtP1h8xVd8xe0/Qh3UQR3U7T+EOqiDOqjtPyy+4iu+4u0/btu2bdu27T/FV3zFV3ztP7D4iq/4iu0/Qh3UQR3U7T8svuIrvuLtPyy+4iu+4u0/xVd8xVd87T/FV3zFV3ztP27btm3btu0/AAAAAAAA7j8svuIrvuLtPxZf8RVf8e0/LL7iK77i7T8WX/EVX/HtP1h8xVd8xe0/btu2bdu27T9CHdRBHdTtP27btm3btu0/Qh3UQR3U7T9u27Zt27btPyy+4iu+4u0/LL7iK77i7T8WX/EVX/HtP0Id1EEd1O0/btu2bdu27T9u27Zt27btP8VXfMVXfO0/WHzFV3zF7T8svuIrvuLtP0Id1EEd1O0/btu2bdu27T9YfMVXfMXtP0Id1EEd1O0/Fl/xFV/x7T8svuIrvuLtPyy+4iu+4u0/27Zt27Zt7T9YfMVXfMXtPwAAAAAAAO4/Qh3UQR3U7T9u27Zt27btPyy+4iu+4u0/LL7iK77i7T9CHdRBHdTtPyy+4iu+4u0/Qh3UQR3U7T9CHdRBHdTtP27btm3btu0/Qh3UQR3U7T9CHdRBHdTtP1h8xVd8xe0/Fl/xFV/x7T8svuIrvuLtP1h8xVd8xe0/Fl/xFV/x7T/FV3zFV3ztP0Id1EEd1O0/Qh3UQR3U7T9CHdRBHdTtP27btm3btu0/LL7iK77i7T9CHdRBHdTtPw==",
        "encoding": "base64",
        "path": [
         "_data",
         9,
         "marker",
         "color",
         "buffer"
        ]
       },
       {
        "data": "AAAAAADAkkAAAAAAAMCSQAAAAAAAwJJAAAAAAADAkkAAAAAAAMCSQAAAAAAAwJJAAAAAAADAkkAAAAAAAMCSQAAAAAAAwJJAAAAAAADAkkA=",
        "encoding": "base64",
        "path": [
         "_data",
         9,
         "x",
         "buffer"
        ]
       },
       {
        "data": "AAAAAAAAIEAAAAAAAAAYQAAAAAAAABhAAAAAAAAAEEAAAAAAAAAQQAAAAAAAACBAAAAAAAAAEEAAAAAAAAAYQAAAAAAAABBAAAAAAAAAGEA=",
        "encoding": "base64",
        "path": [
         "_data",
         9,
         "y",
         "buffer"
        ]
       },
       {
        "data": "AAAAAAAALEAAAAAAAAAsQAAAAAAAABRAAAAAAAAAJEAAAAAAAAAUQAAAAAAAACxAAAAAAAAALEAAAAAAAAAsQAAAAAAAABxAAAAAAAAALEA=",
        "encoding": "base64",
        "path": [
         "_data",
         9,
         "z",
         "buffer"
        ]
       }
      ],
      "model_module": "plotlywidget",
      "model_module_version": "^1.1.0",
      "model_name": "FigureModel",
      "state": {
       "_config": {
        "plotlyServerURL": "https://plot.ly"
       },
       "_data": [
        {
         "hoverinfo": "text",
         "marker": {
          "color": {
           "buffer": {},
           "dtype": "float64",
           "shape": [
            80
           ]
          },
          "colorbar": {
           "title": {
            "text": "Cross-Validation Accuracy"
           }
          },
          "colorscale": [
           [
            0,
            "rgb(0,0,131)"
           ],
           [
            0.2,
            "rgb(0,60,170)"
           ],
           [
            0.4,
            "rgb(5,255,255)"
           ],
           [
            0.6,
            "rgb(255,255,0)"
           ],
           [
            0.8,
            "rgb(250,0,0)"
           ],
           [
            1,
            "rgb(128,0,0)"
           ]
          ],
          "size": 7
         },
         "mode": "markers",
         "showlegend": false,
         "text": [
          "max_features: auto<br>n_estimators: 151.0<br>min_samples_split: 10.0<br>Test score: 0.932<br>Training time: 0.441 s",
          "max_features: sqrt<br>n_estimators: 151.0<br>min_samples_split: 10.0<br>Test score: 0.927<br>Training time: 0.411 s",
          "max_features: auto<br>n_estimators: 151.0<br>min_samples_split: 10.0<br>Test score: 0.923<br>Training time: 0.396 s",
          "max_features: auto<br>n_estimators: 151.0<br>min_samples_split: 7.0<br>Test score: 0.932<br>Training time: 0.41 s",
          "max_features: auto<br>n_estimators: 151.0<br>min_samples_split: 10.0<br>Test score: 0.932<br>Training time: 0.438 s",
          "max_features: log2<br>n_estimators: 151.0<br>min_samples_split: 10.0<br>Test score: 0.932<br>Training time: 0.442 s"
         ],
         "type": "scatter3d",
         "uid": "417830dc-403c-4ae6-ad0b-af22c581a055",
         "x": {
          "buffer": {},
          "dtype": "float64",
          "shape": [
           6
          ]
         },
         "y": {
          "buffer": {},
          "dtype": "float64",
          "shape": [
           6
          ]
         },
         "z": {
          "buffer": {},
          "dtype": "float64",
          "shape": [
           6
          ]
         }
        },
        {
         "hoverinfo": "text",
         "marker": {
          "color": {
           "buffer": {},
           "dtype": "float64",
           "shape": [
            80
           ]
          },
          "colorbar": {
           "title": {
            "text": "Cross-Validation Accuracy"
           }
          },
          "colorscale": [
           [
            0,
            "rgb(0,0,131)"
           ],
           [
            0.2,
            "rgb(0,60,170)"
           ],
           [
            0.4,
            "rgb(5,255,255)"
           ],
           [
            0.6,
            "rgb(255,255,0)"
           ],
           [
            0.8,
            "rgb(250,0,0)"
           ],
           [
            1,
            "rgb(128,0,0)"
           ]
          ],
          "size": 7
         },
         "mode": "markers",
         "showlegend": false,
         "text": [
          "max_features: log2<br>n_estimators: 267.0<br>min_samples_split: 14.0<br>Test score: 0.929<br>Training time: 0.708 s",
          "max_features: auto<br>n_estimators: 267.0<br>min_samples_split: 5.0<br>Test score: 0.936<br>Training time: 0.791 s",
          "max_features: log2<br>n_estimators: 267.0<br>min_samples_split: 10.0<br>Test score: 0.932<br>Training time: 0.788 s",
          "max_features: None<br>n_estimators: 267.0<br>min_samples_split: 10.0<br>Test score: 0.93<br>Training time: 0.773 s",
          "max_features: auto<br>n_estimators: 267.0<br>min_samples_split: 14.0<br>Test score: 0.934<br>Training time: 0.712 s",
          "max_features: log2<br>n_estimators: 267.0<br>min_samples_split: 7.0<br>Test score: 0.934<br>Training time: 0.799 s",
          "max_features: None<br>n_estimators: 267.0<br>min_samples_split: 7.0<br>Test score: 0.934<br>Training time: 0.796 s",
          "max_features: sqrt<br>n_estimators: 267.0<br>min_samples_split: 5.0<br>Test score: 0.929<br>Training time: 0.714 s",
          "max_features: None<br>n_estimators: 267.0<br>min_samples_split: 7.0<br>Test score: 0.929<br>Training time: 0.857 s",
          "max_features: sqrt<br>n_estimators: 267.0<br>min_samples_split: 5.0<br>Test score: 0.932<br>Training time: 0.794 s",
          "max_features: auto<br>n_estimators: 267.0<br>min_samples_split: 14.0<br>Test score: 0.932<br>Training time: 0.795 s",
          "max_features: log2<br>n_estimators: 267.0<br>min_samples_split: 7.0<br>Test score: 0.936<br>Training time: 0.806 s"
         ],
         "type": "scatter3d",
         "uid": "c48631ce-6952-43aa-8384-0e143a2aa102",
         "x": {
          "buffer": {},
          "dtype": "float64",
          "shape": [
           12
          ]
         },
         "y": {
          "buffer": {},
          "dtype": "float64",
          "shape": [
           12
          ]
         },
         "z": {
          "buffer": {},
          "dtype": "float64",
          "shape": [
           12
          ]
         }
        },
        {
         "hoverinfo": "text",
         "marker": {
          "color": {
           "buffer": {},
           "dtype": "float64",
           "shape": [
            80
           ]
          },
          "colorbar": {
           "title": {
            "text": "Cross-Validation Accuracy"
           }
          },
          "colorscale": [
           [
            0,
            "rgb(0,0,131)"
           ],
           [
            0.2,
            "rgb(0,60,170)"
           ],
           [
            0.4,
            "rgb(5,255,255)"
           ],
           [
            0.6,
            "rgb(255,255,0)"
           ],
           [
            0.8,
            "rgb(250,0,0)"
           ],
           [
            1,
            "rgb(128,0,0)"
           ]
          ],
          "size": 7
         },
         "mode": "markers",
         "showlegend": false,
         "text": [
          "max_features: None<br>n_estimators: 384.0<br>min_samples_split: 14.0<br>Test score: 0.934<br>Training time: 1.285 s",
          "max_features: None<br>n_estimators: 384.0<br>min_samples_split: 14.0<br>Test score: 0.934<br>Training time: 1.301 s",
          "max_features: None<br>n_estimators: 384.0<br>min_samples_split: 10.0<br>Test score: 0.929<br>Training time: 1.251 s",
          "max_features: auto<br>n_estimators: 384.0<br>min_samples_split: 5.0<br>Test score: 0.921<br>Training time: 1.018 s",
          "max_features: sqrt<br>n_estimators: 384.0<br>min_samples_split: 7.0<br>Test score: 0.936<br>Training time: 1.038 s",
          "max_features: auto<br>n_estimators: 384.0<br>min_samples_split: 10.0<br>Test score: 0.93<br>Training time: 1.045 s",
          "max_features: sqrt<br>n_estimators: 384.0<br>min_samples_split: 14.0<br>Test score: 0.92<br>Training time: 1.002 s",
          "max_features: log2<br>n_estimators: 384.0<br>min_samples_split: 5.0<br>Test score: 0.934<br>Training time: 1.111 s",
          "max_features: log2<br>n_estimators: 384.0<br>min_samples_split: 7.0<br>Test score: 0.932<br>Training time: 1.031 s"
         ],
         "type": "scatter3d",
         "uid": "87db076d-cdf4-4d60-b453-d6a40e292121",
         "x": {
          "buffer": {},
          "dtype": "float64",
          "shape": [
           9
          ]
         },
         "y": {
          "buffer": {},
          "dtype": "float64",
          "shape": [
           9
          ]
         },
         "z": {
          "buffer": {},
          "dtype": "float64",
          "shape": [
           9
          ]
         }
        },
        {
         "hoverinfo": "text",
         "marker": {
          "color": {
           "buffer": {},
           "dtype": "float64",
           "shape": [
            80
           ]
          },
          "colorbar": {
           "title": {
            "text": "Cross-Validation Accuracy"
           }
          },
          "colorscale": [
           [
            0,
            "rgb(0,0,131)"
           ],
           [
            0.2,
            "rgb(0,60,170)"
           ],
           [
            0.4,
            "rgb(5,255,255)"
           ],
           [
            0.6,
            "rgb(255,255,0)"
           ],
           [
            0.8,
            "rgb(250,0,0)"
           ],
           [
            1,
            "rgb(128,0,0)"
           ]
          ],
          "size": 7
         },
         "mode": "markers",
         "showlegend": false,
         "text": [
          "max_features: sqrt<br>n_estimators: 500.0<br>min_samples_split: 5.0<br>Test score: 0.93<br>Training time: 1.327 s",
          "max_features: log2<br>n_estimators: 500.0<br>min_samples_split: 7.0<br>Test score: 0.939<br>Training time: 1.502 s",
          "max_features: auto<br>n_estimators: 500.0<br>min_samples_split: 10.0<br>Test score: 0.938<br>Training time: 1.483 s",
          "max_features: auto<br>n_estimators: 500.0<br>min_samples_split: 7.0<br>Test score: 0.921<br>Training time: 1.372 s",
          "max_features: auto<br>n_estimators: 500.0<br>min_samples_split: 7.0<br>Test score: 0.932<br>Training time: 1.499 s",
          "max_features: None<br>n_estimators: 500.0<br>min_samples_split: 14.0<br>Test score: 0.929<br>Training time: 1.602 s",
          "max_features: log2<br>n_estimators: 500.0<br>min_samples_split: 5.0<br>Test score: 0.932<br>Training time: 1.473 s",
          "max_features: None<br>n_estimators: 500.0<br>min_samples_split: 10.0<br>Test score: 0.929<br>Training time: 1.625 s",
          "max_features: sqrt<br>n_estimators: 500.0<br>min_samples_split: 10.0<br>Test score: 0.936<br>Training time: 1.532 s",
          "max_features: sqrt<br>n_estimators: 500.0<br>min_samples_split: 14.0<br>Test score: 0.932<br>Training time: 1.328 s"
         ],
         "type": "scatter3d",
         "uid": "12921490-021a-4b67-892a-f4a89c0813ab",
         "x": {
          "buffer": {},
          "dtype": "float64",
          "shape": [
           10
          ]
         },
         "y": {
          "buffer": {},
          "dtype": "float64",
          "shape": [
           10
          ]
         },
         "z": {
          "buffer": {},
          "dtype": "float64",
          "shape": [
           10
          ]
         }
        },
        {
         "hoverinfo": "text",
         "marker": {
          "color": {
           "buffer": {},
           "dtype": "float64",
           "shape": [
            80
           ]
          },
          "colorbar": {
           "title": {
            "text": "Cross-Validation Accuracy"
           }
          },
          "colorscale": [
           [
            0,
            "rgb(0,0,131)"
           ],
           [
            0.2,
            "rgb(0,60,170)"
           ],
           [
            0.4,
            "rgb(5,255,255)"
           ],
           [
            0.6,
            "rgb(255,255,0)"
           ],
           [
            0.8,
            "rgb(250,0,0)"
           ],
           [
            1,
            "rgb(128,0,0)"
           ]
          ],
          "size": 7
         },
         "mode": "markers",
         "showlegend": false,
         "text": [
          "max_features: auto<br>n_estimators: 617.0<br>min_samples_split: 5.0<br>Test score: 0.938<br>Training time: 1.862 s",
          "max_features: auto<br>n_estimators: 617.0<br>min_samples_split: 10.0<br>Test score: 0.934<br>Training time: 1.82 s",
          "max_features: None<br>n_estimators: 617.0<br>min_samples_split: 10.0<br>Test score: 0.93<br>Training time: 1.792 s",
          "max_features: None<br>n_estimators: 617.0<br>min_samples_split: 7.0<br>Test score: 0.938<br>Training time: 2.146 s",
          "max_features: None<br>n_estimators: 617.0<br>min_samples_split: 5.0<br>Test score: 0.929<br>Training time: 1.781 s"
         ],
         "type": "scatter3d",
         "uid": "3825f14c-f1ee-440f-95d9-248c04a228db",
         "x": {
          "buffer": {},
          "dtype": "float64",
          "shape": [
           5
          ]
         },
         "y": {
          "buffer": {},
          "dtype": "float64",
          "shape": [
           5
          ]
         },
         "z": {
          "buffer": {},
          "dtype": "float64",
          "shape": [
           5
          ]
         }
        },
        {
         "hoverinfo": "text",
         "marker": {
          "color": {
           "buffer": {},
           "dtype": "float64",
           "shape": [
            80
           ]
          },
          "colorbar": {
           "title": {
            "text": "Cross-Validation Accuracy"
           }
          },
          "colorscale": [
           [
            0,
            "rgb(0,0,131)"
           ],
           [
            0.2,
            "rgb(0,60,170)"
           ],
           [
            0.4,
            "rgb(5,255,255)"
           ],
           [
            0.6,
            "rgb(255,255,0)"
           ],
           [
            0.8,
            "rgb(250,0,0)"
           ],
           [
            1,
            "rgb(128,0,0)"
           ]
          ],
          "size": 7
         },
         "mode": "markers",
         "showlegend": false,
         "text": [
          "max_features: None<br>n_estimators: 733.0<br>min_samples_split: 7.0<br>Test score: 0.93<br>Training time: 2.464 s",
          "max_features: sqrt<br>n_estimators: 733.0<br>min_samples_split: 7.0<br>Test score: 0.934<br>Training time: 1.977 s",
          "max_features: None<br>n_estimators: 733.0<br>min_samples_split: 14.0<br>Test score: 0.932<br>Training time: 2.468 s",
          "max_features: log2<br>n_estimators: 733.0<br>min_samples_split: 7.0<br>Test score: 0.934<br>Training time: 2.134 s",
          "max_features: sqrt<br>n_estimators: 733.0<br>min_samples_split: 10.0<br>Test score: 0.936<br>Training time: 2.188 s",
          "max_features: None<br>n_estimators: 733.0<br>min_samples_split: 7.0<br>Test score: 0.932<br>Training time: 2.43 s"
         ],
         "type": "scatter3d",
         "uid": "ace9bd8b-8158-4193-9acc-cdbfb966a2f7",
         "x": {
          "buffer": {},
          "dtype": "float64",
          "shape": [
           6
          ]
         },
         "y": {
          "buffer": {},
          "dtype": "float64",
          "shape": [
           6
          ]
         },
         "z": {
          "buffer": {},
          "dtype": "float64",
          "shape": [
           6
          ]
         }
        },
        {
         "hoverinfo": "text",
         "marker": {
          "color": {
           "buffer": {},
           "dtype": "float64",
           "shape": [
            80
           ]
          },
          "colorbar": {
           "title": {
            "text": "Cross-Validation Accuracy"
           }
          },
          "colorscale": [
           [
            0,
            "rgb(0,0,131)"
           ],
           [
            0.2,
            "rgb(0,60,170)"
           ],
           [
            0.4,
            "rgb(5,255,255)"
           ],
           [
            0.6,
            "rgb(255,255,0)"
           ],
           [
            0.8,
            "rgb(250,0,0)"
           ],
           [
            1,
            "rgb(128,0,0)"
           ]
          ],
          "size": 7
         },
         "mode": "markers",
         "showlegend": false,
         "text": [
          "max_features: log2<br>n_estimators: 850.0<br>min_samples_split: 5.0<br>Test score: 0.934<br>Training time: 2.288 s",
          "max_features: auto<br>n_estimators: 850.0<br>min_samples_split: 7.0<br>Test score: 0.921<br>Training time: 2.217 s",
          "max_features: auto<br>n_estimators: 850.0<br>min_samples_split: 7.0<br>Test score: 0.921<br>Training time: 2.244 s",
          "max_features: auto<br>n_estimators: 850.0<br>min_samples_split: 14.0<br>Test score: 0.93<br>Training time: 2.436 s",
          "max_features: sqrt<br>n_estimators: 850.0<br>min_samples_split: 10.0<br>Test score: 0.934<br>Training time: 2.567 s",
          "max_features: log2<br>n_estimators: 850.0<br>min_samples_split: 14.0<br>Test score: 0.934<br>Training time: 2.491 s",
          "max_features: None<br>n_estimators: 850.0<br>min_samples_split: 7.0<br>Test score: 0.932<br>Training time: 2.441 s",
          "max_features: None<br>n_estimators: 850.0<br>min_samples_split: 10.0<br>Test score: 0.929<br>Training time: 2.733 s",
          "max_features: sqrt<br>n_estimators: 850.0<br>min_samples_split: 5.0<br>Test score: 0.932<br>Training time: 2.426 s"
         ],
         "type": "scatter3d",
         "uid": "c9007a6e-39f5-4909-9462-99f627beda48",
         "x": {
          "buffer": {},
          "dtype": "float64",
          "shape": [
           9
          ]
         },
         "y": {
          "buffer": {},
          "dtype": "float64",
          "shape": [
           9
          ]
         },
         "z": {
          "buffer": {},
          "dtype": "float64",
          "shape": [
           9
          ]
         }
        },
        {
         "hoverinfo": "text",
         "marker": {
          "color": {
           "buffer": {},
           "dtype": "float64",
           "shape": [
            80
           ]
          },
          "colorbar": {
           "title": {
            "text": "Cross-Validation Accuracy"
           }
          },
          "colorscale": [
           [
            0,
            "rgb(0,0,131)"
           ],
           [
            0.2,
            "rgb(0,60,170)"
           ],
           [
            0.4,
            "rgb(5,255,255)"
           ],
           [
            0.6,
            "rgb(255,255,0)"
           ],
           [
            0.8,
            "rgb(250,0,0)"
           ],
           [
            1,
            "rgb(128,0,0)"
           ]
          ],
          "size": 7
         },
         "mode": "markers",
         "showlegend": false,
         "text": [
          "max_features: sqrt<br>n_estimators: 966.0<br>min_samples_split: 10.0<br>Test score: 0.934<br>Training time: 2.804 s",
          "max_features: None<br>n_estimators: 966.0<br>min_samples_split: 10.0<br>Test score: 0.929<br>Training time: 3.108 s",
          "max_features: sqrt<br>n_estimators: 966.0<br>min_samples_split: 10.0<br>Test score: 0.936<br>Training time: 2.878 s",
          "max_features: None<br>n_estimators: 966.0<br>min_samples_split: 5.0<br>Test score: 0.929<br>Training time: 3.147 s",
          "max_features: log2<br>n_estimators: 966.0<br>min_samples_split: 5.0<br>Test score: 0.932<br>Training time: 2.854 s",
          "max_features: log2<br>n_estimators: 966.0<br>min_samples_split: 14.0<br>Test score: 0.921<br>Training time: 2.544 s",
          "max_features: None<br>n_estimators: 966.0<br>min_samples_split: 10.0<br>Test score: 0.934<br>Training time: 2.773 s"
         ],
         "type": "scatter3d",
         "uid": "fb8c34cd-d54f-4adc-bda7-f058e1e6f313",
         "x": {
          "buffer": {},
          "dtype": "float64",
          "shape": [
           7
          ]
         },
         "y": {
          "buffer": {},
          "dtype": "float64",
          "shape": [
           7
          ]
         },
         "z": {
          "buffer": {},
          "dtype": "float64",
          "shape": [
           7
          ]
         }
        },
        {
         "hoverinfo": "text",
         "marker": {
          "color": {
           "buffer": {},
           "dtype": "float64",
           "shape": [
            80
           ]
          },
          "colorbar": {
           "title": {
            "text": "Cross-Validation Accuracy"
           }
          },
          "colorscale": [
           [
            0,
            "rgb(0,0,131)"
           ],
           [
            0.2,
            "rgb(0,60,170)"
           ],
           [
            0.4,
            "rgb(5,255,255)"
           ],
           [
            0.6,
            "rgb(255,255,0)"
           ],
           [
            0.8,
            "rgb(250,0,0)"
           ],
           [
            1,
            "rgb(128,0,0)"
           ]
          ],
          "size": 7
         },
         "mode": "markers",
         "showlegend": false,
         "text": [
          "max_features: log2<br>n_estimators: 1083.0<br>min_samples_split: 7.0<br>Test score: 0.934<br>Training time: 3.185 s",
          "max_features: None<br>n_estimators: 1083.0<br>min_samples_split: 14.0<br>Test score: 0.929<br>Training time: 3.505 s",
          "max_features: None<br>n_estimators: 1083.0<br>min_samples_split: 10.0<br>Test score: 0.934<br>Training time: 3.782 s",
          "max_features: auto<br>n_estimators: 1083.0<br>min_samples_split: 5.0<br>Test score: 0.932<br>Training time: 3.09 s",
          "max_features: None<br>n_estimators: 1083.0<br>min_samples_split: 7.0<br>Test score: 0.929<br>Training time: 3.456 s",
          "max_features: sqrt<br>n_estimators: 1083.0<br>min_samples_split: 5.0<br>Test score: 0.93<br>Training time: 2.886 s"
         ],
         "type": "scatter3d",
         "uid": "bedb562a-94cd-4b9c-bc1e-c5ed95ef6823",
         "x": {
          "buffer": {},
          "dtype": "float64",
          "shape": [
           6
          ]
         },
         "y": {
          "buffer": {},
          "dtype": "float64",
          "shape": [
           6
          ]
         },
         "z": {
          "buffer": {},
          "dtype": "float64",
          "shape": [
           6
          ]
         }
        },
        {
         "hoverinfo": "text",
         "marker": {
          "color": {
           "buffer": {},
           "dtype": "float64",
           "shape": [
            80
           ]
          },
          "colorbar": {
           "title": {
            "text": "Cross-Validation Accuracy"
           }
          },
          "colorscale": [
           [
            0,
            "rgb(0,0,131)"
           ],
           [
            0.2,
            "rgb(0,60,170)"
           ],
           [
            0.4,
            "rgb(5,255,255)"
           ],
           [
            0.6,
            "rgb(255,255,0)"
           ],
           [
            0.8,
            "rgb(250,0,0)"
           ],
           [
            1,
            "rgb(128,0,0)"
           ]
          ],
          "size": 7
         },
         "mode": "markers",
         "showlegend": false,
         "text": [
          "max_features: None<br>n_estimators: 1200.0<br>min_samples_split: 14.0<br>Test score: 0.93<br>Training time: 4.027 s",
          "max_features: sqrt<br>n_estimators: 1200.0<br>min_samples_split: 14.0<br>Test score: 0.936<br>Training time: 3.539 s",
          "max_features: auto<br>n_estimators: 1200.0<br>min_samples_split: 5.0<br>Test score: 0.934<br>Training time: 3.666 s",
          "max_features: auto<br>n_estimators: 1200.0<br>min_samples_split: 10.0<br>Test score: 0.938<br>Training time: 3.568 s",
          "max_features: None<br>n_estimators: 1200.0<br>min_samples_split: 5.0<br>Test score: 0.936<br>Training time: 4.213 s",
          "max_features: auto<br>n_estimators: 1200.0<br>min_samples_split: 14.0<br>Test score: 0.932<br>Training time: 3.173 s",
          "max_features: log2<br>n_estimators: 1200.0<br>min_samples_split: 14.0<br>Test score: 0.93<br>Training time: 3.235 s",
          "max_features: log2<br>n_estimators: 1200.0<br>min_samples_split: 14.0<br>Test score: 0.934<br>Training time: 3.534 s",
          "max_features: None<br>n_estimators: 1200.0<br>min_samples_split: 7.0<br>Test score: 0.934<br>Training time: 3.546 s",
          "max_features: auto<br>n_estimators: 1200.0<br>min_samples_split: 14.0<br>Test score: 0.93<br>Training time: 3.24 s"
         ],
         "type": "scatter3d",
         "uid": "8f1fdebe-e66d-4a1f-b42a-64c8fbe7a709",
         "x": {
          "buffer": {},
          "dtype": "float64",
          "shape": [
           10
          ]
         },
         "y": {
          "buffer": {},
          "dtype": "float64",
          "shape": [
           10
          ]
         },
         "z": {
          "buffer": {},
          "dtype": "float64",
          "shape": [
           10
          ]
         }
        }
       ],
       "_dom_classes": [],
       "_js2py_layoutDelta": {},
       "_js2py_pointsCallback": {},
       "_js2py_relayout": {},
       "_js2py_restyle": {},
       "_js2py_traceDeltas": {},
       "_js2py_update": {},
       "_last_layout_edit_id": 0,
       "_last_trace_edit_id": 0,
       "_layout": {
        "height": 600,
        "scene": {
         "camera": {
          "center": {
           "x": 0,
           "y": 0,
           "z": 0
          },
          "eye": {
           "x": 2,
           "y": 2,
           "z": 1.25
          },
          "up": {
           "x": 0,
           "y": 0,
           "z": 1
          }
         },
         "xaxis": {
          "title": {
           "text": "n_estimators"
          }
         },
         "yaxis": {
          "title": {
           "text": "min_leaf"
          },
          "type": "log"
         },
         "zaxis": {
          "title": {
           "text": "min_split"
          },
          "type": "log"
         }
        },
        "sliders": [
         {
          "active": 4,
          "currentvalue": {
           "prefix": "n_estimators: "
          },
          "len": 0.5,
          "pad": {
           "b": 20,
           "t": 10
          },
          "steps": [
           {
            "args": [
             "visible",
             [
              true,
              false,
              false,
              false,
              false,
              false,
              false,
              false,
              false,
              false,
              false,
              false,
              false,
              false,
              false,
              false,
              false,
              false,
              false,
              false
             ]
            ],
            "label": "151.0",
            "method": "restyle"
           },
           {
            "args": [
             "visible",
             [
              false,
              true,
              false,
              false,
              false,
              false,
              false,
              false,
              false,
              false,
              false,
              false,
              false,
              false,
              false,
              false,
              false,
              false,
              false,
              false
             ]
            ],
            "label": "267.0",
            "method": "restyle"
           },
           {
            "args": [
             "visible",
             [
              false,
              false,
              true,
              false,
              false,
              false,
              false,
              false,
              false,
              false,
              false,
              false,
              false,
              false,
              false,
              false,
              false,
              false,
              false,
              false
             ]
            ],
            "label": "384.0",
            "method": "restyle"
           },
           {
            "args": [
             "visible",
             [
              false,
              false,
              false,
              true,
              false,
              false,
              false,
              false,
              false,
              false,
              false,
              false,
              false,
              false,
              false,
              false,
              false,
              false,
              false,
              false
             ]
            ],
            "label": "500.0",
            "method": "restyle"
           },
           {
            "args": [
             "visible",
             [
              false,
              false,
              false,
              false,
              true,
              false,
              false,
              false,
              false,
              false,
              false,
              false,
              false,
              false,
              false,
              false,
              false,
              false,
              false,
              false
             ]
            ],
            "label": "617.0",
            "method": "restyle"
           },
           {
            "args": [
             "visible",
             [
              false,
              false,
              false,
              false,
              false,
              true,
              false,
              false,
              false,
              false,
              false,
              false,
              false,
              false,
              false,
              false,
              false,
              false,
              false,
              false
             ]
            ],
            "label": "733.0",
            "method": "restyle"
           },
           {
            "args": [
             "visible",
             [
              false,
              false,
              false,
              false,
              false,
              false,
              true,
              false,
              false,
              false,
              false,
              false,
              false,
              false,
              false,
              false,
              false,
              false,
              false,
              false
             ]
            ],
            "label": "850.0",
            "method": "restyle"
           },
           {
            "args": [
             "visible",
             [
              false,
              false,
              false,
              false,
              false,
              false,
              false,
              true,
              false,
              false,
              false,
              false,
              false,
              false,
              false,
              false,
              false,
              false,
              false,
              false
             ]
            ],
            "label": "966.0",
            "method": "restyle"
           },
           {
            "args": [
             "visible",
             [
              false,
              false,
              false,
              false,
              false,
              false,
              false,
              false,
              true,
              false,
              false,
              false,
              false,
              false,
              false,
              false,
              false,
              false,
              false,
              false
             ]
            ],
            "label": "1083.0",
            "method": "restyle"
           },
           {
            "args": [
             "visible",
             [
              false,
              false,
              false,
              false,
              false,
              false,
              false,
              false,
              false,
              true,
              false,
              false,
              false,
              false,
              false,
              false,
              false,
              false,
              false,
              false
             ]
            ],
            "label": "1200.0",
            "method": "restyle"
           }
          ],
          "x": 0.5,
          "xanchor": "center"
         }
        ],
        "title": {
         "text": "Cross-Validation Accuracy Varying Hyperparameters"
        },
        "width": 700
       },
       "_model_module": "plotlywidget",
       "_model_module_version": "^1.1.0",
       "_model_name": "FigureModel",
       "_py2js_addTraces": {},
       "_py2js_animate": {},
       "_py2js_deleteTraces": {},
       "_py2js_moveTraces": {},
       "_py2js_relayout": null,
       "_py2js_removeLayoutProps": {},
       "_py2js_removeTraceProps": {},
       "_py2js_restyle": {},
       "_py2js_update": {},
       "_view_count": 0,
       "_view_module": "plotlywidget",
       "_view_module_version": "^1.1.0",
       "_view_name": "FigureView"
      }
     },
     "71addeaf28cd4c05b158cb9a4a9f80eb": {
      "model_module": "@jupyter-widgets/base",
      "model_module_version": "1.2.0",
      "model_name": "LayoutModel",
      "state": {
       "_model_module": "@jupyter-widgets/base",
       "_model_module_version": "1.2.0",
       "_model_name": "LayoutModel",
       "_view_count": null,
       "_view_module": "@jupyter-widgets/base",
       "_view_module_version": "1.2.0",
       "_view_name": "LayoutView",
       "align_content": null,
       "align_items": null,
       "align_self": null,
       "border": null,
       "bottom": null,
       "display": null,
       "flex": null,
       "flex_flow": null,
       "grid_area": null,
       "grid_auto_columns": null,
       "grid_auto_flow": null,
       "grid_auto_rows": null,
       "grid_column": null,
       "grid_gap": null,
       "grid_row": null,
       "grid_template_areas": null,
       "grid_template_columns": null,
       "grid_template_rows": null,
       "height": null,
       "justify_content": null,
       "justify_items": null,
       "left": null,
       "margin": null,
       "max_height": null,
       "max_width": null,
       "min_height": null,
       "min_width": null,
       "object_fit": null,
       "object_position": null,
       "order": null,
       "overflow": null,
       "overflow_x": null,
       "overflow_y": null,
       "padding": null,
       "right": null,
       "top": null,
       "visibility": null,
       "width": "700px"
      }
     },
     "82eed30d030043e8aa3d6b21cf1f5bdc": {
      "buffers": [
       {
        "data": "btu2bdu27T8svuIrvuLtPxZf8RVf8e0/LL7iK77i7T9YfMVXfMXtP1h8xVd8xe0/Qh3UQR3U7T9YfMVXfMXtPxZf8RVf8e0/6qAO6qAO7j8svuIrvuLtPwAAAAAAAO4/AAAAAAAA7j8svuIrvuLtP1h8xVd8xe0/Qh3UQR3U7T+EOqiDOqjtPyy+4iu+4u0/btu2bdu27T/FV3zFV3ztP7D4iq/4iu0/Qh3UQR3U7T8svuIrvuLtPyy+4iu+4u0/xVd8xVd87T/FV3zFV3ztP27btm3btu0/AAAAAAAA7j8svuIrvuLtPxZf8RVf8e0/LL7iK77i7T8WX/EVX/HtP1h8xVd8xe0/btu2bdu27T9CHdRBHdTtP27btm3btu0/Qh3UQR3U7T9u27Zt27btPyy+4iu+4u0/LL7iK77i7T8WX/EVX/HtP0Id1EEd1O0/btu2bdu27T9u27Zt27btP8VXfMVXfO0/WHzFV3zF7T8svuIrvuLtP0Id1EEd1O0/btu2bdu27T9YfMVXfMXtP0Id1EEd1O0/Fl/xFV/x7T8svuIrvuLtPyy+4iu+4u0/27Zt27Zt7T9YfMVXfMXtPwAAAAAAAO4/Qh3UQR3U7T9u27Zt27btPyy+4iu+4u0/LL7iK77i7T9CHdRBHdTtPyy+4iu+4u0/Qh3UQR3U7T9CHdRBHdTtP27btm3btu0/Qh3UQR3U7T9CHdRBHdTtP1h8xVd8xe0/Fl/xFV/x7T8svuIrvuLtP1h8xVd8xe0/Fl/xFV/x7T/FV3zFV3ztP0Id1EEd1O0/Qh3UQR3U7T9CHdRBHdTtP27btm3btu0/LL7iK77i7T9CHdRBHdTtPw==",
        "encoding": "base64",
        "path": [
         "_data",
         0,
         "marker",
         "color",
         "buffer"
        ]
       },
       {
        "data": "AAAAAACwcEAAAAAAADCOQAAAAAAAsHBAAAAAAACQikAAAAAAAOiGQAAAAAAAwJJAAAAAAACwcEAAAAAAAEB/QAAAAAAAwJJAAAAAAABAf0AAAAAAAAB4QAAAAAAASINAAAAAAABAf0AAAAAAAAB4QAAAAAAAsHBAAAAAAADgYkAAAAAAAOBiQAAAAAAASINAAAAAAAAAeEAAAAAAAEB/QAAAAAAA4GJAAAAAAABAf0AAAAAAAMCSQAAAAAAAsHBAAAAAAAAAeEAAAAAAAJCKQAAAAAAAMI5AAAAAAADAkkAAAAAAALBwQAAAAAAAMI5AAAAAAADskEAAAAAAAAB4QAAAAAAASINAAAAAAABAf0AAAAAAAEB/QAAAAAAA7JBAAAAAAADgYkAAAAAAADCOQAAAAAAAsHBAAAAAAADohkAAAAAAAMCSQAAAAAAAwJJAAAAAAACwcEAAAAAAAEB/QAAAAAAAkIpAAAAAAAAAeEAAAAAAAOyQQAAAAAAA6IZAAAAAAACwcEAAAAAAAJCKQAAAAAAAMI5AAAAAAABAf0AAAAAAAJCKQAAAAAAAkIpAAAAAAAAAeEAAAAAAAMCSQAAAAAAASINAAAAAAACwcEAAAAAAAEiDQAAAAAAAAHhAAAAAAADohkAAAAAAALBwQAAAAAAAwJJAAAAAAADskEAAAAAAAAB4QAAAAAAA7JBAAAAAAADgYkAAAAAAAEB/QAAAAAAA7JBAAAAAAACwcEAAAAAAAMCSQAAAAAAAwJJAAAAAAADohkAAAAAAADCOQAAAAAAAkIpAAAAAAADgYkAAAAAAAOiGQAAAAAAAkIpAAAAAAAAwjkAAAAAAAJCKQA==",
        "encoding": "base64",
        "path": [
         "_data",
         0,
         "x",
         "buffer"
        ]
       },
       {
        "data": "AAAAAAAAEEAAAAAAAAAgQAAAAAAAACBAAAAAAAAAEEAAAAAAAAAgQAAAAAAAACBAAAAAAAAAGEAAAAAAAAAYQAAAAAAAABhAAAAAAAAAEEAAAAAAAAAYQAAAAAAAABBAAAAAAAAAGEAAAAAAAAAYQAAAAAAAABBAAAAAAAAAGEAAAAAAAAAYQAAAAAAAABhAAAAAAAAAKEAAAAAAAAAoQAAAAAAAAChAAAAAAAAAIEAAAAAAAAAYQAAAAAAAACBAAAAAAAAAKEAAAAAAAAAoQAAAAAAAAChAAAAAAAAAEEAAAAAAAAAYQAAAAAAAABBAAAAAAAAAIEAAAAAAAAAQQAAAAAAAACBAAAAAAAAAKEAAAAAAAAAgQAAAAAAAAChAAAAAAAAAEEAAAAAAAAAoQAAAAAAAABBAAAAAAAAAGEAAAAAAAAAQQAAAAAAAACBAAAAAAAAAGEAAAAAAAAAoQAAAAAAAAChAAAAAAAAAGEAAAAAAAAAYQAAAAAAAACBAAAAAAAAAKEAAAAAAAAAoQAAAAAAAAChAAAAAAAAAIEAAAAAAAAAgQAAAAAAAACBAAAAAAAAAKEAAAAAAAAAQQAAAAAAAABBAAAAAAAAAGEAAAAAAAAAgQAAAAAAAACBAAAAAAAAAGEAAAAAAAAAYQAAAAAAAABhAAAAAAAAAKEAAAAAAAAAYQAAAAAAAAChAAAAAAAAAKEAAAAAAAAAgQAAAAAAAACBAAAAAAAAAEEAAAAAAAAAQQAAAAAAAABhAAAAAAAAAGEAAAAAAAAAoQAAAAAAAABhAAAAAAAAAIEAAAAAAAAAgQAAAAAAAAChAAAAAAAAAGEAAAAAAAAAoQA==",
        "encoding": "base64",
        "path": [
         "_data",
         0,
         "y",
         "buffer"
        ]
       },
       {
        "data": "AAAAAAAALEAAAAAAAAAkQAAAAAAAABRAAAAAAAAAFEAAAAAAAAAcQAAAAAAAACxAAAAAAAAAJEAAAAAAAAAUQAAAAAAAACxAAAAAAAAAHEAAAAAAAAAsQAAAAAAAABRAAAAAAAAAJEAAAAAAAAAsQAAAAAAAACRAAAAAAAAAJEAAAAAAAAAkQAAAAAAAACRAAAAAAAAAJEAAAAAAAAAcQAAAAAAAACRAAAAAAAAAHEAAAAAAAAAUQAAAAAAAACxAAAAAAAAAFEAAAAAAAAAcQAAAAAAAACRAAAAAAAAAJEAAAAAAAAAcQAAAAAAAACRAAAAAAAAAHEAAAAAAAAAcQAAAAAAAACRAAAAAAAAALEAAAAAAAAAUQAAAAAAAACxAAAAAAAAAHEAAAAAAAAAUQAAAAAAAABxAAAAAAAAAHEAAAAAAAAAUQAAAAAAAACxAAAAAAAAAFEAAAAAAAAAkQAAAAAAAABxAAAAAAAAAJEAAAAAAAAAkQAAAAAAAACxAAAAAAAAAHEAAAAAAAAAsQAAAAAAAABRAAAAAAAAAJEAAAAAAAAAkQAAAAAAAACxAAAAAAAAALEAAAAAAAAAsQAAAAAAAABxAAAAAAAAAFEAAAAAAAAAUQAAAAAAAABRAAAAAAAAAHEAAAAAAAAAsQAAAAAAAACxAAAAAAAAAFEAAAAAAAAAcQAAAAAAAABxAAAAAAAAAJEAAAAAAAAAsQAAAAAAAABRAAAAAAAAAHEAAAAAAAAAcQAAAAAAAACxAAAAAAAAAJEAAAAAAAAAsQAAAAAAAABxAAAAAAAAAJEAAAAAAAAAcQAAAAAAAACRAAAAAAAAAJEAAAAAAAAAUQA==",
        "encoding": "base64",
        "path": [
         "_data",
         0,
         "z",
         "buffer"
        ]
       }
      ],
      "model_module": "plotlywidget",
      "model_module_version": "^1.1.0",
      "model_name": "FigureModel",
      "state": {
       "_config": {
        "plotlyServerURL": "https://plot.ly"
       },
       "_data": [
        {
         "hoverinfo": "text",
         "marker": {
          "color": {
           "buffer": {},
           "dtype": "float64",
           "shape": [
            80
           ]
          },
          "colorbar": {
           "title": {
            "text": "Cross-Validation Accuracy"
           }
          },
          "colorscale": [
           [
            0,
            "rgb(0,0,131)"
           ],
           [
            0.2,
            "rgb(0,60,170)"
           ],
           [
            0.4,
            "rgb(5,255,255)"
           ],
           [
            0.6,
            "rgb(255,255,0)"
           ],
           [
            0.8,
            "rgb(250,0,0)"
           ],
           [
            1,
            "rgb(128,0,0)"
           ]
          ],
          "size": 7
         },
         "mode": "markers",
         "text": [
          "max_features: log2<br>n_estimators: 267.0<br>min_samples_split: 14.0<br>Test score: 0.929<br>Training time: 0.708 s",
          "max_features: sqrt<br>n_estimators: 966.0<br>min_samples_split: 10.0<br>Test score: 0.934<br>Training time: 2.804 s",
          "max_features: auto<br>n_estimators: 267.0<br>min_samples_split: 5.0<br>Test score: 0.936<br>Training time: 0.791 s",
          "max_features: log2<br>n_estimators: 850.0<br>min_samples_split: 5.0<br>Test score: 0.934<br>Training time: 2.288 s",
          "max_features: None<br>n_estimators: 733.0<br>min_samples_split: 7.0<br>Test score: 0.93<br>Training time: 2.464 s",
          "max_features: None<br>n_estimators: 1200.0<br>min_samples_split: 14.0<br>Test score: 0.93<br>Training time: 4.027 s",
          "max_features: log2<br>n_estimators: 267.0<br>min_samples_split: 10.0<br>Test score: 0.932<br>Training time: 0.788 s",
          "max_features: sqrt<br>n_estimators: 500.0<br>min_samples_split: 5.0<br>Test score: 0.93<br>Training time: 1.327 s",
          "max_features: sqrt<br>n_estimators: 1200.0<br>min_samples_split: 14.0<br>Test score: 0.936<br>Training time: 3.539 s",
          "max_features: log2<br>n_estimators: 500.0<br>min_samples_split: 7.0<br>Test score: 0.939<br>Training time: 1.502 s",
          "max_features: None<br>n_estimators: 384.0<br>min_samples_split: 14.0<br>Test score: 0.934<br>Training time: 1.285 s",
          "max_features: auto<br>n_estimators: 617.0<br>min_samples_split: 5.0<br>Test score: 0.938<br>Training time: 1.862 s",
          "max_features: auto<br>n_estimators: 500.0<br>min_samples_split: 10.0<br>Test score: 0.938<br>Training time: 1.483 s",
          "max_features: None<br>n_estimators: 384.0<br>min_samples_split: 14.0<br>Test score: 0.934<br>Training time: 1.301 s",
          "max_features: None<br>n_estimators: 267.0<br>min_samples_split: 10.0<br>Test score: 0.93<br>Training time: 0.773 s",
          "max_features: auto<br>n_estimators: 151.0<br>min_samples_split: 10.0<br>Test score: 0.932<br>Training time: 0.441 s",
          "max_features: sqrt<br>n_estimators: 151.0<br>min_samples_split: 10.0<br>Test score: 0.927<br>Training time: 0.411 s",
          "max_features: auto<br>n_estimators: 617.0<br>min_samples_split: 10.0<br>Test score: 0.934<br>Training time: 1.82 s",
          "max_features: None<br>n_estimators: 384.0<br>min_samples_split: 10.0<br>Test score: 0.929<br>Training time: 1.251 s",
          "max_features: auto<br>n_estimators: 500.0<br>min_samples_split: 7.0<br>Test score: 0.921<br>Training time: 1.372 s",
          "max_features: auto<br>n_estimators: 151.0<br>min_samples_split: 10.0<br>Test score: 0.923<br>Training time: 0.396 s",
          "max_features: auto<br>n_estimators: 500.0<br>min_samples_split: 7.0<br>Test score: 0.932<br>Training time: 1.499 s",
          "max_features: auto<br>n_estimators: 1200.0<br>min_samples_split: 5.0<br>Test score: 0.934<br>Training time: 3.666 s",
          "max_features: auto<br>n_estimators: 267.0<br>min_samples_split: 14.0<br>Test score: 0.934<br>Training time: 0.712 s",
          "max_features: auto<br>n_estimators: 384.0<br>min_samples_split: 5.0<br>Test score: 0.921<br>Training time: 1.018 s",
          "max_features: auto<br>n_estimators: 850.0<br>min_samples_split: 7.0<br>Test score: 0.921<br>Training time: 2.217 s",
          "max_features: None<br>n_estimators: 966.0<br>min_samples_split: 10.0<br>Test score: 0.929<br>Training time: 3.108 s",
          "max_features: auto<br>n_estimators: 1200.0<br>min_samples_split: 10.0<br>Test score: 0.938<br>Training time: 3.568 s",
          "max_features: log2<br>n_estimators: 267.0<br>min_samples_split: 7.0<br>Test score: 0.934<br>Training time: 0.799 s",
          "max_features: sqrt<br>n_estimators: 966.0<br>min_samples_split: 10.0<br>Test score: 0.936<br>Training time: 2.878 s",
          "max_features: log2<br>n_estimators: 1083.0<br>min_samples_split: 7.0<br>Test score: 0.934<br>Training time: 3.185 s",
          "max_features: sqrt<br>n_estimators: 384.0<br>min_samples_split: 7.0<br>Test score: 0.936<br>Training time: 1.038 s",
          "max_features: None<br>n_estimators: 617.0<br>min_samples_split: 10.0<br>Test score: 0.93<br>Training time: 1.792 s",
          "max_features: None<br>n_estimators: 500.0<br>min_samples_split: 14.0<br>Test score: 0.929<br>Training time: 1.602 s",
          "max_features: log2<br>n_estimators: 500.0<br>min_samples_split: 5.0<br>Test score: 0.932<br>Training time: 1.473 s",
          "max_features: None<br>n_estimators: 1083.0<br>min_samples_split: 14.0<br>Test score: 0.929<br>Training time: 3.505 s",
          "max_features: auto<br>n_estimators: 151.0<br>min_samples_split: 7.0<br>Test score: 0.932<br>Training time: 0.41 s",
          "max_features: None<br>n_estimators: 966.0<br>min_samples_split: 5.0<br>Test score: 0.929<br>Training time: 3.147 s",
          "max_features: None<br>n_estimators: 267.0<br>min_samples_split: 7.0<br>Test score: 0.934<br>Training time: 0.796 s",
          "max_features: sqrt<br>n_estimators: 733.0<br>min_samples_split: 7.0<br>Test score: 0.934<br>Training time: 1.977 s",
          "max_features: None<br>n_estimators: 1200.0<br>min_samples_split: 5.0<br>Test score: 0.936<br>Training time: 4.213 s",
          "max_features: auto<br>n_estimators: 1200.0<br>min_samples_split: 14.0<br>Test score: 0.932<br>Training time: 3.173 s",
          "max_features: sqrt<br>n_estimators: 267.0<br>min_samples_split: 5.0<br>Test score: 0.929<br>Training time: 0.714 s",
          "max_features: None<br>n_estimators: 500.0<br>min_samples_split: 10.0<br>Test score: 0.929<br>Training time: 1.625 s",
          "max_features: auto<br>n_estimators: 850.0<br>min_samples_split: 7.0<br>Test score: 0.921<br>Training time: 2.244 s",
          "max_features: auto<br>n_estimators: 384.0<br>min_samples_split: 10.0<br>Test score: 0.93<br>Training time: 1.045 s",
          "max_features: None<br>n_estimators: 1083.0<br>min_samples_split: 10.0<br>Test score: 0.934<br>Training time: 3.782 s",
          "max_features: None<br>n_estimators: 733.0<br>min_samples_split: 14.0<br>Test score: 0.932<br>Training time: 2.468 s",
          "max_features: None<br>n_estimators: 267.0<br>min_samples_split: 7.0<br>Test score: 0.929<br>Training time: 0.857 s",
          "max_features: auto<br>n_estimators: 850.0<br>min_samples_split: 14.0<br>Test score: 0.93<br>Training time: 2.436 s",
          "max_features: log2<br>n_estimators: 966.0<br>min_samples_split: 5.0<br>Test score: 0.932<br>Training time: 2.854 s",
          "max_features: sqrt<br>n_estimators: 500.0<br>min_samples_split: 10.0<br>Test score: 0.936<br>Training time: 1.532 s",
          "max_features: sqrt<br>n_estimators: 850.0<br>min_samples_split: 10.0<br>Test score: 0.934<br>Training time: 2.567 s",
          "max_features: log2<br>n_estimators: 850.0<br>min_samples_split: 14.0<br>Test score: 0.934<br>Training time: 2.491 s",
          "max_features: sqrt<br>n_estimators: 384.0<br>min_samples_split: 14.0<br>Test score: 0.92<br>Training time: 1.002 s",
          "max_features: log2<br>n_estimators: 1200.0<br>min_samples_split: 14.0<br>Test score: 0.93<br>Training time: 3.235 s",
          "max_features: None<br>n_estimators: 617.0<br>min_samples_split: 7.0<br>Test score: 0.938<br>Training time: 2.146 s",
          "max_features: sqrt<br>n_estimators: 267.0<br>min_samples_split: 5.0<br>Test score: 0.932<br>Training time: 0.794 s",
          "max_features: None<br>n_estimators: 617.0<br>min_samples_split: 5.0<br>Test score: 0.929<br>Training time: 1.781 s",
          "max_features: log2<br>n_estimators: 384.0<br>min_samples_split: 5.0<br>Test score: 0.934<br>Training time: 1.111 s",
          "max_features: log2<br>n_estimators: 733.0<br>min_samples_split: 7.0<br>Test score: 0.934<br>Training time: 2.134 s",
          "max_features: auto<br>n_estimators: 267.0<br>min_samples_split: 14.0<br>Test score: 0.932<br>Training time: 0.795 s",
          "max_features: log2<br>n_estimators: 1200.0<br>min_samples_split: 14.0<br>Test score: 0.934<br>Training time: 3.534 s",
          "max_features: auto<br>n_estimators: 1083.0<br>min_samples_split: 5.0<br>Test score: 0.932<br>Training time: 3.09 s",
          "max_features: log2<br>n_estimators: 384.0<br>min_samples_split: 7.0<br>Test score: 0.932<br>Training time: 1.031 s",
          "max_features: None<br>n_estimators: 1083.0<br>min_samples_split: 7.0<br>Test score: 0.929<br>Training time: 3.456 s",
          "max_features: auto<br>n_estimators: 151.0<br>min_samples_split: 10.0<br>Test score: 0.932<br>Training time: 0.438 s",
          "max_features: sqrt<br>n_estimators: 500.0<br>min_samples_split: 14.0<br>Test score: 0.932<br>Training time: 1.328 s",
          "max_features: sqrt<br>n_estimators: 1083.0<br>min_samples_split: 5.0<br>Test score: 0.93<br>Training time: 2.886 s",
          "max_features: log2<br>n_estimators: 267.0<br>min_samples_split: 7.0<br>Test score: 0.936<br>Training time: 0.806 s",
          "max_features: None<br>n_estimators: 1200.0<br>min_samples_split: 7.0<br>Test score: 0.934<br>Training time: 3.546 s",
          "max_features: auto<br>n_estimators: 1200.0<br>min_samples_split: 14.0<br>Test score: 0.93<br>Training time: 3.24 s",
          "max_features: sqrt<br>n_estimators: 733.0<br>min_samples_split: 10.0<br>Test score: 0.936<br>Training time: 2.188 s",
          "max_features: log2<br>n_estimators: 966.0<br>min_samples_split: 14.0<br>Test score: 0.921<br>Training time: 2.544 s",
          "max_features: None<br>n_estimators: 850.0<br>min_samples_split: 7.0<br>Test score: 0.932<br>Training time: 2.441 s",
          "max_features: log2<br>n_estimators: 151.0<br>min_samples_split: 10.0<br>Test score: 0.932<br>Training time: 0.442 s",
          "max_features: None<br>n_estimators: 733.0<br>min_samples_split: 7.0<br>Test score: 0.932<br>Training time: 2.43 s",
          "max_features: None<br>n_estimators: 850.0<br>min_samples_split: 10.0<br>Test score: 0.929<br>Training time: 2.733 s",
          "max_features: None<br>n_estimators: 966.0<br>min_samples_split: 10.0<br>Test score: 0.934<br>Training time: 2.773 s",
          "max_features: sqrt<br>n_estimators: 850.0<br>min_samples_split: 5.0<br>Test score: 0.932<br>Training time: 2.426 s"
         ],
         "type": "scatter3d",
         "uid": "fb54caa1-b0f5-4fe0-bdfe-4314a1a9355d",
         "x": {
          "buffer": {},
          "dtype": "float64",
          "shape": [
           80
          ]
         },
         "y": {
          "buffer": {},
          "dtype": "float64",
          "shape": [
           80
          ]
         },
         "z": {
          "buffer": {},
          "dtype": "float64",
          "shape": [
           80
          ]
         }
        }
       ],
       "_dom_classes": [],
       "_js2py_layoutDelta": {},
       "_js2py_pointsCallback": {},
       "_js2py_relayout": {},
       "_js2py_restyle": {},
       "_js2py_traceDeltas": {},
       "_js2py_update": {},
       "_last_layout_edit_id": 0,
       "_last_trace_edit_id": 0,
       "_layout": {
        "scene": {
         "camera": {
          "center": {
           "x": 0,
           "y": 0,
           "z": 0
          },
          "eye": {
           "x": 2,
           "y": 2,
           "z": 1.25
          },
          "up": {
           "x": 0,
           "y": 0,
           "z": 1
          }
         },
         "xaxis": {
          "range": [
           151,
           1200
          ],
          "title": {
           "text": "n_estimators"
          }
         },
         "yaxis": {
          "title": {
           "text": "min_leaf"
          },
          "type": "log"
         },
         "zaxis": {
          "title": {
           "text": "min_split"
          },
          "type": "log"
         }
        }
       },
       "_model_module": "plotlywidget",
       "_model_module_version": "^1.1.0",
       "_model_name": "FigureModel",
       "_py2js_addTraces": {},
       "_py2js_animate": {},
       "_py2js_deleteTraces": {},
       "_py2js_moveTraces": {},
       "_py2js_relayout": null,
       "_py2js_removeLayoutProps": {},
       "_py2js_removeTraceProps": {},
       "_py2js_restyle": {},
       "_py2js_update": {},
       "_view_count": 0,
       "_view_module": "plotlywidget",
       "_view_module_version": "^1.1.0",
       "_view_name": "FigureView"
      }
     },
     "8569fef814574358b78c943e2e84ebb6": {
      "model_module": "@jupyter-widgets/controls",
      "model_module_version": "1.5.0",
      "model_name": "DescriptionStyleModel",
      "state": {
       "_model_module": "@jupyter-widgets/controls",
       "_model_module_version": "1.5.0",
       "_model_name": "DescriptionStyleModel",
       "_view_count": null,
       "_view_module": "@jupyter-widgets/base",
       "_view_module_version": "1.2.0",
       "_view_name": "StyleView",
       "description_width": ""
      }
     },
     "a593b51bbcb24163a9a6a6017e4ad3a7": {
      "model_module": "@jupyter-widgets/base",
      "model_module_version": "1.2.0",
      "model_name": "LayoutModel",
      "state": {
       "_model_module": "@jupyter-widgets/base",
       "_model_module_version": "1.2.0",
       "_model_name": "LayoutModel",
       "_view_count": null,
       "_view_module": "@jupyter-widgets/base",
       "_view_module_version": "1.2.0",
       "_view_name": "LayoutView",
       "align_content": null,
       "align_items": "center",
       "align_self": null,
       "border": null,
       "bottom": null,
       "display": null,
       "flex": null,
       "flex_flow": null,
       "grid_area": null,
       "grid_auto_columns": null,
       "grid_auto_flow": null,
       "grid_auto_rows": null,
       "grid_column": null,
       "grid_gap": null,
       "grid_row": null,
       "grid_template_areas": null,
       "grid_template_columns": null,
       "grid_template_rows": null,
       "height": null,
       "justify_content": null,
       "justify_items": null,
       "left": null,
       "margin": null,
       "max_height": null,
       "max_width": null,
       "min_height": null,
       "min_width": null,
       "object_fit": null,
       "object_position": null,
       "order": null,
       "overflow": null,
       "overflow_x": null,
       "overflow_y": null,
       "padding": null,
       "right": null,
       "top": null,
       "visibility": null,
       "width": null
      }
     },
     "ac52e5b2f4c741a9918c093ea7ac75dc": {
      "model_module": "@jupyter-widgets/base",
      "model_module_version": "1.2.0",
      "model_name": "LayoutModel",
      "state": {
       "_model_module": "@jupyter-widgets/base",
       "_model_module_version": "1.2.0",
       "_model_name": "LayoutModel",
       "_view_count": null,
       "_view_module": "@jupyter-widgets/base",
       "_view_module_version": "1.2.0",
       "_view_name": "LayoutView",
       "align_content": null,
       "align_items": null,
       "align_self": null,
       "border": null,
       "bottom": null,
       "display": null,
       "flex": null,
       "flex_flow": null,
       "grid_area": null,
       "grid_auto_columns": null,
       "grid_auto_flow": null,
       "grid_auto_rows": null,
       "grid_column": null,
       "grid_gap": null,
       "grid_row": null,
       "grid_template_areas": null,
       "grid_template_columns": null,
       "grid_template_rows": null,
       "height": null,
       "justify_content": null,
       "justify_items": null,
       "left": null,
       "margin": null,
       "max_height": null,
       "max_width": null,
       "min_height": null,
       "min_width": null,
       "object_fit": null,
       "object_position": null,
       "order": null,
       "overflow": null,
       "overflow_x": null,
       "overflow_y": null,
       "padding": null,
       "right": null,
       "top": null,
       "visibility": null,
       "width": null
      }
     },
     "c081de3dd04e4990a5aceb649036b2ee": {
      "model_module": "@jupyter-widgets/controls",
      "model_module_version": "1.5.0",
      "model_name": "VBoxModel",
      "state": {
       "_dom_classes": [],
       "_model_module": "@jupyter-widgets/controls",
       "_model_module_version": "1.5.0",
       "_model_name": "VBoxModel",
       "_view_count": null,
       "_view_module": "@jupyter-widgets/controls",
       "_view_module_version": "1.5.0",
       "_view_name": "VBoxView",
       "box_style": "",
       "children": [
        "IPY_MODEL_e26bc368dfa7416aa05d4c6410ba14d2",
        "IPY_MODEL_82eed30d030043e8aa3d6b21cf1f5bdc"
       ],
       "layout": "IPY_MODEL_a593b51bbcb24163a9a6a6017e4ad3a7"
      }
     },
     "db28100bd8fb4215bb89113829876699": {
      "model_module": "@jupyter-widgets/base",
      "model_module_version": "1.2.0",
      "model_name": "LayoutModel",
      "state": {
       "_model_module": "@jupyter-widgets/base",
       "_model_module_version": "1.2.0",
       "_model_name": "LayoutModel",
       "_view_count": null,
       "_view_module": "@jupyter-widgets/base",
       "_view_module_version": "1.2.0",
       "_view_name": "LayoutView",
       "align_content": null,
       "align_items": null,
       "align_self": null,
       "border": null,
       "bottom": null,
       "display": null,
       "flex": null,
       "flex_flow": null,
       "grid_area": null,
       "grid_auto_columns": null,
       "grid_auto_flow": null,
       "grid_auto_rows": null,
       "grid_column": null,
       "grid_gap": null,
       "grid_row": null,
       "grid_template_areas": null,
       "grid_template_columns": null,
       "grid_template_rows": null,
       "height": null,
       "justify_content": null,
       "justify_items": null,
       "left": null,
       "margin": null,
       "max_height": null,
       "max_width": null,
       "min_height": null,
       "min_width": null,
       "object_fit": null,
       "object_position": null,
       "order": null,
       "overflow": null,
       "overflow_x": null,
       "overflow_y": null,
       "padding": null,
       "right": null,
       "top": null,
       "visibility": null,
       "width": null
      }
     },
     "e05e9e56bafe477da9bf29f7557d3682": {
      "model_module": "@jupyter-widgets/base",
      "model_module_version": "1.2.0",
      "model_name": "LayoutModel",
      "state": {
       "_model_module": "@jupyter-widgets/base",
       "_model_module_version": "1.2.0",
       "_model_name": "LayoutModel",
       "_view_count": null,
       "_view_module": "@jupyter-widgets/base",
       "_view_module_version": "1.2.0",
       "_view_name": "LayoutView",
       "align_content": null,
       "align_items": null,
       "align_self": null,
       "border": null,
       "bottom": null,
       "display": null,
       "flex": null,
       "flex_flow": null,
       "grid_area": null,
       "grid_auto_columns": null,
       "grid_auto_flow": null,
       "grid_auto_rows": null,
       "grid_column": null,
       "grid_gap": null,
       "grid_row": null,
       "grid_template_areas": null,
       "grid_template_columns": null,
       "grid_template_rows": null,
       "height": null,
       "justify_content": null,
       "justify_items": null,
       "left": null,
       "margin": null,
       "max_height": null,
       "max_width": null,
       "min_height": null,
       "min_width": null,
       "object_fit": null,
       "object_position": null,
       "order": null,
       "overflow": null,
       "overflow_x": null,
       "overflow_y": null,
       "padding": null,
       "right": null,
       "top": null,
       "visibility": null,
       "width": null
      }
     },
     "e137e74a5fbf44f5a344652df1758136": {
      "model_module": "@jupyter-widgets/controls",
      "model_module_version": "1.5.0",
      "model_name": "HBoxModel",
      "state": {
       "_dom_classes": [],
       "_model_module": "@jupyter-widgets/controls",
       "_model_module_version": "1.5.0",
       "_model_name": "HBoxModel",
       "_view_count": null,
       "_view_module": "@jupyter-widgets/controls",
       "_view_module_version": "1.5.0",
       "_view_name": "HBoxView",
       "box_style": "",
       "children": [
        "IPY_MODEL_5809f5689316448ba6fc3107aebbeef0",
        "IPY_MODEL_4e9db7d701b3493185a5c24f3cf6a574"
       ],
       "layout": "IPY_MODEL_eb3cbb92d22243b0aeade382fa708927"
      }
     },
     "e26bc368dfa7416aa05d4c6410ba14d2": {
      "model_module": "@jupyter-widgets/controls",
      "model_module_version": "1.5.0",
      "model_name": "VBoxModel",
      "state": {
       "_dom_classes": [
        "widget-interact"
       ],
       "_model_module": "@jupyter-widgets/controls",
       "_model_module_version": "1.5.0",
       "_model_name": "VBoxModel",
       "_view_count": null,
       "_view_module": "@jupyter-widgets/controls",
       "_view_module_version": "1.5.0",
       "_view_name": "VBoxView",
       "box_style": "",
       "children": [
        "IPY_MODEL_e67877a433cf45af84c9e36a34ff0a25",
        "IPY_MODEL_36cd42a679a342229c3018ca2b3ecc75"
       ],
       "layout": "IPY_MODEL_49026c7c41fc4e4197c4c549512d1fb3"
      }
     },
     "e67877a433cf45af84c9e36a34ff0a25": {
      "model_module": "@jupyter-widgets/controls",
      "model_module_version": "1.5.0",
      "model_name": "FloatRangeSliderModel",
      "state": {
       "_dom_classes": [],
       "_model_module": "@jupyter-widgets/controls",
       "_model_module_version": "1.5.0",
       "_model_name": "FloatRangeSliderModel",
       "_view_count": null,
       "_view_module": "@jupyter-widgets/controls",
       "_view_module_version": "1.5.0",
       "_view_name": "FloatRangeSliderView",
       "continuous_update": true,
       "description": "n_estimators",
       "description_tooltip": null,
       "disabled": false,
       "layout": "IPY_MODEL_71addeaf28cd4c05b158cb9a4a9f80eb",
       "max": 1200,
       "min": 151,
       "orientation": "horizontal",
       "readout": true,
       "readout_format": ".2f",
       "step": 20.98,
       "style": "IPY_MODEL_647f8c7dea0649c9840ee677d8c1892c",
       "value": [
        151,
        1200
       ]
      }
     },
     "eb3cbb92d22243b0aeade382fa708927": {
      "model_module": "@jupyter-widgets/base",
      "model_module_version": "1.2.0",
      "model_name": "LayoutModel",
      "state": {
       "_model_module": "@jupyter-widgets/base",
       "_model_module_version": "1.2.0",
       "_model_name": "LayoutModel",
       "_view_count": null,
       "_view_module": "@jupyter-widgets/base",
       "_view_module_version": "1.2.0",
       "_view_name": "LayoutView",
       "align_content": null,
       "align_items": null,
       "align_self": null,
       "border": null,
       "bottom": null,
       "display": null,
       "flex": null,
       "flex_flow": null,
       "grid_area": null,
       "grid_auto_columns": null,
       "grid_auto_flow": null,
       "grid_auto_rows": null,
       "grid_column": null,
       "grid_gap": null,
       "grid_row": null,
       "grid_template_areas": null,
       "grid_template_columns": null,
       "grid_template_rows": null,
       "height": null,
       "justify_content": null,
       "justify_items": null,
       "left": null,
       "margin": null,
       "max_height": null,
       "max_width": null,
       "min_height": null,
       "min_width": null,
       "object_fit": null,
       "object_position": null,
       "order": null,
       "overflow": null,
       "overflow_x": null,
       "overflow_y": null,
       "padding": null,
       "right": null,
       "top": null,
       "visibility": null,
       "width": null
      }
     }
    },
    "version_major": 2,
    "version_minor": 0
   }
  }
 },
 "nbformat": 4,
 "nbformat_minor": 1
}
