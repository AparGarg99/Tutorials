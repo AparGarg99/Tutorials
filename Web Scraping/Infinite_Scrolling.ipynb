{
 "cells": [
  {
   "cell_type": "markdown",
   "id": "8854b3e7",
   "metadata": {},
   "source": [
    "# Import dependencies"
   ]
  },
  {
   "cell_type": "code",
   "execution_count": 1,
   "id": "11f8427f",
   "metadata": {},
   "outputs": [],
   "source": [
    "from webdriver_manager.chrome import ChromeDriverManager\n",
    "import undetected_chromedriver as uc\n",
    "from fake_useragent import UserAgent\n",
    "import time"
   ]
  },
  {
   "cell_type": "markdown",
   "id": "f2d0f148",
   "metadata": {},
   "source": [
    "# Open web browser"
   ]
  },
  {
   "cell_type": "code",
   "execution_count": 2,
   "id": "0b8a5ec6",
   "metadata": {},
   "outputs": [
    {
     "name": "stderr",
     "output_type": "stream",
     "text": [
      "\n",
      "\n",
      "====== WebDriver manager ======\n",
      "Current google-chrome version is 103.0.5060\n",
      "Get LATEST chromedriver version for 103.0.5060 google-chrome\n",
      "Driver [C:\\Users\\apar\\.wdm\\drivers\\chromedriver\\win32\\103.0.5060.134\\chromedriver.exe] found in cache\n"
     ]
    }
   ],
   "source": [
    "ua = UserAgent()\n",
    "chrome_options = uc.ChromeOptions()\n",
    "chrome_options.add_argument(\"--window-size=1920,1080\")\n",
    "chrome_options.add_argument(\"--disable-extensions\")\n",
    "chrome_options.add_argument('--disable-notifications')\n",
    "chrome_options.add_argument(\"--mute-audio\")\n",
    "chrome_options.add_argument(\"--start-maximized\")\n",
    "chrome_options.add_argument('--disable-gpu')\n",
    "chrome_options.add_argument('--disable-dev-shm-usage')\n",
    "chrome_options.add_argument('--ignore-certificate-errors')\n",
    "chrome_options.add_argument('--incognito')\n",
    "chrome_options.add_argument(f\"user-agent={ua['google chrome']}\")\n",
    "driver = uc.Chrome(executable_path=ChromeDriverManager().install(), \n",
    "                   options=chrome_options)\n",
    "time.sleep(10)"
   ]
  },
  {
   "cell_type": "markdown",
   "id": "e698300b",
   "metadata": {},
   "source": [
    "# Open web page"
   ]
  },
  {
   "cell_type": "code",
   "execution_count": 3,
   "id": "3c99e5f9",
   "metadata": {},
   "outputs": [],
   "source": [
    "driver.get(f'https://www.zomato.com/ncr')\n",
    "time.sleep(10)"
   ]
  },
  {
   "cell_type": "markdown",
   "id": "5c7809b7",
   "metadata": {},
   "source": [
    "# Scroll page"
   ]
  },
  {
   "cell_type": "code",
   "execution_count": 5,
   "id": "0748bc31",
   "metadata": {},
   "outputs": [],
   "source": [
    "# set load time\n",
    "scroll_pause_time = 5 \n",
    "\n",
    "# Get screen height\n",
    "screen_height = driver.execute_script(\"return window.screen.height;\")  \n",
    "i = 1\n",
    "\n",
    "while True:\n",
    "    # scroll one screen height each time\n",
    "    driver.execute_script(f\"window.scrollTo(0, {screen_height}*{i});\")\n",
    "    i += 1\n",
    "    \n",
    "    # Wait to load page\n",
    "    time.sleep(scroll_pause_time)\n",
    "    \n",
    "    # update scroll height each time after scrolled, as the scroll height can change after we scrolled the page\n",
    "    scroll_height = driver.execute_script(\"return document.body.scrollHeight;\")\n",
    "    \n",
    "    # Break the loop when the height we need to scroll is larger than the total scroll height\n",
    "    if (screen_height) * i > scroll_height:\n",
    "        break\n",
    "        \n",
    "time.sleep(10)\n",
    "driver.quit()"
   ]
  }
 ],
 "metadata": {
  "kernelspec": {
   "display_name": "Python 3 (ipykernel)",
   "language": "python",
   "name": "python3"
  },
  "language_info": {
   "codemirror_mode": {
    "name": "ipython",
    "version": 3
   },
   "file_extension": ".py",
   "mimetype": "text/x-python",
   "name": "python",
   "nbconvert_exporter": "python",
   "pygments_lexer": "ipython3",
   "version": "3.7.6"
  }
 },
 "nbformat": 4,
 "nbformat_minor": 5
}
